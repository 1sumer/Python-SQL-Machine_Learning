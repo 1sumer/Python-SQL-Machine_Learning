{
 "cells": [
  {
   "cell_type": "code",
   "execution_count": 52,
   "metadata": {},
   "outputs": [],
   "source": [
    "import pandas as pd\n",
    "import numpy as np\n",
    "import matplotlib.pyplot as plt\n",
    "import seaborn as sns\n",
    "from sklearn.model_selection import train_test_split\n",
    "from sklearn.linear_model import LinearRegression\n",
    "from sklearn.metrics import mean_squared_error, r2_score, mean_absolute_error"
   ]
  },
  {
   "cell_type": "code",
   "execution_count": 53,
   "metadata": {},
   "outputs": [],
   "source": [
    "#pip install scikit-learn"
   ]
  },
  {
   "cell_type": "code",
   "execution_count": 54,
   "metadata": {},
   "outputs": [
    {
     "data": {
      "application/vnd.microsoft.datawrangler.viewer.v0+json": {
       "columns": [
        {
         "name": "index",
         "rawType": "int64",
         "type": "integer"
        },
        {
         "name": "Transaction date",
         "rawType": "object",
         "type": "string"
        },
        {
         "name": "House age",
         "rawType": "float64",
         "type": "float"
        },
        {
         "name": "Distance to the nearest MRT station",
         "rawType": "float64",
         "type": "float"
        },
        {
         "name": "Number of convenience stores",
         "rawType": "int64",
         "type": "integer"
        },
        {
         "name": "Latitude",
         "rawType": "float64",
         "type": "float"
        },
        {
         "name": "Longitude",
         "rawType": "float64",
         "type": "float"
        },
        {
         "name": "House price of unit area",
         "rawType": "float64",
         "type": "float"
        }
       ],
       "conversionMethod": "pd.DataFrame",
       "ref": "9666987f-fd6f-439d-810e-f9a87fa2a9aa",
       "rows": [
        [
         "0",
         "2012-09-02 16:42:30.519336",
         "13.3",
         "4082.015",
         "8",
         "25.0070586835347",
         "121.561694217708",
         "6.48867313986559"
        ],
        [
         "1",
         "2012-09-04 22:52:29.919544",
         "35.5",
         "274.0144",
         "2",
         "25.0121482576502",
         "121.546989844571",
         "24.9707246507222"
        ],
        [
         "2",
         "2012-09-05 01:10:52.349449",
         "1.1",
         "1978.671",
         "10",
         "25.0038498628365",
         "121.528336472882",
         "26.6942667687913"
        ],
        [
         "3",
         "2012-09-05 13:26:01.189083",
         "22.2",
         "1055.067",
         "5",
         "24.9628870027666",
         "121.48217837539",
         "38.091638492386"
        ],
        [
         "4",
         "2012-09-06 08:29:47.910523",
         "8.5",
         "967.4",
         "6",
         "25.0110368202032",
         "121.479946198787",
         "21.6547095988987"
        ]
       ],
       "shape": {
        "columns": 7,
        "rows": 5
       }
      },
      "text/html": [
       "<div>\n",
       "<style scoped>\n",
       "    .dataframe tbody tr th:only-of-type {\n",
       "        vertical-align: middle;\n",
       "    }\n",
       "\n",
       "    .dataframe tbody tr th {\n",
       "        vertical-align: top;\n",
       "    }\n",
       "\n",
       "    .dataframe thead th {\n",
       "        text-align: right;\n",
       "    }\n",
       "</style>\n",
       "<table border=\"1\" class=\"dataframe\">\n",
       "  <thead>\n",
       "    <tr style=\"text-align: right;\">\n",
       "      <th></th>\n",
       "      <th>Transaction date</th>\n",
       "      <th>House age</th>\n",
       "      <th>Distance to the nearest MRT station</th>\n",
       "      <th>Number of convenience stores</th>\n",
       "      <th>Latitude</th>\n",
       "      <th>Longitude</th>\n",
       "      <th>House price of unit area</th>\n",
       "    </tr>\n",
       "  </thead>\n",
       "  <tbody>\n",
       "    <tr>\n",
       "      <th>0</th>\n",
       "      <td>2012-09-02 16:42:30.519336</td>\n",
       "      <td>13.3</td>\n",
       "      <td>4082.0150</td>\n",
       "      <td>8</td>\n",
       "      <td>25.007059</td>\n",
       "      <td>121.561694</td>\n",
       "      <td>6.488673</td>\n",
       "    </tr>\n",
       "    <tr>\n",
       "      <th>1</th>\n",
       "      <td>2012-09-04 22:52:29.919544</td>\n",
       "      <td>35.5</td>\n",
       "      <td>274.0144</td>\n",
       "      <td>2</td>\n",
       "      <td>25.012148</td>\n",
       "      <td>121.546990</td>\n",
       "      <td>24.970725</td>\n",
       "    </tr>\n",
       "    <tr>\n",
       "      <th>2</th>\n",
       "      <td>2012-09-05 01:10:52.349449</td>\n",
       "      <td>1.1</td>\n",
       "      <td>1978.6710</td>\n",
       "      <td>10</td>\n",
       "      <td>25.003850</td>\n",
       "      <td>121.528336</td>\n",
       "      <td>26.694267</td>\n",
       "    </tr>\n",
       "    <tr>\n",
       "      <th>3</th>\n",
       "      <td>2012-09-05 13:26:01.189083</td>\n",
       "      <td>22.2</td>\n",
       "      <td>1055.0670</td>\n",
       "      <td>5</td>\n",
       "      <td>24.962887</td>\n",
       "      <td>121.482178</td>\n",
       "      <td>38.091638</td>\n",
       "    </tr>\n",
       "    <tr>\n",
       "      <th>4</th>\n",
       "      <td>2012-09-06 08:29:47.910523</td>\n",
       "      <td>8.5</td>\n",
       "      <td>967.4000</td>\n",
       "      <td>6</td>\n",
       "      <td>25.011037</td>\n",
       "      <td>121.479946</td>\n",
       "      <td>21.654710</td>\n",
       "    </tr>\n",
       "  </tbody>\n",
       "</table>\n",
       "</div>"
      ],
      "text/plain": [
       "             Transaction date  House age  Distance to the nearest MRT station  \\\n",
       "0  2012-09-02 16:42:30.519336       13.3                            4082.0150   \n",
       "1  2012-09-04 22:52:29.919544       35.5                             274.0144   \n",
       "2  2012-09-05 01:10:52.349449        1.1                            1978.6710   \n",
       "3  2012-09-05 13:26:01.189083       22.2                            1055.0670   \n",
       "4  2012-09-06 08:29:47.910523        8.5                             967.4000   \n",
       "\n",
       "   Number of convenience stores   Latitude   Longitude  \\\n",
       "0                             8  25.007059  121.561694   \n",
       "1                             2  25.012148  121.546990   \n",
       "2                            10  25.003850  121.528336   \n",
       "3                             5  24.962887  121.482178   \n",
       "4                             6  25.011037  121.479946   \n",
       "\n",
       "   House price of unit area  \n",
       "0                  6.488673  \n",
       "1                 24.970725  \n",
       "2                 26.694267  \n",
       "3                 38.091638  \n",
       "4                 21.654710  "
      ]
     },
     "execution_count": 54,
     "metadata": {},
     "output_type": "execute_result"
    }
   ],
   "source": [
    "df = pd.read_csv(r'D:\\Machine Learning\\Linear Regression\\Datasets\\Real_Estate.csv')\n",
    "df.head()"
   ]
  },
  {
   "cell_type": "code",
   "execution_count": 55,
   "metadata": {},
   "outputs": [
    {
     "data": {
      "text/plain": [
       "(414, 7)"
      ]
     },
     "execution_count": 55,
     "metadata": {},
     "output_type": "execute_result"
    }
   ],
   "source": [
    "df.shape"
   ]
  },
  {
   "cell_type": "code",
   "execution_count": 56,
   "metadata": {},
   "outputs": [
    {
     "data": {
      "text/plain": [
       "Index(['Transaction date', 'House age', 'Distance to the nearest MRT station',\n",
       "       'Number of convenience stores', 'Latitude', 'Longitude',\n",
       "       'House price of unit area'],\n",
       "      dtype='object')"
      ]
     },
     "execution_count": 56,
     "metadata": {},
     "output_type": "execute_result"
    }
   ],
   "source": [
    "df.columns"
   ]
  },
  {
   "cell_type": "code",
   "execution_count": 57,
   "metadata": {},
   "outputs": [
    {
     "name": "stdout",
     "output_type": "stream",
     "text": [
      "<class 'pandas.core.frame.DataFrame'>\n",
      "RangeIndex: 414 entries, 0 to 413\n",
      "Data columns (total 7 columns):\n",
      " #   Column                               Non-Null Count  Dtype  \n",
      "---  ------                               --------------  -----  \n",
      " 0   Transaction date                     414 non-null    object \n",
      " 1   House age                            414 non-null    float64\n",
      " 2   Distance to the nearest MRT station  414 non-null    float64\n",
      " 3   Number of convenience stores         414 non-null    int64  \n",
      " 4   Latitude                             414 non-null    float64\n",
      " 5   Longitude                            414 non-null    float64\n",
      " 6   House price of unit area             414 non-null    float64\n",
      "dtypes: float64(5), int64(1), object(1)\n",
      "memory usage: 22.8+ KB\n"
     ]
    }
   ],
   "source": [
    "df.info()"
   ]
  },
  {
   "cell_type": "markdown",
   "metadata": {},
   "source": [
    "### **Dat Cleaning**"
   ]
  },
  {
   "cell_type": "code",
   "execution_count": 58,
   "metadata": {},
   "outputs": [
    {
     "data": {
      "text/plain": [
       "Transaction date                       0\n",
       "House age                              0\n",
       "Distance to the nearest MRT station    0\n",
       "Number of convenience stores           0\n",
       "Latitude                               0\n",
       "Longitude                              0\n",
       "House price of unit area               0\n",
       "dtype: int64"
      ]
     },
     "execution_count": 58,
     "metadata": {},
     "output_type": "execute_result"
    }
   ],
   "source": [
    "df.isnull().sum()"
   ]
  },
  {
   "cell_type": "code",
   "execution_count": 59,
   "metadata": {},
   "outputs": [
    {
     "data": {
      "text/plain": [
       "np.int64(0)"
      ]
     },
     "execution_count": 59,
     "metadata": {},
     "output_type": "execute_result"
    }
   ],
   "source": [
    "df.duplicated().sum()"
   ]
  },
  {
   "cell_type": "code",
   "execution_count": 60,
   "metadata": {},
   "outputs": [
    {
     "data": {
      "application/vnd.microsoft.datawrangler.viewer.v0+json": {
       "columns": [
        {
         "name": "index",
         "rawType": "int64",
         "type": "integer"
        },
        {
         "name": "Transaction date",
         "rawType": "object",
         "type": "string"
        },
        {
         "name": "House age",
         "rawType": "float64",
         "type": "float"
        },
        {
         "name": "Distance to the nearest MRT station",
         "rawType": "float64",
         "type": "float"
        },
        {
         "name": "Number of convenience stores",
         "rawType": "int64",
         "type": "integer"
        },
        {
         "name": "Latitude",
         "rawType": "float64",
         "type": "float"
        },
        {
         "name": "Longitude",
         "rawType": "float64",
         "type": "float"
        },
        {
         "name": "House price of unit area",
         "rawType": "float64",
         "type": "float"
        },
        {
         "name": "Year",
         "rawType": "int32",
         "type": "integer"
        }
       ],
       "conversionMethod": "pd.DataFrame",
       "ref": "95b05eb4-22f9-4f9c-b21d-5552a52afaa8",
       "rows": [
        [
         "0",
         "2012-09-02 16:42:30.519336",
         "13.3",
         "4082.015",
         "8",
         "25.0070586835347",
         "121.561694217708",
         "6.48867313986559",
         "2012"
        ],
        [
         "1",
         "2012-09-04 22:52:29.919544",
         "35.5",
         "274.0144",
         "2",
         "25.0121482576502",
         "121.546989844571",
         "24.9707246507222",
         "2012"
        ],
        [
         "2",
         "2012-09-05 01:10:52.349449",
         "1.1",
         "1978.671",
         "10",
         "25.0038498628365",
         "121.528336472882",
         "26.6942667687913",
         "2012"
        ],
        [
         "3",
         "2012-09-05 13:26:01.189083",
         "22.2",
         "1055.067",
         "5",
         "24.9628870027666",
         "121.48217837539",
         "38.091638492386",
         "2012"
        ],
        [
         "4",
         "2012-09-06 08:29:47.910523",
         "8.5",
         "967.4",
         "6",
         "25.0110368202032",
         "121.479946198787",
         "21.6547095988987",
         "2012"
        ]
       ],
       "shape": {
        "columns": 8,
        "rows": 5
       }
      },
      "text/html": [
       "<div>\n",
       "<style scoped>\n",
       "    .dataframe tbody tr th:only-of-type {\n",
       "        vertical-align: middle;\n",
       "    }\n",
       "\n",
       "    .dataframe tbody tr th {\n",
       "        vertical-align: top;\n",
       "    }\n",
       "\n",
       "    .dataframe thead th {\n",
       "        text-align: right;\n",
       "    }\n",
       "</style>\n",
       "<table border=\"1\" class=\"dataframe\">\n",
       "  <thead>\n",
       "    <tr style=\"text-align: right;\">\n",
       "      <th></th>\n",
       "      <th>Transaction date</th>\n",
       "      <th>House age</th>\n",
       "      <th>Distance to the nearest MRT station</th>\n",
       "      <th>Number of convenience stores</th>\n",
       "      <th>Latitude</th>\n",
       "      <th>Longitude</th>\n",
       "      <th>House price of unit area</th>\n",
       "      <th>Year</th>\n",
       "    </tr>\n",
       "  </thead>\n",
       "  <tbody>\n",
       "    <tr>\n",
       "      <th>0</th>\n",
       "      <td>2012-09-02 16:42:30.519336</td>\n",
       "      <td>13.3</td>\n",
       "      <td>4082.0150</td>\n",
       "      <td>8</td>\n",
       "      <td>25.007059</td>\n",
       "      <td>121.561694</td>\n",
       "      <td>6.488673</td>\n",
       "      <td>2012</td>\n",
       "    </tr>\n",
       "    <tr>\n",
       "      <th>1</th>\n",
       "      <td>2012-09-04 22:52:29.919544</td>\n",
       "      <td>35.5</td>\n",
       "      <td>274.0144</td>\n",
       "      <td>2</td>\n",
       "      <td>25.012148</td>\n",
       "      <td>121.546990</td>\n",
       "      <td>24.970725</td>\n",
       "      <td>2012</td>\n",
       "    </tr>\n",
       "    <tr>\n",
       "      <th>2</th>\n",
       "      <td>2012-09-05 01:10:52.349449</td>\n",
       "      <td>1.1</td>\n",
       "      <td>1978.6710</td>\n",
       "      <td>10</td>\n",
       "      <td>25.003850</td>\n",
       "      <td>121.528336</td>\n",
       "      <td>26.694267</td>\n",
       "      <td>2012</td>\n",
       "    </tr>\n",
       "    <tr>\n",
       "      <th>3</th>\n",
       "      <td>2012-09-05 13:26:01.189083</td>\n",
       "      <td>22.2</td>\n",
       "      <td>1055.0670</td>\n",
       "      <td>5</td>\n",
       "      <td>24.962887</td>\n",
       "      <td>121.482178</td>\n",
       "      <td>38.091638</td>\n",
       "      <td>2012</td>\n",
       "    </tr>\n",
       "    <tr>\n",
       "      <th>4</th>\n",
       "      <td>2012-09-06 08:29:47.910523</td>\n",
       "      <td>8.5</td>\n",
       "      <td>967.4000</td>\n",
       "      <td>6</td>\n",
       "      <td>25.011037</td>\n",
       "      <td>121.479946</td>\n",
       "      <td>21.654710</td>\n",
       "      <td>2012</td>\n",
       "    </tr>\n",
       "  </tbody>\n",
       "</table>\n",
       "</div>"
      ],
      "text/plain": [
       "             Transaction date  House age  Distance to the nearest MRT station  \\\n",
       "0  2012-09-02 16:42:30.519336       13.3                            4082.0150   \n",
       "1  2012-09-04 22:52:29.919544       35.5                             274.0144   \n",
       "2  2012-09-05 01:10:52.349449        1.1                            1978.6710   \n",
       "3  2012-09-05 13:26:01.189083       22.2                            1055.0670   \n",
       "4  2012-09-06 08:29:47.910523        8.5                             967.4000   \n",
       "\n",
       "   Number of convenience stores   Latitude   Longitude  \\\n",
       "0                             8  25.007059  121.561694   \n",
       "1                             2  25.012148  121.546990   \n",
       "2                            10  25.003850  121.528336   \n",
       "3                             5  24.962887  121.482178   \n",
       "4                             6  25.011037  121.479946   \n",
       "\n",
       "   House price of unit area  Year  \n",
       "0                  6.488673  2012  \n",
       "1                 24.970725  2012  \n",
       "2                 26.694267  2012  \n",
       "3                 38.091638  2012  \n",
       "4                 21.654710  2012  "
      ]
     },
     "execution_count": 60,
     "metadata": {},
     "output_type": "execute_result"
    }
   ],
   "source": [
    "df['Year'] = pd.DatetimeIndex(df['Transaction date']).year\n",
    "df.head()"
   ]
  },
  {
   "cell_type": "code",
   "execution_count": 61,
   "metadata": {},
   "outputs": [
    {
     "data": {
      "application/vnd.microsoft.datawrangler.viewer.v0+json": {
       "columns": [
        {
         "name": "index",
         "rawType": "int64",
         "type": "integer"
        },
        {
         "name": "House age",
         "rawType": "float64",
         "type": "float"
        },
        {
         "name": "Distance to the nearest MRT station",
         "rawType": "float64",
         "type": "float"
        },
        {
         "name": "Number of convenience stores",
         "rawType": "int64",
         "type": "integer"
        },
        {
         "name": "House price of unit area",
         "rawType": "float64",
         "type": "float"
        },
        {
         "name": "Year",
         "rawType": "int32",
         "type": "integer"
        }
       ],
       "conversionMethod": "pd.DataFrame",
       "ref": "0c449e2d-93da-42fe-b0f5-a607331e755b",
       "rows": [
        [
         "0",
         "13.3",
         "4082.015",
         "8",
         "6.48867313986559",
         "2012"
        ],
        [
         "1",
         "35.5",
         "274.0144",
         "2",
         "24.9707246507222",
         "2012"
        ],
        [
         "2",
         "1.1",
         "1978.671",
         "10",
         "26.6942667687913",
         "2012"
        ],
        [
         "3",
         "22.2",
         "1055.067",
         "5",
         "38.091638492386",
         "2012"
        ],
        [
         "4",
         "8.5",
         "967.4",
         "6",
         "21.6547095988987",
         "2012"
        ],
        [
         "5",
         "13.3",
         "279.1726",
         "2",
         "36.9723757859779",
         "2012"
        ],
        [
         "6",
         "38.5",
         "377.7956",
         "3",
         "27.6373820952976",
         "2012"
        ],
        [
         "7",
         "15.2",
         "552.4371",
         "5",
         "44.116585007819",
         "2012"
        ],
        [
         "8",
         "24.0",
         "617.4424",
         "3",
         "49.0712467463324",
         "2012"
        ],
        [
         "9",
         "13.0",
         "323.655",
         "8",
         "43.1143527472704",
         "2012"
        ],
        [
         "10",
         "13.2",
         "750.0704",
         "5",
         "32.7473626562886",
         "2012"
        ],
        [
         "11",
         "6.5",
         "289.3248",
         "8",
         "60.4603515254385",
         "2012"
        ],
        [
         "12",
         "27.5",
         "49.66105",
         "9",
         "58.163304441213",
         "2012"
        ],
        [
         "13",
         "12.9",
         "373.8389",
         "2",
         "43.7711741944872",
         "2012"
        ],
        [
         "14",
         "8.0",
         "185.4296",
         "5",
         "40.2553334496816",
         "2012"
        ],
        [
         "15",
         "4.9",
         "639.6198",
         "8",
         "49.1570538157169",
         "2012"
        ],
        [
         "16",
         "3.1",
         "1360.139",
         "5",
         "13.673531591941",
         "2012"
        ],
        [
         "17",
         "10.3",
         "4079.418",
         "0",
         "0.0",
         "2012"
        ],
        [
         "18",
         "1.1",
         "143.8383",
         "4",
         "56.2513551836921",
         "2012"
        ],
        [
         "19",
         "13.7",
         "193.5845",
         "1",
         "16.4440169435875",
         "2012"
        ],
        [
         "20",
         "8.4",
         "330.0854",
         "6",
         "47.3555509944301",
         "2012"
        ],
        [
         "21",
         "31.3",
         "1236.564",
         "0",
         "8.46885474702285",
         "2012"
        ],
        [
         "22",
         "17.3",
         "837.7233",
         "6",
         "52.7611527463149",
         "2012"
        ],
        [
         "23",
         "14.1",
         "193.5845",
         "6",
         "50.612499525911",
         "2012"
        ],
        [
         "24",
         "1.5",
         "197.1338",
         "0",
         "12.5702764963421",
         "2012"
        ],
        [
         "25",
         "16.1",
         "3771.895",
         "9",
         "0.0",
         "2012"
        ],
        [
         "26",
         "34.4",
         "2408.993",
         "3",
         "22.9155983843477",
         "2012"
        ],
        [
         "27",
         "18.2",
         "519.4617",
         "0",
         "9.42627181268327",
         "2012"
        ],
        [
         "28",
         "11.9",
         "1978.671",
         "7",
         "25.8830227265785",
         "2012"
        ],
        [
         "29",
         "5.4",
         "1939.749",
         "1",
         "4.26637717701642",
         "2012"
        ],
        [
         "30",
         "9.7",
         "170.7311",
         "3",
         "27.2066452204632",
         "2012"
        ],
        [
         "31",
         "38.5",
         "1828.319",
         "4",
         "15.5643238958073",
         "2012"
        ],
        [
         "32",
         "32.8",
         "258.186",
         "3",
         "30.855391370659",
         "2012"
        ],
        [
         "33",
         "31.0",
         "289.3248",
         "2",
         "34.0665001523509",
         "2012"
        ],
        [
         "34",
         "34.8",
         "1156.777",
         "0",
         "18.4102502610939",
         "2012"
        ],
        [
         "35",
         "9.9",
         "4510.359",
         "10",
         "1.10285236256836",
         "2012"
        ],
        [
         "36",
         "5.9",
         "482.7581",
         "5",
         "31.4309206817246",
         "2012"
        ],
        [
         "37",
         "37.1",
         "461.1016",
         "8",
         "47.0292119939599",
         "2012"
        ],
        [
         "38",
         "26.8",
         "279.1726",
         "4",
         "29.4844308653834",
         "2012"
        ],
        [
         "39",
         "30.4",
         "1447.286",
         "8",
         "19.5472046960457",
         "2012"
        ],
        [
         "40",
         "4.0",
         "492.2313",
         "9",
         "26.3393357636583",
         "2012"
        ],
        [
         "41",
         "5.4",
         "90.45606",
         "2",
         "51.4113855617689",
         "2012"
        ],
        [
         "42",
         "25.3",
         "537.7971",
         "4",
         "48.5498802754601",
         "2012"
        ],
        [
         "43",
         "16.4",
         "1449.722",
         "1",
         "10.3689336577519",
         "2012"
        ],
        [
         "44",
         "26.4",
         "2615.465",
         "7",
         "20.5877365390199",
         "2012"
        ],
        [
         "45",
         "8.0",
         "405.2134",
         "4",
         "34.2186557746786",
         "2012"
        ],
        [
         "46",
         "19.2",
         "488.5727",
         "1",
         "39.2826804303524",
         "2012"
        ],
        [
         "47",
         "30.3",
         "1013.341",
         "6",
         "13.0607381817319",
         "2012"
        ],
        [
         "48",
         "12.9",
         "90.45606",
         "9",
         "36.4262787024133",
         "2012"
        ],
        [
         "49",
         "13.5",
         "2175.03",
         "0",
         "0.0",
         "2012"
        ]
       ],
       "shape": {
        "columns": 5,
        "rows": 414
       }
      },
      "text/html": [
       "<div>\n",
       "<style scoped>\n",
       "    .dataframe tbody tr th:only-of-type {\n",
       "        vertical-align: middle;\n",
       "    }\n",
       "\n",
       "    .dataframe tbody tr th {\n",
       "        vertical-align: top;\n",
       "    }\n",
       "\n",
       "    .dataframe thead th {\n",
       "        text-align: right;\n",
       "    }\n",
       "</style>\n",
       "<table border=\"1\" class=\"dataframe\">\n",
       "  <thead>\n",
       "    <tr style=\"text-align: right;\">\n",
       "      <th></th>\n",
       "      <th>House age</th>\n",
       "      <th>Distance to the nearest MRT station</th>\n",
       "      <th>Number of convenience stores</th>\n",
       "      <th>House price of unit area</th>\n",
       "      <th>Year</th>\n",
       "    </tr>\n",
       "  </thead>\n",
       "  <tbody>\n",
       "    <tr>\n",
       "      <th>0</th>\n",
       "      <td>13.3</td>\n",
       "      <td>4082.01500</td>\n",
       "      <td>8</td>\n",
       "      <td>6.488673</td>\n",
       "      <td>2012</td>\n",
       "    </tr>\n",
       "    <tr>\n",
       "      <th>1</th>\n",
       "      <td>35.5</td>\n",
       "      <td>274.01440</td>\n",
       "      <td>2</td>\n",
       "      <td>24.970725</td>\n",
       "      <td>2012</td>\n",
       "    </tr>\n",
       "    <tr>\n",
       "      <th>2</th>\n",
       "      <td>1.1</td>\n",
       "      <td>1978.67100</td>\n",
       "      <td>10</td>\n",
       "      <td>26.694267</td>\n",
       "      <td>2012</td>\n",
       "    </tr>\n",
       "    <tr>\n",
       "      <th>3</th>\n",
       "      <td>22.2</td>\n",
       "      <td>1055.06700</td>\n",
       "      <td>5</td>\n",
       "      <td>38.091638</td>\n",
       "      <td>2012</td>\n",
       "    </tr>\n",
       "    <tr>\n",
       "      <th>4</th>\n",
       "      <td>8.5</td>\n",
       "      <td>967.40000</td>\n",
       "      <td>6</td>\n",
       "      <td>21.654710</td>\n",
       "      <td>2012</td>\n",
       "    </tr>\n",
       "    <tr>\n",
       "      <th>...</th>\n",
       "      <td>...</td>\n",
       "      <td>...</td>\n",
       "      <td>...</td>\n",
       "      <td>...</td>\n",
       "      <td>...</td>\n",
       "    </tr>\n",
       "    <tr>\n",
       "      <th>409</th>\n",
       "      <td>18.3</td>\n",
       "      <td>170.12890</td>\n",
       "      <td>6</td>\n",
       "      <td>29.096310</td>\n",
       "      <td>2013</td>\n",
       "    </tr>\n",
       "    <tr>\n",
       "      <th>410</th>\n",
       "      <td>11.9</td>\n",
       "      <td>323.69120</td>\n",
       "      <td>2</td>\n",
       "      <td>33.871347</td>\n",
       "      <td>2013</td>\n",
       "    </tr>\n",
       "    <tr>\n",
       "      <th>411</th>\n",
       "      <td>0.0</td>\n",
       "      <td>451.64190</td>\n",
       "      <td>8</td>\n",
       "      <td>25.255105</td>\n",
       "      <td>2013</td>\n",
       "    </tr>\n",
       "    <tr>\n",
       "      <th>412</th>\n",
       "      <td>35.9</td>\n",
       "      <td>292.99780</td>\n",
       "      <td>5</td>\n",
       "      <td>25.285620</td>\n",
       "      <td>2013</td>\n",
       "    </tr>\n",
       "    <tr>\n",
       "      <th>413</th>\n",
       "      <td>12.0</td>\n",
       "      <td>90.45606</td>\n",
       "      <td>6</td>\n",
       "      <td>37.580554</td>\n",
       "      <td>2013</td>\n",
       "    </tr>\n",
       "  </tbody>\n",
       "</table>\n",
       "<p>414 rows × 5 columns</p>\n",
       "</div>"
      ],
      "text/plain": [
       "     House age  Distance to the nearest MRT station  \\\n",
       "0         13.3                           4082.01500   \n",
       "1         35.5                            274.01440   \n",
       "2          1.1                           1978.67100   \n",
       "3         22.2                           1055.06700   \n",
       "4          8.5                            967.40000   \n",
       "..         ...                                  ...   \n",
       "409       18.3                            170.12890   \n",
       "410       11.9                            323.69120   \n",
       "411        0.0                            451.64190   \n",
       "412       35.9                            292.99780   \n",
       "413       12.0                             90.45606   \n",
       "\n",
       "     Number of convenience stores  House price of unit area  Year  \n",
       "0                               8                  6.488673  2012  \n",
       "1                               2                 24.970725  2012  \n",
       "2                              10                 26.694267  2012  \n",
       "3                               5                 38.091638  2012  \n",
       "4                               6                 21.654710  2012  \n",
       "..                            ...                       ...   ...  \n",
       "409                             6                 29.096310  2013  \n",
       "410                             2                 33.871347  2013  \n",
       "411                             8                 25.255105  2013  \n",
       "412                             5                 25.285620  2013  \n",
       "413                             6                 37.580554  2013  \n",
       "\n",
       "[414 rows x 5 columns]"
      ]
     },
     "execution_count": 61,
     "metadata": {},
     "output_type": "execute_result"
    }
   ],
   "source": [
    "num = df.drop(columns=['Transaction date', 'Latitude','Longitude'],axis=1)\n",
    "num"
   ]
  },
  {
   "cell_type": "code",
   "execution_count": 62,
   "metadata": {},
   "outputs": [
    {
     "data": {
      "image/png": "[encoded data removed]",
      "text/plain": [
       "<Figure size 1000x400 with 2 Axes>"
      ]
     },
     "metadata": {},
     "output_type": "display_data"
    },
    {
     "data": {
      "image/png": "[encoded data removed]",
      "text/plain": [
       "<Figure size 1000x400 with 2 Axes>"
      ]
     },
     "metadata": {},
     "output_type": "display_data"
    },
    {
     "data": {
      "image/png": "[encoded data removed]",
      "text/plain": [
       "<Figure size 1000x400 with 2 Axes>"
      ]
     },
     "metadata": {},
     "output_type": "display_data"
    },
    {
     "data": {
      "image/png": "[encoded data removed]",
      "text/plain": [
       "<Figure size 1000x400 with 2 Axes>"
      ]
     },
     "metadata": {},
     "output_type": "display_data"
    },
    {
     "data": {
      "image/png": "[encoded data removed]",
      "text/plain": [
       "<Figure size 1000x400 with 2 Axes>"
      ]
     },
     "metadata": {},
     "output_type": "display_data"
    }
   ],
   "source": [
    "for i in num.columns:\n",
    "    plt.figure(figsize=(10,4))\n",
    "\n",
    "    plt.subplot(1, 2, 1)\n",
    "    df[i].hist(bins=20, alpha=0.5, color='b',edgecolor='black')\n",
    "    plt.title(f'Histogram of {i}')\n",
    "    plt.xlabel(i)\n",
    "    plt.ylabel('Frequency')\n",
    "\n",
    "    plt.subplot(1, 2, 2)\n",
    "    plt.boxplot(df[i], vert=False)\n",
    "    plt.title(f'Boxplot of {i}')\n",
    "\n",
    "    plt.show()"
   ]
  },
  {
   "cell_type": "code",
   "execution_count": 63,
   "metadata": {},
   "outputs": [
    {
     "data": {
      "image/png": "[encoded data removed]",
      "text/plain": [
       "<Figure size 640x480 with 2 Axes>"
      ]
     },
     "metadata": {},
     "output_type": "display_data"
    }
   ],
   "source": [
    "import matplotlib.pyplot as plt\n",
    "corr = num.corr(method='pearson')\n",
    "sns.heatmap(corr, annot=True, cmap='Greens')\n",
    "plt.show()"
   ]
  },
  {
   "cell_type": "markdown",
   "metadata": {},
   "source": [
    "### **Model Building**"
   ]
  },
  {
   "cell_type": "code",
   "execution_count": 64,
   "metadata": {},
   "outputs": [
    {
     "data": {
      "text/plain": [
       "Index(['Transaction date', 'House age', 'Distance to the nearest MRT station',\n",
       "       'Number of convenience stores', 'Latitude', 'Longitude',\n",
       "       'House price of unit area', 'Year'],\n",
       "      dtype='object')"
      ]
     },
     "execution_count": 64,
     "metadata": {},
     "output_type": "execute_result"
    }
   ],
   "source": [
    "df.columns"
   ]
  },
  {
   "cell_type": "code",
   "execution_count": 65,
   "metadata": {},
   "outputs": [],
   "source": [
    "x = df[['Distance to the nearest MRT station']]\n",
    "y = df[['House price of unit area']]"
   ]
  },
  {
   "cell_type": "code",
   "execution_count": 66,
   "metadata": {},
   "outputs": [],
   "source": [
    "X_train, X_test, y_train, y_test = train_test_split(x,y,test_size=0.2,random_state=42)"
   ]
  },
  {
   "cell_type": "code",
   "execution_count": 67,
   "metadata": {},
   "outputs": [
    {
     "data": {
      "text/html": [
       "<style>#sk-container-id-4 {\n",
       "  /* Definition of color scheme common for light and dark mode */\n",
       "  --sklearn-color-text: black;\n",
       "  --sklearn-color-line: gray;\n",
       "  /* Definition of color scheme for unfitted estimators */\n",
       "  --sklearn-color-unfitted-level-0: #fff5e6;\n",
       "  --sklearn-color-unfitted-level-1: #f6e4d2;\n",
       "  --sklearn-color-unfitted-level-2: #ffe0b3;\n",
       "  --sklearn-color-unfitted-level-3: chocolate;\n",
       "  /* Definition of color scheme for fitted estimators */\n",
       "  --sklearn-color-fitted-level-0: #f0f8ff;\n",
       "  --sklearn-color-fitted-level-1: #d4ebff;\n",
       "  --sklearn-color-fitted-level-2: #b3dbfd;\n",
       "  --sklearn-color-fitted-level-3: cornflowerblue;\n",
       "\n",
       "  /* Specific color for light theme */\n",
       "  --sklearn-color-text-on-default-background: var(--sg-text-color, var(--theme-code-foreground, var(--jp-content-font-color1, black)));\n",
       "  --sklearn-color-background: var(--sg-background-color, var(--theme-background, var(--jp-layout-color0, white)));\n",
       "  --sklearn-color-border-box: var(--sg-text-color, var(--theme-code-foreground, var(--jp-content-font-color1, black)));\n",
       "  --sklearn-color-icon: #696969;\n",
       "\n",
       "  @media (prefers-color-scheme: dark) {\n",
       "    /* Redefinition of color scheme for dark theme */\n",
       "    --sklearn-color-text-on-default-background: var(--sg-text-color, var(--theme-code-foreground, var(--jp-content-font-color1, white)));\n",
       "    --sklearn-color-background: var(--sg-background-color, var(--theme-background, var(--jp-layout-color0, #111)));\n",
       "    --sklearn-color-border-box: var(--sg-text-color, var(--theme-code-foreground, var(--jp-content-font-color1, white)));\n",
       "    --sklearn-color-icon: #878787;\n",
       "  }\n",
       "}\n",
       "\n",
       "#sk-container-id-4 {\n",
       "  color: var(--sklearn-color-text);\n",
       "}\n",
       "\n",
       "#sk-container-id-4 pre {\n",
       "  padding: 0;\n",
       "}\n",
       "\n",
       "#sk-container-id-4 input.sk-hidden--visually {\n",
       "  border: 0;\n",
       "  clip: rect(1px 1px 1px 1px);\n",
       "  clip: rect(1px, 1px, 1px, 1px);\n",
       "  height: 1px;\n",
       "  margin: -1px;\n",
       "  overflow: hidden;\n",
       "  padding: 0;\n",
       "  position: absolute;\n",
       "  width: 1px;\n",
       "}\n",
       "\n",
       "#sk-container-id-4 div.sk-dashed-wrapped {\n",
       "  border: 1px dashed var(--sklearn-color-line);\n",
       "  margin: 0 0.4em 0.5em 0.4em;\n",
       "  box-sizing: border-box;\n",
       "  padding-bottom: 0.4em;\n",
       "  background-color: var(--sklearn-color-background);\n",
       "}\n",
       "\n",
       "#sk-container-id-4 div.sk-container {\n",
       "  /* jupyter's `normalize.less` sets `[hidden] { display: none; }`\n",
       "     but bootstrap.min.css set `[hidden] { display: none !important; }`\n",
       "     so we also need the `!important` here to be able to override the\n",
       "     default hidden behavior on the sphinx rendered scikit-learn.org.\n",
       "     See: https://github.com/scikit-learn/scikit-learn/issues/21755 */\n",
       "  display: inline-block !important;\n",
       "  position: relative;\n",
       "}\n",
       "\n",
       "#sk-container-id-4 div.sk-text-repr-fallback {\n",
       "  display: none;\n",
       "}\n",
       "\n",
       "div.sk-parallel-item,\n",
       "div.sk-serial,\n",
       "div.sk-item {\n",
       "  /* draw centered vertical line to link estimators */\n",
       "  background-image: linear-gradient(var(--sklearn-color-text-on-default-background), var(--sklearn-color-text-on-default-background));\n",
       "  background-size: 2px 100%;\n",
       "  background-repeat: no-repeat;\n",
       "  background-position: center center;\n",
       "}\n",
       "\n",
       "/* Parallel-specific style estimator block */\n",
       "\n",
       "#sk-container-id-4 div.sk-parallel-item::after {\n",
       "  content: \"\";\n",
       "  width: 100%;\n",
       "  border-bottom: 2px solid var(--sklearn-color-text-on-default-background);\n",
       "  flex-grow: 1;\n",
       "}\n",
       "\n",
       "#sk-container-id-4 div.sk-parallel {\n",
       "  display: flex;\n",
       "  align-items: stretch;\n",
       "  justify-content: center;\n",
       "  background-color: var(--sklearn-color-background);\n",
       "  position: relative;\n",
       "}\n",
       "\n",
       "#sk-container-id-4 div.sk-parallel-item {\n",
       "  display: flex;\n",
       "  flex-direction: column;\n",
       "}\n",
       "\n",
       "#sk-container-id-4 div.sk-parallel-item:first-child::after {\n",
       "  align-self: flex-end;\n",
       "  width: 50%;\n",
       "}\n",
       "\n",
       "#sk-container-id-4 div.sk-parallel-item:last-child::after {\n",
       "  align-self: flex-start;\n",
       "  width: 50%;\n",
       "}\n",
       "\n",
       "#sk-container-id-4 div.sk-parallel-item:only-child::after {\n",
       "  width: 0;\n",
       "}\n",
       "\n",
       "/* Serial-specific style estimator block */\n",
       "\n",
       "#sk-container-id-4 div.sk-serial {\n",
       "  display: flex;\n",
       "  flex-direction: column;\n",
       "  align-items: center;\n",
       "  background-color: var(--sklearn-color-background);\n",
       "  padding-right: 1em;\n",
       "  padding-left: 1em;\n",
       "}\n",
       "\n",
       "\n",
       "/* Toggleable style: style used for estimator/Pipeline/ColumnTransformer box that is\n",
       "clickable and can be expanded/collapsed.\n",
       "- Pipeline and ColumnTransformer use this feature and define the default style\n",
       "- Estimators will overwrite some part of the style using the `sk-estimator` class\n",
       "*/\n",
       "\n",
       "/* Pipeline and ColumnTransformer style (default) */\n",
       "\n",
       "#sk-container-id-4 div.sk-toggleable {\n",
       "  /* Default theme specific background. It is overwritten whether we have a\n",
       "  specific estimator or a Pipeline/ColumnTransformer */\n",
       "  background-color: var(--sklearn-color-background);\n",
       "}\n",
       "\n",
       "/* Toggleable label */\n",
       "#sk-container-id-4 label.sk-toggleable__label {\n",
       "  cursor: pointer;\n",
       "  display: block;\n",
       "  width: 100%;\n",
       "  margin-bottom: 0;\n",
       "  padding: 0.5em;\n",
       "  box-sizing: border-box;\n",
       "  text-align: center;\n",
       "}\n",
       "\n",
       "#sk-container-id-4 label.sk-toggleable__label-arrow:before {\n",
       "  /* Arrow on the left of the label */\n",
       "  content: \"▸\";\n",
       "  float: left;\n",
       "  margin-right: 0.25em;\n",
       "  color: var(--sklearn-color-icon);\n",
       "}\n",
       "\n",
       "#sk-container-id-4 label.sk-toggleable__label-arrow:hover:before {\n",
       "  color: var(--sklearn-color-text);\n",
       "}\n",
       "\n",
       "/* Toggleable content - dropdown */\n",
       "\n",
       "#sk-container-id-4 div.sk-toggleable__content {\n",
       "  max-height: 0;\n",
       "  max-width: 0;\n",
       "  overflow: hidden;\n",
       "  text-align: left;\n",
       "  /* unfitted */\n",
       "  background-color: var(--sklearn-color-unfitted-level-0);\n",
       "}\n",
       "\n",
       "#sk-container-id-4 div.sk-toggleable__content.fitted {\n",
       "  /* fitted */\n",
       "  background-color: var(--sklearn-color-fitted-level-0);\n",
       "}\n",
       "\n",
       "#sk-container-id-4 div.sk-toggleable__content pre {\n",
       "  margin: 0.2em;\n",
       "  border-radius: 0.25em;\n",
       "  color: var(--sklearn-color-text);\n",
       "  /* unfitted */\n",
       "  background-color: var(--sklearn-color-unfitted-level-0);\n",
       "}\n",
       "\n",
       "#sk-container-id-4 div.sk-toggleable__content.fitted pre {\n",
       "  /* unfitted */\n",
       "  background-color: var(--sklearn-color-fitted-level-0);\n",
       "}\n",
       "\n",
       "#sk-container-id-4 input.sk-toggleable__control:checked~div.sk-toggleable__content {\n",
       "  /* Expand drop-down */\n",
       "  max-height: 200px;\n",
       "  max-width: 100%;\n",
       "  overflow: auto;\n",
       "}\n",
       "\n",
       "#sk-container-id-4 input.sk-toggleable__control:checked~label.sk-toggleable__label-arrow:before {\n",
       "  content: \"▾\";\n",
       "}\n",
       "\n",
       "/* Pipeline/ColumnTransformer-specific style */\n",
       "\n",
       "#sk-container-id-4 div.sk-label input.sk-toggleable__control:checked~label.sk-toggleable__label {\n",
       "  color: var(--sklearn-color-text);\n",
       "  background-color: var(--sklearn-color-unfitted-level-2);\n",
       "}\n",
       "\n",
       "#sk-container-id-4 div.sk-label.fitted input.sk-toggleable__control:checked~label.sk-toggleable__label {\n",
       "  background-color: var(--sklearn-color-fitted-level-2);\n",
       "}\n",
       "\n",
       "/* Estimator-specific style */\n",
       "\n",
       "/* Colorize estimator box */\n",
       "#sk-container-id-4 div.sk-estimator input.sk-toggleable__control:checked~label.sk-toggleable__label {\n",
       "  /* unfitted */\n",
       "  background-color: var(--sklearn-color-unfitted-level-2);\n",
       "}\n",
       "\n",
       "#sk-container-id-4 div.sk-estimator.fitted input.sk-toggleable__control:checked~label.sk-toggleable__label {\n",
       "  /* fitted */\n",
       "  background-color: var(--sklearn-color-fitted-level-2);\n",
       "}\n",
       "\n",
       "#sk-container-id-4 div.sk-label label.sk-toggleable__label,\n",
       "#sk-container-id-4 div.sk-label label {\n",
       "  /* The background is the default theme color */\n",
       "  color: var(--sklearn-color-text-on-default-background);\n",
       "}\n",
       "\n",
       "/* On hover, darken the color of the background */\n",
       "#sk-container-id-4 div.sk-label:hover label.sk-toggleable__label {\n",
       "  color: var(--sklearn-color-text);\n",
       "  background-color: var(--sklearn-color-unfitted-level-2);\n",
       "}\n",
       "\n",
       "/* Label box, darken color on hover, fitted */\n",
       "#sk-container-id-4 div.sk-label.fitted:hover label.sk-toggleable__label.fitted {\n",
       "  color: var(--sklearn-color-text);\n",
       "  background-color: var(--sklearn-color-fitted-level-2);\n",
       "}\n",
       "\n",
       "/* Estimator label */\n",
       "\n",
       "#sk-container-id-4 div.sk-label label {\n",
       "  font-family: monospace;\n",
       "  font-weight: bold;\n",
       "  display: inline-block;\n",
       "  line-height: 1.2em;\n",
       "}\n",
       "\n",
       "#sk-container-id-4 div.sk-label-container {\n",
       "  text-align: center;\n",
       "}\n",
       "\n",
       "/* Estimator-specific */\n",
       "#sk-container-id-4 div.sk-estimator {\n",
       "  font-family: monospace;\n",
       "  border: 1px dotted var(--sklearn-color-border-box);\n",
       "  border-radius: 0.25em;\n",
       "  box-sizing: border-box;\n",
       "  margin-bottom: 0.5em;\n",
       "  /* unfitted */\n",
       "  background-color: var(--sklearn-color-unfitted-level-0);\n",
       "}\n",
       "\n",
       "#sk-container-id-4 div.sk-estimator.fitted {\n",
       "  /* fitted */\n",
       "  background-color: var(--sklearn-color-fitted-level-0);\n",
       "}\n",
       "\n",
       "/* on hover */\n",
       "#sk-container-id-4 div.sk-estimator:hover {\n",
       "  /* unfitted */\n",
       "  background-color: var(--sklearn-color-unfitted-level-2);\n",
       "}\n",
       "\n",
       "#sk-container-id-4 div.sk-estimator.fitted:hover {\n",
       "  /* fitted */\n",
       "  background-color: var(--sklearn-color-fitted-level-2);\n",
       "}\n",
       "\n",
       "/* Specification for estimator info (e.g. \"i\" and \"?\") */\n",
       "\n",
       "/* Common style for \"i\" and \"?\" */\n",
       "\n",
       ".sk-estimator-doc-link,\n",
       "a:link.sk-estimator-doc-link,\n",
       "a:visited.sk-estimator-doc-link {\n",
       "  float: right;\n",
       "  font-size: smaller;\n",
       "  line-height: 1em;\n",
       "  font-family: monospace;\n",
       "  background-color: var(--sklearn-color-background);\n",
       "  border-radius: 1em;\n",
       "  height: 1em;\n",
       "  width: 1em;\n",
       "  text-decoration: none !important;\n",
       "  margin-left: 1ex;\n",
       "  /* unfitted */\n",
       "  border: var(--sklearn-color-unfitted-level-1) 1pt solid;\n",
       "  color: var(--sklearn-color-unfitted-level-1);\n",
       "}\n",
       "\n",
       ".sk-estimator-doc-link.fitted,\n",
       "a:link.sk-estimator-doc-link.fitted,\n",
       "a:visited.sk-estimator-doc-link.fitted {\n",
       "  /* fitted */\n",
       "  border: var(--sklearn-color-fitted-level-1) 1pt solid;\n",
       "  color: var(--sklearn-color-fitted-level-1);\n",
       "}\n",
       "\n",
       "/* On hover */\n",
       "div.sk-estimator:hover .sk-estimator-doc-link:hover,\n",
       ".sk-estimator-doc-link:hover,\n",
       "div.sk-label-container:hover .sk-estimator-doc-link:hover,\n",
       ".sk-estimator-doc-link:hover {\n",
       "  /* unfitted */\n",
       "  background-color: var(--sklearn-color-unfitted-level-3);\n",
       "  color: var(--sklearn-color-background);\n",
       "  text-decoration: none;\n",
       "}\n",
       "\n",
       "div.sk-estimator.fitted:hover .sk-estimator-doc-link.fitted:hover,\n",
       ".sk-estimator-doc-link.fitted:hover,\n",
       "div.sk-label-container:hover .sk-estimator-doc-link.fitted:hover,\n",
       ".sk-estimator-doc-link.fitted:hover {\n",
       "  /* fitted */\n",
       "  background-color: var(--sklearn-color-fitted-level-3);\n",
       "  color: var(--sklearn-color-background);\n",
       "  text-decoration: none;\n",
       "}\n",
       "\n",
       "/* Span, style for the box shown on hovering the info icon */\n",
       ".sk-estimator-doc-link span {\n",
       "  display: none;\n",
       "  z-index: 9999;\n",
       "  position: relative;\n",
       "  font-weight: normal;\n",
       "  right: .2ex;\n",
       "  padding: .5ex;\n",
       "  margin: .5ex;\n",
       "  width: min-content;\n",
       "  min-width: 20ex;\n",
       "  max-width: 50ex;\n",
       "  color: var(--sklearn-color-text);\n",
       "  box-shadow: 2pt 2pt 4pt #999;\n",
       "  /* unfitted */\n",
       "  background: var(--sklearn-color-unfitted-level-0);\n",
       "  border: .5pt solid var(--sklearn-color-unfitted-level-3);\n",
       "}\n",
       "\n",
       ".sk-estimator-doc-link.fitted span {\n",
       "  /* fitted */\n",
       "  background: var(--sklearn-color-fitted-level-0);\n",
       "  border: var(--sklearn-color-fitted-level-3);\n",
       "}\n",
       "\n",
       ".sk-estimator-doc-link:hover span {\n",
       "  display: block;\n",
       "}\n",
       "\n",
       "/* \"?\"-specific style due to the `<a>` HTML tag */\n",
       "\n",
       "#sk-container-id-4 a.estimator_doc_link {\n",
       "  float: right;\n",
       "  font-size: 1rem;\n",
       "  line-height: 1em;\n",
       "  font-family: monospace;\n",
       "  background-color: var(--sklearn-color-background);\n",
       "  border-radius: 1rem;\n",
       "  height: 1rem;\n",
       "  width: 1rem;\n",
       "  text-decoration: none;\n",
       "  /* unfitted */\n",
       "  color: var(--sklearn-color-unfitted-level-1);\n",
       "  border: var(--sklearn-color-unfitted-level-1) 1pt solid;\n",
       "}\n",
       "\n",
       "#sk-container-id-4 a.estimator_doc_link.fitted {\n",
       "  /* fitted */\n",
       "  border: var(--sklearn-color-fitted-level-1) 1pt solid;\n",
       "  color: var(--sklearn-color-fitted-level-1);\n",
       "}\n",
       "\n",
       "/* On hover */\n",
       "#sk-container-id-4 a.estimator_doc_link:hover {\n",
       "  /* unfitted */\n",
       "  background-color: var(--sklearn-color-unfitted-level-3);\n",
       "  color: var(--sklearn-color-background);\n",
       "  text-decoration: none;\n",
       "}\n",
       "\n",
       "#sk-container-id-4 a.estimator_doc_link.fitted:hover {\n",
       "  /* fitted */\n",
       "  background-color: var(--sklearn-color-fitted-level-3);\n",
       "}\n",
       "</style><div id=\"sk-container-id-4\" class=\"sk-top-container\"><div class=\"sk-text-repr-fallback\"><pre>LinearRegression()</pre><b>In a Jupyter environment, please rerun this cell to show the HTML representation or trust the notebook. <br />On GitHub, the HTML representation is unable to render, please try loading this page with nbviewer.org.</b></div><div class=\"sk-container\" hidden><div class=\"sk-item\"><div class=\"sk-estimator fitted sk-toggleable\"><input class=\"sk-toggleable__control sk-hidden--visually\" id=\"sk-estimator-id-4\" type=\"checkbox\" checked><label for=\"sk-estimator-id-4\" class=\"sk-toggleable__label fitted sk-toggleable__label-arrow fitted\">&nbsp;&nbsp;LinearRegression<a class=\"sk-estimator-doc-link fitted\" rel=\"noreferrer\" target=\"_blank\" href=\"https://scikit-learn.org/1.5/modules/generated/sklearn.linear_model.LinearRegression.html\">?<span>Documentation for LinearRegression</span></a><span class=\"sk-estimator-doc-link fitted\">i<span>Fitted</span></span></label><div class=\"sk-toggleable__content fitted\"><pre>LinearRegression()</pre></div> </div></div></div></div>"
      ],
      "text/plain": [
       "LinearRegression()"
      ]
     },
     "execution_count": 67,
     "metadata": {},
     "output_type": "execute_result"
    }
   ],
   "source": [
    "model = LinearRegression()\n",
    "model.fit(X_train, y_train)"
   ]
  },
  {
   "cell_type": "code",
   "execution_count": 68,
   "metadata": {},
   "outputs": [
    {
     "data": {
      "application/vnd.microsoft.datawrangler.viewer.v0+json": {
       "columns": [
        {
         "name": "index",
         "rawType": "int64",
         "type": "integer"
        },
        {
         "name": "Distance to the nearest MRT station",
         "rawType": "float64",
         "type": "float"
        }
       ],
       "conversionMethod": "pd.DataFrame",
       "ref": "9ea82709-3c57-4e56-b581-c718691f8324",
       "rows": [
        [
         "358",
         "431.1114"
        ],
        [
         "350",
         "1360.139"
        ],
        [
         "373",
         "250.631"
        ],
        [
         "399",
         "208.3905"
        ],
        [
         "369",
         "1414.837"
        ],
        [
         "72",
         "461.1016"
        ],
        [
         "262",
         "1449.722"
        ],
        [
         "140",
         "208.3905"
        ],
        [
         "93",
         "179.4538"
        ],
        [
         "70",
         "3771.895"
        ],
        [
         "118",
         "279.1726"
        ],
        [
         "131",
         "964.7496"
        ],
        [
         "336",
         "2216.612"
        ],
        [
         "55",
         "414.9476"
        ],
        [
         "126",
         "187.4823"
        ],
        [
         "376",
         "292.9978"
        ],
        [
         "56",
         "90.45606"
        ],
        [
         "291",
         "718.2937"
        ],
        [
         "365",
         "482.7581"
        ],
        [
         "84",
         "512.5487"
        ],
        [
         "116",
         "482.7581"
        ],
        [
         "9",
         "323.655"
        ],
        [
         "374",
         "464.223"
        ],
        [
         "137",
         "482.7581"
        ],
        [
         "320",
         "2147.376"
        ],
        [
         "402",
         "600.8604"
        ],
        [
         "231",
         "2674.961"
        ],
        [
         "90",
         "1712.632"
        ],
        [
         "94",
         "383.2805"
        ],
        [
         "173",
         "1236.564"
        ],
        [
         "30",
         "170.7311"
        ],
        [
         "141",
         "156.2442"
        ],
        [
         "104",
         "193.5845"
        ],
        [
         "79",
         "289.3248"
        ],
        [
         "33",
         "289.3248"
        ],
        [
         "290",
         "444.1334"
        ],
        [
         "286",
         "2469.645"
        ],
        [
         "409",
         "170.1289"
        ],
        [
         "222",
         "390.5684"
        ],
        [
         "361",
         "390.9696"
        ],
        [
         "15",
         "639.6198"
        ],
        [
         "311",
         "104.8101"
        ],
        [
         "0",
         "4082.015"
        ],
        [
         "317",
         "4082.015"
        ],
        [
         "272",
         "185.4296"
        ],
        [
         "124",
         "512.5487"
        ],
        [
         "271",
         "184.3302"
        ],
        [
         "184",
         "170.1289"
        ],
        [
         "275",
         "995.7554"
        ],
        [
         "360",
         "451.2438"
        ]
       ],
       "shape": {
        "columns": 1,
        "rows": 83
       }
      },
      "text/html": [
       "<div>\n",
       "<style scoped>\n",
       "    .dataframe tbody tr th:only-of-type {\n",
       "        vertical-align: middle;\n",
       "    }\n",
       "\n",
       "    .dataframe tbody tr th {\n",
       "        vertical-align: top;\n",
       "    }\n",
       "\n",
       "    .dataframe thead th {\n",
       "        text-align: right;\n",
       "    }\n",
       "</style>\n",
       "<table border=\"1\" class=\"dataframe\">\n",
       "  <thead>\n",
       "    <tr style=\"text-align: right;\">\n",
       "      <th></th>\n",
       "      <th>Distance to the nearest MRT station</th>\n",
       "    </tr>\n",
       "  </thead>\n",
       "  <tbody>\n",
       "    <tr>\n",
       "      <th>358</th>\n",
       "      <td>431.1114</td>\n",
       "    </tr>\n",
       "    <tr>\n",
       "      <th>350</th>\n",
       "      <td>1360.1390</td>\n",
       "    </tr>\n",
       "    <tr>\n",
       "      <th>373</th>\n",
       "      <td>250.6310</td>\n",
       "    </tr>\n",
       "    <tr>\n",
       "      <th>399</th>\n",
       "      <td>208.3905</td>\n",
       "    </tr>\n",
       "    <tr>\n",
       "      <th>369</th>\n",
       "      <td>1414.8370</td>\n",
       "    </tr>\n",
       "    <tr>\n",
       "      <th>...</th>\n",
       "      <td>...</td>\n",
       "    </tr>\n",
       "    <tr>\n",
       "      <th>31</th>\n",
       "      <td>1828.3190</td>\n",
       "    </tr>\n",
       "    <tr>\n",
       "      <th>283</th>\n",
       "      <td>815.9314</td>\n",
       "    </tr>\n",
       "    <tr>\n",
       "      <th>157</th>\n",
       "      <td>3171.3290</td>\n",
       "    </tr>\n",
       "    <tr>\n",
       "      <th>203</th>\n",
       "      <td>4197.3490</td>\n",
       "    </tr>\n",
       "    <tr>\n",
       "      <th>208</th>\n",
       "      <td>250.6310</td>\n",
       "    </tr>\n",
       "  </tbody>\n",
       "</table>\n",
       "<p>83 rows × 1 columns</p>\n",
       "</div>"
      ],
      "text/plain": [
       "     Distance to the nearest MRT station\n",
       "358                             431.1114\n",
       "350                            1360.1390\n",
       "373                             250.6310\n",
       "399                             208.3905\n",
       "369                            1414.8370\n",
       "..                                   ...\n",
       "31                             1828.3190\n",
       "283                             815.9314\n",
       "157                            3171.3290\n",
       "203                            4197.3490\n",
       "208                             250.6310\n",
       "\n",
       "[83 rows x 1 columns]"
      ]
     },
     "execution_count": 68,
     "metadata": {},
     "output_type": "execute_result"
    }
   ],
   "source": [
    "X_test"
   ]
  },
  {
   "cell_type": "code",
   "execution_count": 69,
   "metadata": {},
   "outputs": [
    {
     "data": {
      "text/plain": [
       "array([[33.78462636],\n",
       "       [26.40030431],\n",
       "       [35.21916436],\n",
       "       [35.55491052],\n",
       "       [25.96554043],\n",
       "       [33.54625099],\n",
       "       [25.68825903],\n",
       "       [35.55491052],\n",
       "       [35.78491221],\n",
       "       [ 7.2306015 ],\n",
       "       [34.9923031 ],\n",
       "       [29.54303405],\n",
       "       [19.5926783 ],\n",
       "       [33.91310338],\n",
       "       [35.72109814],\n",
       "       [34.8824143 ],\n",
       "       [36.49230559],\n",
       "       [31.50197449],\n",
       "       [33.37411556],\n",
       "       [33.1373267 ],\n",
       "       [33.37411556],\n",
       "       [34.63873733],\n",
       "       [33.52144072],\n",
       "       [33.37411556],\n",
       "       [20.14299664],\n",
       "       [32.43538627],\n",
       "       [15.94951784],\n",
       "       [23.59853413],\n",
       "       [34.16480749],\n",
       "       [27.38253304],\n",
       "       [35.85424408],\n",
       "       [35.96939237],\n",
       "       [35.67259516],\n",
       "       [34.91160893],\n",
       "       [34.91160893],\n",
       "       [33.68112174],\n",
       "       [17.58146017],\n",
       "       [35.85903064],\n",
       "       [34.10688004],\n",
       "       [34.10369113],\n",
       "       [32.12730942],\n",
       "       [36.37821333],\n",
       "       [ 4.76563065],\n",
       "       [ 4.76563065],\n",
       "       [35.73741391],\n",
       "       [33.1373267 ],\n",
       "       [35.74615242],\n",
       "       [35.85903064],\n",
       "       [29.29658624],\n",
       "       [33.62460514],\n",
       "       [ 4.76563065],\n",
       "       [27.38253304],\n",
       "       [34.12910627],\n",
       "       [34.10688004],\n",
       "       [35.67259516],\n",
       "       [26.06744741],\n",
       "       [32.93664125],\n",
       "       [35.87914019],\n",
       "       [35.60654837],\n",
       "       [25.70762143],\n",
       "       [23.59853413],\n",
       "       [ 7.2306015 ],\n",
       "       [26.06744741],\n",
       "       [35.7049167 ],\n",
       "       [26.03236298],\n",
       "       [33.18846936],\n",
       "       [30.55269523],\n",
       "       [33.32789854],\n",
       "       [33.29881837],\n",
       "       [32.51432383],\n",
       "       [33.31749085],\n",
       "       [21.86120341],\n",
       "       [12.74458678],\n",
       "       [23.59853413],\n",
       "       [35.64438375],\n",
       "       [ 4.78627276],\n",
       "       [20.14299664],\n",
       "       [32.78020876],\n",
       "       [22.67900271],\n",
       "       [30.72590689],\n",
       "       [12.00416555],\n",
       "       [ 3.84890504],\n",
       "       [35.21916436]])"
      ]
     },
     "execution_count": 69,
     "metadata": {},
     "output_type": "execute_result"
    }
   ],
   "source": [
    "y_pred = model.predict(X_test)\n",
    "y_pred"
   ]
  },
  {
   "cell_type": "code",
   "execution_count": 70,
   "metadata": {},
   "outputs": [
    {
     "data": {
      "image/png": "[encoded data removed]",
      "text/plain": [
       "<Figure size 640x480 with 1 Axes>"
      ]
     },
     "metadata": {},
     "output_type": "display_data"
    }
   ],
   "source": [
    "# Scatter plot of the data points\n",
    "plt.scatter(df['Distance to the nearest MRT station'], df['House price of unit area'], label='Observed Data')\n",
    "\n",
    "# Plot the regression line\n",
    "plt.plot(X_test['Distance to the nearest MRT station'], y_pred, color='red', label='Regression Line')\n",
    "\n",
    "# Set labels and title\n",
    "plt.xlabel('Distance to the nearest MRT station')\n",
    "plt.ylabel('House price of unit area')\n",
    "plt.title('Linear Regression: Distance to the nearest MRT stations vs. Price')\n",
    "\n",
    "# Display legend\n",
    "plt.legend()\n",
    "\n",
    "# Show the plot\n",
    "plt.show()"
   ]
  },
  {
   "cell_type": "code",
   "execution_count": 71,
   "metadata": {},
   "outputs": [
    {
     "name": "stdout",
     "output_type": "stream",
     "text": [
      "Evaluation Metrics:\n",
      "Mean Squared Error (MSE): 148.27\n",
      "Mean Absolute Error (MAE): 10.1545\n",
      "R-squared (R²): 0.4640\n"
     ]
    }
   ],
   "source": [
    "# Evaluate the model\n",
    "mse = mean_squared_error(y_test, y_pred) # Cost function\n",
    "mae = mean_absolute_error(y_test, y_pred)\n",
    "r2 = r2_score(y_test, y_pred) # cost function\n",
    "\n",
    "# Print the evaluation metrics\n",
    "print(\"Evaluation Metrics:\")\n",
    "\n",
    "print(f\"Mean Squared Error (MSE): {mse:.2f}\")\n",
    "print(f\"Mean Absolute Error (MAE): {mae:.4f}\")\n",
    "print(f\"R-squared (R²): {r2:.4f}\")"
   ]
  },
  {
   "cell_type": "code",
   "execution_count": 72,
   "metadata": {},
   "outputs": [
    {
     "name": "stdout",
     "output_type": "stream",
     "text": [
      "Predicted value: [5.41752213]\n"
     ]
    },
    {
     "name": "stderr",
     "output_type": "stream",
     "text": [
      "c:\\Users\\Admin\\AppData\\Local\\Programs\\Python\\Python313\\Lib\\site-packages\\sklearn\\base.py:493: UserWarning: X does not have valid feature names, but LinearRegression was fitted with feature names\n",
      "  warnings.warn(\n"
     ]
    }
   ],
   "source": [
    "# New Data\n",
    "new_data = [4000]\n",
    "prediction = model.predict([new_data])\n",
    "print(f\"Predicted value: {prediction[0]}\")"
   ]
  },
  {
   "cell_type": "code",
   "execution_count": 73,
   "metadata": {},
   "outputs": [],
   "source": [
    "import statsmodels.api as sm"
   ]
  },
  {
   "cell_type": "code",
   "execution_count": 74,
   "metadata": {},
   "outputs": [
    {
     "data": {
      "application/vnd.microsoft.datawrangler.viewer.v0+json": {
       "columns": [
        {
         "name": "index",
         "rawType": "int64",
         "type": "integer"
        },
        {
         "name": "const",
         "rawType": "float64",
         "type": "float"
        },
        {
         "name": "Distance to the nearest MRT station",
         "rawType": "float64",
         "type": "float"
        }
       ],
       "conversionMethod": "pd.DataFrame",
       "ref": "8338d141-8e5f-4a26-a06c-c05cd99d12c5",
       "rows": [
        [
         "0",
         "1.0",
         "4082.015"
        ],
        [
         "1",
         "1.0",
         "274.0144"
        ],
        [
         "2",
         "1.0",
         "1978.671"
        ],
        [
         "3",
         "1.0",
         "1055.067"
        ],
        [
         "4",
         "1.0",
         "967.4"
        ],
        [
         "5",
         "1.0",
         "279.1726"
        ],
        [
         "6",
         "1.0",
         "377.7956"
        ],
        [
         "7",
         "1.0",
         "552.4371"
        ],
        [
         "8",
         "1.0",
         "617.4424"
        ],
        [
         "9",
         "1.0",
         "323.655"
        ],
        [
         "10",
         "1.0",
         "750.0704"
        ],
        [
         "11",
         "1.0",
         "289.3248"
        ],
        [
         "12",
         "1.0",
         "49.66105"
        ],
        [
         "13",
         "1.0",
         "373.8389"
        ],
        [
         "14",
         "1.0",
         "185.4296"
        ],
        [
         "15",
         "1.0",
         "639.6198"
        ],
        [
         "16",
         "1.0",
         "1360.139"
        ],
        [
         "17",
         "1.0",
         "4079.418"
        ],
        [
         "18",
         "1.0",
         "143.8383"
        ],
        [
         "19",
         "1.0",
         "193.5845"
        ],
        [
         "20",
         "1.0",
         "330.0854"
        ],
        [
         "21",
         "1.0",
         "1236.564"
        ],
        [
         "22",
         "1.0",
         "837.7233"
        ],
        [
         "23",
         "1.0",
         "193.5845"
        ],
        [
         "24",
         "1.0",
         "197.1338"
        ],
        [
         "25",
         "1.0",
         "3771.895"
        ],
        [
         "26",
         "1.0",
         "2408.993"
        ],
        [
         "27",
         "1.0",
         "519.4617"
        ],
        [
         "28",
         "1.0",
         "1978.671"
        ],
        [
         "29",
         "1.0",
         "1939.749"
        ],
        [
         "30",
         "1.0",
         "170.7311"
        ],
        [
         "31",
         "1.0",
         "1828.319"
        ],
        [
         "32",
         "1.0",
         "258.186"
        ],
        [
         "33",
         "1.0",
         "289.3248"
        ],
        [
         "34",
         "1.0",
         "1156.777"
        ],
        [
         "35",
         "1.0",
         "4510.359"
        ],
        [
         "36",
         "1.0",
         "482.7581"
        ],
        [
         "37",
         "1.0",
         "461.1016"
        ],
        [
         "38",
         "1.0",
         "279.1726"
        ],
        [
         "39",
         "1.0",
         "1447.286"
        ],
        [
         "40",
         "1.0",
         "492.2313"
        ],
        [
         "41",
         "1.0",
         "90.45606"
        ],
        [
         "42",
         "1.0",
         "537.7971"
        ],
        [
         "43",
         "1.0",
         "1449.722"
        ],
        [
         "44",
         "1.0",
         "2615.465"
        ],
        [
         "45",
         "1.0",
         "405.2134"
        ],
        [
         "46",
         "1.0",
         "488.5727"
        ],
        [
         "47",
         "1.0",
         "1013.341"
        ],
        [
         "48",
         "1.0",
         "90.45606"
        ],
        [
         "49",
         "1.0",
         "2175.03"
        ]
       ],
       "shape": {
        "columns": 2,
        "rows": 414
       }
      },
      "text/html": [
       "<div>\n",
       "<style scoped>\n",
       "    .dataframe tbody tr th:only-of-type {\n",
       "        vertical-align: middle;\n",
       "    }\n",
       "\n",
       "    .dataframe tbody tr th {\n",
       "        vertical-align: top;\n",
       "    }\n",
       "\n",
       "    .dataframe thead th {\n",
       "        text-align: right;\n",
       "    }\n",
       "</style>\n",
       "<table border=\"1\" class=\"dataframe\">\n",
       "  <thead>\n",
       "    <tr style=\"text-align: right;\">\n",
       "      <th></th>\n",
       "      <th>const</th>\n",
       "      <th>Distance to the nearest MRT station</th>\n",
       "    </tr>\n",
       "  </thead>\n",
       "  <tbody>\n",
       "    <tr>\n",
       "      <th>0</th>\n",
       "      <td>1.0</td>\n",
       "      <td>4082.01500</td>\n",
       "    </tr>\n",
       "    <tr>\n",
       "      <th>1</th>\n",
       "      <td>1.0</td>\n",
       "      <td>274.01440</td>\n",
       "    </tr>\n",
       "    <tr>\n",
       "      <th>2</th>\n",
       "      <td>1.0</td>\n",
       "      <td>1978.67100</td>\n",
       "    </tr>\n",
       "    <tr>\n",
       "      <th>3</th>\n",
       "      <td>1.0</td>\n",
       "      <td>1055.06700</td>\n",
       "    </tr>\n",
       "    <tr>\n",
       "      <th>4</th>\n",
       "      <td>1.0</td>\n",
       "      <td>967.40000</td>\n",
       "    </tr>\n",
       "    <tr>\n",
       "      <th>...</th>\n",
       "      <td>...</td>\n",
       "      <td>...</td>\n",
       "    </tr>\n",
       "    <tr>\n",
       "      <th>409</th>\n",
       "      <td>1.0</td>\n",
       "      <td>170.12890</td>\n",
       "    </tr>\n",
       "    <tr>\n",
       "      <th>410</th>\n",
       "      <td>1.0</td>\n",
       "      <td>323.69120</td>\n",
       "    </tr>\n",
       "    <tr>\n",
       "      <th>411</th>\n",
       "      <td>1.0</td>\n",
       "      <td>451.64190</td>\n",
       "    </tr>\n",
       "    <tr>\n",
       "      <th>412</th>\n",
       "      <td>1.0</td>\n",
       "      <td>292.99780</td>\n",
       "    </tr>\n",
       "    <tr>\n",
       "      <th>413</th>\n",
       "      <td>1.0</td>\n",
       "      <td>90.45606</td>\n",
       "    </tr>\n",
       "  </tbody>\n",
       "</table>\n",
       "<p>414 rows × 2 columns</p>\n",
       "</div>"
      ],
      "text/plain": [
       "     const  Distance to the nearest MRT station\n",
       "0      1.0                           4082.01500\n",
       "1      1.0                            274.01440\n",
       "2      1.0                           1978.67100\n",
       "3      1.0                           1055.06700\n",
       "4      1.0                            967.40000\n",
       "..     ...                                  ...\n",
       "409    1.0                            170.12890\n",
       "410    1.0                            323.69120\n",
       "411    1.0                            451.64190\n",
       "412    1.0                            292.99780\n",
       "413    1.0                             90.45606\n",
       "\n",
       "[414 rows x 2 columns]"
      ]
     },
     "execution_count": 74,
     "metadata": {},
     "output_type": "execute_result"
    }
   ],
   "source": [
    "X = sm.add_constant(x)\n",
    "X"
   ]
  },
  {
   "cell_type": "code",
   "execution_count": 75,
   "metadata": {},
   "outputs": [],
   "source": [
    "# Fit the linear regression model\n",
    "model = sm.OLS(y,X).fit()"
   ]
  },
  {
   "cell_type": "code",
   "execution_count": 76,
   "metadata": {},
   "outputs": [
    {
     "name": "stdout",
     "output_type": "stream",
     "text": [
      "                               OLS Regression Results                               \n",
      "====================================================================================\n",
      "Dep. Variable:     House price of unit area   R-squared:                       0.405\n",
      "Model:                                  OLS   Adj. R-squared:                  0.404\n",
      "Method:                       Least Squares   F-statistic:                     280.7\n",
      "Date:                      Wed, 12 Feb 2025   Prob (F-statistic):           2.01e-48\n",
      "Time:                              15:54:06   Log-Likelihood:                -1620.7\n",
      "No. Observations:                       414   AIC:                             3245.\n",
      "Df Residuals:                           412   BIC:                             3254.\n",
      "Df Model:                                 1                                         \n",
      "Covariance Type:                  nonrobust                                         \n",
      "=======================================================================================================\n",
      "                                          coef    std err          t      P>|t|      [0.025      0.975]\n",
      "-------------------------------------------------------------------------------------------------------\n",
      "const                                  38.0206      0.800     47.502      0.000      36.447      39.594\n",
      "Distance to the nearest MRT station    -0.0084      0.001    -16.754      0.000      -0.009      -0.007\n",
      "==============================================================================\n",
      "Omnibus:                       17.809   Durbin-Watson:                   2.016\n",
      "Prob(Omnibus):                  0.000   Jarque-Bera (JB):                8.129\n",
      "Skew:                          -0.062   Prob(JB):                       0.0172\n",
      "Kurtosis:                       2.325   Cond. No.                     2.14e+03\n",
      "==============================================================================\n",
      "\n",
      "Notes:\n",
      "[1] Standard Errors assume that the covariance matrix of the errors is correctly specified.\n",
      "[2] The condition number is large, 2.14e+03. This might indicate that there are\n",
      "strong multicollinearity or other numerical problems.\n"
     ]
    }
   ],
   "source": [
    "# Print the summary\n",
    "print(model.summary())"
   ]
  },
  {
   "cell_type": "code",
   "execution_count": 77,
   "metadata": {},
   "outputs": [
    {
     "data": {
      "text/plain": [
       "0       3.820248\n",
       "1      35.724805\n",
       "2      21.442687\n",
       "3      29.180915\n",
       "4      29.915415\n",
       "         ...    \n",
       "409    36.595188\n",
       "410    35.308598\n",
       "411    34.236589\n",
       "412    35.565756\n",
       "413    37.262711\n",
       "Length: 414, dtype: float64"
      ]
     },
     "execution_count": 77,
     "metadata": {},
     "output_type": "execute_result"
    }
   ],
   "source": [
    "y_pred = model.predict(X)\n",
    "y_pred"
   ]
  },
  {
   "cell_type": "code",
   "execution_count": 78,
   "metadata": {},
   "outputs": [
    {
     "data": {
      "image/png": "[encoded data removed]",
      "text/plain": [
       "<Figure size 640x480 with 1 Axes>"
      ]
     },
     "metadata": {},
     "output_type": "display_data"
    }
   ],
   "source": [
    "# Scatter plot of the data points\n",
    "plt.scatter(df['Distance to the nearest MRT station'], df['House price of unit area'], label='Observed Data')\n",
    "\n",
    "# Plot the regression line\n",
    "plt.plot(df['Distance to the nearest MRT station'], y_pred, color='red', label='Regression Line')\n",
    "\n",
    "# Set labels and title\n",
    "plt.xlabel('Distance to the nearest MRT station')\n",
    "plt.ylabel('House price of unit area')\n",
    "plt.title('Linear Regression: Distance to the nearest MRT stations vs. Price')\n",
    "\n",
    "# Display legend\n",
    "plt.legend()\n",
    "\n",
    "# Show the plot\n",
    "plt.show()"
   ]
  },
  {
   "cell_type": "code",
   "execution_count": 79,
   "metadata": {},
   "outputs": [
    {
     "data": {
      "text/plain": [
       "np.float64(6306.153)"
      ]
     },
     "execution_count": 79,
     "metadata": {},
     "output_type": "execute_result"
    }
   ],
   "source": [
    "df['Distance to the nearest MRT station'].max()"
   ]
  },
  {
   "cell_type": "code",
   "execution_count": 80,
   "metadata": {},
   "outputs": [
    {
     "name": "stdout",
     "output_type": "stream",
     "text": [
      "Predicted value: 4.507394251926804\n"
     ]
    }
   ],
   "source": [
    "new_data = [1, 4000]\n",
    "prediction = model.predict([new_data])\n",
    "print(f\"Predicted value: {prediction[0]}\")"
   ]
  }
 ],
 "metadata": {
  "kernelspec": {
   "display_name": "Python 3",
   "language": "python",
   "name": "python3"
  },
  "language_info": {
   "codemirror_mode": {
    "name": "ipython",
    "version": 3
   },
   "file_extension": ".py",
   "mimetype": "text/x-python",
   "name": "python",
   "nbconvert_exporter": "python",
   "pygments_lexer": "ipython3",
   "version": "3.13.1"
  }
 },
 "nbformat": 4,
 "nbformat_minor": 2
}
