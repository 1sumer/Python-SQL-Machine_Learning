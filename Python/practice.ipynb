{
 "cells": [
  {
   "cell_type": "code",
   "execution_count": null,
   "id": "3f9839f0",
   "metadata": {},
   "outputs": [],
   "source": [
    "pip install numpy"
   ]
  },
  {
   "cell_type": "code",
   "execution_count": null,
   "id": "d6486d29",
   "metadata": {},
   "outputs": [],
   "source": [
    "pip show numpy"
   ]
  },
  {
   "cell_type": "code",
   "execution_count": null,
   "id": "c355ff12",
   "metadata": {},
   "outputs": [],
   "source": [
    "import numpy as np"
   ]
  },
  {
   "cell_type": "code",
   "execution_count": null,
   "id": "de7ab9a5",
   "metadata": {},
   "outputs": [],
   "source": [
    "print(np.__doc__)"
   ]
  },
  {
   "cell_type": "code",
   "execution_count": null,
   "id": "e668960c",
   "metadata": {},
   "outputs": [],
   "source": [
    "a  = np.array([1,2,3,4], dtype='int')\n",
    "print(a)"
   ]
  },
  {
   "cell_type": "code",
   "execution_count": null,
   "id": "f3205da8",
   "metadata": {},
   "outputs": [],
   "source": [
    "my_list = [1,2,3,4,5]\n",
    "add_2 = [x +2 for x in my_list]\n",
    "print(add_2)"
   ]
  },
  {
   "cell_type": "code",
   "execution_count": null,
   "id": "09bda85b",
   "metadata": {},
   "outputs": [],
   "source": [
    "a+2"
   ]
  },
  {
   "cell_type": "code",
   "execution_count": null,
   "id": "2486e6d4",
   "metadata": {},
   "outputs": [],
   "source": [
    "b = np.arange(0, 20, 2, dtype='float')\n",
    "print(b)"
   ]
  },
  {
   "cell_type": "code",
   "execution_count": null,
   "id": "b64fa34a",
   "metadata": {},
   "outputs": [],
   "source": [
    "c = np.linspace(0, 10, num=5, dtype='int', endpoint=True)\n",
    "print(c)"
   ]
  },
  {
   "cell_type": "code",
   "execution_count": null,
   "id": "96808b30",
   "metadata": {},
   "outputs": [],
   "source": [
    "d = np.random.rand(3,3)\n",
    "d"
   ]
  },
  {
   "cell_type": "code",
   "execution_count": null,
   "id": "b4b62f86",
   "metadata": {},
   "outputs": [],
   "source": [
    "e = np.random.randn(3,3)\n",
    "print(e)"
   ]
  },
  {
   "cell_type": "code",
   "execution_count": null,
   "id": "d2b10ecb",
   "metadata": {},
   "outputs": [],
   "source": [
    "f = np.random.randint(0, 10, size=(2,3))\n",
    "print(f)"
   ]
  },
  {
   "cell_type": "code",
   "execution_count": null,
   "id": "b0c62428",
   "metadata": {},
   "outputs": [],
   "source": [
    "one_D = np.ones(10, dtype='int')\n",
    "one_D"
   ]
  },
  {
   "cell_type": "code",
   "execution_count": null,
   "id": "b8b1ec05",
   "metadata": {},
   "outputs": [],
   "source": [
    "np.shape(one_D)"
   ]
  },
  {
   "cell_type": "code",
   "execution_count": null,
   "id": "a19d656c",
   "metadata": {},
   "outputs": [],
   "source": [
    "two_D = np.ones((3,3), dtype=int)\n",
    "two_D"
   ]
  },
  {
   "cell_type": "code",
   "execution_count": null,
   "id": "d1c2319c",
   "metadata": {},
   "outputs": [],
   "source": [
    "np.shape(two_D)"
   ]
  },
  {
   "cell_type": "code",
   "execution_count": null,
   "id": "281fce7b",
   "metadata": {},
   "outputs": [],
   "source": [
    "three_D = np.zeros(shape=(2,2,2), dtype=int)\n",
    "three_D"
   ]
  },
  {
   "cell_type": "code",
   "execution_count": null,
   "id": "dae494ad",
   "metadata": {},
   "outputs": [],
   "source": [
    "np.shape(three_D)"
   ]
  },
  {
   "cell_type": "code",
   "execution_count": null,
   "id": "184b983c",
   "metadata": {},
   "outputs": [],
   "source": [
    "np.size(three_D)"
   ]
  },
  {
   "cell_type": "code",
   "execution_count": null,
   "id": "9d4a4435",
   "metadata": {},
   "outputs": [],
   "source": [
    "one_D[1].dtype"
   ]
  },
  {
   "cell_type": "code",
   "execution_count": null,
   "id": "6e00d3d7",
   "metadata": {},
   "outputs": [],
   "source": [
    "arr = np.arange(0,20, dtype=int)\n",
    "arr"
   ]
  },
  {
   "cell_type": "code",
   "execution_count": null,
   "id": "def9dc11",
   "metadata": {},
   "outputs": [],
   "source": [
    "arr[2]"
   ]
  },
  {
   "cell_type": "code",
   "execution_count": null,
   "id": "1b453cd2",
   "metadata": {},
   "outputs": [],
   "source": [
    "arr[2:8]"
   ]
  },
  {
   "cell_type": "code",
   "execution_count": null,
   "id": "6ff62e67",
   "metadata": {},
   "outputs": [],
   "source": [
    "arr[2:8:2]"
   ]
  },
  {
   "cell_type": "code",
   "execution_count": null,
   "id": "253d337b",
   "metadata": {},
   "outputs": [],
   "source": [
    "arr_2 = np.arange(0,12, dtype=int).reshape(3,4)\n",
    "arr_2"
   ]
  },
  {
   "cell_type": "code",
   "execution_count": null,
   "id": "a0a8337b",
   "metadata": {},
   "outputs": [],
   "source": [
    "arr_2[1,1]"
   ]
  },
  {
   "cell_type": "code",
   "execution_count": null,
   "id": "3c6ae6a2",
   "metadata": {},
   "outputs": [],
   "source": [
    "arr_2[0:2, 0:2]"
   ]
  },
  {
   "cell_type": "code",
   "execution_count": null,
   "id": "baa6c43b",
   "metadata": {},
   "outputs": [],
   "source": [
    "arr_2[::2, ::2]"
   ]
  },
  {
   "cell_type": "code",
   "execution_count": null,
   "id": "76f4a695",
   "metadata": {},
   "outputs": [],
   "source": [
    "arr_3 = np.arange(0,8).reshape(2,2,2)\n",
    "arr_3"
   ]
  },
  {
   "cell_type": "code",
   "execution_count": null,
   "id": "91d7a9c6",
   "metadata": {},
   "outputs": [],
   "source": [
    "arr_3[0,1,1]"
   ]
  },
  {
   "cell_type": "code",
   "execution_count": null,
   "id": "8f0d5976",
   "metadata": {},
   "outputs": [],
   "source": [
    "arr_3[1, ::, ::]"
   ]
  },
  {
   "cell_type": "code",
   "execution_count": null,
   "id": "0ec4a68b",
   "metadata": {},
   "outputs": [],
   "source": [
    "### **Scalar Opeartion**"
   ]
  },
  {
   "cell_type": "code",
   "execution_count": null,
   "id": "df0472a1",
   "metadata": {},
   "outputs": [],
   "source": [
    "arr_4 = np.arange(0,10)\n",
    "arr_4"
   ]
  },
  {
   "cell_type": "code",
   "execution_count": null,
   "id": "38415226",
   "metadata": {},
   "outputs": [],
   "source": [
    "arr_4+2"
   ]
  },
  {
   "cell_type": "code",
   "execution_count": null,
   "id": "d931cdbe",
   "metadata": {},
   "outputs": [],
   "source": [
    "arr_4-2"
   ]
  },
  {
   "cell_type": "code",
   "execution_count": null,
   "id": "c6334e67",
   "metadata": {},
   "outputs": [],
   "source": [
    "arr_4*2"
   ]
  },
  {
   "cell_type": "code",
   "execution_count": null,
   "id": "bc80aeca",
   "metadata": {},
   "outputs": [],
   "source": [
    "arr_4%2"
   ]
  },
  {
   "cell_type": "code",
   "execution_count": null,
   "id": "e6a4987c",
   "metadata": {},
   "outputs": [],
   "source": [
    "arr_5 = np.array([1,2,3,4])\n",
    "arr_6 = np.array([5,6,7,8])\n"
   ]
  },
  {
   "cell_type": "code",
   "execution_count": null,
   "id": "c053705a",
   "metadata": {},
   "outputs": [],
   "source": [
    "arr_5 + arr_6"
   ]
  },
  {
   "cell_type": "code",
   "execution_count": null,
   "id": "4cab7c52",
   "metadata": {},
   "outputs": [],
   "source": [
    "arr_5 - arr_6"
   ]
  },
  {
   "cell_type": "code",
   "execution_count": null,
   "id": "c44a7404",
   "metadata": {},
   "outputs": [],
   "source": [
    "arr_5 * arr_6"
   ]
  },
  {
   "cell_type": "code",
   "execution_count": null,
   "id": "4b6a36c7",
   "metadata": {},
   "outputs": [],
   "source": [
    "arr_5 ** arr_6"
   ]
  },
  {
   "cell_type": "code",
   "execution_count": null,
   "id": "f5c462ad",
   "metadata": {},
   "outputs": [],
   "source": [
    "arr_7 = np.arange(0,40, dtype=int)\n",
    "arr_7"
   ]
  },
  {
   "cell_type": "code",
   "execution_count": null,
   "id": "6769177c",
   "metadata": {},
   "outputs": [],
   "source": [
    "arr_7%2==0"
   ]
  },
  {
   "cell_type": "code",
   "execution_count": null,
   "id": "77b0cef5",
   "metadata": {},
   "outputs": [],
   "source": [
    "arr_7[arr_7%2==0]"
   ]
  },
  {
   "cell_type": "code",
   "execution_count": null,
   "id": "e3876272",
   "metadata": {},
   "outputs": [],
   "source": [
    "arr_7[arr_7>20]"
   ]
  },
  {
   "cell_type": "code",
   "execution_count": null,
   "id": "499972a6",
   "metadata": {},
   "outputs": [],
   "source": [
    "arr_7[arr_7%3==0]"
   ]
  },
  {
   "cell_type": "code",
   "execution_count": null,
   "id": "de06350f",
   "metadata": {},
   "outputs": [],
   "source": [
    "arr_7"
   ]
  },
  {
   "cell_type": "code",
   "execution_count": null,
   "id": "61fd29da",
   "metadata": {},
   "outputs": [],
   "source": [
    "arr_7.astype('float')"
   ]
  },
  {
   "cell_type": "code",
   "execution_count": null,
   "id": "f5526a4b",
   "metadata": {},
   "outputs": [],
   "source": [
    "arr_8 = arr_7.astype('str')"
   ]
  },
  {
   "cell_type": "code",
   "execution_count": null,
   "id": "faeedef3",
   "metadata": {},
   "outputs": [],
   "source": [
    "arr_8"
   ]
  },
  {
   "cell_type": "code",
   "execution_count": null,
   "id": "3c9e3546",
   "metadata": {},
   "outputs": [],
   "source": [
    "arr_8.astype(int)"
   ]
  },
  {
   "cell_type": "code",
   "execution_count": null,
   "id": "85825333",
   "metadata": {},
   "outputs": [],
   "source": [
    "arr_9 = np.arange(1, 10)\n",
    "arr_9"
   ]
  },
  {
   "cell_type": "code",
   "execution_count": null,
   "id": "ec2bfe3d",
   "metadata": {},
   "outputs": [],
   "source": [
    "np.mean(arr_9)"
   ]
  },
  {
   "cell_type": "code",
   "execution_count": null,
   "id": "3163426d",
   "metadata": {},
   "outputs": [],
   "source": [
    "np.median(arr_9)"
   ]
  },
  {
   "cell_type": "code",
   "execution_count": null,
   "id": "fe87e976",
   "metadata": {},
   "outputs": [],
   "source": [
    "np.var(arr_9)"
   ]
  },
  {
   "cell_type": "code",
   "execution_count": null,
   "id": "f4aede33",
   "metadata": {},
   "outputs": [],
   "source": [
    "np.std(arr_9)"
   ]
  },
  {
   "cell_type": "code",
   "execution_count": null,
   "id": "11a4c6fc",
   "metadata": {},
   "outputs": [],
   "source": [
    "np.max(arr_9) - np.min(arr_9)"
   ]
  },
  {
   "cell_type": "code",
   "execution_count": null,
   "id": "c71348cd",
   "metadata": {},
   "outputs": [],
   "source": [
    "pip install pandas"
   ]
  },
  {
   "cell_type": "code",
   "execution_count": null,
   "id": "f4065382",
   "metadata": {},
   "outputs": [],
   "source": [
    "pip show pandas"
   ]
  },
  {
   "cell_type": "code",
   "execution_count": null,
   "id": "8a1b88ed",
   "metadata": {},
   "outputs": [],
   "source": [
    "import pandas as pd"
   ]
  },
  {
   "cell_type": "code",
   "execution_count": null,
   "id": "5ad9ada5",
   "metadata": {},
   "outputs": [],
   "source": [
    "print(pd.__doc__)"
   ]
  },
  {
   "cell_type": "code",
   "execution_count": null,
   "id": "f6818d6e",
   "metadata": {},
   "outputs": [],
   "source": [
    "arr_10 = np.arange(1,10)\n",
    "python_list = [1,2,3,4,5,6,7,8,9]\n",
    "python_dic = {\"A\":[1,2,3,4,5,6]}\n",
    "df = pd.Series(python_list)\n",
    "df"
   ]
  },
  {
   "cell_type": "code",
   "execution_count": null,
   "id": "a6b8e7e8",
   "metadata": {},
   "outputs": [],
   "source": [
    "df.index"
   ]
  },
  {
   "cell_type": "code",
   "execution_count": null,
   "id": "fe548a18",
   "metadata": {},
   "outputs": [],
   "source": [
    "df.values"
   ]
  },
  {
   "cell_type": "code",
   "execution_count": null,
   "id": "b2de1873",
   "metadata": {},
   "outputs": [],
   "source": [
    "data = {\"Name\":[\"A\", \"B\", \"C\", \"D\", \"E\"],\n",
    "        \"City\":[\"Bengalore\", \"Jaipur\", \"Delhi\", \"Gujrat\", \"J & K\"],\n",
    "        \"Salary\":[100000, 20000, 30000, 40000, 50000]}\n",
    "\n",
    "print(data)"
   ]
  },
  {
   "cell_type": "code",
   "execution_count": null,
   "id": "74e37af1",
   "metadata": {},
   "outputs": [],
   "source": [
    "df = pd.DataFrame(data=data)\n",
    "df"
   ]
  },
  {
   "cell_type": "code",
   "execution_count": null,
   "id": "54b7e3d9",
   "metadata": {},
   "outputs": [],
   "source": [
    "import seaborn as sns"
   ]
  },
  {
   "cell_type": "code",
   "execution_count": null,
   "id": "5f9fc1e0",
   "metadata": {},
   "outputs": [],
   "source": [
    "df = sns.load_dataset('iris')\n",
    "df"
   ]
  },
  {
   "cell_type": "code",
   "execution_count": null,
   "id": "008a1805",
   "metadata": {},
   "outputs": [],
   "source": [
    "df.to_csv('data.csv')\n",
    "#df.to_excel('data.xlsx', sheet_name='Data')\n",
    "#df.to_json('data.json')"
   ]
  },
  {
   "cell_type": "code",
   "execution_count": null,
   "id": "594b72c7",
   "metadata": {},
   "outputs": [],
   "source": [
    "df1 = pd.read_csv(r'data.csv') #\"C:\\Users\\Admin\\Saved Games\"\n",
    "df1"
   ]
  },
  {
   "cell_type": "code",
   "execution_count": null,
   "id": "0ae4d56b",
   "metadata": {},
   "outputs": [],
   "source": [
    "df1.head(10) # defult top 5 rows"
   ]
  },
  {
   "cell_type": "code",
   "execution_count": null,
   "id": "8c01bb33",
   "metadata": {},
   "outputs": [],
   "source": [
    "df1.tail(10)"
   ]
  },
  {
   "cell_type": "code",
   "execution_count": null,
   "id": "7fd3259d",
   "metadata": {},
   "outputs": [],
   "source": [
    "df1.shape"
   ]
  },
  {
   "cell_type": "code",
   "execution_count": null,
   "id": "b17823cb",
   "metadata": {},
   "outputs": [],
   "source": [
    "df1.shape[0], df1.shape[1]"
   ]
  },
  {
   "cell_type": "code",
   "execution_count": null,
   "id": "7a77fb01",
   "metadata": {},
   "outputs": [],
   "source": [
    "df1.size"
   ]
  },
  {
   "cell_type": "code",
   "execution_count": null,
   "id": "d11dc81d",
   "metadata": {},
   "outputs": [],
   "source": [
    "150*6"
   ]
  },
  {
   "cell_type": "code",
   "execution_count": null,
   "id": "becb8bb9",
   "metadata": {},
   "outputs": [],
   "source": [
    "df1.info() # know the entire information about the datset"
   ]
  },
  {
   "cell_type": "code",
   "execution_count": null,
   "id": "c56449cd",
   "metadata": {},
   "outputs": [],
   "source": [
    "df1.columns # name of the columns"
   ]
  },
  {
   "cell_type": "code",
   "execution_count": null,
   "id": "ad1e87d3",
   "metadata": {},
   "outputs": [],
   "source": [
    "df1.dtypes"
   ]
  },
  {
   "cell_type": "code",
   "execution_count": null,
   "id": "f4a0b9a2",
   "metadata": {},
   "outputs": [],
   "source": [
    "df1.sepal_length.dtype"
   ]
  },
  {
   "cell_type": "code",
   "execution_count": null,
   "id": "df1acffe",
   "metadata": {},
   "outputs": [],
   "source": [
    "df1.describe().T"
   ]
  },
  {
   "cell_type": "code",
   "execution_count": null,
   "id": "d1c882f7",
   "metadata": {},
   "outputs": [],
   "source": [
    "df1['petal_length'] # df1.petal_lenght"
   ]
  },
  {
   "cell_type": "code",
   "execution_count": null,
   "id": "e176b30a",
   "metadata": {},
   "outputs": [],
   "source": [
    "df1.columns"
   ]
  },
  {
   "cell_type": "code",
   "execution_count": null,
   "id": "0e44b537",
   "metadata": {},
   "outputs": [],
   "source": [
    "df1[['petal_length', 'petal_width']]"
   ]
  },
  {
   "cell_type": "code",
   "execution_count": null,
   "id": "02711e11",
   "metadata": {},
   "outputs": [],
   "source": [
    "df1[['petal_length', 'petal_width', 'sepal_length']]"
   ]
  },
  {
   "cell_type": "code",
   "execution_count": null,
   "id": "3e15fd55",
   "metadata": {},
   "outputs": [],
   "source": [
    "for col in df1.columns:\n",
    "    print(f\"{col}: {df1[col].unique()}\")"
   ]
  },
  {
   "cell_type": "code",
   "execution_count": null,
   "id": "51b84a37",
   "metadata": {},
   "outputs": [],
   "source": [
    "df1.species.unique()"
   ]
  },
  {
   "cell_type": "code",
   "execution_count": null,
   "id": "ff7b9593",
   "metadata": {},
   "outputs": [],
   "source": [
    "df1.nunique() # no of unique values in each column"
   ]
  },
  {
   "cell_type": "code",
   "execution_count": null,
   "id": "c4abf9c6",
   "metadata": {},
   "outputs": [],
   "source": [
    "df1.petal_length.nlargest() # makes the descending order takes 5 rows"
   ]
  },
  {
   "cell_type": "code",
   "execution_count": null,
   "id": "f5682257",
   "metadata": {},
   "outputs": [],
   "source": [
    "df1.petal_length.nsmallest()"
   ]
  },
  {
   "cell_type": "code",
   "execution_count": null,
   "id": "321f10d2",
   "metadata": {},
   "outputs": [],
   "source": [
    "df1[:10:2]"
   ]
  },
  {
   "cell_type": "code",
   "execution_count": null,
   "id": "85f76ed3",
   "metadata": {},
   "outputs": [],
   "source": [
    "df1.loc[:10, \"petal_length\":\"species\":2] # note : there is noexcluding"
   ]
  },
  {
   "cell_type": "code",
   "execution_count": null,
   "id": "1b2e4ccd",
   "metadata": {},
   "outputs": [],
   "source": [
    "df1.iloc[:10, 1:3] # there will be have excluding"
   ]
  },
  {
   "cell_type": "code",
   "execution_count": null,
   "id": "7250a833",
   "metadata": {},
   "outputs": [],
   "source": [
    "df['petal_length'].mean()"
   ]
  },
  {
   "cell_type": "code",
   "execution_count": null,
   "id": "3b5d23e0",
   "metadata": {},
   "outputs": [],
   "source": [
    "df['petal_length'].median()"
   ]
  },
  {
   "cell_type": "code",
   "execution_count": null,
   "id": "28d1d5ec",
   "metadata": {},
   "outputs": [],
   "source": [
    "df1['species'].mode()"
   ]
  },
  {
   "cell_type": "code",
   "execution_count": null,
   "id": "f261aa3b",
   "metadata": {},
   "outputs": [],
   "source": [
    "df1['sepal_length'].var()"
   ]
  },
  {
   "cell_type": "code",
   "execution_count": null,
   "id": "f5162ccd",
   "metadata": {},
   "outputs": [],
   "source": [
    "df1['sepal_width'].std()"
   ]
  },
  {
   "cell_type": "code",
   "execution_count": null,
   "id": "35e7070e",
   "metadata": {},
   "outputs": [],
   "source": [
    "df1['petal_length'].min()"
   ]
  },
  {
   "cell_type": "code",
   "execution_count": null,
   "id": "50f491b6",
   "metadata": {},
   "outputs": [],
   "source": [
    "df1['petal_width'].max()"
   ]
  },
  {
   "cell_type": "code",
   "execution_count": null,
   "id": "ff57c280",
   "metadata": {},
   "outputs": [],
   "source": [
    "df1['petal_length'].sum()"
   ]
  },
  {
   "cell_type": "code",
   "execution_count": null,
   "id": "b13340a3",
   "metadata": {},
   "outputs": [],
   "source": [
    "df1['species'].value_counts() # frequency of each unique values in the columns   "
   ]
  },
  {
   "cell_type": "code",
   "execution_count": null,
   "id": "2f308b34",
   "metadata": {},
   "outputs": [],
   "source": [
    "df1.isnull().sum()"
   ]
  },
  {
   "cell_type": "code",
   "execution_count": null,
   "id": "73074588",
   "metadata": {},
   "outputs": [],
   "source": [
    "df1.isna().sum()"
   ]
  },
  {
   "cell_type": "code",
   "execution_count": null,
   "id": "154dd835",
   "metadata": {},
   "outputs": [],
   "source": [
    "df2 = df1.dropna()\n",
    "df2"
   ]
  },
  {
   "cell_type": "code",
   "execution_count": null,
   "id": "4386a808",
   "metadata": {},
   "outputs": [],
   "source": [
    "df2['petal_width'].fillna(df2['petal_width'].mean(), inplace=True)"
   ]
  },
  {
   "cell_type": "code",
   "execution_count": null,
   "id": "7790a08f",
   "metadata": {},
   "outputs": [],
   "source": [
    "df2['sepal_width'].interpolate(inplace=True)"
   ]
  },
  {
   "cell_type": "code",
   "execution_count": null,
   "id": "63563735",
   "metadata": {},
   "outputs": [],
   "source": [
    "import warnings\n",
    "warnings.filterwarnings('ignore')"
   ]
  },
  {
   "cell_type": "code",
   "execution_count": null,
   "id": "d0a9948f",
   "metadata": {},
   "outputs": [],
   "source": [
    "df2.duplicated().sum()"
   ]
  },
  {
   "cell_type": "code",
   "execution_count": null,
   "id": "a2a9ac6e",
   "metadata": {},
   "outputs": [],
   "source": [
    "df2.drop_duplicates(inplace=True)"
   ]
  },
  {
   "cell_type": "code",
   "execution_count": null,
   "id": "f104f0a8",
   "metadata": {},
   "outputs": [],
   "source": [
    "### **Data Manupulation**"
   ]
  },
  {
   "cell_type": "code",
   "execution_count": null,
   "id": "f69dfa08",
   "metadata": {},
   "outputs": [],
   "source": [
    "df2.head()"
   ]
  },
  {
   "cell_type": "code",
   "execution_count": null,
   "id": "2ac6d4c2",
   "metadata": {},
   "outputs": [],
   "source": [
    "df3 = df2.drop(columns=['Unnamed: 0'], axis=1)"
   ]
  },
  {
   "cell_type": "code",
   "execution_count": null,
   "id": "24f8140d",
   "metadata": {},
   "outputs": [],
   "source": [
    "df3.head()"
   ]
  },
  {
   "cell_type": "code",
   "execution_count": null,
   "id": "b6251c28",
   "metadata": {},
   "outputs": [],
   "source": [
    "df3.drop(149)"
   ]
  },
  {
   "cell_type": "code",
   "execution_count": null,
   "id": "77c11673",
   "metadata": {},
   "outputs": [],
   "source": [
    "df3.rename(columns={\"species\": \"SPECIES\"}, inplace=True)"
   ]
  },
  {
   "cell_type": "code",
   "execution_count": null,
   "id": "4ce5614e",
   "metadata": {},
   "outputs": [],
   "source": [
    "df3.SPECIES.unique()"
   ]
  },
  {
   "cell_type": "code",
   "execution_count": null,
   "id": "80ddfdec",
   "metadata": {},
   "outputs": [],
   "source": [
    "df3.SPECIES.replace({'setosa':'SETOSA', 'versicolor':'VERSICOLOR', 'virginica':'VERGINICA'}, inplace=True)"
   ]
  },
  {
   "cell_type": "code",
   "execution_count": null,
   "id": "8a36a161",
   "metadata": {},
   "outputs": [],
   "source": [
    "df3.SPECIES.unique()"
   ]
  },
  {
   "cell_type": "code",
   "execution_count": null,
   "id": "519d57ba",
   "metadata": {},
   "outputs": [],
   "source": [
    "df3.head()"
   ]
  },
  {
   "cell_type": "code",
   "execution_count": null,
   "id": "60289cc2",
   "metadata": {},
   "outputs": [],
   "source": [
    "df3.iloc[0,0] = 6"
   ]
  },
  {
   "cell_type": "code",
   "execution_count": null,
   "id": "9f938270",
   "metadata": {},
   "outputs": [],
   "source": [
    "df3[df3['SPECIES']=='SETOSA']"
   ]
  },
  {
   "cell_type": "code",
   "execution_count": null,
   "id": "6070f9c0",
   "metadata": {},
   "outputs": [],
   "source": [
    "def square(x):\n",
    "    return x**2"
   ]
  },
  {
   "cell_type": "code",
   "execution_count": null,
   "id": "dec91830",
   "metadata": {},
   "outputs": [],
   "source": [
    "df3['petal_length']"
   ]
  },
  {
   "cell_type": "code",
   "execution_count": null,
   "id": "b0f54e41",
   "metadata": {},
   "outputs": [],
   "source": [
    "df3['petal_length'].apply(square)"
   ]
  },
  {
   "cell_type": "code",
   "execution_count": null,
   "id": "d9eb14c1",
   "metadata": {},
   "outputs": [],
   "source": [
    "### **Data  Aggregation**"
   ]
  },
  {
   "cell_type": "code",
   "execution_count": null,
   "id": "7e1cddba",
   "metadata": {},
   "outputs": [],
   "source": [
    "df3.groupby('SPECIES')['petal_width'].mean()"
   ]
  },
  {
   "cell_type": "code",
   "execution_count": null,
   "id": "6299c365",
   "metadata": {},
   "outputs": [],
   "source": [
    "df3.groupby('SPECIES').agg({\"petal_length\":\"count\"}).reset_index()"
   ]
  },
  {
   "cell_type": "code",
   "execution_count": null,
   "id": "e7153ea6",
   "metadata": {},
   "outputs": [],
   "source": [
    "Species_analysis = df3.groupby('SPECIES').agg({\"petal_length\":\"mean\",\"sepal_length\":'median'}).reset_index()"
   ]
  },
  {
   "cell_type": "code",
   "execution_count": null,
   "id": "02c98bcf",
   "metadata": {},
   "outputs": [],
   "source": [
    "Species_analysis[['SPECIES','petal_length']]"
   ]
  },
  {
   "cell_type": "code",
   "execution_count": null,
   "id": "fd9a1eeb",
   "metadata": {},
   "outputs": [],
   "source": [
    "left_table = {'id':[1,2,3],\n",
    "              'name':['A','B', 'C']}\n",
    "left_df = pd.DataFrame(left_table)\n",
    "left_df"
   ]
  },
  {
   "cell_type": "code",
   "execution_count": null,
   "id": "9487d4b1",
   "metadata": {},
   "outputs": [],
   "source": [
    "right_table = {'id':[1,2,4],\n",
    "              'city':['Blore', 'jaipur', 'j & k']}\n",
    "right_df = pd.DataFrame(right_table)\n",
    "right_df"
   ]
  },
  {
   "cell_type": "code",
   "execution_count": null,
   "id": "09e8e6fb",
   "metadata": {},
   "outputs": [],
   "source": [
    "data = pd.merge(left_df, right_df, on='id')\n",
    "data"
   ]
  },
  {
   "cell_type": "code",
   "execution_count": null,
   "id": "c00507a4",
   "metadata": {},
   "outputs": [],
   "source": [
    "data = pd.merge(left_df, right_df, on='id', how='outer')\n",
    "data"
   ]
  },
  {
   "cell_type": "code",
   "execution_count": null,
   "id": "1833a7a8",
   "metadata": {},
   "outputs": [],
   "source": [
    "data = pd.merge(left_df, right_df, on='id', how='inner')\n",
    "data"
   ]
  },
  {
   "cell_type": "code",
   "execution_count": null,
   "id": "f28f1af2",
   "metadata": {},
   "outputs": [],
   "source": [
    "data = pd.merge(left_df, right_df, on='id', how='left')\n",
    "data"
   ]
  },
  {
   "cell_type": "code",
   "execution_count": null,
   "id": "65bcf63f",
   "metadata": {},
   "outputs": [],
   "source": [
    "data = pd.merge(left_df, right_df, on='id', how='right')\n",
    "data"
   ]
  },
  {
   "cell_type": "code",
   "execution_count": null,
   "id": "ab73301b",
   "metadata": {},
   "outputs": [],
   "source": [
    "from datetime import datetime, date"
   ]
  },
  {
   "cell_type": "code",
   "execution_count": null,
   "id": "2008280b",
   "metadata": {},
   "outputs": [],
   "source": [
    "today = datetime.now()\n",
    "today"
   ]
  },
  {
   "cell_type": "code",
   "execution_count": null,
   "id": "d9e3e91a",
   "metadata": {},
   "outputs": [],
   "source": [
    "today.year"
   ]
  },
  {
   "cell_type": "code",
   "execution_count": null,
   "id": "10a17e92",
   "metadata": {},
   "outputs": [],
   "source": [
    "today.month"
   ]
  },
  {
   "cell_type": "code",
   "execution_count": null,
   "id": "cc285a83",
   "metadata": {},
   "outputs": [],
   "source": [
    "today.day"
   ]
  },
  {
   "cell_type": "code",
   "execution_count": null,
   "id": "eff40081",
   "metadata": {},
   "outputs": [],
   "source": [
    "date.today()"
   ]
  },
  {
   "cell_type": "code",
   "execution_count": null,
   "id": "dd0c88de",
   "metadata": {},
   "outputs": [],
   "source": [
    "date = today.strftime(\"%a %d-%B-%Y\")\n",
    "date"
   ]
  },
  {
   "cell_type": "code",
   "execution_count": null,
   "id": "585de29b",
   "metadata": {},
   "outputs": [],
   "source": [
    "date = today.strftime(\"%Y/%m/%d %a\")\n",
    "date"
   ]
  },
  {
   "cell_type": "code",
   "execution_count": 345,
   "id": "8331937a",
   "metadata": {},
   "outputs": [
    {
     "data": {
      "text/plain": [
       "DatetimeIndex(['2025-08-15 00:00:00', '2025-08-15 01:00:00',\n",
       "               '2025-08-15 02:00:00', '2025-08-15 03:00:00',\n",
       "               '2025-08-15 04:00:00', '2025-08-15 05:00:00',\n",
       "               '2025-08-15 06:00:00', '2025-08-15 07:00:00',\n",
       "               '2025-08-15 08:00:00', '2025-08-15 09:00:00'],\n",
       "              dtype='datetime64[ns]', freq='h')"
      ]
     },
     "execution_count": 345,
     "metadata": {},
     "output_type": "execute_result"
    }
   ],
   "source": [
    "dates = pd.date_range(start='15-08-2025', periods=10, freq='H')\n",
    "dates"
   ]
  },
  {
   "cell_type": "code",
   "execution_count": 346,
   "id": "1bbc2a37",
   "metadata": {},
   "outputs": [
    {
     "data": {
      "text/plain": [
       "DatetimeIndex(['2025-12-31', '2026-12-31', '2027-12-31', '2028-12-31',\n",
       "               '2029-12-31', '2030-12-31', '2031-12-31', '2032-12-31',\n",
       "               '2033-12-31', '2034-12-31'],\n",
       "              dtype='datetime64[ns]', freq='YE-DEC')"
      ]
     },
     "execution_count": 346,
     "metadata": {},
     "output_type": "execute_result"
    }
   ],
   "source": [
    "dates = pd.date_range(start='15-08-2025', periods=10, freq='Y')\n",
    "dates"
   ]
  },
  {
   "cell_type": "code",
   "execution_count": null,
   "id": "797f997e",
   "metadata": {},
   "outputs": [],
   "source": []
  }
 ],
 "metadata": {
  "kernelspec": {
   "display_name": "Python 3",
   "language": "python",
   "name": "python3"
  },
  "language_info": {
   "codemirror_mode": {
    "name": "ipython",
    "version": 3
   },
   "file_extension": ".py",
   "mimetype": "text/x-python",
   "name": "python",
   "nbconvert_exporter": "python",
   "pygments_lexer": "ipython3",
   "version": "3.13.1"
  }
 },
 "nbformat": 4,
 "nbformat_minor": 5
}
