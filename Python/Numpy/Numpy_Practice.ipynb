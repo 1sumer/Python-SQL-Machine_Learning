{
 "cells": [
  {
   "cell_type": "markdown",
   "id": "6bd24538-dded-4472-8af6-5c228a0b0318",
   "metadata": {},
   "source": [
    "## **Numpy**"
   ]
  },
  {
   "cell_type": "code",
   "execution_count": 17,
   "id": "8a13561e-5ff8-407d-bb81-e3436a17e4a9",
   "metadata": {
    "scrolled": true
   },
   "outputs": [],
   "source": [
    "#pip install numpy # Instal"
   ]
  },
  {
   "cell_type": "code",
   "execution_count": 18,
   "id": "2889633e-00a5-49cb-a2e7-244fd0233d9e",
   "metadata": {},
   "outputs": [],
   "source": [
    "#pip show numpy # To know the Library in python package"
   ]
  },
  {
   "cell_type": "code",
   "execution_count": 2,
   "id": "480bf5c2-b7d5-46c6-a881-5a8cb6629755",
   "metadata": {},
   "outputs": [],
   "source": [
    "import numpy"
   ]
  },
  {
   "cell_type": "code",
   "execution_count": 3,
   "id": "02e095c1-9e66-42a5-ae08-ee99eb9cb426",
   "metadata": {},
   "outputs": [],
   "source": [
    "import numpy as np"
   ]
  },
  {
   "cell_type": "code",
   "execution_count": 19,
   "id": "64a29a8d-c142-4898-8adf-69872b26dfb3",
   "metadata": {},
   "outputs": [],
   "source": [
    "# dir(np) # All the Directories"
   ]
  },
  {
   "cell_type": "code",
   "execution_count": 20,
   "id": "fcdfb57c-2534-4d66-8876-e09d53fe4f75",
   "metadata": {},
   "outputs": [],
   "source": [
    "#print(np.__doc__) # Documention of Numpy Library"
   ]
  },
  {
   "cell_type": "markdown",
   "id": "febca68a-905f-4163-96a6-9a76bb8aba38",
   "metadata": {},
   "source": [
    "```\n",
    "arr = np.array([elements])\n",
    "marr = np.array([[elements],[elements]])\n",
    "```"
   ]
  },
  {
   "cell_type": "code",
   "execution_count": 13,
   "id": "7785ec63-9c48-45b6-8bc5-c15ee8e7029c",
   "metadata": {},
   "outputs": [
    {
     "name": "stdout",
     "output_type": "stream",
     "text": [
      "[3, 4, 5, 6, 7, 8] \n",
      " [3 4 5 6 7 8]\n"
     ]
    }
   ],
   "source": [
    "python_list = [1,2,3,4,5,6]\n",
    "numpy_array = np.array(range(1, 7))\n",
    "\n",
    "python_list_add = [i+2 for i in python_list]\n",
    "\n",
    "numpy_array_add = numpy_array+2\n",
    "\n",
    "print(python_list_add, '\\n', numpy_array_add)"
   ]
  },
  {
   "cell_type": "code",
   "execution_count": 15,
   "id": "00ddf21a-5262-49d7-8b76-b03ded0fc891",
   "metadata": {},
   "outputs": [
    {
     "name": "stdout",
     "output_type": "stream",
     "text": [
      "Time taken for Python list addition: 0.00024318695068359375 seconds\n",
      "Time taken for numpy array addition: 0.0009496212005615234 seconds\n"
     ]
    }
   ],
   "source": [
    "import time\n",
    "\n",
    "python_list = [1,2,3,4,5,6]\n",
    "numpy_array = np.array(range(1, 7))\n",
    "\n",
    "start_time = time.time()\n",
    "python_list_add = [i+2 for i in python_list]\n",
    "End_time = time.time()\n",
    "print(f\"Time taken for Python list addition: {End_time - start_time} seconds\")\n",
    "\n",
    "start_time = time.time()\n",
    "numpy_array_add = numpy_array+2\n",
    "End_time = time.time()\n",
    "print(f\"Time taken for numpy array addition: {End_time - start_time} seconds\")"
   ]
  },
  {
   "cell_type": "code",
   "execution_count": 16,
   "id": "dac29252-1c38-40fc-91c0-b04d0d34e421",
   "metadata": {},
   "outputs": [
    {
     "name": "stdout",
     "output_type": "stream",
     "text": [
      "120\n",
      "48\n"
     ]
    }
   ],
   "source": [
    "python_list = [1,2,3,4,5,6]\n",
    "numpy_array = np.array(range(1, 7))\n",
    "\n",
    "python_list_add = [i+2 for i in python_list]\n",
    "\n",
    "numpy_array_add = numpy_array+2\n",
    "\n",
    "import sys\n",
    "print(sys.getsizeof(python_list_add))\n",
    "print(numpy_array_add.nbytes)"
   ]
  },
  {
   "cell_type": "code",
   "execution_count": 4,
   "id": "eb85b69d-fbf4-4dd6-99a5-5c73536a5a55",
   "metadata": {},
   "outputs": [
    {
     "data": {
      "text/plain": [
       "array([0, 3, 6, 9])"
      ]
     },
     "execution_count": 4,
     "metadata": {},
     "output_type": "execute_result"
    }
   ],
   "source": [
    "arr1 = np.arange(0, 10, 3, dtype='int')\n",
    "arr1"
   ]
  },
  {
   "cell_type": "code",
   "execution_count": 6,
   "id": "2567b5af-df0b-46e0-a5d9-d247390b7dad",
   "metadata": {},
   "outputs": [
    {
     "data": {
      "text/plain": [
       "array([ 0. ,  2.5,  5. ,  7.5, 10. ])"
      ]
     },
     "execution_count": 6,
     "metadata": {},
     "output_type": "execute_result"
    }
   ],
   "source": [
    "arr2 = np.linspace(0,10, num=5, dtype='float', endpoint=True)\n",
    "arr2"
   ]
  },
  {
   "cell_type": "markdown",
   "id": "338e5973-29bd-451b-9bb2-3fd5bbf13351",
   "metadata": {},
   "source": [
    "<h3><b>NumPy arange vs linspace</b></h3>\n",
    "\n",
    "<table>\n",
    "    <tr>\n",
    "      <th>Feature</th>\n",
    "      <th><code>np.arange</code></th>\n",
    "      <th><code>np.linspace</code></th>\n",
    "    </tr>\n",
    "    <tr>\n",
    "      <td>Syntax</td>\n",
    "      <td><code>numpy.arange([start, ]stop, [step, ]dtype=None)</code></td>\n",
    "      <td><code>numpy.linspace(start, stop, num=50, endpoint=True, retstep=False, dtype=None)</code></td>\n",
    "    </tr>\n",
    "    <tr>\n",
    "      <td>Start Value</td>\n",
    "      <td>Specifies the starting value of the sequence.</td>\n",
    "      <td>Specifies the starting value of the sequence.</td>\n",
    "    </tr>\n",
    "    <tr>\n",
    "      <td>Stop Value</td>\n",
    "      <td>Specifies the end value, and the sequence will stop before reaching it.</td>\n",
    "      <td>Specifies the end value, and the sequence may include it depending on <code>endpoint</code>.</td>\n",
    "    </tr>\n",
    "    <tr>\n",
    "      <td>Spacing</td>\n",
    "      <td>Specifies the spacing between values.</td>\n",
    "      <td>Specifies the number of evenly spaced samples to generate.</td>\n",
    "    </tr>\n",
    "    <tr>\n",
    "      <td>Endpoint</td>\n",
    "      <td>By default, the <code>stop</code> value is not included in the array.</td>\n",
    "      <td>Determines whether the <code>stop</code> value is included in the array.</td>\n",
    "    </tr>\n",
    "    <tr>\n",
    "      <td>Number of Samples (<code>num</code>)</td>\n",
    "      <td>Not applicable.</td>\n",
    "      <td>Specifies the number of evenly spaced samples to generate.</td>\n",
    "    </tr>\n",
    "    <tr>\n",
    "      <td>Return Step Size (<code>retstep</code>)</td>\n",
    "      <td>Not applicable.</td>\n",
    "      <td>If <code>True</code>, returns the step size between values.</td>\n",
    "    </tr>\n",
    "    <tr>\n",
    "      <td>Data Type (<code>dtype</code>)</td>\n",
    "      <td>Sets the data type of the output array.</td>\n",
    "      <td>Sets the data type of the output array.</td>\n",
    "    </tr>\n",
    "  </table>"
   ]
  },
  {
   "cell_type": "code",
   "execution_count": 7,
   "id": "0d49db6e-909f-47f8-a372-72605d744f50",
   "metadata": {},
   "outputs": [],
   "source": [
    "# 1D Array"
   ]
  },
  {
   "cell_type": "code",
   "execution_count": 8,
   "id": "2d67afc5-24d5-4a94-9231-21526677e481",
   "metadata": {},
   "outputs": [
    {
     "data": {
      "text/plain": [
       "array([1, 2, 3, 4])"
      ]
     },
     "execution_count": 8,
     "metadata": {},
     "output_type": "execute_result"
    }
   ],
   "source": [
    "arr3 = np.array([1,2,3,4])\n",
    "arr3"
   ]
  },
  {
   "cell_type": "code",
   "execution_count": 9,
   "id": "611cf48e-fe43-4e06-9af6-ff53dfa23d58",
   "metadata": {},
   "outputs": [
    {
     "data": {
      "text/plain": [
       "(4,)"
      ]
     },
     "execution_count": 9,
     "metadata": {},
     "output_type": "execute_result"
    }
   ],
   "source": [
    "arr3.shape"
   ]
  },
  {
   "cell_type": "code",
   "execution_count": 12,
   "id": "f2d37156-dbed-4c33-90b2-dfc458cc01db",
   "metadata": {},
   "outputs": [
    {
     "data": {
      "text/plain": [
       "array([1, 1, 1, 1, 1])"
      ]
     },
     "execution_count": 12,
     "metadata": {},
     "output_type": "execute_result"
    }
   ],
   "source": [
    "arr4 = np.ones(shape=(5,), dtype=int)\n",
    "arr4"
   ]
  },
  {
   "cell_type": "code",
   "execution_count": 16,
   "id": "11feef33-7d12-407d-8eaf-81a72bfb2def",
   "metadata": {},
   "outputs": [
    {
     "data": {
      "text/plain": [
       "array([0., 0., 0., 0.])"
      ]
     },
     "execution_count": 16,
     "metadata": {},
     "output_type": "execute_result"
    }
   ],
   "source": [
    "arr5 = np.zeros(shape=(4), dtype=float)\n",
    "arr5"
   ]
  },
  {
   "cell_type": "code",
   "execution_count": 17,
   "id": "379598ab-11ac-4c1a-97be-e8f64a862b0b",
   "metadata": {},
   "outputs": [],
   "source": [
    "# 2D"
   ]
  },
  {
   "cell_type": "code",
   "execution_count": 19,
   "id": "9db80856-45aa-400f-b64b-3629c20b7a6c",
   "metadata": {},
   "outputs": [
    {
     "data": {
      "text/plain": [
       "array([[1, 2, 3],\n",
       "       [4, 5, 6]])"
      ]
     },
     "execution_count": 19,
     "metadata": {},
     "output_type": "execute_result"
    }
   ],
   "source": [
    "arr6 = np.array([[1,2,3], [4,5,6]])\n",
    "arr6"
   ]
  },
  {
   "cell_type": "code",
   "execution_count": 20,
   "id": "ccaecd12-912c-4186-95ba-d718354cfb4f",
   "metadata": {},
   "outputs": [
    {
     "data": {
      "text/plain": [
       "(2, 3)"
      ]
     },
     "execution_count": 20,
     "metadata": {},
     "output_type": "execute_result"
    }
   ],
   "source": [
    "arr6.shape"
   ]
  },
  {
   "cell_type": "code",
   "execution_count": 21,
   "id": "022194be-ba2c-4aef-9bb3-9116ade22e7b",
   "metadata": {},
   "outputs": [
    {
     "data": {
      "text/plain": [
       "6"
      ]
     },
     "execution_count": 21,
     "metadata": {},
     "output_type": "execute_result"
    }
   ],
   "source": [
    "arr6.size"
   ]
  },
  {
   "cell_type": "code",
   "execution_count": 22,
   "id": "38fd5109-8dd4-4ac5-820a-2aa78ac055fc",
   "metadata": {},
   "outputs": [
    {
     "data": {
      "text/plain": [
       "array([[1., 1.],\n",
       "       [1., 1.],\n",
       "       [1., 1.]])"
      ]
     },
     "execution_count": 22,
     "metadata": {},
     "output_type": "execute_result"
    }
   ],
   "source": [
    "arr7 = np.ones(shape=(3,2))\n",
    "arr7"
   ]
  },
  {
   "cell_type": "code",
   "execution_count": 24,
   "id": "44bec14a-0bfc-4eb5-be33-3ed8af534614",
   "metadata": {},
   "outputs": [
    {
     "data": {
      "text/plain": [
       "array([[0, 0],\n",
       "       [0, 0]])"
      ]
     },
     "execution_count": 24,
     "metadata": {},
     "output_type": "execute_result"
    }
   ],
   "source": [
    "arr8 = np.zeros(shape=(2,2), dtype='int')\n",
    "arr8"
   ]
  },
  {
   "cell_type": "code",
   "execution_count": 25,
   "id": "9edea558-941e-47c0-a300-63c1f36b5939",
   "metadata": {},
   "outputs": [],
   "source": [
    "#3D"
   ]
  },
  {
   "cell_type": "code",
   "execution_count": 26,
   "id": "36128a37-ca34-440c-a687-29df8fc1b996",
   "metadata": {},
   "outputs": [
    {
     "data": {
      "text/plain": [
       "array([[[1, 2],\n",
       "        [3, 4]],\n",
       "\n",
       "       [[5, 6],\n",
       "        [7, 8]]])"
      ]
     },
     "execution_count": 26,
     "metadata": {},
     "output_type": "execute_result"
    }
   ],
   "source": [
    "arr9 = np.array([[[1,2],[3,4]],[[5,6],[7,8]]])\n",
    "arr9"
   ]
  },
  {
   "cell_type": "code",
   "execution_count": 27,
   "id": "86e957d1-cf26-4a91-b235-313a8ba38c72",
   "metadata": {},
   "outputs": [
    {
     "data": {
      "text/plain": [
       "(2, 2, 2)"
      ]
     },
     "execution_count": 27,
     "metadata": {},
     "output_type": "execute_result"
    }
   ],
   "source": [
    "arr9.shape"
   ]
  },
  {
   "cell_type": "code",
   "execution_count": 28,
   "id": "f2789577-b0d7-48b6-9bfb-24ee4bd2c318",
   "metadata": {},
   "outputs": [
    {
     "data": {
      "text/plain": [
       "array([[[1., 1.],\n",
       "        [1., 1.]],\n",
       "\n",
       "       [[1., 1.],\n",
       "        [1., 1.]],\n",
       "\n",
       "       [[1., 1.],\n",
       "        [1., 1.]]])"
      ]
     },
     "execution_count": 28,
     "metadata": {},
     "output_type": "execute_result"
    }
   ],
   "source": [
    "arr10 = np.ones(shape=(3,2,2))\n",
    "arr10"
   ]
  },
  {
   "cell_type": "code",
   "execution_count": 29,
   "id": "392de00c-6d00-4e0a-abb9-b4805080a4b4",
   "metadata": {},
   "outputs": [
    {
     "data": {
      "text/plain": [
       "12"
      ]
     },
     "execution_count": 29,
     "metadata": {},
     "output_type": "execute_result"
    }
   ],
   "source": [
    "arr10.size"
   ]
  },
  {
   "cell_type": "code",
   "execution_count": 31,
   "id": "38ee7c45-4055-4c73-b496-aa060d9bb82d",
   "metadata": {},
   "outputs": [
    {
     "data": {
      "text/plain": [
       "array([[[0, 0],\n",
       "        [0, 0],\n",
       "        [0, 0]],\n",
       "\n",
       "       [[0, 0],\n",
       "        [0, 0],\n",
       "        [0, 0]]])"
      ]
     },
     "execution_count": 31,
     "metadata": {},
     "output_type": "execute_result"
    }
   ],
   "source": [
    "arr11 = np.zeros(shape=(2,3,2), dtype=int)\n",
    "arr11"
   ]
  },
  {
   "cell_type": "code",
   "execution_count": 32,
   "id": "b6bb13da-8202-492d-a8e2-34d0a6502985",
   "metadata": {},
   "outputs": [],
   "source": [
    "## Random Module"
   ]
  },
  {
   "cell_type": "code",
   "execution_count": 33,
   "id": "d0754a31-47ef-4df8-b9db-e57e8a4301f3",
   "metadata": {},
   "outputs": [
    {
     "data": {
      "text/plain": [
       "array([[0.96117484, 0.44712495, 0.85036826],\n",
       "       [0.55899637, 0.71840322, 0.84247906],\n",
       "       [0.47836939, 0.51112716, 0.6570422 ]])"
      ]
     },
     "execution_count": 33,
     "metadata": {},
     "output_type": "execute_result"
    }
   ],
   "source": [
    "arr12 = np.random.rand(3,3) # unform ditribution over [0,1]\n",
    "arr12"
   ]
  },
  {
   "cell_type": "code",
   "execution_count": 35,
   "id": "c13c577e-be32-45e3-89cf-20a259d1b60c",
   "metadata": {},
   "outputs": [
    {
     "data": {
      "text/plain": [
       "array([[ 0.2677228 , -1.31435764, -1.55583571],\n",
       "       [ 0.40585564, -1.79358402,  0.11324689],\n",
       "       [-0.10043681, -0.40834787,  0.37157766]])"
      ]
     },
     "execution_count": 35,
     "metadata": {},
     "output_type": "execute_result"
    }
   ],
   "source": [
    "arr13 = np.random.randn(3,3) # Standerd normal distribution over [0,1]\n",
    "arr13"
   ]
  },
  {
   "cell_type": "code",
   "execution_count": 36,
   "id": "813a822c-3061-4a5a-bfbb-3965cf20608d",
   "metadata": {},
   "outputs": [
    {
     "data": {
      "text/plain": [
       "array([[ 7, -1, -6],\n",
       "       [ 9, -1,  5]], dtype=int32)"
      ]
     },
     "execution_count": 36,
     "metadata": {},
     "output_type": "execute_result"
    }
   ],
   "source": [
    "arr14 = np.random.randint(-10,10, size=(2,3)) # Specific Range\n",
    "arr14"
   ]
  },
  {
   "cell_type": "code",
   "execution_count": 38,
   "id": "6c199741-4b8e-41ae-a48c-76d85ae98ccf",
   "metadata": {},
   "outputs": [
    {
     "name": "stdout",
     "output_type": "stream",
     "text": [
      "[[1. 0. 0.]\n",
      " [0. 1. 0.]\n",
      " [0. 0. 1.]]\n"
     ]
    }
   ],
   "source": [
    "## identity \n",
    "i = np.identity(3)\n",
    "print(i)"
   ]
  },
  {
   "cell_type": "code",
   "execution_count": 39,
   "id": "f88f69a7-2d94-427e-9952-00db131ef0b0",
   "metadata": {},
   "outputs": [
    {
     "data": {
      "text/plain": [
       "array([[1, 0, 0],\n",
       "       [0, 2, 0],\n",
       "       [0, 0, 3]])"
      ]
     },
     "execution_count": 39,
     "metadata": {},
     "output_type": "execute_result"
    }
   ],
   "source": [
    "## diagonal\n",
    "d = np.diag([1,2,3])\n",
    "d"
   ]
  },
  {
   "cell_type": "code",
   "execution_count": 40,
   "id": "9054e864-55b4-49fd-ba8d-ea196cd67fad",
   "metadata": {},
   "outputs": [],
   "source": [
    "## changing the type of the data type"
   ]
  },
  {
   "cell_type": "code",
   "execution_count": 41,
   "id": "1cd19ab0-057c-40c2-9bc3-1478da3f1b2e",
   "metadata": {},
   "outputs": [
    {
     "name": "stdout",
     "output_type": "stream",
     "text": [
      "[11 12 13]\n"
     ]
    }
   ],
   "source": [
    "c = np.array([11,12,13], dtype='int')\n",
    "print(c)"
   ]
  },
  {
   "cell_type": "code",
   "execution_count": 42,
   "id": "56c82d1d-2c0a-415f-9ed2-3f1c3df1fd8b",
   "metadata": {},
   "outputs": [
    {
     "data": {
      "text/plain": [
       "numpy.ndarray"
      ]
     },
     "execution_count": 42,
     "metadata": {},
     "output_type": "execute_result"
    }
   ],
   "source": [
    "# type of array\n",
    "type(c)"
   ]
  },
  {
   "cell_type": "code",
   "execution_count": 43,
   "id": "1e43ebf3-776a-438a-bc0b-2954b3813678",
   "metadata": {},
   "outputs": [
    {
     "data": {
      "text/plain": [
       "numpy.int64"
      ]
     },
     "execution_count": 43,
     "metadata": {},
     "output_type": "execute_result"
    }
   ],
   "source": [
    "type(c[0])"
   ]
  },
  {
   "cell_type": "code",
   "execution_count": 44,
   "id": "660c3049-da00-44b5-920b-2aee8944c65d",
   "metadata": {},
   "outputs": [
    {
     "data": {
      "text/plain": [
       "array(['11', '12', '13'], dtype='<U21')"
      ]
     },
     "execution_count": 44,
     "metadata": {},
     "output_type": "execute_result"
    }
   ],
   "source": [
    "g = c.astype(str)\n",
    "g"
   ]
  },
  {
   "cell_type": "code",
   "execution_count": 45,
   "id": "a3d07bb9-c2f5-42b5-813e-41005ba9025c",
   "metadata": {},
   "outputs": [
    {
     "data": {
      "text/plain": [
       "numpy.str_"
      ]
     },
     "execution_count": 45,
     "metadata": {},
     "output_type": "execute_result"
    }
   ],
   "source": [
    "type(g[0])"
   ]
  },
  {
   "cell_type": "code",
   "execution_count": 47,
   "id": "7be4a630-01ae-4194-8245-37c16edaf920",
   "metadata": {},
   "outputs": [
    {
     "name": "stdout",
     "output_type": "stream",
     "text": [
      "[ 2.  3.  4.  5.  6.  7.  8.  9. 10.]\n"
     ]
    }
   ],
   "source": [
    "d = np.linspace(2,10, num=9, dtype=float)\n",
    "print(d)"
   ]
  },
  {
   "cell_type": "code",
   "execution_count": 49,
   "id": "65830209-cd1d-47f7-8d14-e0bd5677f467",
   "metadata": {},
   "outputs": [
    {
     "data": {
      "text/plain": [
       "array([ 2,  3,  4,  5,  6,  7,  8,  9, 10])"
      ]
     },
     "execution_count": 49,
     "metadata": {},
     "output_type": "execute_result"
    }
   ],
   "source": [
    "f = d.astype('int')\n",
    "f"
   ]
  },
  {
   "cell_type": "code",
   "execution_count": 50,
   "id": "5c359ded-b91c-4c26-bb9a-2da5a6a6e3ab",
   "metadata": {},
   "outputs": [],
   "source": [
    "## Reshape"
   ]
  },
  {
   "cell_type": "code",
   "execution_count": 51,
   "id": "e409e877-148f-42b4-9ea4-f6316df7d4c9",
   "metadata": {},
   "outputs": [
    {
     "data": {
      "text/plain": [
       "array([0, 1, 2, 3, 4, 5, 6, 7, 8, 9])"
      ]
     },
     "execution_count": 51,
     "metadata": {},
     "output_type": "execute_result"
    }
   ],
   "source": [
    "re = np.arange(0,10)\n",
    "re"
   ]
  },
  {
   "cell_type": "code",
   "execution_count": 52,
   "id": "133f4aa4-6dd8-443a-b71b-b6c9aa99de0c",
   "metadata": {},
   "outputs": [
    {
     "data": {
      "text/plain": [
       "(10,)"
      ]
     },
     "execution_count": 52,
     "metadata": {},
     "output_type": "execute_result"
    }
   ],
   "source": [
    "re.shape"
   ]
  },
  {
   "cell_type": "code",
   "execution_count": 55,
   "id": "96bf5b0e-850c-49e9-83bc-746344bcb20a",
   "metadata": {},
   "outputs": [
    {
     "data": {
      "text/plain": [
       "array([[0, 1, 2, 3, 4],\n",
       "       [5, 6, 7, 8, 9]])"
      ]
     },
     "execution_count": 55,
     "metadata": {},
     "output_type": "execute_result"
    }
   ],
   "source": [
    "re1 = re.reshape(2,5)\n",
    "re1"
   ]
  },
  {
   "cell_type": "code",
   "execution_count": 56,
   "id": "2a013b0b-d30e-4bf2-ba36-218771aaaca4",
   "metadata": {},
   "outputs": [
    {
     "data": {
      "text/plain": [
       "array([[[0, 1],\n",
       "        [2, 3]],\n",
       "\n",
       "       [[4, 5],\n",
       "        [6, 7]]])"
      ]
     },
     "execution_count": 56,
     "metadata": {},
     "output_type": "execute_result"
    }
   ],
   "source": [
    "re2 = np.arange(8).reshape(2,2,2)\n",
    "re2"
   ]
  },
  {
   "cell_type": "code",
   "execution_count": 57,
   "id": "b23864f5-1b2c-450e-9e93-0430eb3d4491",
   "metadata": {},
   "outputs": [],
   "source": [
    "## itemsize and nbytes"
   ]
  },
  {
   "cell_type": "code",
   "execution_count": 59,
   "id": "ec3fd2e9-ca12-4e3a-9826-f432b803cf95",
   "metadata": {},
   "outputs": [
    {
     "name": "stdout",
     "output_type": "stream",
     "text": [
      "[[ 1  2  3]\n",
      " [ 4  5  6]\n",
      " [ 7  8  9]\n",
      " [10 11 12]]\n",
      "8\n",
      "96\n"
     ]
    }
   ],
   "source": [
    "its = np.arange(1,13).reshape(4,3)\n",
    "print(its)\n",
    "\n",
    "print(its.itemsize) # memory ocupied by the item\n",
    "print(its.nbytes) # memory ocupied by the array"
   ]
  },
  {
   "cell_type": "code",
   "execution_count": 60,
   "id": "0f2fbcb3-43b7-4ee3-bc50-07cf16214cf2",
   "metadata": {},
   "outputs": [],
   "source": [
    "## Array Opeartions\n",
    "### Scalar Opeation"
   ]
  },
  {
   "cell_type": "code",
   "execution_count": 61,
   "id": "90fbe9b4-5e2c-46b1-97fe-c1d8eaa30ce0",
   "metadata": {},
   "outputs": [
    {
     "data": {
      "text/plain": [
       "array([[ 0,  1,  2,  3],\n",
       "       [ 4,  5,  6,  7],\n",
       "       [ 8,  9, 10, 11]])"
      ]
     },
     "execution_count": 61,
     "metadata": {},
     "output_type": "execute_result"
    }
   ],
   "source": [
    "so = np.arange(12).reshape(3,4)\n",
    "so"
   ]
  },
  {
   "cell_type": "code",
   "execution_count": 62,
   "id": "fea8505b-dbc2-4f75-aefb-afb7716d7b2c",
   "metadata": {},
   "outputs": [
    {
     "data": {
      "text/plain": [
       "array([[ 2,  3,  4,  5],\n",
       "       [ 6,  7,  8,  9],\n",
       "       [10, 11, 12, 13]])"
      ]
     },
     "execution_count": 62,
     "metadata": {},
     "output_type": "execute_result"
    }
   ],
   "source": [
    "so+2"
   ]
  },
  {
   "cell_type": "code",
   "execution_count": 64,
   "id": "9c590ce3-4470-4b55-8213-ee90676ff708",
   "metadata": {},
   "outputs": [
    {
     "data": {
      "text/plain": [
       "array([[-2, -1,  0,  1],\n",
       "       [ 2,  3,  4,  5],\n",
       "       [ 6,  7,  8,  9]])"
      ]
     },
     "execution_count": 64,
     "metadata": {},
     "output_type": "execute_result"
    }
   ],
   "source": [
    "so-2"
   ]
  },
  {
   "cell_type": "code",
   "execution_count": 65,
   "id": "b35f8b7f-20f3-496f-983e-f7a29bae1cce",
   "metadata": {},
   "outputs": [
    {
     "data": {
      "text/plain": [
       "array([[ 0,  2,  4,  6],\n",
       "       [ 8, 10, 12, 14],\n",
       "       [16, 18, 20, 22]])"
      ]
     },
     "execution_count": 65,
     "metadata": {},
     "output_type": "execute_result"
    }
   ],
   "source": [
    "so*2"
   ]
  },
  {
   "cell_type": "code",
   "execution_count": 66,
   "id": "8a673b94-c46b-4027-a963-302bfe0fef87",
   "metadata": {},
   "outputs": [
    {
     "data": {
      "text/plain": [
       "array([[0. , 0.5, 1. , 1.5],\n",
       "       [2. , 2.5, 3. , 3.5],\n",
       "       [4. , 4.5, 5. , 5.5]])"
      ]
     },
     "execution_count": 66,
     "metadata": {},
     "output_type": "execute_result"
    }
   ],
   "source": [
    "so /2, # %, //, **"
   ]
  },
  {
   "cell_type": "code",
   "execution_count": 1,
   "id": "9758a3bb-369a-4e9a-b6dc-8aae71b566d2",
   "metadata": {},
   "outputs": [],
   "source": [
    "## Vector Operation"
   ]
  },
  {
   "cell_type": "code",
   "execution_count": null,
   "id": "6eddb808-fca6-4812-9ed2-a8a0e8cde0f7",
   "metadata": {},
   "outputs": [
    {
     "name": "stdout",
     "output_type": "stream",
     "text": [
      "[ 9 11 13] [1 1 1] [20 30 42] [1.25       1.2        1.16666667]\n"
     ]
    }
   ],
   "source": [
    "vo = np.array([1,2,3]) + 4 # [5,6,7]\n",
    "vo1 = np.array([4,5,6])\n",
    "\n",
    "add = vo + vo1\n",
    "sub = vo - vo1\n",
    "mul = vo * vo1\n",
    "div = vo / vo1\n",
    "print(add, sub, mul, div, sep=' ')"
   ]
  },
  {
   "cell_type": "code",
   "execution_count": 4,
   "id": "08ce322a-73f2-4fc6-b1a0-59990510ed31",
   "metadata": {},
   "outputs": [
    {
     "name": "stdout",
     "output_type": "stream",
     "text": [
      "[[ 0  1  2  3]\n",
      " [ 4  5  6  7]\n",
      " [ 8  9 10 11]] \n",
      "\n",
      " [[12 13 14 15]\n",
      " [16 17 18 19]\n",
      " [20 21 22 23]]\n"
     ]
    }
   ],
   "source": [
    "import numpy as np\n",
    "za = np.arange(12).reshape(3,4)\n",
    "zb = np.arange(12,24).reshape(3,4)\n",
    "\n",
    "print(za, '\\n\\n', zb)"
   ]
  },
  {
   "cell_type": "code",
   "execution_count": 5,
   "id": "44ff6163-d1ca-4863-9f27-2e9818847290",
   "metadata": {},
   "outputs": [
    {
     "data": {
      "text/plain": [
       "(array([[12, 14, 16, 18],\n",
       "        [20, 22, 24, 26],\n",
       "        [28, 30, 32, 34]]),\n",
       " array([[-12, -12, -12, -12],\n",
       "        [-12, -12, -12, -12],\n",
       "        [-12, -12, -12, -12]]),\n",
       " array([[  0,  13,  28,  45],\n",
       "        [ 64,  85, 108, 133],\n",
       "        [160, 189, 220, 253]]),\n",
       " array([[0.        , 0.07692308, 0.14285714, 0.2       ],\n",
       "        [0.25      , 0.29411765, 0.33333333, 0.36842105],\n",
       "        [0.4       , 0.42857143, 0.45454545, 0.47826087]]))"
      ]
     },
     "execution_count": 5,
     "metadata": {},
     "output_type": "execute_result"
    }
   ],
   "source": [
    "addition = za + zb\n",
    "subtracion = za - zb\n",
    "multiplication = za * zb\n",
    "division = za/zb\n",
    "addition, subtracion, multiplication, division"
   ]
  },
  {
   "cell_type": "code",
   "execution_count": 15,
   "id": "b44ca194-df5e-4c88-9232-a1035bfc713a",
   "metadata": {},
   "outputs": [
    {
     "data": {
      "text/plain": [
       "array([[12, 14, 16, 18],\n",
       "       [20, 22, 24, 26],\n",
       "       [28, 30, 32, 34]])"
      ]
     },
     "execution_count": 15,
     "metadata": {},
     "output_type": "execute_result"
    }
   ],
   "source": [
    "np.add(za, zb)"
   ]
  },
  {
   "cell_type": "code",
   "execution_count": 16,
   "id": "98a9d2e4-0d03-4bb5-8f51-058a050d2bf1",
   "metadata": {},
   "outputs": [
    {
     "data": {
      "text/plain": [
       "array([[-12, -12, -12, -12],\n",
       "       [-12, -12, -12, -12],\n",
       "       [-12, -12, -12, -12]])"
      ]
     },
     "execution_count": 16,
     "metadata": {},
     "output_type": "execute_result"
    }
   ],
   "source": [
    "np.subtract(za, zb)"
   ]
  },
  {
   "cell_type": "code",
   "execution_count": 17,
   "id": "5e2f230d-2d46-4219-933a-edcb9d1e8ed8",
   "metadata": {},
   "outputs": [
    {
     "data": {
      "text/plain": [
       "array([[  0,  13,  28,  45],\n",
       "       [ 64,  85, 108, 133],\n",
       "       [160, 189, 220, 253]])"
      ]
     },
     "execution_count": 17,
     "metadata": {},
     "output_type": "execute_result"
    }
   ],
   "source": [
    "np.multiply(za, zb)"
   ]
  },
  {
   "cell_type": "code",
   "execution_count": 18,
   "id": "2f5fff42-f92f-4cb8-b91d-b16be6786ada",
   "metadata": {},
   "outputs": [
    {
     "data": {
      "text/plain": [
       "array([[0.        , 0.07692308, 0.14285714, 0.2       ],\n",
       "       [0.25      , 0.29411765, 0.33333333, 0.36842105],\n",
       "       [0.4       , 0.42857143, 0.45454545, 0.47826087]])"
      ]
     },
     "execution_count": 18,
     "metadata": {},
     "output_type": "execute_result"
    }
   ],
   "source": [
    "np.divide(za, zb)"
   ]
  },
  {
   "cell_type": "code",
   "execution_count": 19,
   "id": "d3dcba39-ec67-4b4e-98fe-1ac750a123df",
   "metadata": {},
   "outputs": [
    {
     "data": {
      "text/plain": [
       "array([[ 0,  1,  2,  3],\n",
       "       [ 4,  5,  6,  7],\n",
       "       [ 8,  9, 10, 11]])"
      ]
     },
     "execution_count": 19,
     "metadata": {},
     "output_type": "execute_result"
    }
   ],
   "source": [
    "np.mod(za, zb)"
   ]
  },
  {
   "cell_type": "code",
   "execution_count": 22,
   "id": "d117fc48-9e5e-471d-9656-1d3a77a269a0",
   "metadata": {},
   "outputs": [
    {
     "data": {
      "text/plain": [
       "array([[0, 0, 0, 0],\n",
       "       [0, 0, 0, 0],\n",
       "       [0, 0, 0, 0]])"
      ]
     },
     "execution_count": 22,
     "metadata": {},
     "output_type": "execute_result"
    }
   ],
   "source": [
    "np.floor_divide(za, zb)"
   ]
  },
  {
   "cell_type": "code",
   "execution_count": 23,
   "id": "0dca16f2-f5b6-4a8c-86e5-f2d73ae610f4",
   "metadata": {},
   "outputs": [
    {
     "data": {
      "text/plain": [
       "array([[1.00000000e+00, 2.71828183e+00, 7.38905610e+00, 2.00855369e+01],\n",
       "       [5.45981500e+01, 1.48413159e+02, 4.03428793e+02, 1.09663316e+03],\n",
       "       [2.98095799e+03, 8.10308393e+03, 2.20264658e+04, 5.98741417e+04]])"
      ]
     },
     "execution_count": 23,
     "metadata": {},
     "output_type": "execute_result"
    }
   ],
   "source": [
    "np.exp(za)"
   ]
  },
  {
   "cell_type": "code",
   "execution_count": 24,
   "id": "f3f299fc-a75a-454f-a88c-79b5ca3c7966",
   "metadata": {},
   "outputs": [],
   "source": [
    "## Relational opearion"
   ]
  },
  {
   "cell_type": "code",
   "execution_count": 27,
   "id": "82330052-41a2-4c7b-9c91-83cfb2ce7700",
   "metadata": {},
   "outputs": [
    {
     "data": {
      "text/plain": [
       "array([[24, 25, 26, 27, 28, 29],\n",
       "       [30, 31, 32, 33, 34, 35]])"
      ]
     },
     "execution_count": 27,
     "metadata": {},
     "output_type": "execute_result"
    }
   ],
   "source": [
    "ro = np.arange(24, 36).reshape(2,6)\n",
    "ro"
   ]
  },
  {
   "cell_type": "code",
   "execution_count": 29,
   "id": "0378345d-b4c6-4dca-a089-371bb6b2808b",
   "metadata": {},
   "outputs": [
    {
     "data": {
      "text/plain": [
       "array([[False, False, False, False, False, False],\n",
       "       [False,  True,  True,  True,  True,  True]])"
      ]
     },
     "execution_count": 29,
     "metadata": {},
     "output_type": "execute_result"
    }
   ],
   "source": [
    "ro > 30"
   ]
  },
  {
   "cell_type": "code",
   "execution_count": 30,
   "id": "8f300d22-3c53-4013-aa44-8113e7cd597f",
   "metadata": {},
   "outputs": [
    {
     "data": {
      "text/plain": [
       "array([31, 32, 33, 34, 35])"
      ]
     },
     "execution_count": 30,
     "metadata": {},
     "output_type": "execute_result"
    }
   ],
   "source": [
    "ro[ro>30] # Booloean Index"
   ]
  },
  {
   "cell_type": "code",
   "execution_count": 31,
   "id": "58dbef8c-44f4-4e92-9c8e-1d4589a7eb18",
   "metadata": {},
   "outputs": [
    {
     "data": {
      "text/plain": [
       "array([24, 25, 26, 28, 29, 30, 31, 32, 33, 34, 35])"
      ]
     },
     "execution_count": 31,
     "metadata": {},
     "output_type": "execute_result"
    }
   ],
   "source": [
    "ro[ro != 27]"
   ]
  },
  {
   "cell_type": "code",
   "execution_count": 36,
   "id": "e101cf8e-1df9-4a9b-9f5b-f12f3e125966",
   "metadata": {},
   "outputs": [
    {
     "data": {
      "text/plain": [
       "array([30])"
      ]
     },
     "execution_count": 36,
     "metadata": {},
     "output_type": "execute_result"
    }
   ],
   "source": [
    "ro[ro == 30]"
   ]
  },
  {
   "cell_type": "code",
   "execution_count": 37,
   "id": "8bb06d05-ebbd-4f02-a56d-7d62506102bb",
   "metadata": {},
   "outputs": [],
   "source": [
    "## Logical Opeartion"
   ]
  },
  {
   "cell_type": "code",
   "execution_count": 38,
   "id": "eeab8bd2-c720-48de-9e7e-4ebfcff3b023",
   "metadata": {},
   "outputs": [
    {
     "data": {
      "text/plain": [
       "array([[93, 97, 93],\n",
       "       [92, 55, 79],\n",
       "       [33, 55, 25],\n",
       "       [16, 97,  4]], dtype=int32)"
      ]
     },
     "execution_count": 38,
     "metadata": {},
     "output_type": "execute_result"
    }
   ],
   "source": [
    "lo = np.random.randint(0,100, size=(4,3))\n",
    "lo"
   ]
  },
  {
   "cell_type": "code",
   "execution_count": 41,
   "id": "5dba0934-34b6-4bab-8591-ec8a81f01097",
   "metadata": {},
   "outputs": [
    {
     "data": {
      "text/plain": [
       "array([33, 25, 16,  4], dtype=int32)"
      ]
     },
     "execution_count": 41,
     "metadata": {},
     "output_type": "execute_result"
    }
   ],
   "source": [
    "And = lo[np.logical_and(lo < 50, lo > 2)]\n",
    "And"
   ]
  },
  {
   "cell_type": "code",
   "execution_count": 47,
   "id": "e76f729e-fa4e-4abf-abc7-7f73e125a7cd",
   "metadata": {},
   "outputs": [
    {
     "data": {
      "text/plain": [
       "array([33, 25, 16,  4], dtype=int32)"
      ]
     },
     "execution_count": 47,
     "metadata": {},
     "output_type": "execute_result"
    }
   ],
   "source": [
    "Or = lo[np.logical_or(lo < 50, lo > 200)]\n",
    "Or"
   ]
  },
  {
   "cell_type": "code",
   "execution_count": 49,
   "id": "3ed9d58a-8c04-405a-acab-8dd8342ec92d",
   "metadata": {},
   "outputs": [
    {
     "data": {
      "text/plain": [
       "array([False])"
      ]
     },
     "execution_count": 49,
     "metadata": {},
     "output_type": "execute_result"
    }
   ],
   "source": [
    "Not = np.logical_not([True])\n",
    "Not"
   ]
  },
  {
   "cell_type": "code",
   "execution_count": 51,
   "id": "ef869234-2d92-42c8-946d-fd47bd251d5c",
   "metadata": {},
   "outputs": [
    {
     "data": {
      "text/plain": [
       "array([33, 25, 16,  4], dtype=int32)"
      ]
     },
     "execution_count": 51,
     "metadata": {},
     "output_type": "execute_result"
    }
   ],
   "source": [
    "Xor = lo[np.logical_xor(lo < 50, lo > 200)]\n",
    "Xor"
   ]
  },
  {
   "cell_type": "code",
   "execution_count": 52,
   "id": "295965fc-7135-4059-81dc-b061b8a21c39",
   "metadata": {},
   "outputs": [],
   "source": [
    "## Aggregate Function"
   ]
  },
  {
   "cell_type": "code",
   "execution_count": 53,
   "id": "4298fd5c-31de-4dc5-b9a7-22a1310d0ee9",
   "metadata": {},
   "outputs": [
    {
     "data": {
      "text/plain": [
       "array([[48, 85, 22],\n",
       "       [38, 75, 62],\n",
       "       [66, 97, 55]], dtype=int32)"
      ]
     },
     "execution_count": 53,
     "metadata": {},
     "output_type": "execute_result"
    }
   ],
   "source": [
    "Ao = np.random.randint(20,100, size=(3,3))\n",
    "Ao"
   ]
  },
  {
   "cell_type": "code",
   "execution_count": 55,
   "id": "2f284a8c-8edb-47a0-a340-03498bdc5c50",
   "metadata": {},
   "outputs": [
    {
     "data": {
      "text/plain": [
       "array([155, 175, 218])"
      ]
     },
     "execution_count": 55,
     "metadata": {},
     "output_type": "execute_result"
    }
   ],
   "source": [
    "np.sum(Ao, axis=1) # axiz= 1 represents w r t row"
   ]
  },
  {
   "cell_type": "code",
   "execution_count": 57,
   "id": "ac966aa1-33e1-4436-ae9f-2dc0ed0b4f05",
   "metadata": {},
   "outputs": [
    {
     "data": {
      "text/plain": [
       "array([152, 257, 139])"
      ]
     },
     "execution_count": 57,
     "metadata": {},
     "output_type": "execute_result"
    }
   ],
   "source": [
    "np.sum(Ao, axis=0) # axiz= 0 represents w r t column"
   ]
  },
  {
   "cell_type": "code",
   "execution_count": 64,
   "id": "67daeeb2-c621-40ea-9b03-3429a2ec1e94",
   "metadata": {},
   "outputs": [
    {
     "data": {
      "text/plain": [
       "array([22, 38, 55], dtype=int32)"
      ]
     },
     "execution_count": 64,
     "metadata": {},
     "output_type": "execute_result"
    }
   ],
   "source": [
    "np.min(Ao, axis=1)"
   ]
  },
  {
   "cell_type": "code",
   "execution_count": 66,
   "id": "b52ca7ee-0472-4b0d-8d15-48e056e60489",
   "metadata": {},
   "outputs": [
    {
     "data": {
      "text/plain": [
       "np.int32(97)"
      ]
     },
     "execution_count": 66,
     "metadata": {},
     "output_type": "execute_result"
    }
   ],
   "source": [
    "np.max(Ao)"
   ]
  },
  {
   "cell_type": "code",
   "execution_count": 71,
   "id": "49abe8e2-250d-4116-8c8f-a00bdb9cdb08",
   "metadata": {},
   "outputs": [
    {
     "data": {
      "text/plain": [
       "array([[0.97547014, 0.09086102, 0.43138141],\n",
       "       [0.15158989, 0.03612782, 0.40621857],\n",
       "       [0.72157672, 0.7568896 , 0.99181224]])"
      ]
     },
     "execution_count": 71,
     "metadata": {},
     "output_type": "execute_result"
    }
   ],
   "source": [
    "ao1 = np.random.rand(3,3)\n",
    "ao1"
   ]
  },
  {
   "cell_type": "code",
   "execution_count": 72,
   "id": "a3e65556-a7d6-44f9-b73b-c6b7dbd728d4",
   "metadata": {},
   "outputs": [
    {
     "data": {
      "text/plain": [
       "array([[0.98, 0.09, 0.43],\n",
       "       [0.15, 0.04, 0.41],\n",
       "       [0.72, 0.76, 0.99]])"
      ]
     },
     "execution_count": 72,
     "metadata": {},
     "output_type": "execute_result"
    }
   ],
   "source": [
    "np.round(ao1, 2)"
   ]
  },
  {
   "cell_type": "code",
   "execution_count": 73,
   "id": "36befc16-cde1-4342-84a1-c5f206b75d44",
   "metadata": {},
   "outputs": [
    {
     "data": {
      "text/plain": [
       "np.float64(5.0)"
      ]
     },
     "execution_count": 73,
     "metadata": {},
     "output_type": "execute_result"
    }
   ],
   "source": [
    "np.sqrt(25)"
   ]
  },
  {
   "cell_type": "code",
   "execution_count": 74,
   "id": "77182327-4c14-4757-9197-cc6101b3e64f",
   "metadata": {},
   "outputs": [
    {
     "data": {
      "text/plain": [
       "np.int64(5584673049120000)"
      ]
     },
     "execution_count": 74,
     "metadata": {},
     "output_type": "execute_result"
    }
   ],
   "source": [
    "np.prod(Ao)"
   ]
  },
  {
   "cell_type": "code",
   "execution_count": 75,
   "id": "fed80516-c421-423c-8db3-bd201edcd6a9",
   "metadata": {},
   "outputs": [],
   "source": [
    "## Statstical Function"
   ]
  },
  {
   "cell_type": "code",
   "execution_count": 77,
   "id": "44d7f9d5-2ff9-4570-b53d-e2e00cad3eeb",
   "metadata": {},
   "outputs": [
    {
     "data": {
      "text/plain": [
       "array([[ 0.26992342, -1.27697075, -0.97605655],\n",
       "       [ 0.55384567, -1.08737909, -1.30219621],\n",
       "       [ 0.57585728, -1.07112516, -1.01931896]])"
      ]
     },
     "execution_count": 77,
     "metadata": {},
     "output_type": "execute_result"
    }
   ],
   "source": [
    "Sf = np.random.randn(3,3)\n",
    "Sf"
   ]
  },
  {
   "cell_type": "code",
   "execution_count": 83,
   "id": "4a45004c-f919-4509-a781-8364177f3e3e",
   "metadata": {},
   "outputs": [
    {
     "data": {
      "text/plain": [
       "np.float64(-0.5926022610989397)"
      ]
     },
     "execution_count": 83,
     "metadata": {},
     "output_type": "execute_result"
    }
   ],
   "source": [
    "np.mean(Sf)"
   ]
  },
  {
   "cell_type": "code",
   "execution_count": 84,
   "id": "b1201a05-3f47-4d93-93b2-fdb3d6f8718e",
   "metadata": {},
   "outputs": [
    {
     "data": {
      "text/plain": [
       "np.float64(-1.0193189565323832)"
      ]
     },
     "execution_count": 84,
     "metadata": {},
     "output_type": "execute_result"
    }
   ],
   "source": [
    "np.median(Sf)"
   ]
  },
  {
   "cell_type": "code",
   "execution_count": 93,
   "id": "1b5eab01-4234-4dce-833e-2ee6c3168b66",
   "metadata": {
    "scrolled": true
   },
   "outputs": [
    {
     "data": {
      "text/plain": [
       "np.float64(0.7599990875521397)"
      ]
     },
     "execution_count": 93,
     "metadata": {},
     "output_type": "execute_result"
    }
   ],
   "source": [
    "np.std(Sf)"
   ]
  },
  {
   "cell_type": "code",
   "execution_count": 90,
   "id": "0652905a-61a3-456e-a8cf-9d771f01e043",
   "metadata": {},
   "outputs": [
    {
     "data": {
      "text/plain": [
       "np.float64(0.577598613080085)"
      ]
     },
     "execution_count": 90,
     "metadata": {},
     "output_type": "execute_result"
    }
   ],
   "source": [
    "np.var(Sf)"
   ]
  },
  {
   "cell_type": "code",
   "execution_count": 91,
   "id": "ac4b6700-8952-4957-b5c2-45078f19e806",
   "metadata": {},
   "outputs": [
    {
     "data": {
      "text/plain": [
       "np.float64(0.7599990875521397)"
      ]
     },
     "execution_count": 91,
     "metadata": {},
     "output_type": "execute_result"
    }
   ],
   "source": [
    "np.sqrt(np.var(Sf))"
   ]
  },
  {
   "cell_type": "code",
   "execution_count": 94,
   "id": "53467dbe-c1b6-49d9-bdc8-d96f23815ad6",
   "metadata": {},
   "outputs": [],
   "source": [
    "## Log and Exp"
   ]
  },
  {
   "cell_type": "code",
   "execution_count": 97,
   "id": "6bd1106f-38ea-4bc5-b199-a693c81c58a8",
   "metadata": {},
   "outputs": [
    {
     "data": {
      "text/plain": [
       "np.float64(4.0)"
      ]
     },
     "execution_count": 97,
     "metadata": {},
     "output_type": "execute_result"
    }
   ],
   "source": [
    "np.log10(10000)"
   ]
  },
  {
   "cell_type": "code",
   "execution_count": 98,
   "id": "0baff369-4f90-4828-af89-569bf964cf0c",
   "metadata": {},
   "outputs": [
    {
     "data": {
      "text/plain": [
       "np.float64(4.605170185988092)"
      ]
     },
     "execution_count": 98,
     "metadata": {},
     "output_type": "execute_result"
    }
   ],
   "source": [
    "np.log(100)"
   ]
  },
  {
   "cell_type": "code",
   "execution_count": 111,
   "id": "7f5647d9-eb79-441e-8906-1a130ec90719",
   "metadata": {},
   "outputs": [
    {
     "data": {
      "text/plain": [
       "np.float64(0.0)"
      ]
     },
     "execution_count": 111,
     "metadata": {},
     "output_type": "execute_result"
    }
   ],
   "source": [
    "np.log10(1)"
   ]
  },
  {
   "cell_type": "code",
   "execution_count": 108,
   "id": "8e9468ec-4c74-40da-931e-cd0472739e22",
   "metadata": {},
   "outputs": [
    {
     "data": {
      "text/plain": [
       "np.float64(0.0)"
      ]
     },
     "execution_count": 108,
     "metadata": {},
     "output_type": "execute_result"
    }
   ],
   "source": [
    "np.log1p(0) # it applies insted zero -> 1"
   ]
  },
  {
   "cell_type": "code",
   "execution_count": 99,
   "id": "75d4b626-cc64-46c7-8502-53f4e6b2bc1b",
   "metadata": {},
   "outputs": [
    {
     "data": {
      "text/plain": [
       "np.float64(22026.465794806718)"
      ]
     },
     "execution_count": 99,
     "metadata": {},
     "output_type": "execute_result"
    }
   ],
   "source": [
    "np.exp(10) # Eulers Number e = 2.718182"
   ]
  },
  {
   "cell_type": "code",
   "execution_count": 100,
   "id": "7f82b088-4a06-4429-ab9f-1fa393bf6118",
   "metadata": {},
   "outputs": [
    {
     "data": {
      "text/plain": [
       "22018.377947688605"
      ]
     },
     "execution_count": 100,
     "metadata": {},
     "output_type": "execute_result"
    }
   ],
   "source": [
    "2.718182**10"
   ]
  },
  {
   "cell_type": "code",
   "execution_count": 101,
   "id": "15f2890e-fb6e-48a1-b5c5-510cbf5524e5",
   "metadata": {},
   "outputs": [],
   "source": [
    "### Rounding The Elements"
   ]
  },
  {
   "cell_type": "code",
   "execution_count": 105,
   "id": "1ae651a2-c70a-47c5-aa40-049d0e0be275",
   "metadata": {},
   "outputs": [
    {
     "data": {
      "text/plain": [
       "array([1.25, 2.75, 3.55, 4.94])"
      ]
     },
     "execution_count": 105,
     "metadata": {},
     "output_type": "execute_result"
    }
   ],
   "source": [
    "arr = np.array([1.253,2.753,3.553,4.939])\n",
    "rounded_arr = np.round(arr, 2)\n",
    "rounded_arr"
   ]
  },
  {
   "cell_type": "code",
   "execution_count": 106,
   "id": "a288af1b-c53e-46cc-9488-c48895a112cc",
   "metadata": {},
   "outputs": [
    {
     "data": {
      "text/plain": [
       "array([1., 2., 3., 4.])"
      ]
     },
     "execution_count": 106,
     "metadata": {},
     "output_type": "execute_result"
    }
   ],
   "source": [
    "## Floor\n",
    "\n",
    "floored_arr = np.floor(arr) # round up to least integer\n",
    "floored_arr"
   ]
  },
  {
   "cell_type": "code",
   "execution_count": 107,
   "id": "66ce668f-b0cb-4510-9cc5-ad17ae181792",
   "metadata": {},
   "outputs": [
    {
     "data": {
      "text/plain": [
       "array([2., 3., 4., 5.])"
      ]
     },
     "execution_count": 107,
     "metadata": {},
     "output_type": "execute_result"
    }
   ],
   "source": [
    "## Ceil\n",
    "\n",
    "ceil_arr = np.ceil(arr) # round up to highest integer\n",
    "ceil_arr"
   ]
  },
  {
   "cell_type": "code",
   "execution_count": 1,
   "id": "1c05ec17-859c-404f-ba5a-5af96bb170e8",
   "metadata": {},
   "outputs": [],
   "source": [
    "## Set Operation"
   ]
  },
  {
   "cell_type": "code",
   "execution_count": 2,
   "id": "586be806-cf37-4df3-9e81-e1e43a12638c",
   "metadata": {},
   "outputs": [],
   "source": [
    "import numpy as np"
   ]
  },
  {
   "cell_type": "code",
   "execution_count": 3,
   "id": "ddf2f873-21ad-4f44-b35f-31f50d8737f8",
   "metadata": {},
   "outputs": [],
   "source": [
    "m = np.array([1,2,3,4,5,6])\n",
    "n = np.array([3,4,5,6,7,8])"
   ]
  },
  {
   "cell_type": "code",
   "execution_count": 4,
   "id": "31f218d7-551d-410f-8d1b-12c1e5348f09",
   "metadata": {},
   "outputs": [
    {
     "data": {
      "text/plain": [
       "array([1, 2, 3, 4, 5, 6, 7, 8])"
      ]
     },
     "execution_count": 4,
     "metadata": {},
     "output_type": "execute_result"
    }
   ],
   "source": [
    "np.union1d(m, n)"
   ]
  },
  {
   "cell_type": "code",
   "execution_count": 5,
   "id": "ed10f511-1933-422f-a5ea-78c7ec22d045",
   "metadata": {},
   "outputs": [
    {
     "data": {
      "text/plain": [
       "array([3, 4, 5, 6])"
      ]
     },
     "execution_count": 5,
     "metadata": {},
     "output_type": "execute_result"
    }
   ],
   "source": [
    "np.intersect1d(m,n)"
   ]
  },
  {
   "cell_type": "code",
   "execution_count": 7,
   "id": "1174130f-1fba-4017-9b13-c91f8b811fb1",
   "metadata": {},
   "outputs": [
    {
     "data": {
      "text/plain": [
       "array([7, 8])"
      ]
     },
     "execution_count": 7,
     "metadata": {},
     "output_type": "execute_result"
    }
   ],
   "source": [
    "np.setdiff1d(n,m)"
   ]
  },
  {
   "cell_type": "code",
   "execution_count": 8,
   "id": "a47df0c4-ea9e-4afa-88dc-e607ae184ac4",
   "metadata": {},
   "outputs": [],
   "source": [
    "## indexing and slicing"
   ]
  },
  {
   "cell_type": "code",
   "execution_count": 9,
   "id": "1f180c20-b1f3-4bc2-af63-498953f1922f",
   "metadata": {},
   "outputs": [],
   "source": [
    "idx = np.array([10,20,30,40,50,60,70])"
   ]
  },
  {
   "cell_type": "code",
   "execution_count": 10,
   "id": "7c0ec765-53f9-444a-a7f8-b730afc5d681",
   "metadata": {},
   "outputs": [
    {
     "data": {
      "text/plain": [
       "np.int64(10)"
      ]
     },
     "execution_count": 10,
     "metadata": {},
     "output_type": "execute_result"
    }
   ],
   "source": [
    "idx[0]"
   ]
  },
  {
   "cell_type": "code",
   "execution_count": 12,
   "id": "315036cc-46a4-4be6-a37f-1d9fafb395ab",
   "metadata": {},
   "outputs": [
    {
     "data": {
      "text/plain": [
       "array([20, 30, 40, 50])"
      ]
     },
     "execution_count": 12,
     "metadata": {},
     "output_type": "execute_result"
    }
   ],
   "source": [
    "idx[1:5]"
   ]
  },
  {
   "cell_type": "code",
   "execution_count": 14,
   "id": "475aaf24-a938-4e79-93b7-b93c34bccedd",
   "metadata": {},
   "outputs": [
    {
     "data": {
      "text/plain": [
       "array([20, 30, 40, 50, 60, 70])"
      ]
     },
     "execution_count": 14,
     "metadata": {},
     "output_type": "execute_result"
    }
   ],
   "source": [
    "idx[1:]"
   ]
  },
  {
   "cell_type": "code",
   "execution_count": 17,
   "id": "d692a15e-e978-47f1-a736-7294ff1c8d66",
   "metadata": {},
   "outputs": [
    {
     "data": {
      "text/plain": [
       "array([20, 40, 60])"
      ]
     },
     "execution_count": 17,
     "metadata": {},
     "output_type": "execute_result"
    }
   ],
   "source": [
    "idx[1:6:2]"
   ]
  },
  {
   "cell_type": "code",
   "execution_count": 19,
   "id": "376f1b9d-cc86-4ee4-bd17-ec7b4f123c77",
   "metadata": {},
   "outputs": [
    {
     "data": {
      "text/plain": [
       "array([[ 0,  1,  2,  3],\n",
       "       [ 4,  5,  6,  7],\n",
       "       [ 8,  9, 10, 11]])"
      ]
     },
     "execution_count": 19,
     "metadata": {},
     "output_type": "execute_result"
    }
   ],
   "source": [
    "p1 = np.arange(12).reshape(3,4)\n",
    "p1"
   ]
  },
  {
   "cell_type": "code",
   "execution_count": 20,
   "id": "89b46830-0515-4a54-ba79-52c44adac2a0",
   "metadata": {},
   "outputs": [
    {
     "data": {
      "text/plain": [
       "np.int64(1)"
      ]
     },
     "execution_count": 20,
     "metadata": {},
     "output_type": "execute_result"
    }
   ],
   "source": [
    "p1[0,1]"
   ]
  },
  {
   "cell_type": "code",
   "execution_count": 21,
   "id": "a1853c95-cdc0-4d7e-b6a4-11f361537641",
   "metadata": {},
   "outputs": [
    {
     "data": {
      "text/plain": [
       "array([[0, 1],\n",
       "       [4, 5],\n",
       "       [8, 9]])"
      ]
     },
     "execution_count": 21,
     "metadata": {},
     "output_type": "execute_result"
    }
   ],
   "source": [
    "p1[0:, 0:2]"
   ]
  },
  {
   "cell_type": "code",
   "execution_count": 22,
   "id": "6e5da7ff-bf22-42d0-84fa-13c4dbc742a7",
   "metadata": {},
   "outputs": [
    {
     "data": {
      "text/plain": [
       "array([[ 0,  2],\n",
       "       [ 8, 10]])"
      ]
     },
     "execution_count": 22,
     "metadata": {},
     "output_type": "execute_result"
    }
   ],
   "source": [
    "p1[::2, :4:2]"
   ]
  },
  {
   "cell_type": "code",
   "execution_count": 23,
   "id": "fd52aa68-7bfe-431b-84ce-ca5e47cddd10",
   "metadata": {},
   "outputs": [
    {
     "data": {
      "text/plain": [
       "array([[[0, 1],\n",
       "        [2, 3]],\n",
       "\n",
       "       [[4, 5],\n",
       "        [6, 7]]])"
      ]
     },
     "execution_count": 23,
     "metadata": {},
     "output_type": "execute_result"
    }
   ],
   "source": [
    "p2 = np.arange(8).reshape(2,2,2)\n",
    "p2"
   ]
  },
  {
   "cell_type": "code",
   "execution_count": 24,
   "id": "f5fc02c0-1849-4597-8709-67c3aaaec229",
   "metadata": {},
   "outputs": [
    {
     "data": {
      "text/plain": [
       "array([[0, 1],\n",
       "       [2, 3]])"
      ]
     },
     "execution_count": 24,
     "metadata": {},
     "output_type": "execute_result"
    }
   ],
   "source": [
    "p2[0]"
   ]
  },
  {
   "cell_type": "code",
   "execution_count": 26,
   "id": "cc036b80-16bc-4d39-83af-8bbb3d655caa",
   "metadata": {},
   "outputs": [
    {
     "data": {
      "text/plain": [
       "np.int64(2)"
      ]
     },
     "execution_count": 26,
     "metadata": {},
     "output_type": "execute_result"
    }
   ],
   "source": [
    "p2[0,1,0]"
   ]
  },
  {
   "cell_type": "code",
   "execution_count": 27,
   "id": "6b325558-8db8-4fb1-b781-b83b5145e2f3",
   "metadata": {},
   "outputs": [
    {
     "data": {
      "text/plain": [
       "array([[4, 5],\n",
       "       [6, 7]])"
      ]
     },
     "execution_count": 27,
     "metadata": {},
     "output_type": "execute_result"
    }
   ],
   "source": [
    "p2[1,::,::]"
   ]
  },
  {
   "cell_type": "code",
   "execution_count": 28,
   "id": "d94393ec-a43f-448f-80f7-cd2b9303228c",
   "metadata": {},
   "outputs": [],
   "source": [
    "## Isin"
   ]
  },
  {
   "cell_type": "code",
   "execution_count": 29,
   "id": "a2cca76a-ad62-4a93-af76-2ec7dc80448c",
   "metadata": {},
   "outputs": [
    {
     "data": {
      "text/plain": [
       "array([10, 20, 30, 40, 50, 60, 70, 80, 90])"
      ]
     },
     "execution_count": 29,
     "metadata": {},
     "output_type": "execute_result"
    }
   ],
   "source": [
    "i = np.arange(10,100,10)\n",
    "i"
   ]
  },
  {
   "cell_type": "code",
   "execution_count": 33,
   "id": "410d17fc-ac5e-4274-9ae0-e88a5ea13b90",
   "metadata": {},
   "outputs": [
    {
     "data": {
      "text/plain": [
       "array([ True,  True, False, False, False, False, False, False, False])"
      ]
     },
     "execution_count": 33,
     "metadata": {},
     "output_type": "execute_result"
    }
   ],
   "source": [
    "val = np.array([10,20,100])\n",
    "\n",
    "np.isin(i, val)"
   ]
  },
  {
   "cell_type": "code",
   "execution_count": 34,
   "id": "1e130c82-1599-4b35-8329-08674d4ef777",
   "metadata": {},
   "outputs": [
    {
     "data": {
      "text/plain": [
       "array([10, 20])"
      ]
     },
     "execution_count": 34,
     "metadata": {},
     "output_type": "execute_result"
    }
   ],
   "source": [
    "i[np.isin(i, val)]"
   ]
  },
  {
   "cell_type": "code",
   "execution_count": 35,
   "id": "af71c308-26e4-4bee-95ba-bf0830bd4f60",
   "metadata": {},
   "outputs": [
    {
     "data": {
      "text/plain": [
       "array([ True,  True])"
      ]
     },
     "execution_count": 35,
     "metadata": {},
     "output_type": "execute_result"
    }
   ],
   "source": [
    "np.isin([50,60], i)"
   ]
  },
  {
   "cell_type": "code",
   "execution_count": 36,
   "id": "67945d08-a11c-42fa-a862-cbb15093edc2",
   "metadata": {},
   "outputs": [],
   "source": [
    "## where opearator"
   ]
  },
  {
   "cell_type": "code",
   "execution_count": 43,
   "id": "bb2ea122-5f15-4ee2-b7ad-028f98431bc6",
   "metadata": {},
   "outputs": [
    {
     "data": {
      "text/plain": [
       "array([  0,   1,   2,   3,   4,   5,   6,   7,   8,   9,  10,  11,  12,\n",
       "        13,  14,  15,  16,  17,  18,  19,  20,  21,  22,  23,  24,  25,\n",
       "        26,  27,  28,  29,  30,  31,  32,  33,  34,  35,  36,  37,  38,\n",
       "        39,  40,  41,  42,  43,  44,  45,  46,  47,  48,  49,  50,  51,\n",
       "        52,  53,  54,  55,  56,  57,  58,  59,  60,  61,  62,  63,  64,\n",
       "        65,  66,  67,  68,  69,  70,  71,  72,  73,  74,  75,  76,  77,\n",
       "        78,  79,  80,  81,  82,  83,  84,  85,  86,  87,  88,  89,  90,\n",
       "        91,  92,  93,  94,  95,  96,  97,  98,  99, 100])"
      ]
     },
     "execution_count": 43,
     "metadata": {},
     "output_type": "execute_result"
    }
   ],
   "source": [
    "wh = np.arange(0,100+1)\n",
    "wh"
   ]
  },
  {
   "cell_type": "code",
   "execution_count": 44,
   "id": "b4d39c5d-3fd0-4e69-841b-121323d69191",
   "metadata": {},
   "outputs": [
    {
     "data": {
      "text/plain": [
       "(array([ 0,  1,  2,  3,  4,  5,  6,  7,  8,  9, 10, 11, 12, 13, 14, 15, 16,\n",
       "        17, 18, 19, 20, 21, 22, 23, 24, 25, 26, 27, 28, 29, 30, 31, 32, 33,\n",
       "        34, 35, 36, 37, 38, 39, 40, 41, 42, 43, 44, 45, 46, 47, 48, 49]),)"
      ]
     },
     "execution_count": 44,
     "metadata": {},
     "output_type": "execute_result"
    }
   ],
   "source": [
    "np.where(wh<50)"
   ]
  },
  {
   "cell_type": "code",
   "execution_count": 45,
   "id": "14bf24d7-e7fa-41dd-9c84-d56ad3653881",
   "metadata": {},
   "outputs": [
    {
     "data": {
      "text/plain": [
       "array([  1,   1,   1,   1,   1,   1,   1,   1,   1,   1,   1,   1,   1,\n",
       "         1,   1,   1,   1,   1,   1,   1,   1,   1,   1,   1,   1,   1,\n",
       "         1,   1,   1,   1,   1,   1,   1,   1,   1,   1,   1,   1,   1,\n",
       "         1,   1,   1,   1,   1,   1,   1,   1,   1,   1,   1,  50,  51,\n",
       "        52,  53,  54,  55,  56,  57,  58,  59,  60,  61,  62,  63,  64,\n",
       "        65,  66,  67,  68,  69,  70,  71,  72,  73,  74,  75,  76,  77,\n",
       "        78,  79,  80,  81,  82,  83,  84,  85,  86,  87,  88,  89,  90,\n",
       "        91,  92,  93,  94,  95,  96,  97,  98,  99, 100])"
      ]
     },
     "execution_count": 45,
     "metadata": {},
     "output_type": "execute_result"
    }
   ],
   "source": [
    "np.where(wh<50, 1, wh)"
   ]
  },
  {
   "cell_type": "code",
   "execution_count": 51,
   "id": "a7c3b093-5e68-446d-91de-82395775c46c",
   "metadata": {},
   "outputs": [
    {
     "data": {
      "text/plain": [
       "array(['3', '1', '2', '3', '4', '5', '3', '7', '8', '3', '10', '11', '3',\n",
       "       '13', '14', '3', '16', '17', '3', '19', '20', '3', '22', '23', '3',\n",
       "       '25', '26', '3', '28', '29', '3', '31', '32', '3', '34', '35', '3',\n",
       "       '37', '38', '3', '40', '41', '3', '43', '44', '3', '46', '47', '3',\n",
       "       '49', '50', '3', '52', '53', '3', '55', '56', '3', '58', '59', '3',\n",
       "       '61', '62', '3', '64', '65', '3', '67', '68', '3', '70', '71', '3',\n",
       "       '73', '74', '3', '76', '77', '3', '79', '80', '3', '82', '83', '3',\n",
       "       '85', '86', '3', '88', '89', '3', '91', '92', '3', '94', '95', '3',\n",
       "       '97', '98', '3', '100'], dtype='<U21')"
      ]
     },
     "execution_count": 51,
     "metadata": {},
     "output_type": "execute_result"
    }
   ],
   "source": [
    "div3 = np.where(wh%3==0, '3', wh) # bases on the index\n",
    "div3"
   ]
  },
  {
   "cell_type": "code",
   "execution_count": 52,
   "id": "0021cef5-8cb8-422b-8717-51cb9f7f45e1",
   "metadata": {},
   "outputs": [
    {
     "data": {
      "text/plain": [
       "array([  3,   1,   2,   3,   4,   5,   3,   7,   8,   3,  10,  11,   3,\n",
       "        13,  14,   3,  16,  17,   3,  19,  20,   3,  22,  23,   3,  25,\n",
       "        26,   3,  28,  29,   3,  31,  32,   3,  34,  35,   3,  37,  38,\n",
       "         3,  40,  41,   3,  43,  44,   3,  46,  47,   3,  49,  50,   3,\n",
       "        52,  53,   3,  55,  56,   3,  58,  59,   3,  61,  62,   3,  64,\n",
       "        65,   3,  67,  68,   3,  70,  71,   3,  73,  74,   3,  76,  77,\n",
       "         3,  79,  80,   3,  82,  83,   3,  85,  86,   3,  88,  89,   3,\n",
       "        91,  92,   3,  94,  95,   3,  97,  98,   3, 100])"
      ]
     },
     "execution_count": 52,
     "metadata": {},
     "output_type": "execute_result"
    }
   ],
   "source": [
    "div3.astype('int')"
   ]
  },
  {
   "cell_type": "code",
   "execution_count": 53,
   "id": "d926270e-51f4-4427-9096-27252fd3d12f",
   "metadata": {},
   "outputs": [],
   "source": [
    "# max and min value index"
   ]
  },
  {
   "cell_type": "code",
   "execution_count": 60,
   "id": "6ee37f14-f82a-4d1a-a406-5ac0d5d11147",
   "metadata": {},
   "outputs": [
    {
     "data": {
      "text/plain": [
       "array([[ 0, 11],\n",
       "       [22, 33],\n",
       "       [44, 55],\n",
       "       [66, 77],\n",
       "       [88, 99]])"
      ]
     },
     "execution_count": 60,
     "metadata": {},
     "output_type": "execute_result"
    }
   ],
   "source": [
    "am = np.linspace(0,99,num=10, dtype=int).reshape(5,2)\n",
    "am"
   ]
  },
  {
   "cell_type": "code",
   "execution_count": 65,
   "id": "3a9218f3-a91e-472c-a4c6-50d39f77c6d2",
   "metadata": {},
   "outputs": [
    {
     "data": {
      "text/plain": [
       "np.int64(9)"
      ]
     },
     "execution_count": 65,
     "metadata": {},
     "output_type": "execute_result"
    }
   ],
   "source": [
    "max_value_index = np.argmax(am)\n",
    "max_value_index"
   ]
  },
  {
   "cell_type": "code",
   "execution_count": 64,
   "id": "c04dcc0a-e74d-4a1c-a285-d7e45057f3c9",
   "metadata": {},
   "outputs": [
    {
     "data": {
      "text/plain": [
       "array([0, 0])"
      ]
     },
     "execution_count": 64,
     "metadata": {},
     "output_type": "execute_result"
    }
   ],
   "source": [
    "min_value_index = np.argmin(am, axis=0)\n",
    "min_value_index"
   ]
  },
  {
   "cell_type": "code",
   "execution_count": 67,
   "id": "b1e31db4-fe14-4099-92da-2fdc0c4c0ee2",
   "metadata": {},
   "outputs": [],
   "source": [
    "## iteration array"
   ]
  },
  {
   "cell_type": "code",
   "execution_count": 68,
   "id": "0b7492d6-16b4-47e0-a6e4-3d88f6bdb7a6",
   "metadata": {},
   "outputs": [
    {
     "data": {
      "text/plain": [
       "array([0, 1, 2, 3, 4, 5, 6, 7, 8, 9])"
      ]
     },
     "execution_count": 68,
     "metadata": {},
     "output_type": "execute_result"
    }
   ],
   "source": [
    "p1 = np.arange(10)\n",
    "p1"
   ]
  },
  {
   "cell_type": "code",
   "execution_count": 70,
   "id": "3150c6fb-ffa1-4cf1-a4f5-1f0a54b01334",
   "metadata": {},
   "outputs": [
    {
     "name": "stdout",
     "output_type": "stream",
     "text": [
      "0 1 2 3 4 5 6 7 8 9 "
     ]
    }
   ],
   "source": [
    "for i in p1:\n",
    "    print(i, end=' ')"
   ]
  },
  {
   "cell_type": "code",
   "execution_count": 71,
   "id": "c4e5c9a9-ea7e-4c11-8bf6-1465c5d42bb4",
   "metadata": {},
   "outputs": [
    {
     "data": {
      "text/plain": [
       "array([[ 0,  1,  2,  3],\n",
       "       [ 4,  5,  6,  7],\n",
       "       [ 8,  9, 10, 11]])"
      ]
     },
     "execution_count": 71,
     "metadata": {},
     "output_type": "execute_result"
    }
   ],
   "source": [
    "p2 = np.arange(12).reshape(3,4)\n",
    "p2"
   ]
  },
  {
   "cell_type": "code",
   "execution_count": 73,
   "id": "33132f13-d355-4684-83fa-69c361a4fb20",
   "metadata": {},
   "outputs": [
    {
     "name": "stdout",
     "output_type": "stream",
     "text": [
      "0 1 2 3 4 5 6 7 8 9 10 11 "
     ]
    }
   ],
   "source": [
    "for i in p2:\n",
    "    for j in i:\n",
    "        print(j, end=' ')"
   ]
  },
  {
   "cell_type": "code",
   "execution_count": 75,
   "id": "753e9d38-1b22-407a-b60f-92fa01abad31",
   "metadata": {},
   "outputs": [
    {
     "name": "stdout",
     "output_type": "stream",
     "text": [
      "5 6 7 8 9 10 11 "
     ]
    }
   ],
   "source": [
    "for i in np.nditer(p2):\n",
    "    if i > 4:\n",
    "        print(i, end=' ')"
   ]
  },
  {
   "cell_type": "code",
   "execution_count": 77,
   "id": "5ba69a48-9f17-4f8f-9a6d-0fc8540675b4",
   "metadata": {},
   "outputs": [
    {
     "data": {
      "text/plain": [
       "array([[[ 0,  1,  2],\n",
       "        [ 3,  4,  5],\n",
       "        [ 6,  7,  8]],\n",
       "\n",
       "       [[ 9, 10, 11],\n",
       "        [12, 13, 14],\n",
       "        [15, 16, 17]],\n",
       "\n",
       "       [[18, 19, 20],\n",
       "        [21, 22, 23],\n",
       "        [24, 25, 26]]])"
      ]
     },
     "execution_count": 77,
     "metadata": {},
     "output_type": "execute_result"
    }
   ],
   "source": [
    "p3 = np.arange(27).reshape(3,3,3)\n",
    "p3"
   ]
  },
  {
   "cell_type": "code",
   "execution_count": 79,
   "id": "28426542-7e65-4fd7-a42c-ca276119aec3",
   "metadata": {},
   "outputs": [
    {
     "name": "stdout",
     "output_type": "stream",
     "text": [
      "0 1 2 3 4 5 6 7 8 9 10 11 12 13 14 15 16 17 18 19 20 21 22 23 24 25 26 "
     ]
    }
   ],
   "source": [
    "for i in p3:\n",
    "    for j in i:\n",
    "        for k in j:\n",
    "            print(k, end=' ')"
   ]
  },
  {
   "cell_type": "code",
   "execution_count": 81,
   "id": "d221266f-c84a-4595-b529-44a54c3ab593",
   "metadata": {},
   "outputs": [
    {
     "name": "stdout",
     "output_type": "stream",
     "text": [
      "0 1 2 3 4 5 6 7 8 9 10 11 12 "
     ]
    }
   ],
   "source": [
    "for i in np.nditer(p3):\n",
    "    if i < 13:\n",
    "        print(i, end=' ')"
   ]
  },
  {
   "cell_type": "code",
   "execution_count": 82,
   "id": "94a72612-9c10-496c-86f8-55422a643ac4",
   "metadata": {},
   "outputs": [],
   "source": [
    "## Sorting"
   ]
  },
  {
   "cell_type": "code",
   "execution_count": 83,
   "id": "c09febae-40ac-494c-81bd-592b39113702",
   "metadata": {},
   "outputs": [
    {
     "data": {
      "text/plain": [
       "array([51, 56, 11, 23,  5, 27, 54, 17, 36, 48,  2, 80, 54, 60, 13, 81, 66,\n",
       "       65, 22, 70], dtype=int32)"
      ]
     },
     "execution_count": 83,
     "metadata": {},
     "output_type": "execute_result"
    }
   ],
   "source": [
    "s = np.random.randint(1,100,20)\n",
    "s"
   ]
  },
  {
   "cell_type": "code",
   "execution_count": 85,
   "id": "fad484cd-e423-423b-95c4-f37ec8fd51cd",
   "metadata": {},
   "outputs": [
    {
     "data": {
      "text/plain": [
       "array([ 2,  5, 11, 13, 17, 22, 23, 27, 36, 48, 51, 54, 54, 56, 60, 65, 66,\n",
       "       70, 80, 81], dtype=int32)"
      ]
     },
     "execution_count": 85,
     "metadata": {},
     "output_type": "execute_result"
    }
   ],
   "source": [
    "sort_s = np.sort(s)\n",
    "sort_s"
   ]
  },
  {
   "cell_type": "code",
   "execution_count": 86,
   "id": "73d54a44-923c-496e-b68f-52a6c68283d2",
   "metadata": {},
   "outputs": [
    {
     "data": {
      "text/plain": [
       "array([81, 80, 70, 66, 65, 60, 56, 54, 54, 51, 48, 36, 27, 23, 22, 17, 13,\n",
       "       11,  5,  2], dtype=int32)"
      ]
     },
     "execution_count": 86,
     "metadata": {},
     "output_type": "execute_result"
    }
   ],
   "source": [
    "dec_order = np.sort(s)[::-1]\n",
    "dec_order"
   ]
  },
  {
   "cell_type": "code",
   "execution_count": 87,
   "id": "1b0e9c73-21e9-4e82-b31e-6aa3305bc976",
   "metadata": {},
   "outputs": [
    {
     "data": {
      "text/plain": [
       "array([81, 80, 70, 66, 65, 60, 56, 54, 54, 51, 48, 36, 27, 23, 22, 17, 13,\n",
       "       11,  5,  2], dtype=int32)"
      ]
     },
     "execution_count": 87,
     "metadata": {},
     "output_type": "execute_result"
    }
   ],
   "source": [
    "dec_order1 = np.flip(np.sort(s))\n",
    "dec_order1"
   ]
  },
  {
   "cell_type": "code",
   "execution_count": 88,
   "id": "201c9f84-79cd-4b7d-bc6f-11d198e96619",
   "metadata": {},
   "outputs": [
    {
     "data": {
      "text/plain": [
       "array([[ 62, 144,  93, 187],\n",
       "       [101, 148,  97,  65],\n",
       "       [144, 136, 129,  68],\n",
       "       [174,  35,  94,  64]], dtype=int32)"
      ]
     },
     "execution_count": 88,
     "metadata": {},
     "output_type": "execute_result"
    }
   ],
   "source": [
    "s1 = np.random.randint(1,200,16).reshape(4,4)\n",
    "s1"
   ]
  },
  {
   "cell_type": "code",
   "execution_count": 89,
   "id": "b3aaab8e-3091-40ac-9df8-5c06d4f39733",
   "metadata": {},
   "outputs": [
    {
     "data": {
      "text/plain": [
       "array([[ 62,  93, 144, 187],\n",
       "       [ 65,  97, 101, 148],\n",
       "       [ 68, 129, 136, 144],\n",
       "       [ 35,  64,  94, 174]], dtype=int32)"
      ]
     },
     "execution_count": 89,
     "metadata": {},
     "output_type": "execute_result"
    }
   ],
   "source": [
    "np.sort(s1)"
   ]
  },
  {
   "cell_type": "code",
   "execution_count": 90,
   "id": "8dfcc53e-e81a-4f1d-8a79-0443cebbd484",
   "metadata": {},
   "outputs": [
    {
     "data": {
      "text/plain": [
       "array([[ 62,  35,  93,  64],\n",
       "       [101, 136,  94,  65],\n",
       "       [144, 144,  97,  68],\n",
       "       [174, 148, 129, 187]], dtype=int32)"
      ]
     },
     "execution_count": 90,
     "metadata": {},
     "output_type": "execute_result"
    }
   ],
   "source": [
    "np.sort(s1, axis=0)"
   ]
  },
  {
   "cell_type": "code",
   "execution_count": 91,
   "id": "811f80be-9523-4c58-babb-185fdda60b7c",
   "metadata": {},
   "outputs": [],
   "source": [
    "## append"
   ]
  },
  {
   "cell_type": "code",
   "execution_count": 92,
   "id": "8f0e959d-ec39-4169-bae2-7ecda08e1dc4",
   "metadata": {},
   "outputs": [
    {
     "data": {
      "text/plain": [
       "array([ 62, 144,  93, 187, 101, 148,  97,  65, 144, 136, 129,  68, 174,\n",
       "        35,  94,  64,   1])"
      ]
     },
     "execution_count": 92,
     "metadata": {},
     "output_type": "execute_result"
    }
   ],
   "source": [
    "np.append(s1, 1)"
   ]
  },
  {
   "cell_type": "code",
   "execution_count": 94,
   "id": "45de4dd9-62b3-4b18-a05a-b5b262d66da4",
   "metadata": {},
   "outputs": [
    {
     "data": {
      "text/plain": [
       "array([ 62, 144,  93, 187, 101, 148,  97,  65, 144, 136, 129,  68, 174,\n",
       "        35,  94,  64,   1,   2,   3])"
      ]
     },
     "execution_count": 94,
     "metadata": {},
     "output_type": "execute_result"
    }
   ],
   "source": [
    "arr = np.array([1,2,3])\n",
    "np.append(s1, arr)"
   ]
  },
  {
   "cell_type": "code",
   "execution_count": 95,
   "id": "63cd5639-6865-4a02-aefb-73b0ff0c85fa",
   "metadata": {},
   "outputs": [
    {
     "data": {
      "text/plain": [
       "array([0, 1, 2, 3, 4, 5, 6, 7, 8, 9])"
      ]
     },
     "execution_count": 95,
     "metadata": {},
     "output_type": "execute_result"
    }
   ],
   "source": [
    "ap = np.array(range(10))\n",
    "ap"
   ]
  },
  {
   "cell_type": "code",
   "execution_count": 98,
   "id": "25995851-d444-4a26-a242-64ab36899cc1",
   "metadata": {},
   "outputs": [
    {
     "data": {
      "text/plain": [
       "array([0, 1, 2, 3, 4, 5, 6, 7, 8, 9, 1, 2, 3])"
      ]
     },
     "execution_count": 98,
     "metadata": {},
     "output_type": "execute_result"
    }
   ],
   "source": [
    "append1 = np.append(ap, arr)\n",
    "append1"
   ]
  },
  {
   "cell_type": "code",
   "execution_count": 99,
   "id": "ef063736-7fee-43ca-94b4-a44fad7a80b1",
   "metadata": {},
   "outputs": [],
   "source": [
    "## unique"
   ]
  },
  {
   "cell_type": "code",
   "execution_count": 100,
   "id": "59a54b53-fb27-4bb4-b0ba-18e883ccfe20",
   "metadata": {},
   "outputs": [
    {
     "data": {
      "text/plain": [
       "array([0, 1, 2, 3, 4, 5, 6, 7, 8, 9])"
      ]
     },
     "execution_count": 100,
     "metadata": {},
     "output_type": "execute_result"
    }
   ],
   "source": [
    "np.unique(append1)"
   ]
  },
  {
   "cell_type": "code",
   "execution_count": 101,
   "id": "c2cab458-f42d-4eed-b75c-7a5b8bef169d",
   "metadata": {},
   "outputs": [
    {
     "data": {
      "text/plain": [
       "array([[6, 3, 4, 7],\n",
       "       [5, 2, 9, 9],\n",
       "       [8, 2, 1, 8]], dtype=int32)"
      ]
     },
     "execution_count": 101,
     "metadata": {},
     "output_type": "execute_result"
    }
   ],
   "source": [
    "un = np.random.randint(1,10, 12).reshape(3,4)\n",
    "un"
   ]
  },
  {
   "cell_type": "code",
   "execution_count": 102,
   "id": "2bc614d3-d0a2-4992-976c-48518f65d9f1",
   "metadata": {},
   "outputs": [
    {
     "data": {
      "text/plain": [
       "array([1, 2, 3, 4, 5, 6, 7, 8, 9], dtype=int32)"
      ]
     },
     "execution_count": 102,
     "metadata": {},
     "output_type": "execute_result"
    }
   ],
   "source": [
    "np.unique(un)"
   ]
  },
  {
   "cell_type": "code",
   "execution_count": 104,
   "id": "78dce4f4-7480-4e2c-ad6f-7ea193e35b8e",
   "metadata": {},
   "outputs": [
    {
     "data": {
      "text/plain": [
       "UniqueCountsResult(values=array([1, 2, 3, 4, 5, 6, 7, 8, 9], dtype=int32), counts=array([1, 2, 1, 1, 1, 1, 1, 2, 2]))"
      ]
     },
     "execution_count": 104,
     "metadata": {},
     "output_type": "execute_result"
    }
   ],
   "source": [
    "np.unique_counts(un)"
   ]
  },
  {
   "cell_type": "code",
   "execution_count": 105,
   "id": "077be3f8-e3b3-4cf9-8f0a-50ecd388bae8",
   "metadata": {},
   "outputs": [
    {
     "data": {
      "text/plain": [
       "array([1, 2, 3, 4, 5, 6, 7, 8, 9], dtype=int32)"
      ]
     },
     "execution_count": 105,
     "metadata": {},
     "output_type": "execute_result"
    }
   ],
   "source": [
    "np.unique_values(un)"
   ]
  },
  {
   "cell_type": "code",
   "execution_count": 106,
   "id": "6d79a5f8-5596-4355-b44e-cd36bc678440",
   "metadata": {},
   "outputs": [],
   "source": [
    "##matrix multiplication"
   ]
  },
  {
   "cell_type": "code",
   "execution_count": 108,
   "id": "3e85b1c6-a3ea-4094-bf23-9b4abcc18ad6",
   "metadata": {},
   "outputs": [
    {
     "data": {
      "text/plain": [
       "array([[19, 22],\n",
       "       [43, 50]])"
      ]
     },
     "execution_count": 108,
     "metadata": {},
     "output_type": "execute_result"
    }
   ],
   "source": [
    "mm = np.array([[1,2],[3,4]])\n",
    "mm1 = np.array([[5,6],[7,8]])\n",
    "\n",
    "np.dot(mm, mm1)"
   ]
  },
  {
   "cell_type": "code",
   "execution_count": 2,
   "id": "937e8721-9f50-4747-bb88-7f7609efc9ec",
   "metadata": {},
   "outputs": [],
   "source": [
    "## Percentaile\n",
    "import numpy as np"
   ]
  },
  {
   "cell_type": "code",
   "execution_count": 4,
   "id": "1f2e2a24-2304-4943-9309-6bfdd785c731",
   "metadata": {},
   "outputs": [
    {
     "data": {
      "text/plain": [
       "array([ 10,  20,  30,  40,  50,  60,  70,  80,  90, 100])"
      ]
     },
     "execution_count": 4,
     "metadata": {},
     "output_type": "execute_result"
    }
   ],
   "source": [
    "p = np.array([10,20,30,40,50,60,70,80,90,100])\n",
    "p"
   ]
  },
  {
   "cell_type": "code",
   "execution_count": 5,
   "id": "cafe99d1-baa7-4ea4-a05b-06053e298d33",
   "metadata": {},
   "outputs": [
    {
     "data": {
      "text/plain": [
       "np.float64(100.0)"
      ]
     },
     "execution_count": 5,
     "metadata": {},
     "output_type": "execute_result"
    }
   ],
   "source": [
    "np.percentile(p, 100) #maximum"
   ]
  },
  {
   "cell_type": "code",
   "execution_count": 6,
   "id": "8cdc05d4-48ed-433b-8052-da73dd4cc9c3",
   "metadata": {},
   "outputs": [
    {
     "data": {
      "text/plain": [
       "np.float64(10.0)"
      ]
     },
     "execution_count": 6,
     "metadata": {},
     "output_type": "execute_result"
    }
   ],
   "source": [
    "np.percentile(p, 0) #minimum\n"
   ]
  },
  {
   "cell_type": "code",
   "execution_count": 7,
   "id": "03a37396-dd78-454e-af17-9609e078a901",
   "metadata": {},
   "outputs": [
    {
     "data": {
      "text/plain": [
       "np.float64(55.0)"
      ]
     },
     "execution_count": 7,
     "metadata": {},
     "output_type": "execute_result"
    }
   ],
   "source": [
    "np.percentile(p, 50) #median, Quatile 2"
   ]
  },
  {
   "cell_type": "code",
   "execution_count": 8,
   "id": "6bea172f-86a8-4c24-a512-5cd10b01bebd",
   "metadata": {},
   "outputs": [
    {
     "data": {
      "text/plain": [
       "np.float64(32.5)"
      ]
     },
     "execution_count": 8,
     "metadata": {},
     "output_type": "execute_result"
    }
   ],
   "source": [
    "np.percentile(p, 25) # Quartile 1"
   ]
  },
  {
   "cell_type": "code",
   "execution_count": 9,
   "id": "fd37d2b7-1930-44ff-8107-ee44ef904793",
   "metadata": {},
   "outputs": [
    {
     "data": {
      "text/plain": [
       "np.float64(77.5)"
      ]
     },
     "execution_count": 9,
     "metadata": {},
     "output_type": "execute_result"
    }
   ],
   "source": [
    "np.percentile(p, 75) # Quartile 3"
   ]
  },
  {
   "cell_type": "code",
   "execution_count": 13,
   "id": "16651424-b5c7-4486-8eaf-193063a6e3ff",
   "metadata": {},
   "outputs": [
    {
     "data": {
      "text/plain": [
       "np.float64(46.0)"
      ]
     },
     "execution_count": 13,
     "metadata": {},
     "output_type": "execute_result"
    }
   ],
   "source": [
    "np.percentile(p, 40)"
   ]
  },
  {
   "cell_type": "code",
   "execution_count": 14,
   "id": "7153054b-f8c6-415e-b8de-bd6b809e5994",
   "metadata": {},
   "outputs": [],
   "source": [
    "## Delete"
   ]
  },
  {
   "cell_type": "code",
   "execution_count": 17,
   "id": "ad94af78-1864-42d2-a37e-556b270720cb",
   "metadata": {},
   "outputs": [
    {
     "data": {
      "text/plain": [
       "array([49, 77, 33, 44, 23, 31, 12, 90, 32, 53, 88, 26, 36, 29,  7],\n",
       "      dtype=int32)"
      ]
     },
     "execution_count": 17,
     "metadata": {},
     "output_type": "execute_result"
    }
   ],
   "source": [
    "de = np.random.randint(1,100,15)\n",
    "de"
   ]
  },
  {
   "cell_type": "code",
   "execution_count": 18,
   "id": "478499f3-aa2c-46df-aa91-274b7de37904",
   "metadata": {},
   "outputs": [
    {
     "data": {
      "text/plain": [
       "array([49, 33, 44, 23, 31, 12, 90, 32, 53, 88, 26, 36, 29,  7],\n",
       "      dtype=int32)"
      ]
     },
     "execution_count": 18,
     "metadata": {},
     "output_type": "execute_result"
    }
   ],
   "source": [
    "np.delete(de, 1)"
   ]
  },
  {
   "cell_type": "code",
   "execution_count": 20,
   "id": "5da72fec-a337-459f-bbb9-84d470f7c96d",
   "metadata": {},
   "outputs": [
    {
     "data": {
      "text/plain": [
       "array([77, 44, 23, 12, 90, 32, 53, 88, 26, 36, 29,  7], dtype=int32)"
      ]
     },
     "execution_count": 20,
     "metadata": {},
     "output_type": "execute_result"
    }
   ],
   "source": [
    "deleted = np.delete(de, [0,2,5])\n",
    "deleted"
   ]
  },
  {
   "cell_type": "code",
   "execution_count": 21,
   "id": "9aeac8ef-f847-4e5d-8757-698031ad2ab1",
   "metadata": {},
   "outputs": [],
   "source": [
    "## array manipulation"
   ]
  },
  {
   "cell_type": "code",
   "execution_count": 22,
   "id": "d492f488-af9b-45db-8859-f7ba463b6223",
   "metadata": {},
   "outputs": [
    {
     "data": {
      "text/plain": [
       "array([[ 0,  1,  2,  3],\n",
       "       [ 4,  5,  6,  7],\n",
       "       [ 8,  9, 10, 11]])"
      ]
     },
     "execution_count": 22,
     "metadata": {},
     "output_type": "execute_result"
    }
   ],
   "source": [
    "am = np.arange(12).reshape(3,4)\n",
    "am"
   ]
  },
  {
   "cell_type": "code",
   "execution_count": 23,
   "id": "324337f4-171e-47f1-a03f-4934c8a4228b",
   "metadata": {},
   "outputs": [
    {
     "data": {
      "text/plain": [
       "array([[ 0,  4,  8],\n",
       "       [ 1,  5,  9],\n",
       "       [ 2,  6, 10],\n",
       "       [ 3,  7, 11]])"
      ]
     },
     "execution_count": 23,
     "metadata": {},
     "output_type": "execute_result"
    }
   ],
   "source": [
    "np.transpose(am)"
   ]
  },
  {
   "cell_type": "code",
   "execution_count": 24,
   "id": "80d30b8c-3b61-442b-8b12-491c05514f03",
   "metadata": {},
   "outputs": [
    {
     "data": {
      "text/plain": [
       "array([[ 0,  4,  8],\n",
       "       [ 1,  5,  9],\n",
       "       [ 2,  6, 10],\n",
       "       [ 3,  7, 11]])"
      ]
     },
     "execution_count": 24,
     "metadata": {},
     "output_type": "execute_result"
    }
   ],
   "source": [
    "am.T"
   ]
  },
  {
   "cell_type": "code",
   "execution_count": 25,
   "id": "ad408edb-7a9a-4c2b-9046-f2ef7c19b33d",
   "metadata": {},
   "outputs": [],
   "source": [
    "# ravel and flatten"
   ]
  },
  {
   "cell_type": "code",
   "execution_count": 26,
   "id": "224b1c02-817d-4e09-9111-7cdb7f98f780",
   "metadata": {},
   "outputs": [
    {
     "data": {
      "text/plain": [
       "array([ 0,  1,  2,  3,  4,  5,  6,  7,  8,  9, 10, 11])"
      ]
     },
     "execution_count": 26,
     "metadata": {},
     "output_type": "execute_result"
    }
   ],
   "source": [
    "np.ravel(am)"
   ]
  },
  {
   "cell_type": "code",
   "execution_count": 27,
   "id": "d0b26443-8aef-4401-8fe9-7eeed1ecde55",
   "metadata": {},
   "outputs": [
    {
     "data": {
      "text/plain": [
       "array([ 0,  1,  2,  3,  4,  5,  6,  7,  8,  9, 10, 11])"
      ]
     },
     "execution_count": 27,
     "metadata": {},
     "output_type": "execute_result"
    }
   ],
   "source": [
    "am.ravel()"
   ]
  },
  {
   "cell_type": "code",
   "execution_count": 28,
   "id": "54ad1662-b6b0-4798-ae06-d42b960f934c",
   "metadata": {},
   "outputs": [
    {
     "data": {
      "text/plain": [
       "array([ 0,  1,  2,  3,  4,  5,  6,  7,  8,  9, 10, 11])"
      ]
     },
     "execution_count": 28,
     "metadata": {},
     "output_type": "execute_result"
    }
   ],
   "source": [
    "am.flatten()"
   ]
  },
  {
   "cell_type": "code",
   "execution_count": 29,
   "id": "5d316ac5-1b99-4653-a8f5-373ac3b51048",
   "metadata": {},
   "outputs": [
    {
     "data": {
      "text/plain": [
       "array([[[0, 1],\n",
       "        [2, 3]],\n",
       "\n",
       "       [[4, 5],\n",
       "        [6, 7]]])"
      ]
     },
     "execution_count": 29,
     "metadata": {},
     "output_type": "execute_result"
    }
   ],
   "source": [
    "am1 = np.arange(8).reshape(2,2,2)\n",
    "am1"
   ]
  },
  {
   "cell_type": "code",
   "execution_count": 55,
   "id": "b4484ee8-3e24-49f7-a173-c79c1996e4ee",
   "metadata": {},
   "outputs": [
    {
     "data": {
      "text/plain": [
       "(array([0, 1, 2, 3, 4, 5, 6, 7]), array([0, 1, 2, 3, 4, 5, 6, 7]))"
      ]
     },
     "execution_count": 55,
     "metadata": {},
     "output_type": "execute_result"
    }
   ],
   "source": [
    "am1.ravel(), am1.flatten()"
   ]
  },
  {
   "cell_type": "code",
   "execution_count": 31,
   "id": "78924fc1-528b-4dbd-b0d5-6cc7c58f65d9",
   "metadata": {},
   "outputs": [],
   "source": [
    "## Concatination"
   ]
  },
  {
   "cell_type": "code",
   "execution_count": 36,
   "id": "eadf597c-6ce5-40db-83a7-06e185d197e6",
   "metadata": {},
   "outputs": [
    {
     "data": {
      "text/plain": [
       "array([[ 1,  2,  3,  7,  8,  9],\n",
       "       [ 4,  5,  6, 10, 11, 12]])"
      ]
     },
     "execution_count": 36,
     "metadata": {},
     "output_type": "execute_result"
    }
   ],
   "source": [
    "arr = np.array([[1,2,3],[4,5,6]])\n",
    "arr1 = np.array([[7,8,9],[10,11,12]])\n",
    "\n",
    "concat = np.concatenate((arr, arr1), axis=1)\n",
    "concat"
   ]
  },
  {
   "cell_type": "code",
   "execution_count": 37,
   "id": "baddfa51-055b-4e26-8107-2e0fe0363080",
   "metadata": {},
   "outputs": [],
   "source": [
    "## stacking"
   ]
  },
  {
   "cell_type": "code",
   "execution_count": 38,
   "id": "e6d17ffa-9b20-412b-9236-89f37b732b81",
   "metadata": {},
   "outputs": [
    {
     "data": {
      "text/plain": [
       "(array([[ 0,  1,  2,  3],\n",
       "        [ 4,  5,  6,  7],\n",
       "        [ 8,  9, 10, 11]]),\n",
       " array([[12, 13, 14, 15],\n",
       "        [16, 17, 18, 19],\n",
       "        [20, 21, 22, 23]]))"
      ]
     },
     "execution_count": 38,
     "metadata": {},
     "output_type": "execute_result"
    }
   ],
   "source": [
    "w1 = np.arange(12).reshape(3,4)\n",
    "w2 = np.arange(12,24).reshape(3,4)\n",
    "\n",
    "w1, w2"
   ]
  },
  {
   "cell_type": "code",
   "execution_count": 43,
   "id": "b95a1961-fcfe-4b88-b659-2fd969e494ba",
   "metadata": {},
   "outputs": [
    {
     "data": {
      "text/plain": [
       "array([[ 0,  1,  2,  3, 12, 13, 14, 15],\n",
       "       [ 4,  5,  6,  7, 16, 17, 18, 19],\n",
       "       [ 8,  9, 10, 11, 20, 21, 22, 23]])"
      ]
     },
     "execution_count": 43,
     "metadata": {},
     "output_type": "execute_result"
    }
   ],
   "source": [
    "h_stack = np.hstack((w1, w2))"
   ]
  },
  {
   "cell_type": "code",
   "execution_count": 42,
   "id": "18741a36-604e-4bfb-8c97-2f30a8fc64c8",
   "metadata": {},
   "outputs": [
    {
     "data": {
      "text/plain": [
       "array([[ 0,  1,  2,  3],\n",
       "       [ 4,  5,  6,  7],\n",
       "       [ 8,  9, 10, 11],\n",
       "       [12, 13, 14, 15],\n",
       "       [16, 17, 18, 19],\n",
       "       [20, 21, 22, 23]])"
      ]
     },
     "execution_count": 42,
     "metadata": {},
     "output_type": "execute_result"
    }
   ],
   "source": [
    "v_stack = np.vstack((w1, w2))\n",
    "v_stack"
   ]
  },
  {
   "cell_type": "code",
   "execution_count": 44,
   "id": "3bd979a4-d8c6-4ef5-b667-ebd1f6123795",
   "metadata": {},
   "outputs": [],
   "source": [
    "## Splitting"
   ]
  },
  {
   "cell_type": "code",
   "execution_count": 54,
   "id": "bf33631d-382a-4597-91f0-fcf10856ac52",
   "metadata": {},
   "outputs": [
    {
     "data": {
      "text/plain": [
       "[array([[0, 1, 2, 3],\n",
       "        [4, 5, 6, 7]]),\n",
       " array([[ 8,  9, 10, 11],\n",
       "        [12, 13, 14, 15]]),\n",
       " array([[16, 17, 18, 19],\n",
       "        [20, 21, 22, 23]])]"
      ]
     },
     "execution_count": 54,
     "metadata": {},
     "output_type": "execute_result"
    }
   ],
   "source": [
    "np.vsplit(v_stack, 3)"
   ]
  },
  {
   "cell_type": "code",
   "execution_count": 53,
   "id": "8e9f584c-31ec-49f6-8b78-55751c2ac658",
   "metadata": {},
   "outputs": [
    {
     "data": {
      "text/plain": [
       "[array([[0, 1],\n",
       "        [4, 5],\n",
       "        [8, 9]]),\n",
       " array([[ 2,  3],\n",
       "        [ 6,  7],\n",
       "        [10, 11]]),\n",
       " array([[12, 13],\n",
       "        [16, 17],\n",
       "        [20, 21]]),\n",
       " array([[14, 15],\n",
       "        [18, 19],\n",
       "        [22, 23]])]"
      ]
     },
     "execution_count": 53,
     "metadata": {},
     "output_type": "execute_result"
    }
   ],
   "source": [
    "np.hsplit(h_stack, 4)"
   ]
  },
  {
   "cell_type": "code",
   "execution_count": 56,
   "id": "6dbbc59b-f095-48b6-acbc-d46423d27b80",
   "metadata": {},
   "outputs": [],
   "source": [
    "## Boolean indexing and fancy indexing"
   ]
  },
  {
   "cell_type": "code",
   "execution_count": 57,
   "id": "7c7ea6cc-0b25-4a48-b9a9-b6d30f140c2a",
   "metadata": {},
   "outputs": [
    {
     "data": {
      "text/plain": [
       "array([10, 20, 30, 40, 50, 60, 70, 80, 90])"
      ]
     },
     "execution_count": 57,
     "metadata": {},
     "output_type": "execute_result"
    }
   ],
   "source": [
    "arr = np.arange(10,100,10,dtype=int)\n",
    "arr"
   ]
  },
  {
   "cell_type": "code",
   "execution_count": 58,
   "id": "5e99f6db-ed8d-4d2d-b918-cc6a9585688d",
   "metadata": {},
   "outputs": [
    {
     "data": {
      "text/plain": [
       "array([False, False,  True,  True,  True,  True,  True,  True,  True])"
      ]
     },
     "execution_count": 58,
     "metadata": {},
     "output_type": "execute_result"
    }
   ],
   "source": [
    "arr> 25"
   ]
  },
  {
   "cell_type": "code",
   "execution_count": 59,
   "id": "c9a60671-cbf5-4c30-bc52-0572a61c8e30",
   "metadata": {},
   "outputs": [
    {
     "data": {
      "text/plain": [
       "array([30, 40, 50, 60, 70, 80, 90])"
      ]
     },
     "execution_count": 59,
     "metadata": {},
     "output_type": "execute_result"
    }
   ],
   "source": [
    "arr[arr> 25]"
   ]
  },
  {
   "cell_type": "code",
   "execution_count": 61,
   "id": "da4311c6-c67e-4c4b-98ca-6eb58fc3acc0",
   "metadata": {},
   "outputs": [
    {
     "data": {
      "text/plain": [
       "array([30, 60, 90])"
      ]
     },
     "execution_count": 61,
     "metadata": {},
     "output_type": "execute_result"
    }
   ],
   "source": [
    "arr[arr%6==0]"
   ]
  },
  {
   "cell_type": "code",
   "execution_count": 62,
   "id": "34790727-0fd5-4093-90e3-fbdfc309a50a",
   "metadata": {},
   "outputs": [
    {
     "data": {
      "text/plain": [
       "array([10, 30, 60])"
      ]
     },
     "execution_count": 62,
     "metadata": {},
     "output_type": "execute_result"
    }
   ],
   "source": [
    "arr[np.array([0,2,5])] # fancy indexing"
   ]
  },
  {
   "cell_type": "code",
   "execution_count": 63,
   "id": "bde89305-8f26-4c80-b5da-b712979db2d6",
   "metadata": {},
   "outputs": [
    {
     "data": {
      "text/plain": [
       "array([[81, 68, 45, 16],\n",
       "       [84, 14, 48, 93],\n",
       "       [44, 82, 59, 79],\n",
       "       [58, 63, 94, 92],\n",
       "       [91, 93, 63, 68],\n",
       "       [17, 13,  7, 19]], dtype=int32)"
      ]
     },
     "execution_count": 63,
     "metadata": {},
     "output_type": "execute_result"
    }
   ],
   "source": [
    "g = np.random.randint(0,100, 24).reshape(6,4)\n",
    "g"
   ]
  },
  {
   "cell_type": "code",
   "execution_count": 66,
   "id": "eca93340-53ab-4068-b24a-6031578188a8",
   "metadata": {},
   "outputs": [
    {
     "data": {
      "text/plain": [
       "array([94, 93, 93, 92, 91, 84, 82, 81, 79, 68, 68, 63, 63, 59, 58],\n",
       "      dtype=int32)"
      ]
     },
     "execution_count": 66,
     "metadata": {},
     "output_type": "execute_result"
    }
   ],
   "source": [
    "np.sort(g[g>50])[::-1]"
   ]
  },
  {
   "cell_type": "code",
   "execution_count": 67,
   "id": "9414ab32-e60f-4632-a75e-3a6c62eb55fe",
   "metadata": {},
   "outputs": [
    {
     "data": {
      "text/plain": [
       "array([68, 16, 84, 14, 48, 44, 82, 58, 94, 92, 68], dtype=int32)"
      ]
     },
     "execution_count": 67,
     "metadata": {},
     "output_type": "execute_result"
    }
   ],
   "source": [
    "g[g%2==0]"
   ]
  },
  {
   "cell_type": "code",
   "execution_count": 68,
   "id": "8b6da455-993d-4841-a564-ac7f574d7d07",
   "metadata": {},
   "outputs": [
    {
     "data": {
      "text/plain": [
       "array([68, 84, 82, 58, 94, 92, 68], dtype=int32)"
      ]
     },
     "execution_count": 68,
     "metadata": {},
     "output_type": "execute_result"
    }
   ],
   "source": [
    "g[(g>50) & (g%2==0)]"
   ]
  },
  {
   "cell_type": "code",
   "execution_count": 70,
   "id": "9d4523be-9a56-4f20-a254-d1012c3ad2e3",
   "metadata": {},
   "outputs": [
    {
     "data": {
      "text/plain": [
       "array([81, 45, 93, 59, 79, 63, 91, 93, 63, 17, 13,  7, 19], dtype=int32)"
      ]
     },
     "execution_count": 70,
     "metadata": {},
     "output_type": "execute_result"
    }
   ],
   "source": [
    "g[~(g%2==0)] # ~ Not"
   ]
  },
  {
   "cell_type": "code",
   "execution_count": 72,
   "id": "2c34048b-02f1-4c1d-86c2-f444edbf358d",
   "metadata": {},
   "outputs": [
    {
     "data": {
      "text/plain": [
       "array([[81, 68, 45, 16],\n",
       "       [44, 82, 59, 79],\n",
       "       [58, 63, 94, 92]], dtype=int32)"
      ]
     },
     "execution_count": 72,
     "metadata": {},
     "output_type": "execute_result"
    }
   ],
   "source": [
    "index = np.array([0,2,3])\n",
    "g[index]"
   ]
  },
  {
   "cell_type": "code",
   "execution_count": 73,
   "id": "afc3078e-b160-4f4f-b8ed-67938fe512d6",
   "metadata": {
    "scrolled": true
   },
   "outputs": [
    {
     "data": {
      "text/plain": [
       "array([[81, 68, 45, 16],\n",
       "       [84, 14, 48, 93],\n",
       "       [44, 82, 59, 79],\n",
       "       [58, 63, 94, 92],\n",
       "       [91, 93, 63, 68],\n",
       "       [17, 13,  7, 19]], dtype=int32)"
      ]
     },
     "execution_count": 73,
     "metadata": {},
     "output_type": "execute_result"
    }
   ],
   "source": [
    "g"
   ]
  },
  {
   "cell_type": "code",
   "execution_count": 76,
   "id": "07e83927-96c5-4fb6-922b-a897f4818230",
   "metadata": {},
   "outputs": [],
   "source": [
    "## flip"
   ]
  },
  {
   "cell_type": "code",
   "execution_count": 75,
   "id": "68ad9d9a-f2b1-43c9-bd17-2a652c575b83",
   "metadata": {},
   "outputs": [
    {
     "data": {
      "text/plain": [
       "array([[19,  7, 13, 17],\n",
       "       [68, 63, 93, 91],\n",
       "       [92, 94, 63, 58],\n",
       "       [79, 59, 82, 44],\n",
       "       [93, 48, 14, 84],\n",
       "       [16, 45, 68, 81]], dtype=int32)"
      ]
     },
     "execution_count": 75,
     "metadata": {},
     "output_type": "execute_result"
    }
   ],
   "source": [
    "np.flip(g)"
   ]
  },
  {
   "cell_type": "code",
   "execution_count": 84,
   "id": "d286a8d4-edfc-4ccb-ad54-33865dd21f81",
   "metadata": {},
   "outputs": [
    {
     "data": {
      "text/plain": [
       "array([0, 1, 2, 3, 4, 5, 6, 7, 8, 9])"
      ]
     },
     "execution_count": 84,
     "metadata": {},
     "output_type": "execute_result"
    }
   ],
   "source": [
    "fl = np.arange(10)\n",
    "fl"
   ]
  },
  {
   "cell_type": "code",
   "execution_count": 87,
   "id": "522bcd41-9a73-4997-b392-1aae313888df",
   "metadata": {},
   "outputs": [
    {
     "data": {
      "text/plain": [
       "array([9, 8, 7, 6, 5, 4, 3, 2, 1, 0])"
      ]
     },
     "execution_count": 87,
     "metadata": {},
     "output_type": "execute_result"
    }
   ],
   "source": [
    "np.flip(fl)"
   ]
  },
  {
   "cell_type": "code",
   "execution_count": 77,
   "id": "dfcb4e73-acb6-498b-a4c1-da2fdd404ce0",
   "metadata": {},
   "outputs": [],
   "source": [
    "## Array Broadcasting"
   ]
  },
  {
   "cell_type": "code",
   "execution_count": 79,
   "id": "34eeeac0-78a0-4f8b-bf81-cd3a2e703ade",
   "metadata": {},
   "outputs": [
    {
     "data": {
      "text/plain": [
       "array([ 5,  6,  7,  8,  9, 10, 11, 12, 13, 14])"
      ]
     },
     "execution_count": 79,
     "metadata": {},
     "output_type": "execute_result"
    }
   ],
   "source": [
    "array = np.array([1,2,3,4,5,6,7,8,9,10])\n",
    "\n",
    "scalr = 4\n",
    "\n",
    "result = array + scalr\n",
    "result"
   ]
  },
  {
   "cell_type": "code",
   "execution_count": 82,
   "id": "835f0960-f4d8-4d71-a9c9-5fac39a11f90",
   "metadata": {},
   "outputs": [
    {
     "data": {
      "text/plain": [
       "array([[ 8, 10, 12],\n",
       "       [11, 13, 15]])"
      ]
     },
     "execution_count": 82,
     "metadata": {},
     "output_type": "execute_result"
    }
   ],
   "source": [
    "arr1 = np.array([[1,2,3],[4,5,6]])\n",
    "arr2 = np.array([7,8,9])\n",
    "\n",
    "result1 = arr1 + arr2\n",
    "result1"
   ]
  },
  {
   "cell_type": "code",
   "execution_count": 83,
   "id": "62cc48d8-fe09-44ef-8501-a2501cf7820e",
   "metadata": {},
   "outputs": [
    {
     "data": {
      "text/plain": [
       "array([[ 7, 16, 27],\n",
       "       [28, 40, 54]])"
      ]
     },
     "execution_count": 83,
     "metadata": {},
     "output_type": "execute_result"
    }
   ],
   "source": [
    "mul = arr1 * arr2\n",
    "mul"
   ]
  },
  {
   "cell_type": "code",
   "execution_count": 88,
   "id": "f10cd7d1-9f4c-4f58-9588-1f64d1296bdf",
   "metadata": {},
   "outputs": [],
   "source": [
    "# invers of array"
   ]
  },
  {
   "cell_type": "code",
   "execution_count": 90,
   "id": "41615ae1-4f93-469a-a7c2-ea39cf7d5615",
   "metadata": {},
   "outputs": [
    {
     "data": {
      "text/plain": [
       "array([[-3.5,  2.5],\n",
       "       [ 3. , -2. ]])"
      ]
     },
     "execution_count": 90,
     "metadata": {},
     "output_type": "execute_result"
    }
   ],
   "source": [
    "ia = np.array([[4,5],[6,7]])\n",
    "\n",
    "inverse_array = np.linalg.inv(ia)\n",
    "inverse_array"
   ]
  },
  {
   "cell_type": "code",
   "execution_count": 91,
   "id": "de0a41fd-df07-47fe-b27b-3cf11a61143a",
   "metadata": {},
   "outputs": [],
   "source": [
    "## File Handling Using Numpy"
   ]
  },
  {
   "cell_type": "code",
   "execution_count": 92,
   "id": "e6f0ce53-371a-4249-812a-fe1ea0f114f5",
   "metadata": {},
   "outputs": [
    {
     "data": {
      "text/plain": [
       "array([173,   7,  27, 149,  76, 140, 168,  94, 128,  68,  46, 186, 112,\n",
       "        16, 117, 192, 181,  91, 131,  20], dtype=int32)"
      ]
     },
     "execution_count": 92,
     "metadata": {},
     "output_type": "execute_result"
    }
   ],
   "source": [
    "arr = np.random.randint(1,200,20)\n",
    "arr"
   ]
  },
  {
   "cell_type": "code",
   "execution_count": 93,
   "id": "f7e1e875-e19c-40c7-9de0-d01b71d760f3",
   "metadata": {},
   "outputs": [],
   "source": [
    "np.save('array.npy', arr)"
   ]
  },
  {
   "cell_type": "code",
   "execution_count": 94,
   "id": "d12c0659-ba37-4c5a-9b9a-a7732dc6987b",
   "metadata": {},
   "outputs": [
    {
     "data": {
      "text/plain": [
       "array([173,   7,  27, 149,  76, 140, 168,  94, 128,  68,  46, 186, 112,\n",
       "        16, 117, 192, 181,  91, 131,  20], dtype=int32)"
      ]
     },
     "execution_count": 94,
     "metadata": {},
     "output_type": "execute_result"
    }
   ],
   "source": [
    "load_data = np.load('array.npy')\n",
    "load_data"
   ]
  },
  {
   "cell_type": "code",
   "execution_count": 95,
   "id": "69e90a34-9326-4bd0-b5e6-4db91f14687b",
   "metadata": {},
   "outputs": [
    {
     "data": {
      "text/plain": [
       "array([  7,  16,  20,  27,  46,  68,  76,  91,  94, 112, 117, 128, 131,\n",
       "       140, 149, 168, 173, 181, 186, 192], dtype=int32)"
      ]
     },
     "execution_count": 95,
     "metadata": {},
     "output_type": "execute_result"
    }
   ],
   "source": [
    "np.sort(load_data)"
   ]
  },
  {
   "cell_type": "code",
   "execution_count": null,
   "id": "296a4bf7-2ce6-492c-8967-c28913296437",
   "metadata": {},
   "outputs": [],
   "source": []
  }
 ],
 "metadata": {
  "kernelspec": {
   "display_name": "Python 3 (ipykernel)",
   "language": "python",
   "name": "python3"
  },
  "language_info": {
   "codemirror_mode": {
    "name": "ipython",
    "version": 3
   },
   "file_extension": ".py",
   "mimetype": "text/x-python",
   "name": "python",
   "nbconvert_exporter": "python",
   "pygments_lexer": "ipython3",
   "version": "3.13.1"
  }
 },
 "nbformat": 4,
 "nbformat_minor": 5
}
