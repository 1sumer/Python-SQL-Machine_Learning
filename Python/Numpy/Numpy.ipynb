{
 "cells": [
  {
   "cell_type": "markdown",
   "metadata": {},
   "source": [
    "### **Introduction to NumPy:**\n",
    "\n",
    "NumPy is a powerful library that provides support for arrays, matrices, and mathematical functions, making it a core tool in scientific computing and data analysis. \n",
    "\n",
    "Here's an outline of what is contained in NumPy class:\n",
    "\n",
    "NumPy is a fundamental library in Python for numerical computations and data manipulation. It provides support for arrays and matrices, along with a wide range of mathematical functions to operate on these arrays efficiently. This makes it an essential tool for scientific computing and data analysis tasks."
   ]
  },
  {
   "cell_type": "markdown",
   "metadata": {},
   "source": [
    "### **NumPy arrays and Python lists are both used to store collections of data, but they have several key differences in terms of performance, functionality, and memory management. Here's a breakdown of the technical differences between the two:**\n",
    "\n",
    "**Homogeneity:**\n",
    "\n",
    "---------------------\n",
    "\n",
    "NumPy arrays are homogeneous, meaning all elements in the array must be of the same data type (integers, floats, etc.).\n",
    "\n",
    "Python List: Python lists can store elements of different data types in the same list.\n",
    "\n",
    "**Performance:**\n",
    "\n",
    "---------------------\n",
    "\n",
    "NumPy arrays are optimized for numerical operations. They are more memory-efficient and faster for large-scale numerical computations due to their efficient memory layout and use of low-level operations.\n",
    "\n",
    "Python List: Python lists are not as optimized for numerical computations and can be slower for large datasets or mathematical operations.\n",
    "\n",
    "**Memory Efficiency:**\n",
    "\n",
    "---------------------\n",
    "\n",
    "NumPy Array: NumPy arrays use a contiguous block of memory, which reduces memory overhead and allows for better cache utilization. This results in better memory efficiency compared to Python lists.\n",
    "\n",
    "Python List: Python lists are less memory-efficient since they store additional information for each element, including the type and reference count.\n",
    "\n",
    "**Functionality:**\n",
    "\n",
    "----------------------\n",
    "\n",
    "NumPy Array: NumPy arrays offer a wide range of mathematical and array-specific functions for efficient element-wise operations, broadcasting, and advanced array manipulation.\n",
    "\n",
    "Python List: Python lists offer basic operations like appending, extending, and indexing, but lack the advanced array-specific functionality of NumPy arrays.\n",
    "\n",
    "**Vectorized Operations:**\n",
    "\n",
    "-----------------------\n",
    "\n",
    "NumPy Array: NumPy arrays allow for vectorized operations, where operations are applied element-wise without explicit loops. This leads to cleaner and more concise code.\n",
    "\n",
    "Python List: Python lists require explicit loops to perform element-wise operations, which can be slower and less readable.\n",
    "\n",
    "\n",
    "**Size and Shape:**\n",
    "\n",
    "-----------------------\n",
    "\n",
    "NumPy Array: NumPy arrays have a fixed size and shape upon creation. Changing the shape requires creating a new array or using specialized functions.\n",
    "\n",
    "Python List: Python lists can dynamically change in size by appending or removing elements.\n",
    "\n",
    "**Supported Functions:**\n",
    "\n",
    "-----------------------\n",
    "\n",
    "\n",
    "NumPy Array: NumPy arrays support a wide range of mathematical and statistical functions, linear algebra operations, and more, making it suitable for scientific computing and data analysis.\n",
    "\n",
    "Python List: Python lists lack built-in support for many of the advanced numerical and array operations provided by NumPy.\n",
    "\n",
    "#### In summary, NumPy arrays are designed specifically for numerical and scientific computing tasks, offering better performance, memory efficiency, and a comprehensive set of functions for working with arrays. Python lists are more general-purpose and flexible but lack the specialized features and optimizations of NumPy arrays when it comes to numerical operations."
   ]
  },
  {
   "cell_type": "markdown",
   "metadata": {},
   "source": [
    "### **Diffrence between Numpy and List in code**"
   ]
  },
  {
   "cell_type": "code",
   "execution_count": 1,
   "metadata": {},
   "outputs": [
    {
     "name": "stdout",
     "output_type": "stream",
     "text": [
      "Python List with 2 added: [3, 5, 7, 9, 11]\n"
     ]
    },
    {
     "name": "stdout",
     "output_type": "stream",
     "text": [
      "NumPy Array with 2 added: [ 3  5  7  9 11]\n"
     ]
    }
   ],
   "source": [
    "# Adding 2 to a Python list\n",
    "python_list = [1, 3, 5, 7, 9]\n",
    "python_list_with_2 = [x + 2 for x in python_list]\n",
    "print(\"Python List with 2 added:\", python_list_with_2)\n",
    "\n",
    "# Adding 2 to a NumPy array\n",
    "import numpy as np\n",
    "\n",
    "numpy_array = np.array([1, 3, 5, 7, 9])\n",
    "numpy_array_with_2 = numpy_array + 2\n",
    "print(\"NumPy Array with 2 added:\", numpy_array_with_2)\n"
   ]
  },
  {
   "cell_type": "code",
   "execution_count": 2,
   "metadata": {},
   "outputs": [
    {
     "data": {
      "text/plain": [
       "[3, 5, 7, 9, 11]"
      ]
     },
     "execution_count": 2,
     "metadata": {},
     "output_type": "execute_result"
    }
   ],
   "source": [
    "aa = list(map(lambda x:x+2,python_list))\n",
    "aa"
   ]
  },
  {
   "cell_type": "markdown",
   "metadata": {},
   "source": [
    "**Perfomence**"
   ]
  },
  {
   "cell_type": "code",
   "execution_count": 2,
   "metadata": {},
   "outputs": [
    {
     "name": "stdout",
     "output_type": "stream",
     "text": [
      "Time taken for Python list addition: 0.19452595710754395 seconds\n",
      "Time taken for NumPy array addition: 0.004045248031616211 seconds\n"
     ]
    }
   ],
   "source": [
    "import time\n",
    "# Create large arrays\n",
    "python_list = list(range(10**6))\n",
    "numpy_array = np.array(range(10**6))\n",
    "\n",
    "# Measure the time taken for element-wise addition using Python list\n",
    "start_time = time.time()\n",
    "python_list_sum = [x + 2 for x in python_list]\n",
    "end_time = time.time()\n",
    "print(f\"Time taken for Python list addition: {end_time - start_time} seconds\")\n",
    "\n",
    "# Measure the time taken for element-wise addition using NumPy array\n",
    "start_time = time.time()\n",
    "numpy_array_sum = numpy_array + 2\n",
    "end_time = time.time()\n",
    "print(f\"Time taken for NumPy array addition: {end_time - start_time} seconds\")"
   ]
  },
  {
   "cell_type": "markdown",
   "metadata": {},
   "source": [
    "**Memory**"
   ]
  },
  {
   "cell_type": "code",
   "execution_count": 3,
   "metadata": {},
   "outputs": [
    {
     "name": "stdout",
     "output_type": "stream",
     "text": [
      "Size of Python list: 8000056 bytes\n",
      "Size of NumPy array: 8000000 bytes\n"
     ]
    }
   ],
   "source": [
    "import sys\n",
    "\n",
    "# Create a Python list and a NumPy array with the same data\n",
    "python_list = list(range(10**6))\n",
    "numpy_array = np.array(range(10**6))\n",
    "\n",
    "# Check the size of each object in bytes\n",
    "size_python_list = sys.getsizeof(python_list)\n",
    "size_numpy_array = numpy_array.nbytes\n",
    "\n",
    "print(f\"Size of Python list: {size_python_list} bytes\")\n",
    "print(f\"Size of NumPy array: {size_numpy_array} bytes\")"
   ]
  },
  {
   "cell_type": "markdown",
   "metadata": {},
   "source": [
    "### **Installing and Importing NumPy:**"
   ]
  },
  {
   "cell_type": "code",
   "execution_count": 4,
   "metadata": {},
   "outputs": [
    {
     "name": "stdout",
     "output_type": "stream",
     "text": [
      "Requirement already satisfied: numpy in c:\\users\\admin\\appdata\\local\\programs\\python\\python313\\lib\\site-packages (2.1.2)\n",
      "Note: you may need to restart the kernel to use updated packages.\n"
     ]
    },
    {
     "name": "stderr",
     "output_type": "stream",
     "text": [
      "\n",
      "[notice] A new release of pip is available: 24.3.1 -> 25.1.1\n",
      "[notice] To update, run: python.exe -m pip install --upgrade pip\n"
     ]
    }
   ],
   "source": [
    "pip install numpy"
   ]
  },
  {
   "cell_type": "code",
   "execution_count": 5,
   "metadata": {},
   "outputs": [
    {
     "name": "stdout",
     "output_type": "stream",
     "text": [
      "Name: numpy\n",
      "Version: 2.1.2\n",
      "Summary: Fundamental package for array computing in Python\n",
      "Home-page: https://numpy.org\n",
      "Author: Travis E. Oliphant et al.\n",
      "Author-email: \n",
      "License: Copyright (c) 2005-2024, NumPy Developers.\n",
      "All rights reserved.\n",
      "\n",
      "Redistribution and use in source and binary forms, with or without\n",
      "modification, are permitted provided that the following conditions are\n",
      "met:\n",
      "\n",
      "    * Redistributions of source code must retain the above copyright\n",
      "       notice, this list of conditions and the following disclaimer.\n",
      "\n",
      "    * Redistributions in binary form must reproduce the above\n",
      "       copyright notice, this list of conditions and the following\n",
      "       disclaimer in the documentation and/or other materials provided\n",
      "       with the distribution.\n",
      "\n",
      "    * Neither the name of the NumPy Developers nor the names of any\n",
      "       contributors may be used to endorse or promote products derived\n",
      "       from this software without specific prior written permission.\n",
      "\n",
      "THIS SOFTWARE IS PROVIDED BY THE COPYRIGHT HOLDERS AND CONTRIBUTORS\n",
      "\"AS IS\" AND ANY EXPRESS OR IMPLIED WARRANTIES, INCLUDING, BUT NOT\n",
      "LIMITED TO, THE IMPLIED WARRANTIES OF MERCHANTABILITY AND FITNESS FOR\n",
      "A PARTICULAR PURPOSE ARE DISCLAIMED. IN NO EVENT SHALL THE COPYRIGHT\n",
      "OWNER OR CONTRIBUTORS BE LIABLE FOR ANY DIRECT, INDIRECT, INCIDENTAL,\n",
      "SPECIAL, EXEMPLARY, OR CONSEQUENTIAL DAMAGES (INCLUDING, BUT NOT\n",
      "LIMITED TO, PROCUREMENT OF SUBSTITUTE GOODS OR SERVICES; LOSS OF USE,\n",
      "DATA, OR PROFITS; OR BUSINESS INTERRUPTION) HOWEVER CAUSED AND ON ANY\n",
      "THEORY OF LIABILITY, WHETHER IN CONTRACT, STRICT LIABILITY, OR TORT\n",
      "(INCLUDING NEGLIGENCE OR OTHERWISE) ARISING IN ANY WAY OUT OF THE USE\n",
      "OF THIS SOFTWARE, EVEN IF ADVISED OF THE POSSIBILITY OF SUCH DAMAGE.\n",
      "\n",
      "----\n",
      "\n",
      "The NumPy repository and source distributions bundle several libraries that are\n",
      "compatibly licensed.  We list these here.\n",
      "\n",
      "Name: lapack-lite\n",
      "Files: numpy/linalg/lapack_lite/*\n",
      "License: BSD-3-Clause\n",
      "  For details, see numpy/linalg/lapack_lite/LICENSE.txt\n",
      "\n",
      "Name: dragon4\n",
      "Files: numpy/_core/src/multiarray/dragon4.c\n",
      "License: MIT\n",
      "  For license text, see numpy/_core/src/multiarray/dragon4.c\n",
      "\n",
      "Name: libdivide\n",
      "Files: numpy/_core/include/numpy/libdivide/*\n",
      "License: Zlib\n",
      "  For license text, see numpy/_core/include/numpy/libdivide/LICENSE.txt\n",
      "\n",
      "\n",
      "Note that the following files are vendored in the repository and sdist but not\n",
      "installed in built numpy packages:\n",
      "\n",
      "Name: Meson\n",
      "Files: vendored-meson/meson/*\n",
      "License: Apache 2.0\n",
      "  For license text, see vendored-meson/meson/COPYING\n",
      "\n",
      "Name: spin\n",
      "Files: .spin/cmds.py\n",
      "License: BSD-3\n",
      "  For license text, see .spin/LICENSE\n",
      "\n",
      "----\n",
      "\n",
      "This binary distribution of NumPy also bundles the following software:\n",
      "\n",
      "\n",
      "Name: OpenBLAS\n",
      "Files: numpy.libs\\libscipy_openblas*.dll\n",
      "Description: bundled as a dynamically linked library\n",
      "Availability: https://github.com/OpenMathLib/OpenBLAS/\n",
      "License: BSD-3-Clause\n",
      "  Copyright (c) 2011-2014, The OpenBLAS Project\n",
      "  All rights reserved.\n",
      "\n",
      "  Redistribution and use in source and binary forms, with or without\n",
      "  modification, are permitted provided that the following conditions are\n",
      "  met:\n",
      "\n",
      "     1. Redistributions of source code must retain the above copyright\n",
      "        notice, this list of conditions and the following disclaimer.\n",
      "\n",
      "     2. Redistributions in binary form must reproduce the above copyright\n",
      "        notice, this list of conditions and the following disclaimer in\n",
      "        the documentation and/or other materials provided with the\n",
      "        distribution.\n",
      "     3. Neither the name of the OpenBLAS project nor the names of\n",
      "        its contributors may be used to endorse or promote products\n",
      "        derived from this software without specific prior written\n",
      "        permission.\n",
      "\n",
      "  THIS SOFTWARE IS PROVIDED BY THE COPYRIGHT HOLDERS AND CONTRIBUTORS \"AS IS\"\n",
      "  AND ANY EXPRESS OR IMPLIED WARRANTIES, INCLUDING, BUT NOT LIMITED TO, THE\n",
      "  IMPLIED WARRANTIES OF MERCHANTABILITY AND FITNESS FOR A PARTICULAR PURPOSE\n",
      "  ARE DISCLAIMED. IN NO EVENT SHALL THE COPYRIGHT OWNER OR CONTRIBUTORS BE\n",
      "  LIABLE FOR ANY DIRECT, INDIRECT, INCIDENTAL, SPECIAL, EXEMPLARY, OR CONSEQUENTIAL\n",
      "  DAMAGES (INCLUDING, BUT NOT LIMITED TO, PROCUREMENT OF SUBSTITUTE GOODS OR\n",
      "  SERVICES; LOSS OF USE, DATA, OR PROFITS; OR BUSINESS INTERRUPTION) HOWEVER\n",
      "  CAUSED AND ON ANY THEORY OF LIABILITY, WHETHER IN CONTRACT, STRICT LIABILITY,\n",
      "  OR TORT (INCLUDING NEGLIGENCE OR OTHERWISE) ARISING IN ANY WAY OUT OF THE\n",
      "  USE OF THIS SOFTWARE, EVEN IF ADVISED OF THE POSSIBILITY OF SUCH DAMAGE.\n",
      "\n",
      "\n",
      "Name: LAPACK\n",
      "Files: numpy.libs\\libscipy_openblas*.dll\n",
      "Description: bundled in OpenBLAS\n",
      "Availability: https://github.com/OpenMathLib/OpenBLAS/\n",
      "License: BSD-3-Clause-Attribution\n",
      "  Copyright (c) 1992-2013 The University of Tennessee and The University\n",
      "                          of Tennessee Research Foundation.  All rights\n",
      "                          reserved.\n",
      "  Copyright (c) 2000-2013 The University of California Berkeley. All\n",
      "                          rights reserved.\n",
      "  Copyright (c) 2006-2013 The University of Colorado Denver.  All rights\n",
      "                          reserved.\n",
      "\n",
      "  $COPYRIGHT$\n",
      "\n",
      "  Additional copyrights may follow\n",
      "\n",
      "  $HEADER$\n",
      "\n",
      "  Redistribution and use in source and binary forms, with or without\n",
      "  modification, are permitted provided that the following conditions are\n",
      "  met:\n",
      "\n",
      "  - Redistributions of source code must retain the above copyright\n",
      "    notice, this list of conditions and the following disclaimer.\n",
      "\n",
      "  - Redistributions in binary form must reproduce the above copyright\n",
      "    notice, this list of conditions and the following disclaimer listed\n",
      "    in this license in the documentation and/or other materials\n",
      "    provided with the distribution.\n",
      "\n",
      "  - Neither the name of the copyright holders nor the names of its\n",
      "    contributors may be used to endorse or promote products derived from\n",
      "    this software without specific prior written permission.\n",
      "\n",
      "  The copyright holders provide no reassurances that the source code\n",
      "  provided does not infringe any patent, copyright, or any other\n",
      "  intellectual property rights of third parties.  The copyright holders\n",
      "  disclaim any liability to any recipient for claims brought against\n",
      "  recipient by any third party for infringement of that parties\n",
      "  intellectual property rights.\n",
      "\n",
      "  THIS SOFTWARE IS PROVIDED BY THE COPYRIGHT HOLDERS AND CONTRIBUTORS\n",
      "  \"AS IS\" AND ANY EXPRESS OR IMPLIED WARRANTIES, INCLUDING, BUT NOT\n",
      "  LIMITED TO, THE IMPLIED WARRANTIES OF MERCHANTABILITY AND FITNESS FOR\n",
      "  A PARTICULAR PURPOSE ARE DISCLAIMED. IN NO EVENT SHALL THE COPYRIGHT\n",
      "  OWNER OR CONTRIBUTORS BE LIABLE FOR ANY DIRECT, INDIRECT, INCIDENTAL,\n",
      "  SPECIAL, EXEMPLARY, OR CONSEQUENTIAL DAMAGES (INCLUDING, BUT NOT\n",
      "  LIMITED TO, PROCUREMENT OF SUBSTITUTE GOODS OR SERVICES; LOSS OF USE,\n",
      "  DATA, OR PROFITS; OR BUSINESS INTERRUPTION) HOWEVER CAUSED AND ON ANY\n",
      "  THEORY OF LIABILITY, WHETHER IN CONTRACT, STRICT LIABILITY, OR TORT\n",
      "  (INCLUDING NEGLIGENCE OR OTHERWISE) ARISING IN ANY WAY OUT OF THE USE\n",
      "  OF THIS SOFTWARE, EVEN IF ADVISED OF THE POSSIBILITY OF SUCH DAMAGE.\n",
      "\n",
      "\n",
      "Name: GCC runtime library\n",
      "Files: numpy.libs\\libscipy_openblas*.dll\n",
      "Description: statically linked to files compiled with gcc\n",
      "Availability: https://gcc.gnu.org/git/?p=gcc.git;a=tree;f=libgfortran\n",
      "License: GPL-3.0-with-GCC-exception\n",
      "  Copyright (C) 2002-2017 Free Software Foundation, Inc.\n",
      "\n",
      "  Libgfortran is free software; you can redistribute it and/or modify\n",
      "  it under the terms of the GNU General Public License as published by\n",
      "  the Free Software Foundation; either version 3, or (at your option)\n",
      "  any later version.\n",
      "\n",
      "  Libgfortran is distributed in the hope that it will be useful,\n",
      "  but WITHOUT ANY WARRANTY; without even the implied warranty of\n",
      "  MERCHANTABILITY or FITNESS FOR A PARTICULAR PURPOSE.  See the\n",
      "  GNU General Public License for more details.\n",
      "\n",
      "  Under Section 7 of GPL version 3, you are granted additional\n",
      "  permissions described in the GCC Runtime Library Exception, version\n",
      "  3.1, as published by the Free Software Foundation.\n",
      "\n",
      "  You should have received a copy of the GNU General Public License and\n",
      "  a copy of the GCC Runtime Library Exception along with this program;\n",
      "  see the files COPYING3 and COPYING.RUNTIME respectively.  If not, see\n",
      "  <http://www.gnu.org/licenses/>.\n",
      "\n",
      "----\n",
      "\n",
      "Full text of license texts referred to above follows (that they are\n",
      "listed below does not necessarily imply the conditions apply to the\n",
      "present binary release):\n",
      "\n",
      "----\n",
      "\n",
      "GCC RUNTIME LIBRARY EXCEPTION\n",
      "\n",
      "Version 3.1, 31 March 2009\n",
      "\n",
      "Copyright (C) 2009 Free Software Foundation, Inc. <http://fsf.org/>\n",
      "\n",
      "Everyone is permitted to copy and distribute verbatim copies of this\n",
      "license document, but changing it is not allowed.\n",
      "\n",
      "This GCC Runtime Library Exception (\"Exception\") is an additional\n",
      "permission under section 7 of the GNU General Public License, version\n",
      "3 (\"GPLv3\"). It applies to a given file (the \"Runtime Library\") that\n",
      "bears a notice placed by the copyright holder of the file stating that\n",
      "the file is governed by GPLv3 along with this Exception.\n",
      "\n",
      "When you use GCC to compile a program, GCC may combine portions of\n",
      "certain GCC header files and runtime libraries with the compiled\n",
      "program. The purpose of this Exception is to allow compilation of\n",
      "non-GPL (including proprietary) programs to use, in this way, the\n",
      "header files and runtime libraries covered by this Exception.\n",
      "\n",
      "0. Definitions.\n",
      "\n",
      "A file is an \"Independent Module\" if it either requires the Runtime\n",
      "Library for execution after a Compilation Process, or makes use of an\n",
      "interface provided by the Runtime Library, but is not otherwise based\n",
      "on the Runtime Library.\n",
      "\n",
      "\"GCC\" means a version of the GNU Compiler Collection, with or without\n",
      "modifications, governed by version 3 (or a specified later version) of\n",
      "the GNU General Public License (GPL) with the option of using any\n",
      "subsequent versions published by the FSF.\n",
      "\n",
      "\"GPL-compatible Software\" is software whose conditions of propagation,\n",
      "modification and use would permit combination with GCC in accord with\n",
      "the license of GCC.\n",
      "\n",
      "\"Target Code\" refers to output from any compiler for a real or virtual\n",
      "target processor architecture, in executable form or suitable for\n",
      "input to an assembler, loader, linker and/or execution\n",
      "phase. Notwithstanding that, Target Code does not include data in any\n",
      "format that is used as a compiler intermediate representation, or used\n",
      "for producing a compiler intermediate representation.\n",
      "\n",
      "The \"Compilation Process\" transforms code entirely represented in\n",
      "non-intermediate languages designed for human-written code, and/or in\n",
      "Java Virtual Machine byte code, into Target Code. Thus, for example,\n",
      "use of source code generators and preprocessors need not be considered\n",
      "part of the Compilation Process, since the Compilation Process can be\n",
      "understood as starting with the output of the generators or\n",
      "preprocessors.\n",
      "\n",
      "A Compilation Process is \"Eligible\" if it is done using GCC, alone or\n",
      "with other GPL-compatible software, or if it is done without using any\n",
      "work based on GCC. For example, using non-GPL-compatible Software to\n",
      "optimize any GCC intermediate representations would not qualify as an\n",
      "Eligible Compilation Process.\n",
      "\n",
      "1. Grant of Additional Permission.\n",
      "\n",
      "You have permission to propagate a work of Target Code formed by\n",
      "combining the Runtime Library with Independent Modules, even if such\n",
      "propagation would otherwise violate the terms of GPLv3, provided that\n",
      "all Target Code was generated by Eligible Compilation Processes. You\n",
      "may then convey such a combination under terms of your choice,\n",
      "consistent with the licensing of the Independent Modules.\n",
      "\n",
      "2. No Weakening of GCC Copyleft.\n",
      "\n",
      "The availability of this Exception does not imply any general\n",
      "presumption that third-party software is unaffected by the copyleft\n",
      "requirements of the license of GCC.\n",
      "\n",
      "----\n",
      "\n",
      "                    GNU GENERAL PUBLIC LICENSE\n",
      "                       Version 3, 29 June 2007\n",
      "\n",
      " Copyright (C) 2007 Free Software Foundation, Inc. <http://fsf.org/>\n",
      " Everyone is permitted to copy and distribute verbatim copies\n",
      " of this license document, but changing it is not allowed.\n",
      "\n",
      "                            Preamble\n",
      "\n",
      "  The GNU General Public License is a free, copyleft license for\n",
      "software and other kinds of works.\n",
      "\n",
      "  The licenses for most software and other practical works are designed\n",
      "to take away your freedom to share and change the works.  By contrast,\n",
      "the GNU General Public License is intended to guarantee your freedom to\n",
      "share and change all versions of a program--to make sure it remains free\n",
      "software for all its users.  We, the Free Software Foundation, use the\n",
      "GNU General Public License for most of our software; it applies also to\n",
      "any other work released this way by its authors.  You can apply it to\n",
      "your programs, too.\n",
      "\n",
      "  When we speak of free software, we are referring to freedom, not\n",
      "price.  Our General Public Licenses are designed to make sure that you\n",
      "have the freedom to distribute copies of free software (and charge for\n",
      "them if you wish), that you receive source code or can get it if you\n",
      "want it, that you can change the software or use pieces of it in new\n",
      "free programs, and that you know you can do these things.\n",
      "\n",
      "  To protect your rights, we need to prevent others from denying you\n",
      "these rights or asking you to surrender the rights.  Therefore, you have\n",
      "certain responsibilities if you distribute copies of the software, or if\n",
      "you modify it: responsibilities to respect the freedom of others.\n",
      "\n",
      "  For example, if you distribute copies of such a program, whether\n",
      "gratis or for a fee, you must pass on to the recipients the same\n",
      "freedoms that you received.  You must make sure that they, too, receive\n",
      "or can get the source code.  And you must show them these terms so they\n",
      "know their rights.\n",
      "\n",
      "  Developers that use the GNU GPL protect your rights with two steps:\n",
      "(1) assert copyright on the software, and (2) offer you this License\n",
      "giving you legal permission to copy, distribute and/or modify it.\n",
      "\n",
      "  For the developers' and authors' protection, the GPL clearly explains\n",
      "that there is no warranty for this free software.  For both users' and\n",
      "authors' sake, the GPL requires that modified versions be marked as\n",
      "changed, so that their problems will not be attributed erroneously to\n",
      "authors of previous versions.\n",
      "\n",
      "  Some devices are designed to deny users access to install or run\n",
      "modified versions of the software inside them, although the manufacturer\n",
      "can do so.  This is fundamentally incompatible with the aim of\n",
      "protecting users' freedom to change the software.  The systematic\n",
      "pattern of such abuse occurs in the area of products for individuals to\n",
      "use, which is precisely where it is most unacceptable.  Therefore, we\n",
      "have designed this version of the GPL to prohibit the practice for those\n",
      "products.  If such problems arise substantially in other domains, we\n",
      "stand ready to extend this provision to those domains in future versions\n",
      "of the GPL, as needed to protect the freedom of users.\n",
      "\n",
      "  Finally, every program is threatened constantly by software patents.\n",
      "States should not allow patents to restrict development and use of\n",
      "software on general-purpose computers, but in those that do, we wish to\n",
      "avoid the special danger that patents applied to a free program could\n",
      "make it effectively proprietary.  To prevent this, the GPL assures that\n",
      "patents cannot be used to render the program non-free.\n",
      "\n",
      "  The precise terms and conditions for copying, distribution and\n",
      "modification follow.\n",
      "\n",
      "                       TERMS AND CONDITIONS\n",
      "\n",
      "  0. Definitions.\n",
      "\n",
      "  \"This License\" refers to version 3 of the GNU General Public License.\n",
      "\n",
      "  \"Copyright\" also means copyright-like laws that apply to other kinds of\n",
      "works, such as semiconductor masks.\n",
      "\n",
      "  \"The Program\" refers to any copyrightable work licensed under this\n",
      "License.  Each licensee is addressed as \"you\".  \"Licensees\" and\n",
      "\"recipients\" may be individuals or organizations.\n",
      "\n",
      "  To \"modify\" a work means to copy from or adapt all or part of the work\n",
      "in a fashion requiring copyright permission, other than the making of an\n",
      "exact copy.  The resulting work is called a \"modified version\" of the\n",
      "earlier work or a work \"based on\" the earlier work.\n",
      "\n",
      "  A \"covered work\" means either the unmodified Program or a work based\n",
      "on the Program.\n",
      "\n",
      "  To \"propagate\" a work means to do anything with it that, without\n",
      "permission, would make you directly or secondarily liable for\n",
      "infringement under applicable copyright law, except executing it on a\n",
      "computer or modifying a private copy.  Propagation includes copying,\n",
      "distribution (with or without modification), making available to the\n",
      "public, and in some countries other activities as well.\n",
      "\n",
      "  To \"convey\" a work means any kind of propagation that enables other\n",
      "parties to make or receive copies.  Mere interaction with a user through\n",
      "a computer network, with no transfer of a copy, is not conveying.\n",
      "\n",
      "  An interactive user interface displays \"Appropriate Legal Notices\"\n",
      "to the extent that it includes a convenient and prominently visible\n",
      "feature that (1) displays an appropriate copyright notice, and (2)\n",
      "tells the user that there is no warranty for the work (except to the\n",
      "extent that warranties are provided), that licensees may convey the\n",
      "work under this License, and how to view a copy of this License.  If\n",
      "the interface presents a list of user commands or options, such as a\n",
      "menu, a prominent item in the list meets this criterion.\n",
      "\n",
      "  1. Source Code.\n",
      "\n",
      "  The \"source code\" for a work means the preferred form of the work\n",
      "for making modifications to it.  \"Object code\" means any non-source\n",
      "form of a work.\n",
      "\n",
      "  A \"Standard Interface\" means an interface that either is an official\n",
      "standard defined by a recognized standards body, or, in the case of\n",
      "interfaces specified for a particular programming language, one that\n",
      "is widely used among developers working in that language.\n",
      "\n",
      "  The \"System Libraries\" of an executable work include anything, other\n",
      "than the work as a whole, that (a) is included in the normal form of\n",
      "packaging a Major Component, but which is not part of that Major\n",
      "Component, and (b) serves only to enable use of the work with that\n",
      "Major Component, or to implement a Standard Interface for which an\n",
      "implementation is available to the public in source code form.  A\n",
      "\"Major Component\", in this context, means a major essential component\n",
      "(kernel, window system, and so on) of the specific operating system\n",
      "(if any) on which the executable work runs, or a compiler used to\n",
      "produce the work, or an object code interpreter used to run it.\n",
      "\n",
      "  The \"Corresponding Source\" for a work in object code form means all\n",
      "the source code needed to generate, install, and (for an executable\n",
      "work) run the object code and to modify the work, including scripts to\n",
      "control those activities.  However, it does not include the work's\n",
      "System Libraries, or general-purpose tools or generally available free\n",
      "programs which are used unmodified in performing those activities but\n",
      "which are not part of the work.  For example, Corresponding Source\n",
      "includes interface definition files associated with source files for\n",
      "the work, and the source code for shared libraries and dynamically\n",
      "linked subprograms that the work is specifically designed to require,\n",
      "such as by intimate data communication or control flow between those\n",
      "subprograms and other parts of the work.\n",
      "\n",
      "  The Corresponding Source need not include anything that users\n",
      "can regenerate automatically from other parts of the Corresponding\n",
      "Source.\n",
      "\n",
      "  The Corresponding Source for a work in source code form is that\n",
      "same work.\n",
      "\n",
      "  2. Basic Permissions.\n",
      "\n",
      "  All rights granted under this License are granted for the term of\n",
      "copyright on the Program, and are irrevocable provided the stated\n",
      "conditions are met.  This License explicitly affirms your unlimited\n",
      "permission to run the unmodified Program.  The output from running a\n",
      "covered work is covered by this License only if the output, given its\n",
      "content, constitutes a covered work.  This License acknowledges your\n",
      "rights of fair use or other equivalent, as provided by copyright law.\n",
      "\n",
      "  You may make, run and propagate covered works that you do not\n",
      "convey, without conditions so long as your license otherwise remains\n",
      "in force.  You may convey covered works to others for the sole purpose\n",
      "of having them make modifications exclusively for you, or provide you\n",
      "with facilities for running those works, provided that you comply with\n",
      "the terms of this License in conveying all material for which you do\n",
      "not control copyright.  Those thus making or running the covered works\n",
      "for you must do so exclusively on your behalf, under your direction\n",
      "and control, on terms that prohibit them from making any copies of\n",
      "your copyrighted material outside their relationship with you.\n",
      "\n",
      "  Conveying under any other circumstances is permitted solely under\n",
      "the conditions stated below.  Sublicensing is not allowed; section 10\n",
      "makes it unnecessary.\n",
      "\n",
      "  3. Protecting Users' Legal Rights From Anti-Circumvention Law.\n",
      "\n",
      "  No covered work shall be deemed part of an effective technological\n",
      "measure under any applicable law fulfilling obligations under article\n",
      "11 of the WIPO copyright treaty adopted on 20 December 1996, or\n",
      "similar laws prohibiting or restricting circumvention of such\n",
      "measures.\n",
      "\n",
      "  When you convey a covered work, you waive any legal power to forbid\n",
      "circumvention of technological measures to the extent such circumvention\n",
      "is effected by exercising rights under this License with respect to\n",
      "the covered work, and you disclaim any intention to limit operation or\n",
      "modification of the work as a means of enforcing, against the work's\n",
      "users, your or third parties' legal rights to forbid circumvention of\n",
      "technological measures.\n",
      "\n",
      "  4. Conveying Verbatim Copies.\n",
      "\n",
      "  You may convey verbatim copies of the Program's source code as you\n",
      "receive it, in any medium, provided that you conspicuously and\n",
      "appropriately publish on each copy an appropriate copyright notice;\n",
      "keep intact all notices stating that this License and any\n",
      "non-permissive terms added in accord with section 7 apply to the code;\n",
      "keep intact all notices of the absence of any warranty; and give all\n",
      "recipients a copy of this License along with the Program.\n",
      "\n",
      "  You may charge any price or no price for each copy that you convey,\n",
      "and you may offer support or warranty protection for a fee.\n",
      "\n",
      "  5. Conveying Modified Source Versions.\n",
      "\n",
      "  You may convey a work based on the Program, or the modifications to\n",
      "produce it from the Program, in the form of source code under the\n",
      "terms of section 4, provided that you also meet all of these conditions:\n",
      "\n",
      "    a) The work must carry prominent notices stating that you modified\n",
      "    it, and giving a relevant date.\n",
      "\n",
      "    b) The work must carry prominent notices stating that it is\n",
      "    released under this License and any conditions added under section\n",
      "    7.  This requirement modifies the requirement in section 4 to\n",
      "    \"keep intact all notices\".\n",
      "\n",
      "    c) You must license the entire work, as a whole, under this\n",
      "    License to anyone who comes into possession of a copy.  This\n",
      "    License will therefore apply, along with any applicable section 7\n",
      "    additional terms, to the whole of the work, and all its parts,\n",
      "    regardless of how they are packaged.  This License gives no\n",
      "    permission to license the work in any other way, but it does not\n",
      "    invalidate such permission if you have separately received it.\n",
      "\n",
      "    d) If the work has interactive user interfaces, each must display\n",
      "    Appropriate Legal Notices; however, if the Program has interactive\n",
      "    interfaces that do not display Appropriate Legal Notices, your\n",
      "    work need not make them do so.\n",
      "\n",
      "  A compilation of a covered work with other separate and independent\n",
      "works, which are not by their nature extensions of the covered work,\n",
      "and which are not combined with it such as to form a larger program,\n",
      "in or on a volume of a storage or distribution medium, is called an\n",
      "\"aggregate\" if the compilation and its resulting copyright are not\n",
      "used to limit the access or legal rights of the compilation's users\n",
      "beyond what the individual works permit.  Inclusion of a covered work\n",
      "in an aggregate does not cause this License to apply to the other\n",
      "parts of the aggregate.\n",
      "\n",
      "  6. Conveying Non-Source Forms.\n",
      "\n",
      "  You may convey a covered work in object code form under the terms\n",
      "of sections 4 and 5, provided that you also convey the\n",
      "machine-readable Corresponding Source under the terms of this License,\n",
      "in one of these ways:\n",
      "\n",
      "    a) Convey the object code in, or embodied in, a physical product\n",
      "    (including a physical distribution medium), accompanied by the\n",
      "    Corresponding Source fixed on a durable physical medium\n",
      "    customarily used for software interchange.\n",
      "\n",
      "    b) Convey the object code in, or embodied in, a physical product\n",
      "    (including a physical distribution medium), accompanied by a\n",
      "    written offer, valid for at least three years and valid for as\n",
      "    long as you offer spare parts or customer support for that product\n",
      "    model, to give anyone who possesses the object code either (1) a\n",
      "    copy of the Corresponding Source for all the software in the\n",
      "    product that is covered by this License, on a durable physical\n",
      "    medium customarily used for software interchange, for a price no\n",
      "    more than your reasonable cost of physically performing this\n",
      "    conveying of source, or (2) access to copy the\n",
      "    Corresponding Source from a network server at no charge.\n",
      "\n",
      "    c) Convey individual copies of the object code with a copy of the\n",
      "    written offer to provide the Corresponding Source.  This\n",
      "    alternative is allowed only occasionally and noncommercially, and\n",
      "    only if you received the object code with such an offer, in accord\n",
      "    with subsection 6b.\n",
      "\n",
      "    d) Convey the object code by offering access from a designated\n",
      "    place (gratis or for a charge), and offer equivalent access to the\n",
      "    Corresponding Source in the same way through the same place at no\n",
      "    further charge.  You need not require recipients to copy the\n",
      "    Corresponding Source along with the object code.  If the place to\n",
      "    copy the object code is a network server, the Corresponding Source\n",
      "    may be on a different server (operated by you or a third party)\n",
      "    that supports equivalent copying facilities, provided you maintain\n",
      "    clear directions next to the object code saying where to find the\n",
      "    Corresponding Source.  Regardless of what server hosts the\n",
      "    Corresponding Source, you remain obligated to ensure that it is\n",
      "    available for as long as needed to satisfy these requirements.\n",
      "\n",
      "    e) Convey the object code using peer-to-peer transmission, provided\n",
      "    you inform other peers where the object code and Corresponding\n",
      "    Source of the work are being offered to the general public at no\n",
      "    charge under subsection 6d.\n",
      "\n",
      "  A separable portion of the object code, whose source code is excluded\n",
      "from the Corresponding Source as a System Library, need not be\n",
      "included in conveying the object code work.\n",
      "\n",
      "  A \"User Product\" is either (1) a \"consumer product\", which means any\n",
      "tangible personal property which is normally used for personal, family,\n",
      "or household purposes, or (2) anything designed or sold for incorporation\n",
      "into a dwelling.  In determining whether a product is a consumer product,\n",
      "doubtful cases shall be resolved in favor of coverage.  For a particular\n",
      "product received by a particular user, \"normally used\" refers to a\n",
      "typical or common use of that class of product, regardless of the status\n",
      "of the particular user or of the way in which the particular user\n",
      "actually uses, or expects or is expected to use, the product.  A product\n",
      "is a consumer product regardless of whether the product has substantial\n",
      "commercial, industrial or non-consumer uses, unless such uses represent\n",
      "the only significant mode of use of the product.\n",
      "\n",
      "  \"Installation Information\" for a User Product means any methods,\n",
      "procedures, authorization keys, or other information required to install\n",
      "and execute modified versions of a covered work in that User Product from\n",
      "a modified version of its Corresponding Source.  The information must\n",
      "suffice to ensure that the continued functioning of the modified object\n",
      "code is in no case prevented or interfered with solely because\n",
      "modification has been made.\n",
      "\n",
      "  If you convey an object code work under this section in, or with, or\n",
      "specifically for use in, a User Product, and the conveying occurs as\n",
      "part of a transaction in which the right of possession and use of the\n",
      "User Product is transferred to the recipient in perpetuity or for a\n",
      "fixed term (regardless of how the transaction is characterized), the\n",
      "Corresponding Source conveyed under this section must be accompanied\n",
      "by the Installation Information.  But this requirement does not apply\n",
      "if neither you nor any third party retains the ability to install\n",
      "modified object code on the User Product (for example, the work has\n",
      "been installed in ROM).\n",
      "\n",
      "  The requirement to provide Installation Information does not include a\n",
      "requirement to continue to provide support service, warranty, or updates\n",
      "for a work that has been modified or installed by the recipient, or for\n",
      "the User Product in which it has been modified or installed.  Access to a\n",
      "network may be denied when the modification itself materially and\n",
      "adversely affects the operation of the network or violates the rules and\n",
      "protocols for communication across the network.\n",
      "\n",
      "  Corresponding Source conveyed, and Installation Information provided,\n",
      "in accord with this section must be in a format that is publicly\n",
      "documented (and with an implementation available to the public in\n",
      "source code form), and must require no special password or key for\n",
      "unpacking, reading or copying.\n",
      "\n",
      "  7. Additional Terms.\n",
      "\n",
      "  \"Additional permissions\" are terms that supplement the terms of this\n",
      "License by making exceptions from one or more of its conditions.\n",
      "Additional permissions that are applicable to the entire Program shall\n",
      "be treated as though they were included in this License, to the extent\n",
      "that they are valid under applicable law.  If additional permissions\n",
      "apply only to part of the Program, that part may be used separately\n",
      "under those permissions, but the entire Program remains governed by\n",
      "this License without regard to the additional permissions.\n",
      "\n",
      "  When you convey a copy of a covered work, you may at your option\n",
      "remove any additional permissions from that copy, or from any part of\n",
      "it.  (Additional permissions may be written to require their own\n",
      "removal in certain cases when you modify the work.)  You may place\n",
      "additional permissions on material, added by you to a covered work,\n",
      "for which you have or can give appropriate copyright permission.\n",
      "\n",
      "  Notwithstanding any other provision of this License, for material you\n",
      "add to a covered work, you may (if authorized by the copyright holders of\n",
      "that material) supplement the terms of this License with terms:\n",
      "\n",
      "    a) Disclaiming warranty or limiting liability differently from the\n",
      "    terms of sections 15 and 16 of this License; or\n",
      "\n",
      "    b) Requiring preservation of specified reasonable legal notices or\n",
      "    author attributions in that material or in the Appropriate Legal\n",
      "    Notices displayed by works containing it; or\n",
      "\n",
      "    c) Prohibiting misrepresentation of the origin of that material, or\n",
      "    requiring that modified versions of such material be marked in\n",
      "    reasonable ways as different from the original version; or\n",
      "\n",
      "    d) Limiting the use for publicity purposes of names of licensors or\n",
      "    authors of the material; or\n",
      "\n",
      "    e) Declining to grant rights under trademark law for use of some\n",
      "    trade names, trademarks, or service marks; or\n",
      "\n",
      "    f) Requiring indemnification of licensors and authors of that\n",
      "    material by anyone who conveys the material (or modified versions of\n",
      "    it) with contractual assumptions of liability to the recipient, for\n",
      "    any liability that these contractual assumptions directly impose on\n",
      "    those licensors and authors.\n",
      "\n",
      "  All other non-permissive additional terms are considered \"further\n",
      "restrictions\" within the meaning of section 10.  If the Program as you\n",
      "received it, or any part of it, contains a notice stating that it is\n",
      "governed by this License along with a term that is a further\n",
      "restriction, you may remove that term.  If a license document contains\n",
      "a further restriction but permits relicensing or conveying under this\n",
      "License, you may add to a covered work material governed by the terms\n",
      "of that license document, provided that the further restriction does\n",
      "not survive such relicensing or conveying.\n",
      "\n",
      "  If you add terms to a covered work in accord with this section, you\n",
      "must place, in the relevant source files, a statement of the\n",
      "additional terms that apply to those files, or a notice indicating\n",
      "where to find the applicable terms.\n",
      "\n",
      "  Additional terms, permissive or non-permissive, may be stated in the\n",
      "form of a separately written license, or stated as exceptions;\n",
      "the above requirements apply either way.\n",
      "\n",
      "  8. Termination.\n",
      "\n",
      "  You may not propagate or modify a covered work except as expressly\n",
      "provided under this License.  Any attempt otherwise to propagate or\n",
      "modify it is void, and will automatically terminate your rights under\n",
      "this License (including any patent licenses granted under the third\n",
      "paragraph of section 11).\n",
      "\n",
      "  However, if you cease all violation of this License, then your\n",
      "license from a particular copyright holder is reinstated (a)\n",
      "provisionally, unless and until the copyright holder explicitly and\n",
      "finally terminates your license, and (b) permanently, if the copyright\n",
      "holder fails to notify you of the violation by some reasonable means\n",
      "prior to 60 days after the cessation.\n",
      "\n",
      "  Moreover, your license from a particular copyright holder is\n",
      "reinstated permanently if the copyright holder notifies you of the\n",
      "violation by some reasonable means, this is the first time you have\n",
      "received notice of violation of this License (for any work) from that\n",
      "copyright holder, and you cure the violation prior to 30 days after\n",
      "your receipt of the notice.\n",
      "\n",
      "  Termination of your rights under this section does not terminate the\n",
      "licenses of parties who have received copies or rights from you under\n",
      "this License.  If your rights have been terminated and not permanently\n",
      "reinstated, you do not qualify to receive new licenses for the same\n",
      "material under section 10.\n",
      "\n",
      "  9. Acceptance Not Required for Having Copies.\n",
      "\n",
      "  You are not required to accept this License in order to receive or\n",
      "run a copy of the Program.  Ancillary propagation of a covered work\n",
      "occurring solely as a consequence of using peer-to-peer transmission\n",
      "to receive a copy likewise does not require acceptance.  However,\n",
      "nothing other than this License grants you permission to propagate or\n",
      "modify any covered work.  These actions infringe copyright if you do\n",
      "not accept this License.  Therefore, by modifying or propagating a\n",
      "covered work, you indicate your acceptance of this License to do so.\n",
      "\n",
      "  10. Automatic Licensing of Downstream Recipients.\n",
      "\n",
      "  Each time you convey a covered work, the recipient automatically\n",
      "receives a license from the original licensors, to run, modify and\n",
      "propagate that work, subject to this License.  You are not responsible\n",
      "for enforcing compliance by third parties with this License.\n",
      "\n",
      "  An \"entity transaction\" is a transaction transferring control of an\n",
      "organization, or substantially all assets of one, or subdividing an\n",
      "organization, or merging organizations.  If propagation of a covered\n",
      "work results from an entity transaction, each party to that\n",
      "transaction who receives a copy of the work also receives whatever\n",
      "licenses to the work the party's predecessor in interest had or could\n",
      "give under the previous paragraph, plus a right to possession of the\n",
      "Corresponding Source of the work from the predecessor in interest, if\n",
      "the predecessor has it or can get it with reasonable efforts.\n",
      "\n",
      "  You may not impose any further restrictions on the exercise of the\n",
      "rights granted or affirmed under this License.  For example, you may\n",
      "not impose a license fee, royalty, or other charge for exercise of\n",
      "rights granted under this License, and you may not initiate litigation\n",
      "(including a cross-claim or counterclaim in a lawsuit) alleging that\n",
      "any patent claim is infringed by making, using, selling, offering for\n",
      "sale, or importing the Program or any portion of it.\n",
      "\n",
      "  11. Patents.\n",
      "\n",
      "  A \"contributor\" is a copyright holder who authorizes use under this\n",
      "License of the Program or a work on which the Program is based.  The\n",
      "work thus licensed is called the contributor's \"contributor version\".\n",
      "\n",
      "  A contributor's \"essential patent claims\" are all patent claims\n",
      "owned or controlled by the contributor, whether already acquired or\n",
      "hereafter acquired, that would be infringed by some manner, permitted\n",
      "by this License, of making, using, or selling its contributor version,\n",
      "but do not include claims that would be infringed only as a\n",
      "consequence of further modification of the contributor version.  For\n",
      "purposes of this definition, \"control\" includes the right to grant\n",
      "patent sublicenses in a manner consistent with the requirements of\n",
      "this License.\n",
      "\n",
      "  Each contributor grants you a non-exclusive, worldwide, royalty-free\n",
      "patent license under the contributor's essential patent claims, to\n",
      "make, use, sell, offer for sale, import and otherwise run, modify and\n",
      "propagate the contents of its contributor version.\n",
      "\n",
      "  In the following three paragraphs, a \"patent license\" is any express\n",
      "agreement or commitment, however denominated, not to enforce a patent\n",
      "(such as an express permission to practice a patent or covenant not to\n",
      "sue for patent infringement).  To \"grant\" such a patent license to a\n",
      "party means to make such an agreement or commitment not to enforce a\n",
      "patent against the party.\n",
      "\n",
      "  If you convey a covered work, knowingly relying on a patent license,\n",
      "and the Corresponding Source of the work is not available for anyone\n",
      "to copy, free of charge and under the terms of this License, through a\n",
      "publicly available network server or other readily accessible means,\n",
      "then you must either (1) cause the Corresponding Source to be so\n",
      "available, or (2) arrange to deprive yourself of the benefit of the\n",
      "patent license for this particular work, or (3) arrange, in a manner\n",
      "consistent with the requirements of this License, to extend the patent\n",
      "license to downstream recipients.  \"Knowingly relying\" means you have\n",
      "actual knowledge that, but for the patent license, your conveying the\n",
      "covered work in a country, or your recipient's use of the covered work\n",
      "in a country, would infringe one or more identifiable patents in that\n",
      "country that you have reason to believe are valid.\n",
      "\n",
      "  If, pursuant to or in connection with a single transaction or\n",
      "arrangement, you convey, or propagate by procuring conveyance of, a\n",
      "covered work, and grant a patent license to some of the parties\n",
      "receiving the covered work authorizing them to use, propagate, modify\n",
      "or convey a specific copy of the covered work, then the patent license\n",
      "you grant is automatically extended to all recipients of the covered\n",
      "work and works based on it.\n",
      "\n",
      "  A patent license is \"discriminatory\" if it does not include within\n",
      "the scope of its coverage, prohibits the exercise of, or is\n",
      "conditioned on the non-exercise of one or more of the rights that are\n",
      "specifically granted under this License.  You may not convey a covered\n",
      "work if you are a party to an arrangement with a third party that is\n",
      "in the business of distributing software, under which you make payment\n",
      "to the third party based on the extent of your activity of conveying\n",
      "the work, and under which the third party grants, to any of the\n",
      "parties who would receive the covered work from you, a discriminatory\n",
      "patent license (a) in connection with copies of the covered work\n",
      "conveyed by you (or copies made from those copies), or (b) primarily\n",
      "for and in connection with specific products or compilations that\n",
      "contain the covered work, unless you entered into that arrangement,\n",
      "or that patent license was granted, prior to 28 March 2007.\n",
      "\n",
      "  Nothing in this License shall be construed as excluding or limiting\n",
      "any implied license or other defenses to infringement that may\n",
      "otherwise be available to you under applicable patent law.\n",
      "\n",
      "  12. No Surrender of Others' Freedom.\n",
      "\n",
      "  If conditions are imposed on you (whether by court order, agreement or\n",
      "otherwise) that contradict the conditions of this License, they do not\n",
      "excuse you from the conditions of this License.  If you cannot convey a\n",
      "covered work so as to satisfy simultaneously your obligations under this\n",
      "License and any other pertinent obligations, then as a consequence you may\n",
      "not convey it at all.  For example, if you agree to terms that obligate you\n",
      "to collect a royalty for further conveying from those to whom you convey\n",
      "the Program, the only way you could satisfy both those terms and this\n",
      "License would be to refrain entirely from conveying the Program.\n",
      "\n",
      "  13. Use with the GNU Affero General Public License.\n",
      "\n",
      "  Notwithstanding any other provision of this License, you have\n",
      "permission to link or combine any covered work with a work licensed\n",
      "under version 3 of the GNU Affero General Public License into a single\n",
      "combined work, and to convey the resulting work.  The terms of this\n",
      "License will continue to apply to the part which is the covered work,\n",
      "but the special requirements of the GNU Affero General Public License,\n",
      "section 13, concerning interaction through a network will apply to the\n",
      "combination as such.\n",
      "\n",
      "  14. Revised Versions of this License.\n",
      "\n",
      "  The Free Software Foundation may publish revised and/or new versions of\n",
      "the GNU General Public License from time to time.  Such new versions will\n",
      "be similar in spirit to the present version, but may differ in detail to\n",
      "address new problems or concerns.\n",
      "\n",
      "  Each version is given a distinguishing version number.  If the\n",
      "Program specifies that a certain numbered version of the GNU General\n",
      "Public License \"or any later version\" applies to it, you have the\n",
      "option of following the terms and conditions either of that numbered\n",
      "version or of any later version published by the Free Software\n",
      "Foundation.  If the Program does not specify a version number of the\n",
      "GNU General Public License, you may choose any version ever published\n",
      "by the Free Software Foundation.\n",
      "\n",
      "  If the Program specifies that a proxy can decide which future\n",
      "versions of the GNU General Public License can be used, that proxy's\n",
      "public statement of acceptance of a version permanently authorizes you\n",
      "to choose that version for the Program.\n",
      "\n",
      "  Later license versions may give you additional or different\n",
      "permissions.  However, no additional obligations are imposed on any\n",
      "author or copyright holder as a result of your choosing to follow a\n",
      "later version.\n",
      "\n",
      "  15. Disclaimer of Warranty.\n",
      "\n",
      "  THERE IS NO WARRANTY FOR THE PROGRAM, TO THE EXTENT PERMITTED BY\n",
      "APPLICABLE LAW.  EXCEPT WHEN OTHERWISE STATED IN WRITING THE COPYRIGHT\n",
      "HOLDERS AND/OR OTHER PARTIES PROVIDE THE PROGRAM \"AS IS\" WITHOUT WARRANTY\n",
      "OF ANY KIND, EITHER EXPRESSED OR IMPLIED, INCLUDING, BUT NOT LIMITED TO,\n",
      "THE IMPLIED WARRANTIES OF MERCHANTABILITY AND FITNESS FOR A PARTICULAR\n",
      "PURPOSE.  THE ENTIRE RISK AS TO THE QUALITY AND PERFORMANCE OF THE PROGRAM\n",
      "IS WITH YOU.  SHOULD THE PROGRAM PROVE DEFECTIVE, YOU ASSUME THE COST OF\n",
      "ALL NECESSARY SERVICING, REPAIR OR CORRECTION.\n",
      "\n",
      "  16. Limitation of Liability.\n",
      "\n",
      "  IN NO EVENT UNLESS REQUIRED BY APPLICABLE LAW OR AGREED TO IN WRITING\n",
      "WILL ANY COPYRIGHT HOLDER, OR ANY OTHER PARTY WHO MODIFIES AND/OR CONVEYS\n",
      "THE PROGRAM AS PERMITTED ABOVE, BE LIABLE TO YOU FOR DAMAGES, INCLUDING ANY\n",
      "GENERAL, SPECIAL, INCIDENTAL OR CONSEQUENTIAL DAMAGES ARISING OUT OF THE\n",
      "USE OR INABILITY TO USE THE PROGRAM (INCLUDING BUT NOT LIMITED TO LOSS OF\n",
      "DATA OR DATA BEING RENDERED INACCURATE OR LOSSES SUSTAINED BY YOU OR THIRD\n",
      "PARTIES OR A FAILURE OF THE PROGRAM TO OPERATE WITH ANY OTHER PROGRAMS),\n",
      "EVEN IF SUCH HOLDER OR OTHER PARTY HAS BEEN ADVISED OF THE POSSIBILITY OF\n",
      "SUCH DAMAGES.\n",
      "\n",
      "  17. Interpretation of Sections 15 and 16.\n",
      "\n",
      "  If the disclaimer of warranty and limitation of liability provided\n",
      "above cannot be given local legal effect according to their terms,\n",
      "reviewing courts shall apply local law that most closely approximates\n",
      "an absolute waiver of all civil liability in connection with the\n",
      "Program, unless a warranty or assumption of liability accompanies a\n",
      "copy of the Program in return for a fee.\n",
      "\n",
      "                     END OF TERMS AND CONDITIONS\n",
      "\n",
      "            How to Apply These Terms to Your New Programs\n",
      "\n",
      "  If you develop a new program, and you want it to be of the greatest\n",
      "possible use to the public, the best way to achieve this is to make it\n",
      "free software which everyone can redistribute and change under these terms.\n",
      "\n",
      "  To do so, attach the following notices to the program.  It is safest\n",
      "to attach them to the start of each source file to most effectively\n",
      "state the exclusion of warranty; and each file should have at least\n",
      "the \"copyright\" line and a pointer to where the full notice is found.\n",
      "\n",
      "    <one line to give the program's name and a brief idea of what it does.>\n",
      "    Copyright (C) <year>  <name of author>\n",
      "\n",
      "    This program is free software: you can redistribute it and/or modify\n",
      "    it under the terms of the GNU General Public License as published by\n",
      "    the Free Software Foundation, either version 3 of the License, or\n",
      "    (at your option) any later version.\n",
      "\n",
      "    This program is distributed in the hope that it will be useful,\n",
      "    but WITHOUT ANY WARRANTY; without even the implied warranty of\n",
      "    MERCHANTABILITY or FITNESS FOR A PARTICULAR PURPOSE.  See the\n",
      "    GNU General Public License for more details.\n",
      "\n",
      "    You should have received a copy of the GNU General Public License\n",
      "    along with this program.  If not, see <http://www.gnu.org/licenses/>.\n",
      "\n",
      "Also add information on how to contact you by electronic and paper mail.\n",
      "\n",
      "  If the program does terminal interaction, make it output a short\n",
      "notice like this when it starts in an interactive mode:\n",
      "\n",
      "    <program>  Copyright (C) <year>  <name of author>\n",
      "    This program comes with ABSOLUTELY NO WARRANTY; for details type `show w'.\n",
      "    This is free software, and you are welcome to redistribute it\n",
      "    under certain conditions; type `show c' for details.\n",
      "\n",
      "The hypothetical commands `show w' and `show c' should show the appropriate\n",
      "parts of the General Public License.  Of course, your program's commands\n",
      "might be different; for a GUI interface, you would use an \"about box\".\n",
      "\n",
      "  You should also get your employer (if you work as a programmer) or school,\n",
      "if any, to sign a \"copyright disclaimer\" for the program, if necessary.\n",
      "For more information on this, and how to apply and follow the GNU GPL, see\n",
      "<http://www.gnu.org/licenses/>.\n",
      "\n",
      "  The GNU General Public License does not permit incorporating your program\n",
      "into proprietary programs.  If your program is a subroutine library, you\n",
      "may consider it more useful to permit linking proprietary applications with\n",
      "the library.  If this is what you want to do, use the GNU Lesser General\n",
      "Public License instead of this License.  But first, please read\n",
      "<http://www.gnu.org/philosophy/why-not-lgpl.html>.\n",
      "Location: c:\\Users\\Admin\\AppData\\Local\\Programs\\Python\\Python313\\Lib\\site-packages\n",
      "Requires: \n",
      "Required-by: contourpy, imbalanced-learn, kneed, matplotlib, mlxtend, opencv-python, pandas, patsy, pgmpy, pydeck, pyro-ppl, scikit-learn, scipy, seaborn, statsmodels, streamlit, sweetviz, wittgenstein, xgboost\n",
      "Note: you may need to restart the kernel to use updated packages.\n"
     ]
    }
   ],
   "source": [
    "pip show numpy"
   ]
  },
  {
   "cell_type": "code",
   "execution_count": 6,
   "metadata": {},
   "outputs": [],
   "source": [
    "#To import NumPy in your Python script or notebook:\n",
    "import numpy as np"
   ]
  },
  {
   "cell_type": "markdown",
   "metadata": {},
   "source": [
    "<h3><b>NumPy arange vs linspace</b></h3>\n",
    "\n",
    "<table>\n",
    "    <tr>\n",
    "      <th>Feature</th>\n",
    "      <th><code>np.arange</code></th>\n",
    "      <th><code>np.linspace</code></th>\n",
    "    </tr>\n",
    "    <tr>\n",
    "      <td>Syntax</td>\n",
    "      <td><code>numpy.arange([start, ]stop, [step, ]dtype=None)</code></td>\n",
    "      <td><code>numpy.linspace(start, stop, num=50, endpoint=True, retstep=False, dtype=None)</code></td>\n",
    "    </tr>\n",
    "    <tr>\n",
    "      <td>Start Value</td>\n",
    "      <td>Specifies the starting value of the sequence.</td>\n",
    "      <td>Specifies the starting value of the sequence.</td>\n",
    "    </tr>\n",
    "    <tr>\n",
    "      <td>Stop Value</td>\n",
    "      <td>Specifies the end value, and the sequence will stop before reaching it.</td>\n",
    "      <td>Specifies the end value, and the sequence may include it depending on <code>endpoint</code>.</td>\n",
    "    </tr>\n",
    "    <tr>\n",
    "      <td>Spacing</td>\n",
    "      <td>Specifies the spacing between values.</td>\n",
    "      <td>Specifies the number of evenly spaced samples to generate.</td>\n",
    "    </tr>\n",
    "    <tr>\n",
    "      <td>Endpoint</td>\n",
    "      <td>By default, the <code>stop</code> value is not included in the array.</td>\n",
    "      <td>Determines whether the <code>stop</code> value is included in the array.</td>\n",
    "    </tr>\n",
    "    <tr>\n",
    "      <td>Number of Samples (<code>num</code>)</td>\n",
    "      <td>Not applicable.</td>\n",
    "      <td>Specifies the number of evenly spaced samples to generate.</td>\n",
    "    </tr>\n",
    "    <tr>\n",
    "      <td>Return Step Size (<code>retstep</code>)</td>\n",
    "      <td>Not applicable.</td>\n",
    "      <td>If <code>True</code>, returns the step size between values.</td>\n",
    "    </tr>\n",
    "    <tr>\n",
    "      <td>Data Type (<code>dtype</code>)</td>\n",
    "      <td>Sets the data type of the output array.</td>\n",
    "      <td>Sets the data type of the output array.</td>\n",
    "    </tr>\n",
    "  </table>"
   ]
  },
  {
   "cell_type": "code",
   "execution_count": 7,
   "metadata": {},
   "outputs": [
    {
     "data": {
      "text/plain": [
       "array([0, 3, 6, 9])"
      ]
     },
     "execution_count": 7,
     "metadata": {},
     "output_type": "execute_result"
    }
   ],
   "source": [
    "arr1 = np.arange(0, 10, 3, dtype='int') \n",
    "arr1"
   ]
  },
  {
   "cell_type": "code",
   "execution_count": 8,
   "metadata": {},
   "outputs": [
    {
     "data": {
      "text/plain": [
       "array([0, 2, 5, 7])"
      ]
     },
     "execution_count": 8,
     "metadata": {},
     "output_type": "execute_result"
    }
   ],
   "source": [
    "arr2 = np.linspace(0, 10, num=4, dtype='int', endpoint=False)  # Creates array: [ 0.,  2.5,  5.,  7.5, 10.]\n",
    "arr2"
   ]
  },
  {
   "cell_type": "code",
   "execution_count": 9,
   "metadata": {},
   "outputs": [
    {
     "data": {
      "text/plain": [
       "array([ 0,  2,  4,  6,  8, 10, 12, 14, 16, 18])"
      ]
     },
     "execution_count": 9,
     "metadata": {},
     "output_type": "execute_result"
    }
   ],
   "source": [
    "a = np.linspace(0,20, 10, endpoint=False, dtype='int')\n",
    "a"
   ]
  },
  {
   "cell_type": "markdown",
   "metadata": {},
   "source": [
    "### **Types of the Numpy Array**"
   ]
  },
  {
   "cell_type": "markdown",
   "metadata": {},
   "source": [
    "#### **Numpy 1D Array**\n",
    "##### **NumPy – Create 1D Array**\n",
    "\n",
    "- One dimensional array contains elements only in one dimension. In other words, the shape of the numpy array should contain only one value in the tuple.\n",
    "- To create a one dimensional array in numpy, you can use either of the numpy.array(), numpy.arange(), or numpy.linspace() functions based on the choice of initialisation.\n",
    "\n",
    "**Create 1D NumPy Array using array() function**\n",
    "\n",
    "- Numpy array() functions takes a list of elements as argument and returns a one-dimensional array.\n",
    "- In this example, we will import numpy library and use array() function to crate a one dimensional numpy array."
   ]
  },
  {
   "cell_type": "code",
   "execution_count": 10,
   "metadata": {},
   "outputs": [
    {
     "name": "stdout",
     "output_type": "stream",
     "text": [
      "[ 5  8 12]\n"
     ]
    }
   ],
   "source": [
    "arr3 = np.array([5, 8, 12])\n",
    "print(arr3)"
   ]
  },
  {
   "cell_type": "code",
   "execution_count": 11,
   "metadata": {},
   "outputs": [
    {
     "data": {
      "text/plain": [
       "(3,)"
      ]
     },
     "execution_count": 11,
     "metadata": {},
     "output_type": "execute_result"
    }
   ],
   "source": [
    "arr3.shape"
   ]
  },
  {
   "cell_type": "markdown",
   "metadata": {},
   "source": [
    "**Create 1D NumPy Array using arange() function**\n",
    "\n",
    "- NumPy arange() function takes start, end of a range and the interval as arguments and returns a one-dimensional array.\n",
    "- `[start, start+interval, start+2*interval, ... ]`\n",
    "- In this example, we will import numpy library and use arange() function to crate a one dimensional numpy array."
   ]
  },
  {
   "cell_type": "code",
   "execution_count": 12,
   "metadata": {},
   "outputs": [
    {
     "name": "stdout",
     "output_type": "stream",
     "text": [
      "[ 5  7  9 11 13]\n"
     ]
    }
   ],
   "source": [
    "arr4 = np.arange(5, 14, 2)\n",
    "\n",
    "print(arr4)"
   ]
  },
  {
   "cell_type": "markdown",
   "metadata": {},
   "source": [
    "##### **NumPy 2D Array**\n",
    "\n",
    "To create a 2D (2 dimensional) array in Python using NumPy library, we can use any of the following methods.\n",
    "\n",
    "- `numpy.array()` – Creates array from given values.\n",
    "- `numpy.zeros()` – Creates array of zeros.\n",
    "- `numpy.ones()` – Creates array of ones.\n",
    "- `numpy.empty()` – Creates an empty array.\n",
    "\n",
    "**Create 2D Array using `numpy.array()`**"
   ]
  },
  {
   "cell_type": "code",
   "execution_count": 194,
   "metadata": {},
   "outputs": [
    {
     "name": "stdout",
     "output_type": "stream",
     "text": [
      "[[ 1  2  3  4]\n",
      " [ 5  6  7  8]\n",
      " [ 9 10 11 12]]\n"
     ]
    }
   ],
   "source": [
    "# create a 2D array with shape (3, 4)\n",
    "arr5 = np.array([[1, 2, 3, 4], [5, 6, 7, 8], [9, 10, 11, 12]])\n",
    "print(arr5)"
   ]
  },
  {
   "cell_type": "code",
   "execution_count": 14,
   "metadata": {},
   "outputs": [
    {
     "data": {
      "text/plain": [
       "(3, 4)"
      ]
     },
     "execution_count": 14,
     "metadata": {},
     "output_type": "execute_result"
    }
   ],
   "source": [
    "arr5.shape"
   ]
  },
  {
   "cell_type": "markdown",
   "metadata": {},
   "source": [
    "**Create 2D Array using numpy.zeros()**\n",
    "\n",
    "- Pass shape of the required 2D array, as a tuple, as argument to `numpy.zeros()` function. The function returns a numpy array with specified shape, and all elements in the array initialised to zeros."
   ]
  },
  {
   "cell_type": "code",
   "execution_count": 15,
   "metadata": {},
   "outputs": [
    {
     "name": "stdout",
     "output_type": "stream",
     "text": [
      "[[0. 0. 0. 0.]\n",
      " [0. 0. 0. 0.]\n",
      " [0. 0. 0. 0.]]\n"
     ]
    }
   ],
   "source": [
    "# create a 2D array with shape (3, 4)\n",
    "arr6 = np.zeros((3,4), dtype=float)\n",
    "print(arr6)"
   ]
  },
  {
   "cell_type": "code",
   "execution_count": 16,
   "metadata": {},
   "outputs": [
    {
     "name": "stdout",
     "output_type": "stream",
     "text": [
      "[[1 1 1 1]\n",
      " [1 1 1 1]\n",
      " [1 1 1 1]]\n"
     ]
    }
   ],
   "source": [
    "# create a 2D array with shape (3, 4)\n",
    "shape = (3, 4)\n",
    "arr7 = np.ones(shape, dtype='int')\n",
    "print(arr7)"
   ]
  },
  {
   "cell_type": "code",
   "execution_count": 17,
   "metadata": {},
   "outputs": [
    {
     "name": "stdout",
     "output_type": "stream",
     "text": [
      "[[      2939742534936                  50                   0\n",
      "                    0]\n",
      " [  29555310641283072 7146768841584043371 3257569520544657716\n",
      "  4063148658377777765]\n",
      " [3975888164340968803 3990863481760080694 8386112019186069602\n",
      "  3544951258285634421]]\n"
     ]
    }
   ],
   "source": [
    "# create a 2D array with shape (3, 4)\n",
    "arr8 = np.empty((3,4), dtype=int)\n",
    "print(arr8)"
   ]
  },
  {
   "cell_type": "markdown",
   "metadata": {},
   "source": [
    "#### **Numpy 3D Array**\n",
    "\n",
    "To create a 3D (3 dimensional) array in Python using NumPy library, we can use any of the following methods.\n",
    "\n",
    "- `numpy.array()` – Creates array from given values.\n",
    "- `numpy.zeros()` – Creates array of zeros.\n",
    "- `numpy.ones()` – Creates array of ones.\n",
    "- `numpy.empty()` – Creates an empty array.\n",
    "\n",
    "**Create 3D Array using `numpy.array()`**\n",
    "\n",
    "- Pass a nested list (list of lists of lists) to numpy.array() function.\n",
    "- In the following program, we create a numpy 3D array of shape (2, 3, 4)."
   ]
  },
  {
   "cell_type": "code",
   "execution_count": 18,
   "metadata": {},
   "outputs": [
    {
     "name": "stdout",
     "output_type": "stream",
     "text": [
      "[[[ 1  2  3  4]\n",
      "  [ 5  6  7  8]\n",
      "  [ 9 10 11 12]]\n",
      "\n",
      " [[13 14 15 16]\n",
      "  [17 18 19 20]\n",
      "  [21 22 23 24]]]\n"
     ]
    }
   ],
   "source": [
    "# create a 3D array with shape (2, 3, 4)\n",
    "nested_list = [[[1, 2, 3, 4], [5, 6, 7, 8], [9, 10, 11, 12]],\n",
    "\n",
    "[[13, 14, 15, 16], [17, 18, 19, 20], [21, 22, 23, 24]]]\n",
    "\n",
    "arr9 = np.array(nested_list)\n",
    "\n",
    "print(arr9)"
   ]
  },
  {
   "cell_type": "code",
   "execution_count": 19,
   "metadata": {},
   "outputs": [
    {
     "data": {
      "text/plain": [
       "(2, 3, 4)"
      ]
     },
     "execution_count": 19,
     "metadata": {},
     "output_type": "execute_result"
    }
   ],
   "source": [
    "arr9.shape"
   ]
  },
  {
   "cell_type": "code",
   "execution_count": 20,
   "metadata": {},
   "outputs": [
    {
     "name": "stdout",
     "output_type": "stream",
     "text": [
      "[[[0 0 0 0]\n",
      "  [0 0 0 0]\n",
      "  [0 0 0 0]]\n",
      "\n",
      " [[0 0 0 0]\n",
      "  [0 0 0 0]\n",
      "  [0 0 0 0]]]\n"
     ]
    }
   ],
   "source": [
    "# create a 3D array with shape (2, 3, 4)\n",
    "shape = (2, 3, 4)\n",
    "\n",
    "arr11 = np.zeros(shape, dtype='int')\n",
    "\n",
    "print(arr11)"
   ]
  },
  {
   "cell_type": "code",
   "execution_count": 21,
   "metadata": {},
   "outputs": [
    {
     "name": "stdout",
     "output_type": "stream",
     "text": [
      "[[[1 1 1 1]\n",
      "  [1 1 1 1]]\n",
      "\n",
      " [[1 1 1 1]\n",
      "  [1 1 1 1]]\n",
      "\n",
      " [[1 1 1 1]\n",
      "  [1 1 1 1]]]\n"
     ]
    }
   ],
   "source": [
    "# create a 3D array with shape (2, 3, 4)\n",
    "shape = (3, 2, 4)\n",
    "\n",
    "arr12 = np.ones(shape, dtype='int')\n",
    "\n",
    "print(arr12)"
   ]
  },
  {
   "cell_type": "code",
   "execution_count": 22,
   "metadata": {},
   "outputs": [
    {
     "name": "stdout",
     "output_type": "stream",
     "text": [
      "[[[25895968444448860 23925768161198147 32370111954616435\n",
      "   30681201962451036]\n",
      "  [12948244072890473 32651616996819049 25896170311057512\n",
      "   28710924373327984]]\n",
      "\n",
      " [[26740556586287209 27303510834217060 25896196080664693\n",
      "   32651591226556520]\n",
      "  [12948368627204207 29555336418492531 29836540811477108\n",
      "   30962737072111727]]]\n"
     ]
    }
   ],
   "source": [
    "# create a 3D array with shape (2, 3, 4)\n",
    "shape = (2, 2, 4)\n",
    "\n",
    "arr13 = np.empty(shape, dtype='int')\n",
    "\n",
    "print(arr13)"
   ]
  },
  {
   "cell_type": "markdown",
   "metadata": {},
   "source": [
    "### **numpy.random module:**\n",
    "- This module provides a suite of functions for generating random numbers.\n",
    "\n",
    "#### **numpy.random.rand:**\n",
    "- This function generates random numbers from a uniform distribution over [0, 1]. It takes dimensions as input and returns an array of the specified shape."
   ]
  },
  {
   "cell_type": "code",
   "execution_count": 23,
   "metadata": {},
   "outputs": [
    {
     "data": {
      "text/plain": [
       "array([[0.41371236, 0.67211894, 0.29177303],\n",
       "       [0.69231484, 0.56554084, 0.50765447],\n",
       "       [0.06018599, 0.2490662 , 0.49719274]])"
      ]
     },
     "execution_count": 23,
     "metadata": {},
     "output_type": "execute_result"
    }
   ],
   "source": [
    "random_numbers = np.random.rand(3,3)  # Generates a 2x3 array of random numbers between 0 and 1\n",
    "random_numbers"
   ]
  },
  {
   "cell_type": "markdown",
   "metadata": {},
   "source": [
    "#### **numpy.random.randn:**\n",
    "- This function generates random numbers from a standard normal distribution `(mean=0, standard deviation=1)`. It also takes dimensions as input and returns an array of the specified shape."
   ]
  },
  {
   "cell_type": "code",
   "execution_count": 24,
   "metadata": {},
   "outputs": [
    {
     "data": {
      "text/plain": [
       "array([[-0.45932605, -1.53868435,  0.87570512],\n",
       "       [ 0.24617333, -0.00736535, -0.20847847]])"
      ]
     },
     "execution_count": 24,
     "metadata": {},
     "output_type": "execute_result"
    }
   ],
   "source": [
    "random_numbers = np.random.randn(2, 3)  # Generates a 2x3 array of random numbers from a standard normal distribution\n",
    "random_numbers"
   ]
  },
  {
   "cell_type": "markdown",
   "metadata": {},
   "source": [
    "#### **numpy.random.randint:**\n",
    "- This function generates random integers from a specified low (inclusive) to high (exclusive) range. It can take additional parameters to specify the size and shape of the output array."
   ]
  },
  {
   "cell_type": "code",
   "execution_count": 25,
   "metadata": {},
   "outputs": [
    {
     "data": {
      "text/plain": [
       "array([[ -1,  -7,  -9],\n",
       "       [-10,  -1,   3]], dtype=int32)"
      ]
     },
     "execution_count": 25,
     "metadata": {},
     "output_type": "execute_result"
    }
   ],
   "source": [
    "random_integers = np.random.randint(-10, 10, size=(2, 3))  # Generates a 2x3 array of random integers between 1 (inclusive) and 10 (exclusive)\n",
    "random_integers"
   ]
  },
  {
   "cell_type": "markdown",
   "metadata": {},
   "source": [
    "### **Creating Numpy array**"
   ]
  },
  {
   "cell_type": "code",
   "execution_count": 26,
   "metadata": {},
   "outputs": [
    {
     "data": {
      "text/plain": [
       "array([  2,   4,  56, 422,  32,   1])"
      ]
     },
     "execution_count": 26,
     "metadata": {},
     "output_type": "execute_result"
    }
   ],
   "source": [
    "b = np.array([2,4,56,422,32,1])\n",
    "b"
   ]
  },
  {
   "cell_type": "code",
   "execution_count": 27,
   "metadata": {},
   "outputs": [
    {
     "data": {
      "text/plain": [
       "numpy.ndarray"
      ]
     },
     "execution_count": 27,
     "metadata": {},
     "output_type": "execute_result"
    }
   ],
   "source": [
    "#to find the type\n",
    "type(b)"
   ]
  },
  {
   "cell_type": "code",
   "execution_count": 28,
   "metadata": {},
   "outputs": [
    {
     "data": {
      "text/plain": [
       "array([[1., 0.],\n",
       "       [0., 1.]])"
      ]
     },
     "execution_count": 28,
     "metadata": {},
     "output_type": "execute_result"
    }
   ],
   "source": [
    "i = np.identity(2) #indentity matrix is that diagonal items will be ones and evrything will be zeros\n",
    "i"
   ]
  },
  {
   "cell_type": "code",
   "execution_count": 29,
   "metadata": {},
   "outputs": [
    {
     "name": "stdout",
     "output_type": "stream",
     "text": [
      "[[1 0 0]\n",
      " [0 2 0]\n",
      " [0 0 3]]\n"
     ]
    }
   ],
   "source": [
    "diagonal_matrix = np.diag([1, 2, 3])\n",
    "print(diagonal_matrix)"
   ]
  },
  {
   "cell_type": "code",
   "execution_count": 196,
   "metadata": {},
   "outputs": [
    {
     "data": {
      "text/plain": [
       "array([[1, 0],\n",
       "       [0, 2]])"
      ]
     },
     "execution_count": 196,
     "metadata": {},
     "output_type": "execute_result"
    }
   ],
   "source": [
    "np.diag([1,2])"
   ]
  },
  {
   "cell_type": "code",
   "execution_count": 30,
   "metadata": {},
   "outputs": [
    {
     "name": "stdout",
     "output_type": "stream",
     "text": [
      "[1 2 3] [1 2 3] [1 2 3]\n"
     ]
    }
   ],
   "source": [
    "x = np.array([1,2,3])\n",
    "y = x \n",
    "z = np.copy(x)\n",
    "print(x,y,z)\n"
   ]
  },
  {
   "cell_type": "markdown",
   "metadata": {},
   "source": [
    "#### **Changing the type of the data type**"
   ]
  },
  {
   "cell_type": "code",
   "execution_count": 197,
   "metadata": {},
   "outputs": [
    {
     "data": {
      "text/plain": [
       "array([11., 23., 44.])"
      ]
     },
     "execution_count": 197,
     "metadata": {},
     "output_type": "execute_result"
    }
   ],
   "source": [
    "c = np.array([11,23,44], dtype = float)\n",
    "c"
   ]
  },
  {
   "cell_type": "code",
   "execution_count": 203,
   "metadata": {},
   "outputs": [
    {
     "data": {
      "text/plain": [
       "array([11, 23, 44])"
      ]
     },
     "execution_count": 203,
     "metadata": {},
     "output_type": "execute_result"
    }
   ],
   "source": [
    "g = c.astype('int')\n",
    "g"
   ]
  },
  {
   "cell_type": "code",
   "execution_count": 202,
   "metadata": {},
   "outputs": [
    {
     "data": {
      "text/plain": [
       "numpy.int64"
      ]
     },
     "execution_count": 202,
     "metadata": {},
     "output_type": "execute_result"
    }
   ],
   "source": [
    "type(g[0])"
   ]
  },
  {
   "cell_type": "code",
   "execution_count": 33,
   "metadata": {},
   "outputs": [
    {
     "data": {
      "text/plain": [
       "array([ 2,  3,  4,  5,  6,  7,  8, 10])"
      ]
     },
     "execution_count": 33,
     "metadata": {},
     "output_type": "execute_result"
    }
   ],
   "source": [
    "d = np.linspace(2,10,num=8, dtype=float)\n",
    "d.astype(int)"
   ]
  },
  {
   "cell_type": "markdown",
   "metadata": {},
   "source": [
    "#### **Reshape**\n",
    "- Both of number products should be equal to umber of Items present inside the array."
   ]
  },
  {
   "cell_type": "code",
   "execution_count": 204,
   "metadata": {},
   "outputs": [
    {
     "data": {
      "text/plain": [
       "array([ 1,  2,  3,  4,  5,  6,  7,  8,  9, 10])"
      ]
     },
     "execution_count": 204,
     "metadata": {},
     "output_type": "execute_result"
    }
   ],
   "source": [
    "re = np.arange(1,11)\n",
    "re"
   ]
  },
  {
   "cell_type": "code",
   "execution_count": 207,
   "metadata": {},
   "outputs": [
    {
     "data": {
      "text/plain": [
       "array([[ 1,  2],\n",
       "       [ 3,  4],\n",
       "       [ 5,  6],\n",
       "       [ 7,  8],\n",
       "       [ 9, 10]])"
      ]
     },
     "execution_count": 207,
     "metadata": {},
     "output_type": "execute_result"
    }
   ],
   "source": [
    "re.reshape(5,2)"
   ]
  },
  {
   "cell_type": "code",
   "execution_count": 36,
   "metadata": {},
   "outputs": [
    {
     "data": {
      "text/plain": [
       "array([[ 1,  2,  3,  4],\n",
       "       [ 5,  6,  7,  8],\n",
       "       [ 9, 10, 11, 12]])"
      ]
     },
     "execution_count": 36,
     "metadata": {},
     "output_type": "execute_result"
    }
   ],
   "source": [
    "re1 = np.arange(1,13).reshape(3,4)\n",
    "re1"
   ]
  },
  {
   "cell_type": "code",
   "execution_count": 37,
   "metadata": {},
   "outputs": [
    {
     "data": {
      "text/plain": [
       "array([[[0, 1],\n",
       "        [2, 3]],\n",
       "\n",
       "       [[4, 5],\n",
       "        [6, 7]]])"
      ]
     },
     "execution_count": 37,
     "metadata": {},
     "output_type": "execute_result"
    }
   ],
   "source": [
    "re2 = np.arange(0,8).reshape(2,2,2)\n",
    "re2"
   ]
  },
  {
   "cell_type": "markdown",
   "metadata": {},
   "source": [
    "#### **Shape**\n",
    "- gives each item consist of no.of rows and np.of column"
   ]
  },
  {
   "cell_type": "code",
   "execution_count": 208,
   "metadata": {},
   "outputs": [
    {
     "data": {
      "text/plain": [
       "(5, 2)"
      ]
     },
     "execution_count": 208,
     "metadata": {},
     "output_type": "execute_result"
    }
   ],
   "source": [
    "sh = np.arange(1,11).reshape(5,2)\n",
    "sh.shape"
   ]
  },
  {
   "cell_type": "code",
   "execution_count": 209,
   "metadata": {},
   "outputs": [
    {
     "data": {
      "text/plain": [
       "10"
      ]
     },
     "execution_count": 209,
     "metadata": {},
     "output_type": "execute_result"
    }
   ],
   "source": [
    "sh.size"
   ]
  },
  {
   "cell_type": "code",
   "execution_count": 210,
   "metadata": {},
   "outputs": [
    {
     "data": {
      "text/plain": [
       "array([[ 1,  2],\n",
       "       [ 3,  4],\n",
       "       [ 5,  6],\n",
       "       [ 7,  8],\n",
       "       [ 9, 10]])"
      ]
     },
     "execution_count": 210,
     "metadata": {},
     "output_type": "execute_result"
    }
   ],
   "source": [
    "sh"
   ]
  },
  {
   "cell_type": "code",
   "execution_count": 39,
   "metadata": {},
   "outputs": [
    {
     "data": {
      "text/plain": [
       "(10,)"
      ]
     },
     "execution_count": 39,
     "metadata": {},
     "output_type": "execute_result"
    }
   ],
   "source": [
    "sh1 = np.arange(10)\n",
    "sh1.shape"
   ]
  },
  {
   "cell_type": "code",
   "execution_count": 40,
   "metadata": {},
   "outputs": [
    {
     "data": {
      "text/plain": [
       "(2, 2, 2)"
      ]
     },
     "execution_count": 40,
     "metadata": {},
     "output_type": "execute_result"
    }
   ],
   "source": [
    "sh2 = np.arange(8).reshape(2,2,2)\n",
    "sh2.shape"
   ]
  },
  {
   "cell_type": "markdown",
   "metadata": {},
   "source": [
    "#### **Size**\n",
    "- gives number of items"
   ]
  },
  {
   "cell_type": "code",
   "execution_count": 41,
   "metadata": {},
   "outputs": [
    {
     "data": {
      "text/plain": [
       "10"
      ]
     },
     "execution_count": 41,
     "metadata": {},
     "output_type": "execute_result"
    }
   ],
   "source": [
    "si = np.arange(1,11).reshape(5,2)\n",
    "si.size"
   ]
  },
  {
   "cell_type": "code",
   "execution_count": 42,
   "metadata": {},
   "outputs": [
    {
     "data": {
      "text/plain": [
       "5"
      ]
     },
     "execution_count": 42,
     "metadata": {},
     "output_type": "execute_result"
    }
   ],
   "source": [
    "len(si) # No of rows"
   ]
  },
  {
   "cell_type": "markdown",
   "metadata": {},
   "source": [
    "#### **ItemSize**\n",
    "- Memory occupied by the item"
   ]
  },
  {
   "cell_type": "code",
   "execution_count": 43,
   "metadata": {},
   "outputs": [
    {
     "name": "stdout",
     "output_type": "stream",
     "text": [
      "[[ 1  2  3]\n",
      " [ 4  5  6]\n",
      " [ 7  8  9]\n",
      " [10 11 12]]\n"
     ]
    },
    {
     "data": {
      "text/plain": [
       "8"
      ]
     },
     "execution_count": 43,
     "metadata": {},
     "output_type": "execute_result"
    }
   ],
   "source": [
    "its = np.arange(1,13).reshape(4,3)\n",
    "print(its)\n",
    "its.itemsize #Memory occupied by the item"
   ]
  },
  {
   "cell_type": "code",
   "execution_count": 44,
   "metadata": {},
   "outputs": [
    {
     "data": {
      "text/plain": [
       "8"
      ]
     },
     "execution_count": 44,
     "metadata": {},
     "output_type": "execute_result"
    }
   ],
   "source": [
    "its1 = np.linspace(0,10, num=10)\n",
    "its1.itemsize"
   ]
  },
  {
   "cell_type": "markdown",
   "metadata": {},
   "source": [
    "### **Array Operations:**\n",
    "- NumPy supports element-wise operations on arrays. Basic arithmetic operations like addition, subtraction, multiplication, and division are performed element-wise."
   ]
  },
  {
   "cell_type": "markdown",
   "metadata": {},
   "source": [
    "#### **Scalr Operation**\n",
    "- Scalar operations on Numpy arrays include performing addition or subtraction, or multiplication on each element of a Numpy array."
   ]
  },
  {
   "cell_type": "code",
   "execution_count": 45,
   "metadata": {},
   "outputs": [],
   "source": [
    "import numpy as np\n",
    "so = np.arange(12).reshape(3,4)"
   ]
  },
  {
   "cell_type": "code",
   "execution_count": 46,
   "metadata": {},
   "outputs": [
    {
     "data": {
      "text/plain": [
       "array([[ 0,  1,  2,  3],\n",
       "       [ 4,  5,  6,  7],\n",
       "       [ 8,  9, 10, 11]])"
      ]
     },
     "execution_count": 46,
     "metadata": {},
     "output_type": "execute_result"
    }
   ],
   "source": [
    "so"
   ]
  },
  {
   "cell_type": "code",
   "execution_count": 47,
   "metadata": {},
   "outputs": [
    {
     "data": {
      "text/plain": [
       "array([[ 2,  3,  4,  5],\n",
       "       [ 6,  7,  8,  9],\n",
       "       [10, 11, 12, 13]])"
      ]
     },
     "execution_count": 47,
     "metadata": {},
     "output_type": "execute_result"
    }
   ],
   "source": [
    "so + 2 # -, *, /, **, %."
   ]
  },
  {
   "cell_type": "code",
   "execution_count": 48,
   "metadata": {},
   "outputs": [
    {
     "data": {
      "text/plain": [
       "array([[-2, -1,  0,  1],\n",
       "       [ 2,  3,  4,  5],\n",
       "       [ 6,  7,  8,  9]])"
      ]
     },
     "execution_count": 48,
     "metadata": {},
     "output_type": "execute_result"
    }
   ],
   "source": [
    "so - 2"
   ]
  },
  {
   "cell_type": "code",
   "execution_count": 49,
   "metadata": {},
   "outputs": [
    {
     "data": {
      "text/plain": [
       "array([[ 0,  2,  4,  6],\n",
       "       [ 8, 10, 12, 14],\n",
       "       [16, 18, 20, 22]])"
      ]
     },
     "execution_count": 49,
     "metadata": {},
     "output_type": "execute_result"
    }
   ],
   "source": [
    "so * 2"
   ]
  },
  {
   "cell_type": "code",
   "execution_count": 50,
   "metadata": {},
   "outputs": [
    {
     "data": {
      "text/plain": [
       "array([[0, 1, 0, 1],\n",
       "       [0, 1, 0, 1],\n",
       "       [0, 1, 0, 1]])"
      ]
     },
     "execution_count": 50,
     "metadata": {},
     "output_type": "execute_result"
    }
   ],
   "source": [
    "so % 2"
   ]
  },
  {
   "cell_type": "code",
   "execution_count": 51,
   "metadata": {},
   "outputs": [
    {
     "data": {
      "text/plain": [
       "array([  1,   4,   9,  16,  25,  36,  49,  64,  81, 100])"
      ]
     },
     "execution_count": 51,
     "metadata": {},
     "output_type": "execute_result"
    }
   ],
   "source": [
    "ml = np.array([1,2,3,4,5,6,7,8,9,10])\n",
    "ml1 = np.array([1, 2, 3, 4, 5, 6, 7, 8, 9, 10])\n",
    "np.multiply(ml,ml1)"
   ]
  },
  {
   "cell_type": "code",
   "execution_count": 52,
   "metadata": {},
   "outputs": [
    {
     "data": {
      "text/plain": [
       "array([1., 1., 1., 1., 1., 1., 1., 1., 1., 1.])"
      ]
     },
     "execution_count": 52,
     "metadata": {},
     "output_type": "execute_result"
    }
   ],
   "source": [
    "np.divide(ml,ml1)"
   ]
  },
  {
   "cell_type": "markdown",
   "metadata": {},
   "source": [
    "#### **Relational Operation**\n",
    "- The relational operators are also known as comparison operators, their main function is to return either a true or false based on the value of operands."
   ]
  },
  {
   "cell_type": "code",
   "execution_count": 211,
   "metadata": {},
   "outputs": [
    {
     "data": {
      "text/plain": [
       "array([[12, 13, 14, 15],\n",
       "       [16, 17, 18, 19],\n",
       "       [20, 21, 22, 23]])"
      ]
     },
     "execution_count": 211,
     "metadata": {},
     "output_type": "execute_result"
    }
   ],
   "source": [
    "ro = np.arange(12,24).reshape(3,4)\n",
    "ro"
   ]
  },
  {
   "cell_type": "code",
   "execution_count": 213,
   "metadata": {},
   "outputs": [
    {
     "data": {
      "text/plain": [
       "array([[False, False, False, False],\n",
       "       [False, False, False, False],\n",
       "       [False,  True,  True,  True]])"
      ]
     },
     "execution_count": 213,
     "metadata": {},
     "output_type": "execute_result"
    }
   ],
   "source": [
    "ro > 20"
   ]
  },
  {
   "cell_type": "code",
   "execution_count": 212,
   "metadata": {},
   "outputs": [
    {
     "data": {
      "text/plain": [
       "array([21, 22, 23])"
      ]
     },
     "execution_count": 212,
     "metadata": {},
     "output_type": "execute_result"
    }
   ],
   "source": [
    "ro[ro > 20]"
   ]
  },
  {
   "cell_type": "code",
   "execution_count": 55,
   "metadata": {},
   "outputs": [
    {
     "data": {
      "text/plain": [
       "array([12, 13, 14, 15, 16, 17, 18, 19, 21, 22, 23])"
      ]
     },
     "execution_count": 55,
     "metadata": {},
     "output_type": "execute_result"
    }
   ],
   "source": [
    "ro[ro != 20]"
   ]
  },
  {
   "cell_type": "markdown",
   "metadata": {},
   "source": [
    "### **Logical Operator**"
   ]
  },
  {
   "cell_type": "code",
   "execution_count": 56,
   "metadata": {},
   "outputs": [
    {
     "data": {
      "text/plain": [
       "array([[False, False,  True]])"
      ]
     },
     "execution_count": 56,
     "metadata": {},
     "output_type": "execute_result"
    }
   ],
   "source": [
    "lo = np.array([[-1,2,7]])\n",
    "lo1 = np.array([[4,5,6]])\n",
    "\n",
    "comp = lo>lo1\n",
    "comp"
   ]
  },
  {
   "cell_type": "code",
   "execution_count": 57,
   "metadata": {},
   "outputs": [
    {
     "data": {
      "text/plain": [
       "(array([ True, False, False, False]), array([ True,  True,  True, False]))"
      ]
     },
     "execution_count": 57,
     "metadata": {},
     "output_type": "execute_result"
    }
   ],
   "source": [
    "lo2 = np.array([True, False, True, False])\n",
    "lo3 = np.array([True, True,False, False])\n",
    "\n",
    "_and = np.logical_and(lo2, lo3)\n",
    "\n",
    "_or = np.logical_or(lo2, lo3)\n",
    "_and,_or"
   ]
  },
  {
   "cell_type": "code",
   "execution_count": 58,
   "metadata": {},
   "outputs": [
    {
     "name": "stdout",
     "output_type": "stream",
     "text": [
      "[False  True  True]\n",
      "[False  True  True]\n"
     ]
    }
   ],
   "source": [
    "arr1 = np.array([1, 3, 7])\n",
    "arr2 = np.array([2, 3, 6])\n",
    "\n",
    "# Logical AND where both conditions are True (e.g., arr1 > 2 and arr2 > 2)\n",
    "result_and = np.logical_and(arr1 > 2, arr2 > 2)\n",
    "print(result_and)\n",
    "\n",
    "# Logical OR where either condition is True (e.g., arr1 > 2 or arr2 > 2)\n",
    "result_or = np.logical_or(arr1 > 2, arr2 > 2)\n",
    "print(result_or)"
   ]
  },
  {
   "cell_type": "markdown",
   "metadata": {},
   "source": [
    "#### **Vector Operation**\n",
    "- We can apply on both numpy array"
   ]
  },
  {
   "cell_type": "code",
   "execution_count": 59,
   "metadata": {},
   "outputs": [
    {
     "name": "stdout",
     "output_type": "stream",
     "text": [
      "[6 7 8]\n",
      "[10 12 14] [2 2 2] [24 35 48] [1.5        1.4        1.33333333]\n"
     ]
    }
   ],
   "source": [
    "vo = np.array([1, 2, 3]) + 5\n",
    "vo1 = np.array([4, 5, 6])\n",
    "\n",
    "addition = vo + vo1\n",
    "subtraction = vo - vo1\n",
    "multiplication = vo * vo1\n",
    "division = vo / vo1\n",
    "\n",
    "print(vo)\n",
    "print(addition,subtraction, multiplication, division)"
   ]
  },
  {
   "cell_type": "code",
   "execution_count": 60,
   "metadata": {},
   "outputs": [
    {
     "data": {
      "text/plain": [
       "(array([[ 0,  1,  2,  3],\n",
       "        [ 4,  5,  6,  7],\n",
       "        [ 8,  9, 10, 11]]),\n",
       " array([[12, 13, 14, 15],\n",
       "        [16, 17, 18, 19],\n",
       "        [20, 21, 22, 23]]))"
      ]
     },
     "execution_count": 60,
     "metadata": {},
     "output_type": "execute_result"
    }
   ],
   "source": [
    "za = np.arange(12).reshape(3,4)\n",
    "zb = np.arange(12, 24).reshape(3,4)\n",
    "za, zb"
   ]
  },
  {
   "cell_type": "code",
   "execution_count": 61,
   "metadata": {},
   "outputs": [
    {
     "name": "stdout",
     "output_type": "stream",
     "text": [
      "Addition:\n",
      " [[12 14 16 18]\n",
      " [20 22 24 26]\n",
      " [28 30 32 34]] \n",
      "\n"
     ]
    }
   ],
   "source": [
    "addition = za + zb\n",
    "subtraction = za - zb\n",
    "multiplication = za * zb\n",
    "print(\"Addition:\\n\", addition, \"\\n\")"
   ]
  },
  {
   "cell_type": "markdown",
   "metadata": {},
   "source": [
    "### **Array Function**"
   ]
  },
  {
   "cell_type": "code",
   "execution_count": 214,
   "metadata": {},
   "outputs": [
    {
     "data": {
      "text/plain": [
       "array([[0.62449793, 0.70274815, 0.62781062],\n",
       "       [0.59782948, 0.51592789, 0.25898947],\n",
       "       [0.88667881, 0.86769168, 0.12901756]])"
      ]
     },
     "execution_count": 214,
     "metadata": {},
     "output_type": "execute_result"
    }
   ],
   "source": [
    "Ao = np.random.random((3,3))\n",
    "Ao"
   ]
  },
  {
   "cell_type": "code",
   "execution_count": 215,
   "metadata": {},
   "outputs": [
    {
     "data": {
      "text/plain": [
       "array([[62.44979328, 70.27481481, 62.78106202],\n",
       "       [59.78294773, 51.5927892 , 25.89894703],\n",
       "       [88.66788117, 86.7691678 , 12.90175629]])"
      ]
     },
     "execution_count": 215,
     "metadata": {},
     "output_type": "execute_result"
    }
   ],
   "source": [
    "Ao*100"
   ]
  },
  {
   "cell_type": "code",
   "execution_count": 216,
   "metadata": {},
   "outputs": [
    {
     "data": {
      "text/plain": [
       "array([[62, 70, 63],\n",
       "       [60, 52, 26],\n",
       "       [89, 87, 13]])"
      ]
     },
     "execution_count": 216,
     "metadata": {},
     "output_type": "execute_result"
    }
   ],
   "source": [
    "Ao = np.round(Ao*100)\n",
    "Ao.astype('int')"
   ]
  },
  {
   "cell_type": "code",
   "execution_count": 218,
   "metadata": {},
   "outputs": [
    {
     "data": {
      "text/plain": [
       "array([211., 209., 102.])"
      ]
     },
     "execution_count": 218,
     "metadata": {},
     "output_type": "execute_result"
    }
   ],
   "source": [
    "aa1 = np.sum(Ao, axis=0) #axis=1 represents rows , 0-columns\n",
    "aa1"
   ]
  },
  {
   "cell_type": "code",
   "execution_count": 220,
   "metadata": {},
   "outputs": [
    {
     "data": {
      "text/plain": [
       "(np.float64(89.0),\n",
       " array([70., 60., 89.]),\n",
       " array([60., 52., 13.]),\n",
       " np.float64(13.0),\n",
       " np.float64(2232599548233600.0))"
      ]
     },
     "execution_count": 220,
     "metadata": {},
     "output_type": "execute_result"
    }
   ],
   "source": [
    "a1 = np.max(Ao)\n",
    "\n",
    "# if we want maximum of every row\n",
    "a11 = np.max(Ao, axis=1)\n",
    "\n",
    "# # maximum of every column\n",
    "a22 = np.min(Ao, axis=0)\n",
    "\n",
    "a2 = np.min(Ao)\n",
    "\n",
    "a3 = np.prod(Ao) #Multiplication\n",
    "\n",
    "\n",
    "a1, a11, a22, a2, a3"
   ]
  },
  {
   "cell_type": "markdown",
   "metadata": {},
   "source": [
    "### **Statistics Function**"
   ]
  },
  {
   "cell_type": "code",
   "execution_count": 221,
   "metadata": {},
   "outputs": [
    {
     "data": {
      "text/plain": [
       "array([[0.95188622, 0.14953209, 0.93735048],\n",
       "       [0.7254476 , 0.67332643, 0.20445053],\n",
       "       [0.27838261, 0.70525823, 0.09722865]])"
      ]
     },
     "execution_count": 221,
     "metadata": {},
     "output_type": "execute_result"
    }
   ],
   "source": [
    "St = np.random.random((3,3))\n",
    "St"
   ]
  },
  {
   "cell_type": "code",
   "execution_count": 67,
   "metadata": {},
   "outputs": [
    {
     "data": {
      "text/plain": [
       "np.float64(0.46)"
      ]
     },
     "execution_count": 67,
     "metadata": {},
     "output_type": "execute_result"
    }
   ],
   "source": [
    "avg = np.sum(St)/np.size(St)\n",
    "np.round(avg, 2)"
   ]
  },
  {
   "cell_type": "code",
   "execution_count": 68,
   "metadata": {},
   "outputs": [
    {
     "data": {
      "text/plain": [
       "(np.float64(0.4603825903040616),\n",
       " array([0.77869016, 0.31121198, 0.29124564]),\n",
       " np.float64(0.601517148389547),\n",
       " array([0.15127235, 0.60151715, 0.73887156]),\n",
       " np.float64(0.10365804352433765),\n",
       " np.float64(0.32195969239073646))"
      ]
     },
     "execution_count": 68,
     "metadata": {},
     "output_type": "execute_result"
    }
   ],
   "source": [
    "b1 = np.mean(St)\n",
    "\n",
    "# mean of every column\n",
    "b11 = St.mean(axis=0)\n",
    "\n",
    "b2 = np.median(St)\n",
    "\n",
    "#median of every row\n",
    "b22 = np.median(St, axis=1)\n",
    "\n",
    "b3 = np.var(St)\n",
    "\n",
    "b4 = np.std(St)\n",
    "\n",
    "b1, b11, b2, b22, b3, b4"
   ]
  },
  {
   "cell_type": "code",
   "execution_count": 69,
   "metadata": {},
   "outputs": [
    {
     "data": {
      "text/plain": [
       "np.float64(0.32195969239073646)"
      ]
     },
     "execution_count": 69,
     "metadata": {},
     "output_type": "execute_result"
    }
   ],
   "source": [
    "np.sqrt(b3)"
   ]
  },
  {
   "cell_type": "markdown",
   "metadata": {},
   "source": [
    "#### **Trignometric Finction**"
   ]
  },
  {
   "cell_type": "code",
   "execution_count": 71,
   "metadata": {},
   "outputs": [
    {
     "data": {
      "text/plain": [
       "array([[24, 25, 26, 27],\n",
       "       [28, 29, 30, 31],\n",
       "       [32, 33, 34, 35]])"
      ]
     },
     "execution_count": 70,
     "metadata": {},
     "output_type": "execute_result"
    }
   ],
   "source": [
    "tf = np.arange(24, 36).reshape(3,4)\n",
    "tf1 = np.arange(36,48).reshape(4,3)\n",
    "tf"
   ]
  },
  {
   "cell_type": "code",
   "execution_count": null,
   "metadata": {},
   "outputs": [
    {
     "data": {
      "text/plain": [
       "array([[-0.90557836, -0.13235175,  0.76255845,  0.95637593],\n",
       "       [ 0.27090579, -0.66363388, -0.98803162, -0.40403765],\n",
       "       [ 0.55142668,  0.99991186,  0.52908269, -0.42818267]])"
      ]
     },
     "execution_count": 71,
     "metadata": {},
     "output_type": "execute_result"
    }
   ],
   "source": [
    "np.sin(tf)"
   ]
  },
  {
   "cell_type": "code",
   "execution_count": 72,
   "metadata": {},
   "outputs": [
    {
     "data": {
      "text/plain": [
       "array([[ 0.42417901,  0.99120281,  0.64691932, -0.29213881],\n",
       "       [-0.96260587, -0.74805753,  0.15425145,  0.91474236],\n",
       "       [ 0.83422336, -0.01327675, -0.84857027, -0.90369221]])"
      ]
     },
     "execution_count": 72,
     "metadata": {},
     "output_type": "execute_result"
    }
   ],
   "source": [
    "np.cos(tf)"
   ]
  },
  {
   "cell_type": "code",
   "execution_count": 73,
   "metadata": {},
   "outputs": [
    {
     "data": {
      "text/plain": [
       "array([[ -2.1348967 ,  -0.13352641,   1.17875355,  -3.2737038 ],\n",
       "       [ -0.2814296 ,   0.88714284,  -6.4053312 ,  -0.44169557],\n",
       "       [  0.66100604, -75.3130148 ,  -0.62349896,   0.47381472]])"
      ]
     },
     "execution_count": 73,
     "metadata": {},
     "output_type": "execute_result"
    }
   ],
   "source": [
    "np.tan(tf)"
   ]
  },
  {
   "cell_type": "code",
   "execution_count": 74,
   "metadata": {},
   "outputs": [
    {
     "data": {
      "text/plain": [
       "np.float64(-1.2482015977941976)"
      ]
     },
     "execution_count": 74,
     "metadata": {},
     "output_type": "execute_result"
    }
   ],
   "source": [
    "a = np.sin(180)\n",
    "b = np.cos(45)\n",
    "c= np.tan(45)\n",
    "\n",
    "sec = 1/a\n",
    "cosec = 1/b\n",
    "cot = 1/np.tan(45)\n",
    "\n",
    "sec"
   ]
  },
  {
   "cell_type": "markdown",
   "metadata": {},
   "source": [
    "#### **Log and Exponent**"
   ]
  },
  {
   "cell_type": "code",
   "execution_count": 75,
   "metadata": {},
   "outputs": [
    {
     "data": {
      "text/plain": [
       "np.float64(4.605170185988092)"
      ]
     },
     "execution_count": 75,
     "metadata": {},
     "output_type": "execute_result"
    }
   ],
   "source": [
    "np.log(100)"
   ]
  },
  {
   "cell_type": "code",
   "execution_count": 76,
   "metadata": {},
   "outputs": [
    {
     "data": {
      "text/plain": [
       "np.float64(22026.465794806718)"
      ]
     },
     "execution_count": 76,
     "metadata": {},
     "output_type": "execute_result"
    }
   ],
   "source": [
    "np.exp(10)"
   ]
  },
  {
   "cell_type": "code",
   "execution_count": 77,
   "metadata": {},
   "outputs": [
    {
     "data": {
      "text/plain": [
       "np.float64(5.0)"
      ]
     },
     "execution_count": 77,
     "metadata": {},
     "output_type": "execute_result"
    }
   ],
   "source": [
    "np.sqrt(25)"
   ]
  },
  {
   "cell_type": "code",
   "execution_count": 223,
   "metadata": {},
   "outputs": [
    {
     "data": {
      "text/plain": [
       "np.int64(8)"
      ]
     },
     "execution_count": 223,
     "metadata": {},
     "output_type": "execute_result"
    }
   ],
   "source": [
    "np.power(2,3)"
   ]
  },
  {
   "cell_type": "code",
   "execution_count": 224,
   "metadata": {},
   "outputs": [
    {
     "name": "stdout",
     "output_type": "stream",
     "text": [
      "[3.16227766 4.47213595 5.47722558 6.32455532 7.07106781]\n"
     ]
    }
   ],
   "source": [
    "arr4 = np.array([10, 20, 30, 40, 50])\n",
    "sqrt_result = np.sqrt(arr4)\n",
    "print(sqrt_result)"
   ]
  },
  {
   "cell_type": "markdown",
   "metadata": {},
   "source": [
    "#### **round**\n",
    "The `numpy.round()` function rounds the elements of an array to the nearest integer or to the specified number of decimals."
   ]
  },
  {
   "cell_type": "code",
   "execution_count": 80,
   "metadata": {},
   "outputs": [
    {
     "name": "stdout",
     "output_type": "stream",
     "text": [
      "[1.25 2.75 3.55 4.95]\n"
     ]
    }
   ],
   "source": [
    "# Round to the nearest integer\n",
    "arr = np.array([1.253, 2.753, 3.553, 4.953])\n",
    "rounded_arr = np.round(arr,2)\n",
    "print(rounded_arr) "
   ]
  },
  {
   "cell_type": "code",
   "execution_count": 225,
   "metadata": {},
   "outputs": [
    {
     "data": {
      "text/plain": [
       "np.float64(75.39)"
      ]
     },
     "execution_count": 225,
     "metadata": {},
     "output_type": "execute_result"
    }
   ],
   "source": [
    "np.round(75.391, 2)"
   ]
  },
  {
   "cell_type": "code",
   "execution_count": 81,
   "metadata": {},
   "outputs": [
    {
     "name": "stdout",
     "output_type": "stream",
     "text": [
      "[1.23 2.57 3.89]\n"
     ]
    }
   ],
   "source": [
    "# Round to two decimals\n",
    "arr = np.array([1.234, 2.567, 3.891])\n",
    "rounded_arr = np.round(arr, decimals=2)\n",
    "print(rounded_arr)"
   ]
  },
  {
   "cell_type": "markdown",
   "metadata": {},
   "source": [
    "#### **Floor**\n",
    "The `numpy.floor()` function returns the largest integer less than or equal to each element of an array.\n"
   ]
  },
  {
   "cell_type": "code",
   "execution_count": 82,
   "metadata": {},
   "outputs": [
    {
     "name": "stdout",
     "output_type": "stream",
     "text": [
      "[1. 2. 3. 4.]\n"
     ]
    }
   ],
   "source": [
    "# Floor operation\n",
    "arr = np.array([1.2, 2.7, 3.5, 4.9])\n",
    "floored_arr = np.floor(arr)\n",
    "print(floored_arr)"
   ]
  },
  {
   "cell_type": "code",
   "execution_count": 83,
   "metadata": {},
   "outputs": [
    {
     "data": {
      "text/plain": [
       "array([[68., 85., 34.],\n",
       "       [57., 84., 33.]])"
      ]
     },
     "execution_count": 83,
     "metadata": {},
     "output_type": "execute_result"
    }
   ],
   "source": [
    "np.floor(np.random.random((2,3))*100) # gives the smallest integer"
   ]
  },
  {
   "cell_type": "markdown",
   "metadata": {},
   "source": [
    "#### **Ceil**\n",
    "The `numpy.ceil()` function returns the smallest integer greater than or equal to each element of an array.\n"
   ]
  },
  {
   "cell_type": "code",
   "execution_count": 84,
   "metadata": {},
   "outputs": [
    {
     "name": "stdout",
     "output_type": "stream",
     "text": [
      "[2. 3. 4. 5.]\n"
     ]
    }
   ],
   "source": [
    "arr = np.array([1.2, 2.7, 3.5, 4.9])\n",
    "ceiled_arr = np.ceil(arr)\n",
    "print(ceiled_arr)"
   ]
  },
  {
   "cell_type": "code",
   "execution_count": 85,
   "metadata": {},
   "outputs": [
    {
     "data": {
      "text/plain": [
       "array([[52., 24., 76.],\n",
       "       [23., 32., 69.]])"
      ]
     },
     "execution_count": 85,
     "metadata": {},
     "output_type": "execute_result"
    }
   ],
   "source": [
    "np.ceil(np.random.random((2,3))*100) # gives highest integer"
   ]
  },
  {
   "cell_type": "markdown",
   "metadata": {},
   "source": [
    "### **Set functions**\n",
    "- `np.union1d`\n",
    "- `np.intersect1d`\n",
    "- `np.setdiff1d`"
   ]
  },
  {
   "cell_type": "code",
   "execution_count": 86,
   "metadata": {},
   "outputs": [],
   "source": [
    "m = np.array([1,2,3,4,5])\n",
    "n = np.array([3,4,5,6,7])"
   ]
  },
  {
   "cell_type": "code",
   "execution_count": 87,
   "metadata": {},
   "outputs": [
    {
     "data": {
      "text/plain": [
       "array([1, 2, 3, 4, 5, 6, 7])"
      ]
     },
     "execution_count": 87,
     "metadata": {},
     "output_type": "execute_result"
    }
   ],
   "source": [
    "np.union1d(m,n)"
   ]
  },
  {
   "cell_type": "code",
   "execution_count": 88,
   "metadata": {},
   "outputs": [
    {
     "data": {
      "text/plain": [
       "array([3, 4, 5])"
      ]
     },
     "execution_count": 88,
     "metadata": {},
     "output_type": "execute_result"
    }
   ],
   "source": [
    "np.intersect1d(m,n)"
   ]
  },
  {
   "cell_type": "code",
   "execution_count": 89,
   "metadata": {},
   "outputs": [
    {
     "data": {
      "text/plain": [
       "array([1, 2])"
      ]
     },
     "execution_count": 89,
     "metadata": {},
     "output_type": "execute_result"
    }
   ],
   "source": [
    "# Set difference\n",
    "np.setdiff1d(m,n)"
   ]
  },
  {
   "cell_type": "markdown",
   "metadata": {},
   "source": [
    "### **Indexing and Slicing:**\n",
    "You can access and modify elements of arrays using indexing and slicing. Indexing starts at 0, and slicing allows you to extract portions of arrays."
   ]
  },
  {
   "cell_type": "code",
   "execution_count": 226,
   "metadata": {},
   "outputs": [
    {
     "data": {
      "text/plain": [
       "(np.int64(30), array([20, 30, 40]), np.int64(50))"
      ]
     },
     "execution_count": 226,
     "metadata": {},
     "output_type": "execute_result"
    }
   ],
   "source": [
    "import numpy as np\n",
    "\n",
    "idx = np.array([10, 20, 30, 40, 50])\n",
    "first_element = idx[2]\n",
    "sub_array = idx[1:4]\n",
    "a = idx[-1]\n",
    "first_element,sub_array,a"
   ]
  },
  {
   "cell_type": "code",
   "execution_count": 91,
   "metadata": {},
   "outputs": [],
   "source": [
    "p1 = np.arange(10)\n",
    "p2 = np.arange(12).reshape(3,4)\n",
    "p3 = np.arange(8).reshape(2,2,2)"
   ]
  },
  {
   "cell_type": "code",
   "execution_count": 92,
   "metadata": {},
   "outputs": [
    {
     "data": {
      "text/plain": [
       "array([[ 0,  1,  2,  3],\n",
       "       [ 4,  5,  6,  7],\n",
       "       [ 8,  9, 10, 11]])"
      ]
     },
     "execution_count": 92,
     "metadata": {},
     "output_type": "execute_result"
    }
   ],
   "source": [
    "p2"
   ]
  },
  {
   "cell_type": "code",
   "execution_count": 93,
   "metadata": {},
   "outputs": [
    {
     "data": {
      "text/plain": [
       "array([ 2,  6, 10])"
      ]
     },
     "execution_count": 93,
     "metadata": {},
     "output_type": "execute_result"
    }
   ],
   "source": [
    "p2[:,2]"
   ]
  },
  {
   "cell_type": "code",
   "execution_count": 94,
   "metadata": {},
   "outputs": [
    {
     "data": {
      "text/plain": [
       "array([[ 0,  1,  2,  3],\n",
       "       [ 8,  9, 10, 11]])"
      ]
     },
     "execution_count": 94,
     "metadata": {},
     "output_type": "execute_result"
    }
   ],
   "source": [
    "p2[:3:2, :]"
   ]
  },
  {
   "cell_type": "code",
   "execution_count": 95,
   "metadata": {},
   "outputs": [
    {
     "data": {
      "text/plain": [
       "array([[[0, 1],\n",
       "        [2, 3]],\n",
       "\n",
       "       [[4, 5],\n",
       "        [6, 7]]])"
      ]
     },
     "execution_count": 95,
     "metadata": {},
     "output_type": "execute_result"
    }
   ],
   "source": [
    "p3"
   ]
  },
  {
   "cell_type": "code",
   "execution_count": 96,
   "metadata": {},
   "outputs": [
    {
     "name": "stdout",
     "output_type": "stream",
     "text": [
      "5\n"
     ]
    },
    {
     "data": {
      "text/plain": [
       "np.int64(2)"
      ]
     },
     "execution_count": 96,
     "metadata": {},
     "output_type": "execute_result"
    }
   ],
   "source": [
    "# :Here 3D is consists of 2 ,2D array , so Firstly we take 1 because our desired is 5 is in second matrix which is 1 .and 1 row so 0 and second column so 1\n",
    "print(p3[1,0,1])\n",
    "\n",
    "#Here first we take 0 because our desired is 0, is in first matrix which is 0 . and 1 row so 0 and first column so 0\n",
    "p3[0,1,0]"
   ]
  },
  {
   "cell_type": "code",
   "execution_count": 97,
   "metadata": {},
   "outputs": [
    {
     "data": {
      "text/plain": [
       "array([0, 1, 2, 3, 4, 5, 6, 7, 8, 9])"
      ]
     },
     "execution_count": 97,
     "metadata": {},
     "output_type": "execute_result"
    }
   ],
   "source": [
    "p1"
   ]
  },
  {
   "cell_type": "code",
   "execution_count": 98,
   "metadata": {},
   "outputs": [
    {
     "data": {
      "text/plain": [
       "array([2, 3, 4])"
      ]
     },
     "execution_count": 98,
     "metadata": {},
     "output_type": "execute_result"
    }
   ],
   "source": [
    "p1[2:5]"
   ]
  },
  {
   "cell_type": "code",
   "execution_count": 99,
   "metadata": {},
   "outputs": [
    {
     "data": {
      "text/plain": [
       "array([2, 4])"
      ]
     },
     "execution_count": 99,
     "metadata": {},
     "output_type": "execute_result"
    }
   ],
   "source": [
    "p1[2:5:2]"
   ]
  },
  {
   "cell_type": "code",
   "execution_count": 100,
   "metadata": {},
   "outputs": [
    {
     "data": {
      "text/plain": [
       "array([0, 1, 2, 3])"
      ]
     },
     "execution_count": 100,
     "metadata": {},
     "output_type": "execute_result"
    }
   ],
   "source": [
    "# fetching total First row\n",
    "p2[0, :]"
   ]
  },
  {
   "cell_type": "code",
   "execution_count": 101,
   "metadata": {},
   "outputs": [
    {
     "data": {
      "text/plain": [
       "array([ 2,  6, 10])"
      ]
     },
     "execution_count": 101,
     "metadata": {},
     "output_type": "execute_result"
    }
   ],
   "source": [
    "# fetching total third column\n",
    "p2[:,2]"
   ]
  },
  {
   "cell_type": "code",
   "execution_count": 102,
   "metadata": {},
   "outputs": [
    {
     "data": {
      "text/plain": [
       "array([[ 0,  1,  2,  3],\n",
       "       [ 4,  5,  6,  7],\n",
       "       [ 8,  9, 10, 11]])"
      ]
     },
     "execution_count": 102,
     "metadata": {},
     "output_type": "execute_result"
    }
   ],
   "source": [
    "p2"
   ]
  },
  {
   "cell_type": "code",
   "execution_count": 103,
   "metadata": {},
   "outputs": [
    {
     "data": {
      "text/plain": [
       "array([[ 0,  3],\n",
       "       [ 8, 11]])"
      ]
     },
     "execution_count": 103,
     "metadata": {},
     "output_type": "execute_result"
    }
   ],
   "source": [
    "p2[::2, ::3]"
   ]
  },
  {
   "cell_type": "code",
   "execution_count": 104,
   "metadata": {},
   "outputs": [
    {
     "data": {
      "text/plain": [
       "array([[[0, 1],\n",
       "        [2, 3]],\n",
       "\n",
       "       [[4, 5],\n",
       "        [6, 7]]])"
      ]
     },
     "execution_count": 104,
     "metadata": {},
     "output_type": "execute_result"
    }
   ],
   "source": [
    "#3D Slicing\n",
    "p3"
   ]
  },
  {
   "cell_type": "code",
   "execution_count": 105,
   "metadata": {},
   "outputs": [
    {
     "data": {
      "text/plain": [
       "array([2, 3])"
      ]
     },
     "execution_count": 105,
     "metadata": {},
     "output_type": "execute_result"
    }
   ],
   "source": [
    "p3[0,1,:] "
   ]
  },
  {
   "cell_type": "code",
   "execution_count": 106,
   "metadata": {},
   "outputs": [
    {
     "data": {
      "text/plain": [
       "array([5, 7])"
      ]
     },
     "execution_count": 106,
     "metadata": {},
     "output_type": "execute_result"
    }
   ],
   "source": [
    "p3[1,:,1]"
   ]
  },
  {
   "cell_type": "markdown",
   "metadata": {},
   "source": [
    "#### **Isin**\n",
    "- we can see that one array having values are checked in a different numpy array having different elements with different sizes."
   ]
  },
  {
   "cell_type": "code",
   "execution_count": 107,
   "metadata": {},
   "outputs": [
    {
     "data": {
      "text/plain": [
       "array([ True,  True,  True, False])"
      ]
     },
     "execution_count": 107,
     "metadata": {},
     "output_type": "execute_result"
    }
   ],
   "source": [
    "import numpy as np\n",
    "i = np.array([10,20,30,110])\n",
    "items = [10,20,30,40,50,60,70,80,90,100]\n",
    "np.isin(i,items)"
   ]
  },
  {
   "cell_type": "code",
   "execution_count": 108,
   "metadata": {},
   "outputs": [
    {
     "data": {
      "text/plain": [
       "array([10, 20, 30])"
      ]
     },
     "execution_count": 108,
     "metadata": {},
     "output_type": "execute_result"
    }
   ],
   "source": [
    "i[np.isin(i,items)]"
   ]
  },
  {
   "cell_type": "code",
   "execution_count": 109,
   "metadata": {},
   "outputs": [
    {
     "data": {
      "text/plain": [
       "array(True)"
      ]
     },
     "execution_count": 109,
     "metadata": {},
     "output_type": "execute_result"
    }
   ],
   "source": [
    "np.isin(10, items)"
   ]
  },
  {
   "cell_type": "code",
   "execution_count": 110,
   "metadata": {},
   "outputs": [
    {
     "name": "stdout",
     "output_type": "stream",
     "text": [
      "[[1 3]\n",
      " [5 8]\n",
      " [2 4]]\n",
      "Index of maximum value: 3\n",
      "Indices of maximum values along each column: [1 1 1]\n"
     ]
    }
   ],
   "source": [
    "# Create a 2D array\n",
    "arr = np.array([[1, 3, 5],[8, 2, 4]]).reshape(3, 2)\n",
    "\n",
    "print(arr)\n",
    "\n",
    "# Find the index of the maximum value in the entire array\n",
    "max_index = np.argmax(arr)\n",
    "print(\"Index of maximum value:\", max_index)\n",
    "\n",
    "# Find the indices of the maximum values along each column\n",
    "max_indices_col = np.argmax(arr, axis=1)\n",
    "print(\"Indices of maximum values along each column:\", max_indices_col)"
   ]
  },
  {
   "cell_type": "code",
   "execution_count": 111,
   "metadata": {},
   "outputs": [
    {
     "name": "stdout",
     "output_type": "stream",
     "text": [
      "[[1 3 5]\n",
      " [8 2 4]]\n",
      "Index of minimum value: 0\n",
      "Indices of minimum values along each row: [0 1]\n"
     ]
    }
   ],
   "source": [
    "import numpy as np\n",
    "\n",
    "# Create a 2D array\n",
    "arr = np.array([[1, 3, 5],\n",
    "                [8, 2, 4]]).reshape(2, 3)\n",
    "\n",
    "print(arr)\n",
    "\n",
    "# Find the index of the minimum value in the entire array\n",
    "min_index = np.argmin(arr)\n",
    "print(\"Index of minimum value:\", min_index)\n",
    "\n",
    "# Find the indices of the minimum values along each row\n",
    "min_indices_row = np.argmin(arr, axis=1)\n",
    "print(\"Indices of minimum values along each row:\", min_indices_row)"
   ]
  },
  {
   "cell_type": "markdown",
   "metadata": {},
   "source": [
    "### **Array Methods**"
   ]
  },
  {
   "cell_type": "markdown",
   "metadata": {},
   "source": [
    "#### **`np.where`**\n",
    "The numpy.where() function returns the indices of elements in an input array where the given\n",
    "condition is satisfied."
   ]
  },
  {
   "cell_type": "code",
   "execution_count": 112,
   "metadata": {},
   "outputs": [
    {
     "name": "stdout",
     "output_type": "stream",
     "text": [
      "[  1   2   3   4   5   6   7   8   9  10  11  12  13  14  15  16  17  18\n",
      "  19  20  21  22  23  24  25  26  27  28  29  30  31  32  33  34  35  36\n",
      "  37  38  39  40  41  42  43  44  45  46  47  48  49  50  51  52  53  54\n",
      "  55  56  57  58  59  60  61  62  63  64  65  66  67  68  69  70  71  72\n",
      "  73  74  75  76  77  78  79  80  81  82  83  84  85  86  87  88  89  90\n",
      "  91  92  93  94  95  96  97  98  99 100]\n"
     ]
    },
    {
     "data": {
      "text/plain": [
       "(array([50, 51, 52, 53, 54, 55, 56, 57, 58, 59, 60, 61, 62, 63, 64, 65, 66,\n",
       "        67, 68, 69, 70, 71, 72, 73, 74, 75, 76, 77, 78, 79, 80, 81, 82, 83,\n",
       "        84, 85, 86, 87, 88, 89, 90, 91, 92, 93, 94, 95, 96, 97, 98, 99]),)"
      ]
     },
     "execution_count": 112,
     "metadata": {},
     "output_type": "execute_result"
    }
   ],
   "source": [
    "wh = np.arange(1,101)\n",
    "print(wh)\n",
    "np.where(wh>50)"
   ]
  },
  {
   "cell_type": "code",
   "execution_count": 113,
   "metadata": {},
   "outputs": [
    {
     "data": {
      "text/plain": [
       "array([ 1,  2,  3,  4,  5,  6,  7,  8,  9, 10, 11, 12, 13, 14, 15, 16, 17,\n",
       "       18, 19, 20, 21, 22, 23, 24, 25, 26, 27, 28, 29, 30, 31, 32, 33, 34,\n",
       "       35, 36, 37, 38, 39, 40, 41, 42, 43, 44, 45, 46, 47, 48, 49, 50,  1,\n",
       "        1,  1,  1,  1,  1,  1,  1,  1,  1,  1,  1,  1,  1,  1,  1,  1,  1,\n",
       "        1,  1,  1,  1,  1,  1,  1,  1,  1,  1,  1,  1,  1,  1,  1,  1,  1,\n",
       "        1,  1,  1,  1,  1,  1,  1,  1,  1,  1,  1,  1,  1,  1,  1])"
      ]
     },
     "execution_count": 113,
     "metadata": {},
     "output_type": "execute_result"
    }
   ],
   "source": [
    "# replace all values > 50 with 0\n",
    "np.where(wh>50,1,wh)"
   ]
  },
  {
   "cell_type": "markdown",
   "metadata": {},
   "source": [
    "#### **Itrating**"
   ]
  },
  {
   "cell_type": "code",
   "execution_count": 114,
   "metadata": {},
   "outputs": [
    {
     "name": "stdout",
     "output_type": "stream",
     "text": [
      "0\n",
      "1\n",
      "2\n",
      "3\n",
      "4\n",
      "5\n",
      "6\n",
      "7\n",
      "8\n",
      "9\n"
     ]
    }
   ],
   "source": [
    "p1 = np.arange(10)\n",
    "\n",
    "for i in p1:\n",
    "    print(i)"
   ]
  },
  {
   "cell_type": "code",
   "execution_count": 115,
   "metadata": {},
   "outputs": [
    {
     "name": "stdout",
     "output_type": "stream",
     "text": [
      "[0 1 2 3]\n",
      "[4 5 6 7]\n",
      "[ 8  9 10 11]\n"
     ]
    }
   ],
   "source": [
    "p2 = np.arange(12).reshape(3,4)\n",
    "\n",
    "for i in p2:\n",
    "    print(i)"
   ]
  },
  {
   "cell_type": "code",
   "execution_count": 116,
   "metadata": {},
   "outputs": [
    {
     "name": "stdout",
     "output_type": "stream",
     "text": [
      "0\n",
      "1\n",
      "2\n",
      "3\n",
      "4\n",
      "5\n",
      "6\n",
      "7\n",
      "8\n",
      "9\n",
      "10\n",
      "11\n"
     ]
    }
   ],
   "source": [
    "p2 = np.arange(12).reshape(3,4)\n",
    "\n",
    "## Looping on 2D array\n",
    "for i in p2:\n",
    "    for j in i:\n",
    "        print(j)"
   ]
  },
  {
   "cell_type": "code",
   "execution_count": 117,
   "metadata": {},
   "outputs": [
    {
     "name": "stdout",
     "output_type": "stream",
     "text": [
      "0\n",
      "1\n",
      "2\n",
      "3\n",
      "4\n",
      "5\n",
      "6\n",
      "7\n",
      "8\n",
      "9\n",
      "10\n",
      "11\n"
     ]
    }
   ],
   "source": [
    "for i in np.nditer(p2):\n",
    "    print(i)"
   ]
  },
  {
   "cell_type": "code",
   "execution_count": 118,
   "metadata": {},
   "outputs": [
    {
     "name": "stdout",
     "output_type": "stream",
     "text": [
      "[0 1]\n",
      "[2 3]\n",
      "[4 5]\n",
      "[6 7]\n"
     ]
    }
   ],
   "source": [
    "p3 = np.arange(8).reshape(2,2,2)\n",
    "\n",
    "## Looping on 2D array\n",
    "for i in p3:\n",
    "    for j in i:\n",
    "        print(j)"
   ]
  },
  {
   "cell_type": "code",
   "execution_count": 119,
   "metadata": {},
   "outputs": [
    {
     "name": "stdout",
     "output_type": "stream",
     "text": [
      "0\n",
      "1\n",
      "2\n",
      "3\n",
      "4\n",
      "5\n",
      "6\n",
      "7\n"
     ]
    }
   ],
   "source": [
    "for i in p3:\n",
    "    for j in i:\n",
    "        for k in j:\n",
    "            print(k)"
   ]
  },
  {
   "cell_type": "code",
   "execution_count": 120,
   "metadata": {},
   "outputs": [
    {
     "name": "stdout",
     "output_type": "stream",
     "text": [
      "0\n",
      "1\n",
      "2\n",
      "3\n",
      "4\n",
      "5\n",
      "6\n",
      "7\n"
     ]
    }
   ],
   "source": [
    "for i in np.nditer(p3):\n",
    "    print(i)"
   ]
  },
  {
   "cell_type": "markdown",
   "metadata": {},
   "source": [
    "print all items in 2D & 3D using nditer ----> first convert in to 1D and applying Loop"
   ]
  },
  {
   "cell_type": "code",
   "execution_count": 121,
   "metadata": {},
   "outputs": [
    {
     "data": {
      "text/plain": [
       "array([[12, 13, 14, 15],\n",
       "       [16, 17, 18, 19],\n",
       "       [20, 21, 22, 23]])"
      ]
     },
     "execution_count": 121,
     "metadata": {},
     "output_type": "execute_result"
    }
   ],
   "source": [
    "p4 = np.arange(12,24).reshape(3,4)\n",
    "p4"
   ]
  },
  {
   "cell_type": "code",
   "execution_count": 122,
   "metadata": {},
   "outputs": [
    {
     "name": "stdout",
     "output_type": "stream",
     "text": [
      "12\n",
      "14\n",
      "16\n",
      "18\n",
      "20\n",
      "22\n"
     ]
    }
   ],
   "source": [
    "for i in np.nditer(p4):\n",
    "    if i % 2 == 0:\n",
    "        print(i)"
   ]
  },
  {
   "cell_type": "markdown",
   "metadata": {},
   "source": [
    "#### **Sorting**"
   ]
  },
  {
   "cell_type": "code",
   "execution_count": 123,
   "metadata": {},
   "outputs": [
    {
     "data": {
      "text/plain": [
       "(array([88, 47, 64, 24, 24,  9, 46, 11, 60, 99, 34, 45,  6, 28, 19],\n",
       "       dtype=int32),\n",
       " array([[35, 83,  3, 11],\n",
       "        [40, 83, 70, 52],\n",
       "        [42, 48, 22, 80],\n",
       "        [11,  9, 85, 10],\n",
       "        [ 8, 46, 43, 50],\n",
       "        [80, 44, 14, 68]], dtype=int32))"
      ]
     },
     "execution_count": 123,
     "metadata": {},
     "output_type": "execute_result"
    }
   ],
   "source": [
    "s = np.random.randint(1,100,15)\n",
    "s1 = np.random.randint(1,100,24).reshape(6,4)\n",
    "s , s1"
   ]
  },
  {
   "cell_type": "code",
   "execution_count": 124,
   "metadata": {},
   "outputs": [
    {
     "data": {
      "text/plain": [
       "array([ 6,  9, 11, 19, 24, 24, 28, 34, 45, 46, 47, 60, 64, 88, 99],\n",
       "      dtype=int32)"
      ]
     },
     "execution_count": 124,
     "metadata": {},
     "output_type": "execute_result"
    }
   ],
   "source": [
    "g = np.sort(s)\n",
    "g"
   ]
  },
  {
   "cell_type": "code",
   "execution_count": 125,
   "metadata": {},
   "outputs": [
    {
     "data": {
      "text/plain": [
       "array([99, 88, 64, 60, 47, 46, 45, 34, 28, 24, 24, 19, 11,  9,  6],\n",
       "      dtype=int32)"
      ]
     },
     "execution_count": 125,
     "metadata": {},
     "output_type": "execute_result"
    }
   ],
   "source": [
    "np.sort(s)[::-1] #Descending"
   ]
  },
  {
   "cell_type": "code",
   "execution_count": 126,
   "metadata": {},
   "outputs": [
    {
     "data": {
      "text/plain": [
       "array([[ 3, 11, 35, 83],\n",
       "       [40, 52, 70, 83],\n",
       "       [22, 42, 48, 80],\n",
       "       [ 9, 10, 11, 85],\n",
       "       [ 8, 43, 46, 50],\n",
       "       [14, 44, 68, 80]], dtype=int32)"
      ]
     },
     "execution_count": 126,
     "metadata": {},
     "output_type": "execute_result"
    }
   ],
   "source": [
    "np.sort(s1)"
   ]
  },
  {
   "cell_type": "code",
   "execution_count": 127,
   "metadata": {},
   "outputs": [
    {
     "data": {
      "text/plain": [
       "array([[ 8,  9,  3, 10],\n",
       "       [11, 44, 14, 11],\n",
       "       [35, 46, 22, 50],\n",
       "       [40, 48, 43, 52],\n",
       "       [42, 83, 70, 68],\n",
       "       [80, 83, 85, 80]], dtype=int32)"
      ]
     },
     "execution_count": 127,
     "metadata": {},
     "output_type": "execute_result"
    }
   ],
   "source": [
    "np.sort(s1, axis=0) #Column wise sorting"
   ]
  },
  {
   "cell_type": "markdown",
   "metadata": {},
   "source": [
    "#### **Append**"
   ]
  },
  {
   "cell_type": "code",
   "execution_count": 128,
   "metadata": {},
   "outputs": [
    {
     "data": {
      "text/plain": [
       "array([35, 83,  3, 11, 40, 83, 70, 52, 42, 48, 22, 80, 11,  9, 85, 10,  8,\n",
       "       46, 43, 50, 80, 44, 14, 68,  1])"
      ]
     },
     "execution_count": 128,
     "metadata": {},
     "output_type": "execute_result"
    }
   ],
   "source": [
    "np.append(s1,1)"
   ]
  },
  {
   "cell_type": "code",
   "execution_count": 129,
   "metadata": {},
   "outputs": [
    {
     "data": {
      "text/plain": [
       "array([[1],\n",
       "       [1],\n",
       "       [1],\n",
       "       [1]])"
      ]
     },
     "execution_count": 129,
     "metadata": {},
     "output_type": "execute_result"
    }
   ],
   "source": [
    "np.ones((4,1), dtype=int)"
   ]
  },
  {
   "cell_type": "code",
   "execution_count": 130,
   "metadata": {},
   "outputs": [
    {
     "data": {
      "text/plain": [
       "array([35, 83,  3, 11, 40, 83, 70, 52, 42, 48, 22, 80, 11,  9, 85, 10,  8,\n",
       "       46, 43, 50, 80, 44, 14, 68,  1,  1,  1,  1,  1,  1])"
      ]
     },
     "execution_count": 130,
     "metadata": {},
     "output_type": "execute_result"
    }
   ],
   "source": [
    "# adding one row to 2d arrary\n",
    "np.append(s1,np.ones((6,1))).astype('int')"
   ]
  },
  {
   "cell_type": "markdown",
   "metadata": {},
   "source": [
    "#### **`np.unique`**"
   ]
  },
  {
   "cell_type": "code",
   "execution_count": 131,
   "metadata": {},
   "outputs": [],
   "source": [
    "# code\n",
    "e = np.array([1,1,2,2,3,3,4,4,5,5,6,6])"
   ]
  },
  {
   "cell_type": "code",
   "execution_count": 132,
   "metadata": {},
   "outputs": [
    {
     "data": {
      "text/plain": [
       "array([1, 2, 3, 4, 5, 6])"
      ]
     },
     "execution_count": 132,
     "metadata": {},
     "output_type": "execute_result"
    }
   ],
   "source": [
    "np.unique(e)"
   ]
  },
  {
   "cell_type": "markdown",
   "metadata": {},
   "source": [
    "#### **Dot Product**\n",
    "`np.dot`"
   ]
  },
  {
   "cell_type": "code",
   "execution_count": 133,
   "metadata": {},
   "outputs": [
    {
     "name": "stdout",
     "output_type": "stream",
     "text": [
      "[[1 2]\n",
      " [3 4]]\n",
      "[[5 6]\n",
      " [7 8]]\n"
     ]
    }
   ],
   "source": [
    "dp = np.array([[1,2],[3,4]])\n",
    "dp1 = np.array([[5,6],[7,8]])\n",
    "print(dp)\n",
    "print(dp1)"
   ]
  },
  {
   "cell_type": "code",
   "execution_count": 134,
   "metadata": {},
   "outputs": [
    {
     "data": {
      "text/plain": [
       "array([[19, 22],\n",
       "       [43, 50]])"
      ]
     },
     "execution_count": 134,
     "metadata": {},
     "output_type": "execute_result"
    }
   ],
   "source": [
    "c = np.dot(dp,dp1)\n",
    "c"
   ]
  },
  {
   "cell_type": "code",
   "execution_count": 135,
   "metadata": {},
   "outputs": [
    {
     "data": {
      "text/plain": [
       "array([[369, 392],\n",
       "       [433, 460]])"
      ]
     },
     "execution_count": 135,
     "metadata": {},
     "output_type": "execute_result"
    }
   ],
   "source": [
    "A = np.array([[11, 12], [13, 14]])\n",
    "B = np.array([[15, 16], [17, 18]])\n",
    "dot_product = np.dot(A, B)\n",
    "dot_product"
   ]
  },
  {
   "cell_type": "markdown",
   "metadata": {},
   "source": [
    "#### **Percentaile**\n",
    "- `numpy.percentile()` function used to compute the nth percentile of the given data (array elements) along the specified axis"
   ]
  },
  {
   "cell_type": "code",
   "execution_count": 227,
   "metadata": {},
   "outputs": [
    {
     "data": {
      "text/plain": [
       "np.float64(100.0)"
      ]
     },
     "execution_count": 227,
     "metadata": {},
     "output_type": "execute_result"
    }
   ],
   "source": [
    "s = np.array([90,10,20,30,40,50,60,70,80,100])\n",
    "np.percentile(s, 100)"
   ]
  },
  {
   "cell_type": "code",
   "execution_count": 228,
   "metadata": {},
   "outputs": [],
   "source": [
    "a = np.random.randint(1,100,16)\n",
    "b = np.random.randint(1,100,24).reshape(6,4)"
   ]
  },
  {
   "cell_type": "code",
   "execution_count": 229,
   "metadata": {},
   "outputs": [
    {
     "data": {
      "text/plain": [
       "array([17, 26, 29, 32, 38, 43, 43, 44, 44, 54, 72, 75, 81, 86, 88, 93],\n",
       "      dtype=int32)"
      ]
     },
     "execution_count": 229,
     "metadata": {},
     "output_type": "execute_result"
    }
   ],
   "source": [
    "np.sort(a)"
   ]
  },
  {
   "cell_type": "code",
   "execution_count": 232,
   "metadata": {},
   "outputs": [
    {
     "data": {
      "text/plain": [
       "np.float64(93.0)"
      ]
     },
     "execution_count": 232,
     "metadata": {},
     "output_type": "execute_result"
    }
   ],
   "source": [
    "np.percentile(a,100) #max"
   ]
  },
  {
   "cell_type": "code",
   "execution_count": 233,
   "metadata": {},
   "outputs": [
    {
     "data": {
      "text/plain": [
       "np.float64(17.0)"
      ]
     },
     "execution_count": 233,
     "metadata": {},
     "output_type": "execute_result"
    }
   ],
   "source": [
    "np.percentile(a,0) # min"
   ]
  },
  {
   "cell_type": "code",
   "execution_count": 234,
   "metadata": {},
   "outputs": [
    {
     "data": {
      "text/plain": [
       "np.float64(44.0)"
      ]
     },
     "execution_count": 234,
     "metadata": {},
     "output_type": "execute_result"
    }
   ],
   "source": [
    "np.percentile(a,50) #median"
   ]
  },
  {
   "cell_type": "code",
   "execution_count": 142,
   "metadata": {},
   "outputs": [
    {
     "data": {
      "text/plain": [
       "np.float64(36.0)"
      ]
     },
     "execution_count": 142,
     "metadata": {},
     "output_type": "execute_result"
    }
   ],
   "source": [
    "np.percentile(a,25) "
   ]
  },
  {
   "cell_type": "code",
   "execution_count": 143,
   "metadata": {},
   "outputs": [
    {
     "data": {
      "text/plain": [
       "np.float64(77.5)"
      ]
     },
     "execution_count": 143,
     "metadata": {},
     "output_type": "execute_result"
    }
   ],
   "source": [
    "np.percentile(a,75) "
   ]
  },
  {
   "cell_type": "markdown",
   "metadata": {},
   "source": [
    "#### **Flip**\n",
    "- The `numpy.flip()` function reverses the order of array elements along the specified axis, preserving the shape of the array."
   ]
  },
  {
   "cell_type": "code",
   "execution_count": 144,
   "metadata": {},
   "outputs": [
    {
     "data": {
      "text/plain": [
       "array([63, 22, 77, 64, 72, 11, 74, 36, 76,  6, 31, 52, 67, 21,  8, 36],\n",
       "      dtype=int32)"
      ]
     },
     "execution_count": 144,
     "metadata": {},
     "output_type": "execute_result"
    }
   ],
   "source": [
    "fl = np.random.randint(1,100,16)\n",
    "fl"
   ]
  },
  {
   "cell_type": "code",
   "execution_count": 145,
   "metadata": {},
   "outputs": [
    {
     "data": {
      "text/plain": [
       "array([36,  8, 21, 67, 52, 31,  6, 76, 36, 74, 11, 72, 64, 77, 22, 63],\n",
       "      dtype=int32)"
      ]
     },
     "execution_count": 145,
     "metadata": {},
     "output_type": "execute_result"
    }
   ],
   "source": [
    "np.flip(fl)"
   ]
  },
  {
   "cell_type": "code",
   "execution_count": 146,
   "metadata": {},
   "outputs": [
    {
     "data": {
      "text/plain": [
       "array([[ 8, 46, 84, 92],\n",
       "       [68, 87, 27, 57],\n",
       "       [29, 11, 30, 46],\n",
       "       [66, 92, 92, 32],\n",
       "       [74, 31,  3, 39],\n",
       "       [48, 98, 51, 85]], dtype=int32)"
      ]
     },
     "execution_count": 146,
     "metadata": {},
     "output_type": "execute_result"
    }
   ],
   "source": [
    "fl1 = np.random.randint(1,100,24).reshape(6,4)\n",
    "fl1"
   ]
  },
  {
   "cell_type": "code",
   "execution_count": 147,
   "metadata": {},
   "outputs": [
    {
     "data": {
      "text/plain": [
       "array([[48, 98, 51, 85],\n",
       "       [74, 31,  3, 39],\n",
       "       [66, 92, 92, 32],\n",
       "       [29, 11, 30, 46],\n",
       "       [68, 87, 27, 57],\n",
       "       [ 8, 46, 84, 92]], dtype=int32)"
      ]
     },
     "execution_count": 147,
     "metadata": {},
     "output_type": "execute_result"
    }
   ],
   "source": [
    "np.flip(fl1,axis=0)"
   ]
  },
  {
   "cell_type": "markdown",
   "metadata": {},
   "source": [
    "#### **Delete**\n",
    "The `numpy.delete()` function returns a new array with the deletion of sub-arrays along with the mentioned axis."
   ]
  },
  {
   "cell_type": "code",
   "execution_count": 148,
   "metadata": {},
   "outputs": [
    {
     "data": {
      "text/plain": [
       "array([74, 27, 51, 63, 35, 76, 81, 16, 22, 43, 37, 40, 32, 14, 87],\n",
       "      dtype=int32)"
      ]
     },
     "execution_count": 148,
     "metadata": {},
     "output_type": "execute_result"
    }
   ],
   "source": [
    "de = np.random.randint(1,100,15)\n",
    "de"
   ]
  },
  {
   "cell_type": "code",
   "execution_count": 149,
   "metadata": {},
   "outputs": [
    {
     "data": {
      "text/plain": [
       "array([27, 51, 63, 35, 76, 81, 16, 22, 43, 37, 40, 32, 14, 87],\n",
       "      dtype=int32)"
      ]
     },
     "execution_count": 149,
     "metadata": {},
     "output_type": "execute_result"
    }
   ],
   "source": [
    "np.delete(de,0)"
   ]
  },
  {
   "cell_type": "code",
   "execution_count": 150,
   "metadata": {},
   "outputs": [
    {
     "data": {
      "text/plain": [
       "array([27, 63, 76, 81, 16, 22, 43, 37, 40, 32, 14, 87], dtype=int32)"
      ]
     },
     "execution_count": 150,
     "metadata": {},
     "output_type": "execute_result"
    }
   ],
   "source": [
    "np.delete(de,[0,2,4]) # deleted 0,2,4 index items"
   ]
  },
  {
   "cell_type": "code",
   "execution_count": 151,
   "metadata": {},
   "outputs": [
    {
     "data": {
      "text/plain": [
       "array([74, 27, 51, 63, 35, 76, 81, 16, 22, 43, 37, 40, 32, 14, 87],\n",
       "      dtype=int32)"
      ]
     },
     "execution_count": 151,
     "metadata": {},
     "output_type": "execute_result"
    }
   ],
   "source": [
    "de"
   ]
  },
  {
   "cell_type": "code",
   "execution_count": 152,
   "metadata": {},
   "outputs": [
    {
     "data": {
      "text/plain": [
       "array([27, 51, 63, 76, 81, 16, 22, 43, 37, 40, 32, 14, 87], dtype=int32)"
      ]
     },
     "execution_count": 152,
     "metadata": {},
     "output_type": "execute_result"
    }
   ],
   "source": [
    "np.delete(de, [0,4])"
   ]
  },
  {
   "cell_type": "markdown",
   "metadata": {},
   "source": [
    "### **Array Manipulation:**\n",
    "You can reshape arrays using `np.reshape()`, flatten them using `np.flatten()` or `np.ravel()`, and transpose them using `np.transpose()` or array attributes.\n",
    "\n",
    "Transpose ---> Converts rows in to clumns ad columns into rows"
   ]
  },
  {
   "cell_type": "code",
   "execution_count": 153,
   "metadata": {},
   "outputs": [
    {
     "data": {
      "text/plain": [
       "array([[ 0,  1,  2,  3],\n",
       "       [ 4,  5,  6,  7],\n",
       "       [ 8,  9, 10, 11]])"
      ]
     },
     "execution_count": 153,
     "metadata": {},
     "output_type": "execute_result"
    }
   ],
   "source": [
    "am = np.arange(12).reshape(3,4)\n",
    "am"
   ]
  },
  {
   "cell_type": "code",
   "execution_count": 154,
   "metadata": {},
   "outputs": [
    {
     "data": {
      "text/plain": [
       "array([[ 0,  4,  8],\n",
       "       [ 1,  5,  9],\n",
       "       [ 2,  6, 10],\n",
       "       [ 3,  7, 11]])"
      ]
     },
     "execution_count": 154,
     "metadata": {},
     "output_type": "execute_result"
    }
   ],
   "source": [
    "np.transpose(am)"
   ]
  },
  {
   "cell_type": "code",
   "execution_count": 155,
   "metadata": {},
   "outputs": [
    {
     "data": {
      "text/plain": [
       "array([[ 0,  4,  8],\n",
       "       [ 1,  5,  9],\n",
       "       [ 2,  6, 10],\n",
       "       [ 3,  7, 11]])"
      ]
     },
     "execution_count": 155,
     "metadata": {},
     "output_type": "execute_result"
    }
   ],
   "source": [
    "am.T"
   ]
  },
  {
   "cell_type": "code",
   "execution_count": 156,
   "metadata": {},
   "outputs": [
    {
     "data": {
      "text/plain": [
       "(array([[1, 2, 3],\n",
       "        [4, 5, 6]]),\n",
       " array([[1, 4],\n",
       "        [2, 5],\n",
       "        [3, 6]]))"
      ]
     },
     "execution_count": 156,
     "metadata": {},
     "output_type": "execute_result"
    }
   ],
   "source": [
    "arr = np.array([[1, 2, 3], [4, 5, 6]])\n",
    "transposed_arr = np.transpose(arr)\n",
    "arr,transposed_arr"
   ]
  },
  {
   "cell_type": "markdown",
   "metadata": {},
   "source": [
    "#### **Ravel**\n",
    "Converting any dimensions to 1D"
   ]
  },
  {
   "cell_type": "code",
   "execution_count": 157,
   "metadata": {},
   "outputs": [
    {
     "data": {
      "text/plain": [
       "array([[ 0,  1,  2,  3],\n",
       "       [ 4,  5,  6,  7],\n",
       "       [ 8,  9, 10, 11]])"
      ]
     },
     "execution_count": 157,
     "metadata": {},
     "output_type": "execute_result"
    }
   ],
   "source": [
    "ra = np.arange(12).reshape(3,4)\n",
    "ra"
   ]
  },
  {
   "cell_type": "code",
   "execution_count": 158,
   "metadata": {},
   "outputs": [
    {
     "data": {
      "text/plain": [
       "array([ 0,  1,  2,  3,  4,  5,  6,  7,  8,  9, 10, 11])"
      ]
     },
     "execution_count": 158,
     "metadata": {},
     "output_type": "execute_result"
    }
   ],
   "source": [
    "ra.ravel()"
   ]
  },
  {
   "cell_type": "code",
   "execution_count": 159,
   "metadata": {},
   "outputs": [
    {
     "data": {
      "text/plain": [
       "array([[[0, 1],\n",
       "        [2, 3]],\n",
       "\n",
       "       [[4, 5],\n",
       "        [6, 7]]])"
      ]
     },
     "execution_count": 159,
     "metadata": {},
     "output_type": "execute_result"
    }
   ],
   "source": [
    "ra1 = np.arange(0,8).reshape(2,2,2)\n",
    "ra1"
   ]
  },
  {
   "cell_type": "code",
   "execution_count": 160,
   "metadata": {},
   "outputs": [
    {
     "data": {
      "text/plain": [
       "array([0, 1, 2, 3, 4, 5, 6, 7])"
      ]
     },
     "execution_count": 160,
     "metadata": {},
     "output_type": "execute_result"
    }
   ],
   "source": [
    "np.ravel(ra1)"
   ]
  },
  {
   "cell_type": "code",
   "execution_count": 161,
   "metadata": {},
   "outputs": [
    {
     "data": {
      "text/plain": [
       "array([1, 2, 3, 4, 5, 6])"
      ]
     },
     "execution_count": 161,
     "metadata": {},
     "output_type": "execute_result"
    }
   ],
   "source": [
    "arr = np.array([[1, 2, 3], [4, 5, 6]])\n",
    "flattened_arr = arr.flatten()\n",
    "flattened_arr"
   ]
  },
  {
   "cell_type": "code",
   "execution_count": 162,
   "metadata": {},
   "outputs": [
    {
     "data": {
      "text/plain": [
       "array([ 0,  1,  2,  3,  4,  5,  6,  7,  8,  9, 10, 11])"
      ]
     },
     "execution_count": 162,
     "metadata": {},
     "output_type": "execute_result"
    }
   ],
   "source": [
    "ra.flatten()"
   ]
  },
  {
   "cell_type": "code",
   "execution_count": 163,
   "metadata": {},
   "outputs": [
    {
     "data": {
      "text/plain": [
       "array([0, 1, 2, 3, 4, 5, 6, 7])"
      ]
     },
     "execution_count": 163,
     "metadata": {},
     "output_type": "execute_result"
    }
   ],
   "source": [
    "ra1.flatten()"
   ]
  },
  {
   "cell_type": "markdown",
   "metadata": {},
   "source": [
    "#### **Inverse of Array**"
   ]
  },
  {
   "cell_type": "code",
   "execution_count": 164,
   "metadata": {},
   "outputs": [
    {
     "name": "stdout",
     "output_type": "stream",
     "text": [
      "Original Matrix:\n",
      "[[4 7]\n",
      " [2 6]]\n",
      "\n",
      "Inverse Matrix:\n",
      "[[ 0.6 -0.7]\n",
      " [-0.2  0.4]]\n"
     ]
    }
   ],
   "source": [
    "#To invert (or find the inverse of) a NumPy array, you can use the numpy.linalg.inv()\n",
    "import numpy as np\n",
    "\n",
    "# Create a square matrix (2x2 for example)\n",
    "matrix = np.array([[4, 7],\n",
    "                   [2, 6]])\n",
    "\n",
    "# Calculate the inverse\n",
    "inverse_matrix = np.linalg.inv(matrix)\n",
    "\n",
    "# Print the original and inverse matrices\n",
    "print(\"Original Matrix:\")\n",
    "print(matrix)\n",
    "\n",
    "print(\"\\nInverse Matrix:\")\n",
    "print(inverse_matrix)"
   ]
  },
  {
   "cell_type": "markdown",
   "metadata": {},
   "source": [
    "#### **Array Concatenation** \n",
    "You can combine arrays using functions like `np.concatenate()`, `np.vstack()`, and `np.hstack()`."
   ]
  },
  {
   "cell_type": "code",
   "execution_count": 165,
   "metadata": {},
   "outputs": [
    {
     "name": "stdout",
     "output_type": "stream",
     "text": [
      "[[1 2 3]\n",
      " [4 5 6]]\n",
      "[[5 6 4]\n",
      " [5 6 1]]\n"
     ]
    },
    {
     "data": {
      "text/plain": [
       "array([[1, 2, 3, 5, 6, 4],\n",
       "       [4, 5, 6, 5, 6, 1]])"
      ]
     },
     "execution_count": 165,
     "metadata": {},
     "output_type": "execute_result"
    }
   ],
   "source": [
    "arr = np.array([[1, 2, 3], [4, 5, 6]])\n",
    "arr2 = np.array([[5,6,4],[5,6,1]])\n",
    "print(arr)\n",
    "print(arr2)\n",
    "concate = np.concatenate((arr,arr2),axis=1)\n",
    "concate"
   ]
  },
  {
   "cell_type": "markdown",
   "metadata": {},
   "source": [
    "#### **Stacking**\n",
    "Stacking is the concept of joining arrays in NumPy. Arrays having the same dimensions can be stacked"
   ]
  },
  {
   "cell_type": "code",
   "execution_count": 166,
   "metadata": {},
   "outputs": [
    {
     "data": {
      "text/plain": [
       "(array([[1, 2, 3],\n",
       "        [4, 5, 6]]),\n",
       " array([1, 2, 3, 4, 5, 6]))"
      ]
     },
     "execution_count": 166,
     "metadata": {},
     "output_type": "execute_result"
    }
   ],
   "source": [
    "arr1 = np.array([1, 2, 3])\n",
    "arr2 = np.array([4, 5, 6])\n",
    "\n",
    "vertical_stack = np.vstack((arr1, arr2))\n",
    "horizantal_stack = np.hstack((arr1, arr2))\n",
    "vertical_stack,horizantal_stack\n",
    "# assingment : create an example for -> hstack, spilt, vsplit &hsplit"
   ]
  },
  {
   "cell_type": "code",
   "execution_count": 167,
   "metadata": {},
   "outputs": [
    {
     "name": "stdout",
     "output_type": "stream",
     "text": [
      "[[ 0  1  2  3]\n",
      " [ 4  5  6  7]\n",
      " [ 8  9 10 11]]\n",
      "[[12 13 14 15]\n",
      " [16 17 18 19]\n",
      " [20 21 22 23]]\n"
     ]
    }
   ],
   "source": [
    "w1 = np.arange(12).reshape(3,4)\n",
    "w2 = np.arange(12,24).reshape(3,4)\n",
    "print(w1)\n",
    "print(w2)"
   ]
  },
  {
   "cell_type": "code",
   "execution_count": 168,
   "metadata": {},
   "outputs": [
    {
     "data": {
      "text/plain": [
       "array([[ 0,  1,  2,  3, 12, 13, 14, 15],\n",
       "       [ 4,  5,  6,  7, 16, 17, 18, 19],\n",
       "       [ 8,  9, 10, 11, 20, 21, 22, 23]])"
      ]
     },
     "execution_count": 168,
     "metadata": {},
     "output_type": "execute_result"
    }
   ],
   "source": [
    "np.hstack((w1,w2))"
   ]
  },
  {
   "cell_type": "code",
   "execution_count": 169,
   "metadata": {},
   "outputs": [
    {
     "data": {
      "text/plain": [
       "array([[ 0,  1,  2,  3],\n",
       "       [ 4,  5,  6,  7],\n",
       "       [ 8,  9, 10, 11],\n",
       "       [12, 13, 14, 15],\n",
       "       [16, 17, 18, 19],\n",
       "       [20, 21, 22, 23]])"
      ]
     },
     "execution_count": 169,
     "metadata": {},
     "output_type": "execute_result"
    }
   ],
   "source": [
    "np.vstack((w1,w2))"
   ]
  },
  {
   "cell_type": "markdown",
   "metadata": {},
   "source": [
    "#### **Splitting:**\n",
    "- its opposite of Stacking\n",
    "- Splitting arrays can be done with `np.split()`, `np.vsplit()`, and `np.hsplit()`."
   ]
  },
  {
   "cell_type": "code",
   "execution_count": 170,
   "metadata": {},
   "outputs": [
    {
     "data": {
      "text/plain": [
       "[array([1, 2]), array([3, 4]), array([5, 6])]"
      ]
     },
     "execution_count": 170,
     "metadata": {},
     "output_type": "execute_result"
    }
   ],
   "source": [
    "arr1 = np.array([1,2,3,4,5,6])\n",
    "splitting = np.split(arr1, 3)\n",
    "splitting"
   ]
  },
  {
   "cell_type": "code",
   "execution_count": 171,
   "metadata": {},
   "outputs": [
    {
     "data": {
      "text/plain": [
       "array([[ 0,  1,  2,  3],\n",
       "       [ 4,  5,  6,  7],\n",
       "       [ 8,  9, 10, 11]])"
      ]
     },
     "execution_count": 171,
     "metadata": {},
     "output_type": "execute_result"
    }
   ],
   "source": [
    "w1"
   ]
  },
  {
   "cell_type": "code",
   "execution_count": 172,
   "metadata": {},
   "outputs": [
    {
     "data": {
      "text/plain": [
       "[array([[0, 1],\n",
       "        [4, 5],\n",
       "        [8, 9]]),\n",
       " array([[ 2,  3],\n",
       "        [ 6,  7],\n",
       "        [10, 11]])]"
      ]
     },
     "execution_count": 172,
     "metadata": {},
     "output_type": "execute_result"
    }
   ],
   "source": [
    "np.hsplit(w1,2)"
   ]
  },
  {
   "cell_type": "code",
   "execution_count": 173,
   "metadata": {},
   "outputs": [
    {
     "data": {
      "text/plain": [
       "[array([[12, 13, 14, 15]]),\n",
       " array([[16, 17, 18, 19]]),\n",
       " array([[20, 21, 22, 23]])]"
      ]
     },
     "execution_count": 173,
     "metadata": {},
     "output_type": "execute_result"
    }
   ],
   "source": [
    "np.vsplit(w2,3)"
   ]
  },
  {
   "cell_type": "code",
   "execution_count": 174,
   "metadata": {},
   "outputs": [
    {
     "data": {
      "text/plain": [
       "array([[1, 3, 6],\n",
       "       [5, 8, 9],\n",
       "       [5, 5, 6]])"
      ]
     },
     "execution_count": 174,
     "metadata": {},
     "output_type": "execute_result"
    }
   ],
   "source": [
    "sp = np.array([[1,3,6],[5,8,9],[5,5,6]])\n",
    "sp"
   ]
  },
  {
   "cell_type": "code",
   "execution_count": 175,
   "metadata": {},
   "outputs": [
    {
     "data": {
      "text/plain": [
       "[array([[1],\n",
       "        [5],\n",
       "        [5]]),\n",
       " array([[3],\n",
       "        [8],\n",
       "        [5]]),\n",
       " array([[6],\n",
       "        [9],\n",
       "        [6]])]"
      ]
     },
     "execution_count": 175,
     "metadata": {},
     "output_type": "execute_result"
    }
   ],
   "source": [
    "np.hsplit(sp,3)"
   ]
  },
  {
   "cell_type": "code",
   "execution_count": 176,
   "metadata": {},
   "outputs": [
    {
     "data": {
      "text/plain": [
       "[array([[1, 3, 6]]), array([[5, 8, 9]]), array([[5, 5, 6]])]"
      ]
     },
     "execution_count": 176,
     "metadata": {},
     "output_type": "execute_result"
    }
   ],
   "source": [
    "np.vsplit(sp,3)"
   ]
  },
  {
   "cell_type": "markdown",
   "metadata": {},
   "source": [
    "### **Boolean Indexing and Fancy Indexing:**\n",
    "It allows you to select elements from an array based on a Boolean condition. This allows you to extract only the elements of an array that meet a certain condition, making it easy to perform operations on specific subsets of data."
   ]
  },
  {
   "cell_type": "code",
   "execution_count": 177,
   "metadata": {},
   "outputs": [
    {
     "name": "stdout",
     "output_type": "stream",
     "text": [
      "[False False  True  True  True]\n"
     ]
    },
    {
     "data": {
      "text/plain": [
       "(array([30, 40, 50]), array([10, 30, 50]))"
      ]
     },
     "execution_count": 177,
     "metadata": {},
     "output_type": "execute_result"
    }
   ],
   "source": [
    "arr = np.array([10, 20, 30, 40, 50])\n",
    "bool_idx = arr > 25\n",
    "print(bool_idx)\n",
    "selected_elements = arr[bool_idx]\n",
    "\n",
    "indices = np.array([0, 2, 4])\n",
    "fancy_selected = arr[indices]\n",
    "\n",
    "selected_elements,fancy_selected\n"
   ]
  },
  {
   "cell_type": "code",
   "execution_count": 178,
   "metadata": {},
   "outputs": [
    {
     "data": {
      "text/plain": [
       "array([[27, 26, 35, 63],\n",
       "       [40,  2, 21, 75],\n",
       "       [10, 67, 15,  1],\n",
       "       [79, 71, 80, 91],\n",
       "       [39, 91,  5, 75],\n",
       "       [58, 98, 73, 80]], dtype=int32)"
      ]
     },
     "execution_count": 178,
     "metadata": {},
     "output_type": "execute_result"
    }
   ],
   "source": [
    "G = np.random.randint(1,100,24).reshape(6,4)\n",
    "G"
   ]
  },
  {
   "cell_type": "code",
   "execution_count": 179,
   "metadata": {},
   "outputs": [
    {
     "data": {
      "text/plain": [
       "array([[False, False, False,  True],\n",
       "       [False, False, False,  True],\n",
       "       [False,  True, False, False],\n",
       "       [ True,  True,  True,  True],\n",
       "       [False,  True, False,  True],\n",
       "       [ True,  True,  True,  True]])"
      ]
     },
     "execution_count": 179,
     "metadata": {},
     "output_type": "execute_result"
    }
   ],
   "source": [
    "G > 50"
   ]
  },
  {
   "cell_type": "code",
   "execution_count": 180,
   "metadata": {},
   "outputs": [
    {
     "data": {
      "text/plain": [
       "array([63, 75, 67, 79, 71, 80, 91, 91, 75, 58, 98, 73, 80], dtype=int32)"
      ]
     },
     "execution_count": 180,
     "metadata": {},
     "output_type": "execute_result"
    }
   ],
   "source": [
    "# Where is True , it gives result , everything other that removed.\n",
    "G[G > 50]"
   ]
  },
  {
   "cell_type": "code",
   "execution_count": 181,
   "metadata": {},
   "outputs": [
    {
     "data": {
      "text/plain": [
       "array([[False,  True, False, False],\n",
       "       [ True,  True, False, False],\n",
       "       [ True, False, False, False],\n",
       "       [False, False,  True, False],\n",
       "       [False, False, False, False],\n",
       "       [ True,  True, False,  True]])"
      ]
     },
     "execution_count": 181,
     "metadata": {},
     "output_type": "execute_result"
    }
   ],
   "source": [
    "G % 2 == 0"
   ]
  },
  {
   "cell_type": "code",
   "execution_count": 182,
   "metadata": {},
   "outputs": [
    {
     "data": {
      "text/plain": [
       "array([26, 40,  2, 10, 80, 58, 98, 80], dtype=int32)"
      ]
     },
     "execution_count": 182,
     "metadata": {},
     "output_type": "execute_result"
    }
   ],
   "source": [
    "# find out even numbers\n",
    "G[G % 2 == 0]"
   ]
  },
  {
   "cell_type": "code",
   "execution_count": 183,
   "metadata": {},
   "outputs": [
    {
     "data": {
      "text/plain": [
       "array([80, 58, 98, 80], dtype=int32)"
      ]
     },
     "execution_count": 183,
     "metadata": {},
     "output_type": "execute_result"
    }
   ],
   "source": [
    "# find all numbers greater than 50 and are even\n",
    "G[(G > 50) & (G % 2 == 0)] "
   ]
  },
  {
   "cell_type": "code",
   "execution_count": 184,
   "metadata": {},
   "outputs": [
    {
     "data": {
      "text/plain": [
       "array([27, 26, 40,  2, 75, 10, 67, 15,  1, 79, 71, 80, 39,  5, 75, 58, 73,\n",
       "       80], dtype=int32)"
      ]
     },
     "execution_count": 184,
     "metadata": {},
     "output_type": "execute_result"
    }
   ],
   "source": [
    "# Result\n",
    "G[~(G % 7 == 0)] # (~) = Not"
   ]
  },
  {
   "cell_type": "code",
   "execution_count": 185,
   "metadata": {},
   "outputs": [
    {
     "data": {
      "text/plain": [
       "array([[27, 26, 35, 63],\n",
       "       [40,  2, 21, 75],\n",
       "       [10, 67, 15,  1],\n",
       "       [79, 71, 80, 91],\n",
       "       [39, 91,  5, 75],\n",
       "       [58, 98, 73, 80]], dtype=int32)"
      ]
     },
     "execution_count": 185,
     "metadata": {},
     "output_type": "execute_result"
    }
   ],
   "source": [
    "G"
   ]
  },
  {
   "cell_type": "code",
   "execution_count": 186,
   "metadata": {},
   "outputs": [
    {
     "data": {
      "text/plain": [
       "array([[27, 26, 35, 63],\n",
       "       [10, 67, 15,  1],\n",
       "       [39, 91,  5, 75]], dtype=int32)"
      ]
     },
     "execution_count": 186,
     "metadata": {},
     "output_type": "execute_result"
    }
   ],
   "source": [
    "G[np.array([0, 2, 4])]"
   ]
  },
  {
   "cell_type": "markdown",
   "metadata": {},
   "source": [
    "### **Array Broadcasting:**\n",
    "Broadcasting allows you to perform operations between arrays of different shapes. \n",
    "\n",
    "NumPy automatically handles shape compatibility by replicating values along dimensions as needed. This is particularly useful for operations that involve arrays of different shapes."
   ]
  },
  {
   "cell_type": "code",
   "execution_count": 187,
   "metadata": {},
   "outputs": [
    {
     "data": {
      "text/plain": [
       "array([ 5, 10, 15, 20, 25])"
      ]
     },
     "execution_count": 187,
     "metadata": {},
     "output_type": "execute_result"
    }
   ],
   "source": [
    "# Scalar and Array Broadcasting\n",
    "scalar = 5\n",
    "array = np.array([1, 2, 3, 4, 5])\n",
    "result_scalar_array = scalar * array\n",
    "result_scalar_array"
   ]
  },
  {
   "cell_type": "code",
   "execution_count": 188,
   "metadata": {},
   "outputs": [
    {
     "data": {
      "text/plain": [
       "((2, 3),\n",
       " (3,),\n",
       " array([[ 10,  40,  90],\n",
       "        [ 40, 100, 180]]))"
      ]
     },
     "execution_count": 188,
     "metadata": {},
     "output_type": "execute_result"
    }
   ],
   "source": [
    "# Arrays of Different Shapes\n",
    "arr1 = np.array([[1, 2, 3], [4, 5, 6]])\n",
    "arr2 = np.array([10, 20, 30])\n",
    "result_broadcasting = arr1 * arr2\n",
    "arr1.shape,arr2.shape,result_broadcasting"
   ]
  },
  {
   "cell_type": "markdown",
   "metadata": {},
   "source": [
    "### **File I/O with NumPy:**\n",
    "You can save and load arrays to/from files using np.save() and np.load(). For instance:"
   ]
  },
  {
   "cell_type": "code",
   "execution_count": 189,
   "metadata": {},
   "outputs": [],
   "source": [
    "arr = np.array([[1, 2, 3],[4,5,6]])\n",
    "np.save('my_array.npy', arr)"
   ]
  },
  {
   "cell_type": "code",
   "execution_count": 190,
   "metadata": {},
   "outputs": [
    {
     "data": {
      "text/plain": [
       "array([[1, 2, 3],\n",
       "       [4, 5, 6]])"
      ]
     },
     "execution_count": 190,
     "metadata": {},
     "output_type": "execute_result"
    }
   ],
   "source": [
    "arr"
   ]
  },
  {
   "cell_type": "code",
   "execution_count": 191,
   "metadata": {},
   "outputs": [
    {
     "data": {
      "text/plain": [
       "array([[1, 2, 3],\n",
       "       [4, 5, 6]])"
      ]
     },
     "execution_count": 191,
     "metadata": {},
     "output_type": "execute_result"
    }
   ],
   "source": [
    "loaded_arr = np.load('my_array.npy')\n",
    "loaded_arr"
   ]
  },
  {
   "cell_type": "code",
   "execution_count": 192,
   "metadata": {},
   "outputs": [
    {
     "data": {
      "text/plain": [
       "array([2, 4, 6])"
      ]
     },
     "execution_count": 192,
     "metadata": {},
     "output_type": "execute_result"
    }
   ],
   "source": [
    "loaded_arr[loaded_arr % 2==0]"
   ]
  }
 ],
 "metadata": {
  "kernelspec": {
   "display_name": "Python 3",
   "language": "python",
   "name": "python3"
  },
  "language_info": {
   "codemirror_mode": {
    "name": "ipython",
    "version": 3
   },
   "file_extension": ".py",
   "mimetype": "text/x-python",
   "name": "python",
   "nbconvert_exporter": "python",
   "pygments_lexer": "ipython3",
   "version": "3.13.1"
  }
 },
 "nbformat": 4,
 "nbformat_minor": 4
}
