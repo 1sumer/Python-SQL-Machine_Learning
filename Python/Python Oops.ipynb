{
 "cells": [
  {
   "cell_type": "markdown",
   "metadata": {},
   "source": [
    "## **Object-oriented Programming (OOPs)**"
   ]
  },
  {
   "cell_type": "markdown",
   "metadata": {},
   "source": [
    "Object-Oriented Programming (OOP) is a fundamental programming paradigm that organizes software design around objects rather than functions and logic. Python is a versatile language that fully supports OOP principles, making it easier to build complex, reusable, and maintainable code.\n",
    "\n",
    "- Class\n",
    "- Objects\n",
    "- Encapsulation\n",
    "- Inheritance\n",
    "- Polymorphism\n",
    "- Abstraction\n",
    "- Special Methods (Magic Methods)"
   ]
  },
  {
   "cell_type": "markdown",
   "metadata": {},
   "source": [
    "- **Class**: A class is a blueprint or template for creating objects. It defines a set of attributes (variables) and methods (functions) that the objects created from the class will have.\n",
    "\n",
    "- **Object**: An instence of a class. When a class is defined, no memory is allocated until an object of that class is created.\n",
    "\n",
    "- **Encapsulation**: Encapsulation is the concept of bundling data (attributes) and methods that work on that data within a class, restricting direct access to some of the class's components.\n",
    "\n",
    "- **Inheritance**: Inheritance allows a class to inherit attributes and methods from another class. The class that inherits is called the child class, and the class it inherits from is called the parent class.\n",
    "\n",
    "- **Polymorphism**: Polymorphism allows methods to perform differently based on the object on which they are called, even though they share the same name.\n",
    "\n",
    "- **Abstraction**: Abstraction hides the complex implementation details and only exposes the essential features to the user."
   ]
  },
  {
   "cell_type": "markdown",
   "metadata": {},
   "source": [
    "#### **Python Class**\n",
    "A class is a blueprint or template for creating objects. It defines a set of attributes (variables) and methods (functions) that the objects created from the class will have.\n",
    "\n",
    "**Purpose:** Classes allow for the organization of data and functionality, encapsulating behavior and attributes.\n",
    "\n",
    "Some points on Python class:  \n",
    "- Classes are created by keyword class.\n",
    "- Attributes are the variables that belong to a class.\n",
    "- Attributes are always public and can be accessed using the dot (.) operator. Eg.: Myclass.Myattribute\n",
    "\n",
    "Class Definition Syntax:"
   ]
  },
  {
   "cell_type": "markdown",
   "metadata": {},
   "source": [
    "#### **Attributes and Methods**\n",
    "- Attributes: Variables that belong to an object or class. They store data related to the class.\n",
    "- Methods: Functions defined inside a class that operate on the attributes of the class."
   ]
  },
  {
   "cell_type": "code",
   "execution_count": null,
   "metadata": {},
   "outputs": [],
   "source": [
    "class ClassName:\n",
    "   # Statement-1\n",
    "   .\n",
    "   .\n",
    "   .\n",
    "   # Statement-N"
   ]
  },
  {
   "cell_type": "code",
   "execution_count": null,
   "metadata": {},
   "outputs": [
    {
     "name": "stdout",
     "output_type": "stream",
     "text": [
      "Blu is 10 years old\n"
     ]
    }
   ],
   "source": [
    "class Parrot:\n",
    "\n",
    "    # class attribute\n",
    "    name = \"\"\n",
    "    age = 0\n",
    "\n",
    "# create parrot1 object\n",
    "parrot1 = Parrot()\n",
    "\n",
    "parrot1.name = \"Blu\"\n",
    "parrot1.age = 10\n",
    "\n",
    "# access attributes\n",
    "print(f\"{parrot1.name} is {parrot1.age} years old\")"
   ]
  },
  {
   "cell_type": "markdown",
   "metadata": {},
   "source": [
    "#### **self**\n",
    "- self refers to the instance of the class. It allows access to the instance's attributes and methods within the class.\n",
    "- Purpose: self differentiates between instance-specific data and class-level data, making it possible to operate on the correct instance of the class.\n",
    "\n",
    "### **Constructor (`__init__`)**\n",
    "- The constructor method (`__init__`) is called automatically when a new object is created from a class. It is used to initialize the object's attributes with values.\n",
    "- Purpose: It sets the initial state of the object when it is instantiated."
   ]
  },
  {
   "cell_type": "code",
   "execution_count": 3,
   "metadata": {},
   "outputs": [
    {
     "name": "stdout",
     "output_type": "stream",
     "text": [
      "15.0\n",
      "5.0\n"
     ]
    }
   ],
   "source": [
    "class calculator:\n",
    "    def __init__(self, a, b):\n",
    "        self.a = a\n",
    "        self.b = b\n",
    "\n",
    "    def add(self):\n",
    "        return self.a + self.b\n",
    "    \n",
    "    def sub(self):\n",
    "        return self.a - self.b\n",
    "    \n",
    "    def mul(self):\n",
    "        return self.a * self.b\n",
    "    \n",
    "    def div(self):\n",
    "        if self.b == 0:\n",
    "            return \"Cannot divide by zero\"\n",
    "        else:\n",
    "            return self.a / self.b\n",
    "\n",
    "a = float(input(\"Enter first number: \"))\n",
    "b = float(input(\"Enter second number: \"))  \n",
    "\n",
    "value = calculator(a, b)\n",
    "print(value.add())\n",
    "print(value.sub())"
   ]
  },
  {
   "cell_type": "markdown",
   "metadata": {},
   "source": [
    "#### **Python Objects**\n",
    "An object is an instance of a class. It is created from a class and represents a specific example of the class.\n",
    "\n",
    "**Purpose:** Objects hold actual values for the attributes defined by the class and use the class’s methods to perform actions."
   ]
  },
  {
   "cell_type": "code",
   "execution_count": 4,
   "metadata": {},
   "outputs": [
    {
     "name": "stdout",
     "output_type": "stream",
     "text": [
      "30\n"
     ]
    }
   ],
   "source": [
    "add1 = calculator(10, 20)\n",
    "print(add1.add())"
   ]
  },
  {
   "cell_type": "code",
   "execution_count": null,
   "metadata": {},
   "outputs": [
    {
     "name": "stdout",
     "output_type": "stream",
     "text": [
      "The number 15 is not divisible by 2\n",
      "The number 15 is divisible by 3\n"
     ]
    }
   ],
   "source": [
    "class divisible:\n",
    "    def __init__(self, num):\n",
    "        self.num = num\n",
    "\n",
    "    def divmod2(self):\n",
    "        if self.num%2==0:\n",
    "            print(f\"The number {self.num} is divisible by 2\")\n",
    "        else:\n",
    "            print(f\"The number {self.num} is not divisible by 2\")\n",
    "\n",
    "    def divmod3(self):\n",
    "        if self.num%3==0:\n",
    "            print(f\"The number {self.num} is divisible by 3\")\n",
    "        else:\n",
    "            print(f\"The number {self.num} is not divisible by 3\")\n",
    "            \n",
    "divisible1 = divisible(15)\n",
    "divisible1.divmod2()\n",
    "divisible1.divmod3()"
   ]
  },
  {
   "cell_type": "code",
   "execution_count": 3,
   "metadata": {},
   "outputs": [
    {
     "name": "stdout",
     "output_type": "stream",
     "text": [
      "Divisible by 2 \n",
      "\n",
      "10\n",
      "12\n",
      "14\n",
      "None\n",
      "Divisible by 3 \n",
      "\n",
      "12\n",
      "15\n",
      "None\n"
     ]
    }
   ],
   "source": [
    "class divisible:\n",
    "    def __init__(self, num):\n",
    "        self.num = num\n",
    "\n",
    "    def divmod2(self):\n",
    "        print(\"Divisible by 2 \\n\")\n",
    "        for i in self.num:\n",
    "            \n",
    "            if i%2==0:\n",
    "                print(i)\n",
    "            else:\n",
    "                pass\n",
    "    \n",
    "    def divmod3(self):\n",
    "        print(\"Divisible by 3 \\n\")\n",
    "        for i in self.num:\n",
    "            if i%3==0:\n",
    "                print(i)\n",
    "            else:\n",
    "                pass     \n",
    "            \n",
    "div2 = divisible([10,12,15,14,19])\n",
    "print(div2.divmod2())\n",
    "print(div2.divmod3())"
   ]
  },
  {
   "cell_type": "code",
   "execution_count": 5,
   "metadata": {},
   "outputs": [
    {
     "data": {
      "text/plain": [
       "'Hello, Veeresh'"
      ]
     },
     "execution_count": 5,
     "metadata": {},
     "output_type": "execute_result"
    }
   ],
   "source": [
    "class greet:\n",
    "    def __init__(self, name):\n",
    "        self.name = name\n",
    "\n",
    "    def say(self):\n",
    "        return f\"Hello, {self.name}\"\n",
    "\n",
    "greeting = greet(\"Veeresh\")\n",
    "greeting.say()"
   ]
  },
  {
   "cell_type": "markdown",
   "metadata": {},
   "source": [
    "#### **Creating a class and object with class and instance attributes**"
   ]
  },
  {
   "cell_type": "code",
   "execution_count": 6,
   "metadata": {},
   "outputs": [
    {
     "name": "stdout",
     "output_type": "stream",
     "text": [
      "20\n"
     ]
    }
   ],
   "source": [
    "class Foo:\n",
    "    def __init__(self,x):\n",
    "        self.x=x\n",
    "        \n",
    "    def foo(self, y):\n",
    "        print(self.x+y)\n",
    "\n",
    "f = Foo(10)\n",
    "f.foo(10)"
   ]
  },
  {
   "cell_type": "code",
   "execution_count": 8,
   "metadata": {},
   "outputs": [
    {
     "name": "stdout",
     "output_type": "stream",
     "text": [
      "Toyota\n",
      "Civic\n",
      "Total number of cars: 3\n",
      "Toyota, Camry\n",
      "Honda, Civic\n",
      "Ford, Mustang\n"
     ]
    }
   ],
   "source": [
    "class Car:\n",
    "    # Class attribute\n",
    "    car_count = 0\n",
    "\n",
    "    def __init__(self, make, model):\n",
    "        # Instance attributes\n",
    "        self.make = make\n",
    "        self.model = model\n",
    "        # Increment the class attribute when a new instance is created\n",
    "        Car.car_count += 1\n",
    "\n",
    "    def display_info(self):\n",
    "        print(f\"{self.make}, {self.model}\")\n",
    "\n",
    "# Creating objects (instances) of the Car class\n",
    "car1 = Car(\"Toyota\", \"Camry\")\n",
    "car2 = Car(\"Honda\", \"Civic\")\n",
    "car3 = Car(\"Ford\", \"Mustang\")\n",
    "\n",
    "# Accessing instance attributes\n",
    "print(car1.make)  \n",
    "print(car2.model) \n",
    "\n",
    "# Accessing class attribute\n",
    "print(\"Total number of cars:\", Car.car_count) \n",
    "\n",
    "# Calling a method of the class\n",
    "car1.display_info()\n",
    "car2.display_info()\n",
    "car3.display_info()  "
   ]
  },
  {
   "cell_type": "markdown",
   "metadata": {},
   "source": [
    "The Calculator class is defined with two attributes:"
   ]
  },
  {
   "cell_type": "code",
   "execution_count": 7,
   "metadata": {},
   "outputs": [
    {
     "name": "stdout",
     "output_type": "stream",
     "text": [
      "Addition: 90.0\n",
      "Subtraction: 70.0\n",
      "Multiplication: 800.0\n",
      "Division: 8.0\n"
     ]
    }
   ],
   "source": [
    "class Calculator:\n",
    "    def __init__(self, x, y):\n",
    "        self.x = x\n",
    "        self.y = y\n",
    "\n",
    "    def add(self):\n",
    "        return self.x + self.y\n",
    "\n",
    "    def subtract(self):\n",
    "        return self.x - self.y\n",
    "\n",
    "    def multiply(self):\n",
    "        return self.x * self.y\n",
    "\n",
    "    def divide(self):\n",
    "        try:\n",
    "            return self.x / self.y\n",
    "        except ZeroDivisionError:\n",
    "            return \"Cannot divide by zero\"\n",
    "        \n",
    "\n",
    "# Creating an object (instance) of the Calculator class\n",
    "x = float(input(\"Enter the first number: \"))\n",
    "y = float(input(\"Enter the second number: \"))\n",
    "\n",
    "calc = Calculator(x, y)\n",
    "\n",
    "# Using methods of the class\n",
    "result_add = calc.add()\n",
    "result_subtract = calc.subtract()\n",
    "result_multiply = calc.multiply()\n",
    "result_divide = calc.divide()\n",
    "\n",
    "# Displaying results\n",
    "print(\"Addition:\", result_add)  \n",
    "print(\"Subtraction:\", result_subtract)  \n",
    "print(\"Multiplication:\", result_multiply)  \n",
    "print(\"Division:\", result_divide)"
   ]
  },
  {
   "cell_type": "markdown",
   "metadata": {},
   "source": [
    "#### **Encapsulation**\n",
    "\n",
    "- Encapsulation is the concept of bundling data (attributes) and methods that work on that data within a class, restricting direct access to some of the class's components.\n",
    "- Purpose: Encapsulation ensures that an object’s internal state is hidden and only accessible through well-defined methods, which protect the integrity of the object.\n",
    "\n",
    "**Key Points:**\n",
    "\n",
    "- Data Hiding: Private attributes cannot be accessed directly from outside the class, promoting data integrity.\n",
    "- Access Control: Methods like deposit and withdraw control how the balance can be modified."
   ]
  },
  {
   "cell_type": "code",
   "execution_count": null,
   "metadata": {},
   "outputs": [
    {
     "name": "stdout",
     "output_type": "stream",
     "text": [
      "John\n",
      "John\n"
     ]
    }
   ],
   "source": [
    "class person:\n",
    "    def __init__(self, name, age):\n",
    "        self.name = name \n",
    "        self.age = age\n",
    "\n",
    "    def displayname(self):\n",
    "        print(self.name)\n",
    "\n",
    "obj = person(\"John\", 30)\n",
    "print(obj.name)\n",
    "obj.displayname()"
   ]
  },
  {
   "cell_type": "code",
   "execution_count": 17,
   "metadata": {},
   "outputs": [
    {
     "name": "stdout",
     "output_type": "stream",
     "text": [
      "John\n",
      "30\n"
     ]
    }
   ],
   "source": [
    "class person:\n",
    "    def __init__(self, name, age):\n",
    "        self.__name = name #pravite atribute\n",
    "        self.__age = age\n",
    "\n",
    "    def displayname(self):\n",
    "        print(self.__name)\n",
    "        print(self.__age)\n",
    "\n",
    "obj = person(\"John\", 30)\n",
    "obj.displayname()"
   ]
  },
  {
   "cell_type": "code",
   "execution_count": 22,
   "metadata": {},
   "outputs": [
    {
     "name": "stdout",
     "output_type": "stream",
     "text": [
      "Account Holder Name : Veeresh\n",
      "Balance in The Account : 1300\n"
     ]
    }
   ],
   "source": [
    "class BankAccount:\n",
    "    def __init__(self, balance, Name):\n",
    "        self.__balance = balance  # Private attribute\n",
    "        self.__Name = Name\n",
    "\n",
    "    def deposit(self, amount):\n",
    "        self.__balance += amount\n",
    "\n",
    "    def withdraw(self, amount):\n",
    "        if self.__balance >= amount:\n",
    "            self.__balance -= amount\n",
    "        else:\n",
    "            print(\"Insufficient funds\")\n",
    "\n",
    "    def get_balance(self):\n",
    "        return self.__balance\n",
    "    \n",
    "    def get_name(self):\n",
    "        return self.__Name\n",
    "\n",
    "account = BankAccount(1000, 'Veeresh')\n",
    "account.deposit(500)\n",
    "account.withdraw(200)\n",
    "print(f\"Account Holder Name : {account.get_name()}\")\n",
    "print(f\"Balance in The Account : {account.get_balance()}\")"
   ]
  },
  {
   "cell_type": "code",
   "execution_count": 24,
   "metadata": {},
   "outputs": [
    {
     "name": "stdout",
     "output_type": "stream",
     "text": [
      "Color: red, Model: toyota, Year: 2010\n",
      "Mileage of a car : 100\n"
     ]
    }
   ],
   "source": [
    "class Car:\n",
    "    def __init__(self, color, model, year):\n",
    "        self.color = color\n",
    "        self.model = model\n",
    "        self.year = year\n",
    "        self.__mileage = 0\n",
    "\n",
    "    def drive(self, miles):\n",
    "        if miles > 0:\n",
    "            self.__mileage += miles\n",
    "            \n",
    "    def get_mileage(self):\n",
    "        return f\"Mileage of a car : {self.__mileage}\"\n",
    "        \n",
    "    def get_car_detaile(self):\n",
    "        return f\"Color: {self.color}, Model: {self.model}, Year: {self.year}\"\n",
    "\n",
    "my_car = Car(\"red\", \"toyota\", 2010)\n",
    "\n",
    "my_car.drive(100)\n",
    "print(my_car.get_car_detaile())\n",
    "print(my_car.get_mileage())"
   ]
  },
  {
   "cell_type": "markdown",
   "metadata": {},
   "source": [
    "#### **Inheritance**\n",
    "- Inheritance allows a class to inherit attributes and methods from another class. The class that inherits is called the child class, and the class it inherits from is called the parent class.\n",
    "- Purpose: It promotes code reusability by allowing new classes to use the functionality of existing classes without rewriting them.\n",
    "\n",
    "**Types of Inheritance in Python:**\n",
    "\n",
    "- Single Inheritance: A subclass inherits from one superclass.\n",
    "- Multiple Inheritance: A subclass inherits from multiple superclasses.\n",
    "- Multilevel Inheritance: A subclass inherits from a superclass, which in turn inherits from another superclass.\n",
    "- Hierarchical Inheritance: Multiple subclasses inherit from a single superclass.\n",
    "\n",
    "**Key Points:**\n",
    "\n",
    "- Method Overriding: Subclasses can override methods from the superclass to provide specific behavior.\n",
    "- super() Function: Used to call methods from the superclass within the subclass."
   ]
  },
  {
   "cell_type": "code",
   "execution_count": 25,
   "metadata": {},
   "outputs": [
    {
     "name": "stdout",
     "output_type": "stream",
     "text": [
      "Sameer Pasha\n"
     ]
    }
   ],
   "source": [
    "class Person:\n",
    "    def __init__(self, fname, lname):\n",
    "        self.firstname = fname\n",
    "        self.lastname = lname\n",
    "\n",
    "    def printname(self):\n",
    "        print(self.firstname, self.lastname)\n",
    "\n",
    "class student(Person):\n",
    "    pass\n",
    "\n",
    "x = student(\"Sameer\", \"Pasha\")\n",
    "x.printname()"
   ]
  },
  {
   "cell_type": "code",
   "execution_count": 20,
   "metadata": {},
   "outputs": [
    {
     "name": "stdout",
     "output_type": "stream",
     "text": [
      "Buddy\n",
      "Woof!\n",
      "Whiskers\n",
      "Meow!\n"
     ]
    }
   ],
   "source": [
    "class Animal:\n",
    "    def __init__(self, name):\n",
    "        self.name = name\n",
    "    \n",
    "    def speak(self):\n",
    "        return \"Some generic sound\"\n",
    "    \n",
    "class Dog(Animal):\n",
    "    def speak(self):\n",
    "        return \"Woof!\"\n",
    "    \n",
    "class Cat(Animal):\n",
    "    def speak(self):\n",
    "        return \"Meow!\"\n",
    "\n",
    "dog = Dog(\"Buddy\")\n",
    "cat = Cat(\"Whiskers\")\n",
    "\n",
    "print(dog.name)       \n",
    "print(dog.speak())     \n",
    "\n",
    "print(cat.name)        \n",
    "print(cat.speak())     \n"
   ]
  },
  {
   "cell_type": "code",
   "execution_count": 27,
   "metadata": {},
   "outputs": [
    {
     "name": "stdout",
     "output_type": "stream",
     "text": [
      "10 is divisible by 2\n"
     ]
    }
   ],
   "source": [
    "class number:\n",
    "    def __init__(self, value):\n",
    "        self.value = value\n",
    "\n",
    "    def is_divisible_by(self):\n",
    "        return self.value % 2 == 0\n",
    "\n",
    "class Specialnumber(number):\n",
    "    def check_divisible(self):\n",
    "        if self.is_divisible_by():\n",
    "            print(f\"{self.value} is divisible by 2\")\n",
    "        else:\n",
    "            print(f\"{self.value} is not divisible by 2\")\n",
    "\n",
    "if __name__ == '__main__':\n",
    "    num = Specialnumber(10)\n",
    "    num.check_divisible()"
   ]
  },
  {
   "cell_type": "code",
   "execution_count": 2,
   "metadata": {},
   "outputs": [
    {
     "name": "stdout",
     "output_type": "stream",
     "text": [
      "Flying\n",
      "Swimming\n",
      "Quack!\n"
     ]
    }
   ],
   "source": [
    "# Multiple Inheritance:\n",
    "class Flyer:\n",
    "    def fly(self):\n",
    "        return \"Flying\"\n",
    "    \n",
    "class Swimmer:\n",
    "    def swim(self):\n",
    "        return \"Swimming\"\n",
    "    \n",
    "class Duck(Flyer, Swimmer):\n",
    "    def quack(self):\n",
    "        return \"Quack!\"\n",
    "\n",
    "donald = Duck()\n",
    "print(donald.fly())    \n",
    "print(donald.swim())   \n",
    "print(donald.quack())  "
   ]
  },
  {
   "cell_type": "code",
   "execution_count": null,
   "metadata": {},
   "outputs": [
    {
     "name": "stdout",
     "output_type": "stream",
     "text": [
      "The number 10 is divisible by 2.\n"
     ]
    }
   ],
   "source": [
    "# Base class\n",
    "class Number:\n",
    "    def __init__(self, value):\n",
    "        self.value = value\n",
    "    \n",
    "    def is_divisible_by_2(self):\n",
    "        return self.value % 2 == 0\n",
    "\n",
    "# Derived class\n",
    "class SpecialNumber(Number):\n",
    "    def __init__(self, value):\n",
    "        super().__init__(value) \n",
    "\n",
    "    def check_divisibility(self):\n",
    "        if self.is_divisible_by_2():\n",
    "            print(f\"The number {self.value} is divisible by 2.\")\n",
    "        else:\n",
    "            print(f\"The number {self.value} is not divisible by 2.\")\n",
    "\n",
    "# Example usage\n",
    "if __name__ == \"__main__\":\n",
    "    num = SpecialNumber(10)  \n",
    "    num.check_divisibility()"
   ]
  },
  {
   "cell_type": "code",
   "execution_count": 4,
   "metadata": {},
   "outputs": [],
   "source": [
    "class Person:\n",
    "    ## Constructor\n",
    "    def __init__(self, name, age):\n",
    "        self.__name = name\n",
    "        self.__age = age\n",
    "\n",
    "    def get_name(self):\n",
    "        return self.__name\n",
    "\n",
    "    def get_age(self):\n",
    "        return self.__age"
   ]
  },
  {
   "cell_type": "code",
   "execution_count": 5,
   "metadata": {},
   "outputs": [
    {
     "name": "stdout",
     "output_type": "stream",
     "text": [
      "Student Details:\n",
      "-----------------\n",
      "Name: John\n",
      "Age: 20\n",
      "Roll No: 101\n"
     ]
    }
   ],
   "source": [
    "class student(Person):\n",
    "    def __init__(self, name, age, rollno):\n",
    "        super().__init__(name, age)\n",
    "        self.rollno = rollno\n",
    "\n",
    "    def display(self):\n",
    "        print(\"Student Details:\")\n",
    "        print(\"-----------------\")\n",
    "        name1 = super().get_name()\n",
    "        print(\"Name:\", name1)\n",
    "        print(\"Age:\", self.get_age())\n",
    "        print(\"Roll No:\", self.rollno)\n",
    "\n",
    "student1 = student(\"John\", 20, 101)\n",
    "student1.display()"
   ]
  },
  {
   "cell_type": "code",
   "execution_count": 6,
   "metadata": {},
   "outputs": [
    {
     "name": "stdout",
     "output_type": "stream",
     "text": [
      "Name: Rahul, Reg: 101, Branch: CSE\n"
     ]
    }
   ],
   "source": [
    "class Branch(student):\n",
    "    def __init__(self, name, age, rollno, branch):\n",
    "        super().__init__(name, age, rollno)\n",
    "        self.rollno = rollno\n",
    "        self.branch = branch \n",
    "\n",
    "    def get_branch(self):\n",
    "        name2 = super().get_name()\n",
    "        return f\"Name: {name2}, Reg: {self.rollno}, Branch: {self.branch}\"\n",
    "\n",
    "obj = Branch(\"Rahul\",20,101,\"CSE\")\n",
    "print(obj.get_branch())"
   ]
  },
  {
   "cell_type": "code",
   "execution_count": 28,
   "metadata": {},
   "outputs": [
    {
     "name": "stdout",
     "output_type": "stream",
     "text": [
      "Brand: Toyota, Model: Corolla\n"
     ]
    }
   ],
   "source": [
    "# Using super():\n",
    "class Vehicle:\n",
    "    def __init__(self, brand):\n",
    "        self.brand = brand\n",
    "    \n",
    "    def info(self):\n",
    "        return f\"Brand: {self.brand}\"\n",
    "\n",
    "class Car(Vehicle):\n",
    "    def __init__(self, brand, model):\n",
    "        super().__init__(brand)  # Call the superclass constructor\n",
    "        self.model = model\n",
    "    \n",
    "    def info(self):\n",
    "        parent_info = super().info()\n",
    "        return f\"{parent_info}, Model: {self.model}\"\n",
    "\n",
    "car = Car(\"Toyota\", \"Corolla\")\n",
    "print(car.info())  "
   ]
  },
  {
   "cell_type": "markdown",
   "metadata": {},
   "source": [
    "#### **Polymorphism**\n",
    "\n",
    "- Polymorphism allows methods to perform differently based on the object on which they are called, even though they share the same name.\n",
    "- Purpose: It enables one interface to be used for a general class of actions, making code more flexible and extensible.\n",
    "\n",
    "**Key Points:**\n",
    "\n",
    "- Flexibility: Functions can operate on any object that implements the required methods, regardless of their class hierarchy.\n",
    "- No Need for Shared Superclass: Unlike traditional OOP languages, Python doesn't require classes to share a common superclass to use polymorphism."
   ]
  },
  {
   "cell_type": "code",
   "execution_count": 69,
   "metadata": {},
   "outputs": [
    {
     "name": "stdout",
     "output_type": "stream",
     "text": [
      "Welcome to ws  \n",
      "Welcome to ws Rahul\n"
     ]
    }
   ],
   "source": [
    "## polymorphism\n",
    "# 1. Overloading\n",
    "# 2. Overriding\n",
    "\n",
    "# Overloading\n",
    "class ws:\n",
    "    def displayinfo(self, name=' '):\n",
    "        print(\"Welcome to ws \"+name)\n",
    "\n",
    "obj=ws()\n",
    "obj.displayinfo()\n",
    "obj.displayinfo(\"Rahul\")"
   ]
  },
  {
   "cell_type": "code",
   "execution_count": 75,
   "metadata": {},
   "outputs": [
    {
     "data": {
      "text/plain": [
       "3"
      ]
     },
     "execution_count": 75,
     "metadata": {},
     "output_type": "execute_result"
    }
   ],
   "source": [
    "class add:\n",
    "    def sum(self,a,b):\n",
    "        return a+b\n",
    "\n",
    "s = add()\n",
    "s.sum(1, 2)"
   ]
  },
  {
   "cell_type": "code",
   "execution_count": 11,
   "metadata": {},
   "outputs": [
    {
     "name": "stdout",
     "output_type": "stream",
     "text": [
      "1\n",
      "3\n",
      "6\n"
     ]
    }
   ],
   "source": [
    "class MathOperations:\n",
    "    def add(self, a, b=0, c=None):\n",
    "        if c is not None:\n",
    "            return a + b + c\n",
    "        return a + b\n",
    "\n",
    "# Example usage\n",
    "if __name__ == \"__main__\":\n",
    "    math = MathOperations()\n",
    "    print(math.add(1))\n",
    "    print(math.add(1, 2))    \n",
    "    print(math.add(1, 2, 3))     \n"
   ]
  },
  {
   "cell_type": "code",
   "execution_count": 18,
   "metadata": {},
   "outputs": [
    {
     "name": "stdout",
     "output_type": "stream",
     "text": [
      "Welcome to ws \n",
      "Welcome to ws1 Python\n"
     ]
    }
   ],
   "source": [
    "# Overriding\n",
    "class ws:\n",
    "    def displayinfo(self):\n",
    "        print(\"Welcome to ws \")\n",
    "\n",
    "class ws1(ws):\n",
    "    def displayinfo(self, name):\n",
    "        super().displayinfo()\n",
    "        print(\"Welcome to ws1\", name)\n",
    "\n",
    "obj=ws1()\n",
    "obj.displayinfo(\"Python\")"
   ]
  },
  {
   "cell_type": "code",
   "execution_count": 9,
   "metadata": {},
   "outputs": [
    {
     "data": {
      "text/plain": [
       "'Jet speed'"
      ]
     },
     "execution_count": 9,
     "metadata": {},
     "output_type": "execute_result"
    }
   ],
   "source": [
    "class Bird:\n",
    "    def fly(self):\n",
    "        return \"Flying high\"\n",
    "\n",
    "class Airplane(Bird):\n",
    "    def fly(self):\n",
    "        super().fly()  # Call the parent class method\n",
    "        return \"Jet speed\"\n",
    "\n",
    "OBJ = Airplane()\n",
    "OBJ.fly()"
   ]
  },
  {
   "cell_type": "code",
   "execution_count": 13,
   "metadata": {},
   "outputs": [],
   "source": [
    "class Animal:\n",
    "    def __init__(self, name):\n",
    "        self.name = name\n",
    "    \n",
    "    def speak(self):\n",
    "        return \"Some generic sound\""
   ]
  },
  {
   "cell_type": "code",
   "execution_count": 14,
   "metadata": {},
   "outputs": [
    {
     "name": "stdout",
     "output_type": "stream",
     "text": [
      "Buddy barks.\n",
      "Whiskers meows.\n"
     ]
    }
   ],
   "source": [
    "class Dog(Animal):  # Dog inherits from Animal\n",
    "    def speak(self):\n",
    "        print(f\"{self.name} barks.\")\n",
    "\n",
    "class Cat(Animal):\n",
    "    def speak(self):\n",
    "        print(f\"{self.name} meows.\")\n",
    "\n",
    "animals = [Dog(\"Buddy\"), Cat(\"Whiskers\")]\n",
    "\n",
    "for animal in animals:\n",
    "    animal.speak() \n"
   ]
  },
  {
   "cell_type": "markdown",
   "metadata": {},
   "source": [
    "### **Abstraction**\n",
    "- Abstraction hides the complex implementation details and only exposes the essential features to the user.\n",
    "- Purpose: It simplifies the interface and reduces complexity by allowing the user to focus on what the object does, rather than how it does it.\n",
    "\n",
    "**Key Points:**\n",
    "\n",
    "- Cannot Instantiate Abstract Classes: Attempting to create an instance of Shape will raise an error.\n",
    "- Mandatory Implementation: Subclasses must implement all abstract methods, ensuring a consistent interface."
   ]
  },
  {
   "cell_type": "code",
   "execution_count": 21,
   "metadata": {},
   "outputs": [
    {
     "name": "stdout",
     "output_type": "stream",
     "text": [
      "Rectangle area: 20\n",
      "Rectangle perimeter: 18\n",
      "Circle area: 28.27431\n",
      "Circle perimeter: 18.849539999999998\n"
     ]
    }
   ],
   "source": [
    "class Shape(ABC):\n",
    "    @abstractmethod\n",
    "    def area(self):\n",
    "        pass\n",
    "    \n",
    "    @abstractmethod\n",
    "    def perimeter(self):\n",
    "        pass\n",
    "\n",
    "class Rectangle(Shape):\n",
    "    def __init__(self, width, height):\n",
    "        self.width = width\n",
    "        self.height = height\n",
    "    \n",
    "    def area(self):\n",
    "        return self.width * self.height\n",
    "    \n",
    "    def perimeter(self):\n",
    "        return 2 * (self.width + self.height)\n",
    "\n",
    "class Circle(Shape):\n",
    "    def __init__(self, radius):\n",
    "        self.radius = radius\n",
    "    \n",
    "    def area(self):\n",
    "        return 3.14159 * self.radius ** 2\n",
    "    \n",
    "    def perimeter(self):\n",
    "        return 2 * 3.14159 * self.radius\n",
    "\n",
    "rect = Rectangle(4, 5)\n",
    "circle = Circle(3)\n",
    "\n",
    "print(f\"Rectangle area: {rect.area()}\")    \n",
    "print(f\"Rectangle perimeter: {rect.perimeter()}\") \n",
    "\n",
    "print(f\"Circle area: {circle.area()}\")        \n",
    "print(f\"Circle perimeter: {circle.perimeter()}\")  \n"
   ]
  },
  {
   "cell_type": "code",
   "execution_count": 24,
   "metadata": {},
   "outputs": [
    {
     "name": "stdout",
     "output_type": "stream",
     "text": [
      "Car engine started.\n",
      "Bike engine started.\n"
     ]
    }
   ],
   "source": [
    "class Vehicle(ABC):\n",
    "    @abstractmethod\n",
    "    def start_engine(self):\n",
    "        pass\n",
    "\n",
    "class Car(Vehicle):\n",
    "    def start_engine(self):\n",
    "        print(\"Car engine started.\")\n",
    "\n",
    "class Bike(Vehicle):\n",
    "    def start_engine(self):\n",
    "        print(\"Bike engine started.\")\n",
    "\n",
    "car = Car()\n",
    "bike = Bike()\n",
    "car.start_engine()\n",
    "bike.start_engine()"
   ]
  },
  {
   "cell_type": "markdown",
   "metadata": {},
   "source": [
    "### **Case Study**"
   ]
  },
  {
   "cell_type": "code",
   "execution_count": null,
   "metadata": {},
   "outputs": [],
   "source": [
    "class BankAccount:\n",
    "    def __init__(self, account_holder, balance=0):\n",
    "        self._account_holder = account_holder  # Protected attribute\n",
    "        self._balance = balance  # Protected attribute\n",
    "\n",
    "    def deposit(self, amount):\n",
    "        if amount > 0:\n",
    "            self._balance += amount\n",
    "            return f\"Deposit of ${amount} successful. New balance: ${self._balance}\"\n",
    "        else:\n",
    "            return \"Invalid deposit amount\"\n",
    "\n",
    "    def withdraw(self, amount):\n",
    "        if 0 < amount <= self._balance:\n",
    "            self._balance -= amount\n",
    "            return f\"Withdrawal of ${amount} successful. New balance: ${self._balance}\"\n",
    "        else:\n",
    "            return \"Invalid withdrawal amount\"\n",
    "\n",
    "    def get_balance(self):\n",
    "        return f\"Current balance: ${self._balance}\"\n",
    "\n",
    "    def get_account_holder(self):\n",
    "        return f\"Account holder: {self._account_holder}\"\n",
    "\n",
    "def main():\n",
    "    account = BankAccount(\"John Doe\", 1000)\n",
    "\n",
    "    while True:\n",
    "        print(\"\\nMenu:\")\n",
    "        print(\"1. Check balance\")\n",
    "        print(\"2. Deposit money\")\n",
    "        print(\"3. Withdraw money\")\n",
    "        print(\"4. Exit\")\n",
    "        \n",
    "        choice = input(\"Choose an option: \")\n",
    "\n",
    "        if choice == \"1\":\n",
    "            print(account.get_balance())\n",
    "        elif choice == \"2\":\n",
    "            amount = float(input(\"Enter deposit amount: \"))\n",
    "            print(account.deposit(amount))\n",
    "        elif choice == \"3\":\n",
    "            amount = float(input(\"Enter withdrawal amount: \"))\n",
    "            print(account.withdraw(amount))\n",
    "        elif choice == \"4\":\n",
    "            print(\"Exiting...\")\n",
    "            break\n",
    "        else:\n",
    "            print(\"Invalid choice, please try again.\")\n",
    "\n",
    "if __name__ == \"__main__\":\n",
    "    main()"
   ]
  }
 ],
 "metadata": {
  "kernelspec": {
   "display_name": "Python 3",
   "language": "python",
   "name": "python3"
  },
  "language_info": {
   "codemirror_mode": {
    "name": "ipython",
    "version": 3
   },
   "file_extension": ".py",
   "mimetype": "text/x-python",
   "name": "python",
   "nbconvert_exporter": "python",
   "pygments_lexer": "ipython3",
   "version": "3.13.1"
  }
 },
 "nbformat": 4,
 "nbformat_minor": 2
}
