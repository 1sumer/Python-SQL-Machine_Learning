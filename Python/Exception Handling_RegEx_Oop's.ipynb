{
 "cells": [
  {
   "cell_type": "markdown",
   "id": "d5a2f031-7ca0-4638-ba92-2039656dbbcb",
   "metadata": {
    "jp-MarkdownHeadingCollapsed": true
   },
   "source": [
    "## **Exception Handling**"
   ]
  },
  {
   "cell_type": "code",
   "execution_count": 3,
   "id": "6078902a-8f00-474b-ab2d-679a3ae68cc5",
   "metadata": {},
   "outputs": [
    {
     "data": {
      "text/plain": [
       "['ArithmeticError',\n",
       " 'AssertionError',\n",
       " 'AttributeError',\n",
       " 'BaseException',\n",
       " 'BaseExceptionGroup',\n",
       " 'BlockingIOError',\n",
       " 'BrokenPipeError',\n",
       " 'BufferError',\n",
       " 'BytesWarning',\n",
       " 'ChildProcessError',\n",
       " 'ConnectionAbortedError',\n",
       " 'ConnectionError',\n",
       " 'ConnectionRefusedError',\n",
       " 'ConnectionResetError',\n",
       " 'DeprecationWarning',\n",
       " 'EOFError',\n",
       " 'Ellipsis',\n",
       " 'EncodingWarning',\n",
       " 'EnvironmentError',\n",
       " 'Exception',\n",
       " 'ExceptionGroup',\n",
       " 'False',\n",
       " 'FileExistsError',\n",
       " 'FileNotFoundError',\n",
       " 'FloatingPointError',\n",
       " 'FutureWarning',\n",
       " 'GeneratorExit',\n",
       " 'IOError',\n",
       " 'ImportError',\n",
       " 'ImportWarning',\n",
       " 'IndentationError',\n",
       " 'IndexError',\n",
       " 'InterruptedError',\n",
       " 'IsADirectoryError',\n",
       " 'KeyError',\n",
       " 'KeyboardInterrupt',\n",
       " 'LookupError',\n",
       " 'MemoryError',\n",
       " 'ModuleNotFoundError',\n",
       " 'NameError',\n",
       " 'None',\n",
       " 'NotADirectoryError',\n",
       " 'NotImplemented',\n",
       " 'NotImplementedError',\n",
       " 'OSError',\n",
       " 'OverflowError',\n",
       " 'PendingDeprecationWarning',\n",
       " 'PermissionError',\n",
       " 'ProcessLookupError',\n",
       " 'PythonFinalizationError',\n",
       " 'RecursionError',\n",
       " 'ReferenceError',\n",
       " 'ResourceWarning',\n",
       " 'RuntimeError',\n",
       " 'RuntimeWarning',\n",
       " 'StopAsyncIteration',\n",
       " 'StopIteration',\n",
       " 'SyntaxError',\n",
       " 'SyntaxWarning',\n",
       " 'SystemError',\n",
       " 'SystemExit',\n",
       " 'TabError',\n",
       " 'TimeoutError',\n",
       " 'True',\n",
       " 'TypeError',\n",
       " 'UnboundLocalError',\n",
       " 'UnicodeDecodeError',\n",
       " 'UnicodeEncodeError',\n",
       " 'UnicodeError',\n",
       " 'UnicodeTranslateError',\n",
       " 'UnicodeWarning',\n",
       " 'UserWarning',\n",
       " 'ValueError',\n",
       " 'Warning',\n",
       " 'WindowsError',\n",
       " 'ZeroDivisionError',\n",
       " '_IncompleteInputError',\n",
       " '__IPYTHON__',\n",
       " '__build_class__',\n",
       " '__debug__',\n",
       " '__doc__',\n",
       " '__import__',\n",
       " '__loader__',\n",
       " '__name__',\n",
       " '__package__',\n",
       " '__spec__',\n",
       " 'abs',\n",
       " 'aiter',\n",
       " 'all',\n",
       " 'anext',\n",
       " 'any',\n",
       " 'ascii',\n",
       " 'bin',\n",
       " 'bool',\n",
       " 'breakpoint',\n",
       " 'bytearray',\n",
       " 'bytes',\n",
       " 'callable',\n",
       " 'chr',\n",
       " 'classmethod',\n",
       " 'compile',\n",
       " 'complex',\n",
       " 'copyright',\n",
       " 'credits',\n",
       " 'delattr',\n",
       " 'dict',\n",
       " 'dir',\n",
       " 'display',\n",
       " 'divmod',\n",
       " 'enumerate',\n",
       " 'eval',\n",
       " 'exec',\n",
       " 'execfile',\n",
       " 'filter',\n",
       " 'float',\n",
       " 'format',\n",
       " 'frozenset',\n",
       " 'get_ipython',\n",
       " 'getattr',\n",
       " 'globals',\n",
       " 'hasattr',\n",
       " 'hash',\n",
       " 'help',\n",
       " 'hex',\n",
       " 'id',\n",
       " 'input',\n",
       " 'int',\n",
       " 'isinstance',\n",
       " 'issubclass',\n",
       " 'iter',\n",
       " 'len',\n",
       " 'license',\n",
       " 'list',\n",
       " 'locals',\n",
       " 'map',\n",
       " 'max',\n",
       " 'memoryview',\n",
       " 'min',\n",
       " 'next',\n",
       " 'object',\n",
       " 'oct',\n",
       " 'open',\n",
       " 'ord',\n",
       " 'pow',\n",
       " 'print',\n",
       " 'property',\n",
       " 'range',\n",
       " 'repr',\n",
       " 'reversed',\n",
       " 'round',\n",
       " 'runfile',\n",
       " 'set',\n",
       " 'setattr',\n",
       " 'slice',\n",
       " 'sorted',\n",
       " 'staticmethod',\n",
       " 'str',\n",
       " 'sum',\n",
       " 'super',\n",
       " 'tuple',\n",
       " 'type',\n",
       " 'vars',\n",
       " 'zip']"
      ]
     },
     "execution_count": 3,
     "metadata": {},
     "output_type": "execute_result"
    }
   ],
   "source": [
    "dir(__builtin__)"
   ]
  },
  {
   "cell_type": "markdown",
   "id": "2a59582f-121f-47a5-93db-f8cf1773b65c",
   "metadata": {},
   "source": [
    "### **Errors Type**"
   ]
  },
  {
   "cell_type": "code",
   "execution_count": 1,
   "id": "6ab9bd47-c275-4a19-81f3-78fce9c35984",
   "metadata": {},
   "outputs": [
    {
     "ename": "SyntaxError",
     "evalue": "Missing parentheses in call to 'print'. Did you mean print(...)? (3945978432.py, line 1)",
     "output_type": "error",
     "traceback": [
      "\u001b[1;36m  Cell \u001b[1;32mIn[1], line 1\u001b[1;36m\u001b[0m\n\u001b[1;33m    print x\u001b[0m\n\u001b[1;37m    ^\u001b[0m\n\u001b[1;31mSyntaxError\u001b[0m\u001b[1;31m:\u001b[0m Missing parentheses in call to 'print'. Did you mean print(...)?\n"
     ]
    }
   ],
   "source": [
    "print x"
   ]
  },
  {
   "cell_type": "code",
   "execution_count": 2,
   "id": "e5556ea7-2e92-491f-b956-4245a5ef3e8e",
   "metadata": {},
   "outputs": [
    {
     "ename": "NameError",
     "evalue": "name 'x' is not defined",
     "output_type": "error",
     "traceback": [
      "\u001b[1;31m---------------------------------------------------------------------------\u001b[0m",
      "\u001b[1;31mNameError\u001b[0m                                 Traceback (most recent call last)",
      "Cell \u001b[1;32mIn[2], line 1\u001b[0m\n\u001b[1;32m----> 1\u001b[0m \u001b[38;5;28mprint\u001b[39m(\u001b[43mx\u001b[49m)\n",
      "\u001b[1;31mNameError\u001b[0m: name 'x' is not defined"
     ]
    }
   ],
   "source": [
    "print(x)"
   ]
  },
  {
   "cell_type": "code",
   "execution_count": 5,
   "id": "f5b74938-ca81-475d-9d1b-1755f00896d1",
   "metadata": {},
   "outputs": [
    {
     "ename": "TypeError",
     "evalue": "can only concatenate str (not \"int\") to str",
     "output_type": "error",
     "traceback": [
      "\u001b[1;31m---------------------------------------------------------------------------\u001b[0m",
      "\u001b[1;31mTypeError\u001b[0m                                 Traceback (most recent call last)",
      "Cell \u001b[1;32mIn[5], line 1\u001b[0m\n\u001b[1;32m----> 1\u001b[0m \u001b[38;5;28mprint\u001b[39m(\u001b[38;5;124;43m'\u001b[39;49m\u001b[38;5;124;43ma\u001b[39;49m\u001b[38;5;124;43m'\u001b[39;49m\u001b[38;5;241;43m+\u001b[39;49m\u001b[38;5;241;43m5\u001b[39;49m)\n",
      "\u001b[1;31mTypeError\u001b[0m: can only concatenate str (not \"int\") to str"
     ]
    }
   ],
   "source": [
    "print('a'+5)"
   ]
  },
  {
   "cell_type": "code",
   "execution_count": 6,
   "id": "7ea9ded8-0e31-45c2-9061-515e62e8e63a",
   "metadata": {},
   "outputs": [
    {
     "ename": "ZeroDivisionError",
     "evalue": "division by zero",
     "output_type": "error",
     "traceback": [
      "\u001b[1;31m---------------------------------------------------------------------------\u001b[0m",
      "\u001b[1;31mZeroDivisionError\u001b[0m                         Traceback (most recent call last)",
      "Cell \u001b[1;32mIn[6], line 1\u001b[0m\n\u001b[1;32m----> 1\u001b[0m \u001b[38;5;28mprint\u001b[39m(\u001b[38;5;241;43m10\u001b[39;49m\u001b[38;5;241;43m/\u001b[39;49m\u001b[38;5;241;43m0\u001b[39;49m)\n",
      "\u001b[1;31mZeroDivisionError\u001b[0m: division by zero"
     ]
    }
   ],
   "source": [
    "print(10/0)"
   ]
  },
  {
   "cell_type": "code",
   "execution_count": 7,
   "id": "4b7d5181-33ef-4bf0-9812-ca550a2d7305",
   "metadata": {},
   "outputs": [
    {
     "ename": "IndexError",
     "evalue": "list index out of range",
     "output_type": "error",
     "traceback": [
      "\u001b[1;31m---------------------------------------------------------------------------\u001b[0m",
      "\u001b[1;31mIndexError\u001b[0m                                Traceback (most recent call last)",
      "Cell \u001b[1;32mIn[7], line 2\u001b[0m\n\u001b[0;32m      1\u001b[0m number \u001b[38;5;241m=\u001b[39m [\u001b[38;5;241m1\u001b[39m,\u001b[38;5;241m2\u001b[39m,\u001b[38;5;241m3\u001b[39m,\u001b[38;5;241m4\u001b[39m,\u001b[38;5;241m5\u001b[39m]\n\u001b[1;32m----> 2\u001b[0m \u001b[43mnumber\u001b[49m\u001b[43m[\u001b[49m\u001b[38;5;241;43m6\u001b[39;49m\u001b[43m]\u001b[49m\n",
      "\u001b[1;31mIndexError\u001b[0m: list index out of range"
     ]
    }
   ],
   "source": [
    "number = [1,2,3,4,5]\n",
    "number[6]"
   ]
  },
  {
   "cell_type": "code",
   "execution_count": 8,
   "id": "cc0a515c-5b8d-4a38-9458-44eb5de607a5",
   "metadata": {},
   "outputs": [
    {
     "ename": "FileNotFoundError",
     "evalue": "[Errno 2] No such file or directory: 'abc.txt'",
     "output_type": "error",
     "traceback": [
      "\u001b[1;31m---------------------------------------------------------------------------\u001b[0m",
      "\u001b[1;31mFileNotFoundError\u001b[0m                         Traceback (most recent call last)",
      "Cell \u001b[1;32mIn[8], line 1\u001b[0m\n\u001b[1;32m----> 1\u001b[0m \u001b[38;5;28;01mwith\u001b[39;00m \u001b[38;5;28;43mopen\u001b[39;49m\u001b[43m(\u001b[49m\u001b[38;5;124;43m'\u001b[39;49m\u001b[38;5;124;43mabc.txt\u001b[39;49m\u001b[38;5;124;43m'\u001b[39;49m\u001b[43m,\u001b[49m\u001b[43m \u001b[49m\u001b[38;5;124;43m'\u001b[39;49m\u001b[38;5;124;43mr\u001b[39;49m\u001b[38;5;124;43m'\u001b[39;49m\u001b[43m)\u001b[49m \u001b[38;5;28;01mas\u001b[39;00m f:\n\u001b[0;32m      2\u001b[0m     \u001b[38;5;28mprint\u001b[39m(f\u001b[38;5;241m.\u001b[39mread())\n\u001b[0;32m      3\u001b[0m     f\u001b[38;5;241m.\u001b[39mclose()\n",
      "File \u001b[1;32m~\\AppData\\Roaming\\Python\\Python313\\site-packages\\IPython\\core\\interactiveshell.py:324\u001b[0m, in \u001b[0;36m_modified_open\u001b[1;34m(file, *args, **kwargs)\u001b[0m\n\u001b[0;32m    317\u001b[0m \u001b[38;5;28;01mif\u001b[39;00m file \u001b[38;5;129;01min\u001b[39;00m {\u001b[38;5;241m0\u001b[39m, \u001b[38;5;241m1\u001b[39m, \u001b[38;5;241m2\u001b[39m}:\n\u001b[0;32m    318\u001b[0m     \u001b[38;5;28;01mraise\u001b[39;00m \u001b[38;5;167;01mValueError\u001b[39;00m(\n\u001b[0;32m    319\u001b[0m         \u001b[38;5;124mf\u001b[39m\u001b[38;5;124m\"\u001b[39m\u001b[38;5;124mIPython won\u001b[39m\u001b[38;5;124m'\u001b[39m\u001b[38;5;124mt let you open fd=\u001b[39m\u001b[38;5;132;01m{\u001b[39;00mfile\u001b[38;5;132;01m}\u001b[39;00m\u001b[38;5;124m by default \u001b[39m\u001b[38;5;124m\"\u001b[39m\n\u001b[0;32m    320\u001b[0m         \u001b[38;5;124m\"\u001b[39m\u001b[38;5;124mas it is likely to crash IPython. If you know what you are doing, \u001b[39m\u001b[38;5;124m\"\u001b[39m\n\u001b[0;32m    321\u001b[0m         \u001b[38;5;124m\"\u001b[39m\u001b[38;5;124myou can use builtins\u001b[39m\u001b[38;5;124m'\u001b[39m\u001b[38;5;124m open.\u001b[39m\u001b[38;5;124m\"\u001b[39m\n\u001b[0;32m    322\u001b[0m     )\n\u001b[1;32m--> 324\u001b[0m \u001b[38;5;28;01mreturn\u001b[39;00m \u001b[43mio_open\u001b[49m\u001b[43m(\u001b[49m\u001b[43mfile\u001b[49m\u001b[43m,\u001b[49m\u001b[43m \u001b[49m\u001b[38;5;241;43m*\u001b[39;49m\u001b[43margs\u001b[49m\u001b[43m,\u001b[49m\u001b[43m \u001b[49m\u001b[38;5;241;43m*\u001b[39;49m\u001b[38;5;241;43m*\u001b[39;49m\u001b[43mkwargs\u001b[49m\u001b[43m)\u001b[49m\n",
      "\u001b[1;31mFileNotFoundError\u001b[0m: [Errno 2] No such file or directory: 'abc.txt'"
     ]
    }
   ],
   "source": [
    "with open('abc.txt', 'r') as f:\n",
    "    print(f.read())\n",
    "    f.close()"
   ]
  },
  {
   "cell_type": "code",
   "execution_count": 9,
   "id": "2af2965d-ad3c-48a7-9371-ff90999f56db",
   "metadata": {},
   "outputs": [
    {
     "ename": "ModuleNotFoundError",
     "evalue": "No module named 'module'",
     "output_type": "error",
     "traceback": [
      "\u001b[1;31m---------------------------------------------------------------------------\u001b[0m",
      "\u001b[1;31mModuleNotFoundError\u001b[0m                       Traceback (most recent call last)",
      "Cell \u001b[1;32mIn[9], line 1\u001b[0m\n\u001b[1;32m----> 1\u001b[0m \u001b[38;5;28;01mimport\u001b[39;00m \u001b[38;5;21;01mmodule\u001b[39;00m\n",
      "\u001b[1;31mModuleNotFoundError\u001b[0m: No module named 'module'"
     ]
    }
   ],
   "source": [
    "import module"
   ]
  },
  {
   "cell_type": "code",
   "execution_count": 11,
   "id": "0f3eeaff-34dd-4423-a6ee-6aeedf3c17a3",
   "metadata": {},
   "outputs": [
    {
     "ename": "AssertionError",
     "evalue": "A must be Greatr than 18",
     "output_type": "error",
     "traceback": [
      "\u001b[1;31m---------------------------------------------------------------------------\u001b[0m",
      "\u001b[1;31mAssertionError\u001b[0m                            Traceback (most recent call last)",
      "Cell \u001b[1;32mIn[11], line 2\u001b[0m\n\u001b[0;32m      1\u001b[0m a  \u001b[38;5;241m=\u001b[39m \u001b[38;5;241m15\u001b[39m\n\u001b[1;32m----> 2\u001b[0m \u001b[38;5;28;01massert\u001b[39;00m a \u001b[38;5;241m>\u001b[39m\u001b[38;5;241m=\u001b[39m \u001b[38;5;241m18\u001b[39m, \u001b[38;5;124m\"\u001b[39m\u001b[38;5;124mA must be Greatr than 18\u001b[39m\u001b[38;5;124m\"\u001b[39m\n\u001b[0;32m      3\u001b[0m \u001b[38;5;28mprint\u001b[39m(\u001b[38;5;124m\"\u001b[39m\u001b[38;5;124mA is Valid\u001b[39m\u001b[38;5;124m\"\u001b[39m)\n",
      "\u001b[1;31mAssertionError\u001b[0m: A must be Greatr than 18"
     ]
    }
   ],
   "source": [
    "a  = 15\n",
    "assert a >= 18, \"A must be Greatr than 18\"\n",
    "print(\"A is Valid\")"
   ]
  },
  {
   "cell_type": "code",
   "execution_count": 12,
   "id": "50d431b1-c841-43a0-931e-4ce145dac1d8",
   "metadata": {},
   "outputs": [
    {
     "ename": "KeyError",
     "evalue": "'D'",
     "output_type": "error",
     "traceback": [
      "\u001b[1;31m---------------------------------------------------------------------------\u001b[0m",
      "\u001b[1;31mKeyError\u001b[0m                                  Traceback (most recent call last)",
      "Cell \u001b[1;32mIn[12], line 2\u001b[0m\n\u001b[0;32m      1\u001b[0m dic \u001b[38;5;241m=\u001b[39m {\u001b[38;5;124m'\u001b[39m\u001b[38;5;124mA\u001b[39m\u001b[38;5;124m'\u001b[39m:\u001b[38;5;241m1\u001b[39m, \u001b[38;5;124m'\u001b[39m\u001b[38;5;124mB\u001b[39m\u001b[38;5;124m'\u001b[39m:\u001b[38;5;241m2\u001b[39m, \u001b[38;5;124m'\u001b[39m\u001b[38;5;124mC\u001b[39m\u001b[38;5;124m'\u001b[39m:\u001b[38;5;241m3\u001b[39m}\n\u001b[1;32m----> 2\u001b[0m \u001b[43mdic\u001b[49m\u001b[43m[\u001b[49m\u001b[38;5;124;43m'\u001b[39;49m\u001b[38;5;124;43mD\u001b[39;49m\u001b[38;5;124;43m'\u001b[39;49m\u001b[43m]\u001b[49m\n",
      "\u001b[1;31mKeyError\u001b[0m: 'D'"
     ]
    }
   ],
   "source": [
    "dic = {'A':1, 'B':2, 'C':3}\n",
    "dic['D']"
   ]
  },
  {
   "cell_type": "code",
   "execution_count": 13,
   "id": "bd2a6aef-9a13-40fd-91de-3da146fc7492",
   "metadata": {},
   "outputs": [
    {
     "name": "stdin",
     "output_type": "stream",
     "text": [
      "Enter a number:  a\n"
     ]
    },
    {
     "ename": "ValueError",
     "evalue": "invalid literal for int() with base 10: 'a'",
     "output_type": "error",
     "traceback": [
      "\u001b[1;31m---------------------------------------------------------------------------\u001b[0m",
      "\u001b[1;31mValueError\u001b[0m                                Traceback (most recent call last)",
      "Cell \u001b[1;32mIn[13], line 1\u001b[0m\n\u001b[1;32m----> 1\u001b[0m a \u001b[38;5;241m=\u001b[39m \u001b[38;5;28;43mint\u001b[39;49m\u001b[43m(\u001b[49m\u001b[38;5;28;43minput\u001b[39;49m\u001b[43m(\u001b[49m\u001b[38;5;124;43m\"\u001b[39;49m\u001b[38;5;124;43mEnter a number: \u001b[39;49m\u001b[38;5;124;43m\"\u001b[39;49m\u001b[43m)\u001b[49m\u001b[43m)\u001b[49m\n\u001b[0;32m      2\u001b[0m \u001b[38;5;28mprint\u001b[39m(a)\n",
      "\u001b[1;31mValueError\u001b[0m: invalid literal for int() with base 10: 'a'"
     ]
    }
   ],
   "source": [
    "a = int(input(\"Enter a number: \"))\n",
    "print(a)"
   ]
  },
  {
   "cell_type": "code",
   "execution_count": 33,
   "id": "055cb184-684e-493b-b45f-8199464388ed",
   "metadata": {},
   "outputs": [
    {
     "ename": "IndentationError",
     "evalue": "unexpected indent (3333995459.py, line 2)",
     "output_type": "error",
     "traceback": [
      "\u001b[1;36m  Cell \u001b[1;32mIn[33], line 2\u001b[1;36m\u001b[0m\n\u001b[1;33m    print(a)\u001b[0m\n\u001b[1;37m    ^\u001b[0m\n\u001b[1;31mIndentationError\u001b[0m\u001b[1;31m:\u001b[0m unexpected indent\n"
     ]
    }
   ],
   "source": [
    "a = int(input(\"Enter a number: \"))\n",
    "    print(a)"
   ]
  },
  {
   "cell_type": "code",
   "execution_count": 14,
   "id": "71419ea0-346f-42d7-a5c3-0b431c6ee226",
   "metadata": {
    "scrolled": true
   },
   "outputs": [
    {
     "ename": "TypeError",
     "evalue": "Person.__init__() missing 1 required positional argument: 'x'",
     "output_type": "error",
     "traceback": [
      "\u001b[1;31m---------------------------------------------------------------------------\u001b[0m",
      "\u001b[1;31mTypeError\u001b[0m                                 Traceback (most recent call last)",
      "Cell \u001b[1;32mIn[14], line 8\u001b[0m\n\u001b[0;32m      5\u001b[0m     \u001b[38;5;28;01mdef\u001b[39;00m \u001b[38;5;21mdisplay\u001b[39m(\u001b[38;5;28mself\u001b[39m):\n\u001b[0;32m      6\u001b[0m         \u001b[38;5;28;01mreturn\u001b[39;00m \u001b[38;5;28mself\u001b[39m\u001b[38;5;241m.\u001b[39mx\n\u001b[1;32m----> 8\u001b[0m obj \u001b[38;5;241m=\u001b[39m \u001b[43mPerson\u001b[49m\u001b[43m(\u001b[49m\u001b[43m)\u001b[49m\n\u001b[0;32m      9\u001b[0m obj\n",
      "\u001b[1;31mTypeError\u001b[0m: Person.__init__() missing 1 required positional argument: 'x'"
     ]
    }
   ],
   "source": [
    "class Person:\n",
    "    def __init__(self, x):\n",
    "        self.x = x\n",
    "\n",
    "    def display(self):\n",
    "        return self.x\n",
    "\n",
    "obj = Person()\n",
    "obj"
   ]
  },
  {
   "cell_type": "markdown",
   "id": "7d43f9cc-9843-444e-ad79-e596181ab358",
   "metadata": {},
   "source": [
    "### **Try-Except**"
   ]
  },
  {
   "cell_type": "code",
   "execution_count": 16,
   "id": "b293f85f-ea2b-4174-afc4-44cc69170be2",
   "metadata": {},
   "outputs": [
    {
     "name": "stdout",
     "output_type": "stream",
     "text": [
      "Name error\n"
     ]
    }
   ],
   "source": [
    "try:\n",
    "    print(x)\n",
    "except:\n",
    "    print(\"Name error\")"
   ]
  },
  {
   "cell_type": "code",
   "execution_count": 17,
   "id": "549ad20f-a1a9-4f00-9b6f-3184e9c5ed6c",
   "metadata": {},
   "outputs": [],
   "source": [
    "x = 10"
   ]
  },
  {
   "cell_type": "code",
   "execution_count": 21,
   "id": "ff66a9c0-e9c9-4ab3-bf29-0b767845efd3",
   "metadata": {},
   "outputs": [
    {
     "name": "stdout",
     "output_type": "stream",
     "text": [
      "An Exception Occured\n"
     ]
    }
   ],
   "source": [
    "try:\n",
    "    print(y)\n",
    "except:\n",
    "    print(\"An Exception Occured\")"
   ]
  },
  {
   "cell_type": "code",
   "execution_count": 23,
   "id": "0e34617f-4186-4ae6-b2a6-89195dceefa4",
   "metadata": {
    "scrolled": true
   },
   "outputs": [
    {
     "name": "stdin",
     "output_type": "stream",
     "text": [
      "Enter a number:  12\n",
      "enter a number:  0\n"
     ]
    },
    {
     "name": "stdout",
     "output_type": "stream",
     "text": [
      "An exception occured\n"
     ]
    }
   ],
   "source": [
    "try:\n",
    "    a = int(input('Enter a number: '))\n",
    "    b = int(input('enter a number: '))\n",
    "    result = a / b\n",
    "    print(result)\n",
    "except:\n",
    "    print(\"An exception occured\")"
   ]
  },
  {
   "cell_type": "code",
   "execution_count": 34,
   "id": "427f5f42-d28d-4327-acd5-b297dcf720bd",
   "metadata": {},
   "outputs": [
    {
     "ename": "IndexError",
     "evalue": "list index out of range",
     "output_type": "error",
     "traceback": [
      "\u001b[1;31m---------------------------------------------------------------------------\u001b[0m",
      "\u001b[1;31mIndexError\u001b[0m                                Traceback (most recent call last)",
      "Cell \u001b[1;32mIn[34], line 2\u001b[0m\n\u001b[0;32m      1\u001b[0m a \u001b[38;5;241m=\u001b[39m [\u001b[38;5;241m1\u001b[39m,\u001b[38;5;241m2\u001b[39m,\u001b[38;5;241m3\u001b[39m,\u001b[38;5;241m4\u001b[39m,\u001b[38;5;241m5\u001b[39m,\u001b[38;5;241m6\u001b[39m]\n\u001b[1;32m----> 2\u001b[0m \u001b[43ma\u001b[49m\u001b[43m[\u001b[49m\u001b[38;5;241;43m7\u001b[39;49m\u001b[43m]\u001b[49m\n",
      "\u001b[1;31mIndexError\u001b[0m: list index out of range"
     ]
    }
   ],
   "source": [
    "a = [1,2,3,4,5,6]\n",
    "a[7]"
   ]
  },
  {
   "cell_type": "code",
   "execution_count": 28,
   "id": "4503e333-cb96-4a98-bdf8-41ebb26bc793",
   "metadata": {},
   "outputs": [
    {
     "name": "stdout",
     "output_type": "stream",
     "text": [
      "intex out of range\n",
      "2\n"
     ]
    }
   ],
   "source": [
    "try:\n",
    "    a = [1,2,3,4,5,6]\n",
    "    a[6]\n",
    "except:\n",
    "    print(\"intex out of range\")\n",
    "    \n",
    "print(a[1])"
   ]
  },
  {
   "cell_type": "code",
   "execution_count": 32,
   "id": "bd944f89-3bcf-4fd6-bac1-0461e3038ad5",
   "metadata": {},
   "outputs": [
    {
     "name": "stdout",
     "output_type": "stream",
     "text": [
      "Error Occured\n",
      "10\n"
     ]
    }
   ],
   "source": [
    "x = 5\n",
    "y = 'a'\n",
    "try:\n",
    "    z = x+y\n",
    "except:\n",
    "    print(\"Error Occured\")\n",
    "print(z)"
   ]
  },
  {
   "cell_type": "code",
   "execution_count": 41,
   "id": "f10891af-6f31-4619-8cc4-22d8b00496f8",
   "metadata": {},
   "outputs": [
    {
     "name": "stdin",
     "output_type": "stream",
     "text": [
      "enter a number:  2\n"
     ]
    },
    {
     "name": "stdout",
     "output_type": "stream",
     "text": [
      "3\n"
     ]
    }
   ],
   "source": [
    "a = [1,2,3,4,'A','B', 6]\n",
    "\n",
    "try:\n",
    "    n = int(input('enter a number: '))\n",
    "    print(a[n])\n",
    "except ValueError:\n",
    "    print(\"Give a valid input\")\n",
    "except IndexError:\n",
    "    print(\"Index out of range\")"
   ]
  },
  {
   "cell_type": "code",
   "execution_count": 43,
   "id": "902b123f-bc4a-4d4d-b04d-da3a18bb763d",
   "metadata": {},
   "outputs": [
    {
     "name": "stdout",
     "output_type": "stream",
     "text": [
      "Chose the Correct File\n"
     ]
    }
   ],
   "source": [
    "try:\n",
    "    with open('abc.txt', 'r') as file:\n",
    "        file.read()\n",
    "        file.close()\n",
    "except FileNotFoundError:\n",
    "    print(\"Chose the Correct File\")"
   ]
  },
  {
   "cell_type": "code",
   "execution_count": 46,
   "id": "ee244fce-69a6-4954-9802-6a4270f05e10",
   "metadata": {},
   "outputs": [
    {
     "ename": "ZeroDivisionError",
     "evalue": "division by zero",
     "output_type": "error",
     "traceback": [
      "\u001b[1;31m---------------------------------------------------------------------------\u001b[0m",
      "\u001b[1;31mZeroDivisionError\u001b[0m                         Traceback (most recent call last)",
      "Cell \u001b[1;32mIn[46], line 3\u001b[0m\n\u001b[0;32m      1\u001b[0m a \u001b[38;5;241m=\u001b[39m \u001b[38;5;241m10\u001b[39m\n\u001b[0;32m      2\u001b[0m b \u001b[38;5;241m=\u001b[39m \u001b[38;5;241m0\u001b[39m\n\u001b[1;32m----> 3\u001b[0m c \u001b[38;5;241m=\u001b[39m \u001b[43ma\u001b[49m\u001b[43m \u001b[49m\u001b[38;5;241;43m/\u001b[39;49m\u001b[43m \u001b[49m\u001b[43mb\u001b[49m\n\u001b[0;32m      4\u001b[0m c\n",
      "\u001b[1;31mZeroDivisionError\u001b[0m: division by zero"
     ]
    }
   ],
   "source": [
    "a = 10\n",
    "b = 0\n",
    "c = a / b\n",
    "c"
   ]
  },
  {
   "cell_type": "code",
   "execution_count": 49,
   "id": "b09337dd-7a76-4fbf-b019-d181ca87c738",
   "metadata": {},
   "outputs": [
    {
     "name": "stdin",
     "output_type": "stream",
     "text": [
      " 0\n"
     ]
    },
    {
     "name": "stdout",
     "output_type": "stream",
     "text": [
      "Error: division by zero\n",
      "5.0\n"
     ]
    }
   ],
   "source": [
    "try:\n",
    "    a = 10\n",
    "    b = int(input())\n",
    "    c = a / b\n",
    "except ZeroDivisionError as e:\n",
    "    print(f\"Error: {e}\")\n",
    "print(c)"
   ]
  },
  {
   "cell_type": "code",
   "execution_count": 52,
   "id": "75b0bddf-08af-414a-8d94-885e340c347c",
   "metadata": {},
   "outputs": [
    {
     "name": "stdout",
     "output_type": "stream",
     "text": [
      "Module : No module named 'module'\n"
     ]
    }
   ],
   "source": [
    "try:\n",
    "    import module\n",
    "except ModuleNotFoundError as e:\n",
    "    print(\"Module :\", e)"
   ]
  },
  {
   "cell_type": "markdown",
   "id": "2705b394-62fc-441f-9499-22daf0393632",
   "metadata": {},
   "source": [
    "### **try-except-else**"
   ]
  },
  {
   "cell_type": "code",
   "execution_count": 56,
   "id": "4d61ad3f-c68c-4c9a-a55e-60b97c887572",
   "metadata": {},
   "outputs": [
    {
     "name": "stdout",
     "output_type": "stream",
     "text": [
      "hello\n",
      "Nothing Wrong\n"
     ]
    }
   ],
   "source": [
    "a = 'hello'\n",
    "try:\n",
    "    print(a)\n",
    "except:\n",
    "    print(\"An Error Occured\")\n",
    "else:\n",
    "    print('Nothing Wrong')"
   ]
  },
  {
   "cell_type": "code",
   "execution_count": 63,
   "id": "771d46f3-9801-4fc1-83bf-3b3450c19564",
   "metadata": {},
   "outputs": [],
   "source": [
    "def AbyB(a, b):\n",
    "    try:\n",
    "        c = ((a+b)/(a-b))\n",
    "    except ZeroDivisionError as e:\n",
    "        print(f\"Error: Not {e}\")\n",
    "    except TypeError as e:\n",
    "        print(f\"Error: {e}\")\n",
    "    else:\n",
    "        print(c)"
   ]
  },
  {
   "cell_type": "code",
   "execution_count": 64,
   "id": "62556184-167c-4c73-a11b-57a3d0077953",
   "metadata": {},
   "outputs": [
    {
     "name": "stdout",
     "output_type": "stream",
     "text": [
      "Error: Not division by zero\n"
     ]
    }
   ],
   "source": [
    "AbyB(3,3)"
   ]
  },
  {
   "cell_type": "code",
   "execution_count": 65,
   "id": "28b11df2-31e6-4669-9b30-1a54059cedcc",
   "metadata": {},
   "outputs": [
    {
     "name": "stdout",
     "output_type": "stream",
     "text": [
      "Error: unsupported operand type(s) for +: 'int' and 'str'\n"
     ]
    }
   ],
   "source": [
    "AbyB(3,'a')"
   ]
  },
  {
   "cell_type": "code",
   "execution_count": 66,
   "id": "d14151dc-2fcb-4b59-866b-c27f2505f7b1",
   "metadata": {},
   "outputs": [
    {
     "name": "stdout",
     "output_type": "stream",
     "text": [
      "-4.0\n"
     ]
    }
   ],
   "source": [
    "AbyB(3,5)"
   ]
  },
  {
   "cell_type": "code",
   "execution_count": 67,
   "id": "a733936a-00f0-4951-9574-ecaefcae69fe",
   "metadata": {},
   "outputs": [],
   "source": [
    "def finding_num(n):\n",
    "    try:\n",
    "        a = [1,2,3,4,5,6,7]\n",
    "        c  = a[n]\n",
    "    except IndexError as e:\n",
    "        print(f\"Error: {e}\")\n",
    "    except TypeError as e:\n",
    "        print(f\"Error: {e}\")\n",
    "    else:\n",
    "        print(c)"
   ]
  },
  {
   "cell_type": "code",
   "execution_count": 68,
   "id": "db4b2c7b-fc32-4d91-931b-f9cb9704cb81",
   "metadata": {},
   "outputs": [
    {
     "name": "stdout",
     "output_type": "stream",
     "text": [
      "2\n"
     ]
    }
   ],
   "source": [
    "finding_num(1)"
   ]
  },
  {
   "cell_type": "code",
   "execution_count": 69,
   "id": "cc9be6cf-f3f6-48d1-9714-86a9644f380b",
   "metadata": {},
   "outputs": [
    {
     "name": "stdout",
     "output_type": "stream",
     "text": [
      "Error: list index out of range\n"
     ]
    }
   ],
   "source": [
    "finding_num(8)"
   ]
  },
  {
   "cell_type": "code",
   "execution_count": 70,
   "id": "08aaa19b-1349-46d8-abae-14b904f86681",
   "metadata": {},
   "outputs": [
    {
     "name": "stdout",
     "output_type": "stream",
     "text": [
      "Error: list indices must be integers or slices, not str\n"
     ]
    }
   ],
   "source": [
    "finding_num('a')"
   ]
  },
  {
   "cell_type": "markdown",
   "id": "c6026cb9-1b9a-4d2b-934c-e241a9782659",
   "metadata": {},
   "source": [
    "### **try-except-else-finally**"
   ]
  },
  {
   "cell_type": "code",
   "execution_count": 3,
   "id": "86bf1a74-432f-49ef-931b-b3022415ee71",
   "metadata": {},
   "outputs": [
    {
     "name": "stdout",
     "output_type": "stream",
     "text": [
      "10\n",
      "the try Except is finished\n"
     ]
    }
   ],
   "source": [
    "try:\n",
    "    x = 10\n",
    "    print(x)\n",
    "except NameError:\n",
    "    print(\"Error\")\n",
    "finally:\n",
    "    print(\"the try Except is finished\")"
   ]
  },
  {
   "cell_type": "code",
   "execution_count": 6,
   "id": "311e6673-c9fc-4015-9f8f-8d6561226b20",
   "metadata": {},
   "outputs": [
    {
     "name": "stdin",
     "output_type": "stream",
     "text": [
      "Enter a Num:  2\n"
     ]
    },
    {
     "name": "stdout",
     "output_type": "stream",
     "text": [
      "2\n",
      "Thank You\n"
     ]
    }
   ],
   "source": [
    "try:\n",
    "    a = int(input(\"Enter a Num: \"))\n",
    "    k = 5//a\n",
    "\n",
    "except ZeroDivisionError as e:\n",
    "    print(f\"Error {e}\")\n",
    "except ValueError as e:\n",
    "    print(f\"Error : {e}\")\n",
    "else:\n",
    "    print(k)\n",
    "\n",
    "finally:\n",
    "    print(\"Thank You\")"
   ]
  },
  {
   "cell_type": "code",
   "execution_count": 12,
   "id": "359721ed-4adc-4cc5-b960-1daed553796f",
   "metadata": {},
   "outputs": [],
   "source": [
    "def find_num(i):\n",
    "    try:\n",
    "        a = [1,2,3,4]\n",
    "        result = a[i]\n",
    "    except TypeError as e:\n",
    "        print(f\"Error: {e}\")\n",
    "    except IndexError as e:\n",
    "        print(f\"Error: {e}\")\n",
    "    else:\n",
    "        print(result)\n",
    "    finally:\n",
    "        print(\"Exception is finished\")"
   ]
  },
  {
   "cell_type": "code",
   "execution_count": 8,
   "id": "cecd174b-2f2c-4571-aaca-3fbe6a903703",
   "metadata": {},
   "outputs": [
    {
     "name": "stdout",
     "output_type": "stream",
     "text": [
      "2\n",
      "Exception is finished\n"
     ]
    }
   ],
   "source": [
    "find_num(1)"
   ]
  },
  {
   "cell_type": "code",
   "execution_count": 9,
   "id": "39a8d171-0aa8-47e0-9696-9be45811a31c",
   "metadata": {},
   "outputs": [
    {
     "name": "stdout",
     "output_type": "stream",
     "text": [
      "Error: list index out of range\n",
      "Exception is finished\n"
     ]
    }
   ],
   "source": [
    "find_num(4)"
   ]
  },
  {
   "cell_type": "code",
   "execution_count": 13,
   "id": "5686ea5d-d272-4ccc-a424-fe9da652d856",
   "metadata": {
    "scrolled": true
   },
   "outputs": [
    {
     "name": "stdout",
     "output_type": "stream",
     "text": [
      "Error: list indices must be integers or slices, not str\n",
      "Exception is finished\n"
     ]
    }
   ],
   "source": [
    "find_num('a')"
   ]
  },
  {
   "cell_type": "markdown",
   "id": "03425197-c4fc-4795-ae39-d1e87f7024e4",
   "metadata": {},
   "source": [
    "### Raise Exception or Custom Exception\n",
    "\n",
    "```\n",
    "raise ExcetionType(\" Error Message\")\n",
    "```"
   ]
  },
  {
   "cell_type": "code",
   "execution_count": 14,
   "id": "77cec9fc-61ea-40e6-8348-33a4c55c3cd6",
   "metadata": {
    "scrolled": true
   },
   "outputs": [
    {
     "ename": "Exception",
     "evalue": "a is Even Number",
     "output_type": "error",
     "traceback": [
      "\u001b[1;31m---------------------------------------------------------------------------\u001b[0m",
      "\u001b[1;31mException\u001b[0m                                 Traceback (most recent call last)",
      "Cell \u001b[1;32mIn[14], line 4\u001b[0m\n\u001b[0;32m      1\u001b[0m a \u001b[38;5;241m=\u001b[39m \u001b[38;5;241m10\u001b[39m\n\u001b[0;32m      3\u001b[0m \u001b[38;5;28;01mif\u001b[39;00m a\u001b[38;5;241m%\u001b[39m\u001b[38;5;241m2\u001b[39m\u001b[38;5;241m==\u001b[39m\u001b[38;5;241m0\u001b[39m:\n\u001b[1;32m----> 4\u001b[0m     \u001b[38;5;28;01mraise\u001b[39;00m \u001b[38;5;167;01mException\u001b[39;00m(\u001b[38;5;124m\"\u001b[39m\u001b[38;5;124ma is Even Number\u001b[39m\u001b[38;5;124m\"\u001b[39m)\n",
      "\u001b[1;31mException\u001b[0m: a is Even Number"
     ]
    }
   ],
   "source": [
    "a = 10\n",
    "\n",
    "if a%2==0:\n",
    "    raise Exception(\"a is Even Number\")"
   ]
  },
  {
   "cell_type": "code",
   "execution_count": null,
   "id": "db012651-9d5a-4579-a000-bffe54a4b209",
   "metadata": {
    "scrolled": true
   },
   "outputs": [],
   "source": [
    "dir(__builtin__)"
   ]
  },
  {
   "cell_type": "code",
   "execution_count": 26,
   "id": "36590f71-14cb-4931-9309-4fa90784b259",
   "metadata": {},
   "outputs": [
    {
     "ename": "ValueError",
     "evalue": "The String is AlphNumaric",
     "output_type": "error",
     "traceback": [
      "\u001b[1;31m---------------------------------------------------------------------------\u001b[0m",
      "\u001b[1;31mValueError\u001b[0m                                Traceback (most recent call last)",
      "Cell \u001b[1;32mIn[26], line 4\u001b[0m\n\u001b[0;32m      1\u001b[0m a \u001b[38;5;241m=\u001b[39m \u001b[38;5;124m'\u001b[39m\u001b[38;5;124mHello\u001b[39m\u001b[38;5;124m'\u001b[39m\n\u001b[0;32m      3\u001b[0m \u001b[38;5;28;01mif\u001b[39;00m a\u001b[38;5;241m.\u001b[39misalnum():\n\u001b[1;32m----> 4\u001b[0m     \u001b[38;5;28;01mraise\u001b[39;00m \u001b[38;5;167;01mValueError\u001b[39;00m(\u001b[38;5;124m\"\u001b[39m\u001b[38;5;124mThe String is AlphNumaric\u001b[39m\u001b[38;5;124m\"\u001b[39m)\n",
      "\u001b[1;31mValueError\u001b[0m: The String is AlphNumaric"
     ]
    }
   ],
   "source": [
    "a = 'Hello'\n",
    "\n",
    "if a.isalnum():\n",
    "    raise ValueError(\"The String is AlphNumaric\")"
   ]
  },
  {
   "cell_type": "code",
   "execution_count": 18,
   "id": "cba0880d-4d52-493f-a6bd-7db67631c25b",
   "metadata": {},
   "outputs": [
    {
     "name": "stdin",
     "output_type": "stream",
     "text": [
      "Enter a Number 0\n"
     ]
    },
    {
     "ename": "Exception",
     "evalue": "Zero",
     "output_type": "error",
     "traceback": [
      "\u001b[1;31m---------------------------------------------------------------------------\u001b[0m",
      "\u001b[1;31mException\u001b[0m                                 Traceback (most recent call last)",
      "Cell \u001b[1;32mIn[18], line 8\u001b[0m\n\u001b[0;32m      6\u001b[0m     \u001b[38;5;28;01mraise\u001b[39;00m \u001b[38;5;167;01mException\u001b[39;00m(\u001b[38;5;124m\"\u001b[39m\u001b[38;5;124mF is Negitive Number\u001b[39m\u001b[38;5;124m\"\u001b[39m)\n\u001b[0;32m      7\u001b[0m \u001b[38;5;28;01melse\u001b[39;00m: \n\u001b[1;32m----> 8\u001b[0m     \u001b[38;5;28;01mraise\u001b[39;00m \u001b[38;5;167;01mException\u001b[39;00m(\u001b[38;5;124m\"\u001b[39m\u001b[38;5;124mZero\u001b[39m\u001b[38;5;124m\"\u001b[39m)\n",
      "\u001b[1;31mException\u001b[0m: Zero"
     ]
    }
   ],
   "source": [
    "f = int(input(\"Enter a Number\"))\n",
    "\n",
    "if f > 0:\n",
    "    raise Exception(\"F is Positive Number\")\n",
    "elif f <0:\n",
    "    raise Exception(\"F is Negitive Number\")\n",
    "else: \n",
    "    raise Exception(\"Zero\")"
   ]
  },
  {
   "cell_type": "code",
   "execution_count": 22,
   "id": "fba7690b-3e93-4bcb-8497-b99e27f71ef2",
   "metadata": {},
   "outputs": [],
   "source": [
    "def finding_num():\n",
    "    try:\n",
    "        f = int(input(\"Enter a Number\"))\n",
    "        \n",
    "        if f > 0:\n",
    "            raise Exception(\"F is Positive Number\")\n",
    "        elif f <0:\n",
    "            raise Exception(\"F is Negitive Number\")\n",
    "        else: \n",
    "            raise Exception(\"Zero\")\n",
    "\n",
    "    except Exception as e:\n",
    "        print(f\"Error: {e}\")\n",
    "    finally:\n",
    "        print(\"Thank You\")"
   ]
  },
  {
   "cell_type": "code",
   "execution_count": 23,
   "id": "bcdb64b8-6a90-4bec-9427-852168b79e50",
   "metadata": {},
   "outputs": [
    {
     "name": "stdin",
     "output_type": "stream",
     "text": [
      "Enter a Number 1\n"
     ]
    },
    {
     "name": "stdout",
     "output_type": "stream",
     "text": [
      "Error: F is Positive Number\n",
      "Thank You\n"
     ]
    }
   ],
   "source": [
    "finding_num()"
   ]
  },
  {
   "cell_type": "code",
   "execution_count": 24,
   "id": "a90ef62b-d304-49d5-9fb7-2c363a6234dd",
   "metadata": {},
   "outputs": [
    {
     "name": "stdin",
     "output_type": "stream",
     "text": [
      "Enter a Number -4\n"
     ]
    },
    {
     "name": "stdout",
     "output_type": "stream",
     "text": [
      "Error: F is Negitive Number\n",
      "Thank You\n"
     ]
    }
   ],
   "source": [
    "finding_num()"
   ]
  },
  {
   "cell_type": "code",
   "execution_count": 25,
   "id": "6c63ea59-ac81-424b-9528-21ddb1b85b96",
   "metadata": {},
   "outputs": [
    {
     "name": "stdin",
     "output_type": "stream",
     "text": [
      "Enter a Number 0\n"
     ]
    },
    {
     "name": "stdout",
     "output_type": "stream",
     "text": [
      "Error: Zero\n",
      "Thank You\n"
     ]
    }
   ],
   "source": [
    "finding_num()"
   ]
  },
  {
   "cell_type": "markdown",
   "id": "169dea56-76e9-4873-a14e-783b572774f6",
   "metadata": {
    "jp-MarkdownHeadingCollapsed": true
   },
   "source": [
    "## **Regular Expression**"
   ]
  },
  {
   "cell_type": "markdown",
   "id": "398146e5-5684-438f-a5a4-9d5b82712876",
   "metadata": {},
   "source": [
    "#### **Escape Sequences:**\n",
    " \n",
    "Regular expressions support various escape sequences that represent special characters or character classes. Some commonly used escape sequences are\n",
    "\n",
    "### Regular Expression Special Sequences\n",
    "\n",
    "| Pattern | Description                                                                                   |\n",
    "|---------|-----------------------------------------------------------------------------------------------|\n",
    "| \\A      | Matches if the string begins with the given character.                                       |\n",
    "| \\b      | Matches if the word begins or ends with the given character.                                 |\n",
    "| \\B      | Matches if the word does not begin or end with the given character (opposite of \\b).         |\n",
    "| \\d      | Matches any decimal digit (equivalent to [0-9]).                                             |\n",
    "| \\D      | Matches any non-digit character (equivalent to [^0-9]).                                      |\n",
    "| \\s      | Matches any whitespace character (spaces, tabs, newlines).                                   |\n",
    "| \\S      | Matches any non-whitespace character.                                                        |\n",
    "| \\w      | Matches any alphanumeric character (letters, digits, or underscore).                         |\n",
    "| \\W      | Matches any non-alphanumeric character (symbols, punctuation, etc.).                         |\n",
    "| \\Z      | Matches if the string ends with the given regex.                                             |\n",
    "| \\n      | Matches a newline character.                                                                 |\n"
   ]
  },
  {
   "cell_type": "code",
   "execution_count": 1,
   "id": "95361b0b-7d27-47bf-b386-390e49868353",
   "metadata": {},
   "outputs": [],
   "source": [
    "import re\n",
    "\n",
    "import warnings\n",
    "warnings.filterwarnings('ignore')"
   ]
  },
  {
   "cell_type": "code",
   "execution_count": 28,
   "id": "9083b65d-12d0-47ca-afa9-919d67a8e331",
   "metadata": {},
   "outputs": [
    {
     "name": "stdout",
     "output_type": "stream",
     "text": [
      "<re.Match object; span=(0, 6), match='Python'>\n"
     ]
    }
   ],
   "source": [
    "txt = \"Python Hello World\"\n",
    "pattern = r'\\APython'\n",
    "\n",
    "match = re.match(pattern, txt)\n",
    "print(match)"
   ]
  },
  {
   "cell_type": "code",
   "execution_count": 30,
   "id": "1910a68e-5fcd-46ad-ba09-86b5262f79d5",
   "metadata": {},
   "outputs": [
    {
     "name": "stdout",
     "output_type": "stream",
     "text": [
      "Python\n"
     ]
    }
   ],
   "source": [
    "print(match.group())"
   ]
  },
  {
   "cell_type": "code",
   "execution_count": 31,
   "id": "0262afbf-e521-4b4b-8a08-f588c8ecde3f",
   "metadata": {},
   "outputs": [
    {
     "name": "stdout",
     "output_type": "stream",
     "text": [
      "<re.Match object; span=(0, 5), match='Hello'>\n"
     ]
    }
   ],
   "source": [
    "text = \"Hello World! Hello Again\"\n",
    "pattern = r'\\bhello'\n",
    "\n",
    "match = re.search(pattern, text, re.IGNORECASE)\n",
    "print(match)"
   ]
  },
  {
   "cell_type": "code",
   "execution_count": 32,
   "id": "5dc5ff31-23db-4273-8ba9-227c4a6dcbdd",
   "metadata": {},
   "outputs": [
    {
     "name": "stdout",
     "output_type": "stream",
     "text": [
      "['Hello', 'Hello']\n"
     ]
    }
   ],
   "source": [
    "text = \"Hello World! Hello Again\"\n",
    "pattern = r'\\bhello'\n",
    "\n",
    "match = re.findall(pattern, text, re.IGNORECASE)\n",
    "print(match)"
   ]
  },
  {
   "cell_type": "code",
   "execution_count": 34,
   "id": "4da397e8-f90d-421c-8032-b1102f286b0b",
   "metadata": {},
   "outputs": [
    {
     "name": "stdout",
     "output_type": "stream",
     "text": [
      "['123']\n"
     ]
    }
   ],
   "source": [
    "text = \"There are 123 apples\"\n",
    "pattern = r'\\d+'\n",
    "\n",
    "digit = re.findall(pattern, text, re.IGNORECASE)\n",
    "print(digit)"
   ]
  },
  {
   "cell_type": "code",
   "execution_count": 35,
   "id": "bd9f4f87-bc86-48e3-9aac-d2c3c2fbcc18",
   "metadata": {},
   "outputs": [
    {
     "name": "stdout",
     "output_type": "stream",
     "text": [
      "['There are ', ' apples']\n"
     ]
    }
   ],
   "source": [
    "text = \"There are 123 apples\"\n",
    "pattern = r'\\D+'\n",
    "\n",
    "digit = re.findall(pattern, text, re.IGNORECASE)\n",
    "print(digit)"
   ]
  },
  {
   "cell_type": "code",
   "execution_count": 44,
   "id": "3e94c8af-0dfe-4630-a2fc-0a707bd589a9",
   "metadata": {},
   "outputs": [
    {
     "data": {
      "text/plain": [
       "[' ', ' ', ' ']"
      ]
     },
     "execution_count": 44,
     "metadata": {},
     "output_type": "execute_result"
    }
   ],
   "source": [
    "text = 'Python Hello World '\n",
    "pattern = r'\\s'\n",
    "\n",
    "space = re.findall(pattern, text)\n",
    "space"
   ]
  },
  {
   "cell_type": "code",
   "execution_count": 42,
   "id": "ec1c57e3-5115-4b64-b090-5d927e6e6c40",
   "metadata": {},
   "outputs": [
    {
     "data": {
      "text/plain": [
       "['Python', 'Hello', 'World']"
      ]
     },
     "execution_count": 42,
     "metadata": {},
     "output_type": "execute_result"
    }
   ],
   "source": [
    "text = 'Python Hello World'\n",
    "pattern = r'\\S+'\n",
    "\n",
    "space = re.findall(pattern, text)\n",
    "space"
   ]
  },
  {
   "cell_type": "code",
   "execution_count": 4,
   "id": "6596fae3-35d6-47e9-875a-3345b09c7dc2",
   "metadata": {},
   "outputs": [
    {
     "name": "stdout",
     "output_type": "stream",
     "text": [
      "['Hello', 'World', '123']\n"
     ]
    }
   ],
   "source": [
    "text = \"Hello, World! 123\"\n",
    "pattern = r'\\w+'\n",
    "\n",
    "matches = re.findall(pattern, text, flags=re.IGNORECASE)\n",
    "print(matches)"
   ]
  },
  {
   "cell_type": "code",
   "execution_count": 5,
   "id": "14a421f7-6d40-4db9-a7ff-5ac29d09bd2b",
   "metadata": {},
   "outputs": [
    {
     "name": "stdout",
     "output_type": "stream",
     "text": [
      "[', ', '! ']\n"
     ]
    }
   ],
   "source": [
    "text = \"Hello, World! 123\"\n",
    "pattern = r'\\W+'\n",
    "\n",
    "matches = re.findall(pattern, text, flags=re.IGNORECASE)\n",
    "print(matches)"
   ]
  },
  {
   "cell_type": "code",
   "execution_count": 11,
   "id": "3a5fd70b-5c11-4539-a965-4eb10d8d24d2",
   "metadata": {},
   "outputs": [
    {
     "name": "stdout",
     "output_type": "stream",
     "text": [
      "<re.Match object; span=(39, 45), match='mining'>\n"
     ]
    }
   ],
   "source": [
    "text = \"Regular Expression is the best tool to mining\"\n",
    "pattern = r'mining\\Z'\n",
    "\n",
    "match = re.search(pattern, text)\n",
    "print(match)"
   ]
  },
  {
   "cell_type": "markdown",
   "id": "8ac8c8a0-7622-4cb9-8e72-0f4a1d986d41",
   "metadata": {},
   "source": [
    "### **Metacharacters:** \n",
    "Regular expressions also include metacharacters that have special meanings and functions. Some common metacharacters are:\n",
    "\n",
    "- . (dot): Matches any character except newline.\n",
    "- ^ (caret): Matches the start of a line.\n",
    "- $ (dollar): Matches the end of a line.\n",
    "- ' * ' (asterisk): Matches zero or more occurrences of the preceding character or group.\n",
    "- ' + ' (plus): Matches one or more occurrences of the preceding character or group.\n",
    "- ? (question mark): Matches zero or one occurrence of the preceding character or group.\n",
    "- \\ (backslash): Escapes a metacharacter, treating it as a literal character."
   ]
  },
  {
   "cell_type": "code",
   "execution_count": 13,
   "id": "738e18ec-0263-43d8-8c45-a4712cc371b7",
   "metadata": {},
   "outputs": [
    {
     "name": "stdout",
     "output_type": "stream",
     "text": [
      "['Hello']\n"
     ]
    }
   ],
   "source": [
    "text = \"Hello heleo\"\n",
    "pattern = r\"he.lo\"\n",
    "\n",
    "words = re.findall(pattern, text, flags=re.IGNORECASE)\n",
    "print(words)"
   ]
  },
  {
   "cell_type": "code",
   "execution_count": 16,
   "id": "198a1840-9a97-4f0d-bab1-13efa3b1cd3d",
   "metadata": {},
   "outputs": [
    {
     "name": "stdout",
     "output_type": "stream",
     "text": [
      "None\n"
     ]
    }
   ],
   "source": [
    "text = 'Compute Saianca science portal-GeeksforGeeks'\n",
    "pattern = r'^Compute'\n",
    "\n",
    "match = re.search(pattern, text, flags=re.IGNORECASE)\n",
    "print(match)"
   ]
  },
  {
   "cell_type": "code",
   "execution_count": 19,
   "id": "8839933f-4bc2-4c2a-82d2-d0f94e88a2c5",
   "metadata": {},
   "outputs": [
    {
     "name": "stdout",
     "output_type": "stream",
     "text": [
      "<re.Match object; span=(39, 44), match='Geeks'>\n"
     ]
    }
   ],
   "source": [
    "text = 'Compute Saianca science portal-GeeksforGeeks'\n",
    "pattern = r'Geeks$'\n",
    "\n",
    "match = re.search(pattern, text, flags=re.IGNORECASE)\n",
    "print(match)"
   ]
  },
  {
   "cell_type": "code",
   "execution_count": 27,
   "id": "e17a9468-9ef8-4522-b4d4-dee669b61563",
   "metadata": {},
   "outputs": [
    {
     "name": "stdout",
     "output_type": "stream",
     "text": [
      "['Helllllo']\n"
     ]
    }
   ],
   "source": [
    "text = 'Helllllo'\n",
    "pattern = r'hel*o'\n",
    "\n",
    "match = re.findall(pattern, text, flags=re.IGNORECASE)\n",
    "print(match)"
   ]
  },
  {
   "cell_type": "code",
   "execution_count": 31,
   "id": "45f0fb0c-20fa-4067-b044-05831a41404b",
   "metadata": {},
   "outputs": [
    {
     "name": "stdout",
     "output_type": "stream",
     "text": [
      "['Hellllllo']\n"
     ]
    }
   ],
   "source": [
    "text = 'Hellllllo'\n",
    "pattern = r'hel+o'\n",
    "\n",
    "match = re.findall(pattern, text, flags=re.IGNORECASE)\n",
    "print(match)"
   ]
  },
  {
   "cell_type": "code",
   "execution_count": 33,
   "id": "72f9d013-1bac-4b23-9673-72d325f78e56",
   "metadata": {},
   "outputs": [
    {
     "name": "stdout",
     "output_type": "stream",
     "text": [
      "['color', 'colour']\n"
     ]
    }
   ],
   "source": [
    "text = 'color, colour'\n",
    "pattern = r'colou?r'\n",
    "\n",
    "match = re.findall(pattern, text, flags=re.IGNORECASE)\n",
    "print(match)"
   ]
  },
  {
   "cell_type": "code",
   "execution_count": 36,
   "id": "c8e8ec4d-b670-4046-9806-a9a4c921d95c",
   "metadata": {},
   "outputs": [
    {
     "name": "stdout",
     "output_type": "stream",
     "text": [
      "['$5?']\n"
     ]
    }
   ],
   "source": [
    "text = 'Do you have $5?'\n",
    "pattern = r'\\$5?'\n",
    "\n",
    "match = re.findall(pattern, text, flags=re.IGNORECASE)\n",
    "print(match)"
   ]
  },
  {
   "cell_type": "markdown",
   "id": "81fedfde-8b3a-4808-a291-6bc2937185c5",
   "metadata": {},
   "source": [
    "### **Character Classes:** \n",
    "\n",
    "Character classes allow you to define a set of characters that can match at a certain position in a string. Some common character classes include:\n",
    "- [abc]: Matches any character a, b, or c.\n",
    "- [a-z]: Matches any lowercase letter.\n",
    "- [A-Z]: Matches any uppercase letter.\n",
    "- [0-9]: Matches any digit.\n",
    "- [^abc]: Matches any character except a, b, or c"
   ]
  },
  {
   "cell_type": "code",
   "execution_count": 39,
   "id": "67b78e79-d2c7-40fc-ba41-0bcd07e14314",
   "metadata": {},
   "outputs": [
    {
     "name": "stdout",
     "output_type": "stream",
     "text": [
      "['abc', 'a', 'ba', 'a', 'a', 'c']\n"
     ]
    }
   ],
   "source": [
    "text = 'abc apple, banana, cherry'\n",
    "pattern = r'[abc]+'\n",
    "\n",
    "match = re.findall(pattern, text)\n",
    "print(match)"
   ]
  },
  {
   "cell_type": "code",
   "execution_count": 41,
   "id": "4c56ad56-fbd9-4b9a-8a9e-8dea2d3cf140",
   "metadata": {},
   "outputs": [
    {
     "name": "stdout",
     "output_type": "stream",
     "text": [
      "['mpute', 'e', 'e', 'p', 't', 'ee', 'ee']\n"
     ]
    }
   ],
   "source": [
    "text = 'Compute Saianca science portal-GeeksforGeeks'\n",
    "pattern = r'[mpute]+'\n",
    "\n",
    "match = re.findall(pattern, text, flags=re.IGNORECASE)\n",
    "print(match)"
   ]
  },
  {
   "cell_type": "code",
   "execution_count": 43,
   "id": "b96a8dd4-6045-4e8b-b413-ac6dfbe68cd8",
   "metadata": {},
   "outputs": [
    {
     "name": "stdout",
     "output_type": "stream",
     "text": [
      "['ha', 'ac', 'e', 'cla', 'e', 'allo', 'o', 'o', 'define', 'a', 'e', 'of', 'cha', 'ac', 'e']\n"
     ]
    }
   ],
   "source": [
    "text = 'Character classes allow you to define a set of characters'\n",
    "\n",
    "pattern = r'[a-o]+'\n",
    "\n",
    "match = re.findall(pattern, text)\n",
    "print(match)"
   ]
  },
  {
   "cell_type": "code",
   "execution_count": 44,
   "id": "b28447eb-5e74-45a4-ba24-56e191a825f9",
   "metadata": {},
   "outputs": [
    {
     "name": "stdout",
     "output_type": "stream",
     "text": [
      "['C']\n"
     ]
    }
   ],
   "source": [
    "text = 'Character classes allow you to define a set of characters'\n",
    "\n",
    "pattern = r'[A-Z]+'\n",
    "\n",
    "match = re.findall(pattern, text)\n",
    "print(match)"
   ]
  },
  {
   "cell_type": "code",
   "execution_count": 45,
   "id": "601bcb62-d389-4c95-9583-11602e43a37c",
   "metadata": {},
   "outputs": [
    {
     "name": "stdout",
     "output_type": "stream",
     "text": [
      "['12345']\n"
     ]
    }
   ],
   "source": [
    "text = \"Order number: 12345\"\n",
    "pattern = r'\\d+'\n",
    "\n",
    "match = re.findall(pattern, text, flags=re.IGNORECASE)\n",
    "print(match)"
   ]
  },
  {
   "cell_type": "code",
   "execution_count": 46,
   "id": "a4a184b7-9fae-4293-8650-97df2f3f473e",
   "metadata": {},
   "outputs": [
    {
     "name": "stdout",
     "output_type": "stream",
     "text": [
      "['12345']\n"
     ]
    }
   ],
   "source": [
    "text = \"Order number: 12345\"\n",
    "pattern = r'[0-9]+'\n",
    "\n",
    "match = re.findall(pattern, text, flags=re.IGNORECASE)\n",
    "print(match)"
   ]
  },
  {
   "cell_type": "code",
   "execution_count": 50,
   "id": "8cc5a031-2bcc-4cd0-8d35-e8131f8ec032",
   "metadata": {},
   "outputs": [
    {
     "name": "stdout",
     "output_type": "stream",
     "text": [
      "['number: 12345']\n"
     ]
    }
   ],
   "source": [
    "text = \"Order number: 12345\"\n",
    "pattern = r'number: [0-9]+'\n",
    "\n",
    "match = re.findall(pattern, text, flags=re.IGNORECASE)\n",
    "print(match)"
   ]
  },
  {
   "cell_type": "code",
   "execution_count": 51,
   "id": "db522e2f-4d8c-4aed-b592-9e6137e14c9d",
   "metadata": {},
   "outputs": [
    {
     "name": "stdout",
     "output_type": "stream",
     "text": [
      "['abc123ABC']\n"
     ]
    }
   ],
   "source": [
    "text = 'abc123ABC'\n",
    "pattern = r'\\w+'\n",
    "\n",
    "match = re.findall(pattern, text, flags=re.IGNORECASE)\n",
    "print(match)"
   ]
  },
  {
   "cell_type": "code",
   "execution_count": 52,
   "id": "a7465b61-32db-45f3-8f3b-ae4124ac9351",
   "metadata": {},
   "outputs": [
    {
     "name": "stdout",
     "output_type": "stream",
     "text": [
      "['abc123ABC']\n"
     ]
    }
   ],
   "source": [
    "text = 'abc123ABC'\n",
    "pattern = r'[a-zA-Z0-9]+'\n",
    "\n",
    "match = re.findall(pattern, text, flags=re.IGNORECASE)\n",
    "print(match)"
   ]
  },
  {
   "cell_type": "code",
   "execution_count": 54,
   "id": "9ad2524c-a4cc-4f70-b412-21b06b3b8446",
   "metadata": {},
   "outputs": [
    {
     "name": "stdout",
     "output_type": "stream",
     "text": [
      "[' numb', ': 12345']\n"
     ]
    }
   ],
   "source": [
    "text = \"Order number: 12345\"\n",
    "pattern = r'[^Oder]+'\n",
    "\n",
    "match = re.findall(pattern, text, flags=re.IGNORECASE)\n",
    "print(match)"
   ]
  },
  {
   "cell_type": "markdown",
   "id": "8c8575cd-28de-45ac-8f1f-86ed0f0d0fcc",
   "metadata": {},
   "source": [
    "### **Quantifiers:**\n",
    "Quantifiers specify how many times a character or group can occur. Some commonly used quantifiers are:\n",
    "- {n}: Matches exactly n occurrences of the preceding character or group.\n",
    "- {n,}: Matches n or more occurrences of the preceding character or group.\n",
    "- {n,m}: Matches between n and m occurrences of the preceding character or group."
   ]
  },
  {
   "cell_type": "code",
   "execution_count": 55,
   "id": "0d12285c-8c5b-4bbe-aeda-f32f2eefb2f2",
   "metadata": {},
   "outputs": [
    {
     "name": "stdout",
     "output_type": "stream",
     "text": [
      "['Hellooo']\n"
     ]
    }
   ],
   "source": [
    "text = \"Helloooo\"\n",
    "pattern = r\"hello{3}\"\n",
    "\n",
    "match = re.findall(pattern, text, flags=re.IGNORECASE)\n",
    "print(match)"
   ]
  },
  {
   "cell_type": "code",
   "execution_count": 58,
   "id": "eef24f94-4cb2-431a-8823-b23f406a2b25",
   "metadata": {},
   "outputs": [
    {
     "name": "stdout",
     "output_type": "stream",
     "text": [
      "['Helloooo']\n"
     ]
    }
   ],
   "source": [
    "text = \"Helloooo\"\n",
    "pattern = r\"hello{2,}\"\n",
    "\n",
    "match = re.findall(pattern, text, flags=re.IGNORECASE)\n",
    "print(match)"
   ]
  },
  {
   "cell_type": "code",
   "execution_count": 65,
   "id": "3cc65af4-8814-4c0e-8f19-51b33a3cdac9",
   "metadata": {},
   "outputs": [
    {
     "name": "stdout",
     "output_type": "stream",
     "text": [
      "['helloooo']\n"
     ]
    }
   ],
   "source": [
    "text = \"helloooo0\"\n",
    "pattern = r'hello{2,4}'\n",
    "\n",
    "match = re.findall(pattern, text, flags=re.IGNORECASE)\n",
    "print(match)"
   ]
  },
  {
   "cell_type": "code",
   "execution_count": 66,
   "id": "cc87817d-0445-4112-9e85-066990ca2884",
   "metadata": {},
   "outputs": [
    {
     "name": "stdout",
     "output_type": "stream",
     "text": [
      "['11/07/2025']\n"
     ]
    }
   ],
   "source": [
    "text = \"Today is 11/07/2025\"\n",
    "\n",
    "pattern = r'[\\d]{2}/[\\d]{2}/[\\d]{4}'\n",
    "\n",
    "match = re.findall(pattern, text, flags=re.IGNORECASE)\n",
    "print(match)"
   ]
  },
  {
   "cell_type": "code",
   "execution_count": 67,
   "id": "5c2c09d1-6545-4419-94d4-c93ff5df3883",
   "metadata": {},
   "outputs": [
    {
     "name": "stdout",
     "output_type": "stream",
     "text": [
      "['+91 8088989786']\n"
     ]
    }
   ],
   "source": [
    "text = \"Phone number: +91 8088989786\"\n",
    "\n",
    "pattern = r'\\+91 [\\d]{10}'\n",
    "\n",
    "match = re.findall(pattern, text, flags=re.IGNORECASE)\n",
    "print(match)"
   ]
  },
  {
   "cell_type": "markdown",
   "id": "ed0b7734-c0b2-4834-a61d-09c0e5420087",
   "metadata": {},
   "source": [
    "#### **Split**"
   ]
  },
  {
   "cell_type": "code",
   "execution_count": 1,
   "id": "f6e8935e-7066-433c-b6bf-f103d2debb6a",
   "metadata": {},
   "outputs": [],
   "source": [
    "import re"
   ]
  },
  {
   "cell_type": "code",
   "execution_count": 2,
   "id": "e3f5939c-37b0-4ce8-80fa-959f2999de39",
   "metadata": {},
   "outputs": [
    {
     "name": "stdout",
     "output_type": "stream",
     "text": [
      "['The', 'rain', 'in', 'Banglore']\n"
     ]
    }
   ],
   "source": [
    "text = \"The rain in Banglore\"\n",
    "\n",
    "text1 = \"The-rain-in-Banglore\"\n",
    "\n",
    "pattern = r'\\s'\n",
    "\n",
    "match = re.split(pattern, text)\n",
    "print(match)"
   ]
  },
  {
   "cell_type": "code",
   "execution_count": 3,
   "id": "089933b5-eb0e-4b31-a548-ebfda7f11981",
   "metadata": {},
   "outputs": [
    {
     "name": "stdout",
     "output_type": "stream",
     "text": [
      "['The', 'rain', 'in', 'Banglore']\n"
     ]
    }
   ],
   "source": [
    "pattern = r'\\-'\n",
    "\n",
    "match = re.split(pattern, text1)\n",
    "print(match)"
   ]
  },
  {
   "cell_type": "code",
   "execution_count": 7,
   "id": "1a9165f7-b05e-4789-a303-cb87878e8290",
   "metadata": {},
   "outputs": [
    {
     "data": {
      "text/plain": [
       "['The', 'rain', 'in', 'Banglore']"
      ]
     },
     "execution_count": 7,
     "metadata": {},
     "output_type": "execute_result"
    }
   ],
   "source": [
    "string = text.split(' ')\n",
    "string"
   ]
  },
  {
   "cell_type": "code",
   "execution_count": 9,
   "id": "483c308a-692d-4a09-867b-2a792f27b910",
   "metadata": {},
   "outputs": [
    {
     "data": {
      "text/plain": [
       "'The rain in Banglore'"
      ]
     },
     "execution_count": 9,
     "metadata": {},
     "output_type": "execute_result"
    }
   ],
   "source": [
    "' '.join(string)"
   ]
  },
  {
   "cell_type": "code",
   "execution_count": 19,
   "id": "8eafb56c-904e-4d60-8861-67fc71f042dd",
   "metadata": {},
   "outputs": [
    {
     "name": "stdout",
     "output_type": "stream",
     "text": [
      "['Twelve:', '', ' Ninty nine:', '', '']\n"
     ]
    }
   ],
   "source": [
    "string1 = \"Twelve:12 Ninty nine:99\"\n",
    "\n",
    "pattern = r'\\d'\n",
    "\n",
    "match = re.split(pattern, string1)\n",
    "print(match)"
   ]
  },
  {
   "cell_type": "code",
   "execution_count": 20,
   "id": "7f1a77de-48fa-439f-b374-8f487d1e2226",
   "metadata": {},
   "outputs": [
    {
     "data": {
      "text/plain": [
       "['Regular', 'expression', 'can', 'include', 'litral', 'chracters']"
      ]
     },
     "execution_count": 20,
     "metadata": {},
     "output_type": "execute_result"
    }
   ],
   "source": [
    "text = \"Regular expression can include litral chracters\"\n",
    "match = re.split(r'\\s', text)\n",
    "match"
   ]
  },
  {
   "cell_type": "markdown",
   "id": "91073183-8e1a-414c-8fc9-eda1482439d6",
   "metadata": {},
   "source": [
    "#### **Replace**\n",
    "re.sub"
   ]
  },
  {
   "cell_type": "code",
   "execution_count": 24,
   "id": "64f4c820-ca73-45de-8ca6-66a30da3a55a",
   "metadata": {},
   "outputs": [
    {
     "name": "stdout",
     "output_type": "stream",
     "text": [
      "the Queen in the north clims he/she is worthy\n"
     ]
    }
   ],
   "source": [
    "text = \"the King in the north clims he/she is worthy\"\n",
    "\n",
    "pattern = r'king'\n",
    "\n",
    "match = re.sub(pattern, 'Queen', text, flags=re.IGNORECASE)\n",
    "\n",
    "print(match)"
   ]
  },
  {
   "cell_type": "code",
   "execution_count": 25,
   "id": "96207ac2-973d-4143-aaa6-d91162c9ba4c",
   "metadata": {},
   "outputs": [
    {
     "name": "stdout",
     "output_type": "stream",
     "text": [
      "hello Universe\n"
     ]
    }
   ],
   "source": [
    "text = \"hello World\"\n",
    "\n",
    "pattern = r'world'\n",
    "\n",
    "match = re.sub(pattern, 'Universe', text, flags=re.IGNORECASE)\n",
    "\n",
    "print(match)"
   ]
  },
  {
   "cell_type": "code",
   "execution_count": 31,
   "id": "65a73da5-8d82-424c-a266-18e34fbb1fe2",
   "metadata": {},
   "outputs": [
    {
     "name": "stdout",
     "output_type": "stream",
     "text": [
      "Python-is-a-High-Level Language\n"
     ]
    },
    {
     "name": "stderr",
     "output_type": "stream",
     "text": [
      "C:\\Users\\Admin\\AppData\\Local\\Temp\\ipykernel_7872\\2031149929.py:5: DeprecationWarning: 'count' is passed as positional argument\n",
      "  subt = re.sub(pattern, '-', text, 4)\n"
     ]
    }
   ],
   "source": [
    "text = \"Python is a High Level Language\"\n",
    "\n",
    "pattern = r'\\s'\n",
    "\n",
    "subt = re.sub(pattern, '-', text, 4)\n",
    "print(subt)"
   ]
  },
  {
   "cell_type": "markdown",
   "id": "7dc50a34-e7c4-4e8e-8528-a811c666ea0b",
   "metadata": {},
   "source": [
    "re.subn"
   ]
  },
  {
   "cell_type": "code",
   "execution_count": 32,
   "id": "0dc8c802-5151-4078-9035-f0e4eaaaf737",
   "metadata": {},
   "outputs": [
    {
     "name": "stdout",
     "output_type": "stream",
     "text": [
      "('SUBject has UBer booked already', 2)\n"
     ]
    },
    {
     "name": "stderr",
     "output_type": "stream",
     "text": [
      "C:\\Users\\Admin\\AppData\\Local\\Temp\\ipykernel_7872\\362372641.py:5: DeprecationWarning: 'count' is passed as positional argument\n",
      "  subt = re.subn(pattern,'UB', text, re.IGNORECASE)\n"
     ]
    }
   ],
   "source": [
    "text = \"Subject has uber booked already\"\n",
    "\n",
    "pattern = r'ub'\n",
    "\n",
    "subt = re.subn(pattern,'UB', text, re.IGNORECASE)\n",
    "print(subt)"
   ]
  },
  {
   "cell_type": "code",
   "execution_count": 43,
   "id": "dd152a30-ea78-40c7-a539-a8b1f03e6b8a",
   "metadata": {},
   "outputs": [
    {
     "name": "stdout",
     "output_type": "stream",
     "text": [
      "('Subject_has_uber_booked_already', 4)\n"
     ]
    }
   ],
   "source": [
    "text = \"Subject has uber booked already\"\n",
    "\n",
    "pattern = r'\\s'\n",
    "\n",
    "subt = re.subn(pattern, '_', text)\n",
    "print(subt)"
   ]
  },
  {
   "cell_type": "markdown",
   "id": "10222491-cf0d-40d7-845d-067aa9324752",
   "metadata": {},
   "source": [
    "#### **re.compile**"
   ]
  },
  {
   "cell_type": "code",
   "execution_count": 46,
   "id": "ea79bf7b-0b73-482c-8555-25590b5bc244",
   "metadata": {},
   "outputs": [],
   "source": [
    "pattern = re.compile(r'\\d+')"
   ]
  },
  {
   "cell_type": "code",
   "execution_count": 62,
   "id": "501bebdd-d42e-4867-adfb-86ef48255a2c",
   "metadata": {},
   "outputs": [
    {
     "data": {
      "text/plain": [
       "['15', '08', '2025', '16', '08', '2025']"
      ]
     },
     "execution_count": 62,
     "metadata": {},
     "output_type": "execute_result"
    }
   ],
   "source": [
    "text = 'Today is 15-08-2025, Monday, tomrrow is 16-08-2025 Tuesday'\n",
    "\n",
    "match = pattern.findall(text)\n",
    "match"
   ]
  },
  {
   "cell_type": "code",
   "execution_count": 67,
   "id": "af23781b-a807-4bb6-a67a-983206bc4701",
   "metadata": {},
   "outputs": [],
   "source": [
    "date_pattern = re.compile(r'\\d{2}-\\d{2}-\\d{4}')\n",
    "day_pattern = re.compile(r'\\b(Monday|Tuesday|Wednesday|Thursday|Friday|Saturday|Sunday)\\b')"
   ]
  },
  {
   "cell_type": "code",
   "execution_count": 68,
   "id": "5d814dbb-f8ba-4fb8-ae8d-1f074202f127",
   "metadata": {},
   "outputs": [
    {
     "name": "stdout",
     "output_type": "stream",
     "text": [
      "['15-08-2025', '16-08-2025']\n"
     ]
    }
   ],
   "source": [
    "date = date_pattern.findall(text)\n",
    "print(date)"
   ]
  },
  {
   "cell_type": "code",
   "execution_count": 69,
   "id": "45a59980-bab4-4398-8fd8-ac42c294ed0f",
   "metadata": {},
   "outputs": [
    {
     "name": "stdout",
     "output_type": "stream",
     "text": [
      "['Monday', 'Tuesday']\n"
     ]
    }
   ],
   "source": [
    "day = day_pattern.findall(text, re.IGNORECASE)\n",
    "print(day)"
   ]
  },
  {
   "cell_type": "code",
   "execution_count": 71,
   "id": "d277192e-8508-4ac8-818d-0062576ee9e4",
   "metadata": {},
   "outputs": [
    {
     "name": "stdout",
     "output_type": "stream",
     "text": [
      "15-08-2025 Monday\n",
      "16-08-2025 Tuesday\n"
     ]
    }
   ],
   "source": [
    "date_pattern = re.findall(r'\\d{2}-\\d{2}-\\d{4}', text)\n",
    "day_pattern = re.findall(r'\\b(Monday|Tuesday|Wednesday|Thursday|Friday|Saturday|Sunday)\\b', text)\n",
    "for i, j in zip(date_pattern, day_pattern):\n",
    "    print(i,j)"
   ]
  },
  {
   "cell_type": "markdown",
   "id": "e1535d14-4877-45d9-b8c7-1753d8bdb007",
   "metadata": {},
   "source": [
    "#### **Escape**"
   ]
  },
  {
   "cell_type": "code",
   "execution_count": 1,
   "id": "d2860b4e-8da7-4116-bd01-b99d92a35ba7",
   "metadata": {},
   "outputs": [],
   "source": [
    "import re\n",
    "\n",
    "import warnings\n",
    "warnings.filterwarnings('ignore')"
   ]
  },
  {
   "cell_type": "code",
   "execution_count": 2,
   "id": "bcc80085-9c72-4e84-887f-a80e9ebcb8fa",
   "metadata": {},
   "outputs": [
    {
     "name": "stdout",
     "output_type": "stream",
     "text": [
      "This\\ is\\ a\\ Awsome\n"
     ]
    }
   ],
   "source": [
    "text = \"This is a Awsome\"\n",
    "\n",
    "pattern = re.escape(text)\n",
    "print(pattern)"
   ]
  },
  {
   "cell_type": "code",
   "execution_count": 5,
   "id": "04c50c54-da90-40d8-9e10-8f57e69fc7a7",
   "metadata": {},
   "outputs": [
    {
     "name": "stdout",
     "output_type": "stream",
     "text": [
      "['This is a Awsome']\n"
     ]
    }
   ],
   "source": [
    "doc = 'This is a Awsome Even 1 AM'\n",
    "\n",
    "match = re.findall(pattern, doc, re.IGNORECASE)\n",
    "print(match)"
   ]
  },
  {
   "cell_type": "code",
   "execution_count": 6,
   "id": "69e650b1-7eb5-44ad-b3bc-26324357092a",
   "metadata": {},
   "outputs": [
    {
     "name": "stdout",
     "output_type": "stream",
     "text": [
      "['I Asked what is this']\n"
     ]
    }
   ],
   "source": [
    "pattern = re.escape(\"i asked what is this\")\n",
    "\n",
    "doc = 'I Asked what is this [a-9], he said \\t ^WoW'\n",
    "\n",
    "match = re.findall(pattern, doc, re.IGNORECASE)\n",
    "print(match)"
   ]
  },
  {
   "cell_type": "code",
   "execution_count": 7,
   "id": "c284c549-bc0e-4600-a89b-9e92cf22667d",
   "metadata": {},
   "outputs": [
    {
     "name": "stdout",
     "output_type": "stream",
     "text": [
      "['Price: $100.00']\n"
     ]
    }
   ],
   "source": [
    "pattern = re.escape('Price: $100.00')\n",
    "\n",
    "text = \"The Total cost is Price: $100.00\"\n",
    "\n",
    "match = re.findall(pattern, text, re.IGNORECASE)\n",
    "print(match)"
   ]
  },
  {
   "cell_type": "code",
   "execution_count": null,
   "id": "ef92221c-10d7-42ab-a3f1-8fa838b06086",
   "metadata": {},
   "outputs": [],
   "source": []
  },
  {
   "cell_type": "code",
   "execution_count": 8,
   "id": "0f353200-d2c7-4ac8-9410-043ee7a1b3f7",
   "metadata": {
    "scrolled": true
   },
   "outputs": [
    {
     "name": "stdout",
     "output_type": "stream",
     "text": [
      "\n",
      "Note 1 - Overview\n",
      "Tesla, Inc. (“Tesla”, the “Company”, “we”, “us” or “our”) was incorporated in the State \n",
      "products. Our Chief Executive Officer, as the chief operating decision maker (“CODM”), o\n",
      "Beginning in the first quarter of 2021, there has been a trend in many parts of the worl\n",
      "against COVID-19, as well as an easing of restrictions on social, business, travel and g\n",
      "rates and regulations continue to fluctuate in various regions and there are ongoing glo\n",
      "and increases in costs for logistics and supply chains, such as increased port congestio\n",
      "supply. We have also previously been affected by temporary manufacturing closures, emplo\n",
      "administrative activities supporting our product deliveries and deployments.\n",
      "Note 2 - Summary of Significant Accounting Policies\n",
      "Unaudited Interim Financial Statements\n",
      "The consolidated balance sheet as of September 30, 2021, the consolidated statements of \n",
      "comprehensive income, the consolidated statements of redeemable noncontrolling interests\n",
      "30, 2021 and 2020 and the consolidated statements of cash flows for the nine months ende\n",
      "disclosed in the accompanying notes, are unaudited. The consolidated balance sheet as of\n",
      "consolidated financial statements as of that date. The interim consolidated financial st\n",
      "conjunction with the annual consolidated financial statements and the accompanying notes\n",
      "ended December 31, 2020.\n",
      "\n"
     ]
    }
   ],
   "source": [
    "text = '''\n",
    "Note 1 - Overview\n",
    "Tesla, Inc. (“Tesla”, the “Company”, “we”, “us” or “our”) was incorporated in the State \n",
    "products. Our Chief Executive Officer, as the chief operating decision maker (“CODM”), o\n",
    "Beginning in the first quarter of 2021, there has been a trend in many parts of the worl\n",
    "against COVID-19, as well as an easing of restrictions on social, business, travel and g\n",
    "rates and regulations continue to fluctuate in various regions and there are ongoing glo\n",
    "and increases in costs for logistics and supply chains, such as increased port congestio\n",
    "supply. We have also previously been affected by temporary manufacturing closures, emplo\n",
    "administrative activities supporting our product deliveries and deployments.\n",
    "Note 2 - Summary of Significant Accounting Policies\n",
    "Unaudited Interim Financial Statements\n",
    "The consolidated balance sheet as of September 30, 2021, the consolidated statements of \n",
    "comprehensive income, the consolidated statements of redeemable noncontrolling interests\n",
    "30, 2021 and 2020 and the consolidated statements of cash flows for the nine months ende\n",
    "disclosed in the accompanying notes, are unaudited. The consolidated balance sheet as of\n",
    "consolidated financial statements as of that date. The interim consolidated financial st\n",
    "conjunction with the annual consolidated financial statements and the accompanying notes\n",
    "ended December 31, 2020.\n",
    "'''\n",
    "\n",
    "print(text)"
   ]
  },
  {
   "cell_type": "code",
   "execution_count": 11,
   "id": "bcde9ec9-2a28-4efb-a9e7-654133dfe3f3",
   "metadata": {},
   "outputs": [],
   "source": [
    "pattern =  r'Note \\d - [^\\n]+'"
   ]
  },
  {
   "cell_type": "code",
   "execution_count": 12,
   "id": "e41eb0c9-d836-462a-b8f9-72f8dc03f46e",
   "metadata": {},
   "outputs": [
    {
     "name": "stdout",
     "output_type": "stream",
     "text": [
      "['Note 1 - Overview', 'Note 2 - Summary of Significant Accounting Policies']\n"
     ]
    }
   ],
   "source": [
    "match = re.findall(pattern, text, re.IGNORECASE)\n",
    "print(match)"
   ]
  },
  {
   "cell_type": "code",
   "execution_count": 24,
   "id": "95162cc4-e515-4135-998b-fa330be555f6",
   "metadata": {},
   "outputs": [
    {
     "name": "stdout",
     "output_type": "stream",
     "text": [
      "['1', '2021', '19', '2', '30', '2021', '30', '2021', '2020', '31', '2020']\n"
     ]
    }
   ],
   "source": [
    "match = re.findall(r'\\d+', text)\n",
    "print(match)"
   ]
  },
  {
   "cell_type": "code",
   "execution_count": 17,
   "id": "529b8356-df0a-4c13-b577-c49b5590ccda",
   "metadata": {},
   "outputs": [
    {
     "name": "stdout",
     "output_type": "stream",
     "text": [
      "['2021', '2021', '2021', '2020', '2020']\n"
     ]
    }
   ],
   "source": [
    "match = re.findall(r'\\d{4}', text)\n",
    "print(match)"
   ]
  },
  {
   "cell_type": "code",
   "execution_count": 22,
   "id": "b9b21629-3286-4dd1-9a94-5f3227df212e",
   "metadata": {},
   "outputs": [
    {
     "name": "stdout",
     "output_type": "stream",
     "text": [
      "['September 30, 2021', 'December 31, 2020']\n"
     ]
    }
   ],
   "source": [
    "match = re.findall(r'\\w+ \\d{2}, \\d{4}', text, re.IGNORECASE)\n",
    "print(match)"
   ]
  },
  {
   "cell_type": "code",
   "execution_count": 25,
   "id": "b56f51c0-eb3c-4203-bdcf-19df5e4b82d7",
   "metadata": {},
   "outputs": [],
   "source": [
    "#### **Text File**"
   ]
  },
  {
   "cell_type": "code",
   "execution_count": 26,
   "id": "1ce093a1-3019-40bb-a975-5636ef115d8d",
   "metadata": {},
   "outputs": [
    {
     "name": "stdout",
     "output_type": "stream",
     "text": [
      "Emails:\n",
      "nAstw@outlook.com\n",
      "Au2LGKWdGY@gmail.com\n",
      "0nasoeaaw4@gmail.com\n",
      "czoyzVFpja@outlook.com\n",
      "9XFRwx4@outlook.com\n",
      "CU57VTn8h@outlook.com\n",
      "tx0f3Jcv@gmail.com\n",
      "lpNiviwTNM@outlook.com\n",
      "PmxkL@outlook.com\n",
      "py0UK@outlook.com\n",
      "vAL0L@gmail.com\n",
      "iToQn@hotmail.com\n",
      "X604SE@gmail.com\n",
      "QIWKlGik8i@outlook.com\n",
      "gmWbz9EUh5@outlook.com\n",
      "SHWXFxL7S@hotmail.com\n",
      "TXj8O7fj@yahoo.com\n",
      "1gcFW3UgXX@hotmail.com\n",
      "sZBSRYY7m@outlook.com\n",
      "ifxiWMlmX@hotmail.com\n",
      "jxpTu@gmail.com\n",
      "19Qdc77Ynj@yahoo.com\n",
      "VOSfbvF@outlook.com\n",
      "8yKXe@gmail.com\n",
      "Due8G@outlook.com\n",
      "OucwwY@outlook.com\n",
      "3TYW5BzK@outlook.com\n",
      "ZDLZmB@yahoo.com\n",
      "ODXACm@outlook.com\n",
      "sqR2II@gmail.com\n",
      "6aYiKy@gmail.com\n",
      "XnpmaOYjp7@yahoo.com\n",
      "3scvKTekL2@outlook.com\n",
      "wMa0sn2@outlook.com\n",
      "Digt5Q@gmail.com\n",
      "2Ks4bT@gmail.com\n",
      "IMvNl7iMO@yahoo.com\n",
      "SBeUE@gmail.com\n",
      "T182TgDc@yahoo.com\n",
      "Ta5T26B@gmail.com\n",
      "4amMLRsBY@gmail.com\n",
      "F6dyUvcE8v@yahoo.com\n",
      "nGa3Zsr1@gmail.com\n",
      "mbzdr@outlook.com\n",
      "lSYLayiZ4@outlook.com\n",
      "tILMc3xA@gmail.com\n",
      "UYXpMW0lu@gmail.com\n",
      "3N3J74MNM@hotmail.com\n",
      "UG8Ky5Q5@hotmail.com\n",
      "QqJiV@hotmail.com\n",
      "Phone Numbers:\n",
      "+91-9328007805\n",
      "+91-7050038054\n",
      "+91-7325144231\n",
      "+91-8610638284\n",
      "+91-8858221596\n",
      "+91-7035921276\n",
      "+91-9843513027\n",
      "+91-7031644384\n",
      "+91-9673962500\n",
      "+91-7238584311\n",
      "+91-7365402497\n",
      "+91-8873583904\n",
      "+91-9512045269\n",
      "+91-8082730318\n",
      "+91-8099507951\n",
      "+91-9588056931\n",
      "+91-8269262531\n",
      "+91-9715654185\n",
      "+91-9277495006\n",
      "+91-9648363060\n",
      "+91-9417713649\n",
      "+91-8488671196\n",
      "+91-8190815664\n",
      "+91-7454790811\n",
      "+91-8262323505\n",
      "+91-8017866448\n",
      "+91-8849004676\n",
      "+91-9900313046\n",
      "+91-7658552582\n",
      "+91-9333856056\n",
      "+91-7202523823\n",
      "+91-8919315839\n",
      "+91-8698336675\n",
      "+91-8249799195\n",
      "+91-7090591031\n",
      "+91-8946470254\n",
      "+91-9017689458\n",
      "+91-7056280066\n",
      "+91-8303984365\n",
      "+91-8784598815\n",
      "+91-7901957980\n",
      "+91-9539763461\n",
      "+91-7238986861\n",
      "+91-9186034821\n",
      "+91-8728318334\n",
      "+91-9893273414\n",
      "+91-7552522582\n",
      "+91-7501596026\n",
      "+91-7449062201\n",
      "+91-9995808361\n",
      "Dates:\n",
      "04-06-2000\n",
      "07-08-2030\n",
      "27-11-2030\n",
      "27-11-2004\n",
      "30-08-2028\n",
      "30-01-2020\n",
      "03-03-2007\n",
      "20-07-2003\n",
      "29-01-2024\n",
      "22-11-2009\n",
      "02-01-2005\n",
      "04-10-2030\n",
      "28-03-2007\n",
      "03-01-2004\n",
      "29-04-2027\n",
      "02-02-2012\n",
      "10-07-2001\n",
      "25-06-2024\n",
      "05-11-2007\n",
      "19-09-2000\n",
      "27-04-2001\n",
      "15-11-2011\n",
      "16-04-2022\n",
      "26-11-2019\n",
      "09-01-2021\n",
      "17-05-2003\n",
      "07-02-2005\n",
      "13-03-2018\n",
      "21-08-2010\n",
      "12-05-2011\n",
      "05-02-2000\n",
      "02-09-2030\n",
      "25-07-2012\n",
      "20-01-2003\n",
      "21-03-2025\n",
      "29-10-2006\n",
      "22-07-2023\n",
      "30-09-2023\n",
      "03-03-2001\n",
      "13-09-2008\n",
      "12-06-2003\n",
      "11-03-2025\n",
      "27-11-2029\n",
      "05-10-2020\n",
      "17-10-2000\n",
      "28-05-2015\n",
      "14-07-2002\n",
      "03-01-2011\n",
      "15-02-2008\n",
      "07-05-2013\n",
      "\n"
     ]
    }
   ],
   "source": [
    "with open(r\"D:\\Python\\Python_Fundamentals\\8.Regular Expression\\data.txt\", mode=\"r\") as file:\n",
    "    content = file.read()\n",
    "    print(content)\n",
    "    file.close()"
   ]
  },
  {
   "cell_type": "code",
   "execution_count": 31,
   "id": "35954362-a207-4492-82c5-f8bfce97bd82",
   "metadata": {},
   "outputs": [
    {
     "name": "stdout",
     "output_type": "stream",
     "text": [
      "['sameer658@gmail.com']\n"
     ]
    }
   ],
   "source": [
    "s = \"jack email is sameer658@gmail.com\"\n",
    "\n",
    "pattern = r'[\\w]+@[\\w.]+'\n",
    "\n",
    "match = re.findall(pattern, s, re.IGNORECASE)\n",
    "print(match)"
   ]
  },
  {
   "cell_type": "code",
   "execution_count": 32,
   "id": "7267dac3-e318-493b-b5ef-c26351f95f16",
   "metadata": {},
   "outputs": [],
   "source": [
    "email_pattern = r'[\\w]+@[\\w.]+'\n",
    "ph_pattern = r'\\+91-\\d{10}'\n",
    "date_pattern = r'\\d{2}-\\d{2}-\\d{4}'\n",
    "\n",
    "Detailes = {\"Email\":[], \"Ph\":[], \"Date\":[]}\n",
    "\n",
    "with open(r\"D:\\Python\\Python_Fundamentals\\8.Regular Expression\\data.txt\", mode=\"r\") as file:\n",
    "    content = file.read()\n",
    "    Detailes['Email'] = re.findall(email_pattern, content)\n",
    "    Detailes['Ph'] = re.findall(ph_pattern, content)\n",
    "    Detailes['Date'] = re.findall(date_pattern, content)"
   ]
  },
  {
   "cell_type": "code",
   "execution_count": 33,
   "id": "cd196042-36fd-4c40-a4cb-b1e629f9db4c",
   "metadata": {},
   "outputs": [
    {
     "name": "stdout",
     "output_type": "stream",
     "text": [
      "{'Email': ['nAstw@outlook.com', 'Au2LGKWdGY@gmail.com', '0nasoeaaw4@gmail.com', 'czoyzVFpja@outlook.com', '9XFRwx4@outlook.com', 'CU57VTn8h@outlook.com', 'tx0f3Jcv@gmail.com', 'lpNiviwTNM@outlook.com', 'PmxkL@outlook.com', 'py0UK@outlook.com', 'vAL0L@gmail.com', 'iToQn@hotmail.com', 'X604SE@gmail.com', 'QIWKlGik8i@outlook.com', 'gmWbz9EUh5@outlook.com', 'SHWXFxL7S@hotmail.com', 'TXj8O7fj@yahoo.com', '1gcFW3UgXX@hotmail.com', 'sZBSRYY7m@outlook.com', 'ifxiWMlmX@hotmail.com', 'jxpTu@gmail.com', '19Qdc77Ynj@yahoo.com', 'VOSfbvF@outlook.com', '8yKXe@gmail.com', 'Due8G@outlook.com', 'OucwwY@outlook.com', '3TYW5BzK@outlook.com', 'ZDLZmB@yahoo.com', 'ODXACm@outlook.com', 'sqR2II@gmail.com', '6aYiKy@gmail.com', 'XnpmaOYjp7@yahoo.com', '3scvKTekL2@outlook.com', 'wMa0sn2@outlook.com', 'Digt5Q@gmail.com', '2Ks4bT@gmail.com', 'IMvNl7iMO@yahoo.com', 'SBeUE@gmail.com', 'T182TgDc@yahoo.com', 'Ta5T26B@gmail.com', '4amMLRsBY@gmail.com', 'F6dyUvcE8v@yahoo.com', 'nGa3Zsr1@gmail.com', 'mbzdr@outlook.com', 'lSYLayiZ4@outlook.com', 'tILMc3xA@gmail.com', 'UYXpMW0lu@gmail.com', '3N3J74MNM@hotmail.com', 'UG8Ky5Q5@hotmail.com', 'QqJiV@hotmail.com'], 'Ph': ['+91-9328007805', '+91-7050038054', '+91-7325144231', '+91-8610638284', '+91-8858221596', '+91-7035921276', '+91-9843513027', '+91-7031644384', '+91-9673962500', '+91-7238584311', '+91-7365402497', '+91-8873583904', '+91-9512045269', '+91-8082730318', '+91-8099507951', '+91-9588056931', '+91-8269262531', '+91-9715654185', '+91-9277495006', '+91-9648363060', '+91-9417713649', '+91-8488671196', '+91-8190815664', '+91-7454790811', '+91-8262323505', '+91-8017866448', '+91-8849004676', '+91-9900313046', '+91-7658552582', '+91-9333856056', '+91-7202523823', '+91-8919315839', '+91-8698336675', '+91-8249799195', '+91-7090591031', '+91-8946470254', '+91-9017689458', '+91-7056280066', '+91-8303984365', '+91-8784598815', '+91-7901957980', '+91-9539763461', '+91-7238986861', '+91-9186034821', '+91-8728318334', '+91-9893273414', '+91-7552522582', '+91-7501596026', '+91-7449062201', '+91-9995808361'], 'Date': ['04-06-2000', '07-08-2030', '27-11-2030', '27-11-2004', '30-08-2028', '30-01-2020', '03-03-2007', '20-07-2003', '29-01-2024', '22-11-2009', '02-01-2005', '04-10-2030', '28-03-2007', '03-01-2004', '29-04-2027', '02-02-2012', '10-07-2001', '25-06-2024', '05-11-2007', '19-09-2000', '27-04-2001', '15-11-2011', '16-04-2022', '26-11-2019', '09-01-2021', '17-05-2003', '07-02-2005', '13-03-2018', '21-08-2010', '12-05-2011', '05-02-2000', '02-09-2030', '25-07-2012', '20-01-2003', '21-03-2025', '29-10-2006', '22-07-2023', '30-09-2023', '03-03-2001', '13-09-2008', '12-06-2003', '11-03-2025', '27-11-2029', '05-10-2020', '17-10-2000', '28-05-2015', '14-07-2002', '03-01-2011', '15-02-2008', '07-05-2013']}\n"
     ]
    }
   ],
   "source": [
    "print(Detailes)"
   ]
  },
  {
   "cell_type": "code",
   "execution_count": 35,
   "id": "90332f46-dd69-453b-b1cf-9a673d24ab14",
   "metadata": {},
   "outputs": [],
   "source": [
    "import csv\n",
    "\n",
    "with open(\"Detailes.csv\", \"w\") as file:\n",
    "    writer = csv.writer(file)\n",
    "    writer.writerow(Detailes.keys())\n",
    "    writer.writerows(zip(*Detailes.values()))"
   ]
  },
  {
   "cell_type": "code",
   "execution_count": 36,
   "id": "9c744074-67c5-416d-8b6e-f76236c1276a",
   "metadata": {},
   "outputs": [],
   "source": [
    "import pandas as pd\n",
    "\n",
    "df = pd.DataFrame(Detailes)\n",
    "df.to_csv(\"Detailes.csv\")"
   ]
  },
  {
   "cell_type": "code",
   "execution_count": 38,
   "id": "a20b14e4-35a9-4f70-ac5e-25a361a3e7c9",
   "metadata": {},
   "outputs": [
    {
     "data": {
      "text/html": [
       "<div>\n",
       "<style scoped>\n",
       "    .dataframe tbody tr th:only-of-type {\n",
       "        vertical-align: middle;\n",
       "    }\n",
       "\n",
       "    .dataframe tbody tr th {\n",
       "        vertical-align: top;\n",
       "    }\n",
       "\n",
       "    .dataframe thead th {\n",
       "        text-align: right;\n",
       "    }\n",
       "</style>\n",
       "<table border=\"1\" class=\"dataframe\">\n",
       "  <thead>\n",
       "    <tr style=\"text-align: right;\">\n",
       "      <th></th>\n",
       "      <th>Email</th>\n",
       "      <th>Ph</th>\n",
       "      <th>Date</th>\n",
       "    </tr>\n",
       "  </thead>\n",
       "  <tbody>\n",
       "    <tr>\n",
       "      <th>0</th>\n",
       "      <td>nAstw@outlook.com</td>\n",
       "      <td>+91-9328007805</td>\n",
       "      <td>04-06-2000</td>\n",
       "    </tr>\n",
       "    <tr>\n",
       "      <th>1</th>\n",
       "      <td>Au2LGKWdGY@gmail.com</td>\n",
       "      <td>+91-7050038054</td>\n",
       "      <td>07-08-2030</td>\n",
       "    </tr>\n",
       "    <tr>\n",
       "      <th>2</th>\n",
       "      <td>0nasoeaaw4@gmail.com</td>\n",
       "      <td>+91-7325144231</td>\n",
       "      <td>27-11-2030</td>\n",
       "    </tr>\n",
       "    <tr>\n",
       "      <th>3</th>\n",
       "      <td>czoyzVFpja@outlook.com</td>\n",
       "      <td>+91-8610638284</td>\n",
       "      <td>27-11-2004</td>\n",
       "    </tr>\n",
       "    <tr>\n",
       "      <th>4</th>\n",
       "      <td>9XFRwx4@outlook.com</td>\n",
       "      <td>+91-8858221596</td>\n",
       "      <td>30-08-2028</td>\n",
       "    </tr>\n",
       "    <tr>\n",
       "      <th>5</th>\n",
       "      <td>CU57VTn8h@outlook.com</td>\n",
       "      <td>+91-7035921276</td>\n",
       "      <td>30-01-2020</td>\n",
       "    </tr>\n",
       "    <tr>\n",
       "      <th>6</th>\n",
       "      <td>tx0f3Jcv@gmail.com</td>\n",
       "      <td>+91-9843513027</td>\n",
       "      <td>03-03-2007</td>\n",
       "    </tr>\n",
       "    <tr>\n",
       "      <th>7</th>\n",
       "      <td>lpNiviwTNM@outlook.com</td>\n",
       "      <td>+91-7031644384</td>\n",
       "      <td>20-07-2003</td>\n",
       "    </tr>\n",
       "    <tr>\n",
       "      <th>8</th>\n",
       "      <td>PmxkL@outlook.com</td>\n",
       "      <td>+91-9673962500</td>\n",
       "      <td>29-01-2024</td>\n",
       "    </tr>\n",
       "    <tr>\n",
       "      <th>9</th>\n",
       "      <td>py0UK@outlook.com</td>\n",
       "      <td>+91-7238584311</td>\n",
       "      <td>22-11-2009</td>\n",
       "    </tr>\n",
       "    <tr>\n",
       "      <th>10</th>\n",
       "      <td>vAL0L@gmail.com</td>\n",
       "      <td>+91-7365402497</td>\n",
       "      <td>02-01-2005</td>\n",
       "    </tr>\n",
       "    <tr>\n",
       "      <th>11</th>\n",
       "      <td>iToQn@hotmail.com</td>\n",
       "      <td>+91-8873583904</td>\n",
       "      <td>04-10-2030</td>\n",
       "    </tr>\n",
       "    <tr>\n",
       "      <th>12</th>\n",
       "      <td>X604SE@gmail.com</td>\n",
       "      <td>+91-9512045269</td>\n",
       "      <td>28-03-2007</td>\n",
       "    </tr>\n",
       "    <tr>\n",
       "      <th>13</th>\n",
       "      <td>QIWKlGik8i@outlook.com</td>\n",
       "      <td>+91-8082730318</td>\n",
       "      <td>03-01-2004</td>\n",
       "    </tr>\n",
       "    <tr>\n",
       "      <th>14</th>\n",
       "      <td>gmWbz9EUh5@outlook.com</td>\n",
       "      <td>+91-8099507951</td>\n",
       "      <td>29-04-2027</td>\n",
       "    </tr>\n",
       "    <tr>\n",
       "      <th>15</th>\n",
       "      <td>SHWXFxL7S@hotmail.com</td>\n",
       "      <td>+91-9588056931</td>\n",
       "      <td>02-02-2012</td>\n",
       "    </tr>\n",
       "    <tr>\n",
       "      <th>16</th>\n",
       "      <td>TXj8O7fj@yahoo.com</td>\n",
       "      <td>+91-8269262531</td>\n",
       "      <td>10-07-2001</td>\n",
       "    </tr>\n",
       "    <tr>\n",
       "      <th>17</th>\n",
       "      <td>1gcFW3UgXX@hotmail.com</td>\n",
       "      <td>+91-9715654185</td>\n",
       "      <td>25-06-2024</td>\n",
       "    </tr>\n",
       "    <tr>\n",
       "      <th>18</th>\n",
       "      <td>sZBSRYY7m@outlook.com</td>\n",
       "      <td>+91-9277495006</td>\n",
       "      <td>05-11-2007</td>\n",
       "    </tr>\n",
       "    <tr>\n",
       "      <th>19</th>\n",
       "      <td>ifxiWMlmX@hotmail.com</td>\n",
       "      <td>+91-9648363060</td>\n",
       "      <td>19-09-2000</td>\n",
       "    </tr>\n",
       "    <tr>\n",
       "      <th>20</th>\n",
       "      <td>jxpTu@gmail.com</td>\n",
       "      <td>+91-9417713649</td>\n",
       "      <td>27-04-2001</td>\n",
       "    </tr>\n",
       "    <tr>\n",
       "      <th>21</th>\n",
       "      <td>19Qdc77Ynj@yahoo.com</td>\n",
       "      <td>+91-8488671196</td>\n",
       "      <td>15-11-2011</td>\n",
       "    </tr>\n",
       "    <tr>\n",
       "      <th>22</th>\n",
       "      <td>VOSfbvF@outlook.com</td>\n",
       "      <td>+91-8190815664</td>\n",
       "      <td>16-04-2022</td>\n",
       "    </tr>\n",
       "    <tr>\n",
       "      <th>23</th>\n",
       "      <td>8yKXe@gmail.com</td>\n",
       "      <td>+91-7454790811</td>\n",
       "      <td>26-11-2019</td>\n",
       "    </tr>\n",
       "    <tr>\n",
       "      <th>24</th>\n",
       "      <td>Due8G@outlook.com</td>\n",
       "      <td>+91-8262323505</td>\n",
       "      <td>09-01-2021</td>\n",
       "    </tr>\n",
       "    <tr>\n",
       "      <th>25</th>\n",
       "      <td>OucwwY@outlook.com</td>\n",
       "      <td>+91-8017866448</td>\n",
       "      <td>17-05-2003</td>\n",
       "    </tr>\n",
       "    <tr>\n",
       "      <th>26</th>\n",
       "      <td>3TYW5BzK@outlook.com</td>\n",
       "      <td>+91-8849004676</td>\n",
       "      <td>07-02-2005</td>\n",
       "    </tr>\n",
       "    <tr>\n",
       "      <th>27</th>\n",
       "      <td>ZDLZmB@yahoo.com</td>\n",
       "      <td>+91-9900313046</td>\n",
       "      <td>13-03-2018</td>\n",
       "    </tr>\n",
       "    <tr>\n",
       "      <th>28</th>\n",
       "      <td>ODXACm@outlook.com</td>\n",
       "      <td>+91-7658552582</td>\n",
       "      <td>21-08-2010</td>\n",
       "    </tr>\n",
       "    <tr>\n",
       "      <th>29</th>\n",
       "      <td>sqR2II@gmail.com</td>\n",
       "      <td>+91-9333856056</td>\n",
       "      <td>12-05-2011</td>\n",
       "    </tr>\n",
       "    <tr>\n",
       "      <th>30</th>\n",
       "      <td>6aYiKy@gmail.com</td>\n",
       "      <td>+91-7202523823</td>\n",
       "      <td>05-02-2000</td>\n",
       "    </tr>\n",
       "    <tr>\n",
       "      <th>31</th>\n",
       "      <td>XnpmaOYjp7@yahoo.com</td>\n",
       "      <td>+91-8919315839</td>\n",
       "      <td>02-09-2030</td>\n",
       "    </tr>\n",
       "    <tr>\n",
       "      <th>32</th>\n",
       "      <td>3scvKTekL2@outlook.com</td>\n",
       "      <td>+91-8698336675</td>\n",
       "      <td>25-07-2012</td>\n",
       "    </tr>\n",
       "    <tr>\n",
       "      <th>33</th>\n",
       "      <td>wMa0sn2@outlook.com</td>\n",
       "      <td>+91-8249799195</td>\n",
       "      <td>20-01-2003</td>\n",
       "    </tr>\n",
       "    <tr>\n",
       "      <th>34</th>\n",
       "      <td>Digt5Q@gmail.com</td>\n",
       "      <td>+91-7090591031</td>\n",
       "      <td>21-03-2025</td>\n",
       "    </tr>\n",
       "    <tr>\n",
       "      <th>35</th>\n",
       "      <td>2Ks4bT@gmail.com</td>\n",
       "      <td>+91-8946470254</td>\n",
       "      <td>29-10-2006</td>\n",
       "    </tr>\n",
       "    <tr>\n",
       "      <th>36</th>\n",
       "      <td>IMvNl7iMO@yahoo.com</td>\n",
       "      <td>+91-9017689458</td>\n",
       "      <td>22-07-2023</td>\n",
       "    </tr>\n",
       "    <tr>\n",
       "      <th>37</th>\n",
       "      <td>SBeUE@gmail.com</td>\n",
       "      <td>+91-7056280066</td>\n",
       "      <td>30-09-2023</td>\n",
       "    </tr>\n",
       "    <tr>\n",
       "      <th>38</th>\n",
       "      <td>T182TgDc@yahoo.com</td>\n",
       "      <td>+91-8303984365</td>\n",
       "      <td>03-03-2001</td>\n",
       "    </tr>\n",
       "    <tr>\n",
       "      <th>39</th>\n",
       "      <td>Ta5T26B@gmail.com</td>\n",
       "      <td>+91-8784598815</td>\n",
       "      <td>13-09-2008</td>\n",
       "    </tr>\n",
       "    <tr>\n",
       "      <th>40</th>\n",
       "      <td>4amMLRsBY@gmail.com</td>\n",
       "      <td>+91-7901957980</td>\n",
       "      <td>12-06-2003</td>\n",
       "    </tr>\n",
       "    <tr>\n",
       "      <th>41</th>\n",
       "      <td>F6dyUvcE8v@yahoo.com</td>\n",
       "      <td>+91-9539763461</td>\n",
       "      <td>11-03-2025</td>\n",
       "    </tr>\n",
       "    <tr>\n",
       "      <th>42</th>\n",
       "      <td>nGa3Zsr1@gmail.com</td>\n",
       "      <td>+91-7238986861</td>\n",
       "      <td>27-11-2029</td>\n",
       "    </tr>\n",
       "    <tr>\n",
       "      <th>43</th>\n",
       "      <td>mbzdr@outlook.com</td>\n",
       "      <td>+91-9186034821</td>\n",
       "      <td>05-10-2020</td>\n",
       "    </tr>\n",
       "    <tr>\n",
       "      <th>44</th>\n",
       "      <td>lSYLayiZ4@outlook.com</td>\n",
       "      <td>+91-8728318334</td>\n",
       "      <td>17-10-2000</td>\n",
       "    </tr>\n",
       "    <tr>\n",
       "      <th>45</th>\n",
       "      <td>tILMc3xA@gmail.com</td>\n",
       "      <td>+91-9893273414</td>\n",
       "      <td>28-05-2015</td>\n",
       "    </tr>\n",
       "    <tr>\n",
       "      <th>46</th>\n",
       "      <td>UYXpMW0lu@gmail.com</td>\n",
       "      <td>+91-7552522582</td>\n",
       "      <td>14-07-2002</td>\n",
       "    </tr>\n",
       "    <tr>\n",
       "      <th>47</th>\n",
       "      <td>3N3J74MNM@hotmail.com</td>\n",
       "      <td>+91-7501596026</td>\n",
       "      <td>03-01-2011</td>\n",
       "    </tr>\n",
       "    <tr>\n",
       "      <th>48</th>\n",
       "      <td>UG8Ky5Q5@hotmail.com</td>\n",
       "      <td>+91-7449062201</td>\n",
       "      <td>15-02-2008</td>\n",
       "    </tr>\n",
       "    <tr>\n",
       "      <th>49</th>\n",
       "      <td>QqJiV@hotmail.com</td>\n",
       "      <td>+91-9995808361</td>\n",
       "      <td>07-05-2013</td>\n",
       "    </tr>\n",
       "  </tbody>\n",
       "</table>\n",
       "</div>"
      ],
      "text/plain": [
       "                     Email              Ph        Date\n",
       "0        nAstw@outlook.com  +91-9328007805  04-06-2000\n",
       "1     Au2LGKWdGY@gmail.com  +91-7050038054  07-08-2030\n",
       "2     0nasoeaaw4@gmail.com  +91-7325144231  27-11-2030\n",
       "3   czoyzVFpja@outlook.com  +91-8610638284  27-11-2004\n",
       "4      9XFRwx4@outlook.com  +91-8858221596  30-08-2028\n",
       "5    CU57VTn8h@outlook.com  +91-7035921276  30-01-2020\n",
       "6       tx0f3Jcv@gmail.com  +91-9843513027  03-03-2007\n",
       "7   lpNiviwTNM@outlook.com  +91-7031644384  20-07-2003\n",
       "8        PmxkL@outlook.com  +91-9673962500  29-01-2024\n",
       "9        py0UK@outlook.com  +91-7238584311  22-11-2009\n",
       "10         vAL0L@gmail.com  +91-7365402497  02-01-2005\n",
       "11       iToQn@hotmail.com  +91-8873583904  04-10-2030\n",
       "12        X604SE@gmail.com  +91-9512045269  28-03-2007\n",
       "13  QIWKlGik8i@outlook.com  +91-8082730318  03-01-2004\n",
       "14  gmWbz9EUh5@outlook.com  +91-8099507951  29-04-2027\n",
       "15   SHWXFxL7S@hotmail.com  +91-9588056931  02-02-2012\n",
       "16      TXj8O7fj@yahoo.com  +91-8269262531  10-07-2001\n",
       "17  1gcFW3UgXX@hotmail.com  +91-9715654185  25-06-2024\n",
       "18   sZBSRYY7m@outlook.com  +91-9277495006  05-11-2007\n",
       "19   ifxiWMlmX@hotmail.com  +91-9648363060  19-09-2000\n",
       "20         jxpTu@gmail.com  +91-9417713649  27-04-2001\n",
       "21    19Qdc77Ynj@yahoo.com  +91-8488671196  15-11-2011\n",
       "22     VOSfbvF@outlook.com  +91-8190815664  16-04-2022\n",
       "23         8yKXe@gmail.com  +91-7454790811  26-11-2019\n",
       "24       Due8G@outlook.com  +91-8262323505  09-01-2021\n",
       "25      OucwwY@outlook.com  +91-8017866448  17-05-2003\n",
       "26    3TYW5BzK@outlook.com  +91-8849004676  07-02-2005\n",
       "27        ZDLZmB@yahoo.com  +91-9900313046  13-03-2018\n",
       "28      ODXACm@outlook.com  +91-7658552582  21-08-2010\n",
       "29        sqR2II@gmail.com  +91-9333856056  12-05-2011\n",
       "30        6aYiKy@gmail.com  +91-7202523823  05-02-2000\n",
       "31    XnpmaOYjp7@yahoo.com  +91-8919315839  02-09-2030\n",
       "32  3scvKTekL2@outlook.com  +91-8698336675  25-07-2012\n",
       "33     wMa0sn2@outlook.com  +91-8249799195  20-01-2003\n",
       "34        Digt5Q@gmail.com  +91-7090591031  21-03-2025\n",
       "35        2Ks4bT@gmail.com  +91-8946470254  29-10-2006\n",
       "36     IMvNl7iMO@yahoo.com  +91-9017689458  22-07-2023\n",
       "37         SBeUE@gmail.com  +91-7056280066  30-09-2023\n",
       "38      T182TgDc@yahoo.com  +91-8303984365  03-03-2001\n",
       "39       Ta5T26B@gmail.com  +91-8784598815  13-09-2008\n",
       "40     4amMLRsBY@gmail.com  +91-7901957980  12-06-2003\n",
       "41    F6dyUvcE8v@yahoo.com  +91-9539763461  11-03-2025\n",
       "42      nGa3Zsr1@gmail.com  +91-7238986861  27-11-2029\n",
       "43       mbzdr@outlook.com  +91-9186034821  05-10-2020\n",
       "44   lSYLayiZ4@outlook.com  +91-8728318334  17-10-2000\n",
       "45      tILMc3xA@gmail.com  +91-9893273414  28-05-2015\n",
       "46     UYXpMW0lu@gmail.com  +91-7552522582  14-07-2002\n",
       "47   3N3J74MNM@hotmail.com  +91-7501596026  03-01-2011\n",
       "48    UG8Ky5Q5@hotmail.com  +91-7449062201  15-02-2008\n",
       "49       QqJiV@hotmail.com  +91-9995808361  07-05-2013"
      ]
     },
     "execution_count": 38,
     "metadata": {},
     "output_type": "execute_result"
    }
   ],
   "source": [
    "pd.read_csv('Detailes.csv').drop('Unnamed: 0', axis=1)"
   ]
  },
  {
   "cell_type": "code",
   "execution_count": null,
   "id": "9ad11a9d-c3e0-4606-aa82-48f134e93d3b",
   "metadata": {},
   "outputs": [],
   "source": [
    "# pip install pymupdf"
   ]
  },
  {
   "cell_type": "code",
   "execution_count": 40,
   "id": "e71d9437-7a3c-4410-bd46-80f52b867b38",
   "metadata": {},
   "outputs": [],
   "source": [
    "import fitz"
   ]
  },
  {
   "cell_type": "code",
   "execution_count": 42,
   "id": "13b5eab2-8079-4ea6-800d-9d4e76e8dfd0",
   "metadata": {},
   "outputs": [],
   "source": [
    "Content = fitz.open(r\"C:\\Users\\Admin\\Downloads\\Detailes.pdf\")"
   ]
  },
  {
   "cell_type": "code",
   "execution_count": 44,
   "id": "7b534240-2429-42e4-a925-9a8c9df1b02a",
   "metadata": {},
   "outputs": [
    {
     "name": "stdout",
     "output_type": "stream",
     "text": [
      "Emails:\n",
      "nAstw@outlook.com\n",
      "Au2LGKWdGY@gmail.com\n",
      "0nasoeaaw4@gmail.com\n",
      "czoyzVFpja@outlook.com\n",
      "9XFRwx4@outlook.com\n",
      "CU57VTn8h@outlook.com\n",
      "tx0f3Jcv@gmail.com\n",
      "lpNiviwTNM@outlook.com\n",
      "PmxkL@outlook.com\n",
      "py0UK@outlook.com\n",
      "vAL0L@gmail.com\n",
      "iToQn@hotmail.com\n",
      "X604SE@gmail.com\n",
      "QIWKlGik8i@outlook.com\n",
      "gmWbz9EUh5@outlook.com\n",
      "SHWXFxL7S@hotmail.com\n",
      "TXj8O7fj@yahoo.com\n",
      "1gcFW3UgXX@hotmail.com\n",
      "sZBSRYY7m@outlook.com\n",
      "ifxiWMlmX@hotmail.com\n",
      "jxpTu@gmail.com\n",
      "19Qdc77Ynj@yahoo.com\n",
      "VOSfbvF@outlook.com\n",
      "8yKXe@gmail.com\n",
      "Due8G@outlook.com\n",
      "OucwwY@outlook.com\n",
      "3TYW5BzK@outlook.com\n",
      "ZDLZmB@yahoo.com\n",
      "ODXACm@outlook.com\n",
      "sqR2II@gmail.com\n",
      "6aYiKy@gmail.com\n",
      "XnpmaOYjp7@yahoo.com\n",
      "3scvKTekL2@outlook.com\n",
      "wMa0sn2@outlook.com\n",
      "Digt5Q@gmail.com\n",
      "2Ks4bT@gmail.com\n",
      "IMvNl7iMO@yahoo.com\n",
      "SBeUE@gmail.com\n",
      "T182TgDc@yahoo.com\n",
      "Ta5T26B@gmail.com\n",
      "4amMLRsBY@gmail.com\n",
      "F6dyUvcE8v@yahoo.com\n",
      "nGa3Zsr1@gmail.com\n",
      "mbzdr@outlook.com\n",
      "lSYLayiZ4@outlook.com\n",
      "tILMc3xA@gmail.com\n",
      "UYXpMW0lu@gmail.com\n",
      "3N3J74MNM@hotmail.com\n",
      "UG8Ky5Q5@hotmail.com\n",
      "QqJiV@hotmail.com\n",
      "Phone Numbers:\n",
      "+91-9328007805\n",
      "+91-7050038054\n",
      "+91-7325144231\n",
      "+91-8610638284\n",
      "+91-8858221596\n",
      "+91-7035921276\n",
      "+91-9843513027\n",
      "+91-7031644384\n",
      "+91-9673962500\n",
      "+91-7238584311\n",
      "+91-7365402497\n",
      "+91-8873583904\n",
      "+91-9512045269\n",
      "+91-8082730318\n",
      "+91-8099507951\n",
      "+91-9588056931\n",
      "+91-8269262531\n",
      "+91-9715654185\n",
      "+91-9277495006\n",
      "+91-9648363060\n",
      "+91-9417713649\n",
      "+91-8488671196\n",
      "+91-8190815664\n",
      "+91-7454790811\n",
      "+91-8262323505\n",
      "+91-8017866448\n",
      "+91-8849004676\n",
      "+91-9900313046\n",
      "+91-7658552582\n",
      "+91-9333856056\n",
      "+91-7202523823\n",
      "+91-8919315839\n",
      "+91-8698336675\n",
      "+91-8249799195\n",
      "+91-7090591031\n",
      "+91-8946470254\n",
      "+91-9017689458\n",
      "+91-7056280066\n",
      "+91-8303984365\n",
      "+91-8784598815\n",
      "+91-7901957980\n",
      "+91-9539763461\n",
      "+91-7238986861\n",
      "+91-9186034821\n",
      "+91-8728318334\n",
      "+91-9893273414\n",
      "+91-7552522582\n",
      "+91-7501596026\n",
      "+91-7449062201\n",
      "+91-9995808361\n",
      "Dates:\n",
      "04-06-2000\n",
      "07-08-2030\n",
      "27-11-2030\n",
      "27-11-2004\n",
      "30-08-2028\n",
      "30-01-2020\n",
      "03-03-2007\n",
      "20-07-2003\n",
      "29-01-2024\n",
      "22-11-2009\n",
      "02-01-2005\n",
      "04-10-2030\n",
      "28-03-2007\n",
      "03-01-2004\n",
      "29-04-2027\n",
      "02-02-2012\n",
      "10-07-2001\n",
      "25-06-2024\n",
      "05-11-2007\n",
      "19-09-2000\n",
      "27-04-2001\n",
      "15-11-2011\n",
      "16-04-2022\n",
      "26-11-2019\n",
      "09-01-2021\n",
      "17-05-2003\n",
      "07-02-2005\n",
      "13-03-2018\n",
      "21-08-2010\n",
      "12-05-2011\n",
      "05-02-2000\n",
      "02-09-2030\n",
      "25-07-2012\n",
      "20-01-2003\n",
      "21-03-2025\n",
      "29-10-2006\n",
      "22-07-2023\n",
      "30-09-2023\n",
      "03-03-2001\n",
      "13-09-2008\n",
      "12-06-2003\n",
      "11-03-2025\n",
      "27-11-2029\n",
      "05-10-2020\n",
      "17-10-2000\n",
      "28-05-2015\n",
      "14-07-2002\n",
      "03-01-2011\n",
      "15-02-2008\n",
      "07-05-2013\n",
      "\n"
     ]
    }
   ],
   "source": [
    "text = ''\n",
    "for page in Content:\n",
    "    text += page.get_text()\n",
    "\n",
    "print(text)"
   ]
  },
  {
   "cell_type": "code",
   "execution_count": 45,
   "id": "4fb287b8-8ec7-4b01-be79-ed118b8ae318",
   "metadata": {},
   "outputs": [
    {
     "name": "stdout",
     "output_type": "stream",
     "text": [
      "{'Email': ['nAstw@outlook.com', 'Au2LGKWdGY@gmail.com', '0nasoeaaw4@gmail.com', 'czoyzVFpja@outlook.com', '9XFRwx4@outlook.com', 'CU57VTn8h@outlook.com', 'tx0f3Jcv@gmail.com', 'lpNiviwTNM@outlook.com', 'PmxkL@outlook.com', 'py0UK@outlook.com', 'vAL0L@gmail.com', 'iToQn@hotmail.com', 'X604SE@gmail.com', 'QIWKlGik8i@outlook.com', 'gmWbz9EUh5@outlook.com', 'SHWXFxL7S@hotmail.com', 'TXj8O7fj@yahoo.com', '1gcFW3UgXX@hotmail.com', 'sZBSRYY7m@outlook.com', 'ifxiWMlmX@hotmail.com', 'jxpTu@gmail.com', '19Qdc77Ynj@yahoo.com', 'VOSfbvF@outlook.com', '8yKXe@gmail.com', 'Due8G@outlook.com', 'OucwwY@outlook.com', '3TYW5BzK@outlook.com', 'ZDLZmB@yahoo.com', 'ODXACm@outlook.com', 'sqR2II@gmail.com', '6aYiKy@gmail.com', 'XnpmaOYjp7@yahoo.com', '3scvKTekL2@outlook.com', 'wMa0sn2@outlook.com', 'Digt5Q@gmail.com', '2Ks4bT@gmail.com', 'IMvNl7iMO@yahoo.com', 'SBeUE@gmail.com', 'T182TgDc@yahoo.com', 'Ta5T26B@gmail.com', '4amMLRsBY@gmail.com', 'F6dyUvcE8v@yahoo.com', 'nGa3Zsr1@gmail.com', 'mbzdr@outlook.com', 'lSYLayiZ4@outlook.com', 'tILMc3xA@gmail.com', 'UYXpMW0lu@gmail.com', '3N3J74MNM@hotmail.com', 'UG8Ky5Q5@hotmail.com', 'QqJiV@hotmail.com'], 'Ph': ['+91-9328007805', '+91-7050038054', '+91-7325144231', '+91-8610638284', '+91-8858221596', '+91-7035921276', '+91-9843513027', '+91-7031644384', '+91-9673962500', '+91-7238584311', '+91-7365402497', '+91-8873583904', '+91-9512045269', '+91-8082730318', '+91-8099507951', '+91-9588056931', '+91-8269262531', '+91-9715654185', '+91-9277495006', '+91-9648363060', '+91-9417713649', '+91-8488671196', '+91-8190815664', '+91-7454790811', '+91-8262323505', '+91-8017866448', '+91-8849004676', '+91-9900313046', '+91-7658552582', '+91-9333856056', '+91-7202523823', '+91-8919315839', '+91-8698336675', '+91-8249799195', '+91-7090591031', '+91-8946470254', '+91-9017689458', '+91-7056280066', '+91-8303984365', '+91-8784598815', '+91-7901957980', '+91-9539763461', '+91-7238986861', '+91-9186034821', '+91-8728318334', '+91-9893273414', '+91-7552522582', '+91-7501596026', '+91-7449062201', '+91-9995808361'], 'Date': ['04-06-2000', '07-08-2030', '27-11-2030', '27-11-2004', '30-08-2028', '30-01-2020', '03-03-2007', '20-07-2003', '29-01-2024', '22-11-2009', '02-01-2005', '04-10-2030', '28-03-2007', '03-01-2004', '29-04-2027', '02-02-2012', '10-07-2001', '25-06-2024', '05-11-2007', '19-09-2000', '27-04-2001', '15-11-2011', '16-04-2022', '26-11-2019', '09-01-2021', '17-05-2003', '07-02-2005', '13-03-2018', '21-08-2010', '12-05-2011', '05-02-2000', '02-09-2030', '25-07-2012', '20-01-2003', '21-03-2025', '29-10-2006', '22-07-2023', '30-09-2023', '03-03-2001', '13-09-2008', '12-06-2003', '11-03-2025', '27-11-2029', '05-10-2020', '17-10-2000', '28-05-2015', '14-07-2002', '03-01-2011', '15-02-2008', '07-05-2013']}\n"
     ]
    }
   ],
   "source": [
    "Detailes = {\"Email\":[], \"Ph\":[], \"Date\":[]}\n",
    "\n",
    "Detailes['Email'] = re.findall(email_pattern, text)\n",
    "Detailes['Ph'] = re.findall(ph_pattern, text)\n",
    "Detailes['Date'] = re.findall(date_pattern, text)\n",
    "\n",
    "print(Detailes)"
   ]
  },
  {
   "cell_type": "code",
   "execution_count": null,
   "id": "fa3c2e9e-01d2-420d-988e-3ac97a7d5c55",
   "metadata": {},
   "outputs": [],
   "source": [
    "mixed_strings = [\n",
    "    \"test@example.com\",\n",
    "    \"(123)-456-7890\",\n",
    "    \"Start this string\",\n",
    "    \"This string ends with End\",\n",
    "    \"123456\",\n",
    "    \"Contains whitespace \",\n",
    "    \"pretest and posttest\",\n",
    "    \"@#!$%\",\n",
    "    \"5This does not start with a digit\",\n",
    "    \"NoWhitespaceHere\"\n",
    "]"
   ]
  },
  {
   "cell_type": "markdown",
   "id": "a47af92a-002f-49b2-9b2e-b52338a85073",
   "metadata": {},
   "source": [
    "## **OOP's**"
   ]
  },
  {
   "cell_type": "markdown",
   "id": "7e6aa7d3-33b8-4974-bc53-3aa3981b4d60",
   "metadata": {},
   "source": [
    "```\n",
    "class className:\n",
    "    # Statements 1\n",
    "    .\n",
    "    .\n",
    "    .\n",
    "    #Statements n\n",
    "```"
   ]
  },
  {
   "cell_type": "code",
   "execution_count": 2,
   "id": "8423732c-f567-47e3-9576-97be6e9afbb8",
   "metadata": {},
   "outputs": [],
   "source": [
    "class Myclass:\n",
    "    x = 5 #class vriable\n",
    "\n",
    "    # Contructor \n",
    "    def __init__ (self, y):\n",
    "        self.y = y #instace veriable\n",
    "\n",
    "    # Method\n",
    "    def diplay(self):\n",
    "        print(f\"{self.y}\")"
   ]
  },
  {
   "cell_type": "code",
   "execution_count": 3,
   "id": "cee73115-293e-4896-a9ae-f08506bcee47",
   "metadata": {},
   "outputs": [],
   "source": [
    "obj = Myclass(8)"
   ]
  },
  {
   "cell_type": "code",
   "execution_count": 4,
   "id": "baee3248-b05f-4164-afbd-bbe7e38741ce",
   "metadata": {},
   "outputs": [
    {
     "data": {
      "text/plain": [
       "5"
      ]
     },
     "execution_count": 4,
     "metadata": {},
     "output_type": "execute_result"
    }
   ],
   "source": [
    "# accessing veriable or attribute\n",
    "Myclass.x"
   ]
  },
  {
   "cell_type": "code",
   "execution_count": 5,
   "id": "cd961984-9be7-4b12-a030-e5840dce436e",
   "metadata": {},
   "outputs": [
    {
     "data": {
      "text/plain": [
       "5"
      ]
     },
     "execution_count": 5,
     "metadata": {},
     "output_type": "execute_result"
    }
   ],
   "source": [
    "obj.x"
   ]
  },
  {
   "cell_type": "code",
   "execution_count": 6,
   "id": "fceca72f-aae9-48eb-ba4e-9ebc24a85f72",
   "metadata": {},
   "outputs": [
    {
     "data": {
      "text/plain": [
       "8"
      ]
     },
     "execution_count": 6,
     "metadata": {},
     "output_type": "execute_result"
    }
   ],
   "source": [
    "obj.y"
   ]
  },
  {
   "cell_type": "code",
   "execution_count": 7,
   "id": "8e18a488-de7f-4742-b278-6e57ce58f962",
   "metadata": {},
   "outputs": [
    {
     "name": "stdout",
     "output_type": "stream",
     "text": [
      "8\n"
     ]
    }
   ],
   "source": [
    "# Calling Method\n",
    "obj.diplay()"
   ]
  },
  {
   "cell_type": "code",
   "execution_count": 8,
   "id": "9cd7450f-51a3-4958-bb1f-6d235d5a89cf",
   "metadata": {},
   "outputs": [
    {
     "data": {
      "text/plain": [
       "10"
      ]
     },
     "execution_count": 8,
     "metadata": {},
     "output_type": "execute_result"
    }
   ],
   "source": [
    "# Modified Attribute\n",
    "Myclass.x = 10\n",
    "Myclass.x"
   ]
  },
  {
   "cell_type": "code",
   "execution_count": 9,
   "id": "e5834b70-934d-4e76-988a-2a98b61c5321",
   "metadata": {},
   "outputs": [
    {
     "data": {
      "text/plain": [
       "16"
      ]
     },
     "execution_count": 9,
     "metadata": {},
     "output_type": "execute_result"
    }
   ],
   "source": [
    "obj.y = 16\n",
    "obj.y"
   ]
  },
  {
   "cell_type": "code",
   "execution_count": 12,
   "id": "72adc5d7-52e7-4875-b1ab-6019fe36a9a2",
   "metadata": {},
   "outputs": [
    {
     "name": "stdout",
     "output_type": "stream",
     "text": [
      "Canine\n",
      "puppy\n",
      "5\n",
      "The dog name is puppy and the age is 3\n"
     ]
    }
   ],
   "source": [
    "class Dog:\n",
    "    Species = 'Canine'\n",
    "\n",
    "    def __init__ (self, name, age):\n",
    "        self.name = name\n",
    "        self.age = age\n",
    "\n",
    "    def display_info(self):\n",
    "        print(f\"The dog name is {self.name} and the age is {self.age}\")\n",
    "\n",
    "dog1 = Dog(\"puppy\", 3)\n",
    "dog2 = Dog(\"Charlie\", 5)\n",
    "\n",
    "print(Dog.Species)\n",
    "print(dog1.name)\n",
    "print(dog2.age)\n",
    "dog1.display_info()\n"
   ]
  },
  {
   "cell_type": "code",
   "execution_count": 2,
   "id": "0a97d789-5499-4e90-aefb-e97c2a66d408",
   "metadata": {},
   "outputs": [
    {
     "name": "stdout",
     "output_type": "stream",
     "text": [
      "Not Divisible by 2\n",
      "Divisible by 3\n"
     ]
    }
   ],
   "source": [
    "class divisible:\n",
    "    def __init__ (self, num1, num2):\n",
    "        self.num1 = num1\n",
    "        self.num2 = num2\n",
    "\n",
    "    def div2(self):\n",
    "        if self.num1%2 == 0:\n",
    "            print(\"Divisible by 2\")\n",
    "        else:\n",
    "            print(\"Not Divisible by 2\")\n",
    "\n",
    "    def div3(self):\n",
    "        if self.num2%3==0:\n",
    "            print(\"Divisible by 3\")\n",
    "        else:\n",
    "            print(\"Not Divisible by 3\")\n",
    "\n",
    "divisible1 = divisible(9,15)\n",
    "divisible1.div2()\n",
    "divisible1.div3()"
   ]
  },
  {
   "cell_type": "code",
   "execution_count": 18,
   "id": "6cc72384-3ba6-4837-947e-6d75eea09a73",
   "metadata": {},
   "outputs": [
    {
     "name": "stdout",
     "output_type": "stream",
     "text": [
      "0 is Divisible by 2\n",
      "1 is Not Divisible by 2\n",
      "2 is Divisible by 2\n",
      "3 is Not Divisible by 2\n",
      "4 is Divisible by 2\n",
      "5 is Not Divisible by 2\n",
      "6 is Divisible by 2\n",
      "7 is Not Divisible by 2\n",
      "8 is Divisible by 2\n",
      "9 is Not Divisible by 2\n"
     ]
    }
   ],
   "source": [
    "class divisible:\n",
    "    def __init__ (self, num1):\n",
    "        self.num1 = num1\n",
    "\n",
    "    def div2(self):\n",
    "        for i in range(self.num1):\n",
    "            if i%2 == 0:\n",
    "                print(f\"{i} is Divisible by 2\")\n",
    "            else:\n",
    "                print(f\"{i} is Not Divisible by 2\")\n",
    "\n",
    "div1 = divisible(10)\n",
    "div1.div2()"
   ]
  },
  {
   "cell_type": "code",
   "execution_count": 14,
   "id": "94b06d7a-4432-4707-8bb0-71a1f9ba3eff",
   "metadata": {},
   "outputs": [
    {
     "name": "stdout",
     "output_type": "stream",
     "text": [
      "Car Manufacture Mahindra, and Model name Thar\n"
     ]
    }
   ],
   "source": [
    "class car:\n",
    "\n",
    "    car_count = 0\n",
    "\n",
    "    def __init__ (self, make, model):\n",
    "        self.make= make\n",
    "        self.model = model\n",
    "\n",
    "        car.car_count+=1\n",
    "\n",
    "    def display(self):\n",
    "        print(f\"Car Manufacture {self.make}, and Model name {self.model}\")\n",
    "\n",
    "car1 = car(\"KIA\", \"Sonet\")\n",
    "car2 = car(\"Ford\", \"Mustang\")\n",
    "car3 = car(\"Toyota\", \"Fortunar\")\n",
    "car4 = car(\"Mahindra\", \"Thar\")\n",
    "\n",
    "car4.display()"
   ]
  },
  {
   "cell_type": "code",
   "execution_count": 15,
   "id": "e581a3fd-45f3-4bf0-9068-8a543f2ee488",
   "metadata": {},
   "outputs": [
    {
     "name": "stdout",
     "output_type": "stream",
     "text": [
      "4\n"
     ]
    }
   ],
   "source": [
    "print(car.car_count)"
   ]
  },
  {
   "cell_type": "markdown",
   "id": "1bb5e2be-0d8f-4522-acd6-f6accb8ab2a2",
   "metadata": {},
   "source": [
    "#### **Encapsulation**"
   ]
  },
  {
   "cell_type": "code",
   "execution_count": 20,
   "id": "8a5ba631-76a1-4d70-9749-04af5c451322",
   "metadata": {},
   "outputs": [
    {
     "data": {
      "text/plain": [
       "'Ash, Iraq'"
      ]
     },
     "execution_count": 20,
     "metadata": {},
     "output_type": "execute_result"
    }
   ],
   "source": [
    "class Person:\n",
    "    def __init__(self, name, city):\n",
    "        self.name = name\n",
    "        self.city = city\n",
    "\n",
    "    def display_info(self):\n",
    "        return f\"{self.name}, {self.city}\"\n",
    "\n",
    "obj = Person(\"Ash\", \"Iraq\")\n",
    "obj.display_info()"
   ]
  },
  {
   "cell_type": "code",
   "execution_count": 21,
   "id": "f42fe961-dd72-4223-8505-ae78e709c3dd",
   "metadata": {},
   "outputs": [
    {
     "data": {
      "text/plain": [
       "'Ash'"
      ]
     },
     "execution_count": 21,
     "metadata": {},
     "output_type": "execute_result"
    }
   ],
   "source": [
    "obj.name"
   ]
  },
  {
   "cell_type": "code",
   "execution_count": 22,
   "id": "04298230-740a-4ece-9fc5-7e1d0e5490ff",
   "metadata": {},
   "outputs": [
    {
     "data": {
      "text/plain": [
       "'Iraq'"
      ]
     },
     "execution_count": 22,
     "metadata": {},
     "output_type": "execute_result"
    }
   ],
   "source": [
    "obj.city"
   ]
  },
  {
   "cell_type": "code",
   "execution_count": 27,
   "id": "faf6a9a1-f720-4dc7-a703-014d76224dcc",
   "metadata": {},
   "outputs": [],
   "source": [
    "class Person:\n",
    "    def __init__(self, name, city):\n",
    "        self.__name = name #private Attribute (__)\n",
    "        self.__city = city\n",
    "\n",
    "    def display_info(self):\n",
    "        return f\"{self.__name}, {self.__city}\"\n",
    "\n",
    "obj1 = Person(\"Arya\", \"Blore\")"
   ]
  },
  {
   "cell_type": "code",
   "execution_count": 28,
   "id": "7b8af235-cafc-4838-89b9-e0e050955898",
   "metadata": {},
   "outputs": [
    {
     "ename": "AttributeError",
     "evalue": "'Person' object has no attribute 'name'",
     "output_type": "error",
     "traceback": [
      "\u001b[1;31m---------------------------------------------------------------------------\u001b[0m",
      "\u001b[1;31mAttributeError\u001b[0m                            Traceback (most recent call last)",
      "Cell \u001b[1;32mIn[28], line 1\u001b[0m\n\u001b[1;32m----> 1\u001b[0m \u001b[43mobj1\u001b[49m\u001b[38;5;241;43m.\u001b[39;49m\u001b[43mname\u001b[49m\n",
      "\u001b[1;31mAttributeError\u001b[0m: 'Person' object has no attribute 'name'"
     ]
    }
   ],
   "source": [
    "obj1.name"
   ]
  },
  {
   "cell_type": "code",
   "execution_count": 29,
   "id": "20dbc51e-44f3-491f-9125-e1dc878c457f",
   "metadata": {},
   "outputs": [
    {
     "data": {
      "text/plain": [
       "'Arya, Blore'"
      ]
     },
     "execution_count": 29,
     "metadata": {},
     "output_type": "execute_result"
    }
   ],
   "source": [
    "obj1.display_info()"
   ]
  },
  {
   "cell_type": "code",
   "execution_count": 5,
   "id": "2921946d-08eb-49f6-b5c8-f285f4bc6650",
   "metadata": {},
   "outputs": [],
   "source": [
    "class BankAccount():\n",
    "    def __init__(self, Name, Balance):\n",
    "        self.__name = Name\n",
    "        self.__balance = Balance\n",
    "        \n",
    "\n",
    "    def deposit(self, amount):\n",
    "        if amount > 0:\n",
    "            self.__balance += amount\n",
    "            print(f\"Balance After Deposite {self.__balance}\")\n",
    "        else:\n",
    "            print(\"Deposit amount must be Positive\")\n",
    "\n",
    "    def withdraw(self, amount):\n",
    "        if amount > 0:\n",
    "            if self.__balance >= amount:\n",
    "                self.__balance -= amount\n",
    "                print(f\"Balance After Withdraw {self.__balance}\")\n",
    "            else:\n",
    "                print(\"Isuffuciat balance\")\n",
    "\n",
    "    def get_balance(self):\n",
    "        return self.__balance\n",
    "\n",
    "\n",
    "account = BankAccount(\"Aftab\", 2000)"
   ]
  },
  {
   "cell_type": "code",
   "execution_count": 35,
   "id": "f9003cd3-5206-4c9a-9eac-d66f9dac4bda",
   "metadata": {},
   "outputs": [
    {
     "name": "stdout",
     "output_type": "stream",
     "text": [
      "Balance After Deposite 2500\n"
     ]
    }
   ],
   "source": [
    "account.deposit(500)"
   ]
  },
  {
   "cell_type": "code",
   "execution_count": 37,
   "id": "231c0d36-2498-4aff-8c14-3ab7f35eae84",
   "metadata": {},
   "outputs": [
    {
     "name": "stdout",
     "output_type": "stream",
     "text": [
      "Balance After Withdraw 1500\n"
     ]
    }
   ],
   "source": [
    "account.withdraw(1000)"
   ]
  },
  {
   "cell_type": "code",
   "execution_count": 38,
   "id": "e60abf33-bbe3-45ff-99e3-9963e8507721",
   "metadata": {},
   "outputs": [
    {
     "data": {
      "text/plain": [
       "1500"
      ]
     },
     "execution_count": 38,
     "metadata": {},
     "output_type": "execute_result"
    }
   ],
   "source": [
    "account.get_balance()"
   ]
  },
  {
   "cell_type": "markdown",
   "id": "c4e9f3d3-bdf0-4036-9086-e44f0cca0f83",
   "metadata": {},
   "source": [
    "##### **Student Report Card**"
   ]
  },
  {
   "cell_type": "code",
   "execution_count": 45,
   "id": "affef039-5027-4b25-8ff2-debbd5e305b1",
   "metadata": {},
   "outputs": [],
   "source": [
    "class Student:\n",
    "    def __init__ (self, name):\n",
    "        self.name = name\n",
    "        \n",
    "        self.__grades = {}\n",
    "\n",
    "    def add_grade(self, subject, grade):\n",
    "        if 0 <= grade <= 100:\n",
    "            self.__grades[subject] = grade\n",
    "        else:\n",
    "            print(\"Invalid Grade\")\n",
    "\n",
    "    def get_grade(self, subject):\n",
    "        return self.__grades.get(subject)\n",
    "\n",
    "    def get_all_grades(self):\n",
    "        return self.__grades\n",
    "\n",
    "\n",
    "s1 = Student(\"Rohan\")\n",
    "s1.add_grade(\"Math\", 95)\n",
    "s1.add_grade(\"Science\", 75)"
   ]
  },
  {
   "cell_type": "code",
   "execution_count": 46,
   "id": "2f464f69-08e9-4324-bd67-913886969d60",
   "metadata": {},
   "outputs": [
    {
     "data": {
      "text/plain": [
       "95"
      ]
     },
     "execution_count": 46,
     "metadata": {},
     "output_type": "execute_result"
    }
   ],
   "source": [
    "s1.get_grade('Math')"
   ]
  },
  {
   "cell_type": "code",
   "execution_count": 47,
   "id": "10f52232-4a56-43ff-96fb-b9eba12143b9",
   "metadata": {},
   "outputs": [
    {
     "data": {
      "text/plain": [
       "{'Math': 95, 'Science': 75}"
      ]
     },
     "execution_count": 47,
     "metadata": {},
     "output_type": "execute_result"
    }
   ],
   "source": [
    "s1.get_all_grades()"
   ]
  },
  {
   "cell_type": "code",
   "execution_count": 1,
   "id": "9a71073a-f857-4320-9aa5-12f1149a7bf7",
   "metadata": {},
   "outputs": [],
   "source": [
    "## **Inharitance**"
   ]
  },
  {
   "cell_type": "code",
   "execution_count": 2,
   "id": "5971d6a8-66c2-4898-bbef-ff15feadbee5",
   "metadata": {},
   "outputs": [],
   "source": [
    "class Person:\n",
    "    def __init__ (self, fname, lname):\n",
    "        self.first_name = fname\n",
    "        self.last_name = lname\n",
    "\n",
    "    def printname(self):\n",
    "        print(self.first_name+ ' ' +self.last_name)\n",
    "\n",
    "class Student(Person):\n",
    "    def __init__ (self, fname, lname, age, student_id):\n",
    "        super().__init__(fname, lname)\n",
    "        self.age = age\n",
    "        self.student_id = student_id\n",
    "\n",
    "    def Study(self):\n",
    "        print(f\"{self.first_name+' '+self.last_name} is Studying. (Student ID: {self.student_id})\")"
   ]
  },
  {
   "cell_type": "code",
   "execution_count": 4,
   "id": "41191c7c-27f5-4932-b2f1-88443f7c18f3",
   "metadata": {},
   "outputs": [
    {
     "name": "stdout",
     "output_type": "stream",
     "text": [
      "Datta Deepak\n"
     ]
    }
   ],
   "source": [
    "p1 = Person(\"Datta\", \"Deepak\")\n",
    "p1.printname()"
   ]
  },
  {
   "cell_type": "code",
   "execution_count": 3,
   "id": "e425cfe4-85b9-4f9c-843d-a23477ac62f2",
   "metadata": {},
   "outputs": [
    {
     "name": "stdout",
     "output_type": "stream",
     "text": [
      "Datta Deepak is Studying. (Student ID: 1)\n"
     ]
    }
   ],
   "source": [
    "s1 = Student(\"Datta\", \"Deepak\", 24, 1)\n",
    "s1.Study()"
   ]
  },
  {
   "cell_type": "code",
   "execution_count": 8,
   "id": "ad5080e0-2f00-45f7-890f-757cb5f5ae2c",
   "metadata": {},
   "outputs": [],
   "source": [
    "class BankAccount():\n",
    "    def __init__(self, Name, Balance):\n",
    "        self.__name = Name\n",
    "        self.__balance = Balance\n",
    "        \n",
    "\n",
    "    def deposit(self, amount):\n",
    "        if amount > 0:\n",
    "            self.__balance += amount\n",
    "            print(f\"Balance After Deposite {self.__balance}\")\n",
    "        else:\n",
    "            print(\"Deposit amount must be Positive\")\n",
    "\n",
    "    def withdraw(self, amount):\n",
    "        if amount > 0:\n",
    "            if self.__balance >= amount:\n",
    "                self.__balance -= amount\n",
    "                print(f\"Balance After Withdraw {self.__balance}\")\n",
    "            else:\n",
    "                print(\"Isuffuciat balance\")\n",
    "\n",
    "    def get_balance(self):\n",
    "        return self.__balance\n",
    "\n",
    "class SavingAccount(BankAccount):\n",
    "    def __init__ (self, Name, Balance, interest_rate=0.03):\n",
    "        super().__init__(Name, Balance)\n",
    "        self.interest_rate = interest_rate\n",
    "\n",
    "    def add_interest(self):\n",
    "        interest = self.get_balance() * self.interest_rate\n",
    "        self.deposit(interest)"
   ]
  },
  {
   "cell_type": "code",
   "execution_count": 15,
   "id": "d36ca242-4dd5-455c-8667-1fc5ce0a1780",
   "metadata": {},
   "outputs": [],
   "source": [
    "account1 = SavingAccount(\"Rohan\", 1500)"
   ]
  },
  {
   "cell_type": "code",
   "execution_count": 16,
   "id": "ccc25cdb-58a0-46a9-8e56-8b73706b394a",
   "metadata": {},
   "outputs": [
    {
     "name": "stdout",
     "output_type": "stream",
     "text": [
      "Balance After Deposite 1600\n"
     ]
    }
   ],
   "source": [
    "account1.deposit(100)"
   ]
  },
  {
   "cell_type": "code",
   "execution_count": 20,
   "id": "cda2e2b0-0da6-4464-9134-961f9f4cb177",
   "metadata": {},
   "outputs": [
    {
     "name": "stdout",
     "output_type": "stream",
     "text": [
      "Balance After Deposite 1182.44\n"
     ]
    }
   ],
   "source": [
    "account1.add_interest()"
   ]
  },
  {
   "cell_type": "code",
   "execution_count": 18,
   "id": "b9dca7cf-6a1f-415c-8630-a04e10e820b4",
   "metadata": {},
   "outputs": [
    {
     "name": "stdout",
     "output_type": "stream",
     "text": [
      "Balance After Withdraw 1148.0\n"
     ]
    }
   ],
   "source": [
    "account1.withdraw(500)"
   ]
  },
  {
   "cell_type": "code",
   "execution_count": 19,
   "id": "4c963daa-c0a8-410f-96fa-3efd466cdc95",
   "metadata": {},
   "outputs": [
    {
     "data": {
      "text/plain": [
       "1148.0"
      ]
     },
     "execution_count": 19,
     "metadata": {},
     "output_type": "execute_result"
    }
   ],
   "source": [
    "account1.get_balance()"
   ]
  },
  {
   "cell_type": "code",
   "execution_count": 21,
   "id": "64915464-fd11-453a-9ad7-fdecb2292cfd",
   "metadata": {},
   "outputs": [],
   "source": [
    "# multiple Inharitence"
   ]
  },
  {
   "cell_type": "code",
   "execution_count": 26,
   "id": "6889b9c5-21b5-4734-b052-c899f47186a4",
   "metadata": {},
   "outputs": [
    {
     "data": {
      "text/plain": [
       "'Egale Flying'"
      ]
     },
     "execution_count": 26,
     "metadata": {},
     "output_type": "execute_result"
    }
   ],
   "source": [
    "class Bird:\n",
    "    def __init__ (self, Name):\n",
    "        self.name = Name\n",
    "    def diplay(self):\n",
    "        return self.name\n",
    "\n",
    "class Swimmer:\n",
    "    def swim(self):\n",
    "        return \"Swimming\"\n",
    "\n",
    "class Flayer:\n",
    "    def __init__ (self, Name):\n",
    "        super().__init__(Name)\n",
    "        \n",
    "    def fly(self):\n",
    "        return f\"{self.name} Flying\"\n",
    "\n",
    "class Duck(Bird, Swimmer, Flayer):\n",
    "    def quck(self):\n",
    "        return \"Quack\"\n",
    "\n",
    "\n",
    "bird = Duck(\"Egale\")\n",
    "bird.fly()"
   ]
  },
  {
   "cell_type": "code",
   "execution_count": 27,
   "id": "6b6559d8-3e63-4734-b69e-5e1af5081cbf",
   "metadata": {},
   "outputs": [
    {
     "data": {
      "text/plain": [
       "'Swimming'"
      ]
     },
     "execution_count": 27,
     "metadata": {},
     "output_type": "execute_result"
    }
   ],
   "source": [
    "bird.swim()"
   ]
  },
  {
   "cell_type": "code",
   "execution_count": 28,
   "id": "30a1b6f5-6f3c-4a01-8834-65d5766b9007",
   "metadata": {},
   "outputs": [
    {
     "data": {
      "text/plain": [
       "'Egale'"
      ]
     },
     "execution_count": 28,
     "metadata": {},
     "output_type": "execute_result"
    }
   ],
   "source": [
    "bird.diplay()"
   ]
  },
  {
   "cell_type": "code",
   "execution_count": 29,
   "id": "54ba1722-e7b7-4c19-8bc8-8d6fd4fc8185",
   "metadata": {},
   "outputs": [],
   "source": [
    "### Multilel Inharitence**"
   ]
  },
  {
   "cell_type": "code",
   "execution_count": 35,
   "id": "05434ad6-e414-49d1-b534-64db9f0013ef",
   "metadata": {},
   "outputs": [],
   "source": [
    "class Class_10(Student):\n",
    "    def __init__ (self, fname, lname, age, student_id, class_id):\n",
    "        super().__init__(fname, lname, age, student_id)\n",
    "        self.class_id = class_id\n",
    "\n",
    "    def display_info(self):\n",
    "        print(f\"{self.first_name+' '+self.last_name} is Studying. (Student ID: {self.student_id}) , (Class ID : {self.class_id})\" )\n",
    "\n",
    "\n",
    "student2 = Class_10(\"Datta\", \"Deepak\", 24, 1, 2)   "
   ]
  },
  {
   "cell_type": "code",
   "execution_count": 36,
   "id": "5e127ab3-0543-467c-82af-a58c593812f6",
   "metadata": {},
   "outputs": [
    {
     "name": "stdout",
     "output_type": "stream",
     "text": [
      "Datta Deepak is Studying. (Student ID: 1) , (Class ID : 2)\n"
     ]
    }
   ],
   "source": [
    "student2.display_info()"
   ]
  },
  {
   "cell_type": "code",
   "execution_count": 37,
   "id": "38910d1a-0315-4931-9a40-9b9805dbe9d4",
   "metadata": {},
   "outputs": [],
   "source": [
    "### **Polymophism**"
   ]
  },
  {
   "cell_type": "code",
   "execution_count": 42,
   "id": "dc723586-2baf-4f85-95e5-637a40ac7083",
   "metadata": {},
   "outputs": [],
   "source": [
    "class Bird:\n",
    "    def __init__ (self, Name):\n",
    "        self.name = Name\n",
    "    def diplay(self):\n",
    "        return self.name\n",
    "\n",
    "class Swimmer:\n",
    "    def swim(self):\n",
    "        return \"Swimming\"\n",
    "\n",
    "class Flayer(Bird):\n",
    "    def __init__ (self, Name):\n",
    "        super().__init__(Name)\n",
    "        \n",
    "    def fly(self):\n",
    "        return f\"{self.name} Flying\"\n",
    "\n",
    "class Duck(Swimmer, Flayer):\n",
    "    def quck(self):\n",
    "        return \"Quack\""
   ]
  },
  {
   "cell_type": "code",
   "execution_count": 43,
   "id": "50385d03-c849-49f5-aa1c-add02d99be4f",
   "metadata": {},
   "outputs": [],
   "source": [
    "obj = Duck(\"Parrote\")"
   ]
  },
  {
   "cell_type": "code",
   "execution_count": 44,
   "id": "5b0019a1-acd5-443a-a71c-647eba361d24",
   "metadata": {},
   "outputs": [
    {
     "data": {
      "text/plain": [
       "'Parrote Flying'"
      ]
     },
     "execution_count": 44,
     "metadata": {},
     "output_type": "execute_result"
    }
   ],
   "source": [
    "obj.fly()"
   ]
  },
  {
   "cell_type": "code",
   "execution_count": 45,
   "id": "ffcd3cba-9ccb-47e3-9ab4-000588977566",
   "metadata": {},
   "outputs": [
    {
     "data": {
      "text/plain": [
       "'Picok Flying'"
      ]
     },
     "execution_count": 45,
     "metadata": {},
     "output_type": "execute_result"
    }
   ],
   "source": [
    "obj2 = Duck(\"Picok\")\n",
    "obj2.fly()"
   ]
  },
  {
   "cell_type": "code",
   "execution_count": 46,
   "id": "76ffeb3b-6c47-411b-90a1-18d94f464f61",
   "metadata": {},
   "outputs": [
    {
     "data": {
      "text/plain": [
       "'Quack'"
      ]
     },
     "execution_count": 46,
     "metadata": {},
     "output_type": "execute_result"
    }
   ],
   "source": [
    "obj2.quck()"
   ]
  },
  {
   "cell_type": "code",
   "execution_count": 47,
   "id": "fc920e30-c435-4dfe-aa4b-fd2ef2078ec5",
   "metadata": {},
   "outputs": [
    {
     "data": {
      "text/plain": [
       "'Swimming'"
      ]
     },
     "execution_count": 47,
     "metadata": {},
     "output_type": "execute_result"
    }
   ],
   "source": [
    "obj2.swim()"
   ]
  },
  {
   "cell_type": "code",
   "execution_count": 53,
   "id": "6827cd68-4036-4f83-9b9e-2ba20ae30a7a",
   "metadata": {},
   "outputs": [
    {
     "data": {
      "text/plain": [
       "25"
      ]
     },
     "execution_count": 53,
     "metadata": {},
     "output_type": "execute_result"
    }
   ],
   "source": [
    "#overloading\n",
    "\n",
    "class Matheoperation:\n",
    "    def add(self, a, b, c = 0, d = None):\n",
    "        if d is not None:\n",
    "            return a + b + c + d\n",
    "        return a+b+c\n",
    "\n",
    "add = Matheoperation()\n",
    "add.add(12,13)"
   ]
  },
  {
   "cell_type": "code",
   "execution_count": 54,
   "id": "4e421313-817e-458f-afda-5f610595864d",
   "metadata": {},
   "outputs": [
    {
     "data": {
      "text/plain": [
       "39"
      ]
     },
     "execution_count": 54,
     "metadata": {},
     "output_type": "execute_result"
    }
   ],
   "source": [
    "add.add(12,13, 14)"
   ]
  },
  {
   "cell_type": "code",
   "execution_count": 55,
   "id": "c5e769ec-79db-4ac5-b34b-7b099416bf6b",
   "metadata": {},
   "outputs": [
    {
     "data": {
      "text/plain": [
       "50"
      ]
     },
     "execution_count": 55,
     "metadata": {},
     "output_type": "execute_result"
    }
   ],
   "source": [
    "add.add(11,12,13,14)"
   ]
  },
  {
   "cell_type": "code",
   "execution_count": null,
   "id": "50ff59e3-c845-46b7-8506-f4fd58a34f75",
   "metadata": {},
   "outputs": [],
   "source": []
  }
 ],
 "metadata": {
  "kernelspec": {
   "display_name": "Python 3 (ipykernel)",
   "language": "python",
   "name": "python3"
  },
  "language_info": {
   "codemirror_mode": {
    "name": "ipython",
    "version": 3
   },
   "file_extension": ".py",
   "mimetype": "text/x-python",
   "name": "python",
   "nbconvert_exporter": "python",
   "pygments_lexer": "ipython3",
   "version": "3.13.1"
  }
 },
 "nbformat": 4,
 "nbformat_minor": 5
}
