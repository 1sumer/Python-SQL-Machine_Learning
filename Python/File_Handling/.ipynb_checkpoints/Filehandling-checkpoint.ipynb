{
 "cells": [
  {
   "cell_type": "markdown",
   "id": "a3ac54a7",
   "metadata": {},
   "source": [
    "## **File Handling**"
   ]
  },
  {
   "cell_type": "code",
   "execution_count": 11,
   "id": "0cc9fc3e",
   "metadata": {},
   "outputs": [],
   "source": [
    "## Creating a File\n",
    "def creat_file(file_name, content):\n",
    "    with open(file_name, 'w') as file:\n",
    "        file.write(content)\n",
    "creat_file('example.txt', 'Python is a powerful programming language.')"
   ]
  },
  {
   "cell_type": "code",
   "execution_count": null,
   "id": "dd3d6c44",
   "metadata": {},
   "outputs": [],
   "source": [
    "with open('example.txt', 'w') as file:\n",
    "    file.write('Python is a Interpeter Language')\n",
    "    file.close()"
   ]
  },
  {
   "cell_type": "code",
   "execution_count": 6,
   "id": "462506ef",
   "metadata": {},
   "outputs": [
    {
     "name": "stdout",
     "output_type": "stream",
     "text": [
      "Python is a Interpeter Language\n"
     ]
    }
   ],
   "source": [
    "# Read the file\n",
    "\n",
    "f = open(\"D:\\\\Python-SQL-Repository\\\\Python\\\\Filehandle\\\\example.txt\", \"r\")\n",
    "content = f.read()\n",
    "print(content)\n",
    "f.close()"
   ]
  },
  {
   "cell_type": "code",
   "execution_count": 7,
   "id": "7bae655c",
   "metadata": {},
   "outputs": [
    {
     "name": "stdout",
     "output_type": "stream",
     "text": [
      "Python is a Interpeter Language\n"
     ]
    }
   ],
   "source": [
    "with open(r'D:\\Python-SQL-Repository\\Python\\Filehandle\\example.txt', 'r') as file:\n",
    "    content = file.read()\n",
    "    print(content)\n",
    "    file.close()"
   ]
  },
  {
   "cell_type": "code",
   "execution_count": 9,
   "id": "516329d4",
   "metadata": {},
   "outputs": [],
   "source": [
    "# Write the file\n",
    "with open('example.txt', 'w') as file:\n",
    "    file.write(\"\"\"File handling is an important part of any web application.\n",
    "Python has several functions for creating, reading, updating, and deleting files.\n",
    "\"\"\")\n",
    "    file.close()"
   ]
  },
  {
   "cell_type": "code",
   "execution_count": 10,
   "id": "42a19fdf",
   "metadata": {},
   "outputs": [
    {
     "name": "stdout",
     "output_type": "stream",
     "text": [
      "File handling is an important part of any web application.\n",
      "Python has several functions for creating, reading, updating, and deleting files.\n",
      "\n"
     ]
    }
   ],
   "source": [
    "file = open('example.txt', 'r')\n",
    "content = file.read()\n",
    "print(content)\n",
    "file.close()"
   ]
  },
  {
   "cell_type": "code",
   "execution_count": 15,
   "id": "e5c205e9",
   "metadata": {},
   "outputs": [
    {
     "name": "stdout",
     "output_type": "stream",
     "text": [
      "Updated content at the beginningrt of any web application.\n",
      "Updated content at the beginningrt of any web application.\n"
     ]
    }
   ],
   "source": [
    "with open('example.txt', 'r+') as file:\n",
    "    content = file.read()\n",
    "    print(content)\n",
    "    \n",
    "    file.seek(0)\n",
    "    \n",
    "    file.write(\"Updated content at the beginning\")\n",
    "    \n",
    "    file.seek(2)\n",
    "    \n",
    "    content1 = file.read()\n",
    "    print(content)\n",
    "    \n",
    "    file.close()"
   ]
  },
  {
   "cell_type": "code",
   "execution_count": null,
   "id": "686eab3e",
   "metadata": {},
   "outputs": [],
   "source": []
  }
 ],
 "metadata": {
  "kernelspec": {
   "display_name": "Python 3",
   "language": "python",
   "name": "python3"
  },
  "language_info": {
   "codemirror_mode": {
    "name": "ipython",
    "version": 3
   },
   "file_extension": ".py",
   "mimetype": "text/x-python",
   "name": "python",
   "nbconvert_exporter": "python",
   "pygments_lexer": "ipython3",
   "version": "3.13.1"
  }
 },
 "nbformat": 4,
 "nbformat_minor": 5
}
