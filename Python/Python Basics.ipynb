{
 "cells": [
  {
   "cell_type": "markdown",
   "id": "0494749d-29b5-46d8-8992-9db478688bfc",
   "metadata": {
    "jp-MarkdownHeadingCollapsed": true
   },
   "source": [
    "## **Markdown**"
   ]
  },
  {
   "cell_type": "markdown",
   "id": "77c38cc1-a699-4b0c-a136-6ac10e8fa88f",
   "metadata": {},
   "source": [
    "*keyword*"
   ]
  },
  {
   "cell_type": "markdown",
   "id": "dbadeec7-4819-4c36-b46c-fcc78e156015",
   "metadata": {},
   "source": [
    "```\n",
    "Python\n",
    "```\n",
    "\n",
    "- Python\n",
    "\n",
    "> Python\n",
    "\n",
    "1.python"
   ]
  },
  {
   "cell_type": "markdown",
   "id": "e9c36666-4bfd-4948-8c50-325ea308d2da",
   "metadata": {
    "jp-MarkdownHeadingCollapsed": true
   },
   "source": [
    "## **Keyword**"
   ]
  },
  {
   "cell_type": "code",
   "execution_count": 1,
   "id": "2f8ed465-6a9f-4829-9d18-433eb979d6c2",
   "metadata": {},
   "outputs": [
    {
     "name": "stdout",
     "output_type": "stream",
     "text": [
      "['False', 'None', 'True', 'and', 'as', 'assert', 'async', 'await', 'break', 'class', 'continue', 'def', 'del', 'elif', 'else', 'except', 'finally', 'for', 'from', 'global', 'if', 'import', 'in', 'is', 'lambda', 'nonlocal', 'not', 'or', 'pass', 'raise', 'return', 'try', 'while', 'with', 'yield']\n"
     ]
    }
   ],
   "source": [
    "import keyword\n",
    "print(keyword.kwlist)"
   ]
  },
  {
   "cell_type": "code",
   "execution_count": 2,
   "id": "05812b49-a0c8-4ed0-bdc3-77dea1656734",
   "metadata": {},
   "outputs": [
    {
     "data": {
      "text/plain": [
       "35"
      ]
     },
     "execution_count": 2,
     "metadata": {},
     "output_type": "execute_result"
    }
   ],
   "source": [
    "len(keyword.kwlist)"
   ]
  },
  {
   "cell_type": "markdown",
   "id": "85da44cc-ec4b-4e83-a20f-0eaaa0c349d9",
   "metadata": {
    "jp-MarkdownHeadingCollapsed": true
   },
   "source": [
    "## **Identifier**"
   ]
  },
  {
   "cell_type": "code",
   "execution_count": 5,
   "id": "55e61976-ce99-47ee-817f-a7a8867d3fe7",
   "metadata": {},
   "outputs": [
    {
     "name": "stdout",
     "output_type": "stream",
     "text": [
      "10\n"
     ]
    }
   ],
   "source": [
    "_12 = 10\n",
    "print(_12)"
   ]
  },
  {
   "cell_type": "code",
   "execution_count": 6,
   "id": "614e2726-4dbb-4322-a507-c6f4c9d6cd6d",
   "metadata": {},
   "outputs": [
    {
     "ename": "SyntaxError",
     "evalue": "invalid syntax (3057852973.py, line 1)",
     "output_type": "error",
     "traceback": [
      "\u001b[1;36m  Cell \u001b[1;32mIn[6], line 1\u001b[1;36m\u001b[0m\n\u001b[1;33m    my var = 10\u001b[0m\n\u001b[1;37m       ^\u001b[0m\n\u001b[1;31mSyntaxError\u001b[0m\u001b[1;31m:\u001b[0m invalid syntax\n"
     ]
    }
   ],
   "source": [
    "my var = 10"
   ]
  },
  {
   "cell_type": "code",
   "execution_count": 7,
   "id": "51358718-2d77-41a0-99da-dd50a6315a73",
   "metadata": {},
   "outputs": [],
   "source": [
    "my_var = 10"
   ]
  },
  {
   "cell_type": "code",
   "execution_count": 8,
   "id": "bb112b9a-2786-448b-9397-f71ee6dc8998",
   "metadata": {},
   "outputs": [
    {
     "ename": "SyntaxError",
     "evalue": "invalid decimal literal (3988158469.py, line 1)",
     "output_type": "error",
     "traceback": [
      "\u001b[1;36m  Cell \u001b[1;32mIn[8], line 1\u001b[1;36m\u001b[0m\n\u001b[1;33m    12qw = 10\u001b[0m\n\u001b[1;37m     ^\u001b[0m\n\u001b[1;31mSyntaxError\u001b[0m\u001b[1;31m:\u001b[0m invalid decimal literal\n"
     ]
    }
   ],
   "source": [
    "12qw = 10"
   ]
  },
  {
   "cell_type": "code",
   "execution_count": 9,
   "id": "052e81f9-25c8-489c-b518-9590cae67212",
   "metadata": {},
   "outputs": [
    {
     "ename": "SyntaxError",
     "evalue": "invalid syntax (3291504646.py, line 1)",
     "output_type": "error",
     "traceback": [
      "\u001b[1;36m  Cell \u001b[1;32mIn[9], line 1\u001b[1;36m\u001b[0m\n\u001b[1;33m    and = 10\u001b[0m\n\u001b[1;37m    ^\u001b[0m\n\u001b[1;31mSyntaxError\u001b[0m\u001b[1;31m:\u001b[0m invalid syntax\n"
     ]
    }
   ],
   "source": [
    "and = 10"
   ]
  },
  {
   "cell_type": "code",
   "execution_count": 12,
   "id": "6139710c-c952-433c-8871-a975129c87f7",
   "metadata": {},
   "outputs": [
    {
     "name": "stdout",
     "output_type": "stream",
     "text": [
      "Python\n"
     ]
    }
   ],
   "source": [
    "My_var = 'Python'\n",
    "print(My_var)"
   ]
  },
  {
   "cell_type": "code",
   "execution_count": 13,
   "id": "51c715ef-d1fd-43b9-aec5-bd14dc228636",
   "metadata": {},
   "outputs": [
    {
     "data": {
      "text/plain": [
       "2297032872112"
      ]
     },
     "execution_count": 13,
     "metadata": {},
     "output_type": "execute_result"
    }
   ],
   "source": [
    "id(My_var)"
   ]
  },
  {
   "cell_type": "code",
   "execution_count": 16,
   "id": "1973a1c4-88e1-422f-9b47-316afa5f5475",
   "metadata": {},
   "outputs": [
    {
     "data": {
      "text/plain": [
       "(2297133571536, 2297133638640)"
      ]
     },
     "execution_count": 16,
     "metadata": {},
     "output_type": "execute_result"
    }
   ],
   "source": [
    "a = 257 # id will same from -5 to 256\n",
    "b = 257\n",
    "id(a), id(b)"
   ]
  },
  {
   "cell_type": "code",
   "execution_count": 1,
   "id": "25a8ff40-6c33-4120-8e59-450300587850",
   "metadata": {},
   "outputs": [],
   "source": [
    "def _12(a):\n",
    "    return a"
   ]
  },
  {
   "cell_type": "code",
   "execution_count": 3,
   "id": "1361d58f-d5f2-40c2-86d5-9a94080f9ee1",
   "metadata": {},
   "outputs": [
    {
     "ename": "SyntaxError",
     "evalue": "expected '(' (870636007.py, line 1)",
     "output_type": "error",
     "traceback": [
      "\u001b[1;36m  Cell \u001b[1;32mIn[3], line 1\u001b[1;36m\u001b[0m\n\u001b[1;33m    def python intro(a):\u001b[0m\n\u001b[1;37m               ^\u001b[0m\n\u001b[1;31mSyntaxError\u001b[0m\u001b[1;31m:\u001b[0m expected '('\n"
     ]
    }
   ],
   "source": [
    "def python intro(a):\n",
    "    return a"
   ]
  },
  {
   "cell_type": "code",
   "execution_count": 4,
   "id": "be638cf3-440c-4ad7-a9d6-740dfe1e1bf6",
   "metadata": {},
   "outputs": [],
   "source": [
    "class python:\n",
    "    pass"
   ]
  },
  {
   "cell_type": "code",
   "execution_count": 5,
   "id": "7d75f8cd-6f1b-4f6e-9ac3-19f4c38c1ec6",
   "metadata": {},
   "outputs": [
    {
     "ename": "SyntaxError",
     "evalue": "invalid syntax (4173021374.py, line 1)",
     "output_type": "error",
     "traceback": [
      "\u001b[1;36m  Cell \u001b[1;32mIn[5], line 1\u001b[1;36m\u001b[0m\n\u001b[1;33m    class and:\u001b[0m\n\u001b[1;37m          ^\u001b[0m\n\u001b[1;31mSyntaxError\u001b[0m\u001b[1;31m:\u001b[0m invalid syntax\n"
     ]
    }
   ],
   "source": [
    "class and:\n",
    "    pass"
   ]
  },
  {
   "cell_type": "code",
   "execution_count": 6,
   "id": "c6e42aad-2d50-49a7-b47e-3102d56b4498",
   "metadata": {},
   "outputs": [],
   "source": [
    "import keyword"
   ]
  },
  {
   "cell_type": "code",
   "execution_count": 7,
   "id": "9bf1569d-377d-40f3-ae0b-79c7472ad31a",
   "metadata": {},
   "outputs": [
    {
     "ename": "SyntaxError",
     "evalue": "invalid decimal literal (486511893.py, line 1)",
     "output_type": "error",
     "traceback": [
      "\u001b[1;36m  Cell \u001b[1;32mIn[7], line 1\u001b[1;36m\u001b[0m\n\u001b[1;33m    import 12keyword\u001b[0m\n\u001b[1;37m            ^\u001b[0m\n\u001b[1;31mSyntaxError\u001b[0m\u001b[1;31m:\u001b[0m invalid decimal literal\n"
     ]
    }
   ],
   "source": [
    "import 12keyword"
   ]
  },
  {
   "cell_type": "markdown",
   "id": "b056079a-5e8a-4fb7-a9df-1871468d019b",
   "metadata": {
    "jp-MarkdownHeadingCollapsed": true
   },
   "source": [
    "## **Variable**"
   ]
  },
  {
   "cell_type": "code",
   "execution_count": 9,
   "id": "e031b09e-48e0-4871-b7ac-56f8010527c4",
   "metadata": {},
   "outputs": [
    {
     "name": "stdout",
     "output_type": "stream",
     "text": [
      "10\n"
     ]
    }
   ],
   "source": [
    "a = 10\n",
    "print(a)"
   ]
  },
  {
   "cell_type": "code",
   "execution_count": 14,
   "id": "23267f61-3f12-4563-b68e-f4f848ff4772",
   "metadata": {},
   "outputs": [
    {
     "name": "stdout",
     "output_type": "stream",
     "text": [
      "10\n"
     ]
    },
    {
     "data": {
      "text/plain": [
       "10.5"
      ]
     },
     "execution_count": 14,
     "metadata": {},
     "output_type": "execute_result"
    }
   ],
   "source": [
    "b = 10.5\n",
    "print(a)\n",
    "b"
   ]
  },
  {
   "cell_type": "code",
   "execution_count": 15,
   "id": "e72d67b4-3187-4c5e-8d7b-9525ba98daee",
   "metadata": {},
   "outputs": [
    {
     "data": {
      "text/plain": [
       "(10, 10.5)"
      ]
     },
     "execution_count": 15,
     "metadata": {},
     "output_type": "execute_result"
    }
   ],
   "source": [
    "a,b"
   ]
  },
  {
   "cell_type": "code",
   "execution_count": 20,
   "id": "10ed07de-020c-43ce-bd8a-047ed2636abe",
   "metadata": {},
   "outputs": [
    {
     "name": "stdout",
     "output_type": "stream",
     "text": [
      "10.5\n"
     ]
    }
   ],
   "source": [
    "c = 'Python intoduction'\n",
    "c = '10.5'\n",
    "print(c)"
   ]
  },
  {
   "cell_type": "code",
   "execution_count": 18,
   "id": "03744851-18a0-433c-8913-05f38ce9c05f",
   "metadata": {},
   "outputs": [
    {
     "name": "stdout",
     "output_type": "stream",
     "text": [
      "\n",
      "Python\n",
      "Introduction\n",
      "\n"
     ]
    }
   ],
   "source": [
    "d  = '''\n",
    "Python\n",
    "Introduction\n",
    "'''\n",
    "print(d) # multiline string"
   ]
  },
  {
   "cell_type": "code",
   "execution_count": 21,
   "id": "8847e82f-c391-45f9-b7c7-8718913a9d09",
   "metadata": {},
   "outputs": [
    {
     "data": {
      "text/plain": [
       "(True, False)"
      ]
     },
     "execution_count": 21,
     "metadata": {},
     "output_type": "execute_result"
    }
   ],
   "source": [
    "e = True\n",
    "f = False\n",
    "e,f"
   ]
  },
  {
   "cell_type": "code",
   "execution_count": 24,
   "id": "7595f0d0-264f-4291-9263-8e3676a6326c",
   "metadata": {},
   "outputs": [],
   "source": [
    "g = None\n",
    "g"
   ]
  },
  {
   "cell_type": "code",
   "execution_count": 25,
   "id": "430ed7f3-c985-44b6-b903-9287d29054d5",
   "metadata": {},
   "outputs": [
    {
     "data": {
      "text/plain": [
       "[1, 2, 3]"
      ]
     },
     "execution_count": 25,
     "metadata": {},
     "output_type": "execute_result"
    }
   ],
   "source": [
    "h = [1,2,3]\n",
    "h"
   ]
  },
  {
   "cell_type": "code",
   "execution_count": 27,
   "id": "392d2c31-8b1d-4743-9312-8a3b420f1fcc",
   "metadata": {},
   "outputs": [
    {
     "data": {
      "text/plain": [
       "(1, 2, 2.5)"
      ]
     },
     "execution_count": 27,
     "metadata": {},
     "output_type": "execute_result"
    }
   ],
   "source": [
    "i = (1,2,2.5)\n",
    "i"
   ]
  },
  {
   "cell_type": "code",
   "execution_count": 28,
   "id": "230bc096-eff3-4ac6-914c-e3194e3ea8b6",
   "metadata": {},
   "outputs": [
    {
     "data": {
      "text/plain": [
       "{'a': 1}"
      ]
     },
     "execution_count": 28,
     "metadata": {},
     "output_type": "execute_result"
    }
   ],
   "source": [
    "j = {'a':1}\n",
    "j"
   ]
  },
  {
   "cell_type": "code",
   "execution_count": 30,
   "id": "d21ba6c4-2012-40d1-994f-db56e22c955c",
   "metadata": {},
   "outputs": [
    {
     "data": {
      "text/plain": [
       "{1, 2, 3}"
      ]
     },
     "execution_count": 30,
     "metadata": {},
     "output_type": "execute_result"
    }
   ],
   "source": [
    "k = {1,2,3,1}\n",
    "k"
   ]
  },
  {
   "cell_type": "code",
   "execution_count": 34,
   "id": "f796b400-ada8-49b6-8f59-39ce542850f4",
   "metadata": {},
   "outputs": [
    {
     "name": "stdout",
     "output_type": "stream",
     "text": [
      "memory of a variable 28\n"
     ]
    }
   ],
   "source": [
    "# finding a memory ocupation\n",
    "import sys\n",
    "loc = sys.getsizeof(a)\n",
    "print('memory of a variable',loc)"
   ]
  },
  {
   "cell_type": "code",
   "execution_count": 35,
   "id": "3ae2c35e-e8e8-43b1-8e02-aef88d317549",
   "metadata": {},
   "outputs": [
    {
     "name": "stdout",
     "output_type": "stream",
     "text": [
      "10\n",
      "20\n"
     ]
    }
   ],
   "source": [
    "# data Storing pattern\n",
    "a = 10\n",
    "b = 20\n",
    "print(a)\n",
    "print(b)"
   ]
  },
  {
   "cell_type": "code",
   "execution_count": 38,
   "id": "a1864ffa-428f-4bc6-8eb8-726018f00f2e",
   "metadata": {},
   "outputs": [
    {
     "name": "stdout",
     "output_type": "stream",
     "text": [
      "10\n",
      "20\n",
      "10 20\n"
     ]
    }
   ],
   "source": [
    "x, y = 10,20\n",
    "print(x)\n",
    "print(y)\n",
    "print(x,y)"
   ]
  },
  {
   "cell_type": "code",
   "execution_count": 39,
   "id": "6da0b9cb-c821-41ab-813e-d923805e83f2",
   "metadata": {},
   "outputs": [
    {
     "name": "stdout",
     "output_type": "stream",
     "text": [
      "10 10 10 10\n"
     ]
    }
   ],
   "source": [
    "p=q=r=s=10\n",
    "print(p,q,r,s)"
   ]
  },
  {
   "cell_type": "code",
   "execution_count": 40,
   "id": "795d2b9d-530f-4e93-b6f0-fbe91778c3c5",
   "metadata": {},
   "outputs": [
    {
     "name": "stdout",
     "output_type": "stream",
     "text": [
      "20 10\n"
     ]
    }
   ],
   "source": [
    "a,b = 10,20\n",
    "a,b = b,a\n",
    "print(a,b)"
   ]
  },
  {
   "cell_type": "markdown",
   "id": "2947aa12-3bc8-42a8-97b8-46a59beb4c3a",
   "metadata": {
    "jp-MarkdownHeadingCollapsed": true
   },
   "source": [
    "## **Input and output**"
   ]
  },
  {
   "cell_type": "code",
   "execution_count": 48,
   "id": "92f938c8-0496-4be5-9532-d84439b92022",
   "metadata": {},
   "outputs": [
    {
     "name": "stdin",
     "output_type": "stream",
     "text": [
      "Enter a number  10\n"
     ]
    }
   ],
   "source": [
    "str1 = input(\"Enter a number \") # input default str value"
   ]
  },
  {
   "cell_type": "code",
   "execution_count": 49,
   "id": "75660afa-0596-4f3a-b883-44180604f606",
   "metadata": {},
   "outputs": [
    {
     "name": "stdin",
     "output_type": "stream",
     "text": [
      "enter a number  10\n"
     ]
    },
    {
     "name": "stdout",
     "output_type": "stream",
     "text": [
      "10\n"
     ]
    }
   ],
   "source": [
    "str2 = int(input(\"enter a number \")) \n",
    "print(str2)"
   ]
  },
  {
   "cell_type": "code",
   "execution_count": 50,
   "id": "946e2ce1-e87c-4d3c-8e87-81b1846ccbaa",
   "metadata": {},
   "outputs": [
    {
     "name": "stdin",
     "output_type": "stream",
     "text": [
      "enter a number  10\n"
     ]
    },
    {
     "name": "stdout",
     "output_type": "stream",
     "text": [
      "10.0\n"
     ]
    }
   ],
   "source": [
    "str3 = float(input(\"enter a number \")) \n",
    "print(str3)"
   ]
  },
  {
   "cell_type": "code",
   "execution_count": 51,
   "id": "834c9e40-7ec0-440c-b8fe-d18201909032",
   "metadata": {},
   "outputs": [
    {
     "data": {
      "text/plain": [
       "(str, int, float)"
      ]
     },
     "execution_count": 51,
     "metadata": {},
     "output_type": "execute_result"
    }
   ],
   "source": [
    "type(str1), type(str2), type(str3) # Finding the datatype of a veriable"
   ]
  },
  {
   "cell_type": "markdown",
   "id": "46121fd2-a1fd-4ad3-a751-b67126080ab3",
   "metadata": {
    "jp-MarkdownHeadingCollapsed": true
   },
   "source": [
    "## **Operator**"
   ]
  },
  {
   "cell_type": "markdown",
   "id": "a07dabb4-c4fb-4aaa-bfeb-25a9ede98933",
   "metadata": {},
   "source": [
    "### **Arithmetic operator**"
   ]
  },
  {
   "cell_type": "code",
   "execution_count": 53,
   "id": "5c45a1fc-b51b-41e1-b5d5-48e5dc331619",
   "metadata": {},
   "outputs": [],
   "source": [
    "num1 = 20\n",
    "num2 = 10"
   ]
  },
  {
   "cell_type": "code",
   "execution_count": 54,
   "id": "3745f2f4-6ef5-4bc9-a4e3-e3da7f843d6f",
   "metadata": {},
   "outputs": [
    {
     "data": {
      "text/plain": [
       "30"
      ]
     },
     "execution_count": 54,
     "metadata": {},
     "output_type": "execute_result"
    }
   ],
   "source": [
    "add = num1+num2\n",
    "add"
   ]
  },
  {
   "cell_type": "code",
   "execution_count": 55,
   "id": "5aa57dd3-2784-43a7-87f8-5c8ac6031611",
   "metadata": {},
   "outputs": [
    {
     "data": {
      "text/plain": [
       "10"
      ]
     },
     "execution_count": 55,
     "metadata": {},
     "output_type": "execute_result"
    }
   ],
   "source": [
    "sub = num1-num2\n",
    "sub"
   ]
  },
  {
   "cell_type": "code",
   "execution_count": 56,
   "id": "f61799bf-0485-4112-aef3-c56b741a5fe6",
   "metadata": {},
   "outputs": [
    {
     "data": {
      "text/plain": [
       "200"
      ]
     },
     "execution_count": 56,
     "metadata": {},
     "output_type": "execute_result"
    }
   ],
   "source": [
    "mul = num1*num2\n",
    "mul"
   ]
  },
  {
   "cell_type": "code",
   "execution_count": 57,
   "id": "dc04c23a-8060-49c1-837a-1dbb2a758eb8",
   "metadata": {},
   "outputs": [
    {
     "data": {
      "text/plain": [
       "2.0"
      ]
     },
     "execution_count": 57,
     "metadata": {},
     "output_type": "execute_result"
    }
   ],
   "source": [
    "div = num1/num2\n",
    "div"
   ]
  },
  {
   "cell_type": "code",
   "execution_count": 58,
   "id": "b864ab54-41da-4f9b-8bac-02dc83b9ecc7",
   "metadata": {},
   "outputs": [
    {
     "data": {
      "text/plain": [
       "0"
      ]
     },
     "execution_count": 58,
     "metadata": {},
     "output_type": "execute_result"
    }
   ],
   "source": [
    "mod  = num1%num2 #Modulus\n",
    "mod"
   ]
  },
  {
   "cell_type": "code",
   "execution_count": 59,
   "id": "27a21916-f271-442f-94a5-e8f69febd99e",
   "metadata": {},
   "outputs": [
    {
     "data": {
      "text/plain": [
       "2"
      ]
     },
     "execution_count": 59,
     "metadata": {},
     "output_type": "execute_result"
    }
   ],
   "source": [
    "flo = num1//num2 # floor divition\n",
    "flo"
   ]
  },
  {
   "cell_type": "code",
   "execution_count": 60,
   "id": "61f918be-689b-454a-8a6e-6a6d1b324b32",
   "metadata": {},
   "outputs": [
    {
     "data": {
      "text/plain": [
       "10240000000000"
      ]
     },
     "execution_count": 60,
     "metadata": {},
     "output_type": "execute_result"
    }
   ],
   "source": [
    "exp = num1**num2 # exponential\n",
    "exp"
   ]
  },
  {
   "cell_type": "markdown",
   "id": "900f9c51-b7fc-481f-9963-fb37b06e7cb3",
   "metadata": {},
   "source": [
    "### **Comaprision or Relational Operator**"
   ]
  },
  {
   "cell_type": "code",
   "execution_count": 62,
   "id": "4be739d4-272f-45e2-9585-b4fb39bdbe19",
   "metadata": {},
   "outputs": [],
   "source": [
    "# <, >, <=, >=, ==, !="
   ]
  },
  {
   "cell_type": "code",
   "execution_count": 63,
   "id": "f86a76b9-d63a-4a97-b31c-aee14cd1ddc9",
   "metadata": {},
   "outputs": [
    {
     "name": "stdout",
     "output_type": "stream",
     "text": [
      "20 10\n"
     ]
    }
   ],
   "source": [
    "print(num1,num2)"
   ]
  },
  {
   "cell_type": "code",
   "execution_count": 64,
   "id": "38620c9c-1bee-4e29-8a92-ea70180465e4",
   "metadata": {},
   "outputs": [
    {
     "data": {
      "text/plain": [
       "False"
      ]
     },
     "execution_count": 64,
     "metadata": {},
     "output_type": "execute_result"
    }
   ],
   "source": [
    "num1<num2"
   ]
  },
  {
   "cell_type": "code",
   "execution_count": 65,
   "id": "ed8a139f-d1b2-4037-8138-8b445d9c0699",
   "metadata": {},
   "outputs": [
    {
     "data": {
      "text/plain": [
       "True"
      ]
     },
     "execution_count": 65,
     "metadata": {},
     "output_type": "execute_result"
    }
   ],
   "source": [
    "num1>num2"
   ]
  },
  {
   "cell_type": "code",
   "execution_count": 66,
   "id": "fa18f9fe-efba-4228-894d-4930a32bea49",
   "metadata": {},
   "outputs": [
    {
     "data": {
      "text/plain": [
       "False"
      ]
     },
     "execution_count": 66,
     "metadata": {},
     "output_type": "execute_result"
    }
   ],
   "source": [
    "num1<=num2"
   ]
  },
  {
   "cell_type": "code",
   "execution_count": 67,
   "id": "3fc75269-0870-4d1b-b4b8-6859dbcc2761",
   "metadata": {},
   "outputs": [
    {
     "data": {
      "text/plain": [
       "True"
      ]
     },
     "execution_count": 67,
     "metadata": {},
     "output_type": "execute_result"
    }
   ],
   "source": [
    "num1>=num2"
   ]
  },
  {
   "cell_type": "code",
   "execution_count": 69,
   "id": "80d2906f-4f1e-402e-a50c-c004d43feb1a",
   "metadata": {},
   "outputs": [
    {
     "data": {
      "text/plain": [
       "True"
      ]
     },
     "execution_count": 69,
     "metadata": {},
     "output_type": "execute_result"
    }
   ],
   "source": [
    "no = 10\n",
    "no1 = 10\n",
    "no == no1 # equal"
   ]
  },
  {
   "cell_type": "code",
   "execution_count": 70,
   "id": "d4b529fc-ab8d-4c2d-bd39-adcb060b0d87",
   "metadata": {},
   "outputs": [
    {
     "data": {
      "text/plain": [
       "False"
      ]
     },
     "execution_count": 70,
     "metadata": {},
     "output_type": "execute_result"
    }
   ],
   "source": [
    "no != no1 #not equal"
   ]
  },
  {
   "cell_type": "markdown",
   "id": "2dabaea6-3db4-487b-b128-34d0c999ef2f",
   "metadata": {},
   "source": [
    "### **Logical Operator**"
   ]
  },
  {
   "cell_type": "code",
   "execution_count": 72,
   "id": "ec793da7-2167-4164-a512-ec3be45d705a",
   "metadata": {},
   "outputs": [],
   "source": [
    "# and, or, not"
   ]
  },
  {
   "cell_type": "code",
   "execution_count": 74,
   "id": "e999039c-9c1a-4ff9-a20c-ca9a4ed74d05",
   "metadata": {},
   "outputs": [
    {
     "data": {
      "text/plain": [
       "True"
      ]
     },
     "execution_count": 74,
     "metadata": {},
     "output_type": "execute_result"
    }
   ],
   "source": [
    "result = num1 > num2 and num1 < 30 and num1 > 10\n",
    "result"
   ]
  },
  {
   "cell_type": "code",
   "execution_count": 75,
   "id": "75cc7eb6-2cb5-43b4-8cb5-962309132e53",
   "metadata": {},
   "outputs": [
    {
     "data": {
      "text/plain": [
       "True"
      ]
     },
     "execution_count": 75,
     "metadata": {},
     "output_type": "execute_result"
    }
   ],
   "source": [
    "result1 = num1 > num2 or num > 20\n",
    "result1"
   ]
  },
  {
   "cell_type": "code",
   "execution_count": 77,
   "id": "3e2020ae-145d-4a61-a049-7e9de0e590d2",
   "metadata": {},
   "outputs": [
    {
     "data": {
      "text/plain": [
       "True"
      ]
     },
     "execution_count": 77,
     "metadata": {},
     "output_type": "execute_result"
    }
   ],
   "source": [
    "g = False\n",
    "not g"
   ]
  },
  {
   "cell_type": "markdown",
   "id": "cd7b6b15-a06c-4d95-87da-b59eeb70d5ca",
   "metadata": {},
   "source": [
    "### **Assignment Operator**"
   ]
  },
  {
   "cell_type": "code",
   "execution_count": 80,
   "id": "b9cc6003-f28a-4f07-ad63-4ec139d0b282",
   "metadata": {},
   "outputs": [],
   "source": [
    "# =, +=, -=, *=, /=, %=, //=, **="
   ]
  },
  {
   "cell_type": "code",
   "execution_count": 83,
   "id": "50298b8a-52a2-4913-81e8-7da82dabbdbf",
   "metadata": {},
   "outputs": [
    {
     "data": {
      "text/plain": [
       "(20, 10)"
      ]
     },
     "execution_count": 83,
     "metadata": {},
     "output_type": "execute_result"
    }
   ],
   "source": [
    "num1, num2"
   ]
  },
  {
   "cell_type": "code",
   "execution_count": 84,
   "id": "62cf2707-2052-428d-9e99-9f6aa2dfeebe",
   "metadata": {},
   "outputs": [],
   "source": [
    "num1+=num2"
   ]
  },
  {
   "cell_type": "code",
   "execution_count": 86,
   "id": "7ecc744f-4879-4c68-aa26-06a9b47c2fa0",
   "metadata": {},
   "outputs": [],
   "source": [
    "num1-=num2"
   ]
  },
  {
   "cell_type": "code",
   "execution_count": 88,
   "id": "14360d51-1072-43a4-8887-aa1b4f0d0ee2",
   "metadata": {},
   "outputs": [],
   "source": [
    "num1*=num2"
   ]
  },
  {
   "cell_type": "code",
   "execution_count": 90,
   "id": "b3e3e052-c500-41bb-ba30-8716f7d62afe",
   "metadata": {},
   "outputs": [],
   "source": [
    "num1/=num2"
   ]
  },
  {
   "cell_type": "code",
   "execution_count": 93,
   "id": "a3cc43e3-046b-45b3-8145-e39d3b5d43ae",
   "metadata": {},
   "outputs": [],
   "source": [
    "num1%=num2"
   ]
  },
  {
   "cell_type": "code",
   "execution_count": 97,
   "id": "fc5f6fc6-9d01-47be-9aa2-3b82c5c2d999",
   "metadata": {},
   "outputs": [],
   "source": [
    "num1//=num2"
   ]
  },
  {
   "cell_type": "code",
   "execution_count": 102,
   "id": "7f7ea59c-76af-4036-b248-48690c3c9ade",
   "metadata": {},
   "outputs": [],
   "source": [
    "no**=no1"
   ]
  },
  {
   "cell_type": "code",
   "execution_count": 103,
   "id": "a905a1b0-b40e-41fb-be3c-5f74317ba137",
   "metadata": {},
   "outputs": [
    {
     "data": {
      "text/plain": [
       "(10000000000, 10)"
      ]
     },
     "execution_count": 103,
     "metadata": {},
     "output_type": "execute_result"
    }
   ],
   "source": [
    "no, no1"
   ]
  },
  {
   "cell_type": "code",
   "execution_count": 104,
   "id": "69002d8b-da26-4533-9b5d-1f741c5434e1",
   "metadata": {},
   "outputs": [
    {
     "data": {
      "text/plain": [
       "30"
      ]
     },
     "execution_count": 104,
     "metadata": {},
     "output_type": "execute_result"
    }
   ],
   "source": [
    "20+10"
   ]
  },
  {
   "cell_type": "markdown",
   "id": "151722cb-0685-46be-b64d-c398a9b127d9",
   "metadata": {},
   "source": [
    "### **identity operator**"
   ]
  },
  {
   "cell_type": "code",
   "execution_count": 117,
   "id": "b916d560-372a-40ab-9843-3de0abb92306",
   "metadata": {},
   "outputs": [],
   "source": [
    "# is, is not # Based on the id of variable"
   ]
  },
  {
   "cell_type": "code",
   "execution_count": 113,
   "id": "be292237-f84b-4917-8740-8b2059963b9a",
   "metadata": {},
   "outputs": [],
   "source": [
    "a = 289\n",
    "b = 289"
   ]
  },
  {
   "cell_type": "code",
   "execution_count": 114,
   "id": "397a7a2d-8db0-4780-8188-84b55953a16c",
   "metadata": {},
   "outputs": [
    {
     "data": {
      "text/plain": [
       "(2067258446096, 2067258448304)"
      ]
     },
     "execution_count": 114,
     "metadata": {},
     "output_type": "execute_result"
    }
   ],
   "source": [
    "id(a), id(b)"
   ]
  },
  {
   "cell_type": "code",
   "execution_count": 115,
   "id": "59ab21c4-b071-40ac-9f08-dc2faffcbf38",
   "metadata": {},
   "outputs": [
    {
     "data": {
      "text/plain": [
       "False"
      ]
     },
     "execution_count": 115,
     "metadata": {},
     "output_type": "execute_result"
    }
   ],
   "source": [
    "a is b"
   ]
  },
  {
   "cell_type": "code",
   "execution_count": 116,
   "id": "9ac043a6-724c-4403-b566-f872ba35250f",
   "metadata": {},
   "outputs": [
    {
     "data": {
      "text/plain": [
       "True"
      ]
     },
     "execution_count": 116,
     "metadata": {},
     "output_type": "execute_result"
    }
   ],
   "source": [
    "a is not b"
   ]
  },
  {
   "cell_type": "markdown",
   "id": "cb308716-56ef-4b54-9cf5-146b69c6313f",
   "metadata": {},
   "source": [
    "### **Membership operator**"
   ]
  },
  {
   "cell_type": "code",
   "execution_count": null,
   "id": "b088eca7-c9ca-4459-9415-8ddb823a11b4",
   "metadata": {},
   "outputs": [],
   "source": [
    "# in, not in"
   ]
  },
  {
   "cell_type": "code",
   "execution_count": 118,
   "id": "aab051cb-1d7d-4a4d-84c3-01cd4a74b2fd",
   "metadata": {},
   "outputs": [],
   "source": [
    "a = [1,2,3,4,5,6]"
   ]
  },
  {
   "cell_type": "code",
   "execution_count": 119,
   "id": "3f6dc435-390f-4d4f-a64f-39db5f742435",
   "metadata": {},
   "outputs": [
    {
     "data": {
      "text/plain": [
       "False"
      ]
     },
     "execution_count": 119,
     "metadata": {},
     "output_type": "execute_result"
    }
   ],
   "source": [
    "9 in a"
   ]
  },
  {
   "cell_type": "code",
   "execution_count": 120,
   "id": "5af97682-d37a-4f65-84af-146a7a13e0cc",
   "metadata": {},
   "outputs": [
    {
     "data": {
      "text/plain": [
       "True"
      ]
     },
     "execution_count": 120,
     "metadata": {},
     "output_type": "execute_result"
    }
   ],
   "source": [
    "3 in a"
   ]
  },
  {
   "cell_type": "code",
   "execution_count": 121,
   "id": "b400f306-427c-4f3f-b9d6-f309c7845379",
   "metadata": {},
   "outputs": [
    {
     "data": {
      "text/plain": [
       "True"
      ]
     },
     "execution_count": 121,
     "metadata": {},
     "output_type": "execute_result"
    }
   ],
   "source": [
    "10 not in a"
   ]
  },
  {
   "cell_type": "markdown",
   "id": "8b484fb2-a3fd-41e4-9ac9-2d5f77569a89",
   "metadata": {},
   "source": [
    "### **Bitwise operator**"
   ]
  },
  {
   "cell_type": "code",
   "execution_count": 2,
   "id": "98b4a112-083f-4822-bcc6-93228ec0f53c",
   "metadata": {},
   "outputs": [],
   "source": [
    "# &, |, ^, ~, <<, >>\n",
    "\n",
    "a = 10\n",
    "b = 7"
   ]
  },
  {
   "cell_type": "code",
   "execution_count": 3,
   "id": "48ce77f5-3f7b-4446-afc1-61331d5e81a2",
   "metadata": {},
   "outputs": [
    {
     "data": {
      "text/plain": [
       "2"
      ]
     },
     "execution_count": 3,
     "metadata": {},
     "output_type": "execute_result"
    }
   ],
   "source": [
    "a&b"
   ]
  },
  {
   "cell_type": "code",
   "execution_count": 4,
   "id": "0366d82a-9052-41e6-ae69-7623698edab8",
   "metadata": {},
   "outputs": [
    {
     "data": {
      "text/plain": [
       "15"
      ]
     },
     "execution_count": 4,
     "metadata": {},
     "output_type": "execute_result"
    }
   ],
   "source": [
    "a|b"
   ]
  },
  {
   "cell_type": "code",
   "execution_count": 5,
   "id": "9fd931e8-23eb-469f-a3b1-32ebb9a7d7c8",
   "metadata": {},
   "outputs": [
    {
     "data": {
      "text/plain": [
       "13"
      ]
     },
     "execution_count": 5,
     "metadata": {},
     "output_type": "execute_result"
    }
   ],
   "source": [
    "a^b"
   ]
  },
  {
   "cell_type": "code",
   "execution_count": 6,
   "id": "735760d2-9be3-432f-9ccf-8428ef46ce14",
   "metadata": {},
   "outputs": [
    {
     "data": {
      "text/plain": [
       "-11"
      ]
     },
     "execution_count": 6,
     "metadata": {},
     "output_type": "execute_result"
    }
   ],
   "source": [
    "~10"
   ]
  },
  {
   "cell_type": "code",
   "execution_count": 7,
   "id": "7ebd9381-31a0-4e7d-969c-094a7b13e116",
   "metadata": {},
   "outputs": [
    {
     "data": {
      "text/plain": [
       "9"
      ]
     },
     "execution_count": 7,
     "metadata": {},
     "output_type": "execute_result"
    }
   ],
   "source": [
    "~-10"
   ]
  },
  {
   "cell_type": "code",
   "execution_count": 9,
   "id": "000d3e45-3e78-42a2-bcd8-50048ad0b5ee",
   "metadata": {},
   "outputs": [
    {
     "data": {
      "text/plain": [
       "40"
      ]
     },
     "execution_count": 9,
     "metadata": {},
     "output_type": "execute_result"
    }
   ],
   "source": [
    "10<<2"
   ]
  },
  {
   "cell_type": "code",
   "execution_count": 10,
   "id": "1131093d-64da-4daa-a4c6-e9c96d9882c3",
   "metadata": {},
   "outputs": [
    {
     "data": {
      "text/plain": [
       "2"
      ]
     },
     "execution_count": 10,
     "metadata": {},
     "output_type": "execute_result"
    }
   ],
   "source": [
    "10>>2"
   ]
  },
  {
   "cell_type": "markdown",
   "id": "f7519fc6-02fa-40fd-a8fb-963948303d1b",
   "metadata": {
    "jp-MarkdownHeadingCollapsed": true
   },
   "source": [
    "## **Data Types**"
   ]
  },
  {
   "cell_type": "markdown",
   "id": "5a73f6ef-3d87-4c27-9e95-bfe724cf7251",
   "metadata": {},
   "source": [
    "### **Int**"
   ]
  },
  {
   "cell_type": "code",
   "execution_count": 12,
   "id": "db12d916-36e1-4c46-9c7b-98e64f9cc366",
   "metadata": {},
   "outputs": [
    {
     "data": {
      "text/plain": [
       "int"
      ]
     },
     "execution_count": 12,
     "metadata": {},
     "output_type": "execute_result"
    }
   ],
   "source": [
    "a = 10\n",
    "type(a)"
   ]
  },
  {
   "cell_type": "markdown",
   "id": "f8807267-c690-41a0-897c-05256c1abdcc",
   "metadata": {},
   "source": [
    "### **Float**"
   ]
  },
  {
   "cell_type": "code",
   "execution_count": 13,
   "id": "3871d855-80ea-4b2e-b2fd-5ce09b5dd761",
   "metadata": {},
   "outputs": [
    {
     "data": {
      "text/plain": [
       "float"
      ]
     },
     "execution_count": 13,
     "metadata": {},
     "output_type": "execute_result"
    }
   ],
   "source": [
    "b = 10.35\n",
    "type(b)"
   ]
  },
  {
   "cell_type": "markdown",
   "id": "c0f45a03-2b67-4c95-a061-1fefd598e5a0",
   "metadata": {},
   "source": [
    "### **String**"
   ]
  },
  {
   "cell_type": "code",
   "execution_count": 32,
   "id": "6c14f08b-f4a8-4c84-8d11-5b56234684e1",
   "metadata": {},
   "outputs": [],
   "source": [
    "str1 = '10.5'\n",
    "str2 = 'Python 3.13.4'"
   ]
  },
  {
   "cell_type": "code",
   "execution_count": 33,
   "id": "81924a5b-4273-4f15-9bdc-0b3aac9a4e04",
   "metadata": {},
   "outputs": [
    {
     "data": {
      "text/plain": [
       "str"
      ]
     },
     "execution_count": 33,
     "metadata": {},
     "output_type": "execute_result"
    }
   ],
   "source": [
    "type(str1)"
   ]
  },
  {
   "cell_type": "code",
   "execution_count": 34,
   "id": "1d1ca59a-09d0-4744-b828-c4bda72745e2",
   "metadata": {},
   "outputs": [
    {
     "data": {
      "text/plain": [
       "'P'"
      ]
     },
     "execution_count": 34,
     "metadata": {},
     "output_type": "execute_result"
    }
   ],
   "source": [
    "str2[0]"
   ]
  },
  {
   "cell_type": "code",
   "execution_count": 35,
   "id": "aca22b1b-9a95-4e4e-a30f-bf6d855c6a26",
   "metadata": {},
   "outputs": [
    {
     "data": {
      "text/plain": [
       "'n'"
      ]
     },
     "execution_count": 35,
     "metadata": {},
     "output_type": "execute_result"
    }
   ],
   "source": [
    "str2[5]"
   ]
  },
  {
   "cell_type": "markdown",
   "id": "f778c69b-ade9-48e4-b2e9-cbea65e09710",
   "metadata": {},
   "source": [
    "#### **Slicing**"
   ]
  },
  {
   "cell_type": "code",
   "execution_count": 36,
   "id": "260a89bb-2cd8-4676-aefb-425f693dd9bf",
   "metadata": {},
   "outputs": [
    {
     "data": {
      "text/plain": [
       "'Pytho'"
      ]
     },
     "execution_count": 36,
     "metadata": {},
     "output_type": "execute_result"
    }
   ],
   "source": [
    "str2[0:5]"
   ]
  },
  {
   "cell_type": "code",
   "execution_count": 37,
   "id": "5b540955-07ea-452f-aa58-4d4555663203",
   "metadata": {},
   "outputs": [
    {
     "data": {
      "text/plain": [
       "'Pto'"
      ]
     },
     "execution_count": 37,
     "metadata": {},
     "output_type": "execute_result"
    }
   ],
   "source": [
    "str2[0:5:2]"
   ]
  },
  {
   "cell_type": "code",
   "execution_count": 38,
   "id": "9805d8f0-d4f3-4b42-a862-acfe7d238f3a",
   "metadata": {},
   "outputs": [
    {
     "data": {
      "text/plain": [
       "'4.31.3 nohtyP'"
      ]
     },
     "execution_count": 38,
     "metadata": {},
     "output_type": "execute_result"
    }
   ],
   "source": [
    "str2[::-1]"
   ]
  },
  {
   "cell_type": "code",
   "execution_count": 39,
   "id": "00b233e2-4923-4583-95f2-0ded03fa0806",
   "metadata": {},
   "outputs": [
    {
     "name": "stdout",
     "output_type": "stream",
     "text": [
      "10.5 Python 3.13.4\n"
     ]
    }
   ],
   "source": [
    "print(str1, str2)"
   ]
  },
  {
   "cell_type": "markdown",
   "id": "9b29cb7a-1295-439c-a74f-e9b26e7268ee",
   "metadata": {},
   "source": [
    "#### **Propertices**"
   ]
  },
  {
   "cell_type": "code",
   "execution_count": 40,
   "id": "637e5bca-52da-43f8-acb7-2f760fdbe9e5",
   "metadata": {},
   "outputs": [
    {
     "data": {
      "text/plain": [
       "False"
      ]
     },
     "execution_count": 40,
     "metadata": {},
     "output_type": "execute_result"
    }
   ],
   "source": [
    "str1.isalpha()"
   ]
  },
  {
   "cell_type": "code",
   "execution_count": 41,
   "id": "3decf15d-95dd-4db3-9f82-7a342c223f0a",
   "metadata": {},
   "outputs": [
    {
     "data": {
      "text/plain": [
       "False"
      ]
     },
     "execution_count": 41,
     "metadata": {},
     "output_type": "execute_result"
    }
   ],
   "source": [
    "str1.isdigit()"
   ]
  },
  {
   "cell_type": "code",
   "execution_count": 77,
   "id": "10ecedbf-24c7-4205-8ac0-e911de4dc6d9",
   "metadata": {},
   "outputs": [
    {
     "data": {
      "text/plain": [
       "False"
      ]
     },
     "execution_count": 77,
     "metadata": {},
     "output_type": "execute_result"
    }
   ],
   "source": [
    "str1.isalnum()"
   ]
  },
  {
   "cell_type": "code",
   "execution_count": 43,
   "id": "cbb229a0-ee13-43c7-a3d1-721dac73edf3",
   "metadata": {},
   "outputs": [
    {
     "data": {
      "text/plain": [
       "False"
      ]
     },
     "execution_count": 43,
     "metadata": {},
     "output_type": "execute_result"
    }
   ],
   "source": [
    "str1.isupper()"
   ]
  },
  {
   "cell_type": "code",
   "execution_count": 44,
   "id": "b3511b72-413d-48a7-b6db-e437cb8a5fb6",
   "metadata": {},
   "outputs": [
    {
     "data": {
      "text/plain": [
       "False"
      ]
     },
     "execution_count": 44,
     "metadata": {},
     "output_type": "execute_result"
    }
   ],
   "source": [
    "str2.islower()"
   ]
  },
  {
   "cell_type": "code",
   "execution_count": 48,
   "id": "b977703f-3e77-44b4-b15c-c30297b2e901",
   "metadata": {},
   "outputs": [
    {
     "data": {
      "text/plain": [
       "False"
      ]
     },
     "execution_count": 48,
     "metadata": {},
     "output_type": "execute_result"
    }
   ],
   "source": [
    "str1.isnumeric()"
   ]
  },
  {
   "cell_type": "code",
   "execution_count": 57,
   "id": "0ff6c3a0-9ba7-4d81-8bd3-5ce201ecba75",
   "metadata": {},
   "outputs": [
    {
     "data": {
      "text/plain": [
       "True"
      ]
     },
     "execution_count": 57,
     "metadata": {},
     "output_type": "execute_result"
    }
   ],
   "source": [
    "str2.startswith('P')\n",
    "str2.endswith('4')"
   ]
  },
  {
   "cell_type": "code",
   "execution_count": 49,
   "id": "35ecafea-9779-4adb-bd99-700f833960a5",
   "metadata": {},
   "outputs": [
    {
     "data": {
      "text/plain": [
       "True"
      ]
     },
     "execution_count": 49,
     "metadata": {},
     "output_type": "execute_result"
    }
   ],
   "source": [
    "a = '10'\n",
    "a.isnumeric()"
   ]
  },
  {
   "cell_type": "markdown",
   "id": "14cb7454-bd5d-4a6b-9bac-a6d14a617e4a",
   "metadata": {},
   "source": [
    "#### **Methods**"
   ]
  },
  {
   "cell_type": "code",
   "execution_count": 50,
   "id": "5a060650-a778-43ad-9639-8ca3a9094af9",
   "metadata": {},
   "outputs": [
    {
     "data": {
      "text/plain": [
       "'PYTHON 3.13.4'"
      ]
     },
     "execution_count": 50,
     "metadata": {},
     "output_type": "execute_result"
    }
   ],
   "source": [
    "str2.upper()"
   ]
  },
  {
   "cell_type": "code",
   "execution_count": 51,
   "id": "cda9490b-aea6-4c25-b79f-9555c85d94b3",
   "metadata": {},
   "outputs": [
    {
     "data": {
      "text/plain": [
       "'python 3.13.4'"
      ]
     },
     "execution_count": 51,
     "metadata": {},
     "output_type": "execute_result"
    }
   ],
   "source": [
    "str2.lower()"
   ]
  },
  {
   "cell_type": "code",
   "execution_count": 64,
   "id": "af65a564-0a32-4f09-8b22-69ae46b907e6",
   "metadata": {},
   "outputs": [
    {
     "data": {
      "text/plain": [
       "['Python', '3.13.4']"
      ]
     },
     "execution_count": 64,
     "metadata": {},
     "output_type": "execute_result"
    }
   ],
   "source": [
    "str3 = str2.split(' ')\n",
    "str3"
   ]
  },
  {
   "cell_type": "code",
   "execution_count": 54,
   "id": "073176e0-4d23-414c-bfbb-39e21f52b174",
   "metadata": {},
   "outputs": [
    {
     "data": {
      "text/plain": [
       "'Python 3.13.1'"
      ]
     },
     "execution_count": 54,
     "metadata": {},
     "output_type": "execute_result"
    }
   ],
   "source": [
    "str2.replace('3.13.4', '3.13.1')"
   ]
  },
  {
   "cell_type": "code",
   "execution_count": 55,
   "id": "903735e2-dcd5-4723-bc61-5e9333230393",
   "metadata": {},
   "outputs": [
    {
     "data": {
      "text/plain": [
       "2"
      ]
     },
     "execution_count": 55,
     "metadata": {},
     "output_type": "execute_result"
    }
   ],
   "source": [
    "str2.count('3')"
   ]
  },
  {
   "cell_type": "code",
   "execution_count": 62,
   "id": "01b42125-33a2-47d5-9f59-4f570aef1b22",
   "metadata": {},
   "outputs": [
    {
     "data": {
      "text/plain": [
       "'Python 3.13.4'"
      ]
     },
     "execution_count": 62,
     "metadata": {},
     "output_type": "execute_result"
    }
   ],
   "source": [
    "str2.capitalize()"
   ]
  },
  {
   "cell_type": "code",
   "execution_count": 65,
   "id": "3fa30533-c96d-4c7e-b917-6069e22b4753",
   "metadata": {},
   "outputs": [
    {
     "data": {
      "text/plain": [
       "'Python-3.13.4'"
      ]
     },
     "execution_count": 65,
     "metadata": {},
     "output_type": "execute_result"
    }
   ],
   "source": [
    "'-'.join(str3)"
   ]
  },
  {
   "cell_type": "code",
   "execution_count": 67,
   "id": "5a719757-a97b-485b-94ea-577e6800abff",
   "metadata": {},
   "outputs": [
    {
     "data": {
      "text/plain": [
       "7"
      ]
     },
     "execution_count": 67,
     "metadata": {},
     "output_type": "execute_result"
    }
   ],
   "source": [
    "str2.find('3.13.4')"
   ]
  },
  {
   "cell_type": "code",
   "execution_count": 68,
   "id": "c56a7e16-0de7-4f2a-b51f-1a40b050532a",
   "metadata": {},
   "outputs": [
    {
     "data": {
      "text/plain": [
       "0"
      ]
     },
     "execution_count": 68,
     "metadata": {},
     "output_type": "execute_result"
    }
   ],
   "source": [
    "str2.index('P')"
   ]
  },
  {
   "cell_type": "code",
   "execution_count": 69,
   "id": "d5b72c7a-a435-4818-806a-82041347fb5a",
   "metadata": {},
   "outputs": [
    {
     "data": {
      "text/plain": [
       "bool"
      ]
     },
     "execution_count": 69,
     "metadata": {},
     "output_type": "execute_result"
    }
   ],
   "source": [
    "a = True\n",
    "type(a)"
   ]
  },
  {
   "cell_type": "markdown",
   "id": "720c0959-4cd3-4c9b-9008-dcb1bd2be640",
   "metadata": {},
   "source": [
    "### **Boolean**"
   ]
  },
  {
   "cell_type": "code",
   "execution_count": 70,
   "id": "09b2a73b-29bd-48fc-a9d3-332759aa4b6b",
   "metadata": {},
   "outputs": [
    {
     "data": {
      "text/plain": [
       "bool"
      ]
     },
     "execution_count": 70,
     "metadata": {},
     "output_type": "execute_result"
    }
   ],
   "source": [
    "b = False\n",
    "type(b)"
   ]
  },
  {
   "cell_type": "markdown",
   "id": "92055138-2e62-4e38-b01b-e742c3afee16",
   "metadata": {},
   "source": [
    "### **None**"
   ]
  },
  {
   "cell_type": "code",
   "execution_count": 71,
   "id": "8f1bed93-2a28-4bb1-9ca1-bbd8f912eda9",
   "metadata": {},
   "outputs": [
    {
     "data": {
      "text/plain": [
       "NoneType"
      ]
     },
     "execution_count": 71,
     "metadata": {},
     "output_type": "execute_result"
    }
   ],
   "source": [
    "c = None\n",
    "type(c)"
   ]
  },
  {
   "cell_type": "markdown",
   "id": "77044d08-7bc5-4296-904c-92adb3823fb6",
   "metadata": {},
   "source": [
    "### **Primitive Data Type conversion**"
   ]
  },
  {
   "cell_type": "code",
   "execution_count": 81,
   "id": "da21f492-1c3f-4feb-a777-12727b213d26",
   "metadata": {},
   "outputs": [
    {
     "data": {
      "text/plain": [
       "10.0"
      ]
     },
     "execution_count": 81,
     "metadata": {},
     "output_type": "execute_result"
    }
   ],
   "source": [
    "# int to flaot\n",
    "a = 10\n",
    "float(a)"
   ]
  },
  {
   "cell_type": "code",
   "execution_count": 82,
   "id": "c8b382fd-c670-4b57-aa2e-ac4cc5d30afd",
   "metadata": {},
   "outputs": [
    {
     "data": {
      "text/plain": [
       "10"
      ]
     },
     "execution_count": 82,
     "metadata": {},
     "output_type": "execute_result"
    }
   ],
   "source": [
    "# float to int\n",
    "b = 10.35\n",
    "int(b)"
   ]
  },
  {
   "cell_type": "code",
   "execution_count": 84,
   "id": "32439053-84cb-49d2-8391-d81475058685",
   "metadata": {},
   "outputs": [
    {
     "data": {
      "text/plain": [
       "str"
      ]
     },
     "execution_count": 84,
     "metadata": {},
     "output_type": "execute_result"
    }
   ],
   "source": [
    "# int to str\n",
    "a = 10\n",
    "res = str(a)\n",
    "type(res)"
   ]
  },
  {
   "cell_type": "code",
   "execution_count": 85,
   "id": "e615fbcd-8523-4ae3-af80-fb6e20b3cd1f",
   "metadata": {},
   "outputs": [
    {
     "data": {
      "text/plain": [
       "'10.68'"
      ]
     },
     "execution_count": 85,
     "metadata": {},
     "output_type": "execute_result"
    }
   ],
   "source": [
    "# float to str\n",
    "b = 10.68\n",
    "res1 = str(b)\n",
    "res1"
   ]
  },
  {
   "cell_type": "code",
   "execution_count": 86,
   "id": "f7e5ca10-4aa7-4fe3-ab81-671d7e1f64a0",
   "metadata": {},
   "outputs": [
    {
     "data": {
      "text/plain": [
       "10"
      ]
     },
     "execution_count": 86,
     "metadata": {},
     "output_type": "execute_result"
    }
   ],
   "source": [
    "# str to int\n",
    "a = '10'\n",
    "int(a)"
   ]
  },
  {
   "cell_type": "code",
   "execution_count": 87,
   "id": "920eb405-0ba7-479c-bfb8-3648a87c52b8",
   "metadata": {},
   "outputs": [
    {
     "ename": "ValueError",
     "evalue": "invalid literal for int() with base 10: 'python'",
     "output_type": "error",
     "traceback": [
      "\u001b[1;31m---------------------------------------------------------------------------\u001b[0m",
      "\u001b[1;31mValueError\u001b[0m                                Traceback (most recent call last)",
      "Cell \u001b[1;32mIn[87], line 2\u001b[0m\n\u001b[0;32m      1\u001b[0m b \u001b[38;5;241m=\u001b[39m \u001b[38;5;124m'\u001b[39m\u001b[38;5;124mpython\u001b[39m\u001b[38;5;124m'\u001b[39m\n\u001b[1;32m----> 2\u001b[0m \u001b[38;5;28;43mint\u001b[39;49m\u001b[43m(\u001b[49m\u001b[43mb\u001b[49m\u001b[43m)\u001b[49m\n",
      "\u001b[1;31mValueError\u001b[0m: invalid literal for int() with base 10: 'python'"
     ]
    }
   ],
   "source": [
    "b = 'python'\n",
    "int(b)"
   ]
  },
  {
   "cell_type": "code",
   "execution_count": 90,
   "id": "34a63083-8e08-4036-9fa1-de1bcf5327fe",
   "metadata": {},
   "outputs": [
    {
     "data": {
      "text/plain": [
       "10.68"
      ]
     },
     "execution_count": 90,
     "metadata": {},
     "output_type": "execute_result"
    }
   ],
   "source": [
    "# str to float\n",
    "c = '10.68'\n",
    "float(c)"
   ]
  },
  {
   "cell_type": "markdown",
   "id": "6372332c-1d4e-4eeb-8485-a6262d41e17e",
   "metadata": {},
   "source": [
    "### **Non Primitive datatype**\n",
    "#### **List**"
   ]
  },
  {
   "cell_type": "code",
   "execution_count": 59,
   "id": "799e3ab4-711d-48d4-8cb3-3b310e12024e",
   "metadata": {},
   "outputs": [],
   "source": [
    "a = [1,2,3,4,5,6,7,8,9]"
   ]
  },
  {
   "cell_type": "code",
   "execution_count": 60,
   "id": "d3b8bc14-75b2-404e-810d-656db4c79313",
   "metadata": {},
   "outputs": [],
   "source": [
    "a[0] = 10"
   ]
  },
  {
   "cell_type": "code",
   "execution_count": 61,
   "id": "49744b89-1524-421b-a571-14ab51ef8b0b",
   "metadata": {},
   "outputs": [
    {
     "data": {
      "text/plain": [
       "[10, 2, 3, 4, 5, 6, 7, 8, 9]"
      ]
     },
     "execution_count": 61,
     "metadata": {},
     "output_type": "execute_result"
    }
   ],
   "source": [
    "a"
   ]
  },
  {
   "cell_type": "code",
   "execution_count": 62,
   "id": "b6502d0b-cdaf-41eb-bae3-97ceaa3cfd20",
   "metadata": {},
   "outputs": [
    {
     "data": {
      "text/plain": [
       "10"
      ]
     },
     "execution_count": 62,
     "metadata": {},
     "output_type": "execute_result"
    }
   ],
   "source": [
    "a[0]"
   ]
  },
  {
   "cell_type": "code",
   "execution_count": 63,
   "id": "939ed557-1b15-40b4-9814-829e8fa0274b",
   "metadata": {},
   "outputs": [
    {
     "data": {
      "text/plain": [
       "[10, 2, 3, 4, 5, 6]"
      ]
     },
     "execution_count": 63,
     "metadata": {},
     "output_type": "execute_result"
    }
   ],
   "source": [
    "a[:6]"
   ]
  },
  {
   "cell_type": "code",
   "execution_count": 64,
   "id": "1455a0ad-9394-4e07-b3b2-2dd99c2b9a7d",
   "metadata": {},
   "outputs": [],
   "source": [
    "a.append(11)"
   ]
  },
  {
   "cell_type": "code",
   "execution_count": 65,
   "id": "39ccc7ea-c90c-4cd6-924b-e2a31a849c67",
   "metadata": {},
   "outputs": [
    {
     "name": "stdout",
     "output_type": "stream",
     "text": [
      "[10, 2, 3, 4, 5, 6, 7, 8, 9, 11]\n"
     ]
    }
   ],
   "source": [
    "print(a)"
   ]
  },
  {
   "cell_type": "code",
   "execution_count": 66,
   "id": "69d271db-c6a9-4afe-b030-e3409614cb4e",
   "metadata": {},
   "outputs": [
    {
     "name": "stdout",
     "output_type": "stream",
     "text": [
      "[10, 2, 3, 4, 5, 6, 7, 8, 9, 11, [12, 13, 14]]\n"
     ]
    }
   ],
   "source": [
    "a.append([12,13,14])\n",
    "print(a)"
   ]
  },
  {
   "cell_type": "code",
   "execution_count": 67,
   "id": "8aa17744-3631-4b37-9e2c-fd73624f24f5",
   "metadata": {},
   "outputs": [
    {
     "data": {
      "text/plain": [
       "12"
      ]
     },
     "execution_count": 67,
     "metadata": {},
     "output_type": "execute_result"
    }
   ],
   "source": [
    "a[10][0]"
   ]
  },
  {
   "cell_type": "code",
   "execution_count": 68,
   "id": "5bf37fbb-08af-44f9-b11e-4b0f2bbe242d",
   "metadata": {},
   "outputs": [
    {
     "name": "stdout",
     "output_type": "stream",
     "text": [
      "[10, 2, 3, 4, 5, 6, 7, 8, 9, 11, [12, 13, 14], 12, 13, 14]\n"
     ]
    }
   ],
   "source": [
    "a.extend([12,13,14])\n",
    "print(a)"
   ]
  },
  {
   "cell_type": "code",
   "execution_count": 69,
   "id": "60edb549-059f-477a-89e5-934b04607126",
   "metadata": {},
   "outputs": [],
   "source": [
    "a.insert(0, 1)"
   ]
  },
  {
   "cell_type": "code",
   "execution_count": 70,
   "id": "b7bed7b3-8b8e-41c5-a5fc-37c8210462b4",
   "metadata": {},
   "outputs": [
    {
     "name": "stdout",
     "output_type": "stream",
     "text": [
      "[1, 10, 2, 3, 4, 5, 6, 7, 8, 9, 11, [12, 13, 14], 12, 13, 14]\n"
     ]
    }
   ],
   "source": [
    "print(a)"
   ]
  },
  {
   "cell_type": "code",
   "execution_count": 71,
   "id": "bb5e2634-4cea-4b62-ada7-6cddf6480c3a",
   "metadata": {},
   "outputs": [
    {
     "data": {
      "text/plain": [
       "11"
      ]
     },
     "execution_count": 71,
     "metadata": {},
     "output_type": "execute_result"
    }
   ],
   "source": [
    "a.index([12,13,14])"
   ]
  },
  {
   "cell_type": "code",
   "execution_count": 72,
   "id": "d207e727-cd6b-4454-af08-211761eb1a41",
   "metadata": {},
   "outputs": [
    {
     "name": "stdout",
     "output_type": "stream",
     "text": [
      "[1, 10, 2, 3, 4, 5, 6, 7, 8, 9, 11, [12, 13, 14], 12, 13]\n"
     ]
    }
   ],
   "source": [
    "a.pop()\n",
    "print(a)"
   ]
  },
  {
   "cell_type": "code",
   "execution_count": 73,
   "id": "eaca2b6b-7818-4c19-8e7d-f1d67855452a",
   "metadata": {},
   "outputs": [
    {
     "name": "stdout",
     "output_type": "stream",
     "text": [
      "[1, 10, 2, 3, 4, 5, 6, 7, 8, 9, 11, 12, 13]\n"
     ]
    }
   ],
   "source": [
    "a.pop(11) # removing the element w r t index \n",
    "print(a)"
   ]
  },
  {
   "cell_type": "code",
   "execution_count": 74,
   "id": "cad7e0c3-072a-4b56-a572-4f8520767fa1",
   "metadata": {},
   "outputs": [
    {
     "name": "stdout",
     "output_type": "stream",
     "text": [
      "[1, 2, 3, 4, 5, 6, 7, 8, 9, 11, 12, 13]\n"
     ]
    }
   ],
   "source": [
    "a.remove(10) # removing the element w r t element\n",
    "print(a)"
   ]
  },
  {
   "cell_type": "code",
   "execution_count": 76,
   "id": "738121e6-776c-4e6b-9231-69c10f6e0aaa",
   "metadata": {},
   "outputs": [
    {
     "data": {
      "text/plain": [
       "9"
      ]
     },
     "execution_count": 76,
     "metadata": {},
     "output_type": "execute_result"
    }
   ],
   "source": [
    "a.index(11)"
   ]
  },
  {
   "cell_type": "code",
   "execution_count": 77,
   "id": "df99c2de-22a6-4adb-a68f-fae9c92cc9d6",
   "metadata": {},
   "outputs": [
    {
     "data": {
      "text/plain": [
       "[1, 14, 2, 3, 4, 5, 6, 7, 8, 9, 11, 12, 13]"
      ]
     },
     "execution_count": 77,
     "metadata": {},
     "output_type": "execute_result"
    }
   ],
   "source": [
    "a.insert(1, 14)\n",
    "a"
   ]
  },
  {
   "cell_type": "code",
   "execution_count": 78,
   "id": "cc92926f-0626-4daf-968f-cea4cab857b0",
   "metadata": {},
   "outputs": [
    {
     "name": "stdout",
     "output_type": "stream",
     "text": [
      "[1, 2, 3, 4, 5, 6, 7, 8, 9, 11, 12, 13, 14]\n"
     ]
    }
   ],
   "source": [
    "a.sort()\n",
    "print(a)"
   ]
  },
  {
   "cell_type": "code",
   "execution_count": 79,
   "id": "78cbc2cf-9616-4366-8d97-09fd2bd46e3b",
   "metadata": {},
   "outputs": [
    {
     "data": {
      "text/plain": [
       "[14, 13, 12, 11, 9, 8, 7, 6, 5, 4, 3, 2, 1]"
      ]
     },
     "execution_count": 79,
     "metadata": {},
     "output_type": "execute_result"
    }
   ],
   "source": [
    "a[::-1] # by using slicing"
   ]
  },
  {
   "cell_type": "code",
   "execution_count": 80,
   "id": "5895f69d-e984-4c6b-95c1-e2c2240f4352",
   "metadata": {},
   "outputs": [
    {
     "name": "stdout",
     "output_type": "stream",
     "text": [
      "[14, 13, 12, 11, 9, 8, 7, 6, 5, 4, 3, 2, 1]\n"
     ]
    }
   ],
   "source": [
    "a.sort(reverse=True) # by using Method\n",
    "print(a)"
   ]
  },
  {
   "cell_type": "code",
   "execution_count": 81,
   "id": "c190ac0e-66b9-4e68-add9-13be537981a4",
   "metadata": {},
   "outputs": [
    {
     "name": "stdout",
     "output_type": "stream",
     "text": [
      "[1, 2, 3, 4, 5, 6, 7, 8, 9, 11, 12, 13, 14]\n"
     ]
    }
   ],
   "source": [
    "a.reverse()\n",
    "print(a)"
   ]
  },
  {
   "cell_type": "code",
   "execution_count": 82,
   "id": "765cc9af-6483-4fa5-8d3b-afab53fb18cf",
   "metadata": {},
   "outputs": [
    {
     "data": {
      "text/plain": [
       "1"
      ]
     },
     "execution_count": 82,
     "metadata": {},
     "output_type": "execute_result"
    }
   ],
   "source": [
    "a.count(11)"
   ]
  },
  {
   "cell_type": "code",
   "execution_count": 27,
   "id": "af1936ae-0dee-4239-b1c8-8f85cefdc094",
   "metadata": {},
   "outputs": [],
   "source": [
    "b = a.copy()"
   ]
  },
  {
   "cell_type": "code",
   "execution_count": 28,
   "id": "21286e10-8b12-4c24-b80b-1958ce71cbe8",
   "metadata": {},
   "outputs": [
    {
     "name": "stdout",
     "output_type": "stream",
     "text": [
      "[14, 13, 12, 11, 9, 8, 7, 6, 5, 4, 3, 2, 1]\n"
     ]
    }
   ],
   "source": [
    "print(b)"
   ]
  },
  {
   "cell_type": "code",
   "execution_count": 29,
   "id": "464a5a9c-2357-4e67-9d74-841ba3db4c33",
   "metadata": {},
   "outputs": [],
   "source": [
    "a.clear()"
   ]
  },
  {
   "cell_type": "code",
   "execution_count": 30,
   "id": "3ebf0c0f-e95a-4107-8161-249898585139",
   "metadata": {},
   "outputs": [
    {
     "name": "stdout",
     "output_type": "stream",
     "text": [
      "[]\n"
     ]
    }
   ],
   "source": [
    "print(a)"
   ]
  },
  {
   "cell_type": "markdown",
   "id": "d2f0f000-09ac-4b71-bd6e-ba38c37cb88b",
   "metadata": {},
   "source": [
    "**Note**"
   ]
  },
  {
   "cell_type": "code",
   "execution_count": 36,
   "id": "56b72ca6-0dfb-4209-ab62-832e82d86ed0",
   "metadata": {},
   "outputs": [
    {
     "ename": "TypeError",
     "evalue": "'<' not supported between instances of 'str' and 'float'",
     "output_type": "error",
     "traceback": [
      "\u001b[1;31m---------------------------------------------------------------------------\u001b[0m",
      "\u001b[1;31mTypeError\u001b[0m                                 Traceback (most recent call last)",
      "Cell \u001b[1;32mIn[36], line 3\u001b[0m\n\u001b[0;32m      1\u001b[0m c \u001b[38;5;241m=\u001b[39m [\u001b[38;5;241m1.5\u001b[39m,\u001b[38;5;241m2.5\u001b[39m,\n\u001b[0;32m      2\u001b[0m      \u001b[38;5;124m'\u001b[39m\u001b[38;5;124mA\u001b[39m\u001b[38;5;124m'\u001b[39m]\n\u001b[1;32m----> 3\u001b[0m \u001b[43mc\u001b[49m\u001b[38;5;241;43m.\u001b[39;49m\u001b[43msort\u001b[49m\u001b[43m(\u001b[49m\u001b[43m)\u001b[49m\n",
      "\u001b[1;31mTypeError\u001b[0m: '<' not supported between instances of 'str' and 'float'"
     ]
    }
   ],
   "source": [
    "c = [1.5,2.5,'A']\n",
    "c.sort()"
   ]
  },
  {
   "cell_type": "code",
   "execution_count": 35,
   "id": "7f6a920e-c032-40ac-a558-0371b17398a0",
   "metadata": {},
   "outputs": [
    {
     "name": "stdout",
     "output_type": "stream",
     "text": [
      "['A', 'B', 'a', 'a']\n"
     ]
    }
   ],
   "source": [
    "c = ['A','a', 'B', 'a']\n",
    "c.sort()\n",
    "\n",
    "print(c)"
   ]
  },
  {
   "cell_type": "code",
   "execution_count": 37,
   "id": "c57b59b5-4409-47d2-98a5-f0d149c194cb",
   "metadata": {
    "scrolled": true
   },
   "outputs": [
    {
     "ename": "TypeError",
     "evalue": "'<' not supported between instances of 'list' and 'int'",
     "output_type": "error",
     "traceback": [
      "\u001b[1;31m---------------------------------------------------------------------------\u001b[0m",
      "\u001b[1;31mTypeError\u001b[0m                                 Traceback (most recent call last)",
      "Cell \u001b[1;32mIn[37], line 2\u001b[0m\n\u001b[0;32m      1\u001b[0m d  \u001b[38;5;241m=\u001b[39m [\u001b[38;5;241m1\u001b[39m,\u001b[38;5;241m2\u001b[39m,\u001b[38;5;241m3\u001b[39m,[\u001b[38;5;241m1\u001b[39m,\u001b[38;5;241m2\u001b[39m,\u001b[38;5;241m3\u001b[39m]]\n\u001b[1;32m----> 2\u001b[0m \u001b[43md\u001b[49m\u001b[38;5;241;43m.\u001b[39;49m\u001b[43msort\u001b[49m\u001b[43m(\u001b[49m\u001b[43m)\u001b[49m\n",
      "\u001b[1;31mTypeError\u001b[0m: '<' not supported between instances of 'list' and 'int'"
     ]
    }
   ],
   "source": [
    "d  = [1,2,3,[1,2,3]]\n",
    "d.sort()"
   ]
  },
  {
   "cell_type": "code",
   "execution_count": 84,
   "id": "e914bdfb-0173-495e-bd4c-2785f888de3b",
   "metadata": {},
   "outputs": [
    {
     "name": "stdout",
     "output_type": "stream",
     "text": [
      "[14, 13, 12, 11, 9, 8, 7, 6, 5, 4, 3, 2, 1]\n"
     ]
    }
   ],
   "source": [
    "print(b)"
   ]
  },
  {
   "cell_type": "code",
   "execution_count": 83,
   "id": "caaf0416-10dd-4249-a507-e216f3059576",
   "metadata": {},
   "outputs": [
    {
     "data": {
      "text/plain": [
       "13"
      ]
     },
     "execution_count": 83,
     "metadata": {},
     "output_type": "execute_result"
    }
   ],
   "source": [
    "## agrigation functions\n",
    "len(b)"
   ]
  },
  {
   "cell_type": "code",
   "execution_count": 85,
   "id": "bde414ca-203f-465c-8aef-5416ae4e36bb",
   "metadata": {},
   "outputs": [
    {
     "data": {
      "text/plain": [
       "95"
      ]
     },
     "execution_count": 85,
     "metadata": {},
     "output_type": "execute_result"
    }
   ],
   "source": [
    "sum(b)"
   ]
  },
  {
   "cell_type": "code",
   "execution_count": 86,
   "id": "3afa6f38-efba-486d-b463-418044c75cb4",
   "metadata": {},
   "outputs": [
    {
     "data": {
      "text/plain": [
       "1"
      ]
     },
     "execution_count": 86,
     "metadata": {},
     "output_type": "execute_result"
    }
   ],
   "source": [
    "min(b)"
   ]
  },
  {
   "cell_type": "code",
   "execution_count": 87,
   "id": "01fded57-1319-49bb-a771-969dcce988d0",
   "metadata": {},
   "outputs": [
    {
     "data": {
      "text/plain": [
       "14"
      ]
     },
     "execution_count": 87,
     "metadata": {},
     "output_type": "execute_result"
    }
   ],
   "source": [
    "max(b)"
   ]
  },
  {
   "cell_type": "code",
   "execution_count": 90,
   "id": "e345b40c-2931-48f5-9928-015e63083190",
   "metadata": {},
   "outputs": [
    {
     "data": {
      "text/plain": [
       "7.3076923076923075"
      ]
     },
     "execution_count": 90,
     "metadata": {},
     "output_type": "execute_result"
    }
   ],
   "source": [
    "from statistics import mean, median, mode, stdev\n",
    "\n",
    "mean(b)"
   ]
  },
  {
   "cell_type": "code",
   "execution_count": 91,
   "id": "c5f943c8-b1c1-4f32-93f8-ebffce914935",
   "metadata": {},
   "outputs": [
    {
     "data": {
      "text/plain": [
       "7.3076923076923075"
      ]
     },
     "execution_count": 91,
     "metadata": {},
     "output_type": "execute_result"
    }
   ],
   "source": [
    "sum(b)/len(b) # avg"
   ]
  },
  {
   "cell_type": "code",
   "execution_count": 89,
   "id": "ad3e05cd-7440-41fc-92d3-778596c7fb9d",
   "metadata": {},
   "outputs": [
    {
     "data": {
      "text/plain": [
       "7"
      ]
     },
     "execution_count": 89,
     "metadata": {},
     "output_type": "execute_result"
    }
   ],
   "source": [
    "median(b)"
   ]
  },
  {
   "cell_type": "code",
   "execution_count": 92,
   "id": "467d0c33-3593-4391-958a-0b6a2d616751",
   "metadata": {},
   "outputs": [
    {
     "data": {
      "text/plain": [
       "4.289223227746009"
      ]
     },
     "execution_count": 92,
     "metadata": {},
     "output_type": "execute_result"
    }
   ],
   "source": [
    "stdev(b)"
   ]
  },
  {
   "cell_type": "markdown",
   "id": "3879a846-06d9-47b6-ad67-886ac2b37bc7",
   "metadata": {},
   "source": [
    "#### **Tuple**"
   ]
  },
  {
   "cell_type": "code",
   "execution_count": 94,
   "id": "0e768d7f-9387-4b23-8546-96672fa8c821",
   "metadata": {},
   "outputs": [],
   "source": [
    "a = (1,2,3,4,5,6,7)"
   ]
  },
  {
   "cell_type": "code",
   "execution_count": 95,
   "id": "e12fe5c0-682b-4e6b-b5bf-283f0f60fb61",
   "metadata": {},
   "outputs": [
    {
     "data": {
      "text/plain": [
       "tuple"
      ]
     },
     "execution_count": 95,
     "metadata": {},
     "output_type": "execute_result"
    }
   ],
   "source": [
    "type(a)"
   ]
  },
  {
   "cell_type": "code",
   "execution_count": 96,
   "id": "b6a2e778-a9f6-4063-88dd-66bf9fb65ffd",
   "metadata": {},
   "outputs": [
    {
     "data": {
      "text/plain": [
       "1"
      ]
     },
     "execution_count": 96,
     "metadata": {},
     "output_type": "execute_result"
    }
   ],
   "source": [
    "a[0]"
   ]
  },
  {
   "cell_type": "code",
   "execution_count": 97,
   "id": "ed614783-da95-4337-87d9-4806631f1f2e",
   "metadata": {},
   "outputs": [
    {
     "data": {
      "text/plain": [
       "7"
      ]
     },
     "execution_count": 97,
     "metadata": {},
     "output_type": "execute_result"
    }
   ],
   "source": [
    "a[-1]"
   ]
  },
  {
   "cell_type": "code",
   "execution_count": 98,
   "id": "c53bc523-e7ab-46ae-9e74-def4ffeec956",
   "metadata": {},
   "outputs": [
    {
     "data": {
      "text/plain": [
       "(1, 3, 5)"
      ]
     },
     "execution_count": 98,
     "metadata": {},
     "output_type": "execute_result"
    }
   ],
   "source": [
    "a[:5:2]"
   ]
  },
  {
   "cell_type": "code",
   "execution_count": 99,
   "id": "32cac128-4d98-45db-b563-0af42328ddd8",
   "metadata": {},
   "outputs": [
    {
     "ename": "TypeError",
     "evalue": "'tuple' object does not support item assignment",
     "output_type": "error",
     "traceback": [
      "\u001b[1;31m---------------------------------------------------------------------------\u001b[0m",
      "\u001b[1;31mTypeError\u001b[0m                                 Traceback (most recent call last)",
      "Cell \u001b[1;32mIn[99], line 1\u001b[0m\n\u001b[1;32m----> 1\u001b[0m \u001b[43ma\u001b[49m\u001b[43m[\u001b[49m\u001b[38;5;241;43m0\u001b[39;49m\u001b[43m]\u001b[49m \u001b[38;5;241m=\u001b[39m \u001b[38;5;241m0\u001b[39m\n\u001b[0;32m      2\u001b[0m \u001b[38;5;28mprint\u001b[39m(a)\n",
      "\u001b[1;31mTypeError\u001b[0m: 'tuple' object does not support item assignment"
     ]
    }
   ],
   "source": [
    "a[0] = 0\n",
    "print(a)"
   ]
  },
  {
   "cell_type": "code",
   "execution_count": 100,
   "id": "e413fc1f-1891-40db-abf9-817ad8a31df2",
   "metadata": {},
   "outputs": [
    {
     "ename": "AttributeError",
     "evalue": "'tuple' object has no attribute 'append'",
     "output_type": "error",
     "traceback": [
      "\u001b[1;31m---------------------------------------------------------------------------\u001b[0m",
      "\u001b[1;31mAttributeError\u001b[0m                            Traceback (most recent call last)",
      "Cell \u001b[1;32mIn[100], line 1\u001b[0m\n\u001b[1;32m----> 1\u001b[0m \u001b[43ma\u001b[49m\u001b[38;5;241;43m.\u001b[39;49m\u001b[43mappend\u001b[49m(\u001b[38;5;241m10\u001b[39m)\n",
      "\u001b[1;31mAttributeError\u001b[0m: 'tuple' object has no attribute 'append'"
     ]
    }
   ],
   "source": [
    "a.append(10)"
   ]
  },
  {
   "cell_type": "code",
   "execution_count": 101,
   "id": "dff81e28-e3ba-4f72-acf4-14e6ef5439b5",
   "metadata": {},
   "outputs": [
    {
     "data": {
      "text/plain": [
       "1"
      ]
     },
     "execution_count": 101,
     "metadata": {},
     "output_type": "execute_result"
    }
   ],
   "source": [
    "a.count(1)"
   ]
  },
  {
   "cell_type": "code",
   "execution_count": 102,
   "id": "31554877-987d-4164-ba79-c93c23e47a2b",
   "metadata": {},
   "outputs": [
    {
     "data": {
      "text/plain": [
       "6"
      ]
     },
     "execution_count": 102,
     "metadata": {},
     "output_type": "execute_result"
    }
   ],
   "source": [
    "a.index(7)"
   ]
  },
  {
   "cell_type": "code",
   "execution_count": 103,
   "id": "d0ad1a62-489d-4a2a-aba7-9013383c0114",
   "metadata": {},
   "outputs": [
    {
     "name": "stdout",
     "output_type": "stream",
     "text": [
      "[1, 2, 3, 4, 5, 6]\n"
     ]
    }
   ],
   "source": [
    "a = [1,2,3]\n",
    "b = [4,5,6]\n",
    "c = a+b\n",
    "print(c)"
   ]
  },
  {
   "cell_type": "code",
   "execution_count": 104,
   "id": "e31b02d8-48c9-4d13-98b5-822fe5fa60d9",
   "metadata": {},
   "outputs": [
    {
     "name": "stdout",
     "output_type": "stream",
     "text": [
      "(1, 2, 3, 4, 5, 6)\n"
     ]
    }
   ],
   "source": [
    "a = (1,2,3)\n",
    "b = (4,5,6)\n",
    "c = a+b\n",
    "print(c)"
   ]
  },
  {
   "cell_type": "code",
   "execution_count": 105,
   "id": "58e9ee0f-d4a1-4dc8-b9e0-d540d218619c",
   "metadata": {},
   "outputs": [
    {
     "name": "stdout",
     "output_type": "stream",
     "text": [
      "((1, 2, 3), (4, 5, 6))\n"
     ]
    }
   ],
   "source": [
    "d = (a,b)\n",
    "print(d)"
   ]
  },
  {
   "cell_type": "code",
   "execution_count": 108,
   "id": "42e21038-aab3-41c3-b5e4-3b33e7ac4afa",
   "metadata": {},
   "outputs": [
    {
     "data": {
      "text/plain": [
       "4"
      ]
     },
     "execution_count": 108,
     "metadata": {},
     "output_type": "execute_result"
    }
   ],
   "source": [
    "d[1][0]"
   ]
  },
  {
   "cell_type": "code",
   "execution_count": null,
   "id": "3fed3edf-126e-4ce2-93a7-bb214866487a",
   "metadata": {},
   "outputs": [],
   "source": []
  },
  {
   "cell_type": "code",
   "execution_count": 119,
   "id": "55af1d42-147c-45ce-901f-6a500b8fb76f",
   "metadata": {},
   "outputs": [],
   "source": [
    "e = (1,2,3,4,5,[7,8,9])\n"
   ]
  },
  {
   "cell_type": "code",
   "execution_count": 120,
   "id": "97972fe2-e4c5-41c1-9adf-0b087c0bb4d6",
   "metadata": {},
   "outputs": [
    {
     "data": {
      "text/plain": [
       "[7, 8, 9]"
      ]
     },
     "execution_count": 120,
     "metadata": {},
     "output_type": "execute_result"
    }
   ],
   "source": [
    "e[5]"
   ]
  },
  {
   "cell_type": "code",
   "execution_count": 121,
   "id": "f88a82c6-e289-4860-9240-031a9c7155e2",
   "metadata": {},
   "outputs": [],
   "source": [
    "e[5][0] = 6"
   ]
  },
  {
   "cell_type": "code",
   "execution_count": 122,
   "id": "7e996d35-ec87-44d1-98de-49c52935b1aa",
   "metadata": {},
   "outputs": [
    {
     "name": "stdout",
     "output_type": "stream",
     "text": [
      "(1, 2, 3, 4, 5, [6, 8, 9])\n"
     ]
    }
   ],
   "source": [
    "print(e)"
   ]
  },
  {
   "cell_type": "code",
   "execution_count": 123,
   "id": "5235cfa2-7270-490e-b2a1-eea548bbf88c",
   "metadata": {},
   "outputs": [
    {
     "ename": "TypeError",
     "evalue": "'tuple' object does not support item assignment",
     "output_type": "error",
     "traceback": [
      "\u001b[1;31m---------------------------------------------------------------------------\u001b[0m",
      "\u001b[1;31mTypeError\u001b[0m                                 Traceback (most recent call last)",
      "Cell \u001b[1;32mIn[123], line 1\u001b[0m\n\u001b[1;32m----> 1\u001b[0m \u001b[43me\u001b[49m\u001b[43m[\u001b[49m\u001b[38;5;241;43m4\u001b[39;49m\u001b[43m]\u001b[49m\u001b[38;5;241m=\u001b[39m\u001b[38;5;241m6\u001b[39m\n",
      "\u001b[1;31mTypeError\u001b[0m: 'tuple' object does not support item assignment"
     ]
    }
   ],
   "source": [
    "e[4]=6"
   ]
  },
  {
   "cell_type": "code",
   "execution_count": 124,
   "id": "e0bd4cb3-a94d-4948-a8fd-1c0d24e91598",
   "metadata": {},
   "outputs": [],
   "source": [
    "e[5].append(10)"
   ]
  },
  {
   "cell_type": "code",
   "execution_count": 125,
   "id": "213b8f92-c294-4950-aaaf-2f9d5a539958",
   "metadata": {},
   "outputs": [
    {
     "name": "stdout",
     "output_type": "stream",
     "text": [
      "(1, 2, 3, 4, 5, [6, 8, 9, 10])\n"
     ]
    }
   ],
   "source": [
    "print(e)"
   ]
  },
  {
   "cell_type": "markdown",
   "id": "43e0ade2-77af-4510-9d78-0a93eb3ecd61",
   "metadata": {},
   "source": [
    "#### **Dictionary**"
   ]
  },
  {
   "cell_type": "code",
   "execution_count": 2,
   "id": "7fedcbf9-0dfc-4682-b281-969c700b5749",
   "metadata": {},
   "outputs": [
    {
     "name": "stdout",
     "output_type": "stream",
     "text": [
      "{'Name': ['Deepak', 'yuva', 'Rohan', 'Aftab'], 'Age': [25, 24, 26, 23], 'Grade': ['A', 'B', 'A', 'C']}\n"
     ]
    }
   ],
   "source": [
    "student_info = {'Name':['Deepak', 'yuva', 'Rohan', 'Aftab'], 'Age':[25,24,26,23], 'Grade':['A','B','A','C']}\n",
    "print(student_info)"
   ]
  },
  {
   "cell_type": "code",
   "execution_count": 3,
   "id": "6f2e17c7-c416-4a95-9ce2-0390994ee6b2",
   "metadata": {},
   "outputs": [
    {
     "data": {
      "text/plain": [
       "['Deepak', 'yuva', 'Rohan', 'Aftab']"
      ]
     },
     "execution_count": 3,
     "metadata": {},
     "output_type": "execute_result"
    }
   ],
   "source": [
    "# Accessing\n",
    "student_info['Name']"
   ]
  },
  {
   "cell_type": "code",
   "execution_count": 4,
   "id": "1b2bcfac-a418-485d-9dc8-3ae9b0228a17",
   "metadata": {},
   "outputs": [
    {
     "data": {
      "text/plain": [
       "[25, 24, 26, 23]"
      ]
     },
     "execution_count": 4,
     "metadata": {},
     "output_type": "execute_result"
    }
   ],
   "source": [
    "student_info['Age']"
   ]
  },
  {
   "cell_type": "code",
   "execution_count": 5,
   "id": "a9c1a2ab-fcfd-49f4-a4cc-bef179ffb9fa",
   "metadata": {},
   "outputs": [
    {
     "data": {
      "text/plain": [
       "[25, 24, 26, 23]"
      ]
     },
     "execution_count": 5,
     "metadata": {},
     "output_type": "execute_result"
    }
   ],
   "source": [
    "student_info.get('Age')"
   ]
  },
  {
   "cell_type": "code",
   "execution_count": 6,
   "id": "7b85af77-7350-43ab-a258-3c4e3a3e35e1",
   "metadata": {},
   "outputs": [
    {
     "data": {
      "text/plain": [
       "dict_keys(['Name', 'Age', 'Grade'])"
      ]
     },
     "execution_count": 6,
     "metadata": {},
     "output_type": "execute_result"
    }
   ],
   "source": [
    "student_info.keys()"
   ]
  },
  {
   "cell_type": "code",
   "execution_count": 7,
   "id": "d9bb8448-e26d-48f6-bf20-ed6596791277",
   "metadata": {},
   "outputs": [
    {
     "data": {
      "text/plain": [
       "dict_values([['Deepak', 'yuva', 'Rohan', 'Aftab'], [25, 24, 26, 23], ['A', 'B', 'A', 'C']])"
      ]
     },
     "execution_count": 7,
     "metadata": {},
     "output_type": "execute_result"
    }
   ],
   "source": [
    "student_info.values()"
   ]
  },
  {
   "cell_type": "code",
   "execution_count": 8,
   "id": "99e911e7-75f9-4e29-87d7-ef7dafac51dd",
   "metadata": {},
   "outputs": [
    {
     "data": {
      "text/plain": [
       "dict_items([('Name', ['Deepak', 'yuva', 'Rohan', 'Aftab']), ('Age', [25, 24, 26, 23]), ('Grade', ['A', 'B', 'A', 'C'])])"
      ]
     },
     "execution_count": 8,
     "metadata": {},
     "output_type": "execute_result"
    }
   ],
   "source": [
    "student_info.items()"
   ]
  },
  {
   "cell_type": "code",
   "execution_count": 12,
   "id": "e77aa39d-1ca2-48eb-a36d-daf765b864cd",
   "metadata": {},
   "outputs": [],
   "source": [
    "student_info.update({'City':['Blore', 'Jaipur', 'Mumbai', 'Delhi']})"
   ]
  },
  {
   "cell_type": "code",
   "execution_count": 13,
   "id": "d0fc8b77-7e67-4247-a8a3-2ae4fe87c84e",
   "metadata": {},
   "outputs": [
    {
     "data": {
      "text/plain": [
       "{'Name': ['Deepak', 'yuva', 'Rohan', 'Aftab'],\n",
       " 'Age': [25, 24, 26, 23],\n",
       " 'Grade': ['A', 'B', 'A', 'C'],\n",
       " 'City': ['Blore', 'Jaipur', 'Mumbai', 'Delhi']}"
      ]
     },
     "execution_count": 13,
     "metadata": {},
     "output_type": "execute_result"
    }
   ],
   "source": [
    "student_info"
   ]
  },
  {
   "cell_type": "code",
   "execution_count": 15,
   "id": "b7ae6f61-e92e-4c7e-8e53-8d0aa121b753",
   "metadata": {},
   "outputs": [
    {
     "data": {
      "text/plain": [
       "['A', 'B', 'A', 'C']"
      ]
     },
     "execution_count": 15,
     "metadata": {},
     "output_type": "execute_result"
    }
   ],
   "source": [
    "student_info.pop('Grade')"
   ]
  },
  {
   "cell_type": "code",
   "execution_count": 16,
   "id": "64dd3058-b00f-4389-974d-3eb243b84d99",
   "metadata": {},
   "outputs": [
    {
     "data": {
      "text/plain": [
       "{'Name': ['Deepak', 'yuva', 'Rohan', 'Aftab'],\n",
       " 'Age': [25, 24, 26, 23],\n",
       " 'City': ['Blore', 'Jaipur', 'Mumbai', 'Delhi']}"
      ]
     },
     "execution_count": 16,
     "metadata": {},
     "output_type": "execute_result"
    }
   ],
   "source": [
    "student_info"
   ]
  },
  {
   "cell_type": "code",
   "execution_count": 17,
   "id": "3d9d55e7-9d54-4495-8669-0583659ce3d6",
   "metadata": {},
   "outputs": [
    {
     "data": {
      "text/plain": [
       "3"
      ]
     },
     "execution_count": 17,
     "metadata": {},
     "output_type": "execute_result"
    }
   ],
   "source": [
    "len(student_info)"
   ]
  },
  {
   "cell_type": "code",
   "execution_count": 18,
   "id": "3d96448c-28a5-4f00-a8d8-b1d73153827e",
   "metadata": {},
   "outputs": [],
   "source": [
    "student_dict = student_info.copy()"
   ]
  },
  {
   "cell_type": "code",
   "execution_count": 19,
   "id": "0d7db27f-a502-415d-a5b7-ae1713e567b0",
   "metadata": {},
   "outputs": [
    {
     "data": {
      "text/plain": [
       "{'Name': ['Deepak', 'yuva', 'Rohan', 'Aftab'],\n",
       " 'Age': [25, 24, 26, 23],\n",
       " 'City': ['Blore', 'Jaipur', 'Mumbai', 'Delhi']}"
      ]
     },
     "execution_count": 19,
     "metadata": {},
     "output_type": "execute_result"
    }
   ],
   "source": [
    "student_dict"
   ]
  },
  {
   "cell_type": "code",
   "execution_count": 20,
   "id": "c5307c38-2daa-460f-8dd0-b31edfd50d39",
   "metadata": {},
   "outputs": [],
   "source": [
    "student_dict.clear()"
   ]
  },
  {
   "cell_type": "code",
   "execution_count": 21,
   "id": "9c8941ca-5c2b-4afd-a220-26060a9c4a87",
   "metadata": {},
   "outputs": [
    {
     "data": {
      "text/plain": [
       "{}"
      ]
     },
     "execution_count": 21,
     "metadata": {},
     "output_type": "execute_result"
    }
   ],
   "source": [
    "student_dict"
   ]
  },
  {
   "cell_type": "code",
   "execution_count": 23,
   "id": "582b2d00-aff7-4a03-859c-172bb5cd2a65",
   "metadata": {},
   "outputs": [
    {
     "data": {
      "text/plain": [
       "('City', ['Blore', 'Jaipur', 'Mumbai', 'Delhi'])"
      ]
     },
     "execution_count": 23,
     "metadata": {},
     "output_type": "execute_result"
    }
   ],
   "source": [
    "student_info.popitem()"
   ]
  },
  {
   "cell_type": "code",
   "execution_count": 24,
   "id": "217ecf74-3c3c-4860-93fd-03c85b4aa933",
   "metadata": {},
   "outputs": [
    {
     "data": {
      "text/plain": [
       "{'Name': ['Deepak', 'yuva', 'Rohan', 'Aftab'], 'Age': [25, 24, 26, 23]}"
      ]
     },
     "execution_count": 24,
     "metadata": {},
     "output_type": "execute_result"
    }
   ],
   "source": [
    "student_info"
   ]
  },
  {
   "cell_type": "code",
   "execution_count": 25,
   "id": "d3f88157-09fd-4450-96e4-e4ea92d9e8d0",
   "metadata": {},
   "outputs": [
    {
     "data": {
      "text/plain": [
       "'Deepak'"
      ]
     },
     "execution_count": 25,
     "metadata": {},
     "output_type": "execute_result"
    }
   ],
   "source": [
    "student_info['Name'][0]"
   ]
  },
  {
   "cell_type": "code",
   "execution_count": 26,
   "id": "0ef600a0-1aec-473b-93ba-8516472fb975",
   "metadata": {},
   "outputs": [
    {
     "data": {
      "text/plain": [
       "24"
      ]
     },
     "execution_count": 26,
     "metadata": {},
     "output_type": "execute_result"
    }
   ],
   "source": [
    "student_info['Age'][1]"
   ]
  },
  {
   "cell_type": "code",
   "execution_count": 27,
   "id": "0924aabe-4f57-4a1e-ae4b-9475bf7e3116",
   "metadata": {},
   "outputs": [],
   "source": [
    "student_info['Name'][3] = 'Manvitha'"
   ]
  },
  {
   "cell_type": "code",
   "execution_count": 28,
   "id": "c820099f-fd80-4201-84e8-a57df4f0bfe1",
   "metadata": {},
   "outputs": [
    {
     "data": {
      "text/plain": [
       "{'Name': ['Deepak', 'yuva', 'Rohan', 'Manvitha'], 'Age': [25, 24, 26, 23]}"
      ]
     },
     "execution_count": 28,
     "metadata": {},
     "output_type": "execute_result"
    }
   ],
   "source": [
    "student_info"
   ]
  },
  {
   "cell_type": "code",
   "execution_count": 29,
   "id": "c9eba608-afb7-4f5d-8c76-721dbf3ac985",
   "metadata": {},
   "outputs": [],
   "source": [
    "captains = dict() # empty dict, list(), tuple()"
   ]
  },
  {
   "cell_type": "code",
   "execution_count": 30,
   "id": "8f8e9e89-d563-475b-8255-4926480ed224",
   "metadata": {},
   "outputs": [
    {
     "data": {
      "text/plain": [
       "{}"
      ]
     },
     "execution_count": 30,
     "metadata": {},
     "output_type": "execute_result"
    }
   ],
   "source": [
    "captains"
   ]
  },
  {
   "cell_type": "code",
   "execution_count": 31,
   "id": "75ad57f6-27ab-40de-9818-bcb716f56438",
   "metadata": {},
   "outputs": [],
   "source": [
    "captains['RCB'] = 'Rajath Patidar'\n",
    "captains['PBKS'] ='Shreyas Iyer'\n",
    "captains['GT'] = 'Shuman Gill'\n",
    "captains['MI'] = 'Hardik Pandya'"
   ]
  },
  {
   "cell_type": "code",
   "execution_count": 32,
   "id": "8b1883c5-afee-4d45-86c2-747282792419",
   "metadata": {},
   "outputs": [
    {
     "data": {
      "text/plain": [
       "{'RCB': 'Rajath Patidar',\n",
       " 'PBKS': 'Shreyas Iyer',\n",
       " 'GT': 'Shuman Gill',\n",
       " 'MI': 'Hardik Pandya'}"
      ]
     },
     "execution_count": 32,
     "metadata": {},
     "output_type": "execute_result"
    }
   ],
   "source": [
    "captains"
   ]
  },
  {
   "cell_type": "code",
   "execution_count": 33,
   "id": "0ae86a2b-3039-4fc8-85c2-a214ab35b5e0",
   "metadata": {},
   "outputs": [],
   "source": [
    "captains['India'] = {'T20':'Surya kumar Yadav', 'ODI':'Rohith Shrma', 'Test':'Shubman Gill'}"
   ]
  },
  {
   "cell_type": "code",
   "execution_count": 34,
   "id": "bf0672c6-b19a-4d19-ad13-7230e56dce54",
   "metadata": {},
   "outputs": [
    {
     "data": {
      "text/plain": [
       "{'RCB': 'Rajath Patidar',\n",
       " 'PBKS': 'Shreyas Iyer',\n",
       " 'GT': 'Shuman Gill',\n",
       " 'MI': 'Hardik Pandya',\n",
       " 'India': {'T20': 'Surya kumar Yadav',\n",
       "  'ODI': 'Rohith Shrma',\n",
       "  'Test': 'Shubman Gill'}}"
      ]
     },
     "execution_count": 34,
     "metadata": {},
     "output_type": "execute_result"
    }
   ],
   "source": [
    "captains"
   ]
  },
  {
   "cell_type": "code",
   "execution_count": 35,
   "id": "9461cbf1-d055-497f-ae32-076e1e3a89ac",
   "metadata": {},
   "outputs": [
    {
     "data": {
      "text/plain": [
       "'Rohith Shrma'"
      ]
     },
     "execution_count": 35,
     "metadata": {},
     "output_type": "execute_result"
    }
   ],
   "source": [
    "captains['India']['ODI']"
   ]
  },
  {
   "cell_type": "markdown",
   "id": "047c653a-7d36-4d41-9cac-1414b57f4a5e",
   "metadata": {},
   "source": [
    "#### **Set**"
   ]
  },
  {
   "cell_type": "code",
   "execution_count": 42,
   "id": "328a9880-1a67-448c-991e-1e7feb7a34ba",
   "metadata": {},
   "outputs": [
    {
     "name": "stdout",
     "output_type": "stream",
     "text": [
      "{1, 2, 3, 4, 5, 6, 7, 8}\n"
     ]
    }
   ],
   "source": [
    "set1 = {1,2,3,4,5,1,2,7,6,8}\n",
    "print(set1)"
   ]
  },
  {
   "cell_type": "code",
   "execution_count": 43,
   "id": "6c54d4e6-a844-4103-b7cc-94104db13e0e",
   "metadata": {},
   "outputs": [
    {
     "name": "stdout",
     "output_type": "stream",
     "text": [
      "{1, 2, 3, 4, 5, 6, 7, 8, 9}\n"
     ]
    }
   ],
   "source": [
    "set1.add(9)\n",
    "print(set1)"
   ]
  },
  {
   "cell_type": "code",
   "execution_count": 44,
   "id": "dc204a5f-1591-476c-836f-18363793ef4c",
   "metadata": {},
   "outputs": [
    {
     "name": "stdout",
     "output_type": "stream",
     "text": [
      "{1, 2, 3, 4, 5, 6, 7, 8}\n"
     ]
    }
   ],
   "source": [
    "set1.remove(9)\n",
    "print(set1)"
   ]
  },
  {
   "cell_type": "code",
   "execution_count": 45,
   "id": "0689580d-6e11-4631-9e1f-36e15a7110fa",
   "metadata": {},
   "outputs": [
    {
     "name": "stdout",
     "output_type": "stream",
     "text": [
      "{2, 3, 4, 5, 6, 7, 8}\n"
     ]
    }
   ],
   "source": [
    "set1.pop() #remove the element from the start\n",
    "print(set1)"
   ]
  },
  {
   "cell_type": "code",
   "execution_count": 49,
   "id": "4da08112-7948-42bf-9a55-960088a91bdd",
   "metadata": {},
   "outputs": [],
   "source": [
    "set2 = {1,2,3,4,5}\n",
    "set3 = {3,4,5,6,7}"
   ]
  },
  {
   "cell_type": "code",
   "execution_count": 47,
   "id": "894ce346-ba79-4fa8-9706-14104ac3ad6a",
   "metadata": {},
   "outputs": [
    {
     "data": {
      "text/plain": [
       "{1, 2, 3, 4, 5, 6, 7}"
      ]
     },
     "execution_count": 47,
     "metadata": {},
     "output_type": "execute_result"
    }
   ],
   "source": [
    "set2.union(set3)"
   ]
  },
  {
   "cell_type": "code",
   "execution_count": 48,
   "id": "62ac80ac-2b26-4221-ac8b-371804172dbb",
   "metadata": {},
   "outputs": [
    {
     "data": {
      "text/plain": [
       "{3, 4, 5}"
      ]
     },
     "execution_count": 48,
     "metadata": {},
     "output_type": "execute_result"
    }
   ],
   "source": [
    "set2.intersection(set3)"
   ]
  },
  {
   "cell_type": "code",
   "execution_count": 50,
   "id": "aab7e40f-3bb5-4902-bc88-f7eb2191810a",
   "metadata": {},
   "outputs": [
    {
     "data": {
      "text/plain": [
       "{1, 2}"
      ]
     },
     "execution_count": 50,
     "metadata": {},
     "output_type": "execute_result"
    }
   ],
   "source": [
    "set2.difference(set3)"
   ]
  },
  {
   "cell_type": "code",
   "execution_count": 51,
   "id": "9408dca5-abbf-41fd-8dc1-4e30d9d01e81",
   "metadata": {},
   "outputs": [
    {
     "data": {
      "text/plain": [
       "{6, 7}"
      ]
     },
     "execution_count": 51,
     "metadata": {},
     "output_type": "execute_result"
    }
   ],
   "source": [
    "set3.difference(set2)"
   ]
  },
  {
   "cell_type": "code",
   "execution_count": 54,
   "id": "b81d8f80-2b60-4924-aaa5-c5cc9d828b8c",
   "metadata": {},
   "outputs": [],
   "source": [
    "set1.update({9})"
   ]
  },
  {
   "cell_type": "code",
   "execution_count": 55,
   "id": "20f9aeec-2535-4b77-81f5-81d671604dca",
   "metadata": {},
   "outputs": [
    {
     "data": {
      "text/plain": [
       "{2, 3, 4, 5, 6, 7, 8, 9}"
      ]
     },
     "execution_count": 55,
     "metadata": {},
     "output_type": "execute_result"
    }
   ],
   "source": [
    "set1"
   ]
  },
  {
   "cell_type": "code",
   "execution_count": null,
   "id": "317a3d3b-68e2-4986-b9a8-006e406d4d8d",
   "metadata": {},
   "outputs": [],
   "source": [
    "text = \"Python is powerful, python is varstile, python is interpeter language\""
   ]
  },
  {
   "cell_type": "markdown",
   "id": "50c36626-e0fc-414c-b36f-6af606a561f3",
   "metadata": {},
   "source": [
    "#### **Type conversion**"
   ]
  },
  {
   "cell_type": "code",
   "execution_count": 57,
   "id": "c826130b-16c9-4096-a5f3-bf4851b9b1e0",
   "metadata": {},
   "outputs": [
    {
     "name": "stdout",
     "output_type": "stream",
     "text": [
      "(1, 2, 3, 4, 5)\n"
     ]
    }
   ],
   "source": [
    "list1 = [1,2,3,4,5]\n",
    "tuple1 = tuple(list1)\n",
    "print(tuple1)"
   ]
  },
  {
   "cell_type": "code",
   "execution_count": 58,
   "id": "62b44127-6f48-463d-b720-995ca931b434",
   "metadata": {},
   "outputs": [
    {
     "data": {
      "text/plain": [
       "tuple"
      ]
     },
     "execution_count": 58,
     "metadata": {},
     "output_type": "execute_result"
    }
   ],
   "source": [
    "type(tuple1)"
   ]
  },
  {
   "cell_type": "code",
   "execution_count": 59,
   "id": "aca698d5-fbb9-4b1d-80ca-1db1fd22891f",
   "metadata": {},
   "outputs": [
    {
     "name": "stdout",
     "output_type": "stream",
     "text": [
      "[1, 2, 3, 4, 5] <class 'list'>\n"
     ]
    }
   ],
   "source": [
    "# tuple to list\n",
    "list2 = list(tuple1)\n",
    "print(list2, type(list2))"
   ]
  },
  {
   "cell_type": "code",
   "execution_count": 60,
   "id": "c1030c27-9708-4daf-b62e-85c36dabfeb2",
   "metadata": {},
   "outputs": [
    {
     "name": "stdout",
     "output_type": "stream",
     "text": [
      "{1: 'A', 2: 'B', 3: 'B'} <class 'dict'>\n"
     ]
    }
   ],
   "source": [
    "# list to dict\n",
    "list_list = [[1,'A'],[2,'B'],[3,'B']]\n",
    "dict1 = dict(list_list)\n",
    "print(dict1, type(dict1))"
   ]
  },
  {
   "cell_type": "code",
   "execution_count": 61,
   "id": "871518aa-3505-4c61-a262-9bdd848d592c",
   "metadata": {},
   "outputs": [
    {
     "name": "stdout",
     "output_type": "stream",
     "text": [
      "{'A': 1, 'B': 2, 'C': 3} <class 'dict'>\n"
     ]
    }
   ],
   "source": [
    "# tuple to dict\n",
    "tuple_tuple = (('A', 1),('B',2),('C',3))\n",
    "dict2 = dict(tuple_tuple)\n",
    "print(dict2, type(dict2))"
   ]
  },
  {
   "cell_type": "code",
   "execution_count": 63,
   "id": "2de50bec-4c00-4af0-84ba-796e73d4f748",
   "metadata": {},
   "outputs": [
    {
     "name": "stdout",
     "output_type": "stream",
     "text": [
      "[('A', 1), ('B', 2), ('C', 3)] <class 'list'>\n"
     ]
    }
   ],
   "source": [
    "# dict to list\n",
    "\n",
    "list3  = list(dict2.items())\n",
    "print(list3, type(list3))"
   ]
  },
  {
   "cell_type": "code",
   "execution_count": 64,
   "id": "d1272f34-5e59-4935-91b1-59934f39a0da",
   "metadata": {},
   "outputs": [
    {
     "name": "stdout",
     "output_type": "stream",
     "text": [
      "(('A', 1), ('B', 2), ('C', 3)) <class 'tuple'>\n"
     ]
    }
   ],
   "source": [
    "# dict to tuple\n",
    "tuple3  = tuple(dict2.items())\n",
    "print(tuple3, type(tuple3))"
   ]
  },
  {
   "cell_type": "code",
   "execution_count": 65,
   "id": "1c191df9-9220-4da0-80b9-08d1abcd5998",
   "metadata": {},
   "outputs": [
    {
     "data": {
      "text/plain": [
       "set()"
      ]
     },
     "execution_count": 65,
     "metadata": {},
     "output_type": "execute_result"
    }
   ],
   "source": [
    "set4 = set() # empty set\n",
    "set4"
   ]
  },
  {
   "cell_type": "code",
   "execution_count": 69,
   "id": "2f962c5f-7a83-45a4-93e6-6c02aab04a60",
   "metadata": {},
   "outputs": [
    {
     "data": {
      "text/plain": [
       "{1, 2, 3, 4, 5, 6}"
      ]
     },
     "execution_count": 69,
     "metadata": {},
     "output_type": "execute_result"
    }
   ],
   "source": [
    "#list to set\n",
    "list4 = [1,2,3,4,5, 1, 6]\n",
    "set(list4)"
   ]
  },
  {
   "cell_type": "code",
   "execution_count": 70,
   "id": "2c5261bc-d01f-4f4b-898b-bbb0a2e26173",
   "metadata": {},
   "outputs": [
    {
     "data": {
      "text/plain": [
       "{1, 2, 3, 4, 5, 7}"
      ]
     },
     "execution_count": 70,
     "metadata": {},
     "output_type": "execute_result"
    }
   ],
   "source": [
    "# tuple to set\n",
    "tuple4 = (1,2,3,4,5,2,7)\n",
    "set(tuple4)"
   ]
  },
  {
   "cell_type": "markdown",
   "id": "6a0efcd9-b13e-4d9f-ad8b-2c486cae723b",
   "metadata": {
    "jp-MarkdownHeadingCollapsed": true
   },
   "source": [
    "## **Conditional statements**"
   ]
  },
  {
   "cell_type": "code",
   "execution_count": 2,
   "id": "202bdaed-6edc-42ff-8f5b-f711f57b3516",
   "metadata": {},
   "outputs": [
    {
     "name": "stdin",
     "output_type": "stream",
     "text": [
      "Enter a age  18\n"
     ]
    },
    {
     "name": "stdout",
     "output_type": "stream",
     "text": [
      "Eligible to Vote\n"
     ]
    }
   ],
   "source": [
    "person = int(input(\"Enter a age \"))\n",
    "\n",
    "if person >= 18:\n",
    "    print(\"Eligible to Vote\") "
   ]
  },
  {
   "cell_type": "code",
   "execution_count": 5,
   "id": "b15335f8-3dae-4c26-9502-5342bace21ee",
   "metadata": {},
   "outputs": [
    {
     "name": "stdin",
     "output_type": "stream",
     "text": [
      "Enter a age is:  24\n"
     ]
    },
    {
     "name": "stdout",
     "output_type": "stream",
     "text": [
      "Eligible to Vote\n"
     ]
    }
   ],
   "source": [
    "person = int(input(\"Enter a age is: \"))\n",
    "\n",
    "if person >= 18:\n",
    "    print(\"Eligible to Vote\")\n",
    "else:\n",
    "    print(\"Not Eligible to Vote\")"
   ]
  },
  {
   "cell_type": "code",
   "execution_count": 8,
   "id": "0dcce68f-530d-4c16-ade4-2118044466e0",
   "metadata": {},
   "outputs": [
    {
     "name": "stdin",
     "output_type": "stream",
     "text": [
      "Enter a number:  46\n"
     ]
    },
    {
     "name": "stdout",
     "output_type": "stream",
     "text": [
      "Even\n"
     ]
    }
   ],
   "source": [
    "num = int(input(\"Enter a number: \"))\n",
    "\n",
    "if num % 2 == 0:\n",
    "    print(\"Even\")\n",
    "else:\n",
    "    print(\"Odd\")"
   ]
  },
  {
   "cell_type": "code",
   "execution_count": 10,
   "id": "71104bf2-82b6-4b85-989c-163e248e1889",
   "metadata": {},
   "outputs": [
    {
     "name": "stdin",
     "output_type": "stream",
     "text": [
      "Enter a number:  14\n"
     ]
    },
    {
     "name": "stdout",
     "output_type": "stream",
     "text": [
      "not divisible by 5\n"
     ]
    }
   ],
   "source": [
    "num = int(input(\"Enter a number: \"))\n",
    "\n",
    "if num % 5 == 0:\n",
    "    print(\"divisible by 5\")\n",
    "else:\n",
    "    print(\"not divisible by 5\")"
   ]
  },
  {
   "cell_type": "code",
   "execution_count": 7,
   "id": "25e1c7cb-4b4a-4d05-a36e-7c5a5a046e02",
   "metadata": {},
   "outputs": [
    {
     "name": "stdin",
     "output_type": "stream",
     "text": [
      "Enter a Word:  book\n"
     ]
    },
    {
     "name": "stdout",
     "output_type": "stream",
     "text": [
      "book is not a Palindrom\n"
     ]
    }
   ],
   "source": [
    "# palindrom chek\n",
    "string = input('Enter a Word: ')\n",
    "string = string.lower()\n",
    "\n",
    "if string == string[::-1]:\n",
    "    print(string, \"is a Palindrom\")\n",
    "else:\n",
    "    print(\"{} is not a Palindrom\".format(string))"
   ]
  },
  {
   "cell_type": "code",
   "execution_count": 11,
   "id": "9bc0f2d8-5fba-4010-a37c-c42eeea58f76",
   "metadata": {},
   "outputs": [
    {
     "name": "stdin",
     "output_type": "stream",
     "text": [
      "Enter a word:  Listen\n",
      "Enter a word:  Silent\n"
     ]
    },
    {
     "name": "stdout",
     "output_type": "stream",
     "text": [
      "listen, silent are Anagram\n"
     ]
    }
   ],
   "source": [
    "#Anagram check\n",
    "\n",
    "word1 = input(\"Enter a word: \").lower()\n",
    "word2 = input(\"Enter a word: \").lower()\n",
    "\n",
    "if sorted(word1) == sorted(word2):\n",
    "    print(f\"{word1}, {word2} are Anagram\")\n",
    "else:\n",
    "    print(f\"{word1}, {word2} are not a Anagram\")"
   ]
  },
  {
   "cell_type": "code",
   "execution_count": 14,
   "id": "6b45c53f-4394-4580-a7b0-8e42cf09c347",
   "metadata": {},
   "outputs": [
    {
     "data": {
      "text/plain": [
       "True"
      ]
     },
     "execution_count": 14,
     "metadata": {},
     "output_type": "execute_result"
    }
   ],
   "source": [
    "sorted(word1) == sorted(word2)"
   ]
  },
  {
   "cell_type": "code",
   "execution_count": null,
   "id": "4c8c2559-565f-46f6-babc-73cf051e70f2",
   "metadata": {},
   "outputs": [],
   "source": [
    "year= int(input(\"Enter a Year: \"))\n",
    "\n",
    "if (year%4==0 and year%100!=0) or (year%400 == 0):\n",
    "    print(f\"{year} is a Leap Year\")\n",
    "else:\n",
    "    print(f\"{year} is not a Leap Year\")"
   ]
  },
  {
   "cell_type": "code",
   "execution_count": 20,
   "id": "f8df201e-19dc-41bb-b674-b63a981e9359",
   "metadata": {},
   "outputs": [],
   "source": [
    "## elif"
   ]
  },
  {
   "cell_type": "code",
   "execution_count": 29,
   "id": "921fe85f-cb74-4374-9a24-350fcdc200d1",
   "metadata": {},
   "outputs": [
    {
     "name": "stdin",
     "output_type": "stream",
     "text": [
      "Enter a number 15\n"
     ]
    },
    {
     "name": "stdout",
     "output_type": "stream",
     "text": [
      "15 is divisible by both 3 and 5\n"
     ]
    }
   ],
   "source": [
    "#no is div by 3 and 5 or not\n",
    "\n",
    "num = int(input(\"Enter a number\"))\n",
    "\n",
    "if (num%3==0 and num%5==0):\n",
    "    print(f\"{num} is divisible by both 3 and 5\")\n",
    "elif num%3==0:\n",
    "    print(f\"{num} is divisble by 3 only\")\n",
    "elif num%5==0:\n",
    "    print(f\"{num} is divisble by 5 only\")\n",
    "else:\n",
    "    print(f\"{num} is not divisible by 3 and 5\")"
   ]
  },
  {
   "cell_type": "code",
   "execution_count": 30,
   "id": "f9318188-03ba-4cd6-987c-69cbff0b65c0",
   "metadata": {
    "jp-MarkdownHeadingCollapsed": true
   },
   "outputs": [
    {
     "name": "stdin",
     "output_type": "stream",
     "text": [
      "enter a marks sub1  75\n",
      "enter a marks sub2  85\n",
      "enter a marks sub3  65\n",
      "enter a marks sub4  70\n"
     ]
    },
    {
     "name": "stdout",
     "output_type": "stream",
     "text": [
      "75 85 65 70\n",
      "295 / 400\n",
      "73.75 %\n",
      "A\n"
     ]
    }
   ],
   "source": [
    "sub1=int(input(\"enter a marks sub1 \"))\n",
    "sub2=int(input(\"enter a marks sub2 \"))\n",
    "sub3=int(input(\"enter a marks sub3 \"))\n",
    "sub4=int(input(\"enter a marks sub4 \"))\n",
    "print(sub1,sub2,sub3,sub4)\n",
    "\n",
    "totalmarks=sub1+sub2+sub3+sub4\n",
    "print(f\"{totalmarks} / 400\")\n",
    "\n",
    "percent=(totalmarks/400)*100\n",
    "print(f\"{percent} %\")\n",
    "\n",
    "if percent>=90:\n",
    "    print(\"E\")\n",
    "elif percent<90 and percent>=80:\n",
    "    print(\"A+\")\n",
    "elif percent<80 and percent>=70:\n",
    "    print(\"A\")\n",
    "elif percent<70 and percent>=60:\n",
    "    print(\"B+\")\n",
    "elif percent<60 and percent>=50:\n",
    "    print(\"B\")\n",
    "else:\n",
    "    print(\"Better luck next time\")"
   ]
  },
  {
   "cell_type": "code",
   "execution_count": 33,
   "id": "7155c519-6686-4882-8d59-d5719ff025d8",
   "metadata": {},
   "outputs": [
    {
     "name": "stdin",
     "output_type": "stream",
     "text": [
      "Enter a Number 0\n"
     ]
    },
    {
     "name": "stdout",
     "output_type": "stream",
     "text": [
      "0 is Zero\n"
     ]
    }
   ],
   "source": [
    "num = int(input(\"Enter a Number\"))\n",
    "\n",
    "if num > 0:\n",
    "    print(f\"{num} is Positive\")\n",
    "elif num <0:\n",
    "    print(f\"{num} is Negitive\")\n",
    "else:\n",
    "    print(f\"{num} is Zero\")"
   ]
  },
  {
   "cell_type": "code",
   "execution_count": 39,
   "id": "96329066-3bee-47da-9343-31c1ce3180fc",
   "metadata": {},
   "outputs": [
    {
     "name": "stdin",
     "output_type": "stream",
     "text": [
      "Enter a number 17\n"
     ]
    },
    {
     "name": "stdout",
     "output_type": "stream",
     "text": [
      "17 is not divisible by both 3 and 5\n"
     ]
    }
   ],
   "source": [
    "#### Nested if\n",
    "\n",
    "num = int(input(\"Enter a number\"))\n",
    "\n",
    "if num%3==0:\n",
    "    print(f\"{num} is divisible by 3\")\n",
    "    if num%5==0:\n",
    "        print(f\"{num} is divisible by both 3 and 5\")\n",
    "elif num%5==0:\n",
    "    print(f\"{num} is divisible by 5\")\n",
    "else:\n",
    "    print(f\"{num} is not divisible by both 3 and 5\")"
   ]
  },
  {
   "cell_type": "markdown",
   "id": "1c325ce1-d387-4d40-a65f-b0702342cc34",
   "metadata": {},
   "source": [
    "#### **ternary operator**"
   ]
  },
  {
   "cell_type": "code",
   "execution_count": 4,
   "id": "926895d5-be61-4e88-b06f-ba9ecba672b9",
   "metadata": {},
   "outputs": [
    {
     "name": "stdin",
     "output_type": "stream",
     "text": [
      "enter a number  15\n"
     ]
    },
    {
     "name": "stdout",
     "output_type": "stream",
     "text": [
      "Odd\n"
     ]
    }
   ],
   "source": [
    "number = int(input(\"enter a number \"))\n",
    "even = 'even' if number%2==0 else 'Odd'\n",
    "print(even)"
   ]
  },
  {
   "cell_type": "code",
   "execution_count": 6,
   "id": "5c9b0f51-5d34-418c-9449-52c996af8fd0",
   "metadata": {},
   "outputs": [
    {
     "name": "stdin",
     "output_type": "stream",
     "text": [
      "enter a number  0\n"
     ]
    },
    {
     "name": "stdout",
     "output_type": "stream",
     "text": [
      "Zero\n"
     ]
    }
   ],
   "source": [
    "no = int(input(\"enter a number \"))\n",
    "result = f\"{no} is Positive\" if no > 0 else f\"{no} is Negitive\" if no < 0 else \"Zero\"\n",
    "print(result)"
   ]
  },
  {
   "cell_type": "code",
   "execution_count": 9,
   "id": "975ae89d-bb16-42d4-b035-7303b76c35b7",
   "metadata": {},
   "outputs": [
    {
     "name": "stdin",
     "output_type": "stream",
     "text": [
      "Enter a string:  Madam\n"
     ]
    },
    {
     "name": "stdout",
     "output_type": "stream",
     "text": [
      "['madam is a palindrome']\n"
     ]
    }
   ],
   "source": [
    "string = input(\"Enter a string: \").lower()\n",
    "Palindrome = [f\"{string} is a palindrome\" if string == string[::-1] else f\"{string} is not a palindrom\"]\n",
    "print(Palindrome)"
   ]
  },
  {
   "cell_type": "code",
   "execution_count": 11,
   "id": "59e75432-1367-47b7-a762-ae57c5077734",
   "metadata": {},
   "outputs": [
    {
     "data": {
      "text/plain": [
       "str"
      ]
     },
     "execution_count": 11,
     "metadata": {},
     "output_type": "execute_result"
    }
   ],
   "source": [
    "type(result)"
   ]
  },
  {
   "cell_type": "markdown",
   "id": "fccd4787-dc5c-413a-be1f-387650f67a36",
   "metadata": {},
   "source": [
    "#### **Match-case statement**"
   ]
  },
  {
   "cell_type": "code",
   "execution_count": 15,
   "id": "cf8e1294-4189-4f44-a98f-1b440bb68268",
   "metadata": {},
   "outputs": [
    {
     "name": "stdin",
     "output_type": "stream",
     "text": [
      " begin\n"
     ]
    },
    {
     "name": "stdout",
     "output_type": "stream",
     "text": [
      "None\n"
     ]
    }
   ],
   "source": [
    "a = input()\n",
    "\n",
    "match a:\n",
    "    case 'start':\n",
    "        print(\"match\")\n",
    "    case 'end':\n",
    "        print(\"Not match\")\n",
    "    case _:\n",
    "        print(\"None\")"
   ]
  },
  {
   "cell_type": "code",
   "execution_count": 18,
   "id": "a4bf5762-56ca-483b-929d-4de834a4d5c1",
   "metadata": {},
   "outputs": [
    {
     "name": "stdin",
     "output_type": "stream",
     "text": [
      "Enter a number:  21\n"
     ]
    },
    {
     "name": "stdout",
     "output_type": "stream",
     "text": [
      "21 is not divisible by 4\n"
     ]
    }
   ],
   "source": [
    "number = int(input(\"Enter a number: \")) \n",
    "\n",
    "match number:\n",
    "    case _ if number%4==0:\n",
    "        print(\"{} is divisible by 4\".format(number))\n",
    "    case _:\n",
    "        print(\"{} is not divisible by 4\".format(number))\n"
   ]
  },
  {
   "cell_type": "code",
   "execution_count": 22,
   "id": "e284fb06-7302-4442-b27f-0cf8c37a3a06",
   "metadata": {},
   "outputs": [
    {
     "name": "stdout",
     "output_type": "stream",
     "text": [
      "10 is present in list\n"
     ]
    }
   ],
   "source": [
    "x = [10,12,13,14,15,16]\n",
    "\n",
    "match x:\n",
    "    case _ if (10 in x and 20 in x):\n",
    "        print(\"10,20 Present in the list\")\n",
    "    case _ if 10 in x:\n",
    "        print(\"10 is present in list\")\n",
    "    case _:\n",
    "        print(\"number not found\")"
   ]
  },
  {
   "cell_type": "markdown",
   "id": "c1edfd8b-ab33-43bd-9d01-8aa159fadc40",
   "metadata": {
    "jp-MarkdownHeadingCollapsed": true
   },
   "source": [
    "## **Loops**"
   ]
  },
  {
   "cell_type": "markdown",
   "id": "1ce4e477-6ac4-49ba-9bb7-3b3afe23f35d",
   "metadata": {},
   "source": [
    "#### **For Loop**"
   ]
  },
  {
   "cell_type": "code",
   "execution_count": 3,
   "id": "0d85f6db-a671-4892-8fec-03353c8f66af",
   "metadata": {},
   "outputs": [
    {
     "name": "stdout",
     "output_type": "stream",
     "text": [
      "0 1 2 3 4 5 6 7 8 9 10 "
     ]
    }
   ],
   "source": [
    "for i in range(0,11):\n",
    "    print(i, end=' ')"
   ]
  },
  {
   "cell_type": "code",
   "execution_count": 1,
   "id": "83b76391-b113-40ea-9c81-d18f9b2a4e13",
   "metadata": {},
   "outputs": [
    {
     "name": "stdout",
     "output_type": "stream",
     "text": [
      "2 5 8 11 14 17 "
     ]
    }
   ],
   "source": [
    "for x in range(2,20,3):\n",
    "    print(x, end=' ')"
   ]
  },
  {
   "cell_type": "code",
   "execution_count": 6,
   "id": "d81c2f40-9122-47e3-98c5-e741a4aed9ae",
   "metadata": {},
   "outputs": [
    {
     "name": "stdout",
     "output_type": "stream",
     "text": [
      "odd\n",
      "Even\n",
      "odd\n",
      "Even\n",
      "odd\n",
      "Even\n",
      "odd\n",
      "Even\n",
      "odd\n",
      "Even\n",
      "odd\n",
      "Even\n",
      "odd\n",
      "Even\n",
      "odd\n",
      "Even\n"
     ]
    }
   ],
   "source": [
    "num = [1,2,3,4,5,6,7,8,9,10,11,12,13,14,15,16]\n",
    "\n",
    "for i in num:\n",
    "    if i % 2 == 0:\n",
    "        print(\"Even\")\n",
    "    else:\n",
    "        print('odd')"
   ]
  },
  {
   "cell_type": "code",
   "execution_count": 8,
   "id": "0fd50a60-5414-451e-abad-6e02b00945a4",
   "metadata": {},
   "outputs": [
    {
     "name": "stdout",
     "output_type": "stream",
     "text": [
      "1 is Odd Number\n",
      "3 is Odd Number\n",
      "5 is Odd Number\n",
      "7 is Odd Number\n",
      "9 is Odd Number\n",
      "11 is Odd Number\n",
      "13 is Odd Number\n",
      "15 is Odd Number\n"
     ]
    }
   ],
   "source": [
    "lst = list()\n",
    "\n",
    "for i in num:\n",
    "    if i % 2 ==0:\n",
    "        lst.append(i)\n",
    "    else:\n",
    "        print(f\"{i} is Odd Number\")"
   ]
  },
  {
   "cell_type": "code",
   "execution_count": 9,
   "id": "b9083f6d-82fd-4546-b76f-8b60bc15b989",
   "metadata": {},
   "outputs": [
    {
     "name": "stdout",
     "output_type": "stream",
     "text": [
      "[2, 4, 6, 8, 10, 12, 14, 16]\n"
     ]
    }
   ],
   "source": [
    "print(lst)"
   ]
  },
  {
   "cell_type": "code",
   "execution_count": 2,
   "id": "49fc58dc-141a-4a45-bbb2-4c02d954e7b5",
   "metadata": {},
   "outputs": [
    {
     "name": "stdin",
     "output_type": "stream",
     "text": [
      "ente a number:  17\n"
     ]
    },
    {
     "name": "stdout",
     "output_type": "stream",
     "text": [
      "17 x 1 = 17\n",
      "17 x 2 = 34\n",
      "17 x 3 = 51\n",
      "17 x 4 = 68\n",
      "17 x 5 = 85\n",
      "17 x 6 = 102\n",
      "17 x 7 = 119\n",
      "17 x 8 = 136\n",
      "17 x 9 = 153\n",
      "17 x 10 = 170\n"
     ]
    }
   ],
   "source": [
    "# 2 x 1 = 2\n",
    "no = int(input(\"ente a number: \"))\n",
    "for i in range(1,11):\n",
    "    print(no, 'x' , i, '=', no*i)"
   ]
  },
  {
   "cell_type": "code",
   "execution_count": 17,
   "id": "b213d8e3-167f-4dcc-9af0-daa634f76217",
   "metadata": {},
   "outputs": [
    {
     "name": "stdout",
     "output_type": "stream",
     "text": [
      " 2   4    8\n",
      " 3   9   27\n",
      " 4  16   64\n",
      " 5  25  125\n",
      " 6  36  216\n",
      " 7  49  343\n",
      " 8  64  512\n",
      " 9  81  729\n",
      "10 100 1000\n"
     ]
    }
   ],
   "source": [
    "# Square of the number\n",
    "\n",
    "for j in range(2,11):\n",
    "    print(repr(j).rjust(2), repr(j*j).rjust(3), repr(j*j*j).rjust(4))"
   ]
  },
  {
   "cell_type": "code",
   "execution_count": 4,
   "id": "68766ed5-a101-4e7d-aa73-b9ef7da18dfa",
   "metadata": {},
   "outputs": [
    {
     "name": "stdout",
     "output_type": "stream",
     "text": [
      "Mercury : M\n",
      "Venus   : V\n",
      "Earth   : E\n",
      "Mars    : M\n",
      "Jupiter : J\n",
      "Saturn  : S\n",
      "Uranus  : U\n",
      "Neptune : N\n"
     ]
    }
   ],
   "source": [
    "planets = ['Mercury', 'Venus', 'Earth', 'Mars', 'Jupiter', 'Saturn', 'Uranus', 'Neptune']\n",
    "\n",
    "for char in planets:\n",
    "    print(char.ljust(7), ':' ,char[0])"
   ]
  },
  {
   "cell_type": "code",
   "execution_count": 26,
   "id": "f8afc8eb-7a28-4e93-a9f2-97ece3e7fdd5",
   "metadata": {},
   "outputs": [
    {
     "name": "stdout",
     "output_type": "stream",
     "text": [
      "{'M': 'Mars', 'V': 'Venus', 'E': 'Earth', 'J': 'Jupiter', 'S': 'Saturn', 'U': 'Uranus', 'N': 'Neptune'}\n"
     ]
    }
   ],
   "source": [
    "Dict = dict()\n",
    "\n",
    "for char in planets:\n",
    "    Dict[char[0]] = char\n",
    "\n",
    "print(Dict)"
   ]
  },
  {
   "cell_type": "code",
   "execution_count": 40,
   "id": "d6b3dee5-d24c-435e-8a15-476a48ddceb3",
   "metadata": {},
   "outputs": [],
   "source": [
    "basket = ['apple', 'orange', 'apple', 'pear', 'orange', 'banana', 'kiwi', 'Mango', 'strawberry', 'pinapple', 'kiwi', 'mango']\n",
    "basket1 = set()\n",
    "for fruit in basket:\n",
    "    basket1.add(fruit.lower())"
   ]
  },
  {
   "cell_type": "code",
   "execution_count": 41,
   "id": "c2071286-f4dc-4054-abf3-62dfff4282e8",
   "metadata": {},
   "outputs": [
    {
     "name": "stdout",
     "output_type": "stream",
     "text": [
      "{'orange', 'strawberry', 'kiwi', 'pinapple', 'mango', 'pear', 'apple', 'banana'}\n"
     ]
    }
   ],
   "source": [
    "print(basket1)"
   ]
  },
  {
   "cell_type": "code",
   "execution_count": 45,
   "id": "26d8a308-d918-498e-b4b9-c22d3a121679",
   "metadata": {},
   "outputs": [
    {
     "name": "stdout",
     "output_type": "stream",
     "text": [
      "[0, 1, 1, 2, 3, 5, 8, 13, 21, 34, 55, 89]\n"
     ]
    }
   ],
   "source": [
    "# fibnoci series\n",
    "\n",
    "a = [0,1]\n",
    "\n",
    "for _ in range(10):\n",
    "\n",
    "    a.append(a[-1]+a[-2])\n",
    "print(a)"
   ]
  },
  {
   "cell_type": "code",
   "execution_count": 49,
   "id": "ddc79389-a126-4cef-abc1-270ec8a95686",
   "metadata": {},
   "outputs": [
    {
     "name": "stdout",
     "output_type": "stream",
     "text": [
      "1 1 2 3 5 8 13 21 34 55 89 "
     ]
    }
   ],
   "source": [
    "a = 0\n",
    "b = 1\n",
    "\n",
    "for _ in range(11):\n",
    "    a, b = b, a+b\n",
    "    print(a, end=' ')"
   ]
  },
  {
   "cell_type": "code",
   "execution_count": 12,
   "id": "69048cc0-c77e-438a-9de9-800e6ed9e828",
   "metadata": {},
   "outputs": [
    {
     "name": "stdin",
     "output_type": "stream",
     "text": [
      "Enter Number:  23\n"
     ]
    },
    {
     "name": "stdout",
     "output_type": "stream",
     "text": [
      "23 is Prime Number\n"
     ]
    }
   ],
   "source": [
    "number = int(input(\"Enter Number: \"))\n",
    "\n",
    "if number < 2:\n",
    "    print(\"Not a prime number\")\n",
    "else:\n",
    "    prime = True\n",
    "    for i in range(2, number):\n",
    "        \n",
    "        if number % i == 0:\n",
    "            prime = False\n",
    "            break\n",
    "    if prime:\n",
    "        print(f\"{number} is Prime Number\")\n",
    "    else:\n",
    "        print(f\"{number} is Not Prime Number\")"
   ]
  },
  {
   "cell_type": "code",
   "execution_count": 17,
   "id": "afd689fd-da5a-4dbd-9230-df98cb35c17b",
   "metadata": {},
   "outputs": [],
   "source": [
    "lst = list() or []\n",
    "\n",
    "for i in range(1, 20+1):\n",
    "    if i % 3 == 0:\n",
    "        lst.append(i)"
   ]
  },
  {
   "cell_type": "code",
   "execution_count": 18,
   "id": "86c9ddc9-f23e-4008-9929-984325d2c4e5",
   "metadata": {},
   "outputs": [
    {
     "name": "stdout",
     "output_type": "stream",
     "text": [
      "[3, 6, 9, 12, 15, 18]\n"
     ]
    }
   ],
   "source": [
    "print(lst)"
   ]
  },
  {
   "cell_type": "code",
   "execution_count": 20,
   "id": "9cf06778-c744-4f7f-a16d-58b061f17257",
   "metadata": {},
   "outputs": [
    {
     "name": "stdout",
     "output_type": "stream",
     "text": [
      "Madam is a Palindrome\n",
      "Kayak is a Palindrome\n",
      "listen is not a palindrome\n",
      "book is not a palindrome\n"
     ]
    }
   ],
   "source": [
    "string  = ['Madam', 'Kayak', 'listen', 'book']\n",
    "\n",
    "for i in string:\n",
    "    if i.lower() == i[::-1].lower():\n",
    "        print(i, \"is a Palindrome\")\n",
    "    else:\n",
    "        print(i, \"is not a palindrome\")"
   ]
  },
  {
   "cell_type": "code",
   "execution_count": 25,
   "id": "d2698746-eb3e-41f2-b08e-4880e285d072",
   "metadata": {},
   "outputs": [
    {
     "name": "stdout",
     "output_type": "stream",
     "text": [
      "1\n",
      "2\n",
      "3\n",
      "4\n",
      "5\n",
      "6\n",
      "7\n",
      "8\n",
      "9\n"
     ]
    }
   ],
   "source": [
    "a = [[1,2,3],[4,5,6],[7,8,9]]\n",
    "\n",
    "for i in a:\n",
    "    for j in i:\n",
    "        print(j)"
   ]
  },
  {
   "cell_type": "code",
   "execution_count": 27,
   "id": "d1af8033-b0cd-4f73-b7c8-7d6ee0e6d3e4",
   "metadata": {},
   "outputs": [
    {
     "name": "stdout",
     "output_type": "stream",
     "text": [
      "362880\n"
     ]
    }
   ],
   "source": [
    "prod = 1\n",
    "lst1  = []\n",
    "for i in a:\n",
    "    for j in i:\n",
    "        prod *= j\n",
    "    lst1.append(prod)\n",
    "print(prod)"
   ]
  },
  {
   "cell_type": "code",
   "execution_count": 29,
   "id": "ad210cab-8ef8-436b-aaca-08fcd9a63315",
   "metadata": {},
   "outputs": [
    {
     "name": "stdout",
     "output_type": "stream",
     "text": [
      "[6, 720, 362880]\n"
     ]
    }
   ],
   "source": [
    "print(lst1)"
   ]
  },
  {
   "cell_type": "code",
   "execution_count": 34,
   "id": "dae9747b-656f-4e43-981e-0a541a2eac7c",
   "metadata": {},
   "outputs": [
    {
     "name": "stdout",
     "output_type": "stream",
     "text": [
      "1 A\n",
      "2 B\n",
      "3 C\n"
     ]
    }
   ],
   "source": [
    "a = [1,2,3]\n",
    "b = ['A','B','C']\n",
    "\n",
    "for i,j in zip(a,b):\n",
    "    print(i,j)"
   ]
  },
  {
   "cell_type": "code",
   "execution_count": 35,
   "id": "3039d1e0-307f-45ac-8f73-e2c19263e709",
   "metadata": {
    "scrolled": true
   },
   "outputs": [
    {
     "name": "stdout",
     "output_type": "stream",
     "text": [
      "0 1\n",
      "1 2\n",
      "2 3\n"
     ]
    }
   ],
   "source": [
    "for i, j in enumerate(a):\n",
    "    print(i,j)"
   ]
  },
  {
   "cell_type": "markdown",
   "id": "0623fa6e-c5eb-488a-a810-b161dc877e12",
   "metadata": {},
   "source": [
    "#### **While Loop**"
   ]
  },
  {
   "cell_type": "code",
   "execution_count": 38,
   "id": "875cd913-c2f0-4ab4-a119-4ea072150d80",
   "metadata": {},
   "outputs": [
    {
     "name": "stdout",
     "output_type": "stream",
     "text": [
      "0 1 2 3 4 "
     ]
    }
   ],
   "source": [
    "a = 0\n",
    "while a< 5:\n",
    "    print(a, end=' ')\n",
    "    a+=1"
   ]
  },
  {
   "cell_type": "code",
   "execution_count": 40,
   "id": "5d314900-f619-4efe-b5ee-7a512fe3a983",
   "metadata": {},
   "outputs": [
    {
     "name": "stdout",
     "output_type": "stream",
     "text": [
      "2 4 6 8 10 "
     ]
    }
   ],
   "source": [
    "num = 2\n",
    "while num <= 10:\n",
    "    if num % 2 == 0:\n",
    "        print(num, end=' ')\n",
    "    num += 1"
   ]
  },
  {
   "cell_type": "code",
   "execution_count": 41,
   "id": "784a1b0d-34f6-4678-b0fc-d6846bf0e703",
   "metadata": {},
   "outputs": [
    {
     "name": "stdout",
     "output_type": "stream",
     "text": [
      "55\n"
     ]
    }
   ],
   "source": [
    "num = 0\n",
    "sum1 = 0\n",
    "\n",
    "while num <= 10:\n",
    "    sum1 += num\n",
    "    num += 1\n",
    "print(sum1)"
   ]
  },
  {
   "cell_type": "code",
   "execution_count": 2,
   "id": "fa4a6ebc-849f-46c4-a910-c7f04e3b1a4f",
   "metadata": {},
   "outputs": [
    {
     "name": "stdin",
     "output_type": "stream",
     "text": [
      "enter a number:  10\n"
     ]
    },
    {
     "name": "stdout",
     "output_type": "stream",
     "text": [
      "the Factorial 10 is 3628800\n"
     ]
    }
   ],
   "source": [
    "# Factorail Caluculation\n",
    "\n",
    "n = int(input(\"enter a number: \"))\n",
    "\n",
    "fact, i = 1, 1\n",
    "while i <= n:\n",
    "    fact *= i\n",
    "    i += 1\n",
    "print(f\"the Factorial {n} is {fact}\")"
   ]
  },
  {
   "cell_type": "code",
   "execution_count": 3,
   "id": "a7a7bc60-bbb8-4d8c-8676-5ad83ceb4d02",
   "metadata": {},
   "outputs": [
    {
     "data": {
      "text/plain": [
       "3628800"
      ]
     },
     "execution_count": 3,
     "metadata": {},
     "output_type": "execute_result"
    }
   ],
   "source": [
    "1*2*3*4*5*6*7*8*9*10"
   ]
  },
  {
   "cell_type": "code",
   "execution_count": 4,
   "id": "c8d03175-c940-4eda-ae73-6991675b1f9b",
   "metadata": {},
   "outputs": [
    {
     "name": "stdout",
     "output_type": "stream",
     "text": [
      "0 1 1 2 3 5 8 13 21 "
     ]
    }
   ],
   "source": [
    "# fibnoci series\n",
    "num = 10\n",
    "\n",
    "a, b = 0, 1\n",
    "\n",
    "i = 1\n",
    "\n",
    "while i< num:\n",
    "    print(a, end=' ')\n",
    "    a, b = b, a+b\n",
    "    i= i+1"
   ]
  },
  {
   "cell_type": "code",
   "execution_count": 6,
   "id": "23ad205a-706b-4d21-9a84-c61ca4690a4e",
   "metadata": {},
   "outputs": [
    {
     "name": "stdout",
     "output_type": "stream",
     "text": [
      "1 4 9 16 "
     ]
    }
   ],
   "source": [
    "i = 1\n",
    "while i <= 1:\n",
    "    j = 1\n",
    "    while j <= 4:\n",
    "        print(j**2, end = ' ')\n",
    "        j+=1\n",
    "    i += 1"
   ]
  },
  {
   "cell_type": "code",
   "execution_count": 11,
   "id": "b6b21561-38ac-4be1-979f-954c8cd3f8d7",
   "metadata": {},
   "outputs": [
    {
     "name": "stdout",
     "output_type": "stream",
     "text": [
      "9\n",
      "8\n",
      "7\n",
      "6\n",
      "5\n",
      "4\n",
      "3\n",
      "2\n",
      "1\n"
     ]
    }
   ],
   "source": [
    "matrix = [[9,8,7],[6,5,4],[3,2,1]]\n",
    "i = 0\n",
    "while i < len(matrix):\n",
    "    j = 0\n",
    "    while j < len(matrix[i]):  \n",
    "        print(matrix[i][j])\n",
    "        j+=1\n",
    "    i+=1\n"
   ]
  },
  {
   "cell_type": "markdown",
   "id": "e9ca739b-8012-49b4-94d4-3a100f7ae898",
   "metadata": {},
   "source": [
    "#### **Break Statement**"
   ]
  },
  {
   "cell_type": "code",
   "execution_count": 13,
   "id": "e24934bb-6fdb-4f65-ab82-182540d415bd",
   "metadata": {},
   "outputs": [
    {
     "name": "stdout",
     "output_type": "stream",
     "text": [
      "1\n",
      "2\n",
      "3\n",
      "4\n"
     ]
    }
   ],
   "source": [
    "a = [1,2,3,4,5,6]\n",
    "\n",
    "for i in a:\n",
    "    print(i)\n",
    "    if i == 4:\n",
    "        break"
   ]
  },
  {
   "cell_type": "code",
   "execution_count": 15,
   "id": "f3cafc72-831d-4a1c-913d-1acbb0450767",
   "metadata": {},
   "outputs": [
    {
     "name": "stdout",
     "output_type": "stream",
     "text": [
      "0\n",
      "2\n",
      "4\n",
      "6\n",
      "8\n",
      "10\n",
      "12\n",
      "14\n",
      "16\n"
     ]
    }
   ],
   "source": [
    "num = range(20)\n",
    "\n",
    "for i in num:\n",
    "    if i % 2 == 0:\n",
    "        print(i)\n",
    "        if i == 16:\n",
    "            break"
   ]
  },
  {
   "cell_type": "code",
   "execution_count": 17,
   "id": "7a53cf12-8ff0-4315-8f7a-7759fc3940ea",
   "metadata": {},
   "outputs": [
    {
     "name": "stdout",
     "output_type": "stream",
     "text": [
      "1 2 3 4 5 6 7 8 9 10 11 12 13 14 15 16 17 18 19 20 21 22 23 24 25 26 27 28 29 30 31 32 33 34 35 36 37 38 39 40 41 42 43 44 45 46 47 48 49 50 "
     ]
    }
   ],
   "source": [
    "lst = range(1,100)\n",
    "\n",
    "for i in lst:\n",
    "    print(i, end=' ')\n",
    "    if i == 50:\n",
    "        break\n",
    "    "
   ]
  },
  {
   "cell_type": "code",
   "execution_count": 19,
   "id": "0e66304f-3a73-4a5b-910c-6867d089f98f",
   "metadata": {},
   "outputs": [
    {
     "name": "stdin",
     "output_type": "stream",
     "text": [
      "Enter a name:  ash\n"
     ]
    },
    {
     "name": "stdout",
     "output_type": "stream",
     "text": [
      "Name not found!\n"
     ]
    }
   ],
   "source": [
    "names = ['jane', 'Jhon', 'bob', 'mat', 'man']\n",
    "name = input(\"Enter a name: \")\n",
    "i = 0\n",
    "while i < len(names):\n",
    "    if names[i] == name:\n",
    "        print(\"Name Found!\")\n",
    "        break\n",
    "    i += 1\n",
    "else:\n",
    "    print(\"Name not found!\")"
   ]
  },
  {
   "cell_type": "markdown",
   "id": "c45f61b4-27aa-42d5-bb9d-de342ea93ad2",
   "metadata": {},
   "source": [
    "#### **Continue Statement**"
   ]
  },
  {
   "cell_type": "code",
   "execution_count": 23,
   "id": "94c9ae6e-f8f6-429e-a745-6f1ff51ec788",
   "metadata": {},
   "outputs": [
    {
     "name": "stdout",
     "output_type": "stream",
     "text": [
      "2 4 6 8 10 12 14 16 18 20 22 24 26 28 30 32 34 36 38 40 42 44 46 48 "
     ]
    }
   ],
   "source": [
    "no = range(1,50)\n",
    "\n",
    "for i in no:\n",
    "    if i%2==1:\n",
    "        continue\n",
    "    print(i, end=' ')"
   ]
  },
  {
   "cell_type": "code",
   "execution_count": 25,
   "id": "c5f45d89-e646-493e-ba4a-c4201dd37a5c",
   "metadata": {},
   "outputs": [
    {
     "name": "stdout",
     "output_type": "stream",
     "text": [
      "[2, 4, 6, 8, 10, 12, 14, 16, 18, 20, 22, 24, 26, 28]\n"
     ]
    }
   ],
   "source": [
    "no = range(1,50)\n",
    "lst = list()\n",
    "\n",
    "for i in no:\n",
    "    if i%2==1:\n",
    "        continue\n",
    "    if i == 30:\n",
    "        break\n",
    "    lst.append(i)\n",
    "print(lst)"
   ]
  },
  {
   "cell_type": "code",
   "execution_count": 27,
   "id": "a46e63f9-82a8-4bdd-a458-6efd986f01d9",
   "metadata": {},
   "outputs": [
    {
     "name": "stdout",
     "output_type": "stream",
     "text": [
      "2 is even\n",
      "4 is even\n",
      "6 is even\n",
      "8 is even\n",
      "10 is even\n"
     ]
    }
   ],
   "source": [
    "numbers = [1,2,3,4,5,6,7,8,9,10]\n",
    "for num in numbers:\n",
    "    if num % 2 != 0:\n",
    "        continue\n",
    "    print(f\"{num} is even\")"
   ]
  },
  {
   "cell_type": "code",
   "execution_count": 30,
   "id": "5989dab8-fb45-44a1-8b5f-e6f3fa7595e4",
   "metadata": {},
   "outputs": [
    {
     "name": "stdout",
     "output_type": "stream",
     "text": [
      "1 is even\n",
      "2 is odd\n",
      "3 is even\n",
      "4 is odd\n",
      "5 is even\n",
      "6 is odd\n",
      "7 is even\n",
      "8 is odd\n",
      "9 is even\n",
      "10 is odd\n"
     ]
    }
   ],
   "source": [
    "numbers = [1,2,3,4,5,6,7,8,9,10]\n",
    "for num in numbers:\n",
    "    if num % 2 != 0:\n",
    "        print(f\"{num} is even\")\n",
    "    else:\n",
    "        print(f\"{num} is odd\")"
   ]
  },
  {
   "cell_type": "code",
   "execution_count": 29,
   "id": "a6fe8ebd-76ad-4280-9ff7-0ef20ab3f454",
   "metadata": {},
   "outputs": [
    {
     "name": "stdout",
     "output_type": "stream",
     "text": [
      "2\n",
      "4\n",
      "6\n",
      "8\n",
      "10\n"
     ]
    }
   ],
   "source": [
    "num = 0\n",
    "while num < 10:\n",
    "    num +=1\n",
    "    if num % 2 != 0:\n",
    "        continue\n",
    "    print(num)"
   ]
  },
  {
   "cell_type": "code",
   "execution_count": 31,
   "id": "4ccb604f-bd8f-4798-9a47-81084124a1ed",
   "metadata": {},
   "outputs": [
    {
     "name": "stdout",
     "output_type": "stream",
     "text": [
      "5\n",
      "6\n",
      "7\n",
      "8\n",
      "9\n"
     ]
    }
   ],
   "source": [
    "i = 0\n",
    "while i < 20:\n",
    "    i +=1\n",
    "\n",
    "    if i < 5:\n",
    "        continue\n",
    "    if i == 10:\n",
    "        break\n",
    "        \n",
    "    print(i)"
   ]
  },
  {
   "cell_type": "markdown",
   "id": "cbc46d4b-b727-409e-95fd-69c85baef00e",
   "metadata": {},
   "source": [
    "#### **Pass**"
   ]
  },
  {
   "cell_type": "code",
   "execution_count": 35,
   "id": "62921a8a-af1a-4766-8ed7-551889b170c0",
   "metadata": {},
   "outputs": [
    {
     "name": "stdout",
     "output_type": "stream",
     "text": [
      "0\n",
      "1\n",
      "2\n",
      "3\n",
      "4\n"
     ]
    }
   ],
   "source": [
    "for i in range(5):\n",
    "    if i == 3:\n",
    "        pass\n",
    "    print(i)"
   ]
  },
  {
   "cell_type": "code",
   "execution_count": 36,
   "id": "2b43337b-65f8-4909-b416-c495be03872c",
   "metadata": {
    "scrolled": true
   },
   "outputs": [
    {
     "name": "stdout",
     "output_type": "stream",
     "text": [
      "1\n",
      "2\n",
      "3\n",
      "4\n",
      "5\n"
     ]
    }
   ],
   "source": [
    "n = 0\n",
    "while n < 5:\n",
    "    n+=1\n",
    "    if n == 3:\n",
    "        pass\n",
    "    print(n)"
   ]
  },
  {
   "cell_type": "markdown",
   "id": "52e2a55f-771c-4ab1-b8ed-2c1adb348fb2",
   "metadata": {},
   "source": [
    "#### **Comprehension**"
   ]
  },
  {
   "cell_type": "code",
   "execution_count": 4,
   "id": "d69daf31-8c26-4455-bfb8-b160057b84b7",
   "metadata": {},
   "outputs": [
    {
     "name": "stdout",
     "output_type": "stream",
     "text": [
      "p\n"
     ]
    }
   ],
   "source": [
    "if a.lower() == a[::-1].lower():\n",
    "    print(\"p\")\n",
    "else:\n",
    "    print(\"n a p\")"
   ]
  },
  {
   "cell_type": "code",
   "execution_count": 3,
   "id": "4ce028c4-ab6f-4bcf-86fa-f8139f2b8637",
   "metadata": {},
   "outputs": [
    {
     "name": "stdout",
     "output_type": "stream",
     "text": [
      "Palindrome\n"
     ]
    }
   ],
   "source": [
    "# Ternory Operator\n",
    "a = 'Kayak'\n",
    "\n",
    "palindrome  = 'Palindrome' if a.lower() == a[::-1].lower() else 'Not a Palindrome'\n",
    "print(palindrome)"
   ]
  },
  {
   "cell_type": "code",
   "execution_count": 7,
   "id": "77a8de26-1e93-4eb9-97ad-51a8c67e51ff",
   "metadata": {},
   "outputs": [
    {
     "name": "stdin",
     "output_type": "stream",
     "text": [
      " 0\n"
     ]
    },
    {
     "name": "stdout",
     "output_type": "stream",
     "text": [
      "Zero\n"
     ]
    }
   ],
   "source": [
    "a = int(input())\n",
    "\n",
    "no_pro = \"Positive\" if a > 0 else \"Negitive\" if a < 0 else 'Zero'\n",
    "print(no_pro)"
   ]
  },
  {
   "cell_type": "code",
   "execution_count": 8,
   "id": "7a0ec6b3-5cfb-46cd-9f37-57c1f405ccd6",
   "metadata": {},
   "outputs": [
    {
     "name": "stdout",
     "output_type": "stream",
     "text": [
      "[0, 1, 2, 3, 4, 5, 6, 7, 8, 9, 10, 11, 12, 13, 14, 15, 16, 17, 18, 19, 20, 21, 22, 23, 24, 25, 26, 27, 28, 29, 30, 31, 32, 33, 34, 35, 36, 37, 38, 39, 40, 41, 42, 43, 44, 45, 46, 47, 48, 49]\n"
     ]
    }
   ],
   "source": [
    "num = [i for i in range(50)]\n",
    "print(num)"
   ]
  },
  {
   "cell_type": "code",
   "execution_count": 39,
   "id": "50ab3e59-ec0a-48e8-88af-43d5675e0954",
   "metadata": {},
   "outputs": [
    {
     "name": "stdout",
     "output_type": "stream",
     "text": [
      "['even', 'odd', 'even', 'odd', 'even', 'odd', 'even', 'odd', 'even', 'odd']\n"
     ]
    }
   ],
   "source": [
    "even = ['even' if i % 2 == 0 else \"odd\" for i in range(10)]\n",
    "print(even)"
   ]
  },
  {
   "cell_type": "code",
   "execution_count": 9,
   "id": "fd583a9a-5dd4-4d9f-b8d2-8b4037837e17",
   "metadata": {},
   "outputs": [
    {
     "name": "stdout",
     "output_type": "stream",
     "text": [
      "[0, 5, 10, 15, 20]\n"
     ]
    }
   ],
   "source": [
    "div_5 = [y for y in range(21) if y % 5== 0]\n",
    "print(div_5)"
   ]
  },
  {
   "cell_type": "code",
   "execution_count": 10,
   "id": "374ba800-3404-4fb8-bb20-6dd79a938686",
   "metadata": {},
   "outputs": [
    {
     "name": "stdout",
     "output_type": "stream",
     "text": [
      "[1, 4, 9, 16, 25, 36, 49, 64, 81, 100]\n"
     ]
    }
   ],
   "source": [
    "sqrt = [n**2 for n in range(1,11)]\n",
    "print(sqrt)"
   ]
  },
  {
   "cell_type": "code",
   "execution_count": 12,
   "id": "7600e2a2-eef3-48ce-8350-250a1abd846d",
   "metadata": {},
   "outputs": [
    {
     "name": "stdout",
     "output_type": "stream",
     "text": [
      "{'1', '7', '9', '3', '2', '5', '8', '4', '6', '0'}\n"
     ]
    }
   ],
   "source": [
    "str1 = 'one 1, two 2, three 3, four 4, five 5, six 6, seven 7, eight 8, nine 9, ten 10'\n",
    "number = set([no for no in str1 if no.isdigit()])\n",
    "print(number)"
   ]
  },
  {
   "cell_type": "code",
   "execution_count": 13,
   "id": "fef70842-b2b4-4050-8f75-dd399a2ba4ac",
   "metadata": {},
   "outputs": [],
   "source": [
    "##### **Tuple Comprehension**"
   ]
  },
  {
   "cell_type": "code",
   "execution_count": 18,
   "id": "240ff916-8654-4d98-90e6-995baba41b54",
   "metadata": {},
   "outputs": [
    {
     "name": "stdout",
     "output_type": "stream",
     "text": [
      "(1, 8, 27, 64, 125, 216, 343, 512, 729, 1000)\n"
     ]
    }
   ],
   "source": [
    "cube = tuple(i**3 for i in range(1,11))\n",
    "print(cube)"
   ]
  },
  {
   "cell_type": "code",
   "execution_count": 20,
   "id": "77fc4aef-5d75-49ff-a9ba-3f12fad04e62",
   "metadata": {},
   "outputs": [
    {
     "name": "stdout",
     "output_type": "stream",
     "text": [
      "(0, 2, 4, 6, 8)\n"
     ]
    }
   ],
   "source": [
    "numbers = (range(10))\n",
    "even = tuple(even for even in numbers if even % 2 ==0)\n",
    "print(even)"
   ]
  },
  {
   "cell_type": "code",
   "execution_count": 21,
   "id": "b6d06258-e144-467c-9392-08a04f541412",
   "metadata": {},
   "outputs": [
    {
     "name": "stdout",
     "output_type": "stream",
     "text": [
      "{'Mercury': 'M', 'Venus': 'V', 'Earth': 'E', 'Mars': 'M', 'Jupiter': 'J', 'Saturn': 'S', 'Uranus': 'U', 'Neptune': 'N'}\n"
     ]
    }
   ],
   "source": [
    "##### *Dictonary comprehension**\n",
    "\n",
    "planets = ['Mercury', 'Venus', 'Earth', 'Mars', 'Jupiter', 'Saturn', 'Uranus', 'Neptune']\n",
    "\n",
    "planet_Initial = {planet : planet[0] for planet in planets}\n",
    "print(planet_Initial)"
   ]
  },
  {
   "cell_type": "code",
   "execution_count": 26,
   "id": "d4a93d7d-e3e7-4dd4-80b1-a5e5984551bd",
   "metadata": {},
   "outputs": [
    {
     "name": "stdout",
     "output_type": "stream",
     "text": [
      "{'Jupiter': 'J', 'Mercury': 'M', 'Neptune': 'N', 'Saturn': 'S', 'Uranus': 'U', 'Venus': 'V'}\n"
     ]
    }
   ],
   "source": [
    "planets = ['Mercury', 'Venus', 'Earth', 'Mars', 'Jupiter', 'Saturn', 'Uranus', 'Neptune']\n",
    "\n",
    "planet_Initial = {planet : planet[0] for planet in sorted(planets) if planet != 'Earth' and planet!='Mars'}\n",
    "print(planet_Initial)"
   ]
  },
  {
   "cell_type": "code",
   "execution_count": 32,
   "id": "d03ee45f-7760-4e37-bbaa-f86ba63eab09",
   "metadata": {},
   "outputs": [
    {
     "data": {
      "text/plain": [
       "{1: 'odd',\n",
       " 2: 'Even',\n",
       " 3: 'odd',\n",
       " 4: 'Even',\n",
       " 5: 'odd',\n",
       " 6: 'Even',\n",
       " 7: 'odd',\n",
       " 8: 'Even',\n",
       " 9: 'odd',\n",
       " 10: 'Even'}"
      ]
     },
     "execution_count": 32,
     "metadata": {},
     "output_type": "execute_result"
    }
   ],
   "source": [
    "even1 = {i : \"Even\" if i % 2 ==0 else \"odd\" for i in range(1,11)}\n",
    "even1"
   ]
  },
  {
   "cell_type": "code",
   "execution_count": 29,
   "id": "3addcdf0-d2de-4bb9-b340-d6fe96132404",
   "metadata": {},
   "outputs": [
    {
     "data": {
      "text/plain": [
       "{1: 1, 2: 4, 3: 9, 4: 16, 5: 25, 6: 36, 7: 49, 8: 64, 9: 81, 10: 100}"
      ]
     },
     "execution_count": 29,
     "metadata": {},
     "output_type": "execute_result"
    }
   ],
   "source": [
    "double  = {i:i*i for i in range(1,11)}\n",
    "double"
   ]
  },
  {
   "cell_type": "code",
   "execution_count": 34,
   "id": "d955d8a3-bab8-4049-a73b-6b5e34fa39f5",
   "metadata": {},
   "outputs": [],
   "source": [
    "##### **set Comprehension**"
   ]
  },
  {
   "cell_type": "code",
   "execution_count": 27,
   "id": "397d73f9-87b1-4df1-9324-e23a3047d698",
   "metadata": {},
   "outputs": [
    {
     "name": "stdout",
     "output_type": "stream",
     "text": [
      "{'4 :\"Even\"', '6 :\"Even\"', '7 : \"odd\"', '8 :\"Even\"', '9 : \"odd\"', '5 : \"odd\"', '1 : \"odd\"', '3 : \"odd\"', '2 :\"Even\"', '10 :\"Even\"'}\n"
     ]
    }
   ],
   "source": [
    "even  = {f\"{i} :\\\"Even\\\"\" if i % 2 ==0 else f\"{i} : \\\"odd\\\"\" for i in range(1,11)}\n",
    "print(even)"
   ]
  },
  {
   "cell_type": "code",
   "execution_count": 33,
   "id": "1754af4d-d9b6-4fee-9d3f-b49167905612",
   "metadata": {},
   "outputs": [
    {
     "data": {
      "text/plain": [
       "set"
      ]
     },
     "execution_count": 33,
     "metadata": {},
     "output_type": "execute_result"
    }
   ],
   "source": [
    "type(even)"
   ]
  },
  {
   "cell_type": "code",
   "execution_count": 35,
   "id": "e2f5ac84-1a54-4e05-9d12-dd2fa638d3f8",
   "metadata": {},
   "outputs": [
    {
     "name": "stdout",
     "output_type": "stream",
     "text": [
      "{0, 1, 2, 3, 4, 5, 6, 7, 8, 9, 10, 11, 12, 13, 14, 15, 16, 17, 18, 19, 20, 21, 22, 23, 24, 25, 26, 27, 28, 29, 30, 31, 32, 33, 34, 35, 36, 37, 38, 39, 40, 41, 42, 43, 44, 45, 46, 47, 48, 49}\n"
     ]
    }
   ],
   "source": [
    "number = {i for i in range(50)}\n",
    "print(number)"
   ]
  },
  {
   "cell_type": "markdown",
   "id": "652a2959-907e-47a0-b1e6-d702f430e8a3",
   "metadata": {
    "jp-MarkdownHeadingCollapsed": true
   },
   "source": [
    "## **Functions**"
   ]
  },
  {
   "cell_type": "markdown",
   "id": "0ea7de8c-19c8-4be3-bfd5-1dfd1a4c803c",
   "metadata": {},
   "source": [
    "```\n",
    "def Function_Name(Parameter/Arguments):\n",
    "    return parameter1 + paramenter2\n",
    "Function_Name(1,2)\n",
    "```"
   ]
  },
  {
   "cell_type": "code",
   "execution_count": 2,
   "id": "19158537-abab-4e03-af95-dbca3d55a7d7",
   "metadata": {},
   "outputs": [],
   "source": [
    "def addition(x,y):\n",
    "    result = x+y\n",
    "    print(result)"
   ]
  },
  {
   "cell_type": "code",
   "execution_count": 3,
   "id": "eef8d81e-9457-45cd-90c8-fe819b8eeda8",
   "metadata": {},
   "outputs": [
    {
     "name": "stdout",
     "output_type": "stream",
     "text": [
      "29\n"
     ]
    }
   ],
   "source": [
    "addition(14,15)"
   ]
  },
  {
   "cell_type": "code",
   "execution_count": 4,
   "id": "34612f8e-a692-46b4-a40f-e3d3a20e30cf",
   "metadata": {},
   "outputs": [
    {
     "name": "stdout",
     "output_type": "stream",
     "text": [
      "30\n"
     ]
    }
   ],
   "source": [
    "addition(21,9)"
   ]
  },
  {
   "cell_type": "code",
   "execution_count": 5,
   "id": "3ed3f501-3f4d-4802-857c-89608bf075df",
   "metadata": {},
   "outputs": [],
   "source": [
    "def addition1(x,y):\n",
    "    return x+y"
   ]
  },
  {
   "cell_type": "code",
   "execution_count": 6,
   "id": "14bd6c0d-af04-4309-b2da-b44d61fd05a1",
   "metadata": {},
   "outputs": [
    {
     "data": {
      "text/plain": [
       "29"
      ]
     },
     "execution_count": 6,
     "metadata": {},
     "output_type": "execute_result"
    }
   ],
   "source": [
    "addition1(15,14)"
   ]
  },
  {
   "cell_type": "code",
   "execution_count": 7,
   "id": "130f40a9-1082-45ab-894b-0b66625c5fd9",
   "metadata": {},
   "outputs": [],
   "source": [
    "def div2(list1):\n",
    "    for num in list1:\n",
    "        if num % 2 == 0:\n",
    "            return 'Div By 2'\n",
    "        else:\n",
    "            return 'Not Div By 2'"
   ]
  },
  {
   "cell_type": "code",
   "execution_count": 8,
   "id": "b66a1c87-bdff-4c05-9305-def195e5ae6a",
   "metadata": {},
   "outputs": [
    {
     "data": {
      "text/plain": [
       "'Not Div By 2'"
      ]
     },
     "execution_count": 8,
     "metadata": {},
     "output_type": "execute_result"
    }
   ],
   "source": [
    "div2([1,2,3,4,5,6,7,8,9])"
   ]
  },
  {
   "cell_type": "code",
   "execution_count": 10,
   "id": "75ead23c-bae2-417c-a446-6fd4c234ea8f",
   "metadata": {},
   "outputs": [],
   "source": [
    "def div21(list1):\n",
    "    for num in list1:\n",
    "        if num % 2 == 0:\n",
    "            print('Div By 2')\n",
    "        else:\n",
    "            print('Not Div By 2')"
   ]
  },
  {
   "cell_type": "code",
   "execution_count": 11,
   "id": "7d7854b5-f16b-485a-b023-09078b76f596",
   "metadata": {},
   "outputs": [
    {
     "name": "stdout",
     "output_type": "stream",
     "text": [
      "Not Div By 2\n",
      "Div By 2\n",
      "Not Div By 2\n",
      "Div By 2\n",
      "Not Div By 2\n",
      "Div By 2\n",
      "Not Div By 2\n",
      "Div By 2\n",
      "Not Div By 2\n"
     ]
    }
   ],
   "source": [
    "div21([1,2,3,4,5,6,7,8,9])"
   ]
  },
  {
   "cell_type": "code",
   "execution_count": 14,
   "id": "27e3fdf9-b45f-4103-a05e-1b75ba4cf459",
   "metadata": {},
   "outputs": [
    {
     "data": {
      "text/plain": [
       "'Palindrom'"
      ]
     },
     "execution_count": 14,
     "metadata": {},
     "output_type": "execute_result"
    }
   ],
   "source": [
    "lst = ['Madam', 'Kayak', 'Gadag', 'Malayalam','list']\n",
    "\n",
    "def palindrom(lst):\n",
    "    for str1 in lst:\n",
    "        if str1.lower() == str1[::-1].lower():\n",
    "            return \"Palindrom\"\n",
    "        else:\n",
    "            return \"Not a Palindrom\"\n",
    "\n",
    "palindrom(lst)"
   ]
  },
  {
   "cell_type": "code",
   "execution_count": 23,
   "id": "e500330f-d918-462b-b964-c563b2efaf51",
   "metadata": {},
   "outputs": [],
   "source": [
    "def string_length(str1):\n",
    "    if len(str1) < 10:\n",
    "        return f'\\\"{str1}\\\" -> \\\"Short\\\"'\n",
    "    else:\n",
    "        return f'\\\"{str1}\\\" -> \\\"long\\\"'"
   ]
  },
  {
   "cell_type": "code",
   "execution_count": 24,
   "id": "b4bf2158-0a6a-4493-b6b2-584631e1f951",
   "metadata": {},
   "outputs": [
    {
     "name": "stdin",
     "output_type": "stream",
     "text": [
      "Enter a String:  hello, this string very long\n"
     ]
    },
    {
     "data": {
      "text/plain": [
       "'\"hello, this string very long\" -> \"long\"'"
      ]
     },
     "execution_count": 24,
     "metadata": {},
     "output_type": "execute_result"
    }
   ],
   "source": [
    "string = input(\"Enter a String: \")\n",
    "string_length(string)"
   ]
  },
  {
   "cell_type": "code",
   "execution_count": 12,
   "id": "24fe69a9-4b72-47b3-9ac1-db1bd19fe802",
   "metadata": {},
   "outputs": [
    {
     "name": "stdout",
     "output_type": "stream",
     "text": [
      "* ** *** **** ***** "
     ]
    }
   ],
   "source": [
    "for i in range(1,6):\n",
    "    x = '*'\n",
    "    x = x*(0+i)\n",
    "    print(f'{x}', end=' ')"
   ]
  },
  {
   "cell_type": "code",
   "execution_count": 38,
   "id": "0801eb9c-7f83-49d0-8db3-b87f0400a0e5",
   "metadata": {},
   "outputs": [],
   "source": [
    "def invert_trangle(n):\n",
    "    for i in range(1,n):\n",
    "        x = '*'\n",
    "        x = x*(n-i)\n",
    "        print(f'{x}')"
   ]
  },
  {
   "cell_type": "code",
   "execution_count": 39,
   "id": "82050595-566c-4d2a-a565-248dc79362f7",
   "metadata": {},
   "outputs": [
    {
     "name": "stdout",
     "output_type": "stream",
     "text": [
      "*********\n",
      "********\n",
      "*******\n",
      "******\n",
      "*****\n",
      "****\n",
      "***\n",
      "**\n",
      "*\n"
     ]
    }
   ],
   "source": [
    "invert_trangle(10)"
   ]
  },
  {
   "cell_type": "code",
   "execution_count": 40,
   "id": "e43d5b6a-8881-4af2-8c3f-fc988939390e",
   "metadata": {},
   "outputs": [],
   "source": [
    "def even_odd(numbers):\n",
    "    return ['enev' if i % 2 == 0 else 'odd' for i in numbers]"
   ]
  },
  {
   "cell_type": "code",
   "execution_count": 41,
   "id": "3ac9b411-0101-4f5b-bd54-13f7dd5cbb51",
   "metadata": {},
   "outputs": [
    {
     "data": {
      "text/plain": [
       "['odd', 'enev', 'odd', 'enev', 'odd', 'enev', 'odd', 'enev', 'odd']"
      ]
     },
     "execution_count": 41,
     "metadata": {},
     "output_type": "execute_result"
    }
   ],
   "source": [
    "even_odd(range(1,10))"
   ]
  },
  {
   "cell_type": "code",
   "execution_count": 42,
   "id": "e3f4db1e-5f26-4970-bdb3-f0d90df4dd48",
   "metadata": {},
   "outputs": [
    {
     "data": {
      "text/plain": [
       "'Hello Ash'"
      ]
     },
     "execution_count": 42,
     "metadata": {},
     "output_type": "execute_result"
    }
   ],
   "source": [
    "def greet(name):\n",
    "    return f\"Hello {name}\"\n",
    "\n",
    "greet(\"Ash\")"
   ]
  },
  {
   "cell_type": "code",
   "execution_count": 43,
   "id": "fd237449-3684-463f-98b8-742fae16ddb9",
   "metadata": {},
   "outputs": [
    {
     "data": {
      "text/plain": [
       "(4, 8)"
      ]
     },
     "execution_count": 43,
     "metadata": {},
     "output_type": "execute_result"
    }
   ],
   "source": [
    "def sqcb(n):\n",
    "    return n**2, n**3\n",
    "\n",
    "sqcb(2)"
   ]
  },
  {
   "cell_type": "code",
   "execution_count": 46,
   "id": "81030a54-c2c6-466c-9d49-45b767d8255b",
   "metadata": {},
   "outputs": [
    {
     "data": {
      "text/plain": [
       "'Leap Year'"
      ]
     },
     "execution_count": 46,
     "metadata": {},
     "output_type": "execute_result"
    }
   ],
   "source": [
    "def leap_year(year):\n",
    "    if (year%4==0 and year % 100 != 0) or (year%400 == 0):\n",
    "        return 'Leap Year'\n",
    "    else:\n",
    "        return 'Not a Leap Year'\n",
    "leap_year(2024)"
   ]
  },
  {
   "cell_type": "code",
   "execution_count": 47,
   "id": "697050cc-0bb0-4734-b6c0-8d6344459c46",
   "metadata": {},
   "outputs": [
    {
     "data": {
      "text/plain": [
       "'Not a Leap Year'"
      ]
     },
     "execution_count": 47,
     "metadata": {},
     "output_type": "execute_result"
    }
   ],
   "source": [
    "leap_year(1998)"
   ]
  },
  {
   "cell_type": "code",
   "execution_count": 48,
   "id": "3f893615-2cee-40c2-a2c3-312e288bb0cb",
   "metadata": {},
   "outputs": [
    {
     "data": {
      "text/plain": [
       "'Leap Year'"
      ]
     },
     "execution_count": 48,
     "metadata": {},
     "output_type": "execute_result"
    }
   ],
   "source": [
    "leap_year(2000)"
   ]
  },
  {
   "cell_type": "code",
   "execution_count": 2,
   "id": "fc03daba-ec1d-42e7-9920-e5ee9fe19af7",
   "metadata": {},
   "outputs": [
    {
     "data": {
      "text/plain": [
       "1"
      ]
     },
     "execution_count": 2,
     "metadata": {},
     "output_type": "execute_result"
    }
   ],
   "source": [
    "def mod_5(x):\n",
    "    return x % 5\n",
    "mod_5(11)"
   ]
  },
  {
   "cell_type": "code",
   "execution_count": 11,
   "id": "cc6e54a5-d3cd-4f12-8c6c-3fa0e71959cd",
   "metadata": {},
   "outputs": [
    {
     "name": "stdout",
     "output_type": "stream",
     "text": [
      "The Mode Of 5\t18\n"
     ]
    }
   ],
   "source": [
    "print('The Mode Of 5',\n",
    "    max(100,51,18, key=mod_5), sep='\\t')"
   ]
  },
  {
   "cell_type": "code",
   "execution_count": 7,
   "id": "acc69774-c1b7-4bc1-b11d-627d3b28cfa9",
   "metadata": {},
   "outputs": [
    {
     "name": "stdout",
     "output_type": "stream",
     "text": [
      "Prints the values to a stream, or to sys.stdout by default.\n",
      "\n",
      "  sep\n",
      "    string inserted between values, default a space.\n",
      "  end\n",
      "    string appended after the last value, default a newline.\n",
      "  file\n",
      "    a file-like object (stream); defaults to the current sys.stdout.\n",
      "  flush\n",
      "    whether to forcibly flush the stream.\n"
     ]
    }
   ],
   "source": [
    "print(print.__doc__)"
   ]
  },
  {
   "cell_type": "code",
   "execution_count": 5,
   "id": "f60e6de5-4f50-4dbb-8e03-4f16d75edb05",
   "metadata": {},
   "outputs": [
    {
     "data": {
      "text/plain": [
       "5"
      ]
     },
     "execution_count": 5,
     "metadata": {},
     "output_type": "execute_result"
    }
   ],
   "source": [
    "lst = [5,5,6,7,5,6,7,5]\n",
    "\n",
    "from statistics import mode\n",
    "\n",
    "mode(lst)"
   ]
  },
  {
   "cell_type": "markdown",
   "id": "632be515-374b-459b-8148-04521d76b2b5",
   "metadata": {},
   "source": [
    "#### **Doc String**"
   ]
  },
  {
   "cell_type": "code",
   "execution_count": 13,
   "id": "7453507e-08b5-44ac-a1ca-0d1546c8333b",
   "metadata": {},
   "outputs": [
    {
     "name": "stdout",
     "output_type": "stream",
     "text": [
      "Return the most common data point from discrete or nominal data.\n",
      "\n",
      "``mode`` assumes discrete data, and returns a single value. This is the\n",
      "standard treatment of the mode as commonly taught in schools:\n",
      "\n",
      "    >>> mode([1, 1, 2, 3, 3, 3, 3, 4])\n",
      "    3\n",
      "\n",
      "This also works with nominal (non-numeric) data:\n",
      "\n",
      "    >>> mode([\"red\", \"blue\", \"blue\", \"red\", \"green\", \"red\", \"red\"])\n",
      "    'red'\n",
      "\n",
      "If there are multiple modes with same frequency, return the first one\n",
      "encountered:\n",
      "\n",
      "    >>> mode(['red', 'red', 'green', 'blue', 'blue'])\n",
      "    'red'\n",
      "\n",
      "If *data* is empty, ``mode``, raises StatisticsError.\n",
      "\n",
      "\n"
     ]
    }
   ],
   "source": [
    "print(mode.__doc__)"
   ]
  },
  {
   "cell_type": "code",
   "execution_count": 16,
   "id": "3f412b2a-7aa8-4a3f-a287-3fcf1c68013f",
   "metadata": {},
   "outputs": [
    {
     "data": {
      "text/plain": [
       "5"
      ]
     },
     "execution_count": 16,
     "metadata": {},
     "output_type": "execute_result"
    }
   ],
   "source": [
    "def most_frequent(lst):\n",
    "    '''Return the most common data point from discrete or nominal data.'''\n",
    "    return max(set(lst), key=lst.count)\n",
    "most_frequent(lst)"
   ]
  },
  {
   "cell_type": "code",
   "execution_count": 17,
   "id": "1e6f3ca0-19f0-40f1-a6ad-a275ecb3565f",
   "metadata": {},
   "outputs": [
    {
     "data": {
      "text/plain": [
       "'Return the most common data point from discrete or nominal data.'"
      ]
     },
     "execution_count": 17,
     "metadata": {},
     "output_type": "execute_result"
    }
   ],
   "source": [
    "most_frequent.__doc__"
   ]
  },
  {
   "cell_type": "code",
   "execution_count": 18,
   "id": "f35732f3-ba72-4048-aa7e-3f4b4a959857",
   "metadata": {},
   "outputs": [
    {
     "data": {
      "text/plain": [
       "1225"
      ]
     },
     "execution_count": 18,
     "metadata": {},
     "output_type": "execute_result"
    }
   ],
   "source": [
    "numbers = list(range(50))\n",
    "sum(numbers)"
   ]
  },
  {
   "cell_type": "code",
   "execution_count": 20,
   "id": "33ce0708-9b27-4f5c-8d19-6bd10a736042",
   "metadata": {},
   "outputs": [
    {
     "name": "stdout",
     "output_type": "stream",
     "text": [
      "Return the sum of a 'start' value (default: 0) plus an iterable of numbers\n",
      "\n",
      "When the iterable is empty, return the start value.\n",
      "This function is intended specifically for use with numeric values and may\n",
      "reject non-numeric types.\n"
     ]
    }
   ],
   "source": [
    "print(sum.__doc__)"
   ]
  },
  {
   "cell_type": "code",
   "execution_count": 25,
   "id": "67d0c1c1-3fb4-4564-a5fb-b80e52ef4982",
   "metadata": {},
   "outputs": [
    {
     "data": {
      "text/plain": [
       "['ArithmeticError',\n",
       " 'AssertionError',\n",
       " 'AttributeError',\n",
       " 'BaseException',\n",
       " 'BaseExceptionGroup',\n",
       " 'BlockingIOError',\n",
       " 'BrokenPipeError',\n",
       " 'BufferError',\n",
       " 'BytesWarning',\n",
       " 'ChildProcessError',\n",
       " 'ConnectionAbortedError',\n",
       " 'ConnectionError',\n",
       " 'ConnectionRefusedError',\n",
       " 'ConnectionResetError',\n",
       " 'DeprecationWarning',\n",
       " 'EOFError',\n",
       " 'Ellipsis',\n",
       " 'EncodingWarning',\n",
       " 'EnvironmentError',\n",
       " 'Exception',\n",
       " 'ExceptionGroup',\n",
       " 'False',\n",
       " 'FileExistsError',\n",
       " 'FileNotFoundError',\n",
       " 'FloatingPointError',\n",
       " 'FutureWarning',\n",
       " 'GeneratorExit',\n",
       " 'IOError',\n",
       " 'ImportError',\n",
       " 'ImportWarning',\n",
       " 'IndentationError',\n",
       " 'IndexError',\n",
       " 'InterruptedError',\n",
       " 'IsADirectoryError',\n",
       " 'KeyError',\n",
       " 'KeyboardInterrupt',\n",
       " 'LookupError',\n",
       " 'MemoryError',\n",
       " 'ModuleNotFoundError',\n",
       " 'NameError',\n",
       " 'None',\n",
       " 'NotADirectoryError',\n",
       " 'NotImplemented',\n",
       " 'NotImplementedError',\n",
       " 'OSError',\n",
       " 'OverflowError',\n",
       " 'PendingDeprecationWarning',\n",
       " 'PermissionError',\n",
       " 'ProcessLookupError',\n",
       " 'PythonFinalizationError',\n",
       " 'RecursionError',\n",
       " 'ReferenceError',\n",
       " 'ResourceWarning',\n",
       " 'RuntimeError',\n",
       " 'RuntimeWarning',\n",
       " 'StopAsyncIteration',\n",
       " 'StopIteration',\n",
       " 'SyntaxError',\n",
       " 'SyntaxWarning',\n",
       " 'SystemError',\n",
       " 'SystemExit',\n",
       " 'TabError',\n",
       " 'TimeoutError',\n",
       " 'True',\n",
       " 'TypeError',\n",
       " 'UnboundLocalError',\n",
       " 'UnicodeDecodeError',\n",
       " 'UnicodeEncodeError',\n",
       " 'UnicodeError',\n",
       " 'UnicodeTranslateError',\n",
       " 'UnicodeWarning',\n",
       " 'UserWarning',\n",
       " 'ValueError',\n",
       " 'Warning',\n",
       " 'WindowsError',\n",
       " 'ZeroDivisionError',\n",
       " '_IncompleteInputError',\n",
       " '__IPYTHON__',\n",
       " '__build_class__',\n",
       " '__debug__',\n",
       " '__doc__',\n",
       " '__import__',\n",
       " '__loader__',\n",
       " '__name__',\n",
       " '__package__',\n",
       " '__spec__',\n",
       " 'abs',\n",
       " 'aiter',\n",
       " 'all',\n",
       " 'anext',\n",
       " 'any',\n",
       " 'ascii',\n",
       " 'bin',\n",
       " 'bool',\n",
       " 'breakpoint',\n",
       " 'bytearray',\n",
       " 'bytes',\n",
       " 'callable',\n",
       " 'chr',\n",
       " 'classmethod',\n",
       " 'compile',\n",
       " 'complex',\n",
       " 'copyright',\n",
       " 'credits',\n",
       " 'delattr',\n",
       " 'dict',\n",
       " 'dir',\n",
       " 'display',\n",
       " 'divmod',\n",
       " 'enumerate',\n",
       " 'eval',\n",
       " 'exec',\n",
       " 'execfile',\n",
       " 'filter',\n",
       " 'float',\n",
       " 'format',\n",
       " 'frozenset',\n",
       " 'get_ipython',\n",
       " 'getattr',\n",
       " 'globals',\n",
       " 'hasattr',\n",
       " 'hash',\n",
       " 'help',\n",
       " 'hex',\n",
       " 'id',\n",
       " 'input',\n",
       " 'int',\n",
       " 'isinstance',\n",
       " 'issubclass',\n",
       " 'iter',\n",
       " 'len',\n",
       " 'license',\n",
       " 'list',\n",
       " 'locals',\n",
       " 'map',\n",
       " 'max',\n",
       " 'memoryview',\n",
       " 'min',\n",
       " 'next',\n",
       " 'object',\n",
       " 'oct',\n",
       " 'open',\n",
       " 'ord',\n",
       " 'pow',\n",
       " 'print',\n",
       " 'property',\n",
       " 'range',\n",
       " 'repr',\n",
       " 'reversed',\n",
       " 'round',\n",
       " 'runfile',\n",
       " 'set',\n",
       " 'setattr',\n",
       " 'slice',\n",
       " 'sorted',\n",
       " 'staticmethod',\n",
       " 'str',\n",
       " 'sum',\n",
       " 'super',\n",
       " 'tuple',\n",
       " 'type',\n",
       " 'vars',\n",
       " 'zip']"
      ]
     },
     "execution_count": 25,
     "metadata": {},
     "output_type": "execute_result"
    }
   ],
   "source": [
    "dir(__builtin__)"
   ]
  },
  {
   "cell_type": "markdown",
   "id": "973a7533-8569-4071-ae0d-1f74486f27c1",
   "metadata": {},
   "source": [
    "#### **Local Variable**"
   ]
  },
  {
   "cell_type": "code",
   "execution_count": 41,
   "id": "0b44f936-7aa9-479d-8831-dc43c2d7eaee",
   "metadata": {},
   "outputs": [
    {
     "name": "stdout",
     "output_type": "stream",
     "text": [
      "10\n"
     ]
    },
    {
     "ename": "NameError",
     "evalue": "name 't' is not defined",
     "output_type": "error",
     "traceback": [
      "\u001b[1;31m---------------------------------------------------------------------------\u001b[0m",
      "\u001b[1;31mNameError\u001b[0m                                 Traceback (most recent call last)",
      "Cell \u001b[1;32mIn[41], line 5\u001b[0m\n\u001b[0;32m      3\u001b[0m     \u001b[38;5;28mprint\u001b[39m(t)\n\u001b[0;32m      4\u001b[0m func()\n\u001b[1;32m----> 5\u001b[0m \u001b[38;5;28mprint\u001b[39m(\u001b[43mt\u001b[49m)\n",
      "\u001b[1;31mNameError\u001b[0m: name 't' is not defined"
     ]
    }
   ],
   "source": [
    "def func():\n",
    "    t = 10 # Local Veriable\n",
    "    print(t)\n",
    "func()\n",
    "print(t)"
   ]
  },
  {
   "cell_type": "code",
   "execution_count": 31,
   "id": "939cfaae-6ec2-4def-b7c3-e833d770420b",
   "metadata": {},
   "outputs": [
    {
     "name": "stdout",
     "output_type": "stream",
     "text": [
      "20\n",
      "20\n"
     ]
    }
   ],
   "source": [
    "y = 20\n",
    "\n",
    "def func1():\n",
    "    print(y)\n",
    "func1()\n",
    "print(y)"
   ]
  },
  {
   "cell_type": "code",
   "execution_count": 35,
   "id": "92cbfcb6-7d04-4f54-98e4-94f7c605899a",
   "metadata": {},
   "outputs": [
    {
     "name": "stdout",
     "output_type": "stream",
     "text": [
      "40\n",
      "40\n"
     ]
    }
   ],
   "source": [
    "z = 30\n",
    "\n",
    "def my_function():\n",
    "    global z\n",
    "    z+=10\n",
    "    print(z)\n",
    "my_function()\n",
    "print(z)"
   ]
  },
  {
   "cell_type": "code",
   "execution_count": 40,
   "id": "3a2d89cb-2043-4426-90d3-76abc55c6cb1",
   "metadata": {},
   "outputs": [
    {
     "name": "stdout",
     "output_type": "stream",
     "text": [
      "Inner Function 10\n",
      "Outer Function 10\n"
     ]
    }
   ],
   "source": [
    "def outer_functio():\n",
    "    r = 5\n",
    "\n",
    "    def inner_function():\n",
    "        nonlocal r\n",
    "        r+=5\n",
    "        print('Inner Function',r)\n",
    "\n",
    "    inner_function()\n",
    "    print('Outer Function', r)\n",
    "outer_functio()"
   ]
  },
  {
   "cell_type": "markdown",
   "id": "b11b61c0-806b-474c-ad04-86c2e309b30c",
   "metadata": {},
   "source": [
    "#### ** *arg and **kwarg ** "
   ]
  },
  {
   "cell_type": "code",
   "execution_count": 46,
   "id": "241f6869-26fc-473a-a49a-810b7ebd37f2",
   "metadata": {},
   "outputs": [
    {
     "data": {
      "text/plain": [
       "22"
      ]
     },
     "execution_count": 46,
     "metadata": {},
     "output_type": "execute_result"
    }
   ],
   "source": [
    "def sum1(number):\n",
    "    return sum(number)\n",
    "sum1((10, 12))"
   ]
  },
  {
   "cell_type": "code",
   "execution_count": 43,
   "id": "e7d35624-6ec3-412c-96f6-07d405784238",
   "metadata": {},
   "outputs": [
    {
     "data": {
      "text/plain": [
       "141"
      ]
     },
     "execution_count": 43,
     "metadata": {},
     "output_type": "execute_result"
    }
   ],
   "source": [
    "def sum1(*number):\n",
    "    return sum(number)\n",
    "sum1(10,20,15,16,80)"
   ]
  },
  {
   "cell_type": "code",
   "execution_count": 45,
   "id": "7763aa54-a9d7-467f-9bfe-77ca871cc1db",
   "metadata": {},
   "outputs": [
    {
     "data": {
      "text/plain": [
       "'Python is High Leve Language'"
      ]
     },
     "execution_count": 45,
     "metadata": {},
     "output_type": "execute_result"
    }
   ],
   "source": [
    "def string_concat(*str1, sep=' '):\n",
    "    return sep.join(str1)\n",
    "\n",
    "string_concat(\"Python\" ,\"is\", \"High Leve Language\")"
   ]
  },
  {
   "cell_type": "code",
   "execution_count": 50,
   "id": "e653623d-2d1b-453b-81ab-53b5a57c15ff",
   "metadata": {},
   "outputs": [
    {
     "name": "stdout",
     "output_type": "stream",
     "text": [
      "10\n",
      "20\n",
      "20\n",
      "30\n",
      "40\n",
      "50\n"
     ]
    }
   ],
   "source": [
    "def dev_10(*num):\n",
    "    for i in num:\n",
    "        if i % 10 == 0:\n",
    "            print(i)\n",
    "\n",
    "dev_10(10,20,15,20,30,40,50,81)"
   ]
  },
  {
   "cell_type": "code",
   "execution_count": 51,
   "id": "0c608b60-07d7-41b1-a48e-e8b9b26cafce",
   "metadata": {},
   "outputs": [
    {
     "name": "stdout",
     "output_type": "stream",
     "text": [
      "0\n",
      "10\n",
      "20\n",
      "30\n",
      "40\n",
      "50\n",
      "60\n",
      "70\n",
      "80\n",
      "90\n",
      "100\n"
     ]
    }
   ],
   "source": [
    "dev_10(*range(101))"
   ]
  },
  {
   "cell_type": "code",
   "execution_count": 53,
   "id": "750486e9-76d7-4977-a1a6-25eb41a97873",
   "metadata": {},
   "outputs": [
    {
     "name": "stdout",
     "output_type": "stream",
     "text": [
      "A 1\n",
      "b 2\n",
      "c 3\n"
     ]
    }
   ],
   "source": [
    "dic = {'A': 1, 'b':2, 'c':3}\n",
    "for i, j in dic.items():\n",
    "    print(i, j)"
   ]
  },
  {
   "cell_type": "code",
   "execution_count": 57,
   "id": "e9b29c5b-2136-41e4-871a-3c53e4a56576",
   "metadata": {},
   "outputs": [
    {
     "name": "stdout",
     "output_type": "stream",
     "text": [
      "name : Ash\n",
      "Location : Blore\n",
      "Phone_number : 123456789\n"
     ]
    }
   ],
   "source": [
    "def display_info(**names):\n",
    "    for key, value in names.items():\n",
    "        print(f\"{key} : {value}\")\n",
    "\n",
    "display_info(name = 'Ash', Location='Blore', Phone_number = 123456789)"
   ]
  },
  {
   "cell_type": "code",
   "execution_count": 60,
   "id": "a017720f-c5a6-4866-92f4-b930aaf42552",
   "metadata": {},
   "outputs": [
    {
     "name": "stdout",
     "output_type": "stream",
     "text": [
      "2 : 4\n",
      "3 : 9\n",
      "4 : 16\n",
      "5 : 25\n"
     ]
    }
   ],
   "source": [
    "def sqrt(**no):\n",
    "    for a, b in no.items():\n",
    "        print(f\"{b} : {b**2}\")\n",
    "\n",
    "sqrt(a=2,b=3,c=4,d=5)\n",
    "    "
   ]
  },
  {
   "cell_type": "markdown",
   "id": "ea32bd44-2ef0-4d5e-84a7-b46085c3c25d",
   "metadata": {},
   "source": [
    "#### **Lambda**\n",
    "```var = lambda parameter ... : expression```"
   ]
  },
  {
   "cell_type": "code",
   "execution_count": 2,
   "id": "6b11122b-21a6-465f-93bd-ca82fe41a035",
   "metadata": {},
   "outputs": [],
   "source": [
    "add = lambda x, y : x + y"
   ]
  },
  {
   "cell_type": "code",
   "execution_count": 3,
   "id": "6ce22764-72e8-4f5b-992a-27f220fed6c8",
   "metadata": {},
   "outputs": [
    {
     "data": {
      "text/plain": [
       "25"
      ]
     },
     "execution_count": 3,
     "metadata": {},
     "output_type": "execute_result"
    }
   ],
   "source": [
    "add(10,15)"
   ]
  },
  {
   "cell_type": "code",
   "execution_count": 5,
   "id": "f0aa6081-f03c-4320-801d-55247c2ed153",
   "metadata": {},
   "outputs": [
    {
     "data": {
      "text/plain": [
       "27"
      ]
     },
     "execution_count": 5,
     "metadata": {},
     "output_type": "execute_result"
    }
   ],
   "source": [
    "cube = lambda y : y**3\n",
    "cube(3)"
   ]
  },
  {
   "cell_type": "code",
   "execution_count": 6,
   "id": "fd58bea4-66bf-46df-8523-59e54bf84289",
   "metadata": {},
   "outputs": [
    {
     "data": {
      "text/plain": [
       "27"
      ]
     },
     "execution_count": 6,
     "metadata": {},
     "output_type": "execute_result"
    }
   ],
   "source": [
    "def cube(c): return c**3\n",
    "cube(3)"
   ]
  },
  {
   "cell_type": "code",
   "execution_count": 10,
   "id": "d34a0eab-e635-459c-8b16-edcafc41e926",
   "metadata": {},
   "outputs": [
    {
     "name": "stdout",
     "output_type": "stream",
     "text": [
      "[2, 4, 6, 8, 10, 12, 14, 16, 18, 20, 22, 24, 26, 28, 30, 32, 34, 36, 38, 40, 42, 44, 46, 48] "
     ]
    }
   ],
   "source": [
    "div_2 = lambda k : [i for i in k if i % 2 == 0 ]\n",
    "print(div_2(range(1,50)), end=' ')"
   ]
  },
  {
   "cell_type": "code",
   "execution_count": 13,
   "id": "f2419764-978f-4dc2-a297-dc9f8b9ba24e",
   "metadata": {},
   "outputs": [
    {
     "name": "stdin",
     "output_type": "stream",
     "text": [
      "Enter a String Depak, Rohan, Haftab, Yova\n"
     ]
    },
    {
     "data": {
      "text/plain": [
       "'String Long'"
      ]
     },
     "execution_count": 13,
     "metadata": {},
     "output_type": "execute_result"
    }
   ],
   "source": [
    "str2 = input(\"Enter a String\")\n",
    "string_lenght = lambda str2 : \"String is Short\" if len(str2) < 10 else \"String is Long\"\n",
    "string_lenght(str2)"
   ]
  },
  {
   "cell_type": "code",
   "execution_count": 17,
   "id": "2d820446-5d2e-4a2b-b9d1-02603c349c20",
   "metadata": {},
   "outputs": [
    {
     "data": {
      "text/plain": [
       "4"
      ]
     },
     "execution_count": 17,
     "metadata": {},
     "output_type": "execute_result"
    }
   ],
   "source": [
    "def increment(n):\n",
    "    return lambda x : x + n\n",
    "\n",
    "fun = increment(1)\n",
    "fun(3)"
   ]
  },
  {
   "cell_type": "code",
   "execution_count": 18,
   "id": "2266515e-f825-45c2-a86b-baaade4fc3cd",
   "metadata": {},
   "outputs": [],
   "source": [
    "#### **Map**"
   ]
  },
  {
   "cell_type": "code",
   "execution_count": 24,
   "id": "783a7050-e195-4281-a36e-fc4a198412d7",
   "metadata": {},
   "outputs": [],
   "source": [
    "def sqrt1(n):\n",
    "    return n**2"
   ]
  },
  {
   "cell_type": "code",
   "execution_count": 27,
   "id": "e96552be-eb30-4f88-b919-670335cb55d7",
   "metadata": {},
   "outputs": [
    {
     "name": "stdout",
     "output_type": "stream",
     "text": [
      "[1, 4, 9, 16, 25, 36, 49, 64, 81, 100, 121, 144, 169, 196, 225, 256, 289, 324, 361] "
     ]
    }
   ],
   "source": [
    "sqrt = list(map(sqrt1, range(1,20)))\n",
    "print(sqrt, end=' ')"
   ]
  },
  {
   "cell_type": "code",
   "execution_count": 28,
   "id": "41c2ca42-4e4f-416a-9589-45c68ef83228",
   "metadata": {},
   "outputs": [
    {
     "name": "stdout",
     "output_type": "stream",
     "text": [
      "[1, 4, 9, 16, 25, 36, 49, 64, 81, 100] "
     ]
    }
   ],
   "source": [
    "list1 = [1,2,3,4,5,6,7,8,9,10]\n",
    "\n",
    "sqt = list(map(lambda m : m**2,  list1))\n",
    "print(sqt, end=' ')"
   ]
  },
  {
   "cell_type": "code",
   "execution_count": 29,
   "id": "24a94100-2acd-499d-b85a-a247830476d2",
   "metadata": {},
   "outputs": [
    {
     "data": {
      "text/plain": [
       "['Its a Palindrome', 'Its not a Palindrom', 'Its a Palindrome']"
      ]
     },
     "execution_count": 29,
     "metadata": {},
     "output_type": "execute_result"
    }
   ],
   "source": [
    " char = ['Madam', 'Listen', 'Malayalam']\n",
    "\n",
    "palindrom = list(map(lambda s : 'Its a Palindrome' if s.lower() == s[::-1].lower() else \"Its not a Palindrom\", char))\n",
    "palindrom"
   ]
  },
  {
   "cell_type": "code",
   "execution_count": 30,
   "id": "b6de8eec-13ce-4c0c-b3b5-8e33bc177975",
   "metadata": {},
   "outputs": [
    {
     "name": "stdout",
     "output_type": "stream",
     "text": [
      "['Ash', 'Alice', 'Bob', 'Swith']\n"
     ]
    }
   ],
   "source": [
    "name  = ['Ash', 'alice', 'bob', 'swith']\n",
    "capitalize = list(map(lambda na : na.capitalize(), name))\n",
    "print(capitalize)"
   ]
  },
  {
   "cell_type": "code",
   "execution_count": 32,
   "id": "c14e25f3-ec8a-4eab-a4e7-476a9da5bdf6",
   "metadata": {},
   "outputs": [
    {
     "data": {
      "text/plain": [
       "[5, 7, 9]"
      ]
     },
     "execution_count": 32,
     "metadata": {},
     "output_type": "execute_result"
    }
   ],
   "source": [
    "a = [1,2,3]\n",
    "b = [4,5,6]\n",
    "\n",
    "sums = list(map(lambda x,y : x+y, a, b))\n",
    "sums"
   ]
  },
  {
   "cell_type": "code",
   "execution_count": 34,
   "id": "8c437c51-cb11-4cce-9833-dbed71bcb920",
   "metadata": {},
   "outputs": [
    {
     "data": {
      "text/plain": [
       "[0, ' ', 2, ' ', 4, ' ', 6, ' ', 8, ' ']"
      ]
     },
     "execution_count": 34,
     "metadata": {},
     "output_type": "execute_result"
    }
   ],
   "source": [
    "l = range(10)\n",
    "\n",
    "even  = list(map(lambda x :x if x%2==0 else \" \", l))\n",
    "even"
   ]
  },
  {
   "cell_type": "code",
   "execution_count": 35,
   "id": "86f8ff27-bac3-4938-b288-2c8f1ee41ded",
   "metadata": {},
   "outputs": [],
   "source": [
    "#### **Filter**"
   ]
  },
  {
   "cell_type": "code",
   "execution_count": 37,
   "id": "df875a5d-bc7b-46f9-9919-b6de71b90edf",
   "metadata": {},
   "outputs": [
    {
     "data": {
      "text/plain": [
       "(0, 2, 4, 6, 8)"
      ]
     },
     "execution_count": 37,
     "metadata": {},
     "output_type": "execute_result"
    }
   ],
   "source": [
    "l = range(10)\n",
    "\n",
    "even  = tuple(filter(lambda x :x%2==0, l))\n",
    "even"
   ]
  },
  {
   "cell_type": "code",
   "execution_count": 39,
   "id": "8643cdcf-50c7-46fb-9907-27f1974b1189",
   "metadata": {},
   "outputs": [
    {
     "name": "stdout",
     "output_type": "stream",
     "text": [
      "[21, 22, 23, 24, 25, 26, 27, 28, 29, 30, 31, 32, 33, 34, 35, 36, 37, 38, 39, 40, 41, 42, 43, 44, 45, 46, 47, 48, 49]"
     ]
    }
   ],
   "source": [
    "lst = list(range(50))\n",
    "\n",
    "Greater_20 = list(filter(lambda x : x>20, lst))\n",
    "print(Greater_20, end='')"
   ]
  },
  {
   "cell_type": "code",
   "execution_count": 44,
   "id": "e6c09f1b-1452-4f16-9433-8b80949b0d6c",
   "metadata": {},
   "outputs": [
    {
     "data": {
      "text/plain": [
       "['Alice', 'Ankit']"
      ]
     },
     "execution_count": 44,
     "metadata": {},
     "output_type": "execute_result"
    }
   ],
   "source": [
    "#Filter strings starting with 'A'\n",
    "names = ['Alice', 'Bob', 'Ankit', 'Charlie']\n",
    "\n",
    "staring_A = list(filter(lambda s : s.startswith('A'), names))\n",
    "staring_A"
   ]
  },
  {
   "cell_type": "code",
   "execution_count": 47,
   "id": "458c7edc-ca7b-40ea-856f-14e2a5b69207",
   "metadata": {},
   "outputs": [
    {
     "name": "stdout",
     "output_type": "stream",
     "text": [
      "[1, 2] "
     ]
    }
   ],
   "source": [
    "#Filter positive numbers\n",
    "numbers = [-2, -1, 0, 1, 2]\n",
    "\n",
    "positive = list(filter(lambda p : p>0, numbers))\n",
    "print(positive, end=' ')"
   ]
  },
  {
   "cell_type": "code",
   "execution_count": 48,
   "id": "a564a388-5d3a-4aed-b996-825f6af29125",
   "metadata": {},
   "outputs": [],
   "source": [
    "#### **Reduce**"
   ]
  },
  {
   "cell_type": "code",
   "execution_count": 1,
   "id": "efdf5100-4961-4184-aa8e-ad57d469361c",
   "metadata": {},
   "outputs": [],
   "source": [
    "from functools import reduce"
   ]
  },
  {
   "cell_type": "code",
   "execution_count": null,
   "id": "27e02b98-e780-43bb-8286-b21064b57c4e",
   "metadata": {},
   "outputs": [],
   "source": [
    "# pip install functools"
   ]
  },
  {
   "cell_type": "code",
   "execution_count": 2,
   "id": "131fb16b-7b00-421f-b9f3-a73477c37705",
   "metadata": {},
   "outputs": [
    {
     "data": {
      "text/plain": [
       "15"
      ]
     },
     "execution_count": 2,
     "metadata": {},
     "output_type": "execute_result"
    }
   ],
   "source": [
    "a = [1,2,3,4,5]\n",
    "\n",
    "sums = reduce(lambda x, y: x+y, a)\n",
    "sums"
   ]
  },
  {
   "cell_type": "code",
   "execution_count": 4,
   "id": "43159bf8-27d0-410d-aa0c-d33d3ccfe4be",
   "metadata": {},
   "outputs": [
    {
     "data": {
      "text/plain": [
       "120"
      ]
     },
     "execution_count": 4,
     "metadata": {},
     "output_type": "execute_result"
    }
   ],
   "source": [
    "product = reduce(lambda x, y : x*y, a)\n",
    "product"
   ]
  },
  {
   "cell_type": "code",
   "execution_count": 7,
   "id": "460cc71a-9145-45b9-bbb8-61abd3a14950",
   "metadata": {},
   "outputs": [
    {
     "name": "stdout",
     "output_type": "stream",
     "text": [
      "75\n"
     ]
    }
   ],
   "source": [
    "numbers = [14,2,18,75,65,3,21]\n",
    "\n",
    "maximum = reduce(lambda x, y: x if x > y else y, numbers)\n",
    "print(maximum)"
   ]
  },
  {
   "cell_type": "code",
   "execution_count": 9,
   "id": "b53093b2-f11e-4e69-9787-3c0fdc889626",
   "metadata": {},
   "outputs": [
    {
     "name": "stdout",
     "output_type": "stream",
     "text": [
      "python is awesome\n"
     ]
    }
   ],
   "source": [
    "words = ['python', 'is', 'awesome']\n",
    "\n",
    "sentence = reduce(lambda x, y: x + ' '+ y, words)\n",
    "print(sentence)"
   ]
  },
  {
   "cell_type": "code",
   "execution_count": 10,
   "id": "3676b70a-22bf-4f34-aef7-358628f3e8fa",
   "metadata": {},
   "outputs": [],
   "source": [
    "### **Excercise Question**"
   ]
  },
  {
   "cell_type": "code",
   "execution_count": 12,
   "id": "d0a366e3-ba2f-437a-8238-9c213335a2bd",
   "metadata": {},
   "outputs": [
    {
     "name": "stdout",
     "output_type": "stream",
     "text": [
      "Area of Rectangle is:  150\n"
     ]
    }
   ],
   "source": [
    "# Write a function to calculate area of a rectangle\n",
    "def area_rectangle(hight, width):\n",
    "    area = hight * width\n",
    "    return area\n",
    "\n",
    "result = area_rectangle(10, 15)\n",
    "print(\"Area of Rectangle is: \", result)"
   ]
  },
  {
   "cell_type": "code",
   "execution_count": 37,
   "id": "ff7d3245-d26f-46d4-92d1-61158d6961ab",
   "metadata": {},
   "outputs": [
    {
     "name": "stdout",
     "output_type": "stream",
     "text": [
      "24 is not a prime number\n"
     ]
    }
   ],
   "source": [
    "# write a function to find the Prime number\n",
    "\n",
    "def is_prime(number):\n",
    "    if number < 2:\n",
    "        print(\"the numbris not a prime number\")\n",
    "    else:\n",
    "        prime = 'Prime'\n",
    "        for i in range(2,number):\n",
    "            if number % i == 0:\n",
    "                prime = \"Not Prime\"\n",
    "                break\n",
    "        if prime == 'Prime':\n",
    "            print(number, \"is a prime number\")\n",
    "        else:\n",
    "            print(number, \"is not a prime number\")\n",
    "is_prime(24)"
   ]
  },
  {
   "cell_type": "code",
   "execution_count": 24,
   "id": "f1ea60b4-324a-498a-bbbe-a427f6639326",
   "metadata": {},
   "outputs": [
    {
     "data": {
      "text/plain": [
       "'Jone Doe'"
      ]
     },
     "execution_count": 24,
     "metadata": {},
     "output_type": "execute_result"
    }
   ],
   "source": [
    "# write a function to concatinate first and last name\n",
    "\n",
    "con_name = lambda first, last : f\"{first} {last}\"\n",
    "con_name(\"Jone\", \"Doe\")"
   ]
  },
  {
   "cell_type": "code",
   "execution_count": 34,
   "id": "73c35b2b-e560-4841-95cb-0154aa93fd23",
   "metadata": {},
   "outputs": [
    {
     "name": "stdout",
     "output_type": "stream",
     "text": [
      "[4, 25, 64, 81, 36, 9] "
     ]
    }
   ],
   "source": [
    "#write a function to calculate a square of numbers in a list\n",
    "\n",
    "num = [2,5,8,9,6,3]\n",
    "\n",
    "square = list(map(lambda x :x**2, num))\n",
    "print(square, end=' ')"
   ]
  },
  {
   "cell_type": "code",
   "execution_count": 32,
   "id": "20c41bd6-5b81-42e2-859c-f3df0ef4e62d",
   "metadata": {},
   "outputs": [
    {
     "name": "stdout",
     "output_type": "stream",
     "text": [
      "[1.4142135623730951, 2.23606797749979, 2.8284271247461903, 3.0, 2.449489742783178, 1.7320508075688772] "
     ]
    }
   ],
   "source": [
    "import math\n",
    "num = [2,5,8,9,6,3]\n",
    "square_root = list(map(math.sqrt, num))\n",
    "print(square_root, end=' ')"
   ]
  },
  {
   "cell_type": "code",
   "execution_count": 55,
   "id": "731bde44-215c-42ab-9302-ef03a0923512",
   "metadata": {},
   "outputs": [
    {
     "name": "stdout",
     "output_type": "stream",
     "text": [
      "25\n"
     ]
    }
   ],
   "source": [
    "def find_missing_digit(equation):\n",
    "    equation = equation.replace(\" \", \"\").lower()\n",
    "\n",
    "    for i in range(150):\n",
    "        test_eq = equation.replace('x', str(i))\n",
    "        l, r = test_eq.split('=')\n",
    "        if eval(l) == eval(r):\n",
    "            return i\n",
    "\n",
    "print(find_missing_digit('5 + 20 = x'))    # eval: it will do the string math calculation"
   ]
  },
  {
   "cell_type": "code",
   "execution_count": 56,
   "id": "51f39d16-b44b-4e2f-944c-7610745af3f8",
   "metadata": {},
   "outputs": [
    {
     "name": "stdout",
     "output_type": "stream",
     "text": [
      "str(object='') -> str\n",
      "str(bytes_or_buffer[, encoding[, errors]]) -> str\n",
      "\n",
      "Create a new string object from the given object. If encoding or\n",
      "errors is specified, then the object must expose a data buffer\n",
      "that will be decoded using the given encoding and error handler.\n",
      "Otherwise, returns the result of object.__str__() (if defined)\n",
      "or repr(object).\n",
      "encoding defaults to 'utf-8'.\n",
      "errors defaults to 'strict'.\n"
     ]
    }
   ],
   "source": [
    "print(str.__doc__)"
   ]
  },
  {
   "cell_type": "code",
   "execution_count": 60,
   "id": "3eb483e2-69a4-433a-8520-8ddb4f1225b8",
   "metadata": {},
   "outputs": [
    {
     "data": {
      "text/plain": [
       "['__add__',\n",
       " '__class__',\n",
       " '__contains__',\n",
       " '__delattr__',\n",
       " '__dir__',\n",
       " '__doc__',\n",
       " '__eq__',\n",
       " '__format__',\n",
       " '__ge__',\n",
       " '__getattribute__',\n",
       " '__getitem__',\n",
       " '__getnewargs__',\n",
       " '__getstate__',\n",
       " '__gt__',\n",
       " '__hash__',\n",
       " '__init__',\n",
       " '__init_subclass__',\n",
       " '__iter__',\n",
       " '__le__',\n",
       " '__len__',\n",
       " '__lt__',\n",
       " '__mod__',\n",
       " '__mul__',\n",
       " '__ne__',\n",
       " '__new__',\n",
       " '__reduce__',\n",
       " '__reduce_ex__',\n",
       " '__repr__',\n",
       " '__rmod__',\n",
       " '__rmul__',\n",
       " '__setattr__',\n",
       " '__sizeof__',\n",
       " '__str__',\n",
       " '__subclasshook__',\n",
       " 'capitalize',\n",
       " 'casefold',\n",
       " 'center',\n",
       " 'count',\n",
       " 'encode',\n",
       " 'endswith',\n",
       " 'expandtabs',\n",
       " 'find',\n",
       " 'format',\n",
       " 'format_map',\n",
       " 'index',\n",
       " 'isalnum',\n",
       " 'isalpha',\n",
       " 'isascii',\n",
       " 'isdecimal',\n",
       " 'isdigit',\n",
       " 'isidentifier',\n",
       " 'islower',\n",
       " 'isnumeric',\n",
       " 'isprintable',\n",
       " 'isspace',\n",
       " 'istitle',\n",
       " 'isupper',\n",
       " 'join',\n",
       " 'ljust',\n",
       " 'lower',\n",
       " 'lstrip',\n",
       " 'maketrans',\n",
       " 'partition',\n",
       " 'removeprefix',\n",
       " 'removesuffix',\n",
       " 'replace',\n",
       " 'rfind',\n",
       " 'rindex',\n",
       " 'rjust',\n",
       " 'rpartition',\n",
       " 'rsplit',\n",
       " 'rstrip',\n",
       " 'split',\n",
       " 'splitlines',\n",
       " 'startswith',\n",
       " 'strip',\n",
       " 'swapcase',\n",
       " 'title',\n",
       " 'translate',\n",
       " 'upper',\n",
       " 'zfill']"
      ]
     },
     "execution_count": 60,
     "metadata": {},
     "output_type": "execute_result"
    }
   ],
   "source": [
    "dir(str)"
   ]
  },
  {
   "cell_type": "markdown",
   "id": "039afa3a-9a89-45b7-847b-f200170f2016",
   "metadata": {},
   "source": [
    "## **Questions**"
   ]
  },
  {
   "cell_type": "code",
   "execution_count": 1,
   "id": "60c6bfe2-b34a-4bab-9844-735809a9fa94",
   "metadata": {},
   "outputs": [
    {
     "data": {
      "text/plain": [
       "30"
      ]
     },
     "execution_count": 1,
     "metadata": {},
     "output_type": "execute_result"
    }
   ],
   "source": [
    "# 1.Sum of Two Numbers: Write a function add_numbers(a, b) that returns the sum of two numbers.\n",
    "\n",
    "def add_numbers(a, b):\n",
    "    return a+b\n",
    "\n",
    "add_numbers(15, 15)"
   ]
  },
  {
   "cell_type": "code",
   "execution_count": 2,
   "id": "0853b5f5-8f33-4dce-9615-0fee38d949f9",
   "metadata": {},
   "outputs": [
    {
     "data": {
      "text/plain": [
       "True"
      ]
     },
     "execution_count": 2,
     "metadata": {},
     "output_type": "execute_result"
    }
   ],
   "source": [
    "# 2.Even or Odd: Write a function is_even(n) that takes an integer n and returns True if it's even and False if it's odd.\n",
    "\n",
    "def is_even(n):\n",
    "    if n % 2 == 0:\n",
    "        return True\n",
    "    else:\n",
    "        False\n",
    "\n",
    "is_even(10)"
   ]
  },
  {
   "cell_type": "code",
   "execution_count": null,
   "id": "f102692f-d5f8-4172-8845-fae47081e569",
   "metadata": {},
   "outputs": [],
   "source": []
  }
 ],
 "metadata": {
  "kernelspec": {
   "display_name": "Python 3 (ipykernel)",
   "language": "python",
   "name": "python3"
  },
  "language_info": {
   "codemirror_mode": {
    "name": "ipython",
    "version": 3
   },
   "file_extension": ".py",
   "mimetype": "text/x-python",
   "name": "python",
   "nbconvert_exporter": "python",
   "pygments_lexer": "ipython3",
   "version": "3.13.1"
  }
 },
 "nbformat": 4,
 "nbformat_minor": 5
}
