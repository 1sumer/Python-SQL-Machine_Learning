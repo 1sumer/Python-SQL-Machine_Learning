{
 "cells": [
  {
   "cell_type": "markdown",
   "id": "9c3419c8",
   "metadata": {},
   "source": [
    "## **What is pynarrative?**\n",
    "pynarrative is a Python library used for automated storytelling, data-driven narration, and automated report generation. It helps convert data insights into human-readable narratives — ideal for dashboards, reports, and analytics tools."
   ]
  },
  {
   "cell_type": "markdown",
   "id": "3986ba8f",
   "metadata": {},
   "source": [
    "### **Learning Path (Topics Covered)**\n",
    "\n",
    "Here’s a complete roadmap to learn pynarrative from scratch:\n",
    "\n",
    "1. Installation & Setup\n",
    "2. Understanding Narrative Templates\n",
    "3. Working with DataFrames\n",
    "4. Descriptive Narratives\n",
    "5. Comparative Narratives\n",
    "6. Time Series Narratives\n",
    "7. Custom Templates & Dynamic Text\n",
    "8. Generating Reports\n",
    "9. Integrating with Dashboards (like Streamlit)\n",
    "10. Project: Auto-Narrated Sales Report"
   ]
  },
  {
   "cell_type": "markdown",
   "id": "3045640a",
   "metadata": {},
   "source": [
    "1. Installation & Setup"
   ]
  },
  {
   "cell_type": "code",
   "execution_count": 22,
   "id": "4d48b853",
   "metadata": {},
   "outputs": [],
   "source": [
    "#pip install pynarrative"
   ]
  },
  {
   "cell_type": "code",
   "execution_count": 58,
   "id": "33323562",
   "metadata": {},
   "outputs": [],
   "source": [
    "import pynarrative as pn\n",
    "import pandas as pd\n",
    "import altair as alt"
   ]
  },
  {
   "cell_type": "code",
   "execution_count": 23,
   "id": "1b525fd1",
   "metadata": {},
   "outputs": [],
   "source": [
    "class Narrative:\n",
    "    def __init__(self, template):\n",
    "        self.template = template\n",
    "\n",
    "    def render(self, variables):\n",
    "        return self.template.format(**variables)"
   ]
  },
  {
   "cell_type": "markdown",
   "id": "78600362",
   "metadata": {},
   "source": [
    "2. Understanding Narrative Templates\n",
    "\n",
    "Purpose:\n",
    "Templates act as reusable sentence structures that insert variables dynamically."
   ]
  },
  {
   "cell_type": "code",
   "execution_count": 24,
   "id": "5d0c0fdd",
   "metadata": {},
   "outputs": [
    {
     "name": "stdout",
     "output_type": "stream",
     "text": [
      "The total sales were $120000 in North region.\n"
     ]
    }
   ],
   "source": [
    "template = \"The total sales were ${total_sales} in {region} region.\"\n",
    "variables = {\n",
    "    \"total_sales\": 120000,\n",
    "    \"region\": \"North\"\n",
    "}\n",
    "\n",
    "narrative = Narrative(template)\n",
    "print(narrative.render(variables))"
   ]
  },
  {
   "cell_type": "markdown",
   "id": "9a5e26ba",
   "metadata": {},
   "source": [
    "3. Working with DataFrames\n",
    "\n",
    "pynarrative works beautifully with pandas."
   ]
  },
  {
   "cell_type": "code",
   "execution_count": 50,
   "id": "070ac4a9",
   "metadata": {},
   "outputs": [],
   "source": [
    "data = {\n",
    "    \"Region\": [\"North\", \"South\", \"East\", \"West\"],\n",
    "    \"Sales\": [120000, 95000, 113000, 88000],\n",
    "    \"Profit\": [30000, 18000, 24000, 15000],\n",
    "    \"Month\": [\"Jan\", \"Feb\", \"Mar\", \"Apr\"],\n",
    "    \"Revenue\": [30000, 45000, 50000, 60000]\n",
    "}\n",
    "df = pd.DataFrame(data)"
   ]
  },
  {
   "cell_type": "code",
   "execution_count": 42,
   "id": "4e9c6646",
   "metadata": {},
   "outputs": [
    {
     "name": "stdout",
     "output_type": "stream",
     "text": [
      "Region North made sales worth $120000.\n",
      "Region South made sales worth $95000.\n",
      "Region East made sales worth $113000.\n",
      "Region West made sales worth $88000.\n"
     ]
    }
   ],
   "source": [
    "for _, row in df.iterrows():\n",
    "    template = \"Region {Region} made sales worth ${Sales}.\"\n",
    "    narrative = Narrative(template)\n",
    "    print(narrative.render(row.to_dict()))"
   ]
  },
  {
   "cell_type": "markdown",
   "id": "48aa375c",
   "metadata": {},
   "source": [
    "4. Descriptive Narratives\n",
    "\n",
    "Used for summarizing key metrics."
   ]
  },
  {
   "cell_type": "code",
   "execution_count": 43,
   "id": "abcfa78f",
   "metadata": {},
   "outputs": [
    {
     "name": "stdout",
     "output_type": "stream",
     "text": [
      "Overall, the total sales across all regions were $416000.\n"
     ]
    }
   ],
   "source": [
    "total_sales = df[\"Sales\"].sum()\n",
    "template = \"Overall, the total sales across all regions were ${total_sales}.\"\n",
    "narrative = Narrative(template)\n",
    "print(narrative.render({\"total_sales\": total_sales}))\n"
   ]
  },
  {
   "cell_type": "markdown",
   "id": "7819b201",
   "metadata": {},
   "source": [
    "5. Comparative Narratives\n",
    "\n",
    "Use to compare metrics between regions or time periods."
   ]
  },
  {
   "cell_type": "code",
   "execution_count": 44,
   "id": "3ba9884b",
   "metadata": {},
   "outputs": [
    {
     "name": "stdout",
     "output_type": "stream",
     "text": [
      "North region outperformed South by $25000.\n"
     ]
    }
   ],
   "source": [
    "north = df[df[\"Region\"] == \"North\"][\"Sales\"].values[0]\n",
    "south = df[df[\"Region\"] == \"South\"][\"Sales\"].values[0]\n",
    "\n",
    "template = \"North region outperformed South by ${difference}.\"\n",
    "narrative = Narrative(template)\n",
    "print(narrative.render({\"difference\": north - south}))"
   ]
  },
  {
   "cell_type": "markdown",
   "id": "39d48187",
   "metadata": {},
   "source": [
    "6. Time Series Narratives\n",
    "\n",
    "Used for trend-based storytelling."
   ]
  },
  {
   "cell_type": "code",
   "execution_count": 45,
   "id": "27c378d6",
   "metadata": {},
   "outputs": [
    {
     "name": "stdout",
     "output_type": "stream",
     "text": [
      "From January to March, revenue changed by $30000.\n"
     ]
    }
   ],
   "source": [
    "diff = df[\"Revenue\"].iloc[-1] - df[\"Revenue\"].iloc[0]\n",
    "template = \"From January to March, revenue changed by ${diff}.\"\n",
    "narrative = Narrative(template)\n",
    "print(narrative.render({\"diff\": diff}))"
   ]
  },
  {
   "cell_type": "markdown",
   "id": "2258ec11",
   "metadata": {},
   "source": [
    "7. Custom Templates & Dynamic Text\n",
    "\n",
    "You can write conditional logic to vary the tone or message."
   ]
  },
  {
   "cell_type": "code",
   "execution_count": 46,
   "id": "0aaf9562",
   "metadata": {},
   "outputs": [
    {
     "name": "stdout",
     "output_type": "stream",
     "text": [
      "Great job! North exceeded expectations with $120000.\n",
      "South needs improvement with only $95000.\n",
      "Great job! East exceeded expectations with $113000.\n",
      "West needs improvement with only $88000.\n"
     ]
    }
   ],
   "source": [
    "def create_narrative(row):\n",
    "    if row[\"Sales\"] > 100000:\n",
    "        return Narrative(\"Great job! {Region} exceeded expectations with ${Sales}.\").render(row)\n",
    "    else:\n",
    "        return Narrative(\"{Region} needs improvement with only ${Sales}.\").render(row)\n",
    "\n",
    "for _, row in df.iterrows():\n",
    "    print(create_narrative(row.to_dict()))"
   ]
  },
  {
   "cell_type": "markdown",
   "id": "c26c6cac",
   "metadata": {},
   "source": [
    "8. Generating Reports\n",
    "\n",
    "Combine multiple narratives into a report."
   ]
  },
  {
   "cell_type": "code",
   "execution_count": 47,
   "id": "b7c782d9",
   "metadata": {},
   "outputs": [
    {
     "name": "stdout",
     "output_type": "stream",
     "text": [
      "Total sales: $416000.\n",
      "North had sales of $120000.\n",
      "South had sales of $95000.\n",
      "East had sales of $113000.\n",
      "West had sales of $88000.\n"
     ]
    }
   ],
   "source": [
    "narratives = []\n",
    "narratives.append(Narrative(\"Total sales: ${total}.\").render({\"total\": df[\"Sales\"].sum()}))\n",
    "\n",
    "for _, row in df.iterrows():\n",
    "    narratives.append(Narrative(\"{Region} had sales of ${Sales}.\").render(row.to_dict()))\n",
    "\n",
    "report = \"\\n\".join(narratives)\n",
    "print(report)"
   ]
  },
  {
   "cell_type": "code",
   "execution_count": 53,
   "id": "569b658d",
   "metadata": {},
   "outputs": [
    {
     "name": "stdout",
     "output_type": "stream",
     "text": [
      "North performed excellently with sales of $120000 and profit of $30000.\n",
      "South needs improvement with only $95000 in sales and $18000 in profit.\n",
      "East performed excellently with sales of $113000 and profit of $24000.\n",
      "West needs improvement with only $88000 in sales and $15000 in profit.\n"
     ]
    }
   ],
   "source": [
    "def region_summary(row):\n",
    "    if row[\"Sales\"] >= 100000:\n",
    "        return Narrative(\"{Region} performed excellently with sales of ${Sales} and profit of ${Profit}.\").render(row)\n",
    "    else:\n",
    "        return Narrative(\"{Region} needs improvement with only ${Sales} in sales and ${Profit} in profit.\").render(row)\n",
    "\n",
    "for _, row in df.iterrows():\n",
    "    print(region_summary(row.to_dict()))"
   ]
  },
  {
   "cell_type": "code",
   "execution_count": 59,
   "id": "5190d36a",
   "metadata": {},
   "outputs": [
    {
     "name": "stderr",
     "output_type": "stream",
     "text": [
      "C:\\Users\\Admin\\AppData\\Local\\Temp\\ipykernel_15740\\3946267141.py:9: UserWarning: FigureCanvasAgg is non-interactive, and thus cannot be shown\n",
      "  plt.show()\n"
     ]
    }
   ],
   "source": [
    "import matplotlib.pyplot as plt\n",
    "import seaborn as sns\n",
    "\n",
    "# Bar Plot\n",
    "plt.figure(figsize=(8,5))\n",
    "sns.barplot(x=\"Region\", y=\"Sales\", data=df)\n",
    "plt.title(\"Sales by Region\")\n",
    "plt.tight_layout()\n",
    "plt.show()\n"
   ]
  },
  {
   "cell_type": "code",
   "execution_count": 55,
   "id": "d857877b",
   "metadata": {},
   "outputs": [
    {
     "name": "stdout",
     "output_type": "stream",
     "text": [
      "🔍 The highest sales were in North ($120000), while the lowest were in West ($88000).\n"
     ]
    }
   ],
   "source": [
    "highest = df.loc[df[\"Sales\"].idxmax()]\n",
    "lowest = df.loc[df[\"Sales\"].idxmin()]\n",
    "\n",
    "template = \"🔍 The highest sales were in {Region} (${Sales}), while the lowest were in {Region2} (${Sales2}).\"\n",
    "narrative = Narrative(template)\n",
    "print(narrative.render({\n",
    "    \"Region\": highest[\"Region\"],\n",
    "    \"Sales\": highest[\"Sales\"],\n",
    "    \"Region2\": lowest[\"Region\"],\n",
    "    \"Sales2\": lowest[\"Sales\"]\n",
    "}))\n"
   ]
  },
  {
   "cell_type": "code",
   "execution_count": 57,
   "id": "56816848",
   "metadata": {},
   "outputs": [
    {
     "name": "stdout",
     "output_type": "stream",
     "text": [
      "Total sales across all regions: $416000.\n",
      "Average profit: $21750.0.\n",
      "North performed excellently with sales of $120000 and profit of $30000.\n",
      "South needs improvement with only $95000 in sales and $18000 in profit.\n",
      "East performed excellently with sales of $113000 and profit of $24000.\n",
      "West needs improvement with only $88000 in sales and $15000 in profit.\n",
      "Top-performing region: North ($120000).\n",
      "Lowest-performing region: West ($88000).\n"
     ]
    }
   ],
   "source": [
    "narratives = []\n",
    "\n",
    "# Overall summary\n",
    "total_sales = df[\"Sales\"].sum()\n",
    "avg_profit = df[\"Profit\"].mean()\n",
    "\n",
    "narratives.append(Narrative(\"Total sales across all regions: ${total_sales}.\").render({\"total_sales\": total_sales}))\n",
    "narratives.append(Narrative(\"Average profit: ${avg_profit}.\").render({\"avg_profit\": avg_profit}))\n",
    "\n",
    "# Region-wise\n",
    "for _, row in df.iterrows():\n",
    "    narratives.append(region_summary(row.to_dict()))\n",
    "\n",
    "# Comparison\n",
    "narratives.append(Narrative(\"Top-performing region: {Region} (${Sales}).\").render(highest.to_dict()))\n",
    "narratives.append(Narrative(\"Lowest-performing region: {Region} (${Sales}).\").render(lowest.to_dict()))\n",
    "\n",
    "# Final Report\n",
    "full_report = \"\\n\".join(narratives)\n",
    "print(full_report)"
   ]
  },
  {
   "cell_type": "code",
   "execution_count": 60,
   "id": "519e72e5",
   "metadata": {},
   "outputs": [
    {
     "data": {
      "text/html": [
       "\n",
       "<style>\n",
       "  #altair-viz-e15ab8c93c6c464da1459362dee6b908.vega-embed {\n",
       "    width: 100%;\n",
       "    display: flex;\n",
       "  }\n",
       "\n",
       "  #altair-viz-e15ab8c93c6c464da1459362dee6b908.vega-embed details,\n",
       "  #altair-viz-e15ab8c93c6c464da1459362dee6b908.vega-embed details summary {\n",
       "    position: relative;\n",
       "  }\n",
       "</style>\n",
       "<div id=\"altair-viz-e15ab8c93c6c464da1459362dee6b908\"></div>\n",
       "<script type=\"text/javascript\">\n",
       "  var VEGA_DEBUG = (typeof VEGA_DEBUG == \"undefined\") ? {} : VEGA_DEBUG;\n",
       "  (function(spec, embedOpt){\n",
       "    let outputDiv = document.currentScript.previousElementSibling;\n",
       "    if (outputDiv.id !== \"altair-viz-e15ab8c93c6c464da1459362dee6b908\") {\n",
       "      outputDiv = document.getElementById(\"altair-viz-e15ab8c93c6c464da1459362dee6b908\");\n",
       "    }\n",
       "\n",
       "    const paths = {\n",
       "      \"vega\": \"https://cdn.jsdelivr.net/npm/vega@5?noext\",\n",
       "      \"vega-lib\": \"https://cdn.jsdelivr.net/npm/vega-lib?noext\",\n",
       "      \"vega-lite\": \"https://cdn.jsdelivr.net/npm/vega-lite@5.20.1?noext\",\n",
       "      \"vega-embed\": \"https://cdn.jsdelivr.net/npm/vega-embed@6?noext\",\n",
       "    };\n",
       "\n",
       "    function maybeLoadScript(lib, version) {\n",
       "      var key = `${lib.replace(\"-\", \"\")}_version`;\n",
       "      return (VEGA_DEBUG[key] == version) ?\n",
       "        Promise.resolve(paths[lib]) :\n",
       "        new Promise(function(resolve, reject) {\n",
       "          var s = document.createElement('script');\n",
       "          document.getElementsByTagName(\"head\")[0].appendChild(s);\n",
       "          s.async = true;\n",
       "          s.onload = () => {\n",
       "            VEGA_DEBUG[key] = version;\n",
       "            return resolve(paths[lib]);\n",
       "          };\n",
       "          s.onerror = () => reject(`Error loading script: ${paths[lib]}`);\n",
       "          s.src = paths[lib];\n",
       "        });\n",
       "    }\n",
       "\n",
       "    function showError(err) {\n",
       "      outputDiv.innerHTML = `<div class=\"error\" style=\"color:red;\">${err}</div>`;\n",
       "      throw err;\n",
       "    }\n",
       "\n",
       "    function displayChart(vegaEmbed) {\n",
       "      vegaEmbed(outputDiv, spec, embedOpt)\n",
       "        .catch(err => showError(`Javascript Error: ${err.message}<br>This usually means there's a typo in your chart specification. See the javascript console for the full traceback.`));\n",
       "    }\n",
       "\n",
       "    if(typeof define === \"function\" && define.amd) {\n",
       "      requirejs.config({paths});\n",
       "      let deps = [\"vega-embed\"];\n",
       "      require(deps, displayChart, err => showError(`Error loading script: ${err.message}`));\n",
       "    } else {\n",
       "      maybeLoadScript(\"vega\", \"5\")\n",
       "        .then(() => maybeLoadScript(\"vega-lite\", \"5.20.1\"))\n",
       "        .then(() => maybeLoadScript(\"vega-embed\", \"6\"))\n",
       "        .catch(showError)\n",
       "        .then(() => displayChart(vegaEmbed));\n",
       "    }\n",
       "  })({\"config\": {\"view\": {\"continuousWidth\": 300, \"continuousHeight\": 300}}, \"data\": {\"name\": \"data-81fdf887667aadca580d6905ebf4adbd\"}, \"mark\": {\"type\": \"bar\"}, \"encoding\": {\"color\": {\"field\": \"Region\", \"type\": \"nominal\"}, \"x\": {\"bin\": {\"maxbins\": 10}, \"field\": \"Sales\", \"title\": \"Sales Amount\", \"type\": \"quantitative\"}, \"y\": {\"aggregate\": \"count\", \"type\": \"quantitative\"}}, \"height\": 400, \"title\": \"Sales Distribution by Region\", \"width\": 600, \"$schema\": \"https://vega.github.io/schema/vega-lite/v5.20.1.json\", \"datasets\": {\"data-81fdf887667aadca580d6905ebf4adbd\": [{\"Region\": \"North\", \"Sales\": 120000, \"Profit\": 30000, \"Month\": \"Jan\", \"Revenue\": 30000}, {\"Region\": \"South\", \"Sales\": 95000, \"Profit\": 18000, \"Month\": \"Feb\", \"Revenue\": 45000}, {\"Region\": \"East\", \"Sales\": 113000, \"Profit\": 24000, \"Month\": \"Mar\", \"Revenue\": 50000}, {\"Region\": \"West\", \"Sales\": 88000, \"Profit\": 15000, \"Month\": \"Apr\", \"Revenue\": 60000}]}}, {\"mode\": \"vega-lite\"});\n",
       "</script>"
      ],
      "text/plain": [
       "alt.Chart(...)"
      ]
     },
     "metadata": {},
     "output_type": "display_data"
    }
   ],
   "source": [
    "hist_sales = (\n",
    "    pn.Story(df, width=600)\n",
    "    .mark_bar()\n",
    "    .encode(\n",
    "        alt.X('Sales', bin=alt.Bin(maxbins=10), title='Sales Amount'),\n",
    "        y='count()',\n",
    "        color='Region'\n",
    "    )\n",
    "    .properties(title='Sales Distribution by Region')\n",
    ")\n",
    "\n",
    "hist_sales.show()\n"
   ]
  },
  {
   "cell_type": "code",
   "execution_count": 61,
   "id": "5b63b031",
   "metadata": {},
   "outputs": [
    {
     "data": {
      "text/html": [
       "\n",
       "<style>\n",
       "  #altair-viz-16cc41ca0b374621a395deea3de60020.vega-embed {\n",
       "    width: 100%;\n",
       "    display: flex;\n",
       "  }\n",
       "\n",
       "  #altair-viz-16cc41ca0b374621a395deea3de60020.vega-embed details,\n",
       "  #altair-viz-16cc41ca0b374621a395deea3de60020.vega-embed details summary {\n",
       "    position: relative;\n",
       "  }\n",
       "</style>\n",
       "<div id=\"altair-viz-16cc41ca0b374621a395deea3de60020\"></div>\n",
       "<script type=\"text/javascript\">\n",
       "  var VEGA_DEBUG = (typeof VEGA_DEBUG == \"undefined\") ? {} : VEGA_DEBUG;\n",
       "  (function(spec, embedOpt){\n",
       "    let outputDiv = document.currentScript.previousElementSibling;\n",
       "    if (outputDiv.id !== \"altair-viz-16cc41ca0b374621a395deea3de60020\") {\n",
       "      outputDiv = document.getElementById(\"altair-viz-16cc41ca0b374621a395deea3de60020\");\n",
       "    }\n",
       "\n",
       "    const paths = {\n",
       "      \"vega\": \"https://cdn.jsdelivr.net/npm/vega@5?noext\",\n",
       "      \"vega-lib\": \"https://cdn.jsdelivr.net/npm/vega-lib?noext\",\n",
       "      \"vega-lite\": \"https://cdn.jsdelivr.net/npm/vega-lite@5.20.1?noext\",\n",
       "      \"vega-embed\": \"https://cdn.jsdelivr.net/npm/vega-embed@6?noext\",\n",
       "    };\n",
       "\n",
       "    function maybeLoadScript(lib, version) {\n",
       "      var key = `${lib.replace(\"-\", \"\")}_version`;\n",
       "      return (VEGA_DEBUG[key] == version) ?\n",
       "        Promise.resolve(paths[lib]) :\n",
       "        new Promise(function(resolve, reject) {\n",
       "          var s = document.createElement('script');\n",
       "          document.getElementsByTagName(\"head\")[0].appendChild(s);\n",
       "          s.async = true;\n",
       "          s.onload = () => {\n",
       "            VEGA_DEBUG[key] = version;\n",
       "            return resolve(paths[lib]);\n",
       "          };\n",
       "          s.onerror = () => reject(`Error loading script: ${paths[lib]}`);\n",
       "          s.src = paths[lib];\n",
       "        });\n",
       "    }\n",
       "\n",
       "    function showError(err) {\n",
       "      outputDiv.innerHTML = `<div class=\"error\" style=\"color:red;\">${err}</div>`;\n",
       "      throw err;\n",
       "    }\n",
       "\n",
       "    function displayChart(vegaEmbed) {\n",
       "      vegaEmbed(outputDiv, spec, embedOpt)\n",
       "        .catch(err => showError(`Javascript Error: ${err.message}<br>This usually means there's a typo in your chart specification. See the javascript console for the full traceback.`));\n",
       "    }\n",
       "\n",
       "    if(typeof define === \"function\" && define.amd) {\n",
       "      requirejs.config({paths});\n",
       "      let deps = [\"vega-embed\"];\n",
       "      require(deps, displayChart, err => showError(`Error loading script: ${err.message}`));\n",
       "    } else {\n",
       "      maybeLoadScript(\"vega\", \"5\")\n",
       "        .then(() => maybeLoadScript(\"vega-lite\", \"5.20.1\"))\n",
       "        .then(() => maybeLoadScript(\"vega-embed\", \"6\"))\n",
       "        .catch(showError)\n",
       "        .then(() => displayChart(vegaEmbed));\n",
       "    }\n",
       "  })({\"config\": {\"view\": {\"continuousWidth\": 300, \"continuousHeight\": 300}}, \"data\": {\"name\": \"data-81fdf887667aadca580d6905ebf4adbd\"}, \"mark\": {\"type\": \"bar\"}, \"encoding\": {\"color\": {\"field\": \"Region\", \"type\": \"nominal\"}, \"x\": {\"field\": \"Region\", \"title\": \"Region\", \"type\": \"nominal\"}, \"y\": {\"field\": \"Profit\", \"title\": \"Profit ($)\", \"type\": \"quantitative\"}}, \"height\": 400, \"title\": \"Profit by Region\", \"width\": 600, \"$schema\": \"https://vega.github.io/schema/vega-lite/v5.20.1.json\", \"datasets\": {\"data-81fdf887667aadca580d6905ebf4adbd\": [{\"Region\": \"North\", \"Sales\": 120000, \"Profit\": 30000, \"Month\": \"Jan\", \"Revenue\": 30000}, {\"Region\": \"South\", \"Sales\": 95000, \"Profit\": 18000, \"Month\": \"Feb\", \"Revenue\": 45000}, {\"Region\": \"East\", \"Sales\": 113000, \"Profit\": 24000, \"Month\": \"Mar\", \"Revenue\": 50000}, {\"Region\": \"West\", \"Sales\": 88000, \"Profit\": 15000, \"Month\": \"Apr\", \"Revenue\": 60000}]}}, {\"mode\": \"vega-lite\"});\n",
       "</script>"
      ],
      "text/plain": [
       "alt.Chart(...)"
      ]
     },
     "metadata": {},
     "output_type": "display_data"
    }
   ],
   "source": [
    "bar_profit = (\n",
    "    pn.Story(df, width=600)\n",
    "    .mark_bar()\n",
    "    .encode(\n",
    "        x=alt.X('Region', title='Region'),\n",
    "        y=alt.Y('Profit', title='Profit ($)'),\n",
    "        color='Region'\n",
    "    )\n",
    "    .properties(title='Profit by Region')\n",
    ")\n",
    "\n",
    "bar_profit.show()\n"
   ]
  },
  {
   "cell_type": "code",
   "execution_count": 62,
   "id": "9b5952ed",
   "metadata": {},
   "outputs": [
    {
     "data": {
      "text/html": [
       "\n",
       "<style>\n",
       "  #altair-viz-b3ed403fbf66466baca60cee2e1579e6.vega-embed {\n",
       "    width: 100%;\n",
       "    display: flex;\n",
       "  }\n",
       "\n",
       "  #altair-viz-b3ed403fbf66466baca60cee2e1579e6.vega-embed details,\n",
       "  #altair-viz-b3ed403fbf66466baca60cee2e1579e6.vega-embed details summary {\n",
       "    position: relative;\n",
       "  }\n",
       "</style>\n",
       "<div id=\"altair-viz-b3ed403fbf66466baca60cee2e1579e6\"></div>\n",
       "<script type=\"text/javascript\">\n",
       "  var VEGA_DEBUG = (typeof VEGA_DEBUG == \"undefined\") ? {} : VEGA_DEBUG;\n",
       "  (function(spec, embedOpt){\n",
       "    let outputDiv = document.currentScript.previousElementSibling;\n",
       "    if (outputDiv.id !== \"altair-viz-b3ed403fbf66466baca60cee2e1579e6\") {\n",
       "      outputDiv = document.getElementById(\"altair-viz-b3ed403fbf66466baca60cee2e1579e6\");\n",
       "    }\n",
       "\n",
       "    const paths = {\n",
       "      \"vega\": \"https://cdn.jsdelivr.net/npm/vega@5?noext\",\n",
       "      \"vega-lib\": \"https://cdn.jsdelivr.net/npm/vega-lib?noext\",\n",
       "      \"vega-lite\": \"https://cdn.jsdelivr.net/npm/vega-lite@5.20.1?noext\",\n",
       "      \"vega-embed\": \"https://cdn.jsdelivr.net/npm/vega-embed@6?noext\",\n",
       "    };\n",
       "\n",
       "    function maybeLoadScript(lib, version) {\n",
       "      var key = `${lib.replace(\"-\", \"\")}_version`;\n",
       "      return (VEGA_DEBUG[key] == version) ?\n",
       "        Promise.resolve(paths[lib]) :\n",
       "        new Promise(function(resolve, reject) {\n",
       "          var s = document.createElement('script');\n",
       "          document.getElementsByTagName(\"head\")[0].appendChild(s);\n",
       "          s.async = true;\n",
       "          s.onload = () => {\n",
       "            VEGA_DEBUG[key] = version;\n",
       "            return resolve(paths[lib]);\n",
       "          };\n",
       "          s.onerror = () => reject(`Error loading script: ${paths[lib]}`);\n",
       "          s.src = paths[lib];\n",
       "        });\n",
       "    }\n",
       "\n",
       "    function showError(err) {\n",
       "      outputDiv.innerHTML = `<div class=\"error\" style=\"color:red;\">${err}</div>`;\n",
       "      throw err;\n",
       "    }\n",
       "\n",
       "    function displayChart(vegaEmbed) {\n",
       "      vegaEmbed(outputDiv, spec, embedOpt)\n",
       "        .catch(err => showError(`Javascript Error: ${err.message}<br>This usually means there's a typo in your chart specification. See the javascript console for the full traceback.`));\n",
       "    }\n",
       "\n",
       "    if(typeof define === \"function\" && define.amd) {\n",
       "      requirejs.config({paths});\n",
       "      let deps = [\"vega-embed\"];\n",
       "      require(deps, displayChart, err => showError(`Error loading script: ${err.message}`));\n",
       "    } else {\n",
       "      maybeLoadScript(\"vega\", \"5\")\n",
       "        .then(() => maybeLoadScript(\"vega-lite\", \"5.20.1\"))\n",
       "        .then(() => maybeLoadScript(\"vega-embed\", \"6\"))\n",
       "        .catch(showError)\n",
       "        .then(() => displayChart(vegaEmbed));\n",
       "    }\n",
       "  })({\"config\": {\"view\": {\"continuousWidth\": 300, \"continuousHeight\": 300}}, \"data\": {\"name\": \"data-81fdf887667aadca580d6905ebf4adbd\"}, \"mark\": {\"type\": \"line\", \"point\": true}, \"encoding\": {\"color\": {\"value\": \"steelblue\"}, \"x\": {\"field\": \"Month\", \"sort\": [\"Jan\", \"Feb\", \"Mar\", \"Apr\"], \"type\": \"nominal\"}, \"y\": {\"field\": \"Revenue\", \"title\": \"Revenue ($)\", \"type\": \"quantitative\"}}, \"height\": 400, \"title\": \"Monthly Revenue Trend\", \"width\": 600, \"$schema\": \"https://vega.github.io/schema/vega-lite/v5.20.1.json\", \"datasets\": {\"data-81fdf887667aadca580d6905ebf4adbd\": [{\"Region\": \"North\", \"Sales\": 120000, \"Profit\": 30000, \"Month\": \"Jan\", \"Revenue\": 30000}, {\"Region\": \"South\", \"Sales\": 95000, \"Profit\": 18000, \"Month\": \"Feb\", \"Revenue\": 45000}, {\"Region\": \"East\", \"Sales\": 113000, \"Profit\": 24000, \"Month\": \"Mar\", \"Revenue\": 50000}, {\"Region\": \"West\", \"Sales\": 88000, \"Profit\": 15000, \"Month\": \"Apr\", \"Revenue\": 60000}]}}, {\"mode\": \"vega-lite\"});\n",
       "</script>"
      ],
      "text/plain": [
       "alt.Chart(...)"
      ]
     },
     "metadata": {},
     "output_type": "display_data"
    }
   ],
   "source": [
    "line_revenue = (\n",
    "    pn.Story(df, width=600)\n",
    "    .mark_line(point=True)\n",
    "    .encode(\n",
    "        x=alt.X('Month', sort=[\"Jan\", \"Feb\", \"Mar\", \"Apr\"]),\n",
    "        y=alt.Y('Revenue', title='Revenue ($)'),\n",
    "        color=alt.value('steelblue')\n",
    "    )\n",
    "    .properties(title='Monthly Revenue Trend')\n",
    ")\n",
    "\n",
    "line_revenue.show()\n"
   ]
  },
  {
   "cell_type": "code",
   "execution_count": 63,
   "id": "4178cb72",
   "metadata": {},
   "outputs": [
    {
     "data": {
      "text/html": [
       "\n",
       "<style>\n",
       "  #altair-viz-8760379e027a4440b41455fed4bba584.vega-embed {\n",
       "    width: 100%;\n",
       "    display: flex;\n",
       "  }\n",
       "\n",
       "  #altair-viz-8760379e027a4440b41455fed4bba584.vega-embed details,\n",
       "  #altair-viz-8760379e027a4440b41455fed4bba584.vega-embed details summary {\n",
       "    position: relative;\n",
       "  }\n",
       "</style>\n",
       "<div id=\"altair-viz-8760379e027a4440b41455fed4bba584\"></div>\n",
       "<script type=\"text/javascript\">\n",
       "  var VEGA_DEBUG = (typeof VEGA_DEBUG == \"undefined\") ? {} : VEGA_DEBUG;\n",
       "  (function(spec, embedOpt){\n",
       "    let outputDiv = document.currentScript.previousElementSibling;\n",
       "    if (outputDiv.id !== \"altair-viz-8760379e027a4440b41455fed4bba584\") {\n",
       "      outputDiv = document.getElementById(\"altair-viz-8760379e027a4440b41455fed4bba584\");\n",
       "    }\n",
       "\n",
       "    const paths = {\n",
       "      \"vega\": \"https://cdn.jsdelivr.net/npm/vega@5?noext\",\n",
       "      \"vega-lib\": \"https://cdn.jsdelivr.net/npm/vega-lib?noext\",\n",
       "      \"vega-lite\": \"https://cdn.jsdelivr.net/npm/vega-lite@5.20.1?noext\",\n",
       "      \"vega-embed\": \"https://cdn.jsdelivr.net/npm/vega-embed@6?noext\",\n",
       "    };\n",
       "\n",
       "    function maybeLoadScript(lib, version) {\n",
       "      var key = `${lib.replace(\"-\", \"\")}_version`;\n",
       "      return (VEGA_DEBUG[key] == version) ?\n",
       "        Promise.resolve(paths[lib]) :\n",
       "        new Promise(function(resolve, reject) {\n",
       "          var s = document.createElement('script');\n",
       "          document.getElementsByTagName(\"head\")[0].appendChild(s);\n",
       "          s.async = true;\n",
       "          s.onload = () => {\n",
       "            VEGA_DEBUG[key] = version;\n",
       "            return resolve(paths[lib]);\n",
       "          };\n",
       "          s.onerror = () => reject(`Error loading script: ${paths[lib]}`);\n",
       "          s.src = paths[lib];\n",
       "        });\n",
       "    }\n",
       "\n",
       "    function showError(err) {\n",
       "      outputDiv.innerHTML = `<div class=\"error\" style=\"color:red;\">${err}</div>`;\n",
       "      throw err;\n",
       "    }\n",
       "\n",
       "    function displayChart(vegaEmbed) {\n",
       "      vegaEmbed(outputDiv, spec, embedOpt)\n",
       "        .catch(err => showError(`Javascript Error: ${err.message}<br>This usually means there's a typo in your chart specification. See the javascript console for the full traceback.`));\n",
       "    }\n",
       "\n",
       "    if(typeof define === \"function\" && define.amd) {\n",
       "      requirejs.config({paths});\n",
       "      let deps = [\"vega-embed\"];\n",
       "      require(deps, displayChart, err => showError(`Error loading script: ${err.message}`));\n",
       "    } else {\n",
       "      maybeLoadScript(\"vega\", \"5\")\n",
       "        .then(() => maybeLoadScript(\"vega-lite\", \"5.20.1\"))\n",
       "        .then(() => maybeLoadScript(\"vega-embed\", \"6\"))\n",
       "        .catch(showError)\n",
       "        .then(() => displayChart(vegaEmbed));\n",
       "    }\n",
       "  })({\"config\": {\"view\": {\"continuousWidth\": 300, \"continuousHeight\": 300}}, \"data\": {\"name\": \"data-81fdf887667aadca580d6905ebf4adbd\"}, \"mark\": {\"type\": \"circle\", \"size\": 100}, \"encoding\": {\"color\": {\"field\": \"Region\", \"type\": \"nominal\"}, \"tooltip\": [{\"field\": \"Region\", \"type\": \"nominal\"}, {\"field\": \"Sales\", \"type\": \"quantitative\"}, {\"field\": \"Profit\", \"type\": \"quantitative\"}], \"x\": {\"field\": \"Sales\", \"title\": \"Sales ($)\", \"type\": \"quantitative\"}, \"y\": {\"field\": \"Profit\", \"title\": \"Profit ($)\", \"type\": \"quantitative\"}}, \"height\": 400, \"title\": \"Sales vs Profit by Region\", \"width\": 600, \"$schema\": \"https://vega.github.io/schema/vega-lite/v5.20.1.json\", \"datasets\": {\"data-81fdf887667aadca580d6905ebf4adbd\": [{\"Region\": \"North\", \"Sales\": 120000, \"Profit\": 30000, \"Month\": \"Jan\", \"Revenue\": 30000}, {\"Region\": \"South\", \"Sales\": 95000, \"Profit\": 18000, \"Month\": \"Feb\", \"Revenue\": 45000}, {\"Region\": \"East\", \"Sales\": 113000, \"Profit\": 24000, \"Month\": \"Mar\", \"Revenue\": 50000}, {\"Region\": \"West\", \"Sales\": 88000, \"Profit\": 15000, \"Month\": \"Apr\", \"Revenue\": 60000}]}}, {\"mode\": \"vega-lite\"});\n",
       "</script>"
      ],
      "text/plain": [
       "alt.Chart(...)"
      ]
     },
     "metadata": {},
     "output_type": "display_data"
    }
   ],
   "source": [
    "scatter = (\n",
    "    pn.Story(df, width=600)\n",
    "    .mark_circle(size=100)\n",
    "    .encode(\n",
    "        x=alt.X('Sales', title='Sales ($)'),\n",
    "        y=alt.Y('Profit', title='Profit ($)'),\n",
    "        color='Region',\n",
    "        tooltip=['Region', 'Sales', 'Profit']\n",
    "    )\n",
    "    .properties(title='Sales vs Profit by Region')\n",
    ")\n",
    "\n",
    "scatter.show()\n"
   ]
  },
  {
   "cell_type": "code",
   "execution_count": 72,
   "id": "dcb26c76",
   "metadata": {},
   "outputs": [
    {
     "data": {
      "text/html": [
       "\n",
       "<style>\n",
       "  #altair-viz-4996340d2c5d4ed49fe6af5da94ecd69.vega-embed {\n",
       "    width: 100%;\n",
       "    display: flex;\n",
       "  }\n",
       "\n",
       "  #altair-viz-4996340d2c5d4ed49fe6af5da94ecd69.vega-embed details,\n",
       "  #altair-viz-4996340d2c5d4ed49fe6af5da94ecd69.vega-embed details summary {\n",
       "    position: relative;\n",
       "  }\n",
       "</style>\n",
       "<div id=\"altair-viz-4996340d2c5d4ed49fe6af5da94ecd69\"></div>\n",
       "<script type=\"text/javascript\">\n",
       "  var VEGA_DEBUG = (typeof VEGA_DEBUG == \"undefined\") ? {} : VEGA_DEBUG;\n",
       "  (function(spec, embedOpt){\n",
       "    let outputDiv = document.currentScript.previousElementSibling;\n",
       "    if (outputDiv.id !== \"altair-viz-4996340d2c5d4ed49fe6af5da94ecd69\") {\n",
       "      outputDiv = document.getElementById(\"altair-viz-4996340d2c5d4ed49fe6af5da94ecd69\");\n",
       "    }\n",
       "\n",
       "    const paths = {\n",
       "      \"vega\": \"https://cdn.jsdelivr.net/npm/vega@5?noext\",\n",
       "      \"vega-lib\": \"https://cdn.jsdelivr.net/npm/vega-lib?noext\",\n",
       "      \"vega-lite\": \"https://cdn.jsdelivr.net/npm/vega-lite@5.20.1?noext\",\n",
       "      \"vega-embed\": \"https://cdn.jsdelivr.net/npm/vega-embed@6?noext\",\n",
       "    };\n",
       "\n",
       "    function maybeLoadScript(lib, version) {\n",
       "      var key = `${lib.replace(\"-\", \"\")}_version`;\n",
       "      return (VEGA_DEBUG[key] == version) ?\n",
       "        Promise.resolve(paths[lib]) :\n",
       "        new Promise(function(resolve, reject) {\n",
       "          var s = document.createElement('script');\n",
       "          document.getElementsByTagName(\"head\")[0].appendChild(s);\n",
       "          s.async = true;\n",
       "          s.onload = () => {\n",
       "            VEGA_DEBUG[key] = version;\n",
       "            return resolve(paths[lib]);\n",
       "          };\n",
       "          s.onerror = () => reject(`Error loading script: ${paths[lib]}`);\n",
       "          s.src = paths[lib];\n",
       "        });\n",
       "    }\n",
       "\n",
       "    function showError(err) {\n",
       "      outputDiv.innerHTML = `<div class=\"error\" style=\"color:red;\">${err}</div>`;\n",
       "      throw err;\n",
       "    }\n",
       "\n",
       "    function displayChart(vegaEmbed) {\n",
       "      vegaEmbed(outputDiv, spec, embedOpt)\n",
       "        .catch(err => showError(`Javascript Error: ${err.message}<br>This usually means there's a typo in your chart specification. See the javascript console for the full traceback.`));\n",
       "    }\n",
       "\n",
       "    if(typeof define === \"function\" && define.amd) {\n",
       "      requirejs.config({paths});\n",
       "      let deps = [\"vega-embed\"];\n",
       "      require(deps, displayChart, err => showError(`Error loading script: ${err.message}`));\n",
       "    } else {\n",
       "      maybeLoadScript(\"vega\", \"5\")\n",
       "        .then(() => maybeLoadScript(\"vega-lite\", \"5.20.1\"))\n",
       "        .then(() => maybeLoadScript(\"vega-embed\", \"6\"))\n",
       "        .catch(showError)\n",
       "        .then(() => displayChart(vegaEmbed));\n",
       "    }\n",
       "  })({\"config\": {\"view\": {\"continuousWidth\": 300, \"continuousHeight\": 300}}, \"layer\": [{\"mark\": {\"type\": \"bar\", \"color\": \"teal\"}, \"encoding\": {\"x\": {\"field\": \"Year\", \"type\": \"ordinal\"}, \"y\": {\"field\": \"UnemploymentRate\", \"type\": \"quantitative\"}}}, {\"layer\": [{\"mark\": {\"type\": \"text\", \"align\": \"center\", \"color\": \"#333\", \"font\": \"Arial\", \"fontSize\": 32, \"fontWeight\": \"bold\", \"text\": \"State Unemployment Rate\"}, \"encoding\": {\"x\": {\"value\": 300.0}, \"y\": {\"value\": -50}}}, {\"mark\": {\"type\": \"text\", \"align\": \"center\", \"color\": \"gray\", \"font\": \"Arial\", \"fontSize\": 24, \"text\": \"2018-2022\"}, \"encoding\": {\"x\": {\"value\": 300.0}, \"y\": {\"value\": -20}}}]}, {\"mark\": {\"type\": \"text\", \"align\": \"center\", \"angle\": 0, \"baseline\": \"middle\", \"color\": \"black\", \"font\": \"Arial\", \"fontSize\": 19, \"text\": \"Sharp increase in 2020 due to the pandemic\"}, \"encoding\": {\"x\": {\"value\": 300.0}, \"y\": {\"value\": 80}}}, {\"layer\": [{\"mark\": {\"type\": \"point\", \"color\": \"red\", \"size\": 60}, \"encoding\": {\"x\": {\"field\": \"x\", \"title\": \"\", \"type\": \"ordinal\"}, \"y\": {\"field\": \"y\", \"title\": \"\", \"type\": \"quantitative\"}}}, {\"mark\": {\"type\": \"text\", \"color\": \"red\", \"dx\": 0, \"dy\": -45, \"fontSize\": 40, \"text\": \"\\u2192\"}, \"encoding\": {\"x\": {\"field\": \"x\", \"title\": \"\", \"type\": \"ordinal\"}, \"y\": {\"field\": \"y\", \"title\": \"\", \"type\": \"quantitative\"}}}, {\"mark\": {\"type\": \"text\", \"align\": \"left\", \"baseline\": \"top\", \"color\": \"darkred\", \"dx\": 37, \"dy\": -37, \"fontSize\": 12, \"text\": \"Pandemic impact\"}, \"encoding\": {\"x\": {\"field\": \"x\", \"title\": \"\", \"type\": \"ordinal\"}, \"y\": {\"field\": \"y\", \"title\": \"\", \"type\": \"quantitative\"}}}], \"data\": {\"name\": \"data-e5bf096d3d6b86d3c5679291b8e4b98f\"}}], \"data\": {\"name\": \"data-258ac8e34a06796f9a71f8db79cad763\"}, \"height\": 400, \"resolve\": {\"axis\": {\"x\": \"independent\", \"y\": \"independent\"}}, \"width\": 600, \"$schema\": \"https://vega.github.io/schema/vega-lite/v5.20.1.json\", \"datasets\": {\"data-258ac8e34a06796f9a71f8db79cad763\": [{\"Year\": 2018, \"UnemploymentRate\": 4.5}, {\"Year\": 2019, \"UnemploymentRate\": 3.9}, {\"Year\": 2020, \"UnemploymentRate\": 8.1}, {\"Year\": 2021, \"UnemploymentRate\": 6.2}, {\"Year\": 2022, \"UnemploymentRate\": 5.3}], \"data-e5bf096d3d6b86d3c5679291b8e4b98f\": [{\"x\": 2020, \"y\": 8.1}]}}, {\"mode\": \"vega-lite\"});\n",
       "</script>"
      ],
      "text/plain": [
       "alt.LayerChart(...)"
      ]
     },
     "execution_count": 72,
     "metadata": {},
     "output_type": "execute_result"
    }
   ],
   "source": [
    "unemp_df = pd.DataFrame({\n",
    "    'Year': [2018, 2019, 2020, 2021, 2022],\n",
    "    'UnemploymentRate': [4.5, 3.9, 8.1, 6.2, 5.3]\n",
    "})\n",
    "\n",
    "unemp_story = (pn.Story(unemp_df, width=600)\n",
    "                 .mark_bar(color='teal')\n",
    "                 .encode(x='Year:O', y='UnemploymentRate:Q')\n",
    "                 .add_title(\"State Unemployment Rate\", \"2018-2022\",\n",
    "                            title_color=\"#333\")\n",
    "                 .add_context(\"Sharp increase in 2020 due to the pandemic\", position='top')\n",
    "                 .add_annotation(2020, 8.1, \"Pandemic impact\", arrow_color='red', label_color='darkred')\n",
    "                 .render())\n",
    "unemp_story"
   ]
  },
  {
   "cell_type": "code",
   "execution_count": 5,
   "id": "a31cd250",
   "metadata": {},
   "outputs": [
    {
     "data": {
      "text/html": [
       "\n",
       "<style>\n",
       "  #altair-viz-617e37d3336d4c5a811d46380fafc2c0.vega-embed {\n",
       "    width: 100%;\n",
       "    display: flex;\n",
       "  }\n",
       "\n",
       "  #altair-viz-617e37d3336d4c5a811d46380fafc2c0.vega-embed details,\n",
       "  #altair-viz-617e37d3336d4c5a811d46380fafc2c0.vega-embed details summary {\n",
       "    position: relative;\n",
       "  }\n",
       "</style>\n",
       "<div id=\"altair-viz-617e37d3336d4c5a811d46380fafc2c0\"></div>\n",
       "<script type=\"text/javascript\">\n",
       "  var VEGA_DEBUG = (typeof VEGA_DEBUG == \"undefined\") ? {} : VEGA_DEBUG;\n",
       "  (function(spec, embedOpt){\n",
       "    let outputDiv = document.currentScript.previousElementSibling;\n",
       "    if (outputDiv.id !== \"altair-viz-617e37d3336d4c5a811d46380fafc2c0\") {\n",
       "      outputDiv = document.getElementById(\"altair-viz-617e37d3336d4c5a811d46380fafc2c0\");\n",
       "    }\n",
       "\n",
       "    const paths = {\n",
       "      \"vega\": \"https://cdn.jsdelivr.net/npm/vega@5?noext\",\n",
       "      \"vega-lib\": \"https://cdn.jsdelivr.net/npm/vega-lib?noext\",\n",
       "      \"vega-lite\": \"https://cdn.jsdelivr.net/npm/vega-lite@5.20.1?noext\",\n",
       "      \"vega-embed\": \"https://cdn.jsdelivr.net/npm/vega-embed@6?noext\",\n",
       "    };\n",
       "\n",
       "    function maybeLoadScript(lib, version) {\n",
       "      var key = `${lib.replace(\"-\", \"\")}_version`;\n",
       "      return (VEGA_DEBUG[key] == version) ?\n",
       "        Promise.resolve(paths[lib]) :\n",
       "        new Promise(function(resolve, reject) {\n",
       "          var s = document.createElement('script');\n",
       "          document.getElementsByTagName(\"head\")[0].appendChild(s);\n",
       "          s.async = true;\n",
       "          s.onload = () => {\n",
       "            VEGA_DEBUG[key] = version;\n",
       "            return resolve(paths[lib]);\n",
       "          };\n",
       "          s.onerror = () => reject(`Error loading script: ${paths[lib]}`);\n",
       "          s.src = paths[lib];\n",
       "        });\n",
       "    }\n",
       "\n",
       "    function showError(err) {\n",
       "      outputDiv.innerHTML = `<div class=\"error\" style=\"color:red;\">${err}</div>`;\n",
       "      throw err;\n",
       "    }\n",
       "\n",
       "    function displayChart(vegaEmbed) {\n",
       "      vegaEmbed(outputDiv, spec, embedOpt)\n",
       "        .catch(err => showError(`Javascript Error: ${err.message}<br>This usually means there's a typo in your chart specification. See the javascript console for the full traceback.`));\n",
       "    }\n",
       "\n",
       "    if(typeof define === \"function\" && define.amd) {\n",
       "      requirejs.config({paths});\n",
       "      let deps = [\"vega-embed\"];\n",
       "      require(deps, displayChart, err => showError(`Error loading script: ${err.message}`));\n",
       "    } else {\n",
       "      maybeLoadScript(\"vega\", \"5\")\n",
       "        .then(() => maybeLoadScript(\"vega-lite\", \"5.20.1\"))\n",
       "        .then(() => maybeLoadScript(\"vega-embed\", \"6\"))\n",
       "        .catch(showError)\n",
       "        .then(() => displayChart(vegaEmbed));\n",
       "    }\n",
       "  })({\"config\": {\"view\": {\"continuousWidth\": 300, \"continuousHeight\": 300}}, \"layer\": [{\"mark\": {\"type\": \"line\", \"color\": \"firebrick\"}, \"encoding\": {\"x\": {\"field\": \"Month\", \"type\": \"ordinal\"}, \"y\": {\"field\": \"Cases\", \"type\": \"quantitative\"}}}, {\"layer\": [{\"mark\": {\"type\": \"text\", \"align\": \"center\", \"color\": \"#b22222\", \"font\": \"Arial\", \"fontSize\": 32, \"fontWeight\": \"bold\", \"text\": \"COVID-19 Cases Over Time\"}, \"encoding\": {\"x\": {\"value\": 300.0}, \"y\": {\"value\": -50}}}, {\"mark\": {\"type\": \"text\", \"align\": \"center\", \"color\": \"gray\", \"font\": \"Arial\", \"fontSize\": 24, \"text\": \"Monthly trend\"}, \"encoding\": {\"x\": {\"value\": 300.0}, \"y\": {\"value\": -20}}}]}, {\"mark\": {\"type\": \"text\", \"align\": \"center\", \"angle\": 0, \"baseline\": \"middle\", \"color\": \"black\", \"font\": \"Arial\", \"fontSize\": 19, \"text\": \"Cases peaked in March and declined in April/May\"}, \"encoding\": {\"x\": {\"value\": 300.0}, \"y\": {\"value\": 80}}}, {\"layer\": [{\"mark\": {\"type\": \"point\", \"color\": \"red\", \"size\": 60}, \"encoding\": {\"x\": {\"field\": \"x\", \"title\": \"\", \"type\": \"ordinal\"}, \"y\": {\"field\": \"y\", \"title\": \"\", \"type\": \"quantitative\"}}}, {\"mark\": {\"type\": \"text\", \"color\": \"gray\", \"dx\": 0, \"dy\": -45, \"fontSize\": 40, \"text\": \"\\u2192\"}, \"encoding\": {\"x\": {\"field\": \"x\", \"title\": \"\", \"type\": \"ordinal\"}, \"y\": {\"field\": \"y\", \"title\": \"\", \"type\": \"quantitative\"}}}, {\"mark\": {\"type\": \"text\", \"align\": \"left\", \"baseline\": \"top\", \"color\": \"black\", \"dx\": 37, \"dy\": -37, \"fontSize\": 12, \"text\": \"Peak in March\"}, \"encoding\": {\"x\": {\"field\": \"x\", \"title\": \"\", \"type\": \"ordinal\"}, \"y\": {\"field\": \"y\", \"title\": \"\", \"type\": \"quantitative\"}}}], \"data\": {\"name\": \"data-873459a153895fb4486ffdef1b3232a3\"}}], \"data\": {\"name\": \"data-f6d7e72c96314c09b1306a439c2830bd\"}, \"height\": 400, \"resolve\": {\"axis\": {\"x\": \"independent\", \"y\": \"independent\"}}, \"width\": 600, \"$schema\": \"https://vega.github.io/schema/vega-lite/v5.20.1.json\", \"datasets\": {\"data-f6d7e72c96314c09b1306a439c2830bd\": [{\"Month\": \"Jan\", \"Cases\": 1000}, {\"Month\": \"Feb\", \"Cases\": 3000}, {\"Month\": \"Mar\", \"Cases\": 7000}, {\"Month\": \"Apr\", \"Cases\": 5000}, {\"Month\": \"May\", \"Cases\": 2000}], \"data-873459a153895fb4486ffdef1b3232a3\": [{\"x\": \"Mar\", \"y\": 7000}]}}, {\"mode\": \"vega-lite\"});\n",
       "</script>"
      ],
      "text/plain": [
       "alt.LayerChart(...)"
      ]
     },
     "execution_count": 5,
     "metadata": {},
     "output_type": "execute_result"
    }
   ],
   "source": [
    "covid_df = pd.DataFrame({\n",
    "    'Month': ['Jan', 'Feb', 'Mar', 'Apr', 'May'],\n",
    "    'Cases': [1000, 3000, 7000, 5000, 2000]\n",
    "})\n",
    "\n",
    "# Create a narrative chart\n",
    "covid_story = (pn.Story(covid_df)\n",
    "                 .mark_line(color='firebrick')\n",
    "                 .encode(x='Month:O', y='Cases:Q')\n",
    "                 .add_title(\"COVID-19 Cases Over Time\",\n",
    "                            \"Monthly trend\",\n",
    "                            title_color=\"#b22222\")\n",
    "                 .add_context(\"Cases peaked in March and declined in April/May\", position='top')\n",
    "                 .add_annotation('Mar', 7000, \"Peak in March\", arrow_color='gray', label_color='black')\n",
    "                 .render())\n",
    "covid_story"
   ]
  }
 ],
 "metadata": {
  "kernelspec": {
   "display_name": "Python 3",
   "language": "python",
   "name": "python3"
  },
  "language_info": {
   "codemirror_mode": {
    "name": "ipython",
    "version": 3
   },
   "file_extension": ".py",
   "mimetype": "text/x-python",
   "name": "python",
   "nbconvert_exporter": "python",
   "pygments_lexer": "ipython3",
   "version": "3.13.1"
  }
 },
 "nbformat": 4,
 "nbformat_minor": 5
}
