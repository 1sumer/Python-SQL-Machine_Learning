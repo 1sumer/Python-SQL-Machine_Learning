{
 "cells": [
  {
   "cell_type": "markdown",
   "id": "5dbc14bf-d862-4abf-99bf-7a5819e08e4e",
   "metadata": {},
   "source": [
    "## **Pandas**"
   ]
  },
  {
   "cell_type": "markdown",
   "id": "a3deff1b-539b-46a8-ab51-d8dc8617967e",
   "metadata": {},
   "source": [
    "Pandas is open-source Python library which is used for data manipulation and analysis. It consist of data structures and functions to perform efficient operations on data. It is well-suited for working with tabular data such as spreadsheets or SQL tables. It is used in data science because it works well with other important libraries. It is built on top of the NumPy library as it makes easier to manipulate and analyze.\n",
    "\n",
    "> Here's an overview of key aspects of the Pandas library:\n",
    "\n",
    "1. Data Structures:\n",
    "\n",
    "Series: A one-dimensional array capable of holding any data type. It's similar to a column in a spreadsheet or a single variable in statistics.\n",
    "\n",
    "DataFrame: A two-dimensional table with rows and columns. It can be thought of as a spreadsheet or SQL table, where each column can be a different data type.\n",
    "\n",
    "2. Data Loading and Saving:\n",
    "\n",
    "Pandas provides functions to read data from various file formats such as CSV, Excel, SQL databases, JSON, and more.\n",
    "\n",
    "It also allows you to write data back to these formats.\n",
    "\n",
    "3. Data Cleaning and Preparation:\n",
    "\n",
    "Pandas offers powerful tools for cleaning and preparing data, including handling missing values, filtering, sorting, and merging datasets.\n",
    "\n",
    "Methods like dropna(), fillna(), and duplicated() are commonly used for data cleaning.\n",
    "\n",
    "4. Indexing and Selecting Data:\n",
    "\n",
    "Pandas uses labels for indexing and selecting data. The loc and iloc attributes are commonly used for label-based and integer-based indexing, respectively.\n",
    "\n",
    "Conditional indexing is a powerful feature for selecting specific subsets of data.\n",
    "\n",
    "5. Operations and Transformations:\n",
    "\n",
    "Pandas supports element-wise operations between series and dataframes, similar to NumPy.\n",
    "\n",
    "It provides various statistical and mathematical operations, along with methods like groupby for aggregating data.\n",
    "\n",
    "6. Visualization:\n",
    "\n",
    "While Pandas itself is not a visualization library, it integrates well with Matplotlib and Seaborn for creating visualizations.\n",
    "\n",
    "DataFrames have built-in plotting methods for quick exploratory data visualization.\n",
    "\n",
    "7. Integration with Other Libraries:\n",
    "\n",
    "Pandas is often used in conjunction with other libraries like NumPy, Matplotlib, and Scikit-Learn to form a powerful data analysis and machine learning toolkit.\n",
    "\n",
    "8. Use Cases:\n",
    "\n",
    "Pandas is widely used for data cleaning, exploration, and analysis in fields such as finance, economics, social sciences, and more.\n",
    "\n",
    "It is a foundational tool for data scientists, analysts, and researchers working with structured data.\n",
    "\n",
    "Pandas is a versatile library that plays a crucial role in the Python ecosystem for data analysis. Its flexibility and ease of use make it a popular choice for handling and analyzing tabular data.\n",
    "\n",
    "[Pandas](https://pandas.pydata.org/docs/"
   ]
  },
  {
   "cell_type": "code",
   "execution_count": 243,
   "id": "eb27a0ea-1413-42e6-bbef-6293c00aa59d",
   "metadata": {},
   "outputs": [],
   "source": [
    "#pip install pandas"
   ]
  },
  {
   "cell_type": "code",
   "execution_count": 244,
   "id": "65a9a651-3e59-4838-a475-9501ecbda037",
   "metadata": {},
   "outputs": [],
   "source": [
    "#pip show pandas"
   ]
  },
  {
   "cell_type": "code",
   "execution_count": 245,
   "id": "b5bfc171-d3fc-487d-9076-1b73e512a333",
   "metadata": {},
   "outputs": [],
   "source": [
    "import pandas\n",
    "import pandas as pd\n",
    "from pandas import pandas as pd"
   ]
  },
  {
   "cell_type": "code",
   "execution_count": 246,
   "id": "28df5a12-5a66-4149-8ccc-7170323a990e",
   "metadata": {},
   "outputs": [],
   "source": [
    "import warnings\n",
    "warnings.filterwarnings('ignore')"
   ]
  },
  {
   "cell_type": "code",
   "execution_count": 247,
   "id": "0dd2c6c2-c572-42a0-bac6-a1578c0e48d6",
   "metadata": {},
   "outputs": [
    {
     "data": {
      "text/plain": [
       "['ArrowDtype',\n",
       " 'BooleanDtype',\n",
       " 'Categorical',\n",
       " 'CategoricalDtype',\n",
       " 'CategoricalIndex',\n",
       " 'DataFrame',\n",
       " 'DateOffset',\n",
       " 'DatetimeIndex',\n",
       " 'DatetimeTZDtype',\n",
       " 'ExcelFile',\n",
       " 'ExcelWriter',\n",
       " 'Flags',\n",
       " 'Float32Dtype',\n",
       " 'Float64Dtype',\n",
       " 'Grouper',\n",
       " 'HDFStore',\n",
       " 'Index',\n",
       " 'IndexSlice',\n",
       " 'Int16Dtype',\n",
       " 'Int32Dtype',\n",
       " 'Int64Dtype',\n",
       " 'Int8Dtype',\n",
       " 'Interval',\n",
       " 'IntervalDtype',\n",
       " 'IntervalIndex',\n",
       " 'MultiIndex',\n",
       " 'NA',\n",
       " 'NaT',\n",
       " 'NamedAgg',\n",
       " 'Period',\n",
       " 'PeriodDtype',\n",
       " 'PeriodIndex',\n",
       " 'RangeIndex',\n",
       " 'Series',\n",
       " 'SparseDtype',\n",
       " 'StringDtype',\n",
       " 'Timedelta',\n",
       " 'TimedeltaIndex',\n",
       " 'Timestamp',\n",
       " 'UInt16Dtype',\n",
       " 'UInt32Dtype',\n",
       " 'UInt64Dtype',\n",
       " 'UInt8Dtype',\n",
       " '__all__',\n",
       " '__builtins__',\n",
       " '__cached__',\n",
       " '__doc__',\n",
       " '__docformat__',\n",
       " '__file__',\n",
       " '__git_version__',\n",
       " '__loader__',\n",
       " '__name__',\n",
       " '__package__',\n",
       " '__path__',\n",
       " '__spec__',\n",
       " '__version__',\n",
       " '_built_with_meson',\n",
       " '_config',\n",
       " '_is_numpy_dev',\n",
       " '_libs',\n",
       " '_pandas_datetime_CAPI',\n",
       " '_pandas_parser_CAPI',\n",
       " '_testing',\n",
       " '_typing',\n",
       " '_version_meson',\n",
       " 'annotations',\n",
       " 'api',\n",
       " 'array',\n",
       " 'arrays',\n",
       " 'bdate_range',\n",
       " 'compat',\n",
       " 'concat',\n",
       " 'core',\n",
       " 'crosstab',\n",
       " 'cut',\n",
       " 'date_range',\n",
       " 'describe_option',\n",
       " 'errors',\n",
       " 'eval',\n",
       " 'factorize',\n",
       " 'from_dummies',\n",
       " 'get_dummies',\n",
       " 'get_option',\n",
       " 'infer_freq',\n",
       " 'interval_range',\n",
       " 'io',\n",
       " 'isna',\n",
       " 'isnull',\n",
       " 'json_normalize',\n",
       " 'lreshape',\n",
       " 'melt',\n",
       " 'merge',\n",
       " 'merge_asof',\n",
       " 'merge_ordered',\n",
       " 'notna',\n",
       " 'notnull',\n",
       " 'offsets',\n",
       " 'option_context',\n",
       " 'options',\n",
       " 'pandas',\n",
       " 'period_range',\n",
       " 'pivot',\n",
       " 'pivot_table',\n",
       " 'plotting',\n",
       " 'qcut',\n",
       " 'read_clipboard',\n",
       " 'read_csv',\n",
       " 'read_excel',\n",
       " 'read_feather',\n",
       " 'read_fwf',\n",
       " 'read_gbq',\n",
       " 'read_hdf',\n",
       " 'read_html',\n",
       " 'read_json',\n",
       " 'read_orc',\n",
       " 'read_parquet',\n",
       " 'read_pickle',\n",
       " 'read_sas',\n",
       " 'read_spss',\n",
       " 'read_sql',\n",
       " 'read_sql_query',\n",
       " 'read_sql_table',\n",
       " 'read_stata',\n",
       " 'read_table',\n",
       " 'read_xml',\n",
       " 'reset_option',\n",
       " 'set_eng_float_format',\n",
       " 'set_option',\n",
       " 'show_versions',\n",
       " 'test',\n",
       " 'testing',\n",
       " 'timedelta_range',\n",
       " 'to_datetime',\n",
       " 'to_numeric',\n",
       " 'to_pickle',\n",
       " 'to_timedelta',\n",
       " 'tseries',\n",
       " 'unique',\n",
       " 'util',\n",
       " 'value_counts',\n",
       " 'wide_to_long']"
      ]
     },
     "execution_count": 247,
     "metadata": {},
     "output_type": "execute_result"
    }
   ],
   "source": [
    "dir(pd)"
   ]
  },
  {
   "cell_type": "code",
   "execution_count": 248,
   "id": "96eb7e7c-0da7-485f-bac6-5e8609806a40",
   "metadata": {},
   "outputs": [
    {
     "data": {
      "text/plain": [
       "'2.2.3'"
      ]
     },
     "execution_count": 248,
     "metadata": {},
     "output_type": "execute_result"
    }
   ],
   "source": [
    "pd.__version__"
   ]
  },
  {
   "cell_type": "code",
   "execution_count": 249,
   "id": "1ee60538-bd12-442d-8bba-6e0055f11d20",
   "metadata": {},
   "outputs": [
    {
     "name": "stdout",
     "output_type": "stream",
     "text": [
      "\n",
      "pandas - a powerful data analysis and manipulation library for Python\n",
      "=====================================================================\n",
      "\n",
      "**pandas** is a Python package providing fast, flexible, and expressive data\n",
      "structures designed to make working with \"relational\" or \"labeled\" data both\n",
      "easy and intuitive. It aims to be the fundamental high-level building block for\n",
      "doing practical, **real world** data analysis in Python. Additionally, it has\n",
      "the broader goal of becoming **the most powerful and flexible open source data\n",
      "analysis / manipulation tool available in any language**. It is already well on\n",
      "its way toward this goal.\n",
      "\n",
      "Main Features\n",
      "-------------\n",
      "Here are just a few of the things that pandas does well:\n",
      "\n",
      "  - Easy handling of missing data in floating point as well as non-floating\n",
      "    point data.\n",
      "  - Size mutability: columns can be inserted and deleted from DataFrame and\n",
      "    higher dimensional objects\n",
      "  - Automatic and explicit data alignment: objects can be explicitly aligned\n",
      "    to a set of labels, or the user can simply ignore the labels and let\n",
      "    `Series`, `DataFrame`, etc. automatically align the data for you in\n",
      "    computations.\n",
      "  - Powerful, flexible group by functionality to perform split-apply-combine\n",
      "    operations on data sets, for both aggregating and transforming data.\n",
      "  - Make it easy to convert ragged, differently-indexed data in other Python\n",
      "    and NumPy data structures into DataFrame objects.\n",
      "  - Intelligent label-based slicing, fancy indexing, and subsetting of large\n",
      "    data sets.\n",
      "  - Intuitive merging and joining data sets.\n",
      "  - Flexible reshaping and pivoting of data sets.\n",
      "  - Hierarchical labeling of axes (possible to have multiple labels per tick).\n",
      "  - Robust IO tools for loading data from flat files (CSV and delimited),\n",
      "    Excel files, databases, and saving/loading data from the ultrafast HDF5\n",
      "    format.\n",
      "  - Time series-specific functionality: date range generation and frequency\n",
      "    conversion, moving window statistics, date shifting and lagging.\n",
      "\n"
     ]
    }
   ],
   "source": [
    "print(pd.__doc__)"
   ]
  },
  {
   "cell_type": "markdown",
   "id": "757d001a-175d-4ba9-8ee7-9305817ddc78",
   "metadata": {},
   "source": [
    "### **Series**\n",
    "\n",
    "A Series is a one-dimensional array-like object in Pandas.\n",
    "\n",
    "It is similar to a column in a spreadsheet or a single variable in statistics.\n",
    "\n",
    "Each element in a series has an associated index, which can be explicitly set or is automatically generated.\n",
    "\n",
    "You can create a Series from a Python list, NumPy array, or dictionary.\n",
    "\n",
    "A Pandas Series is a one-dimensional array of indexed data.\n",
    "\n",
    "#### Syntax : pd.Series(data, index=index)"
   ]
  },
  {
   "cell_type": "code",
   "execution_count": 251,
   "id": "9ccc7830-420f-49a0-8319-71ed0feb06b5",
   "metadata": {
    "scrolled": true
   },
   "outputs": [
    {
     "data": {
      "text/plain": [
       "a    20\n",
       "b    25\n",
       "c    23\n",
       "d    30\n",
       "e    41\n",
       "f    12\n",
       "g    10\n",
       "h    15\n",
       "i    60\n",
       "Name: Series, dtype: int64"
      ]
     },
     "execution_count": 251,
     "metadata": {},
     "output_type": "execute_result"
    }
   ],
   "source": [
    "age = [20,25,23,30,41,12,10,15,60]\n",
    "index = ['a','b','c','d','e','f','g','h','i']\n",
    "\n",
    "series = pd.Series(data=age, index=index, name='Series')\n",
    "series"
   ]
  },
  {
   "cell_type": "markdown",
   "id": "6060cd3a-b85d-443b-ad8d-fd92bf5f6ce4",
   "metadata": {},
   "source": [
    "### **DataFrame**\n",
    "\n",
    "A DataFrame is a two-dimensional table with rows and columns, similar to a spreadsheet or a SQL table.\n",
    "\n",
    "It is the primary data structure in Pandas and is used for most data manipulation and analysis tasks.\n",
    "\n",
    "Each column in a DataFrame is a Series.\n",
    "\n",
    "DataFrame allows you to handle heterogeneous data types and supports a wide range of operations.\n",
    "\n",
    "An effective object/data structure offered by PANDAS that allows us to handle the tabular form of data(which is basically what we get to work with on a day to day basis)\n",
    "\n",
    "#### Syntax : pandas.DataFrame(data=None, index=None, columns=None, dtype=None, copy=None)"
   ]
  },
  {
   "cell_type": "code",
   "execution_count": 252,
   "id": "c1d86617-1037-4067-a488-034e7a63e445",
   "metadata": {},
   "outputs": [],
   "source": [
    "data = {\n",
    "    'Name': ['Alice', 'Bob', 'Charlie', 'David', 'Eva', 'Frank', 'Grace', 'Hannah', 'Ivan', 'Jack', 'Ivan', 'Jack', 'Grace', 'Hannah'],  \n",
    "    'Age': [45, 58, 60, 28, 49, 67, None, 60, 37, 31, 37, 31, 29, 60],  \n",
    "    'City': ['New York', 'London', 'Tokyo', 'Paris', 'Berlin', 'Paris', 'Berlin', 'New York', 'Tokyo', 'London', 'Tokyo', 'London', 'Berlin', 'New York'],  \n",
    "    'Salary': [95445, 86235, 62330, 46022, 65999, 88320, 57141, 65413, 87016, 58725, 87016, 58725, 57141, None],  \n",
    "    'Date': ['2023-01-01', '2023-01-02', '2023-01-03', '2023-01-04', '2023-01-05', '2023-01-06', '2023-01-07', '2023-01-08', '2023-01-09', '2023-01-10', '2023-01-09', '2023-01-10', '2023-01-07', '2023-01-08'],  \n",
    "    'Category': ['A', 'B', 'C', 'A', 'B', 'A', 'C', 'B', 'A', 'B', 'A', 'B', None, 'B']  \n",
    "}"
   ]
  },
  {
   "cell_type": "code",
   "execution_count": 253,
   "id": "1b2d602f-bee0-4880-ac75-8d3978a849ab",
   "metadata": {},
   "outputs": [
    {
     "name": "stdout",
     "output_type": "stream",
     "text": [
      "\n",
      "Two-dimensional, size-mutable, potentially heterogeneous tabular data.\n",
      "\n",
      "Data structure also contains labeled axes (rows and columns).\n",
      "Arithmetic operations align on both row and column labels. Can be\n",
      "thought of as a dict-like container for Series objects. The primary\n",
      "pandas data structure.\n",
      "\n",
      "Parameters\n",
      "----------\n",
      "data : ndarray (structured or homogeneous), Iterable, dict, or DataFrame\n",
      "    Dict can contain Series, arrays, constants, dataclass or list-like objects. If\n",
      "    data is a dict, column order follows insertion-order. If a dict contains Series\n",
      "    which have an index defined, it is aligned by its index. This alignment also\n",
      "    occurs if data is a Series or a DataFrame itself. Alignment is done on\n",
      "    Series/DataFrame inputs.\n",
      "\n",
      "    If data is a list of dicts, column order follows insertion-order.\n",
      "\n",
      "index : Index or array-like\n",
      "    Index to use for resulting frame. Will default to RangeIndex if\n",
      "    no indexing information part of input data and no index provided.\n",
      "columns : Index or array-like\n",
      "    Column labels to use for resulting frame when data does not have them,\n",
      "    defaulting to RangeIndex(0, 1, 2, ..., n). If data contains column labels,\n",
      "    will perform column selection instead.\n",
      "dtype : dtype, default None\n",
      "    Data type to force. Only a single dtype is allowed. If None, infer.\n",
      "copy : bool or None, default None\n",
      "    Copy data from inputs.\n",
      "    For dict data, the default of None behaves like ``copy=True``.  For DataFrame\n",
      "    or 2d ndarray input, the default of None behaves like ``copy=False``.\n",
      "    If data is a dict containing one or more Series (possibly of different dtypes),\n",
      "    ``copy=False`` will ensure that these inputs are not copied.\n",
      "\n",
      "    .. versionchanged:: 1.3.0\n",
      "\n",
      "See Also\n",
      "--------\n",
      "DataFrame.from_records : Constructor from tuples, also record arrays.\n",
      "DataFrame.from_dict : From dicts of Series, arrays, or dicts.\n",
      "read_csv : Read a comma-separated values (csv) file into DataFrame.\n",
      "read_table : Read general delimited file into DataFrame.\n",
      "read_clipboard : Read text from clipboard into DataFrame.\n",
      "\n",
      "Notes\n",
      "-----\n",
      "Please reference the :ref:`User Guide <basics.dataframe>` for more information.\n",
      "\n",
      "Examples\n",
      "--------\n",
      "Constructing DataFrame from a dictionary.\n",
      "\n",
      ">>> d = {'col1': [1, 2], 'col2': [3, 4]}\n",
      ">>> df = pd.DataFrame(data=d)\n",
      ">>> df\n",
      "   col1  col2\n",
      "0     1     3\n",
      "1     2     4\n",
      "\n",
      "Notice that the inferred dtype is int64.\n",
      "\n",
      ">>> df.dtypes\n",
      "col1    int64\n",
      "col2    int64\n",
      "dtype: object\n",
      "\n",
      "To enforce a single dtype:\n",
      "\n",
      ">>> df = pd.DataFrame(data=d, dtype=np.int8)\n",
      ">>> df.dtypes\n",
      "col1    int8\n",
      "col2    int8\n",
      "dtype: object\n",
      "\n",
      "Constructing DataFrame from a dictionary including Series:\n",
      "\n",
      ">>> d = {'col1': [0, 1, 2, 3], 'col2': pd.Series([2, 3], index=[2, 3])}\n",
      ">>> pd.DataFrame(data=d, index=[0, 1, 2, 3])\n",
      "   col1  col2\n",
      "0     0   NaN\n",
      "1     1   NaN\n",
      "2     2   2.0\n",
      "3     3   3.0\n",
      "\n",
      "Constructing DataFrame from numpy ndarray:\n",
      "\n",
      ">>> df2 = pd.DataFrame(np.array([[1, 2, 3], [4, 5, 6], [7, 8, 9]]),\n",
      "...                    columns=['a', 'b', 'c'])\n",
      ">>> df2\n",
      "   a  b  c\n",
      "0  1  2  3\n",
      "1  4  5  6\n",
      "2  7  8  9\n",
      "\n",
      "Constructing DataFrame from a numpy ndarray that has labeled columns:\n",
      "\n",
      ">>> data = np.array([(1, 2, 3), (4, 5, 6), (7, 8, 9)],\n",
      "...                 dtype=[(\"a\", \"i4\"), (\"b\", \"i4\"), (\"c\", \"i4\")])\n",
      ">>> df3 = pd.DataFrame(data, columns=['c', 'a'])\n",
      "...\n",
      ">>> df3\n",
      "   c  a\n",
      "0  3  1\n",
      "1  6  4\n",
      "2  9  7\n",
      "\n",
      "Constructing DataFrame from dataclass:\n",
      "\n",
      ">>> from dataclasses import make_dataclass\n",
      ">>> Point = make_dataclass(\"Point\", [(\"x\", int), (\"y\", int)])\n",
      ">>> pd.DataFrame([Point(0, 0), Point(0, 3), Point(2, 3)])\n",
      "   x  y\n",
      "0  0  0\n",
      "1  0  3\n",
      "2  2  3\n",
      "\n",
      "Constructing DataFrame from Series/DataFrame:\n",
      "\n",
      ">>> ser = pd.Series([1, 2, 3], index=[\"a\", \"b\", \"c\"])\n",
      ">>> df = pd.DataFrame(data=ser, index=[\"a\", \"c\"])\n",
      ">>> df\n",
      "   0\n",
      "a  1\n",
      "c  3\n",
      "\n",
      ">>> df1 = pd.DataFrame([1, 2, 3], index=[\"a\", \"b\", \"c\"], columns=[\"x\"])\n",
      ">>> df2 = pd.DataFrame(data=df1, index=[\"a\", \"c\"])\n",
      ">>> df2\n",
      "   x\n",
      "a  1\n",
      "c  3\n",
      "\n"
     ]
    }
   ],
   "source": [
    "print(pd.DataFrame.__doc__)"
   ]
  },
  {
   "cell_type": "code",
   "execution_count": 254,
   "id": "a023ffdd-0eda-4c78-afa9-444e29dc2294",
   "metadata": {},
   "outputs": [
    {
     "data": {
      "text/html": [
       "<div>\n",
       "<style scoped>\n",
       "    .dataframe tbody tr th:only-of-type {\n",
       "        vertical-align: middle;\n",
       "    }\n",
       "\n",
       "    .dataframe tbody tr th {\n",
       "        vertical-align: top;\n",
       "    }\n",
       "\n",
       "    .dataframe thead th {\n",
       "        text-align: right;\n",
       "    }\n",
       "</style>\n",
       "<table border=\"1\" class=\"dataframe\">\n",
       "  <thead>\n",
       "    <tr style=\"text-align: right;\">\n",
       "      <th></th>\n",
       "      <th>Name</th>\n",
       "      <th>Age</th>\n",
       "      <th>City</th>\n",
       "      <th>Salary</th>\n",
       "      <th>Date</th>\n",
       "      <th>Category</th>\n",
       "    </tr>\n",
       "  </thead>\n",
       "  <tbody>\n",
       "    <tr>\n",
       "      <th>0</th>\n",
       "      <td>Alice</td>\n",
       "      <td>45.0</td>\n",
       "      <td>New York</td>\n",
       "      <td>95445.0</td>\n",
       "      <td>2023-01-01</td>\n",
       "      <td>A</td>\n",
       "    </tr>\n",
       "    <tr>\n",
       "      <th>1</th>\n",
       "      <td>Bob</td>\n",
       "      <td>58.0</td>\n",
       "      <td>London</td>\n",
       "      <td>86235.0</td>\n",
       "      <td>2023-01-02</td>\n",
       "      <td>B</td>\n",
       "    </tr>\n",
       "    <tr>\n",
       "      <th>2</th>\n",
       "      <td>Charlie</td>\n",
       "      <td>60.0</td>\n",
       "      <td>Tokyo</td>\n",
       "      <td>62330.0</td>\n",
       "      <td>2023-01-03</td>\n",
       "      <td>C</td>\n",
       "    </tr>\n",
       "    <tr>\n",
       "      <th>3</th>\n",
       "      <td>David</td>\n",
       "      <td>28.0</td>\n",
       "      <td>Paris</td>\n",
       "      <td>46022.0</td>\n",
       "      <td>2023-01-04</td>\n",
       "      <td>A</td>\n",
       "    </tr>\n",
       "    <tr>\n",
       "      <th>4</th>\n",
       "      <td>Eva</td>\n",
       "      <td>49.0</td>\n",
       "      <td>Berlin</td>\n",
       "      <td>65999.0</td>\n",
       "      <td>2023-01-05</td>\n",
       "      <td>B</td>\n",
       "    </tr>\n",
       "    <tr>\n",
       "      <th>5</th>\n",
       "      <td>Frank</td>\n",
       "      <td>67.0</td>\n",
       "      <td>Paris</td>\n",
       "      <td>88320.0</td>\n",
       "      <td>2023-01-06</td>\n",
       "      <td>A</td>\n",
       "    </tr>\n",
       "    <tr>\n",
       "      <th>6</th>\n",
       "      <td>Grace</td>\n",
       "      <td>NaN</td>\n",
       "      <td>Berlin</td>\n",
       "      <td>57141.0</td>\n",
       "      <td>2023-01-07</td>\n",
       "      <td>C</td>\n",
       "    </tr>\n",
       "    <tr>\n",
       "      <th>7</th>\n",
       "      <td>Hannah</td>\n",
       "      <td>60.0</td>\n",
       "      <td>New York</td>\n",
       "      <td>65413.0</td>\n",
       "      <td>2023-01-08</td>\n",
       "      <td>B</td>\n",
       "    </tr>\n",
       "    <tr>\n",
       "      <th>8</th>\n",
       "      <td>Ivan</td>\n",
       "      <td>37.0</td>\n",
       "      <td>Tokyo</td>\n",
       "      <td>87016.0</td>\n",
       "      <td>2023-01-09</td>\n",
       "      <td>A</td>\n",
       "    </tr>\n",
       "    <tr>\n",
       "      <th>9</th>\n",
       "      <td>Jack</td>\n",
       "      <td>31.0</td>\n",
       "      <td>London</td>\n",
       "      <td>58725.0</td>\n",
       "      <td>2023-01-10</td>\n",
       "      <td>B</td>\n",
       "    </tr>\n",
       "    <tr>\n",
       "      <th>10</th>\n",
       "      <td>Ivan</td>\n",
       "      <td>37.0</td>\n",
       "      <td>Tokyo</td>\n",
       "      <td>87016.0</td>\n",
       "      <td>2023-01-09</td>\n",
       "      <td>A</td>\n",
       "    </tr>\n",
       "    <tr>\n",
       "      <th>11</th>\n",
       "      <td>Jack</td>\n",
       "      <td>31.0</td>\n",
       "      <td>London</td>\n",
       "      <td>58725.0</td>\n",
       "      <td>2023-01-10</td>\n",
       "      <td>B</td>\n",
       "    </tr>\n",
       "    <tr>\n",
       "      <th>12</th>\n",
       "      <td>Grace</td>\n",
       "      <td>29.0</td>\n",
       "      <td>Berlin</td>\n",
       "      <td>57141.0</td>\n",
       "      <td>2023-01-07</td>\n",
       "      <td>None</td>\n",
       "    </tr>\n",
       "    <tr>\n",
       "      <th>13</th>\n",
       "      <td>Hannah</td>\n",
       "      <td>60.0</td>\n",
       "      <td>New York</td>\n",
       "      <td>NaN</td>\n",
       "      <td>2023-01-08</td>\n",
       "      <td>B</td>\n",
       "    </tr>\n",
       "  </tbody>\n",
       "</table>\n",
       "</div>"
      ],
      "text/plain": [
       "       Name   Age      City   Salary        Date Category\n",
       "0     Alice  45.0  New York  95445.0  2023-01-01        A\n",
       "1       Bob  58.0    London  86235.0  2023-01-02        B\n",
       "2   Charlie  60.0     Tokyo  62330.0  2023-01-03        C\n",
       "3     David  28.0     Paris  46022.0  2023-01-04        A\n",
       "4       Eva  49.0    Berlin  65999.0  2023-01-05        B\n",
       "5     Frank  67.0     Paris  88320.0  2023-01-06        A\n",
       "6     Grace   NaN    Berlin  57141.0  2023-01-07        C\n",
       "7    Hannah  60.0  New York  65413.0  2023-01-08        B\n",
       "8      Ivan  37.0     Tokyo  87016.0  2023-01-09        A\n",
       "9      Jack  31.0    London  58725.0  2023-01-10        B\n",
       "10     Ivan  37.0     Tokyo  87016.0  2023-01-09        A\n",
       "11     Jack  31.0    London  58725.0  2023-01-10        B\n",
       "12    Grace  29.0    Berlin  57141.0  2023-01-07     None\n",
       "13   Hannah  60.0  New York      NaN  2023-01-08        B"
      ]
     },
     "execution_count": 254,
     "metadata": {},
     "output_type": "execute_result"
    }
   ],
   "source": [
    "df = pd.DataFrame(data=data)\n",
    "df"
   ]
  },
  {
   "cell_type": "markdown",
   "id": "8bfdcf66-6ff0-4a63-adcc-8c1405f3a54e",
   "metadata": {},
   "source": [
    "### **Data Ingestion**"
   ]
  },
  {
   "cell_type": "code",
   "execution_count": 255,
   "id": "2cd3797f-05ad-4c27-af09-83d13c6ec19d",
   "metadata": {},
   "outputs": [
    {
     "data": {
      "text/html": [
       "<div>\n",
       "<style scoped>\n",
       "    .dataframe tbody tr th:only-of-type {\n",
       "        vertical-align: middle;\n",
       "    }\n",
       "\n",
       "    .dataframe tbody tr th {\n",
       "        vertical-align: top;\n",
       "    }\n",
       "\n",
       "    .dataframe thead th {\n",
       "        text-align: right;\n",
       "    }\n",
       "</style>\n",
       "<table border=\"1\" class=\"dataframe\">\n",
       "  <thead>\n",
       "    <tr style=\"text-align: right;\">\n",
       "      <th></th>\n",
       "      <th>Name</th>\n",
       "      <th>Age</th>\n",
       "      <th>City</th>\n",
       "      <th>Salary</th>\n",
       "      <th>Date</th>\n",
       "      <th>Category</th>\n",
       "    </tr>\n",
       "  </thead>\n",
       "  <tbody>\n",
       "    <tr>\n",
       "      <th>0</th>\n",
       "      <td>Alice</td>\n",
       "      <td>45.0</td>\n",
       "      <td>New York</td>\n",
       "      <td>95445.0</td>\n",
       "      <td>2023-01-01</td>\n",
       "      <td>A</td>\n",
       "    </tr>\n",
       "    <tr>\n",
       "      <th>1</th>\n",
       "      <td>Bob</td>\n",
       "      <td>58.0</td>\n",
       "      <td>London</td>\n",
       "      <td>86235.0</td>\n",
       "      <td>2023-01-02</td>\n",
       "      <td>B</td>\n",
       "    </tr>\n",
       "    <tr>\n",
       "      <th>2</th>\n",
       "      <td>Charlie</td>\n",
       "      <td>60.0</td>\n",
       "      <td>Tokyo</td>\n",
       "      <td>62330.0</td>\n",
       "      <td>2023-01-03</td>\n",
       "      <td>C</td>\n",
       "    </tr>\n",
       "    <tr>\n",
       "      <th>3</th>\n",
       "      <td>David</td>\n",
       "      <td>28.0</td>\n",
       "      <td>Paris</td>\n",
       "      <td>46022.0</td>\n",
       "      <td>2023-01-04</td>\n",
       "      <td>A</td>\n",
       "    </tr>\n",
       "    <tr>\n",
       "      <th>4</th>\n",
       "      <td>Eva</td>\n",
       "      <td>49.0</td>\n",
       "      <td>Berlin</td>\n",
       "      <td>65999.0</td>\n",
       "      <td>2023-01-05</td>\n",
       "      <td>B</td>\n",
       "    </tr>\n",
       "    <tr>\n",
       "      <th>5</th>\n",
       "      <td>Frank</td>\n",
       "      <td>67.0</td>\n",
       "      <td>Paris</td>\n",
       "      <td>88320.0</td>\n",
       "      <td>2023-01-06</td>\n",
       "      <td>A</td>\n",
       "    </tr>\n",
       "    <tr>\n",
       "      <th>6</th>\n",
       "      <td>Grace</td>\n",
       "      <td>NaN</td>\n",
       "      <td>Berlin</td>\n",
       "      <td>57141.0</td>\n",
       "      <td>2023-01-07</td>\n",
       "      <td>C</td>\n",
       "    </tr>\n",
       "    <tr>\n",
       "      <th>7</th>\n",
       "      <td>Hannah</td>\n",
       "      <td>60.0</td>\n",
       "      <td>New York</td>\n",
       "      <td>65413.0</td>\n",
       "      <td>2023-01-08</td>\n",
       "      <td>B</td>\n",
       "    </tr>\n",
       "    <tr>\n",
       "      <th>8</th>\n",
       "      <td>Ivan</td>\n",
       "      <td>37.0</td>\n",
       "      <td>Tokyo</td>\n",
       "      <td>87016.0</td>\n",
       "      <td>2023-01-09</td>\n",
       "      <td>A</td>\n",
       "    </tr>\n",
       "    <tr>\n",
       "      <th>9</th>\n",
       "      <td>Jack</td>\n",
       "      <td>31.0</td>\n",
       "      <td>London</td>\n",
       "      <td>58725.0</td>\n",
       "      <td>2023-01-10</td>\n",
       "      <td>B</td>\n",
       "    </tr>\n",
       "    <tr>\n",
       "      <th>10</th>\n",
       "      <td>Ivan</td>\n",
       "      <td>37.0</td>\n",
       "      <td>Tokyo</td>\n",
       "      <td>87016.0</td>\n",
       "      <td>2023-01-09</td>\n",
       "      <td>A</td>\n",
       "    </tr>\n",
       "    <tr>\n",
       "      <th>11</th>\n",
       "      <td>Jack</td>\n",
       "      <td>31.0</td>\n",
       "      <td>London</td>\n",
       "      <td>58725.0</td>\n",
       "      <td>2023-01-10</td>\n",
       "      <td>B</td>\n",
       "    </tr>\n",
       "    <tr>\n",
       "      <th>12</th>\n",
       "      <td>Grace</td>\n",
       "      <td>29.0</td>\n",
       "      <td>Berlin</td>\n",
       "      <td>57141.0</td>\n",
       "      <td>2023-01-07</td>\n",
       "      <td>NaN</td>\n",
       "    </tr>\n",
       "    <tr>\n",
       "      <th>13</th>\n",
       "      <td>Hannah</td>\n",
       "      <td>60.0</td>\n",
       "      <td>New York</td>\n",
       "      <td>NaN</td>\n",
       "      <td>2023-01-08</td>\n",
       "      <td>B</td>\n",
       "    </tr>\n",
       "  </tbody>\n",
       "</table>\n",
       "</div>"
      ],
      "text/plain": [
       "       Name   Age      City   Salary        Date Category\n",
       "0     Alice  45.0  New York  95445.0  2023-01-01        A\n",
       "1       Bob  58.0    London  86235.0  2023-01-02        B\n",
       "2   Charlie  60.0     Tokyo  62330.0  2023-01-03        C\n",
       "3     David  28.0     Paris  46022.0  2023-01-04        A\n",
       "4       Eva  49.0    Berlin  65999.0  2023-01-05        B\n",
       "5     Frank  67.0     Paris  88320.0  2023-01-06        A\n",
       "6     Grace   NaN    Berlin  57141.0  2023-01-07        C\n",
       "7    Hannah  60.0  New York  65413.0  2023-01-08        B\n",
       "8      Ivan  37.0     Tokyo  87016.0  2023-01-09        A\n",
       "9      Jack  31.0    London  58725.0  2023-01-10        B\n",
       "10     Ivan  37.0     Tokyo  87016.0  2023-01-09        A\n",
       "11     Jack  31.0    London  58725.0  2023-01-10        B\n",
       "12    Grace  29.0    Berlin  57141.0  2023-01-07      NaN\n",
       "13   Hannah  60.0  New York      NaN  2023-01-08        B"
      ]
     },
     "execution_count": 255,
     "metadata": {},
     "output_type": "execute_result"
    }
   ],
   "source": [
    "df1 = pd.read_csv(r'data.csv')\n",
    "df1"
   ]
  },
  {
   "cell_type": "code",
   "execution_count": 256,
   "id": "b8b432ef-8233-4457-a26d-a36d4075b3fd",
   "metadata": {},
   "outputs": [
    {
     "data": {
      "text/html": [
       "<div>\n",
       "<style scoped>\n",
       "    .dataframe tbody tr th:only-of-type {\n",
       "        vertical-align: middle;\n",
       "    }\n",
       "\n",
       "    .dataframe tbody tr th {\n",
       "        vertical-align: top;\n",
       "    }\n",
       "\n",
       "    .dataframe thead th {\n",
       "        text-align: right;\n",
       "    }\n",
       "</style>\n",
       "<table border=\"1\" class=\"dataframe\">\n",
       "  <thead>\n",
       "    <tr style=\"text-align: right;\">\n",
       "      <th></th>\n",
       "      <th>Name</th>\n",
       "      <th>Age</th>\n",
       "      <th>City</th>\n",
       "      <th>Salary</th>\n",
       "      <th>Date</th>\n",
       "      <th>Category</th>\n",
       "    </tr>\n",
       "  </thead>\n",
       "  <tbody>\n",
       "    <tr>\n",
       "      <th>0</th>\n",
       "      <td>Alice</td>\n",
       "      <td>45.0</td>\n",
       "      <td>New York</td>\n",
       "      <td>95445.0</td>\n",
       "      <td>2023-01-01</td>\n",
       "      <td>A</td>\n",
       "    </tr>\n",
       "    <tr>\n",
       "      <th>1</th>\n",
       "      <td>Bob</td>\n",
       "      <td>58.0</td>\n",
       "      <td>London</td>\n",
       "      <td>86235.0</td>\n",
       "      <td>2023-01-02</td>\n",
       "      <td>B</td>\n",
       "    </tr>\n",
       "    <tr>\n",
       "      <th>2</th>\n",
       "      <td>Charlie</td>\n",
       "      <td>60.0</td>\n",
       "      <td>Tokyo</td>\n",
       "      <td>62330.0</td>\n",
       "      <td>2023-01-03</td>\n",
       "      <td>C</td>\n",
       "    </tr>\n",
       "    <tr>\n",
       "      <th>3</th>\n",
       "      <td>David</td>\n",
       "      <td>28.0</td>\n",
       "      <td>Paris</td>\n",
       "      <td>46022.0</td>\n",
       "      <td>2023-01-04</td>\n",
       "      <td>A</td>\n",
       "    </tr>\n",
       "    <tr>\n",
       "      <th>4</th>\n",
       "      <td>Eva</td>\n",
       "      <td>49.0</td>\n",
       "      <td>Berlin</td>\n",
       "      <td>65999.0</td>\n",
       "      <td>2023-01-05</td>\n",
       "      <td>B</td>\n",
       "    </tr>\n",
       "    <tr>\n",
       "      <th>5</th>\n",
       "      <td>Frank</td>\n",
       "      <td>67.0</td>\n",
       "      <td>Paris</td>\n",
       "      <td>88320.0</td>\n",
       "      <td>2023-01-06</td>\n",
       "      <td>A</td>\n",
       "    </tr>\n",
       "    <tr>\n",
       "      <th>6</th>\n",
       "      <td>Grace</td>\n",
       "      <td>NaN</td>\n",
       "      <td>Berlin</td>\n",
       "      <td>57141.0</td>\n",
       "      <td>2023-01-07</td>\n",
       "      <td>C</td>\n",
       "    </tr>\n",
       "    <tr>\n",
       "      <th>7</th>\n",
       "      <td>Hannah</td>\n",
       "      <td>60.0</td>\n",
       "      <td>New York</td>\n",
       "      <td>65413.0</td>\n",
       "      <td>2023-01-08</td>\n",
       "      <td>B</td>\n",
       "    </tr>\n",
       "    <tr>\n",
       "      <th>8</th>\n",
       "      <td>Ivan</td>\n",
       "      <td>37.0</td>\n",
       "      <td>Tokyo</td>\n",
       "      <td>87016.0</td>\n",
       "      <td>2023-01-09</td>\n",
       "      <td>A</td>\n",
       "    </tr>\n",
       "    <tr>\n",
       "      <th>9</th>\n",
       "      <td>Jack</td>\n",
       "      <td>31.0</td>\n",
       "      <td>London</td>\n",
       "      <td>58725.0</td>\n",
       "      <td>2023-01-10</td>\n",
       "      <td>B</td>\n",
       "    </tr>\n",
       "    <tr>\n",
       "      <th>10</th>\n",
       "      <td>Ivan</td>\n",
       "      <td>37.0</td>\n",
       "      <td>Tokyo</td>\n",
       "      <td>87016.0</td>\n",
       "      <td>2023-01-09</td>\n",
       "      <td>A</td>\n",
       "    </tr>\n",
       "    <tr>\n",
       "      <th>11</th>\n",
       "      <td>Jack</td>\n",
       "      <td>31.0</td>\n",
       "      <td>London</td>\n",
       "      <td>58725.0</td>\n",
       "      <td>2023-01-10</td>\n",
       "      <td>B</td>\n",
       "    </tr>\n",
       "    <tr>\n",
       "      <th>12</th>\n",
       "      <td>Grace</td>\n",
       "      <td>29.0</td>\n",
       "      <td>Berlin</td>\n",
       "      <td>57141.0</td>\n",
       "      <td>2023-01-07</td>\n",
       "      <td>NaN</td>\n",
       "    </tr>\n",
       "    <tr>\n",
       "      <th>13</th>\n",
       "      <td>Hannah</td>\n",
       "      <td>60.0</td>\n",
       "      <td>New York</td>\n",
       "      <td>NaN</td>\n",
       "      <td>2023-01-08</td>\n",
       "      <td>B</td>\n",
       "    </tr>\n",
       "  </tbody>\n",
       "</table>\n",
       "</div>"
      ],
      "text/plain": [
       "       Name   Age      City   Salary        Date Category\n",
       "0     Alice  45.0  New York  95445.0  2023-01-01        A\n",
       "1       Bob  58.0    London  86235.0  2023-01-02        B\n",
       "2   Charlie  60.0     Tokyo  62330.0  2023-01-03        C\n",
       "3     David  28.0     Paris  46022.0  2023-01-04        A\n",
       "4       Eva  49.0    Berlin  65999.0  2023-01-05        B\n",
       "5     Frank  67.0     Paris  88320.0  2023-01-06        A\n",
       "6     Grace   NaN    Berlin  57141.0  2023-01-07        C\n",
       "7    Hannah  60.0  New York  65413.0  2023-01-08        B\n",
       "8      Ivan  37.0     Tokyo  87016.0  2023-01-09        A\n",
       "9      Jack  31.0    London  58725.0  2023-01-10        B\n",
       "10     Ivan  37.0     Tokyo  87016.0  2023-01-09        A\n",
       "11     Jack  31.0    London  58725.0  2023-01-10        B\n",
       "12    Grace  29.0    Berlin  57141.0  2023-01-07      NaN\n",
       "13   Hannah  60.0  New York      NaN  2023-01-08        B"
      ]
     },
     "execution_count": 256,
     "metadata": {},
     "output_type": "execute_result"
    }
   ],
   "source": [
    "# pip install openpyxl for excel file reader\n",
    "df2 = pd.read_excel(r'data.xlsx', sheet_name='Data')\n",
    "df2"
   ]
  },
  {
   "cell_type": "code",
   "execution_count": 257,
   "id": "6ad8cb0b-640e-417e-b67e-080c4a8b8bbb",
   "metadata": {},
   "outputs": [],
   "source": [
    "# pd.read_json('data.json')\n",
    "# pd.read_sql(query, mydb)"
   ]
  },
  {
   "cell_type": "markdown",
   "id": "54c4d59c-6e78-4f45-880d-2fd444bb1027",
   "metadata": {},
   "source": [
    "### **Data Store**"
   ]
  },
  {
   "cell_type": "markdown",
   "id": "41baac38-5b2d-4935-a132-64ec3f17ccec",
   "metadata": {},
   "source": [
    "```\n",
    "df.to_csv(r\"C:\\Users\\Admin\\Downloads\\data.csv\", index=False)\n",
    "df.to_excel(r\"C:\\Users\\Admin\\Downloads\\data.xlsx\", index=False, sheet_name='Data')\n",
    "df.to_json(r\"C:\\Users\\Admin\\Downloads\\data.json\", index=False, orient='records', indent=4)\n",
    "df.to_sql('my_table', engine, index=False, if_exists='replace')\n",
    "```"
   ]
  },
  {
   "cell_type": "markdown",
   "id": "70703b7d-4889-404c-95f9-408fb6d54b71",
   "metadata": {},
   "source": [
    "### **Data Extraction**"
   ]
  },
  {
   "cell_type": "markdown",
   "id": "8ff303a9-ad0a-4436-a936-967237fc4eef",
   "metadata": {},
   "source": [
    "```\n",
    "# Set pandas to display all rows\n",
    "pd.set_option('display.max_rows', None)\n",
    "\n",
    "# Set pandas to display all columns\n",
    "pd.set_option('display.max_columns', None)\n",
    "```"
   ]
  },
  {
   "cell_type": "code",
   "execution_count": 258,
   "id": "33ba89c4-b027-499e-9ecb-b67cfd576ccd",
   "metadata": {},
   "outputs": [
    {
     "data": {
      "text/html": [
       "<div>\n",
       "<style scoped>\n",
       "    .dataframe tbody tr th:only-of-type {\n",
       "        vertical-align: middle;\n",
       "    }\n",
       "\n",
       "    .dataframe tbody tr th {\n",
       "        vertical-align: top;\n",
       "    }\n",
       "\n",
       "    .dataframe thead th {\n",
       "        text-align: right;\n",
       "    }\n",
       "</style>\n",
       "<table border=\"1\" class=\"dataframe\">\n",
       "  <thead>\n",
       "    <tr style=\"text-align: right;\">\n",
       "      <th></th>\n",
       "      <th>Name</th>\n",
       "      <th>Age</th>\n",
       "      <th>City</th>\n",
       "      <th>Salary</th>\n",
       "      <th>Date</th>\n",
       "      <th>Category</th>\n",
       "    </tr>\n",
       "  </thead>\n",
       "  <tbody>\n",
       "    <tr>\n",
       "      <th>0</th>\n",
       "      <td>Alice</td>\n",
       "      <td>45.0</td>\n",
       "      <td>New York</td>\n",
       "      <td>95445.0</td>\n",
       "      <td>2023-01-01</td>\n",
       "      <td>A</td>\n",
       "    </tr>\n",
       "    <tr>\n",
       "      <th>1</th>\n",
       "      <td>Bob</td>\n",
       "      <td>58.0</td>\n",
       "      <td>London</td>\n",
       "      <td>86235.0</td>\n",
       "      <td>2023-01-02</td>\n",
       "      <td>B</td>\n",
       "    </tr>\n",
       "  </tbody>\n",
       "</table>\n",
       "</div>"
      ],
      "text/plain": [
       "    Name   Age      City   Salary        Date Category\n",
       "0  Alice  45.0  New York  95445.0  2023-01-01        A\n",
       "1    Bob  58.0    London  86235.0  2023-01-02        B"
      ]
     },
     "execution_count": 258,
     "metadata": {},
     "output_type": "execute_result"
    }
   ],
   "source": [
    "df.head(2) # Defalut top 5 rows"
   ]
  },
  {
   "cell_type": "code",
   "execution_count": 259,
   "id": "16ed9f10-91a1-45b5-8e8d-8fe2340edf79",
   "metadata": {},
   "outputs": [
    {
     "data": {
      "text/html": [
       "<div>\n",
       "<style scoped>\n",
       "    .dataframe tbody tr th:only-of-type {\n",
       "        vertical-align: middle;\n",
       "    }\n",
       "\n",
       "    .dataframe tbody tr th {\n",
       "        vertical-align: top;\n",
       "    }\n",
       "\n",
       "    .dataframe thead th {\n",
       "        text-align: right;\n",
       "    }\n",
       "</style>\n",
       "<table border=\"1\" class=\"dataframe\">\n",
       "  <thead>\n",
       "    <tr style=\"text-align: right;\">\n",
       "      <th></th>\n",
       "      <th>Name</th>\n",
       "      <th>Age</th>\n",
       "      <th>City</th>\n",
       "      <th>Salary</th>\n",
       "      <th>Date</th>\n",
       "      <th>Category</th>\n",
       "    </tr>\n",
       "  </thead>\n",
       "  <tbody>\n",
       "    <tr>\n",
       "      <th>9</th>\n",
       "      <td>Jack</td>\n",
       "      <td>31.0</td>\n",
       "      <td>London</td>\n",
       "      <td>58725.0</td>\n",
       "      <td>2023-01-10</td>\n",
       "      <td>B</td>\n",
       "    </tr>\n",
       "    <tr>\n",
       "      <th>10</th>\n",
       "      <td>Ivan</td>\n",
       "      <td>37.0</td>\n",
       "      <td>Tokyo</td>\n",
       "      <td>87016.0</td>\n",
       "      <td>2023-01-09</td>\n",
       "      <td>A</td>\n",
       "    </tr>\n",
       "    <tr>\n",
       "      <th>11</th>\n",
       "      <td>Jack</td>\n",
       "      <td>31.0</td>\n",
       "      <td>London</td>\n",
       "      <td>58725.0</td>\n",
       "      <td>2023-01-10</td>\n",
       "      <td>B</td>\n",
       "    </tr>\n",
       "    <tr>\n",
       "      <th>12</th>\n",
       "      <td>Grace</td>\n",
       "      <td>29.0</td>\n",
       "      <td>Berlin</td>\n",
       "      <td>57141.0</td>\n",
       "      <td>2023-01-07</td>\n",
       "      <td>None</td>\n",
       "    </tr>\n",
       "    <tr>\n",
       "      <th>13</th>\n",
       "      <td>Hannah</td>\n",
       "      <td>60.0</td>\n",
       "      <td>New York</td>\n",
       "      <td>NaN</td>\n",
       "      <td>2023-01-08</td>\n",
       "      <td>B</td>\n",
       "    </tr>\n",
       "  </tbody>\n",
       "</table>\n",
       "</div>"
      ],
      "text/plain": [
       "      Name   Age      City   Salary        Date Category\n",
       "9     Jack  31.0    London  58725.0  2023-01-10        B\n",
       "10    Ivan  37.0     Tokyo  87016.0  2023-01-09        A\n",
       "11    Jack  31.0    London  58725.0  2023-01-10        B\n",
       "12   Grace  29.0    Berlin  57141.0  2023-01-07     None\n",
       "13  Hannah  60.0  New York      NaN  2023-01-08        B"
      ]
     },
     "execution_count": 259,
     "metadata": {},
     "output_type": "execute_result"
    }
   ],
   "source": [
    "df.tail() # Defalut bottom 5 rows"
   ]
  },
  {
   "cell_type": "code",
   "execution_count": 260,
   "id": "2bc710ff-fe17-4ff2-adb9-0f9ab9455ce0",
   "metadata": {},
   "outputs": [
    {
     "data": {
      "text/plain": [
       "(14, 6)"
      ]
     },
     "execution_count": 260,
     "metadata": {},
     "output_type": "execute_result"
    }
   ],
   "source": [
    "df.shape # Dimensionality of the data"
   ]
  },
  {
   "cell_type": "code",
   "execution_count": 261,
   "id": "56747367-b24a-4770-a057-8442a87041f4",
   "metadata": {},
   "outputs": [
    {
     "data": {
      "text/plain": [
       "14"
      ]
     },
     "execution_count": 261,
     "metadata": {},
     "output_type": "execute_result"
    }
   ],
   "source": [
    "df.shape[0] # rows"
   ]
  },
  {
   "cell_type": "code",
   "execution_count": 262,
   "id": "86e35adb-310f-45bc-bc2f-0c6b35ac2544",
   "metadata": {},
   "outputs": [
    {
     "data": {
      "text/plain": [
       "6"
      ]
     },
     "execution_count": 262,
     "metadata": {},
     "output_type": "execute_result"
    }
   ],
   "source": [
    "df.shape[1] # columns"
   ]
  },
  {
   "cell_type": "code",
   "execution_count": 263,
   "id": "2562bc66-e57f-4af2-894d-9d16cba4f70f",
   "metadata": {},
   "outputs": [
    {
     "data": {
      "text/plain": [
       "84"
      ]
     },
     "execution_count": 263,
     "metadata": {},
     "output_type": "execute_result"
    }
   ],
   "source": [
    "df.size # size of datase"
   ]
  },
  {
   "cell_type": "code",
   "execution_count": 264,
   "id": "d5b9eb75-3489-46c3-939a-9b3416e3d98d",
   "metadata": {},
   "outputs": [
    {
     "data": {
      "text/plain": [
       "Name         object\n",
       "Age         float64\n",
       "City         object\n",
       "Salary      float64\n",
       "Date         object\n",
       "Category     object\n",
       "dtype: object"
      ]
     },
     "execution_count": 264,
     "metadata": {},
     "output_type": "execute_result"
    }
   ],
   "source": [
    "df.dtypes # data type of each column"
   ]
  },
  {
   "cell_type": "code",
   "execution_count": 265,
   "id": "38809b98-5506-48b2-9a98-db1c8edd8af8",
   "metadata": {},
   "outputs": [
    {
     "data": {
      "text/plain": [
       "dtype('O')"
      ]
     },
     "execution_count": 265,
     "metadata": {},
     "output_type": "execute_result"
    }
   ],
   "source": [
    "df.Name.dtype"
   ]
  },
  {
   "cell_type": "code",
   "execution_count": 266,
   "id": "6ae6ea74-a902-4e93-bc66-8aaa2cdd6562",
   "metadata": {},
   "outputs": [
    {
     "data": {
      "text/plain": [
       "Index(['Name', 'Age', 'City', 'Salary', 'Date', 'Category'], dtype='object')"
      ]
     },
     "execution_count": 266,
     "metadata": {},
     "output_type": "execute_result"
    }
   ],
   "source": [
    "df.columns # Accessing All columns"
   ]
  },
  {
   "cell_type": "code",
   "execution_count": 267,
   "id": "f5b6dc5f-c6a8-4c09-8008-98478a0909de",
   "metadata": {
    "scrolled": true
   },
   "outputs": [
    {
     "data": {
      "text/plain": [
       "Index(['Name', 'Age', 'City', 'Salary', 'Date'], dtype='object')"
      ]
     },
     "execution_count": 267,
     "metadata": {},
     "output_type": "execute_result"
    }
   ],
   "source": [
    "df.columns[:5]"
   ]
  },
  {
   "cell_type": "code",
   "execution_count": 268,
   "id": "70e68797-5c80-4465-a569-069bd6397f46",
   "metadata": {},
   "outputs": [
    {
     "name": "stdout",
     "output_type": "stream",
     "text": [
      "<class 'pandas.core.frame.DataFrame'>\n",
      "RangeIndex: 14 entries, 0 to 13\n",
      "Data columns (total 6 columns):\n",
      " #   Column    Non-Null Count  Dtype  \n",
      "---  ------    --------------  -----  \n",
      " 0   Name      14 non-null     object \n",
      " 1   Age       13 non-null     float64\n",
      " 2   City      14 non-null     object \n",
      " 3   Salary    13 non-null     float64\n",
      " 4   Date      14 non-null     object \n",
      " 5   Category  13 non-null     object \n",
      "dtypes: float64(2), object(4)\n",
      "memory usage: 804.0+ bytes\n"
     ]
    }
   ],
   "source": [
    "df.info() # entire information about the dataset"
   ]
  },
  {
   "cell_type": "code",
   "execution_count": 269,
   "id": "0b5edcaa-ac43-4384-99b9-122b80cc5c6f",
   "metadata": {},
   "outputs": [
    {
     "name": "stdout",
     "output_type": "stream",
     "text": [
      "Name : ['Alice' 'Bob' 'Charlie' 'David' 'Eva' 'Frank' 'Grace' 'Hannah' 'Ivan'\n",
      " 'Jack']\n",
      "Age : [45. 58. 60. 28. 49. 67. nan 37. 31. 29.]\n",
      "City : ['New York' 'London' 'Tokyo' 'Paris' 'Berlin']\n",
      "Salary : [95445. 86235. 62330. 46022. 65999. 88320. 57141. 65413. 87016. 58725.\n",
      "    nan]\n",
      "Date : ['2023-01-01' '2023-01-02' '2023-01-03' '2023-01-04' '2023-01-05'\n",
      " '2023-01-06' '2023-01-07' '2023-01-08' '2023-01-09' '2023-01-10']\n",
      "Category : ['A' 'B' 'C' None]\n"
     ]
    }
   ],
   "source": [
    "for col in df.columns:\n",
    "    print(f\"{col} : {df[col].unique()}\")"
   ]
  },
  {
   "cell_type": "code",
   "execution_count": 270,
   "id": "69530e00-19a0-4ab9-83e9-10dcfdee6433",
   "metadata": {},
   "outputs": [
    {
     "data": {
      "text/plain": [
       "Name        10\n",
       "Age          9\n",
       "City         5\n",
       "Salary      10\n",
       "Date        10\n",
       "Category     3\n",
       "dtype: int64"
      ]
     },
     "execution_count": 270,
     "metadata": {},
     "output_type": "execute_result"
    }
   ],
   "source": [
    "df.nunique() # Sum of Unique Values"
   ]
  },
  {
   "cell_type": "code",
   "execution_count": 271,
   "id": "206185bb-1f8a-429d-9890-8e24bd322e45",
   "metadata": {},
   "outputs": [
    {
     "data": {
      "text/plain": [
       "3     28.0\n",
       "12    29.0\n",
       "Name: Age, dtype: float64"
      ]
     },
     "execution_count": 271,
     "metadata": {},
     "output_type": "execute_result"
    }
   ],
   "source": [
    "df.Age.nsmallest(2) # Make Ascending order"
   ]
  },
  {
   "cell_type": "code",
   "execution_count": 272,
   "id": "f7ca7ca4-8210-4530-88dd-f3fcf1854d9a",
   "metadata": {},
   "outputs": [
    {
     "data": {
      "text/plain": [
       "5     67.0\n",
       "2     60.0\n",
       "7     60.0\n",
       "13    60.0\n",
       "1     58.0\n",
       "Name: Age, dtype: float64"
      ]
     },
     "execution_count": 272,
     "metadata": {},
     "output_type": "execute_result"
    }
   ],
   "source": [
    "df.Age.nlargest() # Make Disecnding Order"
   ]
  },
  {
   "cell_type": "code",
   "execution_count": 273,
   "id": "291252bf-7bdc-4074-bf93-aa3214034d88",
   "metadata": {},
   "outputs": [
    {
     "data": {
      "text/html": [
       "<div>\n",
       "<style scoped>\n",
       "    .dataframe tbody tr th:only-of-type {\n",
       "        vertical-align: middle;\n",
       "    }\n",
       "\n",
       "    .dataframe tbody tr th {\n",
       "        vertical-align: top;\n",
       "    }\n",
       "\n",
       "    .dataframe thead th {\n",
       "        text-align: right;\n",
       "    }\n",
       "</style>\n",
       "<table border=\"1\" class=\"dataframe\">\n",
       "  <thead>\n",
       "    <tr style=\"text-align: right;\">\n",
       "      <th></th>\n",
       "      <th>count</th>\n",
       "      <th>mean</th>\n",
       "      <th>std</th>\n",
       "      <th>min</th>\n",
       "      <th>25%</th>\n",
       "      <th>50%</th>\n",
       "      <th>75%</th>\n",
       "      <th>max</th>\n",
       "    </tr>\n",
       "  </thead>\n",
       "  <tbody>\n",
       "    <tr>\n",
       "      <th>Age</th>\n",
       "      <td>13.0</td>\n",
       "      <td>45.538462</td>\n",
       "      <td>14.157539</td>\n",
       "      <td>28.0</td>\n",
       "      <td>31.0</td>\n",
       "      <td>45.0</td>\n",
       "      <td>60.0</td>\n",
       "      <td>67.0</td>\n",
       "    </tr>\n",
       "    <tr>\n",
       "      <th>Salary</th>\n",
       "      <td>13.0</td>\n",
       "      <td>70425.230769</td>\n",
       "      <td>16018.646562</td>\n",
       "      <td>46022.0</td>\n",
       "      <td>58725.0</td>\n",
       "      <td>65413.0</td>\n",
       "      <td>87016.0</td>\n",
       "      <td>95445.0</td>\n",
       "    </tr>\n",
       "  </tbody>\n",
       "</table>\n",
       "</div>"
      ],
      "text/plain": [
       "        count          mean           std      min      25%      50%      75%  \\\n",
       "Age      13.0     45.538462     14.157539     28.0     31.0     45.0     60.0   \n",
       "Salary   13.0  70425.230769  16018.646562  46022.0  58725.0  65413.0  87016.0   \n",
       "\n",
       "            max  \n",
       "Age        67.0  \n",
       "Salary  95445.0  "
      ]
     },
     "execution_count": 273,
     "metadata": {},
     "output_type": "execute_result"
    }
   ],
   "source": [
    "df.describe().T # Statistical Description of Numarical Data"
   ]
  },
  {
   "cell_type": "code",
   "execution_count": 274,
   "id": "b5d2a5e4-91f4-4791-b12f-2d5584ae4524",
   "metadata": {},
   "outputs": [
    {
     "data": {
      "text/html": [
       "<div>\n",
       "<style scoped>\n",
       "    .dataframe tbody tr th:only-of-type {\n",
       "        vertical-align: middle;\n",
       "    }\n",
       "\n",
       "    .dataframe tbody tr th {\n",
       "        vertical-align: top;\n",
       "    }\n",
       "\n",
       "    .dataframe thead th {\n",
       "        text-align: right;\n",
       "    }\n",
       "</style>\n",
       "<table border=\"1\" class=\"dataframe\">\n",
       "  <thead>\n",
       "    <tr style=\"text-align: right;\">\n",
       "      <th></th>\n",
       "      <th>count</th>\n",
       "      <th>unique</th>\n",
       "      <th>top</th>\n",
       "      <th>freq</th>\n",
       "    </tr>\n",
       "  </thead>\n",
       "  <tbody>\n",
       "    <tr>\n",
       "      <th>Name</th>\n",
       "      <td>14</td>\n",
       "      <td>10</td>\n",
       "      <td>Ivan</td>\n",
       "      <td>2</td>\n",
       "    </tr>\n",
       "    <tr>\n",
       "      <th>City</th>\n",
       "      <td>14</td>\n",
       "      <td>5</td>\n",
       "      <td>New York</td>\n",
       "      <td>3</td>\n",
       "    </tr>\n",
       "    <tr>\n",
       "      <th>Date</th>\n",
       "      <td>14</td>\n",
       "      <td>10</td>\n",
       "      <td>2023-01-09</td>\n",
       "      <td>2</td>\n",
       "    </tr>\n",
       "    <tr>\n",
       "      <th>Category</th>\n",
       "      <td>13</td>\n",
       "      <td>3</td>\n",
       "      <td>B</td>\n",
       "      <td>6</td>\n",
       "    </tr>\n",
       "  </tbody>\n",
       "</table>\n",
       "</div>"
      ],
      "text/plain": [
       "         count unique         top freq\n",
       "Name        14     10        Ivan    2\n",
       "City        14      5    New York    3\n",
       "Date        14     10  2023-01-09    2\n",
       "Category    13      3           B    6"
      ]
     },
     "execution_count": 274,
     "metadata": {},
     "output_type": "execute_result"
    }
   ],
   "source": [
    "df.describe(include='object').T"
   ]
  },
  {
   "cell_type": "markdown",
   "id": "fe3b02e1-ab6a-4325-9749-169268cb1542",
   "metadata": {},
   "source": [
    "### **Data Manipulation**\n",
    "### **Indexing, Accessing, and Slicing**"
   ]
  },
  {
   "cell_type": "code",
   "execution_count": 275,
   "id": "c2ed0682-8b38-4652-9271-5f1efbbabbfe",
   "metadata": {},
   "outputs": [
    {
     "data": {
      "text/plain": [
       "0       Alice\n",
       "1         Bob\n",
       "2     Charlie\n",
       "3       David\n",
       "4         Eva\n",
       "5       Frank\n",
       "6       Grace\n",
       "7      Hannah\n",
       "8        Ivan\n",
       "9        Jack\n",
       "10       Ivan\n",
       "11       Jack\n",
       "12      Grace\n",
       "13     Hannah\n",
       "Name: Name, dtype: object"
      ]
     },
     "execution_count": 275,
     "metadata": {},
     "output_type": "execute_result"
    }
   ],
   "source": [
    "df.Name # or df['Name']"
   ]
  },
  {
   "cell_type": "code",
   "execution_count": 276,
   "id": "5baa818c-dda8-4bd2-bf81-86150579aae9",
   "metadata": {},
   "outputs": [
    {
     "data": {
      "text/html": [
       "<div>\n",
       "<style scoped>\n",
       "    .dataframe tbody tr th:only-of-type {\n",
       "        vertical-align: middle;\n",
       "    }\n",
       "\n",
       "    .dataframe tbody tr th {\n",
       "        vertical-align: top;\n",
       "    }\n",
       "\n",
       "    .dataframe thead th {\n",
       "        text-align: right;\n",
       "    }\n",
       "</style>\n",
       "<table border=\"1\" class=\"dataframe\">\n",
       "  <thead>\n",
       "    <tr style=\"text-align: right;\">\n",
       "      <th></th>\n",
       "      <th>Name</th>\n",
       "    </tr>\n",
       "  </thead>\n",
       "  <tbody>\n",
       "    <tr>\n",
       "      <th>0</th>\n",
       "      <td>Alice</td>\n",
       "    </tr>\n",
       "    <tr>\n",
       "      <th>1</th>\n",
       "      <td>Bob</td>\n",
       "    </tr>\n",
       "    <tr>\n",
       "      <th>2</th>\n",
       "      <td>Charlie</td>\n",
       "    </tr>\n",
       "    <tr>\n",
       "      <th>3</th>\n",
       "      <td>David</td>\n",
       "    </tr>\n",
       "    <tr>\n",
       "      <th>4</th>\n",
       "      <td>Eva</td>\n",
       "    </tr>\n",
       "    <tr>\n",
       "      <th>5</th>\n",
       "      <td>Frank</td>\n",
       "    </tr>\n",
       "    <tr>\n",
       "      <th>6</th>\n",
       "      <td>Grace</td>\n",
       "    </tr>\n",
       "    <tr>\n",
       "      <th>7</th>\n",
       "      <td>Hannah</td>\n",
       "    </tr>\n",
       "    <tr>\n",
       "      <th>8</th>\n",
       "      <td>Ivan</td>\n",
       "    </tr>\n",
       "    <tr>\n",
       "      <th>9</th>\n",
       "      <td>Jack</td>\n",
       "    </tr>\n",
       "    <tr>\n",
       "      <th>10</th>\n",
       "      <td>Ivan</td>\n",
       "    </tr>\n",
       "    <tr>\n",
       "      <th>11</th>\n",
       "      <td>Jack</td>\n",
       "    </tr>\n",
       "    <tr>\n",
       "      <th>12</th>\n",
       "      <td>Grace</td>\n",
       "    </tr>\n",
       "    <tr>\n",
       "      <th>13</th>\n",
       "      <td>Hannah</td>\n",
       "    </tr>\n",
       "  </tbody>\n",
       "</table>\n",
       "</div>"
      ],
      "text/plain": [
       "       Name\n",
       "0     Alice\n",
       "1       Bob\n",
       "2   Charlie\n",
       "3     David\n",
       "4       Eva\n",
       "5     Frank\n",
       "6     Grace\n",
       "7    Hannah\n",
       "8      Ivan\n",
       "9      Jack\n",
       "10     Ivan\n",
       "11     Jack\n",
       "12    Grace\n",
       "13   Hannah"
      ]
     },
     "execution_count": 276,
     "metadata": {},
     "output_type": "execute_result"
    }
   ],
   "source": [
    "df[['Name']]"
   ]
  },
  {
   "cell_type": "code",
   "execution_count": 277,
   "id": "457b8f53-7d9c-4715-9d65-99ac510fc49c",
   "metadata": {},
   "outputs": [
    {
     "data": {
      "text/html": [
       "<div>\n",
       "<style scoped>\n",
       "    .dataframe tbody tr th:only-of-type {\n",
       "        vertical-align: middle;\n",
       "    }\n",
       "\n",
       "    .dataframe tbody tr th {\n",
       "        vertical-align: top;\n",
       "    }\n",
       "\n",
       "    .dataframe thead th {\n",
       "        text-align: right;\n",
       "    }\n",
       "</style>\n",
       "<table border=\"1\" class=\"dataframe\">\n",
       "  <thead>\n",
       "    <tr style=\"text-align: right;\">\n",
       "      <th></th>\n",
       "      <th>Name</th>\n",
       "      <th>Age</th>\n",
       "    </tr>\n",
       "  </thead>\n",
       "  <tbody>\n",
       "    <tr>\n",
       "      <th>0</th>\n",
       "      <td>Alice</td>\n",
       "      <td>45.0</td>\n",
       "    </tr>\n",
       "    <tr>\n",
       "      <th>1</th>\n",
       "      <td>Bob</td>\n",
       "      <td>58.0</td>\n",
       "    </tr>\n",
       "    <tr>\n",
       "      <th>2</th>\n",
       "      <td>Charlie</td>\n",
       "      <td>60.0</td>\n",
       "    </tr>\n",
       "    <tr>\n",
       "      <th>3</th>\n",
       "      <td>David</td>\n",
       "      <td>28.0</td>\n",
       "    </tr>\n",
       "    <tr>\n",
       "      <th>4</th>\n",
       "      <td>Eva</td>\n",
       "      <td>49.0</td>\n",
       "    </tr>\n",
       "    <tr>\n",
       "      <th>5</th>\n",
       "      <td>Frank</td>\n",
       "      <td>67.0</td>\n",
       "    </tr>\n",
       "    <tr>\n",
       "      <th>6</th>\n",
       "      <td>Grace</td>\n",
       "      <td>NaN</td>\n",
       "    </tr>\n",
       "    <tr>\n",
       "      <th>7</th>\n",
       "      <td>Hannah</td>\n",
       "      <td>60.0</td>\n",
       "    </tr>\n",
       "    <tr>\n",
       "      <th>8</th>\n",
       "      <td>Ivan</td>\n",
       "      <td>37.0</td>\n",
       "    </tr>\n",
       "    <tr>\n",
       "      <th>9</th>\n",
       "      <td>Jack</td>\n",
       "      <td>31.0</td>\n",
       "    </tr>\n",
       "    <tr>\n",
       "      <th>10</th>\n",
       "      <td>Ivan</td>\n",
       "      <td>37.0</td>\n",
       "    </tr>\n",
       "    <tr>\n",
       "      <th>11</th>\n",
       "      <td>Jack</td>\n",
       "      <td>31.0</td>\n",
       "    </tr>\n",
       "    <tr>\n",
       "      <th>12</th>\n",
       "      <td>Grace</td>\n",
       "      <td>29.0</td>\n",
       "    </tr>\n",
       "    <tr>\n",
       "      <th>13</th>\n",
       "      <td>Hannah</td>\n",
       "      <td>60.0</td>\n",
       "    </tr>\n",
       "  </tbody>\n",
       "</table>\n",
       "</div>"
      ],
      "text/plain": [
       "       Name   Age\n",
       "0     Alice  45.0\n",
       "1       Bob  58.0\n",
       "2   Charlie  60.0\n",
       "3     David  28.0\n",
       "4       Eva  49.0\n",
       "5     Frank  67.0\n",
       "6     Grace   NaN\n",
       "7    Hannah  60.0\n",
       "8      Ivan  37.0\n",
       "9      Jack  31.0\n",
       "10     Ivan  37.0\n",
       "11     Jack  31.0\n",
       "12    Grace  29.0\n",
       "13   Hannah  60.0"
      ]
     },
     "execution_count": 277,
     "metadata": {},
     "output_type": "execute_result"
    }
   ],
   "source": [
    "df[['Name', 'Age']]"
   ]
  },
  {
   "cell_type": "code",
   "execution_count": 278,
   "id": "bc0ad26c-1c41-4cec-8d0d-65cbe4a36ff4",
   "metadata": {},
   "outputs": [
    {
     "data": {
      "text/html": [
       "<div>\n",
       "<style scoped>\n",
       "    .dataframe tbody tr th:only-of-type {\n",
       "        vertical-align: middle;\n",
       "    }\n",
       "\n",
       "    .dataframe tbody tr th {\n",
       "        vertical-align: top;\n",
       "    }\n",
       "\n",
       "    .dataframe thead th {\n",
       "        text-align: right;\n",
       "    }\n",
       "</style>\n",
       "<table border=\"1\" class=\"dataframe\">\n",
       "  <thead>\n",
       "    <tr style=\"text-align: right;\">\n",
       "      <th></th>\n",
       "      <th>Name</th>\n",
       "      <th>Age</th>\n",
       "      <th>City</th>\n",
       "      <th>Salary</th>\n",
       "    </tr>\n",
       "  </thead>\n",
       "  <tbody>\n",
       "    <tr>\n",
       "      <th>0</th>\n",
       "      <td>Alice</td>\n",
       "      <td>45.0</td>\n",
       "      <td>New York</td>\n",
       "      <td>95445.0</td>\n",
       "    </tr>\n",
       "    <tr>\n",
       "      <th>1</th>\n",
       "      <td>Bob</td>\n",
       "      <td>58.0</td>\n",
       "      <td>London</td>\n",
       "      <td>86235.0</td>\n",
       "    </tr>\n",
       "    <tr>\n",
       "      <th>2</th>\n",
       "      <td>Charlie</td>\n",
       "      <td>60.0</td>\n",
       "      <td>Tokyo</td>\n",
       "      <td>62330.0</td>\n",
       "    </tr>\n",
       "    <tr>\n",
       "      <th>3</th>\n",
       "      <td>David</td>\n",
       "      <td>28.0</td>\n",
       "      <td>Paris</td>\n",
       "      <td>46022.0</td>\n",
       "    </tr>\n",
       "    <tr>\n",
       "      <th>4</th>\n",
       "      <td>Eva</td>\n",
       "      <td>49.0</td>\n",
       "      <td>Berlin</td>\n",
       "      <td>65999.0</td>\n",
       "    </tr>\n",
       "    <tr>\n",
       "      <th>5</th>\n",
       "      <td>Frank</td>\n",
       "      <td>67.0</td>\n",
       "      <td>Paris</td>\n",
       "      <td>88320.0</td>\n",
       "    </tr>\n",
       "    <tr>\n",
       "      <th>6</th>\n",
       "      <td>Grace</td>\n",
       "      <td>NaN</td>\n",
       "      <td>Berlin</td>\n",
       "      <td>57141.0</td>\n",
       "    </tr>\n",
       "    <tr>\n",
       "      <th>7</th>\n",
       "      <td>Hannah</td>\n",
       "      <td>60.0</td>\n",
       "      <td>New York</td>\n",
       "      <td>65413.0</td>\n",
       "    </tr>\n",
       "    <tr>\n",
       "      <th>8</th>\n",
       "      <td>Ivan</td>\n",
       "      <td>37.0</td>\n",
       "      <td>Tokyo</td>\n",
       "      <td>87016.0</td>\n",
       "    </tr>\n",
       "    <tr>\n",
       "      <th>9</th>\n",
       "      <td>Jack</td>\n",
       "      <td>31.0</td>\n",
       "      <td>London</td>\n",
       "      <td>58725.0</td>\n",
       "    </tr>\n",
       "    <tr>\n",
       "      <th>10</th>\n",
       "      <td>Ivan</td>\n",
       "      <td>37.0</td>\n",
       "      <td>Tokyo</td>\n",
       "      <td>87016.0</td>\n",
       "    </tr>\n",
       "    <tr>\n",
       "      <th>11</th>\n",
       "      <td>Jack</td>\n",
       "      <td>31.0</td>\n",
       "      <td>London</td>\n",
       "      <td>58725.0</td>\n",
       "    </tr>\n",
       "    <tr>\n",
       "      <th>12</th>\n",
       "      <td>Grace</td>\n",
       "      <td>29.0</td>\n",
       "      <td>Berlin</td>\n",
       "      <td>57141.0</td>\n",
       "    </tr>\n",
       "    <tr>\n",
       "      <th>13</th>\n",
       "      <td>Hannah</td>\n",
       "      <td>60.0</td>\n",
       "      <td>New York</td>\n",
       "      <td>NaN</td>\n",
       "    </tr>\n",
       "  </tbody>\n",
       "</table>\n",
       "</div>"
      ],
      "text/plain": [
       "       Name   Age      City   Salary\n",
       "0     Alice  45.0  New York  95445.0\n",
       "1       Bob  58.0    London  86235.0\n",
       "2   Charlie  60.0     Tokyo  62330.0\n",
       "3     David  28.0     Paris  46022.0\n",
       "4       Eva  49.0    Berlin  65999.0\n",
       "5     Frank  67.0     Paris  88320.0\n",
       "6     Grace   NaN    Berlin  57141.0\n",
       "7    Hannah  60.0  New York  65413.0\n",
       "8      Ivan  37.0     Tokyo  87016.0\n",
       "9      Jack  31.0    London  58725.0\n",
       "10     Ivan  37.0     Tokyo  87016.0\n",
       "11     Jack  31.0    London  58725.0\n",
       "12    Grace  29.0    Berlin  57141.0\n",
       "13   Hannah  60.0  New York      NaN"
      ]
     },
     "execution_count": 278,
     "metadata": {},
     "output_type": "execute_result"
    }
   ],
   "source": [
    "col = df.columns[:4]\n",
    "df[col]"
   ]
  },
  {
   "cell_type": "markdown",
   "id": "32ca5de6-d152-499f-b0c2-9f5cfaed169a",
   "metadata": {},
   "source": [
    "#### **Slicing**"
   ]
  },
  {
   "cell_type": "code",
   "execution_count": 279,
   "id": "ddf2d7a1-6648-4aee-b2a9-ba0cdbff0685",
   "metadata": {},
   "outputs": [
    {
     "data": {
      "text/html": [
       "<div>\n",
       "<style scoped>\n",
       "    .dataframe tbody tr th:only-of-type {\n",
       "        vertical-align: middle;\n",
       "    }\n",
       "\n",
       "    .dataframe tbody tr th {\n",
       "        vertical-align: top;\n",
       "    }\n",
       "\n",
       "    .dataframe thead th {\n",
       "        text-align: right;\n",
       "    }\n",
       "</style>\n",
       "<table border=\"1\" class=\"dataframe\">\n",
       "  <thead>\n",
       "    <tr style=\"text-align: right;\">\n",
       "      <th></th>\n",
       "      <th>Name</th>\n",
       "      <th>Age</th>\n",
       "      <th>City</th>\n",
       "      <th>Salary</th>\n",
       "      <th>Date</th>\n",
       "      <th>Category</th>\n",
       "    </tr>\n",
       "  </thead>\n",
       "  <tbody>\n",
       "    <tr>\n",
       "      <th>1</th>\n",
       "      <td>Bob</td>\n",
       "      <td>58.0</td>\n",
       "      <td>London</td>\n",
       "      <td>86235.0</td>\n",
       "      <td>2023-01-02</td>\n",
       "      <td>B</td>\n",
       "    </tr>\n",
       "    <tr>\n",
       "      <th>2</th>\n",
       "      <td>Charlie</td>\n",
       "      <td>60.0</td>\n",
       "      <td>Tokyo</td>\n",
       "      <td>62330.0</td>\n",
       "      <td>2023-01-03</td>\n",
       "      <td>C</td>\n",
       "    </tr>\n",
       "    <tr>\n",
       "      <th>3</th>\n",
       "      <td>David</td>\n",
       "      <td>28.0</td>\n",
       "      <td>Paris</td>\n",
       "      <td>46022.0</td>\n",
       "      <td>2023-01-04</td>\n",
       "      <td>A</td>\n",
       "    </tr>\n",
       "    <tr>\n",
       "      <th>4</th>\n",
       "      <td>Eva</td>\n",
       "      <td>49.0</td>\n",
       "      <td>Berlin</td>\n",
       "      <td>65999.0</td>\n",
       "      <td>2023-01-05</td>\n",
       "      <td>B</td>\n",
       "    </tr>\n",
       "    <tr>\n",
       "      <th>5</th>\n",
       "      <td>Frank</td>\n",
       "      <td>67.0</td>\n",
       "      <td>Paris</td>\n",
       "      <td>88320.0</td>\n",
       "      <td>2023-01-06</td>\n",
       "      <td>A</td>\n",
       "    </tr>\n",
       "    <tr>\n",
       "      <th>6</th>\n",
       "      <td>Grace</td>\n",
       "      <td>NaN</td>\n",
       "      <td>Berlin</td>\n",
       "      <td>57141.0</td>\n",
       "      <td>2023-01-07</td>\n",
       "      <td>C</td>\n",
       "    </tr>\n",
       "    <tr>\n",
       "      <th>7</th>\n",
       "      <td>Hannah</td>\n",
       "      <td>60.0</td>\n",
       "      <td>New York</td>\n",
       "      <td>65413.0</td>\n",
       "      <td>2023-01-08</td>\n",
       "      <td>B</td>\n",
       "    </tr>\n",
       "    <tr>\n",
       "      <th>8</th>\n",
       "      <td>Ivan</td>\n",
       "      <td>37.0</td>\n",
       "      <td>Tokyo</td>\n",
       "      <td>87016.0</td>\n",
       "      <td>2023-01-09</td>\n",
       "      <td>A</td>\n",
       "    </tr>\n",
       "    <tr>\n",
       "      <th>9</th>\n",
       "      <td>Jack</td>\n",
       "      <td>31.0</td>\n",
       "      <td>London</td>\n",
       "      <td>58725.0</td>\n",
       "      <td>2023-01-10</td>\n",
       "      <td>B</td>\n",
       "    </tr>\n",
       "  </tbody>\n",
       "</table>\n",
       "</div>"
      ],
      "text/plain": [
       "      Name   Age      City   Salary        Date Category\n",
       "1      Bob  58.0    London  86235.0  2023-01-02        B\n",
       "2  Charlie  60.0     Tokyo  62330.0  2023-01-03        C\n",
       "3    David  28.0     Paris  46022.0  2023-01-04        A\n",
       "4      Eva  49.0    Berlin  65999.0  2023-01-05        B\n",
       "5    Frank  67.0     Paris  88320.0  2023-01-06        A\n",
       "6    Grace   NaN    Berlin  57141.0  2023-01-07        C\n",
       "7   Hannah  60.0  New York  65413.0  2023-01-08        B\n",
       "8     Ivan  37.0     Tokyo  87016.0  2023-01-09        A\n",
       "9     Jack  31.0    London  58725.0  2023-01-10        B"
      ]
     },
     "execution_count": 279,
     "metadata": {},
     "output_type": "execute_result"
    }
   ],
   "source": [
    "df[1:10]"
   ]
  },
  {
   "cell_type": "code",
   "execution_count": 280,
   "id": "e9f52899-04a4-48d7-b3ca-8e6f1b676374",
   "metadata": {
    "scrolled": true
   },
   "outputs": [
    {
     "data": {
      "text/html": [
       "<div>\n",
       "<style scoped>\n",
       "    .dataframe tbody tr th:only-of-type {\n",
       "        vertical-align: middle;\n",
       "    }\n",
       "\n",
       "    .dataframe tbody tr th {\n",
       "        vertical-align: top;\n",
       "    }\n",
       "\n",
       "    .dataframe thead th {\n",
       "        text-align: right;\n",
       "    }\n",
       "</style>\n",
       "<table border=\"1\" class=\"dataframe\">\n",
       "  <thead>\n",
       "    <tr style=\"text-align: right;\">\n",
       "      <th></th>\n",
       "      <th>Name</th>\n",
       "      <th>Age</th>\n",
       "      <th>City</th>\n",
       "      <th>Salary</th>\n",
       "      <th>Date</th>\n",
       "      <th>Category</th>\n",
       "    </tr>\n",
       "  </thead>\n",
       "  <tbody>\n",
       "    <tr>\n",
       "      <th>1</th>\n",
       "      <td>Bob</td>\n",
       "      <td>58.0</td>\n",
       "      <td>London</td>\n",
       "      <td>86235.0</td>\n",
       "      <td>2023-01-02</td>\n",
       "      <td>B</td>\n",
       "    </tr>\n",
       "    <tr>\n",
       "      <th>3</th>\n",
       "      <td>David</td>\n",
       "      <td>28.0</td>\n",
       "      <td>Paris</td>\n",
       "      <td>46022.0</td>\n",
       "      <td>2023-01-04</td>\n",
       "      <td>A</td>\n",
       "    </tr>\n",
       "    <tr>\n",
       "      <th>5</th>\n",
       "      <td>Frank</td>\n",
       "      <td>67.0</td>\n",
       "      <td>Paris</td>\n",
       "      <td>88320.0</td>\n",
       "      <td>2023-01-06</td>\n",
       "      <td>A</td>\n",
       "    </tr>\n",
       "    <tr>\n",
       "      <th>7</th>\n",
       "      <td>Hannah</td>\n",
       "      <td>60.0</td>\n",
       "      <td>New York</td>\n",
       "      <td>65413.0</td>\n",
       "      <td>2023-01-08</td>\n",
       "      <td>B</td>\n",
       "    </tr>\n",
       "    <tr>\n",
       "      <th>9</th>\n",
       "      <td>Jack</td>\n",
       "      <td>31.0</td>\n",
       "      <td>London</td>\n",
       "      <td>58725.0</td>\n",
       "      <td>2023-01-10</td>\n",
       "      <td>B</td>\n",
       "    </tr>\n",
       "  </tbody>\n",
       "</table>\n",
       "</div>"
      ],
      "text/plain": [
       "     Name   Age      City   Salary        Date Category\n",
       "1     Bob  58.0    London  86235.0  2023-01-02        B\n",
       "3   David  28.0     Paris  46022.0  2023-01-04        A\n",
       "5   Frank  67.0     Paris  88320.0  2023-01-06        A\n",
       "7  Hannah  60.0  New York  65413.0  2023-01-08        B\n",
       "9    Jack  31.0    London  58725.0  2023-01-10        B"
      ]
     },
     "execution_count": 280,
     "metadata": {},
     "output_type": "execute_result"
    }
   ],
   "source": [
    "df[1:10:2]"
   ]
  },
  {
   "cell_type": "markdown",
   "id": "0f390fb2-3a02-499b-b2c4-36488abaa7dc",
   "metadata": {},
   "source": [
    "#### **Categorical Accesing**\n",
    "- there is no excluse"
   ]
  },
  {
   "cell_type": "code",
   "execution_count": 281,
   "id": "87fbc304-23c2-408a-ad3b-35c371cd3e6b",
   "metadata": {},
   "outputs": [
    {
     "data": {
      "text/plain": [
       "Name               Bob\n",
       "Age               58.0\n",
       "City            London\n",
       "Salary         86235.0\n",
       "Date        2023-01-02\n",
       "Category             B\n",
       "Name: 1, dtype: object"
      ]
     },
     "execution_count": 281,
     "metadata": {},
     "output_type": "execute_result"
    }
   ],
   "source": [
    "df.loc[1] # accessing 1 row"
   ]
  },
  {
   "cell_type": "code",
   "execution_count": 282,
   "id": "4df5ee1a-4f1c-47be-a82b-b1d73dcb8158",
   "metadata": {},
   "outputs": [
    {
     "data": {
      "text/html": [
       "<div>\n",
       "<style scoped>\n",
       "    .dataframe tbody tr th:only-of-type {\n",
       "        vertical-align: middle;\n",
       "    }\n",
       "\n",
       "    .dataframe tbody tr th {\n",
       "        vertical-align: top;\n",
       "    }\n",
       "\n",
       "    .dataframe thead th {\n",
       "        text-align: right;\n",
       "    }\n",
       "</style>\n",
       "<table border=\"1\" class=\"dataframe\">\n",
       "  <thead>\n",
       "    <tr style=\"text-align: right;\">\n",
       "      <th></th>\n",
       "      <th>Name</th>\n",
       "      <th>Age</th>\n",
       "      <th>City</th>\n",
       "      <th>Salary</th>\n",
       "      <th>Date</th>\n",
       "      <th>Category</th>\n",
       "    </tr>\n",
       "  </thead>\n",
       "  <tbody>\n",
       "    <tr>\n",
       "      <th>0</th>\n",
       "      <td>Alice</td>\n",
       "      <td>45.0</td>\n",
       "      <td>New York</td>\n",
       "      <td>95445.0</td>\n",
       "      <td>2023-01-01</td>\n",
       "      <td>A</td>\n",
       "    </tr>\n",
       "    <tr>\n",
       "      <th>2</th>\n",
       "      <td>Charlie</td>\n",
       "      <td>60.0</td>\n",
       "      <td>Tokyo</td>\n",
       "      <td>62330.0</td>\n",
       "      <td>2023-01-03</td>\n",
       "      <td>C</td>\n",
       "    </tr>\n",
       "    <tr>\n",
       "      <th>4</th>\n",
       "      <td>Eva</td>\n",
       "      <td>49.0</td>\n",
       "      <td>Berlin</td>\n",
       "      <td>65999.0</td>\n",
       "      <td>2023-01-05</td>\n",
       "      <td>B</td>\n",
       "    </tr>\n",
       "    <tr>\n",
       "      <th>6</th>\n",
       "      <td>Grace</td>\n",
       "      <td>NaN</td>\n",
       "      <td>Berlin</td>\n",
       "      <td>57141.0</td>\n",
       "      <td>2023-01-07</td>\n",
       "      <td>C</td>\n",
       "    </tr>\n",
       "    <tr>\n",
       "      <th>8</th>\n",
       "      <td>Ivan</td>\n",
       "      <td>37.0</td>\n",
       "      <td>Tokyo</td>\n",
       "      <td>87016.0</td>\n",
       "      <td>2023-01-09</td>\n",
       "      <td>A</td>\n",
       "    </tr>\n",
       "    <tr>\n",
       "      <th>10</th>\n",
       "      <td>Ivan</td>\n",
       "      <td>37.0</td>\n",
       "      <td>Tokyo</td>\n",
       "      <td>87016.0</td>\n",
       "      <td>2023-01-09</td>\n",
       "      <td>A</td>\n",
       "    </tr>\n",
       "  </tbody>\n",
       "</table>\n",
       "</div>"
      ],
      "text/plain": [
       "       Name   Age      City   Salary        Date Category\n",
       "0     Alice  45.0  New York  95445.0  2023-01-01        A\n",
       "2   Charlie  60.0     Tokyo  62330.0  2023-01-03        C\n",
       "4       Eva  49.0    Berlin  65999.0  2023-01-05        B\n",
       "6     Grace   NaN    Berlin  57141.0  2023-01-07        C\n",
       "8      Ivan  37.0     Tokyo  87016.0  2023-01-09        A\n",
       "10     Ivan  37.0     Tokyo  87016.0  2023-01-09        A"
      ]
     },
     "execution_count": 282,
     "metadata": {},
     "output_type": "execute_result"
    }
   ],
   "source": [
    "df.loc[:10:2]"
   ]
  },
  {
   "cell_type": "code",
   "execution_count": 283,
   "id": "0db495db-628a-4158-8634-cd9a1ee53c8e",
   "metadata": {},
   "outputs": [
    {
     "data": {
      "text/html": [
       "<div>\n",
       "<style scoped>\n",
       "    .dataframe tbody tr th:only-of-type {\n",
       "        vertical-align: middle;\n",
       "    }\n",
       "\n",
       "    .dataframe tbody tr th {\n",
       "        vertical-align: top;\n",
       "    }\n",
       "\n",
       "    .dataframe thead th {\n",
       "        text-align: right;\n",
       "    }\n",
       "</style>\n",
       "<table border=\"1\" class=\"dataframe\">\n",
       "  <thead>\n",
       "    <tr style=\"text-align: right;\">\n",
       "      <th></th>\n",
       "      <th>Name</th>\n",
       "      <th>City</th>\n",
       "    </tr>\n",
       "  </thead>\n",
       "  <tbody>\n",
       "    <tr>\n",
       "      <th>0</th>\n",
       "      <td>Alice</td>\n",
       "      <td>New York</td>\n",
       "    </tr>\n",
       "    <tr>\n",
       "      <th>1</th>\n",
       "      <td>Bob</td>\n",
       "      <td>London</td>\n",
       "    </tr>\n",
       "    <tr>\n",
       "      <th>2</th>\n",
       "      <td>Charlie</td>\n",
       "      <td>Tokyo</td>\n",
       "    </tr>\n",
       "    <tr>\n",
       "      <th>3</th>\n",
       "      <td>David</td>\n",
       "      <td>Paris</td>\n",
       "    </tr>\n",
       "    <tr>\n",
       "      <th>4</th>\n",
       "      <td>Eva</td>\n",
       "      <td>Berlin</td>\n",
       "    </tr>\n",
       "    <tr>\n",
       "      <th>5</th>\n",
       "      <td>Frank</td>\n",
       "      <td>Paris</td>\n",
       "    </tr>\n",
       "    <tr>\n",
       "      <th>6</th>\n",
       "      <td>Grace</td>\n",
       "      <td>Berlin</td>\n",
       "    </tr>\n",
       "    <tr>\n",
       "      <th>7</th>\n",
       "      <td>Hannah</td>\n",
       "      <td>New York</td>\n",
       "    </tr>\n",
       "    <tr>\n",
       "      <th>8</th>\n",
       "      <td>Ivan</td>\n",
       "      <td>Tokyo</td>\n",
       "    </tr>\n",
       "    <tr>\n",
       "      <th>9</th>\n",
       "      <td>Jack</td>\n",
       "      <td>London</td>\n",
       "    </tr>\n",
       "    <tr>\n",
       "      <th>10</th>\n",
       "      <td>Ivan</td>\n",
       "      <td>Tokyo</td>\n",
       "    </tr>\n",
       "  </tbody>\n",
       "</table>\n",
       "</div>"
      ],
      "text/plain": [
       "       Name      City\n",
       "0     Alice  New York\n",
       "1       Bob    London\n",
       "2   Charlie     Tokyo\n",
       "3     David     Paris\n",
       "4       Eva    Berlin\n",
       "5     Frank     Paris\n",
       "6     Grace    Berlin\n",
       "7    Hannah  New York\n",
       "8      Ivan     Tokyo\n",
       "9      Jack    London\n",
       "10     Ivan     Tokyo"
      ]
     },
     "execution_count": 283,
     "metadata": {},
     "output_type": "execute_result"
    }
   ],
   "source": [
    "df.loc[:10 , \"Name\":\"Salary\":2]"
   ]
  },
  {
   "cell_type": "markdown",
   "id": "352a15b2-dc87-4dff-a018-da355b7d3339",
   "metadata": {},
   "source": [
    "#### **Numarical Accessing**"
   ]
  },
  {
   "cell_type": "code",
   "execution_count": 284,
   "id": "89addfc2-2e32-4357-ab29-5472456cc825",
   "metadata": {},
   "outputs": [
    {
     "data": {
      "text/html": [
       "<div>\n",
       "<style scoped>\n",
       "    .dataframe tbody tr th:only-of-type {\n",
       "        vertical-align: middle;\n",
       "    }\n",
       "\n",
       "    .dataframe tbody tr th {\n",
       "        vertical-align: top;\n",
       "    }\n",
       "\n",
       "    .dataframe thead th {\n",
       "        text-align: right;\n",
       "    }\n",
       "</style>\n",
       "<table border=\"1\" class=\"dataframe\">\n",
       "  <thead>\n",
       "    <tr style=\"text-align: right;\">\n",
       "      <th></th>\n",
       "      <th>Name</th>\n",
       "      <th>Age</th>\n",
       "      <th>City</th>\n",
       "      <th>Salary</th>\n",
       "      <th>Date</th>\n",
       "      <th>Category</th>\n",
       "    </tr>\n",
       "  </thead>\n",
       "  <tbody>\n",
       "    <tr>\n",
       "      <th>0</th>\n",
       "      <td>Alice</td>\n",
       "      <td>45.0</td>\n",
       "      <td>New York</td>\n",
       "      <td>95445.0</td>\n",
       "      <td>2023-01-01</td>\n",
       "      <td>A</td>\n",
       "    </tr>\n",
       "    <tr>\n",
       "      <th>1</th>\n",
       "      <td>Bob</td>\n",
       "      <td>58.0</td>\n",
       "      <td>London</td>\n",
       "      <td>86235.0</td>\n",
       "      <td>2023-01-02</td>\n",
       "      <td>B</td>\n",
       "    </tr>\n",
       "    <tr>\n",
       "      <th>2</th>\n",
       "      <td>Charlie</td>\n",
       "      <td>60.0</td>\n",
       "      <td>Tokyo</td>\n",
       "      <td>62330.0</td>\n",
       "      <td>2023-01-03</td>\n",
       "      <td>C</td>\n",
       "    </tr>\n",
       "    <tr>\n",
       "      <th>3</th>\n",
       "      <td>David</td>\n",
       "      <td>28.0</td>\n",
       "      <td>Paris</td>\n",
       "      <td>46022.0</td>\n",
       "      <td>2023-01-04</td>\n",
       "      <td>A</td>\n",
       "    </tr>\n",
       "    <tr>\n",
       "      <th>4</th>\n",
       "      <td>Eva</td>\n",
       "      <td>49.0</td>\n",
       "      <td>Berlin</td>\n",
       "      <td>65999.0</td>\n",
       "      <td>2023-01-05</td>\n",
       "      <td>B</td>\n",
       "    </tr>\n",
       "    <tr>\n",
       "      <th>5</th>\n",
       "      <td>Frank</td>\n",
       "      <td>67.0</td>\n",
       "      <td>Paris</td>\n",
       "      <td>88320.0</td>\n",
       "      <td>2023-01-06</td>\n",
       "      <td>A</td>\n",
       "    </tr>\n",
       "    <tr>\n",
       "      <th>6</th>\n",
       "      <td>Grace</td>\n",
       "      <td>NaN</td>\n",
       "      <td>Berlin</td>\n",
       "      <td>57141.0</td>\n",
       "      <td>2023-01-07</td>\n",
       "      <td>C</td>\n",
       "    </tr>\n",
       "    <tr>\n",
       "      <th>7</th>\n",
       "      <td>Hannah</td>\n",
       "      <td>60.0</td>\n",
       "      <td>New York</td>\n",
       "      <td>65413.0</td>\n",
       "      <td>2023-01-08</td>\n",
       "      <td>B</td>\n",
       "    </tr>\n",
       "    <tr>\n",
       "      <th>8</th>\n",
       "      <td>Ivan</td>\n",
       "      <td>37.0</td>\n",
       "      <td>Tokyo</td>\n",
       "      <td>87016.0</td>\n",
       "      <td>2023-01-09</td>\n",
       "      <td>A</td>\n",
       "    </tr>\n",
       "    <tr>\n",
       "      <th>9</th>\n",
       "      <td>Jack</td>\n",
       "      <td>31.0</td>\n",
       "      <td>London</td>\n",
       "      <td>58725.0</td>\n",
       "      <td>2023-01-10</td>\n",
       "      <td>B</td>\n",
       "    </tr>\n",
       "    <tr>\n",
       "      <th>10</th>\n",
       "      <td>Ivan</td>\n",
       "      <td>37.0</td>\n",
       "      <td>Tokyo</td>\n",
       "      <td>87016.0</td>\n",
       "      <td>2023-01-09</td>\n",
       "      <td>A</td>\n",
       "    </tr>\n",
       "    <tr>\n",
       "      <th>11</th>\n",
       "      <td>Jack</td>\n",
       "      <td>31.0</td>\n",
       "      <td>London</td>\n",
       "      <td>58725.0</td>\n",
       "      <td>2023-01-10</td>\n",
       "      <td>B</td>\n",
       "    </tr>\n",
       "  </tbody>\n",
       "</table>\n",
       "</div>"
      ],
      "text/plain": [
       "       Name   Age      City   Salary        Date Category\n",
       "0     Alice  45.0  New York  95445.0  2023-01-01        A\n",
       "1       Bob  58.0    London  86235.0  2023-01-02        B\n",
       "2   Charlie  60.0     Tokyo  62330.0  2023-01-03        C\n",
       "3     David  28.0     Paris  46022.0  2023-01-04        A\n",
       "4       Eva  49.0    Berlin  65999.0  2023-01-05        B\n",
       "5     Frank  67.0     Paris  88320.0  2023-01-06        A\n",
       "6     Grace   NaN    Berlin  57141.0  2023-01-07        C\n",
       "7    Hannah  60.0  New York  65413.0  2023-01-08        B\n",
       "8      Ivan  37.0     Tokyo  87016.0  2023-01-09        A\n",
       "9      Jack  31.0    London  58725.0  2023-01-10        B\n",
       "10     Ivan  37.0     Tokyo  87016.0  2023-01-09        A\n",
       "11     Jack  31.0    London  58725.0  2023-01-10        B"
      ]
     },
     "execution_count": 284,
     "metadata": {},
     "output_type": "execute_result"
    }
   ],
   "source": [
    "df.iloc[:12]"
   ]
  },
  {
   "cell_type": "code",
   "execution_count": 285,
   "id": "641151ee-7298-43cf-88ef-f10ea9a6422e",
   "metadata": {},
   "outputs": [
    {
     "data": {
      "text/html": [
       "<div>\n",
       "<style scoped>\n",
       "    .dataframe tbody tr th:only-of-type {\n",
       "        vertical-align: middle;\n",
       "    }\n",
       "\n",
       "    .dataframe tbody tr th {\n",
       "        vertical-align: top;\n",
       "    }\n",
       "\n",
       "    .dataframe thead th {\n",
       "        text-align: right;\n",
       "    }\n",
       "</style>\n",
       "<table border=\"1\" class=\"dataframe\">\n",
       "  <thead>\n",
       "    <tr style=\"text-align: right;\">\n",
       "      <th></th>\n",
       "      <th>Name</th>\n",
       "      <th>City</th>\n",
       "      <th>Date</th>\n",
       "    </tr>\n",
       "  </thead>\n",
       "  <tbody>\n",
       "    <tr>\n",
       "      <th>0</th>\n",
       "      <td>Alice</td>\n",
       "      <td>New York</td>\n",
       "      <td>2023-01-01</td>\n",
       "    </tr>\n",
       "    <tr>\n",
       "      <th>1</th>\n",
       "      <td>Bob</td>\n",
       "      <td>London</td>\n",
       "      <td>2023-01-02</td>\n",
       "    </tr>\n",
       "    <tr>\n",
       "      <th>2</th>\n",
       "      <td>Charlie</td>\n",
       "      <td>Tokyo</td>\n",
       "      <td>2023-01-03</td>\n",
       "    </tr>\n",
       "    <tr>\n",
       "      <th>3</th>\n",
       "      <td>David</td>\n",
       "      <td>Paris</td>\n",
       "      <td>2023-01-04</td>\n",
       "    </tr>\n",
       "    <tr>\n",
       "      <th>4</th>\n",
       "      <td>Eva</td>\n",
       "      <td>Berlin</td>\n",
       "      <td>2023-01-05</td>\n",
       "    </tr>\n",
       "    <tr>\n",
       "      <th>5</th>\n",
       "      <td>Frank</td>\n",
       "      <td>Paris</td>\n",
       "      <td>2023-01-06</td>\n",
       "    </tr>\n",
       "    <tr>\n",
       "      <th>6</th>\n",
       "      <td>Grace</td>\n",
       "      <td>Berlin</td>\n",
       "      <td>2023-01-07</td>\n",
       "    </tr>\n",
       "    <tr>\n",
       "      <th>7</th>\n",
       "      <td>Hannah</td>\n",
       "      <td>New York</td>\n",
       "      <td>2023-01-08</td>\n",
       "    </tr>\n",
       "    <tr>\n",
       "      <th>8</th>\n",
       "      <td>Ivan</td>\n",
       "      <td>Tokyo</td>\n",
       "      <td>2023-01-09</td>\n",
       "    </tr>\n",
       "    <tr>\n",
       "      <th>9</th>\n",
       "      <td>Jack</td>\n",
       "      <td>London</td>\n",
       "      <td>2023-01-10</td>\n",
       "    </tr>\n",
       "    <tr>\n",
       "      <th>10</th>\n",
       "      <td>Ivan</td>\n",
       "      <td>Tokyo</td>\n",
       "      <td>2023-01-09</td>\n",
       "    </tr>\n",
       "    <tr>\n",
       "      <th>11</th>\n",
       "      <td>Jack</td>\n",
       "      <td>London</td>\n",
       "      <td>2023-01-10</td>\n",
       "    </tr>\n",
       "  </tbody>\n",
       "</table>\n",
       "</div>"
      ],
      "text/plain": [
       "       Name      City        Date\n",
       "0     Alice  New York  2023-01-01\n",
       "1       Bob    London  2023-01-02\n",
       "2   Charlie     Tokyo  2023-01-03\n",
       "3     David     Paris  2023-01-04\n",
       "4       Eva    Berlin  2023-01-05\n",
       "5     Frank     Paris  2023-01-06\n",
       "6     Grace    Berlin  2023-01-07\n",
       "7    Hannah  New York  2023-01-08\n",
       "8      Ivan     Tokyo  2023-01-09\n",
       "9      Jack    London  2023-01-10\n",
       "10     Ivan     Tokyo  2023-01-09\n",
       "11     Jack    London  2023-01-10"
      ]
     },
     "execution_count": 285,
     "metadata": {},
     "output_type": "execute_result"
    }
   ],
   "source": [
    "df.iloc[:12, 0:5:2]"
   ]
  },
  {
   "cell_type": "markdown",
   "id": "dc8d7e67-5bf6-4ab4-97cd-145b66349858",
   "metadata": {},
   "source": [
    "#### **Boolean Indexing**"
   ]
  },
  {
   "cell_type": "code",
   "execution_count": 286,
   "id": "b5bd0f40-a033-4498-9acd-f3831c7f138e",
   "metadata": {},
   "outputs": [
    {
     "data": {
      "text/html": [
       "<div>\n",
       "<style scoped>\n",
       "    .dataframe tbody tr th:only-of-type {\n",
       "        vertical-align: middle;\n",
       "    }\n",
       "\n",
       "    .dataframe tbody tr th {\n",
       "        vertical-align: top;\n",
       "    }\n",
       "\n",
       "    .dataframe thead th {\n",
       "        text-align: right;\n",
       "    }\n",
       "</style>\n",
       "<table border=\"1\" class=\"dataframe\">\n",
       "  <thead>\n",
       "    <tr style=\"text-align: right;\">\n",
       "      <th></th>\n",
       "      <th>Name</th>\n",
       "      <th>Age</th>\n",
       "      <th>City</th>\n",
       "      <th>Salary</th>\n",
       "      <th>Date</th>\n",
       "      <th>Category</th>\n",
       "    </tr>\n",
       "  </thead>\n",
       "  <tbody>\n",
       "    <tr>\n",
       "      <th>0</th>\n",
       "      <td>Alice</td>\n",
       "      <td>45.0</td>\n",
       "      <td>New York</td>\n",
       "      <td>95445.0</td>\n",
       "      <td>2023-01-01</td>\n",
       "      <td>A</td>\n",
       "    </tr>\n",
       "    <tr>\n",
       "      <th>1</th>\n",
       "      <td>Bob</td>\n",
       "      <td>58.0</td>\n",
       "      <td>London</td>\n",
       "      <td>86235.0</td>\n",
       "      <td>2023-01-02</td>\n",
       "      <td>B</td>\n",
       "    </tr>\n",
       "    <tr>\n",
       "      <th>2</th>\n",
       "      <td>Charlie</td>\n",
       "      <td>60.0</td>\n",
       "      <td>Tokyo</td>\n",
       "      <td>62330.0</td>\n",
       "      <td>2023-01-03</td>\n",
       "      <td>C</td>\n",
       "    </tr>\n",
       "    <tr>\n",
       "      <th>3</th>\n",
       "      <td>David</td>\n",
       "      <td>28.0</td>\n",
       "      <td>Paris</td>\n",
       "      <td>46022.0</td>\n",
       "      <td>2023-01-04</td>\n",
       "      <td>A</td>\n",
       "    </tr>\n",
       "    <tr>\n",
       "      <th>4</th>\n",
       "      <td>Eva</td>\n",
       "      <td>49.0</td>\n",
       "      <td>Berlin</td>\n",
       "      <td>65999.0</td>\n",
       "      <td>2023-01-05</td>\n",
       "      <td>B</td>\n",
       "    </tr>\n",
       "  </tbody>\n",
       "</table>\n",
       "</div>"
      ],
      "text/plain": [
       "      Name   Age      City   Salary        Date Category\n",
       "0    Alice  45.0  New York  95445.0  2023-01-01        A\n",
       "1      Bob  58.0    London  86235.0  2023-01-02        B\n",
       "2  Charlie  60.0     Tokyo  62330.0  2023-01-03        C\n",
       "3    David  28.0     Paris  46022.0  2023-01-04        A\n",
       "4      Eva  49.0    Berlin  65999.0  2023-01-05        B"
      ]
     },
     "execution_count": 286,
     "metadata": {},
     "output_type": "execute_result"
    }
   ],
   "source": [
    "df.head()"
   ]
  },
  {
   "cell_type": "code",
   "execution_count": 287,
   "id": "61d62564-b754-4d51-829a-b1bcf474da0b",
   "metadata": {},
   "outputs": [
    {
     "data": {
      "text/plain": [
       "0      True\n",
       "1      True\n",
       "2      True\n",
       "3     False\n",
       "4      True\n",
       "5      True\n",
       "6     False\n",
       "7      True\n",
       "8      True\n",
       "9      True\n",
       "10     True\n",
       "11     True\n",
       "12    False\n",
       "13     True\n",
       "Name: Age, dtype: bool"
      ]
     },
     "execution_count": 287,
     "metadata": {},
     "output_type": "execute_result"
    }
   ],
   "source": [
    "df['Age'] > 30"
   ]
  },
  {
   "cell_type": "code",
   "execution_count": 288,
   "id": "70c64815-dd98-408e-b85e-316cc816132f",
   "metadata": {},
   "outputs": [
    {
     "data": {
      "text/html": [
       "<div>\n",
       "<style scoped>\n",
       "    .dataframe tbody tr th:only-of-type {\n",
       "        vertical-align: middle;\n",
       "    }\n",
       "\n",
       "    .dataframe tbody tr th {\n",
       "        vertical-align: top;\n",
       "    }\n",
       "\n",
       "    .dataframe thead th {\n",
       "        text-align: right;\n",
       "    }\n",
       "</style>\n",
       "<table border=\"1\" class=\"dataframe\">\n",
       "  <thead>\n",
       "    <tr style=\"text-align: right;\">\n",
       "      <th></th>\n",
       "      <th>Name</th>\n",
       "      <th>Age</th>\n",
       "      <th>City</th>\n",
       "      <th>Salary</th>\n",
       "      <th>Date</th>\n",
       "      <th>Category</th>\n",
       "    </tr>\n",
       "  </thead>\n",
       "  <tbody>\n",
       "    <tr>\n",
       "      <th>0</th>\n",
       "      <td>Alice</td>\n",
       "      <td>45.0</td>\n",
       "      <td>New York</td>\n",
       "      <td>95445.0</td>\n",
       "      <td>2023-01-01</td>\n",
       "      <td>A</td>\n",
       "    </tr>\n",
       "    <tr>\n",
       "      <th>1</th>\n",
       "      <td>Bob</td>\n",
       "      <td>58.0</td>\n",
       "      <td>London</td>\n",
       "      <td>86235.0</td>\n",
       "      <td>2023-01-02</td>\n",
       "      <td>B</td>\n",
       "    </tr>\n",
       "    <tr>\n",
       "      <th>2</th>\n",
       "      <td>Charlie</td>\n",
       "      <td>60.0</td>\n",
       "      <td>Tokyo</td>\n",
       "      <td>62330.0</td>\n",
       "      <td>2023-01-03</td>\n",
       "      <td>C</td>\n",
       "    </tr>\n",
       "    <tr>\n",
       "      <th>4</th>\n",
       "      <td>Eva</td>\n",
       "      <td>49.0</td>\n",
       "      <td>Berlin</td>\n",
       "      <td>65999.0</td>\n",
       "      <td>2023-01-05</td>\n",
       "      <td>B</td>\n",
       "    </tr>\n",
       "    <tr>\n",
       "      <th>5</th>\n",
       "      <td>Frank</td>\n",
       "      <td>67.0</td>\n",
       "      <td>Paris</td>\n",
       "      <td>88320.0</td>\n",
       "      <td>2023-01-06</td>\n",
       "      <td>A</td>\n",
       "    </tr>\n",
       "    <tr>\n",
       "      <th>7</th>\n",
       "      <td>Hannah</td>\n",
       "      <td>60.0</td>\n",
       "      <td>New York</td>\n",
       "      <td>65413.0</td>\n",
       "      <td>2023-01-08</td>\n",
       "      <td>B</td>\n",
       "    </tr>\n",
       "    <tr>\n",
       "      <th>8</th>\n",
       "      <td>Ivan</td>\n",
       "      <td>37.0</td>\n",
       "      <td>Tokyo</td>\n",
       "      <td>87016.0</td>\n",
       "      <td>2023-01-09</td>\n",
       "      <td>A</td>\n",
       "    </tr>\n",
       "    <tr>\n",
       "      <th>9</th>\n",
       "      <td>Jack</td>\n",
       "      <td>31.0</td>\n",
       "      <td>London</td>\n",
       "      <td>58725.0</td>\n",
       "      <td>2023-01-10</td>\n",
       "      <td>B</td>\n",
       "    </tr>\n",
       "    <tr>\n",
       "      <th>10</th>\n",
       "      <td>Ivan</td>\n",
       "      <td>37.0</td>\n",
       "      <td>Tokyo</td>\n",
       "      <td>87016.0</td>\n",
       "      <td>2023-01-09</td>\n",
       "      <td>A</td>\n",
       "    </tr>\n",
       "    <tr>\n",
       "      <th>11</th>\n",
       "      <td>Jack</td>\n",
       "      <td>31.0</td>\n",
       "      <td>London</td>\n",
       "      <td>58725.0</td>\n",
       "      <td>2023-01-10</td>\n",
       "      <td>B</td>\n",
       "    </tr>\n",
       "    <tr>\n",
       "      <th>13</th>\n",
       "      <td>Hannah</td>\n",
       "      <td>60.0</td>\n",
       "      <td>New York</td>\n",
       "      <td>NaN</td>\n",
       "      <td>2023-01-08</td>\n",
       "      <td>B</td>\n",
       "    </tr>\n",
       "  </tbody>\n",
       "</table>\n",
       "</div>"
      ],
      "text/plain": [
       "       Name   Age      City   Salary        Date Category\n",
       "0     Alice  45.0  New York  95445.0  2023-01-01        A\n",
       "1       Bob  58.0    London  86235.0  2023-01-02        B\n",
       "2   Charlie  60.0     Tokyo  62330.0  2023-01-03        C\n",
       "4       Eva  49.0    Berlin  65999.0  2023-01-05        B\n",
       "5     Frank  67.0     Paris  88320.0  2023-01-06        A\n",
       "7    Hannah  60.0  New York  65413.0  2023-01-08        B\n",
       "8      Ivan  37.0     Tokyo  87016.0  2023-01-09        A\n",
       "9      Jack  31.0    London  58725.0  2023-01-10        B\n",
       "10     Ivan  37.0     Tokyo  87016.0  2023-01-09        A\n",
       "11     Jack  31.0    London  58725.0  2023-01-10        B\n",
       "13   Hannah  60.0  New York      NaN  2023-01-08        B"
      ]
     },
     "execution_count": 288,
     "metadata": {},
     "output_type": "execute_result"
    }
   ],
   "source": [
    "df[df['Age'] > 30]"
   ]
  },
  {
   "cell_type": "code",
   "execution_count": 289,
   "id": "187515dc-3805-4dbd-8352-f37aaa6dd1c5",
   "metadata": {
    "scrolled": true
   },
   "outputs": [
    {
     "data": {
      "text/html": [
       "<div>\n",
       "<style scoped>\n",
       "    .dataframe tbody tr th:only-of-type {\n",
       "        vertical-align: middle;\n",
       "    }\n",
       "\n",
       "    .dataframe tbody tr th {\n",
       "        vertical-align: top;\n",
       "    }\n",
       "\n",
       "    .dataframe thead th {\n",
       "        text-align: right;\n",
       "    }\n",
       "</style>\n",
       "<table border=\"1\" class=\"dataframe\">\n",
       "  <thead>\n",
       "    <tr style=\"text-align: right;\">\n",
       "      <th></th>\n",
       "      <th>Name</th>\n",
       "      <th>Age</th>\n",
       "      <th>City</th>\n",
       "      <th>Salary</th>\n",
       "      <th>Date</th>\n",
       "      <th>Category</th>\n",
       "    </tr>\n",
       "  </thead>\n",
       "  <tbody>\n",
       "    <tr>\n",
       "      <th>2</th>\n",
       "      <td>Charlie</td>\n",
       "      <td>60.0</td>\n",
       "      <td>Tokyo</td>\n",
       "      <td>62330.0</td>\n",
       "      <td>2023-01-03</td>\n",
       "      <td>C</td>\n",
       "    </tr>\n",
       "    <tr>\n",
       "      <th>6</th>\n",
       "      <td>Grace</td>\n",
       "      <td>NaN</td>\n",
       "      <td>Berlin</td>\n",
       "      <td>57141.0</td>\n",
       "      <td>2023-01-07</td>\n",
       "      <td>C</td>\n",
       "    </tr>\n",
       "  </tbody>\n",
       "</table>\n",
       "</div>"
      ],
      "text/plain": [
       "      Name   Age    City   Salary        Date Category\n",
       "2  Charlie  60.0   Tokyo  62330.0  2023-01-03        C\n",
       "6    Grace   NaN  Berlin  57141.0  2023-01-07        C"
      ]
     },
     "execution_count": 289,
     "metadata": {},
     "output_type": "execute_result"
    }
   ],
   "source": [
    "df[df['Category'] == 'C']"
   ]
  },
  {
   "cell_type": "code",
   "execution_count": 290,
   "id": "65035b51-78f4-4866-82f9-a8dfdc590656",
   "metadata": {},
   "outputs": [
    {
     "data": {
      "text/html": [
       "<div>\n",
       "<style scoped>\n",
       "    .dataframe tbody tr th:only-of-type {\n",
       "        vertical-align: middle;\n",
       "    }\n",
       "\n",
       "    .dataframe tbody tr th {\n",
       "        vertical-align: top;\n",
       "    }\n",
       "\n",
       "    .dataframe thead th {\n",
       "        text-align: right;\n",
       "    }\n",
       "</style>\n",
       "<table border=\"1\" class=\"dataframe\">\n",
       "  <thead>\n",
       "    <tr style=\"text-align: right;\">\n",
       "      <th></th>\n",
       "      <th>Name</th>\n",
       "      <th>Age</th>\n",
       "      <th>City</th>\n",
       "      <th>Salary</th>\n",
       "      <th>Date</th>\n",
       "      <th>Category</th>\n",
       "    </tr>\n",
       "  </thead>\n",
       "  <tbody>\n",
       "    <tr>\n",
       "      <th>0</th>\n",
       "      <td>Alice</td>\n",
       "      <td>45.0</td>\n",
       "      <td>New York</td>\n",
       "      <td>95445.0</td>\n",
       "      <td>2023-01-01</td>\n",
       "      <td>A</td>\n",
       "    </tr>\n",
       "    <tr>\n",
       "      <th>5</th>\n",
       "      <td>Frank</td>\n",
       "      <td>67.0</td>\n",
       "      <td>Paris</td>\n",
       "      <td>88320.0</td>\n",
       "      <td>2023-01-06</td>\n",
       "      <td>A</td>\n",
       "    </tr>\n",
       "    <tr>\n",
       "      <th>8</th>\n",
       "      <td>Ivan</td>\n",
       "      <td>37.0</td>\n",
       "      <td>Tokyo</td>\n",
       "      <td>87016.0</td>\n",
       "      <td>2023-01-09</td>\n",
       "      <td>A</td>\n",
       "    </tr>\n",
       "    <tr>\n",
       "      <th>10</th>\n",
       "      <td>Ivan</td>\n",
       "      <td>37.0</td>\n",
       "      <td>Tokyo</td>\n",
       "      <td>87016.0</td>\n",
       "      <td>2023-01-09</td>\n",
       "      <td>A</td>\n",
       "    </tr>\n",
       "  </tbody>\n",
       "</table>\n",
       "</div>"
      ],
      "text/plain": [
       "     Name   Age      City   Salary        Date Category\n",
       "0   Alice  45.0  New York  95445.0  2023-01-01        A\n",
       "5   Frank  67.0     Paris  88320.0  2023-01-06        A\n",
       "8    Ivan  37.0     Tokyo  87016.0  2023-01-09        A\n",
       "10   Ivan  37.0     Tokyo  87016.0  2023-01-09        A"
      ]
     },
     "execution_count": 290,
     "metadata": {},
     "output_type": "execute_result"
    }
   ],
   "source": [
    "df[(df['Age'] > 30) & (df['Category'] == 'A')]"
   ]
  },
  {
   "cell_type": "code",
   "execution_count": 291,
   "id": "fc49b5e9-8528-412b-a549-67d34bddc981",
   "metadata": {},
   "outputs": [
    {
     "data": {
      "text/html": [
       "<div>\n",
       "<style scoped>\n",
       "    .dataframe tbody tr th:only-of-type {\n",
       "        vertical-align: middle;\n",
       "    }\n",
       "\n",
       "    .dataframe tbody tr th {\n",
       "        vertical-align: top;\n",
       "    }\n",
       "\n",
       "    .dataframe thead th {\n",
       "        text-align: right;\n",
       "    }\n",
       "</style>\n",
       "<table border=\"1\" class=\"dataframe\">\n",
       "  <thead>\n",
       "    <tr style=\"text-align: right;\">\n",
       "      <th></th>\n",
       "      <th>Name</th>\n",
       "      <th>Age</th>\n",
       "      <th>City</th>\n",
       "      <th>Salary</th>\n",
       "      <th>Date</th>\n",
       "      <th>Category</th>\n",
       "    </tr>\n",
       "  </thead>\n",
       "  <tbody>\n",
       "    <tr>\n",
       "      <th>0</th>\n",
       "      <td>Alice</td>\n",
       "      <td>45.0</td>\n",
       "      <td>New York</td>\n",
       "      <td>95445.0</td>\n",
       "      <td>2023-01-01</td>\n",
       "      <td>A</td>\n",
       "    </tr>\n",
       "    <tr>\n",
       "      <th>1</th>\n",
       "      <td>Bob</td>\n",
       "      <td>58.0</td>\n",
       "      <td>London</td>\n",
       "      <td>86235.0</td>\n",
       "      <td>2023-01-02</td>\n",
       "      <td>B</td>\n",
       "    </tr>\n",
       "    <tr>\n",
       "      <th>2</th>\n",
       "      <td>Charlie</td>\n",
       "      <td>60.0</td>\n",
       "      <td>Tokyo</td>\n",
       "      <td>62330.0</td>\n",
       "      <td>2023-01-03</td>\n",
       "      <td>C</td>\n",
       "    </tr>\n",
       "    <tr>\n",
       "      <th>4</th>\n",
       "      <td>Eva</td>\n",
       "      <td>49.0</td>\n",
       "      <td>Berlin</td>\n",
       "      <td>65999.0</td>\n",
       "      <td>2023-01-05</td>\n",
       "      <td>B</td>\n",
       "    </tr>\n",
       "    <tr>\n",
       "      <th>5</th>\n",
       "      <td>Frank</td>\n",
       "      <td>67.0</td>\n",
       "      <td>Paris</td>\n",
       "      <td>88320.0</td>\n",
       "      <td>2023-01-06</td>\n",
       "      <td>A</td>\n",
       "    </tr>\n",
       "    <tr>\n",
       "      <th>7</th>\n",
       "      <td>Hannah</td>\n",
       "      <td>60.0</td>\n",
       "      <td>New York</td>\n",
       "      <td>65413.0</td>\n",
       "      <td>2023-01-08</td>\n",
       "      <td>B</td>\n",
       "    </tr>\n",
       "    <tr>\n",
       "      <th>8</th>\n",
       "      <td>Ivan</td>\n",
       "      <td>37.0</td>\n",
       "      <td>Tokyo</td>\n",
       "      <td>87016.0</td>\n",
       "      <td>2023-01-09</td>\n",
       "      <td>A</td>\n",
       "    </tr>\n",
       "    <tr>\n",
       "      <th>9</th>\n",
       "      <td>Jack</td>\n",
       "      <td>31.0</td>\n",
       "      <td>London</td>\n",
       "      <td>58725.0</td>\n",
       "      <td>2023-01-10</td>\n",
       "      <td>B</td>\n",
       "    </tr>\n",
       "    <tr>\n",
       "      <th>10</th>\n",
       "      <td>Ivan</td>\n",
       "      <td>37.0</td>\n",
       "      <td>Tokyo</td>\n",
       "      <td>87016.0</td>\n",
       "      <td>2023-01-09</td>\n",
       "      <td>A</td>\n",
       "    </tr>\n",
       "    <tr>\n",
       "      <th>11</th>\n",
       "      <td>Jack</td>\n",
       "      <td>31.0</td>\n",
       "      <td>London</td>\n",
       "      <td>58725.0</td>\n",
       "      <td>2023-01-10</td>\n",
       "      <td>B</td>\n",
       "    </tr>\n",
       "    <tr>\n",
       "      <th>13</th>\n",
       "      <td>Hannah</td>\n",
       "      <td>60.0</td>\n",
       "      <td>New York</td>\n",
       "      <td>NaN</td>\n",
       "      <td>2023-01-08</td>\n",
       "      <td>B</td>\n",
       "    </tr>\n",
       "  </tbody>\n",
       "</table>\n",
       "</div>"
      ],
      "text/plain": [
       "       Name   Age      City   Salary        Date Category\n",
       "0     Alice  45.0  New York  95445.0  2023-01-01        A\n",
       "1       Bob  58.0    London  86235.0  2023-01-02        B\n",
       "2   Charlie  60.0     Tokyo  62330.0  2023-01-03        C\n",
       "4       Eva  49.0    Berlin  65999.0  2023-01-05        B\n",
       "5     Frank  67.0     Paris  88320.0  2023-01-06        A\n",
       "7    Hannah  60.0  New York  65413.0  2023-01-08        B\n",
       "8      Ivan  37.0     Tokyo  87016.0  2023-01-09        A\n",
       "9      Jack  31.0    London  58725.0  2023-01-10        B\n",
       "10     Ivan  37.0     Tokyo  87016.0  2023-01-09        A\n",
       "11     Jack  31.0    London  58725.0  2023-01-10        B\n",
       "13   Hannah  60.0  New York      NaN  2023-01-08        B"
      ]
     },
     "execution_count": 291,
     "metadata": {},
     "output_type": "execute_result"
    }
   ],
   "source": [
    "df[(df['Age'] > 30) | (df['City'] == 'Tokyo')]"
   ]
  },
  {
   "cell_type": "markdown",
   "id": "ca7b587a-899d-438a-988e-1852e7e1647c",
   "metadata": {},
   "source": [
    "#### **isin**"
   ]
  },
  {
   "cell_type": "code",
   "execution_count": 292,
   "id": "cff0732f-d290-4b83-b6b6-b492dfa848dc",
   "metadata": {},
   "outputs": [
    {
     "data": {
      "text/html": [
       "<div>\n",
       "<style scoped>\n",
       "    .dataframe tbody tr th:only-of-type {\n",
       "        vertical-align: middle;\n",
       "    }\n",
       "\n",
       "    .dataframe tbody tr th {\n",
       "        vertical-align: top;\n",
       "    }\n",
       "\n",
       "    .dataframe thead th {\n",
       "        text-align: right;\n",
       "    }\n",
       "</style>\n",
       "<table border=\"1\" class=\"dataframe\">\n",
       "  <thead>\n",
       "    <tr style=\"text-align: right;\">\n",
       "      <th></th>\n",
       "      <th>Name</th>\n",
       "      <th>Age</th>\n",
       "      <th>City</th>\n",
       "      <th>Salary</th>\n",
       "      <th>Date</th>\n",
       "      <th>Category</th>\n",
       "    </tr>\n",
       "  </thead>\n",
       "  <tbody>\n",
       "    <tr>\n",
       "      <th>0</th>\n",
       "      <td>Alice</td>\n",
       "      <td>45.0</td>\n",
       "      <td>New York</td>\n",
       "      <td>95445.0</td>\n",
       "      <td>2023-01-01</td>\n",
       "      <td>A</td>\n",
       "    </tr>\n",
       "    <tr>\n",
       "      <th>1</th>\n",
       "      <td>Bob</td>\n",
       "      <td>58.0</td>\n",
       "      <td>London</td>\n",
       "      <td>86235.0</td>\n",
       "      <td>2023-01-02</td>\n",
       "      <td>B</td>\n",
       "    </tr>\n",
       "    <tr>\n",
       "      <th>3</th>\n",
       "      <td>David</td>\n",
       "      <td>28.0</td>\n",
       "      <td>Paris</td>\n",
       "      <td>46022.0</td>\n",
       "      <td>2023-01-04</td>\n",
       "      <td>A</td>\n",
       "    </tr>\n",
       "    <tr>\n",
       "      <th>4</th>\n",
       "      <td>Eva</td>\n",
       "      <td>49.0</td>\n",
       "      <td>Berlin</td>\n",
       "      <td>65999.0</td>\n",
       "      <td>2023-01-05</td>\n",
       "      <td>B</td>\n",
       "    </tr>\n",
       "    <tr>\n",
       "      <th>5</th>\n",
       "      <td>Frank</td>\n",
       "      <td>67.0</td>\n",
       "      <td>Paris</td>\n",
       "      <td>88320.0</td>\n",
       "      <td>2023-01-06</td>\n",
       "      <td>A</td>\n",
       "    </tr>\n",
       "    <tr>\n",
       "      <th>7</th>\n",
       "      <td>Hannah</td>\n",
       "      <td>60.0</td>\n",
       "      <td>New York</td>\n",
       "      <td>65413.0</td>\n",
       "      <td>2023-01-08</td>\n",
       "      <td>B</td>\n",
       "    </tr>\n",
       "    <tr>\n",
       "      <th>8</th>\n",
       "      <td>Ivan</td>\n",
       "      <td>37.0</td>\n",
       "      <td>Tokyo</td>\n",
       "      <td>87016.0</td>\n",
       "      <td>2023-01-09</td>\n",
       "      <td>A</td>\n",
       "    </tr>\n",
       "    <tr>\n",
       "      <th>9</th>\n",
       "      <td>Jack</td>\n",
       "      <td>31.0</td>\n",
       "      <td>London</td>\n",
       "      <td>58725.0</td>\n",
       "      <td>2023-01-10</td>\n",
       "      <td>B</td>\n",
       "    </tr>\n",
       "    <tr>\n",
       "      <th>10</th>\n",
       "      <td>Ivan</td>\n",
       "      <td>37.0</td>\n",
       "      <td>Tokyo</td>\n",
       "      <td>87016.0</td>\n",
       "      <td>2023-01-09</td>\n",
       "      <td>A</td>\n",
       "    </tr>\n",
       "    <tr>\n",
       "      <th>11</th>\n",
       "      <td>Jack</td>\n",
       "      <td>31.0</td>\n",
       "      <td>London</td>\n",
       "      <td>58725.0</td>\n",
       "      <td>2023-01-10</td>\n",
       "      <td>B</td>\n",
       "    </tr>\n",
       "    <tr>\n",
       "      <th>13</th>\n",
       "      <td>Hannah</td>\n",
       "      <td>60.0</td>\n",
       "      <td>New York</td>\n",
       "      <td>NaN</td>\n",
       "      <td>2023-01-08</td>\n",
       "      <td>B</td>\n",
       "    </tr>\n",
       "  </tbody>\n",
       "</table>\n",
       "</div>"
      ],
      "text/plain": [
       "      Name   Age      City   Salary        Date Category\n",
       "0    Alice  45.0  New York  95445.0  2023-01-01        A\n",
       "1      Bob  58.0    London  86235.0  2023-01-02        B\n",
       "3    David  28.0     Paris  46022.0  2023-01-04        A\n",
       "4      Eva  49.0    Berlin  65999.0  2023-01-05        B\n",
       "5    Frank  67.0     Paris  88320.0  2023-01-06        A\n",
       "7   Hannah  60.0  New York  65413.0  2023-01-08        B\n",
       "8     Ivan  37.0     Tokyo  87016.0  2023-01-09        A\n",
       "9     Jack  31.0    London  58725.0  2023-01-10        B\n",
       "10    Ivan  37.0     Tokyo  87016.0  2023-01-09        A\n",
       "11    Jack  31.0    London  58725.0  2023-01-10        B\n",
       "13  Hannah  60.0  New York      NaN  2023-01-08        B"
      ]
     },
     "execution_count": 292,
     "metadata": {},
     "output_type": "execute_result"
    }
   ],
   "source": [
    "df[df['Category'].isin(['A','B'])]"
   ]
  },
  {
   "cell_type": "code",
   "execution_count": 293,
   "id": "dcef3d06-0c82-44f7-8e64-cdf02eaf8f3f",
   "metadata": {},
   "outputs": [
    {
     "data": {
      "text/html": [
       "<div>\n",
       "<style scoped>\n",
       "    .dataframe tbody tr th:only-of-type {\n",
       "        vertical-align: middle;\n",
       "    }\n",
       "\n",
       "    .dataframe tbody tr th {\n",
       "        vertical-align: top;\n",
       "    }\n",
       "\n",
       "    .dataframe thead th {\n",
       "        text-align: right;\n",
       "    }\n",
       "</style>\n",
       "<table border=\"1\" class=\"dataframe\">\n",
       "  <thead>\n",
       "    <tr style=\"text-align: right;\">\n",
       "      <th></th>\n",
       "      <th>Name</th>\n",
       "      <th>Age</th>\n",
       "      <th>City</th>\n",
       "      <th>Salary</th>\n",
       "      <th>Date</th>\n",
       "      <th>Category</th>\n",
       "    </tr>\n",
       "  </thead>\n",
       "  <tbody>\n",
       "    <tr>\n",
       "      <th>0</th>\n",
       "      <td>Alice</td>\n",
       "      <td>45.0</td>\n",
       "      <td>New York</td>\n",
       "      <td>95445.0</td>\n",
       "      <td>2023-01-01</td>\n",
       "      <td>A</td>\n",
       "    </tr>\n",
       "    <tr>\n",
       "      <th>1</th>\n",
       "      <td>Bob</td>\n",
       "      <td>58.0</td>\n",
       "      <td>London</td>\n",
       "      <td>86235.0</td>\n",
       "      <td>2023-01-02</td>\n",
       "      <td>B</td>\n",
       "    </tr>\n",
       "    <tr>\n",
       "      <th>7</th>\n",
       "      <td>Hannah</td>\n",
       "      <td>60.0</td>\n",
       "      <td>New York</td>\n",
       "      <td>65413.0</td>\n",
       "      <td>2023-01-08</td>\n",
       "      <td>B</td>\n",
       "    </tr>\n",
       "    <tr>\n",
       "      <th>9</th>\n",
       "      <td>Jack</td>\n",
       "      <td>31.0</td>\n",
       "      <td>London</td>\n",
       "      <td>58725.0</td>\n",
       "      <td>2023-01-10</td>\n",
       "      <td>B</td>\n",
       "    </tr>\n",
       "    <tr>\n",
       "      <th>11</th>\n",
       "      <td>Jack</td>\n",
       "      <td>31.0</td>\n",
       "      <td>London</td>\n",
       "      <td>58725.0</td>\n",
       "      <td>2023-01-10</td>\n",
       "      <td>B</td>\n",
       "    </tr>\n",
       "    <tr>\n",
       "      <th>13</th>\n",
       "      <td>Hannah</td>\n",
       "      <td>60.0</td>\n",
       "      <td>New York</td>\n",
       "      <td>NaN</td>\n",
       "      <td>2023-01-08</td>\n",
       "      <td>B</td>\n",
       "    </tr>\n",
       "  </tbody>\n",
       "</table>\n",
       "</div>"
      ],
      "text/plain": [
       "      Name   Age      City   Salary        Date Category\n",
       "0    Alice  45.0  New York  95445.0  2023-01-01        A\n",
       "1      Bob  58.0    London  86235.0  2023-01-02        B\n",
       "7   Hannah  60.0  New York  65413.0  2023-01-08        B\n",
       "9     Jack  31.0    London  58725.0  2023-01-10        B\n",
       "11    Jack  31.0    London  58725.0  2023-01-10        B\n",
       "13  Hannah  60.0  New York      NaN  2023-01-08        B"
      ]
     },
     "execution_count": 293,
     "metadata": {},
     "output_type": "execute_result"
    }
   ],
   "source": [
    "df[df['City'].isin(['New York', 'San Fransisco', 'London'])]"
   ]
  },
  {
   "cell_type": "markdown",
   "id": "13a47891-5441-4654-a10a-cbef27c9f4ef",
   "metadata": {},
   "source": [
    "#### **Query**"
   ]
  },
  {
   "cell_type": "code",
   "execution_count": 294,
   "id": "135f2ced-86e0-4fbf-8633-9db4c478a211",
   "metadata": {},
   "outputs": [
    {
     "data": {
      "text/html": [
       "<div>\n",
       "<style scoped>\n",
       "    .dataframe tbody tr th:only-of-type {\n",
       "        vertical-align: middle;\n",
       "    }\n",
       "\n",
       "    .dataframe tbody tr th {\n",
       "        vertical-align: top;\n",
       "    }\n",
       "\n",
       "    .dataframe thead th {\n",
       "        text-align: right;\n",
       "    }\n",
       "</style>\n",
       "<table border=\"1\" class=\"dataframe\">\n",
       "  <thead>\n",
       "    <tr style=\"text-align: right;\">\n",
       "      <th></th>\n",
       "      <th>Name</th>\n",
       "      <th>Age</th>\n",
       "      <th>City</th>\n",
       "      <th>Salary</th>\n",
       "      <th>Date</th>\n",
       "      <th>Category</th>\n",
       "    </tr>\n",
       "  </thead>\n",
       "  <tbody>\n",
       "    <tr>\n",
       "      <th>0</th>\n",
       "      <td>Alice</td>\n",
       "      <td>45.0</td>\n",
       "      <td>New York</td>\n",
       "      <td>95445.0</td>\n",
       "      <td>2023-01-01</td>\n",
       "      <td>A</td>\n",
       "    </tr>\n",
       "    <tr>\n",
       "      <th>1</th>\n",
       "      <td>Bob</td>\n",
       "      <td>58.0</td>\n",
       "      <td>London</td>\n",
       "      <td>86235.0</td>\n",
       "      <td>2023-01-02</td>\n",
       "      <td>B</td>\n",
       "    </tr>\n",
       "    <tr>\n",
       "      <th>2</th>\n",
       "      <td>Charlie</td>\n",
       "      <td>60.0</td>\n",
       "      <td>Tokyo</td>\n",
       "      <td>62330.0</td>\n",
       "      <td>2023-01-03</td>\n",
       "      <td>C</td>\n",
       "    </tr>\n",
       "    <tr>\n",
       "      <th>4</th>\n",
       "      <td>Eva</td>\n",
       "      <td>49.0</td>\n",
       "      <td>Berlin</td>\n",
       "      <td>65999.0</td>\n",
       "      <td>2023-01-05</td>\n",
       "      <td>B</td>\n",
       "    </tr>\n",
       "    <tr>\n",
       "      <th>5</th>\n",
       "      <td>Frank</td>\n",
       "      <td>67.0</td>\n",
       "      <td>Paris</td>\n",
       "      <td>88320.0</td>\n",
       "      <td>2023-01-06</td>\n",
       "      <td>A</td>\n",
       "    </tr>\n",
       "    <tr>\n",
       "      <th>7</th>\n",
       "      <td>Hannah</td>\n",
       "      <td>60.0</td>\n",
       "      <td>New York</td>\n",
       "      <td>65413.0</td>\n",
       "      <td>2023-01-08</td>\n",
       "      <td>B</td>\n",
       "    </tr>\n",
       "    <tr>\n",
       "      <th>8</th>\n",
       "      <td>Ivan</td>\n",
       "      <td>37.0</td>\n",
       "      <td>Tokyo</td>\n",
       "      <td>87016.0</td>\n",
       "      <td>2023-01-09</td>\n",
       "      <td>A</td>\n",
       "    </tr>\n",
       "    <tr>\n",
       "      <th>9</th>\n",
       "      <td>Jack</td>\n",
       "      <td>31.0</td>\n",
       "      <td>London</td>\n",
       "      <td>58725.0</td>\n",
       "      <td>2023-01-10</td>\n",
       "      <td>B</td>\n",
       "    </tr>\n",
       "    <tr>\n",
       "      <th>10</th>\n",
       "      <td>Ivan</td>\n",
       "      <td>37.0</td>\n",
       "      <td>Tokyo</td>\n",
       "      <td>87016.0</td>\n",
       "      <td>2023-01-09</td>\n",
       "      <td>A</td>\n",
       "    </tr>\n",
       "    <tr>\n",
       "      <th>11</th>\n",
       "      <td>Jack</td>\n",
       "      <td>31.0</td>\n",
       "      <td>London</td>\n",
       "      <td>58725.0</td>\n",
       "      <td>2023-01-10</td>\n",
       "      <td>B</td>\n",
       "    </tr>\n",
       "    <tr>\n",
       "      <th>13</th>\n",
       "      <td>Hannah</td>\n",
       "      <td>60.0</td>\n",
       "      <td>New York</td>\n",
       "      <td>NaN</td>\n",
       "      <td>2023-01-08</td>\n",
       "      <td>B</td>\n",
       "    </tr>\n",
       "  </tbody>\n",
       "</table>\n",
       "</div>"
      ],
      "text/plain": [
       "       Name   Age      City   Salary        Date Category\n",
       "0     Alice  45.0  New York  95445.0  2023-01-01        A\n",
       "1       Bob  58.0    London  86235.0  2023-01-02        B\n",
       "2   Charlie  60.0     Tokyo  62330.0  2023-01-03        C\n",
       "4       Eva  49.0    Berlin  65999.0  2023-01-05        B\n",
       "5     Frank  67.0     Paris  88320.0  2023-01-06        A\n",
       "7    Hannah  60.0  New York  65413.0  2023-01-08        B\n",
       "8      Ivan  37.0     Tokyo  87016.0  2023-01-09        A\n",
       "9      Jack  31.0    London  58725.0  2023-01-10        B\n",
       "10     Ivan  37.0     Tokyo  87016.0  2023-01-09        A\n",
       "11     Jack  31.0    London  58725.0  2023-01-10        B\n",
       "13   Hannah  60.0  New York      NaN  2023-01-08        B"
      ]
     },
     "execution_count": 294,
     "metadata": {},
     "output_type": "execute_result"
    }
   ],
   "source": [
    "df.query('Age > 30')"
   ]
  },
  {
   "cell_type": "code",
   "execution_count": 295,
   "id": "05c5aad7-71bb-4da7-87b7-b8277b6bcc7f",
   "metadata": {},
   "outputs": [
    {
     "data": {
      "text/html": [
       "<div>\n",
       "<style scoped>\n",
       "    .dataframe tbody tr th:only-of-type {\n",
       "        vertical-align: middle;\n",
       "    }\n",
       "\n",
       "    .dataframe tbody tr th {\n",
       "        vertical-align: top;\n",
       "    }\n",
       "\n",
       "    .dataframe thead th {\n",
       "        text-align: right;\n",
       "    }\n",
       "</style>\n",
       "<table border=\"1\" class=\"dataframe\">\n",
       "  <thead>\n",
       "    <tr style=\"text-align: right;\">\n",
       "      <th></th>\n",
       "      <th>Name</th>\n",
       "      <th>Age</th>\n",
       "      <th>City</th>\n",
       "      <th>Salary</th>\n",
       "      <th>Date</th>\n",
       "      <th>Category</th>\n",
       "    </tr>\n",
       "  </thead>\n",
       "  <tbody>\n",
       "    <tr>\n",
       "      <th>2</th>\n",
       "      <td>Charlie</td>\n",
       "      <td>60.0</td>\n",
       "      <td>Tokyo</td>\n",
       "      <td>62330.0</td>\n",
       "      <td>2023-01-03</td>\n",
       "      <td>C</td>\n",
       "    </tr>\n",
       "    <tr>\n",
       "      <th>6</th>\n",
       "      <td>Grace</td>\n",
       "      <td>NaN</td>\n",
       "      <td>Berlin</td>\n",
       "      <td>57141.0</td>\n",
       "      <td>2023-01-07</td>\n",
       "      <td>C</td>\n",
       "    </tr>\n",
       "  </tbody>\n",
       "</table>\n",
       "</div>"
      ],
      "text/plain": [
       "      Name   Age    City   Salary        Date Category\n",
       "2  Charlie  60.0   Tokyo  62330.0  2023-01-03        C\n",
       "6    Grace   NaN  Berlin  57141.0  2023-01-07        C"
      ]
     },
     "execution_count": 295,
     "metadata": {},
     "output_type": "execute_result"
    }
   ],
   "source": [
    "df.query('Category == \"C\"')"
   ]
  },
  {
   "cell_type": "code",
   "execution_count": 296,
   "id": "fded2dec-f2b4-4bf9-a7fc-301a42da954f",
   "metadata": {},
   "outputs": [
    {
     "data": {
      "text/html": [
       "<div>\n",
       "<style scoped>\n",
       "    .dataframe tbody tr th:only-of-type {\n",
       "        vertical-align: middle;\n",
       "    }\n",
       "\n",
       "    .dataframe tbody tr th {\n",
       "        vertical-align: top;\n",
       "    }\n",
       "\n",
       "    .dataframe thead th {\n",
       "        text-align: right;\n",
       "    }\n",
       "</style>\n",
       "<table border=\"1\" class=\"dataframe\">\n",
       "  <thead>\n",
       "    <tr style=\"text-align: right;\">\n",
       "      <th></th>\n",
       "      <th>Name</th>\n",
       "      <th>Age</th>\n",
       "      <th>City</th>\n",
       "      <th>Salary</th>\n",
       "      <th>Date</th>\n",
       "      <th>Category</th>\n",
       "    </tr>\n",
       "  </thead>\n",
       "  <tbody>\n",
       "    <tr>\n",
       "      <th>2</th>\n",
       "      <td>Charlie</td>\n",
       "      <td>60.0</td>\n",
       "      <td>Tokyo</td>\n",
       "      <td>62330.0</td>\n",
       "      <td>2023-01-03</td>\n",
       "      <td>C</td>\n",
       "    </tr>\n",
       "  </tbody>\n",
       "</table>\n",
       "</div>"
      ],
      "text/plain": [
       "      Name   Age   City   Salary        Date Category\n",
       "2  Charlie  60.0  Tokyo  62330.0  2023-01-03        C"
      ]
     },
     "execution_count": 296,
     "metadata": {},
     "output_type": "execute_result"
    }
   ],
   "source": [
    "df.query('Age > 30 and Category == \"C\"')"
   ]
  },
  {
   "cell_type": "markdown",
   "id": "6781bd27-c6ab-43e4-8b05-34b637d0389c",
   "metadata": {},
   "source": [
    "#### **Where**"
   ]
  },
  {
   "cell_type": "code",
   "execution_count": 297,
   "id": "25323ec8-ca08-4013-ae71-59189ac3dde5",
   "metadata": {},
   "outputs": [],
   "source": [
    "import numpy as np"
   ]
  },
  {
   "cell_type": "code",
   "execution_count": 298,
   "id": "066232c7-5dc2-456a-8085-110722f8ae9d",
   "metadata": {},
   "outputs": [
    {
     "data": {
      "text/plain": [
       "(array([ 0,  1,  2,  4,  5,  7,  8,  9, 10, 11, 13]),)"
      ]
     },
     "execution_count": 298,
     "metadata": {},
     "output_type": "execute_result"
    }
   ],
   "source": [
    "np.where(df['Age'] > 30) # Based on the index Validate"
   ]
  },
  {
   "cell_type": "markdown",
   "id": "5668b239-742c-4e42-bf11-493f447aa1d7",
   "metadata": {},
   "source": [
    "### **Accessing Value** and **Modifing**"
   ]
  },
  {
   "cell_type": "code",
   "execution_count": 299,
   "id": "1d4c218a-1359-491f-9cdd-d6e973209a9a",
   "metadata": {},
   "outputs": [
    {
     "data": {
      "text/plain": [
       "'Charlie'"
      ]
     },
     "execution_count": 299,
     "metadata": {},
     "output_type": "execute_result"
    }
   ],
   "source": [
    "df['Name'][2]"
   ]
  },
  {
   "cell_type": "code",
   "execution_count": 300,
   "id": "4f7015b2-32fe-4583-b60c-13cad35fec31",
   "metadata": {},
   "outputs": [
    {
     "name": "stdout",
     "output_type": "stream",
     "text": [
      "Befor Modifieng : Charlie\n",
      "After Modifieng : Ash\n"
     ]
    }
   ],
   "source": [
    "print(f\"Befor Modifieng : {df['Name'][2]}\")\n",
    "\n",
    "df['Name'][2] = 'Ash'\n",
    "\n",
    "print(f\"After Modifieng : {df['Name'][2]}\")"
   ]
  },
  {
   "cell_type": "code",
   "execution_count": 301,
   "id": "377fbca2-7861-4b85-83d9-7b380b01e6ae",
   "metadata": {},
   "outputs": [
    {
     "data": {
      "text/plain": [
       "Name               Ash\n",
       "Age               60.0\n",
       "City             Tokyo\n",
       "Salary         62330.0\n",
       "Date        2023-01-03\n",
       "Category             C\n",
       "Name: 2, dtype: object"
      ]
     },
     "execution_count": 301,
     "metadata": {},
     "output_type": "execute_result"
    }
   ],
   "source": [
    "df.loc[2]"
   ]
  },
  {
   "cell_type": "markdown",
   "id": "6bb1af3c-49f2-4d80-a6a1-ca86d9b708e6",
   "metadata": {},
   "source": [
    "#### **String method**"
   ]
  },
  {
   "cell_type": "code",
   "execution_count": 302,
   "id": "29768358-0ace-4936-9e17-9d00353cffe8",
   "metadata": {},
   "outputs": [
    {
     "data": {
      "text/html": [
       "<div>\n",
       "<style scoped>\n",
       "    .dataframe tbody tr th:only-of-type {\n",
       "        vertical-align: middle;\n",
       "    }\n",
       "\n",
       "    .dataframe tbody tr th {\n",
       "        vertical-align: top;\n",
       "    }\n",
       "\n",
       "    .dataframe thead th {\n",
       "        text-align: right;\n",
       "    }\n",
       "</style>\n",
       "<table border=\"1\" class=\"dataframe\">\n",
       "  <thead>\n",
       "    <tr style=\"text-align: right;\">\n",
       "      <th></th>\n",
       "      <th>Name</th>\n",
       "      <th>Age</th>\n",
       "      <th>City</th>\n",
       "      <th>Salary</th>\n",
       "      <th>Date</th>\n",
       "      <th>Category</th>\n",
       "    </tr>\n",
       "  </thead>\n",
       "  <tbody>\n",
       "    <tr>\n",
       "      <th>1</th>\n",
       "      <td>Bob</td>\n",
       "      <td>58.0</td>\n",
       "      <td>London</td>\n",
       "      <td>86235.0</td>\n",
       "      <td>2023-01-02</td>\n",
       "      <td>B</td>\n",
       "    </tr>\n",
       "    <tr>\n",
       "      <th>9</th>\n",
       "      <td>Jack</td>\n",
       "      <td>31.0</td>\n",
       "      <td>London</td>\n",
       "      <td>58725.0</td>\n",
       "      <td>2023-01-10</td>\n",
       "      <td>B</td>\n",
       "    </tr>\n",
       "    <tr>\n",
       "      <th>11</th>\n",
       "      <td>Jack</td>\n",
       "      <td>31.0</td>\n",
       "      <td>London</td>\n",
       "      <td>58725.0</td>\n",
       "      <td>2023-01-10</td>\n",
       "      <td>B</td>\n",
       "    </tr>\n",
       "  </tbody>\n",
       "</table>\n",
       "</div>"
      ],
      "text/plain": [
       "    Name   Age    City   Salary        Date Category\n",
       "1    Bob  58.0  London  86235.0  2023-01-02        B\n",
       "9   Jack  31.0  London  58725.0  2023-01-10        B\n",
       "11  Jack  31.0  London  58725.0  2023-01-10        B"
      ]
     },
     "execution_count": 302,
     "metadata": {},
     "output_type": "execute_result"
    }
   ],
   "source": [
    "df[df['City'].str.contains('london', case=False)] # Filtering the record based on the string value"
   ]
  },
  {
   "cell_type": "code",
   "execution_count": 303,
   "id": "2537117c-b4b3-4ec8-af4f-b919622d1383",
   "metadata": {},
   "outputs": [
    {
     "data": {
      "text/html": [
       "<div>\n",
       "<style scoped>\n",
       "    .dataframe tbody tr th:only-of-type {\n",
       "        vertical-align: middle;\n",
       "    }\n",
       "\n",
       "    .dataframe tbody tr th {\n",
       "        vertical-align: top;\n",
       "    }\n",
       "\n",
       "    .dataframe thead th {\n",
       "        text-align: right;\n",
       "    }\n",
       "</style>\n",
       "<table border=\"1\" class=\"dataframe\">\n",
       "  <thead>\n",
       "    <tr style=\"text-align: right;\">\n",
       "      <th></th>\n",
       "      <th>Name</th>\n",
       "      <th>Age</th>\n",
       "      <th>City</th>\n",
       "      <th>Salary</th>\n",
       "      <th>Date</th>\n",
       "      <th>Category</th>\n",
       "    </tr>\n",
       "  </thead>\n",
       "  <tbody>\n",
       "    <tr>\n",
       "      <th>1</th>\n",
       "      <td>Bob</td>\n",
       "      <td>58.0</td>\n",
       "      <td>London</td>\n",
       "      <td>86235.0</td>\n",
       "      <td>2023-01-02</td>\n",
       "      <td>B</td>\n",
       "    </tr>\n",
       "    <tr>\n",
       "      <th>9</th>\n",
       "      <td>Jack</td>\n",
       "      <td>31.0</td>\n",
       "      <td>London</td>\n",
       "      <td>58725.0</td>\n",
       "      <td>2023-01-10</td>\n",
       "      <td>B</td>\n",
       "    </tr>\n",
       "    <tr>\n",
       "      <th>11</th>\n",
       "      <td>Jack</td>\n",
       "      <td>31.0</td>\n",
       "      <td>London</td>\n",
       "      <td>58725.0</td>\n",
       "      <td>2023-01-10</td>\n",
       "      <td>B</td>\n",
       "    </tr>\n",
       "  </tbody>\n",
       "</table>\n",
       "</div>"
      ],
      "text/plain": [
       "    Name   Age    City   Salary        Date Category\n",
       "1    Bob  58.0  London  86235.0  2023-01-02        B\n",
       "9   Jack  31.0  London  58725.0  2023-01-10        B\n",
       "11  Jack  31.0  London  58725.0  2023-01-10        B"
      ]
     },
     "execution_count": 303,
     "metadata": {},
     "output_type": "execute_result"
    }
   ],
   "source": [
    "df[df['City'].str.contains('London', case=False)]"
   ]
  },
  {
   "cell_type": "code",
   "execution_count": 304,
   "id": "7f746540-1b18-4bf8-9207-9bf01f99bcdf",
   "metadata": {},
   "outputs": [
    {
     "data": {
      "text/plain": [
       "0     [New, York]\n",
       "1        [London]\n",
       "2         [Tokyo]\n",
       "3         [Paris]\n",
       "4        [Berlin]\n",
       "5         [Paris]\n",
       "6        [Berlin]\n",
       "7     [New, York]\n",
       "8         [Tokyo]\n",
       "9        [London]\n",
       "10        [Tokyo]\n",
       "11       [London]\n",
       "12       [Berlin]\n",
       "13    [New, York]\n",
       "Name: City, dtype: object"
      ]
     },
     "execution_count": 304,
     "metadata": {},
     "output_type": "execute_result"
    }
   ],
   "source": [
    "df['City'].str.split(' ')"
   ]
  },
  {
   "cell_type": "code",
   "execution_count": 305,
   "id": "bd1f1b04-1b48-448c-a44d-6ac06e8bde1f",
   "metadata": {
    "scrolled": true
   },
   "outputs": [
    {
     "data": {
      "text/plain": [
       "0        New\n",
       "1     London\n",
       "2      Tokyo\n",
       "3      Paris\n",
       "4     Berlin\n",
       "5      Paris\n",
       "6     Berlin\n",
       "7        New\n",
       "8      Tokyo\n",
       "9     London\n",
       "10     Tokyo\n",
       "11    London\n",
       "12    Berlin\n",
       "13       New\n",
       "Name: City, dtype: object"
      ]
     },
     "execution_count": 305,
     "metadata": {},
     "output_type": "execute_result"
    }
   ],
   "source": [
    "df['City'].str.split(' ').str.get(0)"
   ]
  },
  {
   "cell_type": "code",
   "execution_count": 306,
   "id": "fe437f7f-8631-4641-8c76-6778b7c9021c",
   "metadata": {},
   "outputs": [
    {
     "data": {
      "text/html": [
       "<div>\n",
       "<style scoped>\n",
       "    .dataframe tbody tr th:only-of-type {\n",
       "        vertical-align: middle;\n",
       "    }\n",
       "\n",
       "    .dataframe tbody tr th {\n",
       "        vertical-align: top;\n",
       "    }\n",
       "\n",
       "    .dataframe thead th {\n",
       "        text-align: right;\n",
       "    }\n",
       "</style>\n",
       "<table border=\"1\" class=\"dataframe\">\n",
       "  <thead>\n",
       "    <tr style=\"text-align: right;\">\n",
       "      <th></th>\n",
       "      <th>Name</th>\n",
       "      <th>Age</th>\n",
       "      <th>City</th>\n",
       "      <th>Salary</th>\n",
       "      <th>Date</th>\n",
       "      <th>Category</th>\n",
       "    </tr>\n",
       "  </thead>\n",
       "  <tbody>\n",
       "    <tr>\n",
       "      <th>0</th>\n",
       "      <td>Alice</td>\n",
       "      <td>45.0</td>\n",
       "      <td>New York</td>\n",
       "      <td>95445.0</td>\n",
       "      <td>2023-01-01</td>\n",
       "      <td>A</td>\n",
       "    </tr>\n",
       "    <tr>\n",
       "      <th>2</th>\n",
       "      <td>Ash</td>\n",
       "      <td>60.0</td>\n",
       "      <td>Tokyo</td>\n",
       "      <td>62330.0</td>\n",
       "      <td>2023-01-03</td>\n",
       "      <td>C</td>\n",
       "    </tr>\n",
       "  </tbody>\n",
       "</table>\n",
       "</div>"
      ],
      "text/plain": [
       "    Name   Age      City   Salary        Date Category\n",
       "0  Alice  45.0  New York  95445.0  2023-01-01        A\n",
       "2    Ash  60.0     Tokyo  62330.0  2023-01-03        C"
      ]
     },
     "execution_count": 306,
     "metadata": {},
     "output_type": "execute_result"
    }
   ],
   "source": [
    "df[df['Name'].str.startswith('A')]"
   ]
  },
  {
   "cell_type": "code",
   "execution_count": 307,
   "id": "15a53bdc-83bf-4224-a04a-05923589355f",
   "metadata": {},
   "outputs": [
    {
     "data": {
      "text/html": [
       "<div>\n",
       "<style scoped>\n",
       "    .dataframe tbody tr th:only-of-type {\n",
       "        vertical-align: middle;\n",
       "    }\n",
       "\n",
       "    .dataframe tbody tr th {\n",
       "        vertical-align: top;\n",
       "    }\n",
       "\n",
       "    .dataframe thead th {\n",
       "        text-align: right;\n",
       "    }\n",
       "</style>\n",
       "<table border=\"1\" class=\"dataframe\">\n",
       "  <thead>\n",
       "    <tr style=\"text-align: right;\">\n",
       "      <th></th>\n",
       "      <th>Name</th>\n",
       "      <th>Age</th>\n",
       "      <th>City</th>\n",
       "      <th>Salary</th>\n",
       "      <th>Date</th>\n",
       "      <th>Category</th>\n",
       "    </tr>\n",
       "  </thead>\n",
       "  <tbody>\n",
       "    <tr>\n",
       "      <th>2</th>\n",
       "      <td>Ash</td>\n",
       "      <td>60.0</td>\n",
       "      <td>Tokyo</td>\n",
       "      <td>62330.0</td>\n",
       "      <td>2023-01-03</td>\n",
       "      <td>C</td>\n",
       "    </tr>\n",
       "    <tr>\n",
       "      <th>7</th>\n",
       "      <td>Hannah</td>\n",
       "      <td>60.0</td>\n",
       "      <td>New York</td>\n",
       "      <td>65413.0</td>\n",
       "      <td>2023-01-08</td>\n",
       "      <td>B</td>\n",
       "    </tr>\n",
       "    <tr>\n",
       "      <th>13</th>\n",
       "      <td>Hannah</td>\n",
       "      <td>60.0</td>\n",
       "      <td>New York</td>\n",
       "      <td>NaN</td>\n",
       "      <td>2023-01-08</td>\n",
       "      <td>B</td>\n",
       "    </tr>\n",
       "  </tbody>\n",
       "</table>\n",
       "</div>"
      ],
      "text/plain": [
       "      Name   Age      City   Salary        Date Category\n",
       "2      Ash  60.0     Tokyo  62330.0  2023-01-03        C\n",
       "7   Hannah  60.0  New York  65413.0  2023-01-08        B\n",
       "13  Hannah  60.0  New York      NaN  2023-01-08        B"
      ]
     },
     "execution_count": 307,
     "metadata": {},
     "output_type": "execute_result"
    }
   ],
   "source": [
    "df[df['Name'].str.endswith('h')]"
   ]
  },
  {
   "cell_type": "code",
   "execution_count": 308,
   "id": "8d71af28-1f41-4c8d-8518-b724c2a8394f",
   "metadata": {},
   "outputs": [],
   "source": [
    "df['Name1'] = df['Name'].str.upper()"
   ]
  },
  {
   "cell_type": "code",
   "execution_count": 309,
   "id": "da719aa7-042c-4e7c-a256-4e4e1a9166ea",
   "metadata": {},
   "outputs": [],
   "source": [
    "df['Name1'] = df['Name'].str.lower()"
   ]
  },
  {
   "cell_type": "code",
   "execution_count": 310,
   "id": "35b1d0c3-8f57-4470-ba15-3f4914f356fd",
   "metadata": {},
   "outputs": [],
   "source": [
    "df['Name1'] = df['Name'].str.capitalize()"
   ]
  },
  {
   "cell_type": "code",
   "execution_count": 311,
   "id": "9675080b-c432-466b-9e07-e1bf18d50a2e",
   "metadata": {},
   "outputs": [
    {
     "data": {
      "text/plain": [
       "np.int64(2)"
      ]
     },
     "execution_count": 311,
     "metadata": {},
     "output_type": "execute_result"
    }
   ],
   "source": [
    "df['Name'].str.count('Hannah').sum() # counting the occurence"
   ]
  },
  {
   "cell_type": "code",
   "execution_count": 312,
   "id": "bb157b2a-a734-411b-8bf7-64e311108943",
   "metadata": {},
   "outputs": [
    {
     "data": {
      "text/plain": [
       "0      Alice Mr\n",
       "1        Bob Mr\n",
       "2        Ash Mr\n",
       "3      David Mr\n",
       "4        Eva Mr\n",
       "5      Frank Mr\n",
       "6      Grace Mr\n",
       "7     Hannah Mr\n",
       "8       Ivan Mr\n",
       "9       Jack Mr\n",
       "10      Ivan Mr\n",
       "11      Jack Mr\n",
       "12     Grace Mr\n",
       "13    Hannah Mr\n",
       "Name: Name, dtype: object"
      ]
     },
     "execution_count": 312,
     "metadata": {},
     "output_type": "execute_result"
    }
   ],
   "source": [
    "df['Name'].add(' Mr')"
   ]
  },
  {
   "cell_type": "code",
   "execution_count": 313,
   "id": "ed52b4db-2b7e-4fde-aa46-b4f5b9faccf5",
   "metadata": {},
   "outputs": [],
   "source": [
    "df['City'] = df['City'].str.replace('London','India')"
   ]
  },
  {
   "cell_type": "markdown",
   "id": "613e3852-4bc5-439b-af42-e730d4c2c422",
   "metadata": {},
   "source": [
    "### **Data Cleaning**"
   ]
  },
  {
   "cell_type": "code",
   "execution_count": 314,
   "id": "f42d40e4-b534-4196-a245-47251b1bdeb3",
   "metadata": {},
   "outputs": [
    {
     "data": {
      "text/html": [
       "<div>\n",
       "<style scoped>\n",
       "    .dataframe tbody tr th:only-of-type {\n",
       "        vertical-align: middle;\n",
       "    }\n",
       "\n",
       "    .dataframe tbody tr th {\n",
       "        vertical-align: top;\n",
       "    }\n",
       "\n",
       "    .dataframe thead th {\n",
       "        text-align: right;\n",
       "    }\n",
       "</style>\n",
       "<table border=\"1\" class=\"dataframe\">\n",
       "  <thead>\n",
       "    <tr style=\"text-align: right;\">\n",
       "      <th></th>\n",
       "      <th>A</th>\n",
       "      <th>B</th>\n",
       "    </tr>\n",
       "  </thead>\n",
       "  <tbody>\n",
       "    <tr>\n",
       "      <th>0</th>\n",
       "      <td>1.0</td>\n",
       "      <td>7.0</td>\n",
       "    </tr>\n",
       "    <tr>\n",
       "      <th>1</th>\n",
       "      <td>2.0</td>\n",
       "      <td>NaN</td>\n",
       "    </tr>\n",
       "    <tr>\n",
       "      <th>2</th>\n",
       "      <td>NaN</td>\n",
       "      <td>9.0</td>\n",
       "    </tr>\n",
       "    <tr>\n",
       "      <th>3</th>\n",
       "      <td>4.0</td>\n",
       "      <td>NaN</td>\n",
       "    </tr>\n",
       "    <tr>\n",
       "      <th>4</th>\n",
       "      <td>NaN</td>\n",
       "      <td>11.0</td>\n",
       "    </tr>\n",
       "    <tr>\n",
       "      <th>5</th>\n",
       "      <td>6.0</td>\n",
       "      <td>NaN</td>\n",
       "    </tr>\n",
       "    <tr>\n",
       "      <th>6</th>\n",
       "      <td>7.0</td>\n",
       "      <td>50.0</td>\n",
       "    </tr>\n",
       "    <tr>\n",
       "      <th>7</th>\n",
       "      <td>1.0</td>\n",
       "      <td>7.0</td>\n",
       "    </tr>\n",
       "    <tr>\n",
       "      <th>8</th>\n",
       "      <td>100.0</td>\n",
       "      <td>7.0</td>\n",
       "    </tr>\n",
       "  </tbody>\n",
       "</table>\n",
       "</div>"
      ],
      "text/plain": [
       "       A     B\n",
       "0    1.0   7.0\n",
       "1    2.0   NaN\n",
       "2    NaN   9.0\n",
       "3    4.0   NaN\n",
       "4    NaN  11.0\n",
       "5    6.0   NaN\n",
       "6    7.0  50.0\n",
       "7    1.0   7.0\n",
       "8  100.0   7.0"
      ]
     },
     "execution_count": 314,
     "metadata": {},
     "output_type": "execute_result"
    }
   ],
   "source": [
    "data = pd.DataFrame({'A': [1, 2, None, 4, None, 6, 7, 1, 100], 'B': [7, None, 9, None, 11, None,50, 7, 7]})\n",
    "data"
   ]
  },
  {
   "cell_type": "code",
   "execution_count": 315,
   "id": "2a0e9bce-5184-4e40-9b3d-f042e923844a",
   "metadata": {},
   "outputs": [
    {
     "data": {
      "text/plain": [
       "A    2\n",
       "B    3\n",
       "dtype: int64"
      ]
     },
     "execution_count": 315,
     "metadata": {},
     "output_type": "execute_result"
    }
   ],
   "source": [
    "data.isnull().sum() # finding Missing Values"
   ]
  },
  {
   "cell_type": "code",
   "execution_count": 316,
   "id": "4b40d25c-a8d7-4893-9f57-12c4e55ed12f",
   "metadata": {},
   "outputs": [
    {
     "data": {
      "text/plain": [
       "A    2\n",
       "B    3\n",
       "dtype: int64"
      ]
     },
     "execution_count": 316,
     "metadata": {},
     "output_type": "execute_result"
    }
   ],
   "source": [
    "data.isna().sum()"
   ]
  },
  {
   "cell_type": "code",
   "execution_count": 317,
   "id": "5658dffc-b3a3-4409-9c76-69451b81a17f",
   "metadata": {},
   "outputs": [
    {
     "data": {
      "text/plain": [
       "A    7\n",
       "B    6\n",
       "dtype: int64"
      ]
     },
     "execution_count": 317,
     "metadata": {},
     "output_type": "execute_result"
    }
   ],
   "source": [
    "data.notnull().sum()"
   ]
  },
  {
   "cell_type": "code",
   "execution_count": 318,
   "id": "92030b40-62a2-4d1d-9a92-2ca3c4ae4b7d",
   "metadata": {},
   "outputs": [
    {
     "data": {
      "text/plain": [
       "A    7\n",
       "B    6\n",
       "dtype: int64"
      ]
     },
     "execution_count": 318,
     "metadata": {},
     "output_type": "execute_result"
    }
   ],
   "source": [
    "data.notna().sum()"
   ]
  },
  {
   "cell_type": "code",
   "execution_count": 319,
   "id": "f745faea-5ad0-4ec0-981d-ab3ca5cafe4c",
   "metadata": {},
   "outputs": [
    {
     "data": {
      "text/plain": [
       "np.int64(1)"
      ]
     },
     "execution_count": 319,
     "metadata": {},
     "output_type": "execute_result"
    }
   ],
   "source": [
    "data.duplicated().sum() # finding Duplicates"
   ]
  },
  {
   "cell_type": "code",
   "execution_count": 320,
   "id": "4b2be3f0-4c8c-4be3-a894-981b4273678e",
   "metadata": {},
   "outputs": [
    {
     "name": "stdout",
     "output_type": "stream",
     "text": [
      "       A     B\n",
      "8  100.0   7.0\n",
      "6    7.0  50.0\n"
     ]
    }
   ],
   "source": [
    "# Finding Outlier\n",
    "def find_outlier(df, columns):\n",
    "    outlier_indices = set()\n",
    "    \n",
    "    for col in columns:\n",
    "        Q1 = df[col].quantile(0.25)\n",
    "        Q3 = df[col].quantile(0.75)\n",
    "        IQR = Q3 - Q1\n",
    "        lf = Q1 - 1.5 * IQR\n",
    "        uf = Q3 + 1.5 * IQR\n",
    "        col_outliers = df[(df[col] < lf) | (df[col] > uf)]\n",
    "        outlier_indices.update(col_outliers.index)\n",
    "        \n",
    "    return df.loc[list(outlier_indices)]\n",
    "\n",
    "outliers = find_outlier(data, ['A', 'B'])\n",
    "print(outliers)"
   ]
  },
  {
   "cell_type": "markdown",
   "id": "3bdac29f-586a-4d2c-8b56-a006ebf42434",
   "metadata": {},
   "source": [
    "#### **Handling Missing Values**"
   ]
  },
  {
   "cell_type": "code",
   "execution_count": 321,
   "id": "f588ca5f-e978-4706-8e4b-c2e4a61f21db",
   "metadata": {
    "scrolled": true
   },
   "outputs": [
    {
     "data": {
      "text/html": [
       "<div>\n",
       "<style scoped>\n",
       "    .dataframe tbody tr th:only-of-type {\n",
       "        vertical-align: middle;\n",
       "    }\n",
       "\n",
       "    .dataframe tbody tr th {\n",
       "        vertical-align: top;\n",
       "    }\n",
       "\n",
       "    .dataframe thead th {\n",
       "        text-align: right;\n",
       "    }\n",
       "</style>\n",
       "<table border=\"1\" class=\"dataframe\">\n",
       "  <thead>\n",
       "    <tr style=\"text-align: right;\">\n",
       "      <th></th>\n",
       "      <th>A</th>\n",
       "      <th>B</th>\n",
       "    </tr>\n",
       "  </thead>\n",
       "  <tbody>\n",
       "    <tr>\n",
       "      <th>0</th>\n",
       "      <td>1.0</td>\n",
       "      <td>7.0</td>\n",
       "    </tr>\n",
       "    <tr>\n",
       "      <th>6</th>\n",
       "      <td>7.0</td>\n",
       "      <td>50.0</td>\n",
       "    </tr>\n",
       "    <tr>\n",
       "      <th>7</th>\n",
       "      <td>1.0</td>\n",
       "      <td>7.0</td>\n",
       "    </tr>\n",
       "    <tr>\n",
       "      <th>8</th>\n",
       "      <td>100.0</td>\n",
       "      <td>7.0</td>\n",
       "    </tr>\n",
       "  </tbody>\n",
       "</table>\n",
       "</div>"
      ],
      "text/plain": [
       "       A     B\n",
       "0    1.0   7.0\n",
       "6    7.0  50.0\n",
       "7    1.0   7.0\n",
       "8  100.0   7.0"
      ]
     },
     "execution_count": 321,
     "metadata": {},
     "output_type": "execute_result"
    }
   ],
   "source": [
    "# data.dropna(subset=['B']) # Drop the missing values in a specific column\n",
    "dropna = data.dropna()\n",
    "dropna"
   ]
  },
  {
   "cell_type": "code",
   "execution_count": 322,
   "id": "b9de4a6a-c2ea-48f4-9e69-5b107ee8a789",
   "metadata": {},
   "outputs": [
    {
     "data": {
      "text/plain": [
       "np.float64(17.29)"
      ]
     },
     "execution_count": 322,
     "metadata": {},
     "output_type": "execute_result"
    }
   ],
   "source": [
    "round(data['A'].mean(), 2)"
   ]
  },
  {
   "cell_type": "code",
   "execution_count": 323,
   "id": "32124e33-c600-4cef-bf3d-cbe16b43d029",
   "metadata": {},
   "outputs": [
    {
     "data": {
      "text/plain": [
       "0      1.00\n",
       "1      2.00\n",
       "2     17.29\n",
       "3      4.00\n",
       "4     17.29\n",
       "5      6.00\n",
       "6      7.00\n",
       "7      1.00\n",
       "8    100.00\n",
       "Name: A, dtype: float64"
      ]
     },
     "execution_count": 323,
     "metadata": {},
     "output_type": "execute_result"
    }
   ],
   "source": [
    "data['A'].fillna(round(data['A'].mean(), 2)) # , inplace=True is to change in the raw data"
   ]
  },
  {
   "cell_type": "code",
   "execution_count": 324,
   "id": "02ca003c-dddc-47be-baaa-0a92f995e210",
   "metadata": {
    "scrolled": true
   },
   "outputs": [
    {
     "data": {
      "text/plain": [
       "0     7.00\n",
       "1    15.17\n",
       "2     9.00\n",
       "3    15.17\n",
       "4    11.00\n",
       "5    15.17\n",
       "6    50.00\n",
       "7     7.00\n",
       "8     7.00\n",
       "Name: B, dtype: float64"
      ]
     },
     "execution_count": 324,
     "metadata": {},
     "output_type": "execute_result"
    }
   ],
   "source": [
    "data['B'].fillna(round(data['B'].mean(), 2))"
   ]
  },
  {
   "cell_type": "code",
   "execution_count": null,
   "id": "009a072b-cf62-4912-af7a-96a4a55fa460",
   "metadata": {},
   "outputs": [],
   "source": [
    "# data['A'].fillna(method='ffill') # forward fill\n",
    "# data['B'].fillna(method='bfill') # bacword fill"
   ]
  },
  {
   "cell_type": "code",
   "execution_count": 325,
   "id": "3920ffa5-6442-43f2-af7a-6d5cc9343779",
   "metadata": {},
   "outputs": [
    {
     "data": {
      "text/plain": [
       "0      1.0\n",
       "1      2.0\n",
       "2      NaN\n",
       "3      4.0\n",
       "4      NaN\n",
       "5      6.0\n",
       "6      7.0\n",
       "7      1.0\n",
       "8    100.0\n",
       "Name: A, dtype: float64"
      ]
     },
     "execution_count": 325,
     "metadata": {},
     "output_type": "execute_result"
    }
   ],
   "source": [
    "data['A']"
   ]
  },
  {
   "cell_type": "code",
   "execution_count": 326,
   "id": "c22f2f42-1fa5-4e79-b350-a5cd371b8b37",
   "metadata": {
    "scrolled": true
   },
   "outputs": [
    {
     "data": {
      "text/plain": [
       "0      1.0\n",
       "1      2.0\n",
       "2      3.0\n",
       "3      4.0\n",
       "4      5.0\n",
       "5      6.0\n",
       "6      7.0\n",
       "7      1.0\n",
       "8    100.0\n",
       "Name: A, dtype: float64"
      ]
     },
     "execution_count": 326,
     "metadata": {},
     "output_type": "execute_result"
    }
   ],
   "source": [
    "data['A'].interpolate() # replacce the null values avg of the srrounding values"
   ]
  },
  {
   "cell_type": "code",
   "execution_count": 327,
   "id": "f96d7115-804e-4c80-897d-e3bab2489002",
   "metadata": {
    "scrolled": true
   },
   "outputs": [
    {
     "data": {
      "text/html": [
       "<div>\n",
       "<style scoped>\n",
       "    .dataframe tbody tr th:only-of-type {\n",
       "        vertical-align: middle;\n",
       "    }\n",
       "\n",
       "    .dataframe tbody tr th {\n",
       "        vertical-align: top;\n",
       "    }\n",
       "\n",
       "    .dataframe thead th {\n",
       "        text-align: right;\n",
       "    }\n",
       "</style>\n",
       "<table border=\"1\" class=\"dataframe\">\n",
       "  <thead>\n",
       "    <tr style=\"text-align: right;\">\n",
       "      <th></th>\n",
       "      <th>A</th>\n",
       "      <th>B</th>\n",
       "    </tr>\n",
       "  </thead>\n",
       "  <tbody>\n",
       "    <tr>\n",
       "      <th>0</th>\n",
       "      <td>1.0</td>\n",
       "      <td>7.0</td>\n",
       "    </tr>\n",
       "    <tr>\n",
       "      <th>1</th>\n",
       "      <td>2.0</td>\n",
       "      <td>NaN</td>\n",
       "    </tr>\n",
       "    <tr>\n",
       "      <th>2</th>\n",
       "      <td>NaN</td>\n",
       "      <td>9.0</td>\n",
       "    </tr>\n",
       "    <tr>\n",
       "      <th>3</th>\n",
       "      <td>4.0</td>\n",
       "      <td>NaN</td>\n",
       "    </tr>\n",
       "    <tr>\n",
       "      <th>4</th>\n",
       "      <td>NaN</td>\n",
       "      <td>11.0</td>\n",
       "    </tr>\n",
       "    <tr>\n",
       "      <th>5</th>\n",
       "      <td>6.0</td>\n",
       "      <td>NaN</td>\n",
       "    </tr>\n",
       "    <tr>\n",
       "      <th>6</th>\n",
       "      <td>7.0</td>\n",
       "      <td>50.0</td>\n",
       "    </tr>\n",
       "    <tr>\n",
       "      <th>7</th>\n",
       "      <td>1.0</td>\n",
       "      <td>7.0</td>\n",
       "    </tr>\n",
       "    <tr>\n",
       "      <th>8</th>\n",
       "      <td>100.0</td>\n",
       "      <td>7.0</td>\n",
       "    </tr>\n",
       "  </tbody>\n",
       "</table>\n",
       "</div>"
      ],
      "text/plain": [
       "       A     B\n",
       "0    1.0   7.0\n",
       "1    2.0   NaN\n",
       "2    NaN   9.0\n",
       "3    4.0   NaN\n",
       "4    NaN  11.0\n",
       "5    6.0   NaN\n",
       "6    7.0  50.0\n",
       "7    1.0   7.0\n",
       "8  100.0   7.0"
      ]
     },
     "execution_count": 327,
     "metadata": {},
     "output_type": "execute_result"
    }
   ],
   "source": [
    "data"
   ]
  },
  {
   "cell_type": "markdown",
   "id": "bd71cf78-f0ca-43d1-a259-6ff30af65f1c",
   "metadata": {},
   "source": [
    "#### **Handling Duplicate**"
   ]
  },
  {
   "cell_type": "code",
   "execution_count": 328,
   "id": "5776ce5b-ac50-4069-b686-5143cf405724",
   "metadata": {},
   "outputs": [
    {
     "data": {
      "text/html": [
       "<div>\n",
       "<style scoped>\n",
       "    .dataframe tbody tr th:only-of-type {\n",
       "        vertical-align: middle;\n",
       "    }\n",
       "\n",
       "    .dataframe tbody tr th {\n",
       "        vertical-align: top;\n",
       "    }\n",
       "\n",
       "    .dataframe thead th {\n",
       "        text-align: right;\n",
       "    }\n",
       "</style>\n",
       "<table border=\"1\" class=\"dataframe\">\n",
       "  <thead>\n",
       "    <tr style=\"text-align: right;\">\n",
       "      <th></th>\n",
       "      <th>A</th>\n",
       "      <th>B</th>\n",
       "    </tr>\n",
       "  </thead>\n",
       "  <tbody>\n",
       "    <tr>\n",
       "      <th>7</th>\n",
       "      <td>1.0</td>\n",
       "      <td>7.0</td>\n",
       "    </tr>\n",
       "  </tbody>\n",
       "</table>\n",
       "</div>"
      ],
      "text/plain": [
       "     A    B\n",
       "7  1.0  7.0"
      ]
     },
     "execution_count": 328,
     "metadata": {},
     "output_type": "execute_result"
    }
   ],
   "source": [
    "data[data.duplicated()]"
   ]
  },
  {
   "cell_type": "code",
   "execution_count": 329,
   "id": "62fcc96f-3d8c-44d9-b268-a436791a9e49",
   "metadata": {},
   "outputs": [
    {
     "data": {
      "text/html": [
       "<div>\n",
       "<style scoped>\n",
       "    .dataframe tbody tr th:only-of-type {\n",
       "        vertical-align: middle;\n",
       "    }\n",
       "\n",
       "    .dataframe tbody tr th {\n",
       "        vertical-align: top;\n",
       "    }\n",
       "\n",
       "    .dataframe thead th {\n",
       "        text-align: right;\n",
       "    }\n",
       "</style>\n",
       "<table border=\"1\" class=\"dataframe\">\n",
       "  <thead>\n",
       "    <tr style=\"text-align: right;\">\n",
       "      <th></th>\n",
       "      <th>A</th>\n",
       "      <th>B</th>\n",
       "    </tr>\n",
       "  </thead>\n",
       "  <tbody>\n",
       "    <tr>\n",
       "      <th>0</th>\n",
       "      <td>1.0</td>\n",
       "      <td>7.0</td>\n",
       "    </tr>\n",
       "    <tr>\n",
       "      <th>1</th>\n",
       "      <td>2.0</td>\n",
       "      <td>NaN</td>\n",
       "    </tr>\n",
       "    <tr>\n",
       "      <th>2</th>\n",
       "      <td>NaN</td>\n",
       "      <td>9.0</td>\n",
       "    </tr>\n",
       "    <tr>\n",
       "      <th>3</th>\n",
       "      <td>4.0</td>\n",
       "      <td>NaN</td>\n",
       "    </tr>\n",
       "    <tr>\n",
       "      <th>4</th>\n",
       "      <td>NaN</td>\n",
       "      <td>11.0</td>\n",
       "    </tr>\n",
       "    <tr>\n",
       "      <th>5</th>\n",
       "      <td>6.0</td>\n",
       "      <td>NaN</td>\n",
       "    </tr>\n",
       "    <tr>\n",
       "      <th>6</th>\n",
       "      <td>7.0</td>\n",
       "      <td>50.0</td>\n",
       "    </tr>\n",
       "    <tr>\n",
       "      <th>7</th>\n",
       "      <td>100.0</td>\n",
       "      <td>7.0</td>\n",
       "    </tr>\n",
       "  </tbody>\n",
       "</table>\n",
       "</div>"
      ],
      "text/plain": [
       "       A     B\n",
       "0    1.0   7.0\n",
       "1    2.0   NaN\n",
       "2    NaN   9.0\n",
       "3    4.0   NaN\n",
       "4    NaN  11.0\n",
       "5    6.0   NaN\n",
       "6    7.0  50.0\n",
       "7  100.0   7.0"
      ]
     },
     "execution_count": 329,
     "metadata": {},
     "output_type": "execute_result"
    }
   ],
   "source": [
    "data.drop_duplicates().reset_index(drop=True) # Rearrange the index (reset_index())"
   ]
  },
  {
   "cell_type": "markdown",
   "id": "98f62471-1029-4130-b18a-be5f1eb212db",
   "metadata": {},
   "source": [
    "#### **Handle the Outlier**"
   ]
  },
  {
   "cell_type": "code",
   "execution_count": 330,
   "id": "73b6b055-849e-49d3-99ae-eb13ebe3284c",
   "metadata": {},
   "outputs": [],
   "source": [
    "data.dropna(inplace=True)"
   ]
  },
  {
   "cell_type": "code",
   "execution_count": 331,
   "id": "a04becc9-69dc-4a9b-bc85-4927468d5aee",
   "metadata": {},
   "outputs": [
    {
     "data": {
      "text/html": [
       "<div>\n",
       "<style scoped>\n",
       "    .dataframe tbody tr th:only-of-type {\n",
       "        vertical-align: middle;\n",
       "    }\n",
       "\n",
       "    .dataframe tbody tr th {\n",
       "        vertical-align: top;\n",
       "    }\n",
       "\n",
       "    .dataframe thead th {\n",
       "        text-align: right;\n",
       "    }\n",
       "</style>\n",
       "<table border=\"1\" class=\"dataframe\">\n",
       "  <thead>\n",
       "    <tr style=\"text-align: right;\">\n",
       "      <th></th>\n",
       "      <th>A</th>\n",
       "      <th>B</th>\n",
       "    </tr>\n",
       "  </thead>\n",
       "  <tbody>\n",
       "    <tr>\n",
       "      <th>0</th>\n",
       "      <td>1.0</td>\n",
       "      <td>7.0</td>\n",
       "    </tr>\n",
       "    <tr>\n",
       "      <th>6</th>\n",
       "      <td>7.0</td>\n",
       "      <td>50.0</td>\n",
       "    </tr>\n",
       "    <tr>\n",
       "      <th>7</th>\n",
       "      <td>1.0</td>\n",
       "      <td>7.0</td>\n",
       "    </tr>\n",
       "    <tr>\n",
       "      <th>8</th>\n",
       "      <td>100.0</td>\n",
       "      <td>7.0</td>\n",
       "    </tr>\n",
       "  </tbody>\n",
       "</table>\n",
       "</div>"
      ],
      "text/plain": [
       "       A     B\n",
       "0    1.0   7.0\n",
       "6    7.0  50.0\n",
       "7    1.0   7.0\n",
       "8  100.0   7.0"
      ]
     },
     "execution_count": 331,
     "metadata": {},
     "output_type": "execute_result"
    }
   ],
   "source": [
    "data"
   ]
  },
  {
   "cell_type": "code",
   "execution_count": 332,
   "id": "4f57469c-9266-4630-a883-6e96be83226a",
   "metadata": {},
   "outputs": [
    {
     "name": "stdout",
     "output_type": "stream",
     "text": [
      "     A     B\n",
      "0  1.0   7.0\n",
      "6  7.0  50.0\n",
      "7  1.0   7.0\n"
     ]
    }
   ],
   "source": [
    "# Finding Outlier\n",
    "def remove_outlier(df, columns):\n",
    "\n",
    "    Cleaned_df = df.copy()\n",
    "    \n",
    "    for col in columns:\n",
    "        Q1 = Cleaned_df[col].quantile(0.25)\n",
    "        Q3 = Cleaned_df[col].quantile(0.75)\n",
    "        IQR = Q3 - Q1\n",
    "        lf = Q1 - 1.5 * IQR\n",
    "        uf = Q3 + 1.5 * IQR\n",
    "        \n",
    "        Cleaned_df = Cleaned_df[(Cleaned_df[col] >= lf) & (Cleaned_df[col] <= uf)]\n",
    "        \n",
    "    return Cleaned_df\n",
    "\n",
    "outliers = remove_outlier(data, ['A', 'B'])\n",
    "print(outliers)"
   ]
  },
  {
   "cell_type": "code",
   "execution_count": 333,
   "id": "63c406a0-f4f3-4df0-b672-338cf914e6ac",
   "metadata": {},
   "outputs": [
    {
     "data": {
      "text/plain": [
       "np.float64(7.0)"
      ]
     },
     "execution_count": 333,
     "metadata": {},
     "output_type": "execute_result"
    }
   ],
   "source": [
    "Q1 = data['B'].quantile(0.25)\n",
    "Q1"
   ]
  },
  {
   "cell_type": "code",
   "execution_count": 334,
   "id": "845c6913-724a-4ac3-8e7b-3e357f81dd24",
   "metadata": {},
   "outputs": [
    {
     "data": {
      "text/plain": [
       "np.float64(17.75)"
      ]
     },
     "execution_count": 334,
     "metadata": {},
     "output_type": "execute_result"
    }
   ],
   "source": [
    "Q3 = data['B'].quantile(0.75)\n",
    "Q3"
   ]
  },
  {
   "cell_type": "code",
   "execution_count": 335,
   "id": "f0493667-e549-42c8-825e-6d8f04393b97",
   "metadata": {},
   "outputs": [
    {
     "data": {
      "text/plain": [
       "np.float64(-9.125)"
      ]
     },
     "execution_count": 335,
     "metadata": {},
     "output_type": "execute_result"
    }
   ],
   "source": [
    "IQR = Q3-Q1\n",
    "lf = Q1 - 1.5 * IQR\n",
    "lf"
   ]
  },
  {
   "cell_type": "code",
   "execution_count": 336,
   "id": "8c664a5b-23bf-4d6f-b6f4-b756c0491571",
   "metadata": {},
   "outputs": [
    {
     "data": {
      "text/plain": [
       "np.float64(33.875)"
      ]
     },
     "execution_count": 336,
     "metadata": {},
     "output_type": "execute_result"
    }
   ],
   "source": [
    "uf = Q3 + 1.5 * IQR\n",
    "uf"
   ]
  },
  {
   "cell_type": "code",
   "execution_count": 337,
   "id": "b9e91a2e-b43e-4b86-ac89-5ed4a5322c3d",
   "metadata": {},
   "outputs": [
    {
     "data": {
      "text/html": [
       "<div>\n",
       "<style scoped>\n",
       "    .dataframe tbody tr th:only-of-type {\n",
       "        vertical-align: middle;\n",
       "    }\n",
       "\n",
       "    .dataframe tbody tr th {\n",
       "        vertical-align: top;\n",
       "    }\n",
       "\n",
       "    .dataframe thead th {\n",
       "        text-align: right;\n",
       "    }\n",
       "</style>\n",
       "<table border=\"1\" class=\"dataframe\">\n",
       "  <thead>\n",
       "    <tr style=\"text-align: right;\">\n",
       "      <th></th>\n",
       "      <th>A</th>\n",
       "      <th>B</th>\n",
       "    </tr>\n",
       "  </thead>\n",
       "  <tbody>\n",
       "    <tr>\n",
       "      <th>0</th>\n",
       "      <td>0.693147</td>\n",
       "      <td>2.079442</td>\n",
       "    </tr>\n",
       "    <tr>\n",
       "      <th>6</th>\n",
       "      <td>2.079442</td>\n",
       "      <td>3.931826</td>\n",
       "    </tr>\n",
       "    <tr>\n",
       "      <th>7</th>\n",
       "      <td>0.693147</td>\n",
       "      <td>2.079442</td>\n",
       "    </tr>\n",
       "    <tr>\n",
       "      <th>8</th>\n",
       "      <td>4.615121</td>\n",
       "      <td>2.079442</td>\n",
       "    </tr>\n",
       "  </tbody>\n",
       "</table>\n",
       "</div>"
      ],
      "text/plain": [
       "          A         B\n",
       "0  0.693147  2.079442\n",
       "6  2.079442  3.931826\n",
       "7  0.693147  2.079442\n",
       "8  4.615121  2.079442"
      ]
     },
     "execution_count": 337,
     "metadata": {},
     "output_type": "execute_result"
    }
   ],
   "source": [
    "def log_transformation(df, columns):\n",
    "    \n",
    "    tranform_df = df.copy()\n",
    "\n",
    "    for col in columns:\n",
    "        tranform_df[col] = np.log1p(tranform_df[col]) # log1p = lg(1+x)\n",
    "    return tranform_df\n",
    "\n",
    "log = log_transformation(data, ['A', 'B'])\n",
    "log"
   ]
  },
  {
   "cell_type": "code",
   "execution_count": 338,
   "id": "27c2a1f7-c71e-4e7e-9250-975f7f6618e9",
   "metadata": {
    "scrolled": true
   },
   "outputs": [
    {
     "data": {
      "text/html": [
       "<div>\n",
       "<style scoped>\n",
       "    .dataframe tbody tr th:only-of-type {\n",
       "        vertical-align: middle;\n",
       "    }\n",
       "\n",
       "    .dataframe tbody tr th {\n",
       "        vertical-align: top;\n",
       "    }\n",
       "\n",
       "    .dataframe thead th {\n",
       "        text-align: right;\n",
       "    }\n",
       "</style>\n",
       "<table border=\"1\" class=\"dataframe\">\n",
       "  <thead>\n",
       "    <tr style=\"text-align: right;\">\n",
       "      <th></th>\n",
       "      <th>A</th>\n",
       "      <th>B</th>\n",
       "    </tr>\n",
       "  </thead>\n",
       "  <tbody>\n",
       "    <tr>\n",
       "      <th>0</th>\n",
       "      <td>1.0</td>\n",
       "      <td>7.0</td>\n",
       "    </tr>\n",
       "    <tr>\n",
       "      <th>6</th>\n",
       "      <td>7.0</td>\n",
       "      <td>50.0</td>\n",
       "    </tr>\n",
       "    <tr>\n",
       "      <th>7</th>\n",
       "      <td>1.0</td>\n",
       "      <td>7.0</td>\n",
       "    </tr>\n",
       "    <tr>\n",
       "      <th>8</th>\n",
       "      <td>100.0</td>\n",
       "      <td>7.0</td>\n",
       "    </tr>\n",
       "  </tbody>\n",
       "</table>\n",
       "</div>"
      ],
      "text/plain": [
       "       A     B\n",
       "0    1.0   7.0\n",
       "6    7.0  50.0\n",
       "7    1.0   7.0\n",
       "8  100.0   7.0"
      ]
     },
     "execution_count": 338,
     "metadata": {},
     "output_type": "execute_result"
    }
   ],
   "source": [
    "data"
   ]
  },
  {
   "cell_type": "code",
   "execution_count": 339,
   "id": "480f8592-0535-41ad-be00-8fb98cb616c6",
   "metadata": {},
   "outputs": [
    {
     "data": {
      "text/plain": [
       "Name        0\n",
       "Age         1\n",
       "City        0\n",
       "Salary      1\n",
       "Date        0\n",
       "Category    1\n",
       "Name1       0\n",
       "dtype: int64"
      ]
     },
     "execution_count": 339,
     "metadata": {},
     "output_type": "execute_result"
    }
   ],
   "source": [
    "df.isnull().sum()"
   ]
  },
  {
   "cell_type": "code",
   "execution_count": 340,
   "id": "5a84bd51-7b48-4793-81e0-fa237dfe26f9",
   "metadata": {},
   "outputs": [
    {
     "data": {
      "text/plain": [
       "np.int64(2)"
      ]
     },
     "execution_count": 340,
     "metadata": {},
     "output_type": "execute_result"
    }
   ],
   "source": [
    "df.duplicated().sum()"
   ]
  },
  {
   "cell_type": "code",
   "execution_count": 341,
   "id": "5da1a1bd-0ca7-47c4-84c8-cd0057c1d554",
   "metadata": {
    "scrolled": true
   },
   "outputs": [],
   "source": [
    "df['Age'].fillna(round(df['Age'].mean(), 2), inplace=True)\n",
    "df['Salary'].fillna(round(df['Salary'].mean(), 2), inplace=True)\n",
    "df['Category'].fillna(df['Category'].mode()[0], inplace = True)"
   ]
  },
  {
   "cell_type": "code",
   "execution_count": 342,
   "id": "04893c84-4de0-42a8-a078-f45f5f922e9f",
   "metadata": {},
   "outputs": [],
   "source": [
    "df.drop_duplicates(inplace=True)"
   ]
  },
  {
   "cell_type": "code",
   "execution_count": 343,
   "id": "52141da7-f81d-4266-93c7-da176b3a7456",
   "metadata": {},
   "outputs": [],
   "source": [
    "df = df.reset_index(drop=True)"
   ]
  },
  {
   "cell_type": "markdown",
   "id": "e8890df1-5d32-40a4-b8ae-d3dc823261fe",
   "metadata": {},
   "source": [
    "### **Data Transformation**"
   ]
  },
  {
   "cell_type": "code",
   "execution_count": 344,
   "id": "0c4d7572-2458-4945-a713-908da6daa2f4",
   "metadata": {},
   "outputs": [],
   "source": [
    "df.rename(columns={'Name':\"Full Name\"}, inplace =True)"
   ]
  },
  {
   "cell_type": "code",
   "execution_count": 345,
   "id": "c111c446-fac5-4997-a11a-f955c2fdabe6",
   "metadata": {},
   "outputs": [],
   "source": [
    "df['Age'] = df['Age'].astype('int')"
   ]
  },
  {
   "cell_type": "code",
   "execution_count": 346,
   "id": "d21a774b-b3d2-410f-b5c5-f78480b531de",
   "metadata": {},
   "outputs": [],
   "source": [
    "df['City'].replace({\"New York\":\"London\"}, inplace=True)"
   ]
  },
  {
   "cell_type": "code",
   "execution_count": 347,
   "id": "ed27a383-7858-4376-9073-758f03347454",
   "metadata": {},
   "outputs": [],
   "source": [
    "def Catgorize(col):\n",
    "    if col < 18:\n",
    "        return \"Young\"\n",
    "    elif col < 35:\n",
    "        return \"Adult\"\n",
    "    elif col < 55:\n",
    "        return \"Middle Age\"\n",
    "    else:\n",
    "        return \"Senior\"    "
   ]
  },
  {
   "cell_type": "code",
   "execution_count": 348,
   "id": "e9406bcf-8f2e-4ba6-a19b-53b37536a5e3",
   "metadata": {},
   "outputs": [],
   "source": [
    "df['Age Category'] = df['Age'].apply(Catgorize)"
   ]
  },
  {
   "cell_type": "code",
   "execution_count": 349,
   "id": "e33d82fe-2e3e-4b53-bee4-b297c9fabd69",
   "metadata": {},
   "outputs": [
    {
     "data": {
      "text/html": [
       "<div>\n",
       "<style scoped>\n",
       "    .dataframe tbody tr th:only-of-type {\n",
       "        vertical-align: middle;\n",
       "    }\n",
       "\n",
       "    .dataframe tbody tr th {\n",
       "        vertical-align: top;\n",
       "    }\n",
       "\n",
       "    .dataframe thead th {\n",
       "        text-align: right;\n",
       "    }\n",
       "</style>\n",
       "<table border=\"1\" class=\"dataframe\">\n",
       "  <thead>\n",
       "    <tr style=\"text-align: right;\">\n",
       "      <th></th>\n",
       "      <th>Full Name</th>\n",
       "      <th>Age</th>\n",
       "      <th>City</th>\n",
       "      <th>Salary</th>\n",
       "      <th>Date</th>\n",
       "      <th>Category</th>\n",
       "      <th>Name1</th>\n",
       "      <th>Age Category</th>\n",
       "    </tr>\n",
       "  </thead>\n",
       "  <tbody>\n",
       "    <tr>\n",
       "      <th>0</th>\n",
       "      <td>Alice</td>\n",
       "      <td>45</td>\n",
       "      <td>London</td>\n",
       "      <td>95445.00</td>\n",
       "      <td>2023-01-01</td>\n",
       "      <td>A</td>\n",
       "      <td>Alice</td>\n",
       "      <td>Middle Age</td>\n",
       "    </tr>\n",
       "    <tr>\n",
       "      <th>1</th>\n",
       "      <td>Bob</td>\n",
       "      <td>58</td>\n",
       "      <td>India</td>\n",
       "      <td>86235.00</td>\n",
       "      <td>2023-01-02</td>\n",
       "      <td>B</td>\n",
       "      <td>Bob</td>\n",
       "      <td>Senior</td>\n",
       "    </tr>\n",
       "    <tr>\n",
       "      <th>2</th>\n",
       "      <td>Ash</td>\n",
       "      <td>60</td>\n",
       "      <td>Tokyo</td>\n",
       "      <td>62330.00</td>\n",
       "      <td>2023-01-03</td>\n",
       "      <td>C</td>\n",
       "      <td>Ash</td>\n",
       "      <td>Senior</td>\n",
       "    </tr>\n",
       "    <tr>\n",
       "      <th>3</th>\n",
       "      <td>David</td>\n",
       "      <td>28</td>\n",
       "      <td>Paris</td>\n",
       "      <td>46022.00</td>\n",
       "      <td>2023-01-04</td>\n",
       "      <td>A</td>\n",
       "      <td>David</td>\n",
       "      <td>Adult</td>\n",
       "    </tr>\n",
       "    <tr>\n",
       "      <th>4</th>\n",
       "      <td>Eva</td>\n",
       "      <td>49</td>\n",
       "      <td>Berlin</td>\n",
       "      <td>65999.00</td>\n",
       "      <td>2023-01-05</td>\n",
       "      <td>B</td>\n",
       "      <td>Eva</td>\n",
       "      <td>Middle Age</td>\n",
       "    </tr>\n",
       "    <tr>\n",
       "      <th>5</th>\n",
       "      <td>Frank</td>\n",
       "      <td>67</td>\n",
       "      <td>Paris</td>\n",
       "      <td>88320.00</td>\n",
       "      <td>2023-01-06</td>\n",
       "      <td>A</td>\n",
       "      <td>Frank</td>\n",
       "      <td>Senior</td>\n",
       "    </tr>\n",
       "    <tr>\n",
       "      <th>6</th>\n",
       "      <td>Grace</td>\n",
       "      <td>45</td>\n",
       "      <td>Berlin</td>\n",
       "      <td>57141.00</td>\n",
       "      <td>2023-01-07</td>\n",
       "      <td>C</td>\n",
       "      <td>Grace</td>\n",
       "      <td>Middle Age</td>\n",
       "    </tr>\n",
       "    <tr>\n",
       "      <th>7</th>\n",
       "      <td>Hannah</td>\n",
       "      <td>60</td>\n",
       "      <td>London</td>\n",
       "      <td>65413.00</td>\n",
       "      <td>2023-01-08</td>\n",
       "      <td>B</td>\n",
       "      <td>Hannah</td>\n",
       "      <td>Senior</td>\n",
       "    </tr>\n",
       "    <tr>\n",
       "      <th>8</th>\n",
       "      <td>Ivan</td>\n",
       "      <td>37</td>\n",
       "      <td>Tokyo</td>\n",
       "      <td>87016.00</td>\n",
       "      <td>2023-01-09</td>\n",
       "      <td>A</td>\n",
       "      <td>Ivan</td>\n",
       "      <td>Middle Age</td>\n",
       "    </tr>\n",
       "    <tr>\n",
       "      <th>9</th>\n",
       "      <td>Jack</td>\n",
       "      <td>31</td>\n",
       "      <td>India</td>\n",
       "      <td>58725.00</td>\n",
       "      <td>2023-01-10</td>\n",
       "      <td>B</td>\n",
       "      <td>Jack</td>\n",
       "      <td>Adult</td>\n",
       "    </tr>\n",
       "    <tr>\n",
       "      <th>10</th>\n",
       "      <td>Grace</td>\n",
       "      <td>29</td>\n",
       "      <td>Berlin</td>\n",
       "      <td>57141.00</td>\n",
       "      <td>2023-01-07</td>\n",
       "      <td>B</td>\n",
       "      <td>Grace</td>\n",
       "      <td>Adult</td>\n",
       "    </tr>\n",
       "    <tr>\n",
       "      <th>11</th>\n",
       "      <td>Hannah</td>\n",
       "      <td>60</td>\n",
       "      <td>London</td>\n",
       "      <td>70425.23</td>\n",
       "      <td>2023-01-08</td>\n",
       "      <td>B</td>\n",
       "      <td>Hannah</td>\n",
       "      <td>Senior</td>\n",
       "    </tr>\n",
       "  </tbody>\n",
       "</table>\n",
       "</div>"
      ],
      "text/plain": [
       "   Full Name  Age    City    Salary        Date Category   Name1 Age Category\n",
       "0      Alice   45  London  95445.00  2023-01-01        A   Alice   Middle Age\n",
       "1        Bob   58   India  86235.00  2023-01-02        B     Bob       Senior\n",
       "2        Ash   60   Tokyo  62330.00  2023-01-03        C     Ash       Senior\n",
       "3      David   28   Paris  46022.00  2023-01-04        A   David        Adult\n",
       "4        Eva   49  Berlin  65999.00  2023-01-05        B     Eva   Middle Age\n",
       "5      Frank   67   Paris  88320.00  2023-01-06        A   Frank       Senior\n",
       "6      Grace   45  Berlin  57141.00  2023-01-07        C   Grace   Middle Age\n",
       "7     Hannah   60  London  65413.00  2023-01-08        B  Hannah       Senior\n",
       "8       Ivan   37   Tokyo  87016.00  2023-01-09        A    Ivan   Middle Age\n",
       "9       Jack   31   India  58725.00  2023-01-10        B    Jack        Adult\n",
       "10     Grace   29  Berlin  57141.00  2023-01-07        B   Grace        Adult\n",
       "11    Hannah   60  London  70425.23  2023-01-08        B  Hannah       Senior"
      ]
     },
     "execution_count": 349,
     "metadata": {},
     "output_type": "execute_result"
    }
   ],
   "source": [
    "df"
   ]
  },
  {
   "cell_type": "code",
   "execution_count": 350,
   "id": "de0c778b-2fe5-4ce1-9880-aa75863d87ed",
   "metadata": {},
   "outputs": [
    {
     "data": {
      "text/html": [
       "<div>\n",
       "<style scoped>\n",
       "    .dataframe tbody tr th:only-of-type {\n",
       "        vertical-align: middle;\n",
       "    }\n",
       "\n",
       "    .dataframe tbody tr th {\n",
       "        vertical-align: top;\n",
       "    }\n",
       "\n",
       "    .dataframe thead th {\n",
       "        text-align: right;\n",
       "    }\n",
       "</style>\n",
       "<table border=\"1\" class=\"dataframe\">\n",
       "  <thead>\n",
       "    <tr style=\"text-align: right;\">\n",
       "      <th></th>\n",
       "      <th>A</th>\n",
       "      <th>B</th>\n",
       "    </tr>\n",
       "  </thead>\n",
       "  <tbody>\n",
       "    <tr>\n",
       "      <th>0</th>\n",
       "      <td>1</td>\n",
       "      <td>4</td>\n",
       "    </tr>\n",
       "    <tr>\n",
       "      <th>1</th>\n",
       "      <td>2</td>\n",
       "      <td>5</td>\n",
       "    </tr>\n",
       "    <tr>\n",
       "      <th>2</th>\n",
       "      <td>3</td>\n",
       "      <td>6</td>\n",
       "    </tr>\n",
       "  </tbody>\n",
       "</table>\n",
       "</div>"
      ],
      "text/plain": [
       "   A  B\n",
       "0  1  4\n",
       "1  2  5\n",
       "2  3  6"
      ]
     },
     "execution_count": 350,
     "metadata": {},
     "output_type": "execute_result"
    }
   ],
   "source": [
    "data1 = pd.DataFrame({\"A\":[1,2,3],\"B\":[4,5,6]}) \n",
    "data1\n"
   ]
  },
  {
   "cell_type": "code",
   "execution_count": 351,
   "id": "2f72aa0e-db0e-44a8-a28f-5173265d0e0a",
   "metadata": {},
   "outputs": [
    {
     "data": {
      "text/html": [
       "<div>\n",
       "<style scoped>\n",
       "    .dataframe tbody tr th:only-of-type {\n",
       "        vertical-align: middle;\n",
       "    }\n",
       "\n",
       "    .dataframe tbody tr th {\n",
       "        vertical-align: top;\n",
       "    }\n",
       "\n",
       "    .dataframe thead th {\n",
       "        text-align: right;\n",
       "    }\n",
       "</style>\n",
       "<table border=\"1\" class=\"dataframe\">\n",
       "  <thead>\n",
       "    <tr style=\"text-align: right;\">\n",
       "      <th></th>\n",
       "      <th>A</th>\n",
       "      <th>B</th>\n",
       "    </tr>\n",
       "  </thead>\n",
       "  <tbody>\n",
       "    <tr>\n",
       "      <th>0</th>\n",
       "      <td>1</td>\n",
       "      <td>16</td>\n",
       "    </tr>\n",
       "    <tr>\n",
       "      <th>1</th>\n",
       "      <td>4</td>\n",
       "      <td>25</td>\n",
       "    </tr>\n",
       "    <tr>\n",
       "      <th>2</th>\n",
       "      <td>9</td>\n",
       "      <td>36</td>\n",
       "    </tr>\n",
       "  </tbody>\n",
       "</table>\n",
       "</div>"
      ],
      "text/plain": [
       "   A   B\n",
       "0  1  16\n",
       "1  4  25\n",
       "2  9  36"
      ]
     },
     "execution_count": 351,
     "metadata": {},
     "output_type": "execute_result"
    }
   ],
   "source": [
    "data1.applymap(lambda x: x **2) # Element-wisw Function"
   ]
  },
  {
   "cell_type": "code",
   "execution_count": 352,
   "id": "2535ac77-d8c5-438d-ac08-d4030766061d",
   "metadata": {},
   "outputs": [],
   "source": [
    "df.loc[12] = {\"Full Name\" : \"Deepak\", \"Age\":25, \"City\":\"Bengalore\", \"Salary\":60000, \"Date\":\"2025-07-30\", \"Category\":\"A\", \"Name1\":\"DEEPAK\", \"Age Category\":\"Adult\"}"
   ]
  },
  {
   "cell_type": "code",
   "execution_count": 353,
   "id": "b0848f12-7c09-4e7d-9053-d0447e214e49",
   "metadata": {},
   "outputs": [],
   "source": [
    "df.loc[13] = [\"Rohan\", 25, \"Bengalore\", 60000, \"2025-07-30\", \"A\", \"ROHAN\", \"Adult\"] # match the all column values"
   ]
  },
  {
   "cell_type": "code",
   "execution_count": 354,
   "id": "d182f41e-96b0-4c81-af16-bb6aac659d60",
   "metadata": {},
   "outputs": [],
   "source": [
    "df.drop(columns=['Name1'], inplace=True) # removing the columns"
   ]
  },
  {
   "cell_type": "code",
   "execution_count": 355,
   "id": "cc52475f-180e-41b5-9679-ac5aab621f9a",
   "metadata": {},
   "outputs": [],
   "source": [
    "df.drop(13, inplace=True)"
   ]
  },
  {
   "cell_type": "code",
   "execution_count": 356,
   "id": "830b9f09-da5c-4d35-a0be-8fbccdc7eaa2",
   "metadata": {},
   "outputs": [],
   "source": [
    "### **Data Aggregation**"
   ]
  },
  {
   "cell_type": "code",
   "execution_count": 357,
   "id": "0508d4d3-badf-429a-9b7d-7bba596e1628",
   "metadata": {},
   "outputs": [
    {
     "data": {
      "text/plain": [
       "Full Name        object\n",
       "Age               int64\n",
       "City             object\n",
       "Salary          float64\n",
       "Date             object\n",
       "Category         object\n",
       "Age Category     object\n",
       "dtype: object"
      ]
     },
     "execution_count": 357,
     "metadata": {},
     "output_type": "execute_result"
    }
   ],
   "source": [
    "df.dtypes"
   ]
  },
  {
   "cell_type": "code",
   "execution_count": 358,
   "id": "86e22e46-0061-45d0-903b-69f804c06ede",
   "metadata": {},
   "outputs": [
    {
     "data": {
      "text/plain": [
       "np.float64(900212.23)"
      ]
     },
     "execution_count": 358,
     "metadata": {},
     "output_type": "execute_result"
    }
   ],
   "source": [
    "sum_of_Salary = df['Salary'].sum()\n",
    "sum_of_Salary"
   ]
  },
  {
   "cell_type": "code",
   "execution_count": 359,
   "id": "c9633223-0da6-4494-bad7-eb69cf7205c3",
   "metadata": {},
   "outputs": [
    {
     "data": {
      "text/plain": [
       "np.float64(46022.0)"
      ]
     },
     "execution_count": 359,
     "metadata": {},
     "output_type": "execute_result"
    }
   ],
   "source": [
    "min_Salary = df['Salary'].min()\n",
    "min_Salary"
   ]
  },
  {
   "cell_type": "code",
   "execution_count": 360,
   "id": "5b135f0d-365c-460d-ac31-63fb5f0ff85b",
   "metadata": {},
   "outputs": [
    {
     "data": {
      "text/plain": [
       "np.float64(95445.0)"
      ]
     },
     "execution_count": 360,
     "metadata": {},
     "output_type": "execute_result"
    }
   ],
   "source": [
    "max_Salary = df['Salary'].max()\n",
    "max_Salary"
   ]
  },
  {
   "cell_type": "code",
   "execution_count": 361,
   "id": "78e76451-45a0-4327-a226-45700a662691",
   "metadata": {},
   "outputs": [
    {
     "data": {
      "text/plain": [
       "46"
      ]
     },
     "execution_count": 361,
     "metadata": {},
     "output_type": "execute_result"
    }
   ],
   "source": [
    "avg_Age = round(df['Age'].mean())\n",
    "avg_Age"
   ]
  },
  {
   "cell_type": "code",
   "execution_count": 362,
   "id": "7fb7caa3-6fa1-4953-a0fb-6b5a618d28d0",
   "metadata": {},
   "outputs": [
    {
     "data": {
      "text/plain": [
       "45"
      ]
     },
     "execution_count": 362,
     "metadata": {},
     "output_type": "execute_result"
    }
   ],
   "source": [
    "middle_Age = round(df['Age'].median())\n",
    "middle_Age"
   ]
  },
  {
   "cell_type": "code",
   "execution_count": 363,
   "id": "d8a1f9e9-aa1c-41bc-b774-7756877160e7",
   "metadata": {},
   "outputs": [
    {
     "data": {
      "text/plain": [
       "0    B\n",
       "Name: Category, dtype: object"
      ]
     },
     "execution_count": 363,
     "metadata": {},
     "output_type": "execute_result"
    }
   ],
   "source": [
    "most_occured_category = df['Category'].mode()\n",
    "most_occured_category"
   ]
  },
  {
   "cell_type": "code",
   "execution_count": 364,
   "id": "4d2f388a-96c3-4f47-8189-e97cd2d0134e",
   "metadata": {},
   "outputs": [
    {
     "data": {
      "text/plain": [
       "np.float64(14.556697286728054)"
      ]
     },
     "execution_count": 364,
     "metadata": {},
     "output_type": "execute_result"
    }
   ],
   "source": [
    "Std_Age = df['Age'].std()\n",
    "Std_Age"
   ]
  },
  {
   "cell_type": "code",
   "execution_count": 365,
   "id": "45bee85a-acf8-4396-8d6d-5bc8d44659a6",
   "metadata": {},
   "outputs": [
    {
     "data": {
      "text/plain": [
       "np.float64(211.89743589743588)"
      ]
     },
     "execution_count": 365,
     "metadata": {},
     "output_type": "execute_result"
    }
   ],
   "source": [
    "var_Age = df['Age'].var()\n",
    "var_Age"
   ]
  },
  {
   "cell_type": "code",
   "execution_count": 366,
   "id": "729eebcc-60aa-46a4-b71a-f0cd0d279cae",
   "metadata": {},
   "outputs": [
    {
     "data": {
      "text/plain": [
       "np.True_"
      ]
     },
     "execution_count": 366,
     "metadata": {},
     "output_type": "execute_result"
    }
   ],
   "source": [
    "np.sqrt(var_Age) == Std_Age"
   ]
  },
  {
   "cell_type": "code",
   "execution_count": 367,
   "id": "ac9d7749-a4c9-4f2f-9c1b-affc2cbaf4d1",
   "metadata": {},
   "outputs": [
    {
     "data": {
      "text/plain": [
       "np.int64(6)"
      ]
     },
     "execution_count": 367,
     "metadata": {},
     "output_type": "execute_result"
    }
   ],
   "source": [
    "df['Category'][df['Category'] == 'B'].count()"
   ]
  },
  {
   "cell_type": "code",
   "execution_count": 368,
   "id": "755744d1-69ad-4bca-951f-7155cce7df14",
   "metadata": {},
   "outputs": [
    {
     "data": {
      "text/plain": [
       "np.int64(6)"
      ]
     },
     "execution_count": 368,
     "metadata": {},
     "output_type": "execute_result"
    }
   ],
   "source": [
    "df[df['Category'] == 'B']['Category'].count()"
   ]
  },
  {
   "cell_type": "code",
   "execution_count": 369,
   "id": "97dffdc6-a009-42ba-8e9a-f0598dc19388",
   "metadata": {},
   "outputs": [
    {
     "data": {
      "text/plain": [
       "np.int64(5)"
      ]
     },
     "execution_count": 369,
     "metadata": {},
     "output_type": "execute_result"
    }
   ],
   "source": [
    "df['Age'].idxmax()"
   ]
  },
  {
   "cell_type": "code",
   "execution_count": 370,
   "id": "692a1516-537f-4213-afeb-291ff3923bdd",
   "metadata": {},
   "outputs": [
    {
     "data": {
      "text/plain": [
       "np.int64(12)"
      ]
     },
     "execution_count": 370,
     "metadata": {},
     "output_type": "execute_result"
    }
   ],
   "source": [
    "df['Age'].idxmin()"
   ]
  },
  {
   "cell_type": "code",
   "execution_count": 371,
   "id": "db01bbfb-cf24-45f9-a7a6-32fdacd44fb8",
   "metadata": {},
   "outputs": [
    {
     "data": {
      "text/plain": [
       "12    25\n",
       "3     28\n",
       "10    29\n",
       "9     31\n",
       "8     37\n",
       "0     45\n",
       "6     45\n",
       "4     49\n",
       "1     58\n",
       "11    60\n",
       "2     60\n",
       "7     60\n",
       "5     67\n",
       "Name: Age, dtype: int64"
      ]
     },
     "execution_count": 371,
     "metadata": {},
     "output_type": "execute_result"
    }
   ],
   "source": [
    "df['Age'].sort_values(ascending=True) # Sorting the elements"
   ]
  },
  {
   "cell_type": "code",
   "execution_count": 372,
   "id": "f508d542-4669-45ca-8102-2db08462b8b8",
   "metadata": {},
   "outputs": [
    {
     "data": {
      "text/plain": [
       "0      6.5\n",
       "1      9.0\n",
       "2     11.0\n",
       "3      2.0\n",
       "4      8.0\n",
       "5     13.0\n",
       "6      6.5\n",
       "7     11.0\n",
       "8      5.0\n",
       "9      4.0\n",
       "10     3.0\n",
       "11    11.0\n",
       "12     1.0\n",
       "Name: Age, dtype: float64"
      ]
     },
     "execution_count": 372,
     "metadata": {},
     "output_type": "execute_result"
    }
   ],
   "source": [
    "df['Age'].rank(ascending=True)"
   ]
  },
  {
   "cell_type": "code",
   "execution_count": 373,
   "id": "22f30223-e5d7-4550-8839-f2b9424abb70",
   "metadata": {},
   "outputs": [
    {
     "data": {
      "text/html": [
       "<div>\n",
       "<style scoped>\n",
       "    .dataframe tbody tr th:only-of-type {\n",
       "        vertical-align: middle;\n",
       "    }\n",
       "\n",
       "    .dataframe tbody tr th {\n",
       "        vertical-align: top;\n",
       "    }\n",
       "\n",
       "    .dataframe thead th {\n",
       "        text-align: right;\n",
       "    }\n",
       "</style>\n",
       "<table border=\"1\" class=\"dataframe\">\n",
       "  <thead>\n",
       "    <tr style=\"text-align: right;\">\n",
       "      <th></th>\n",
       "      <th>Full Name</th>\n",
       "      <th>Age</th>\n",
       "      <th>City</th>\n",
       "      <th>Salary</th>\n",
       "      <th>Date</th>\n",
       "      <th>Category</th>\n",
       "      <th>Age Category</th>\n",
       "    </tr>\n",
       "  </thead>\n",
       "  <tbody>\n",
       "    <tr>\n",
       "      <th>0</th>\n",
       "      <td>Alice</td>\n",
       "      <td>45</td>\n",
       "      <td>London</td>\n",
       "      <td>95445.00</td>\n",
       "      <td>2023-01-01</td>\n",
       "      <td>A</td>\n",
       "      <td>Middle Age</td>\n",
       "    </tr>\n",
       "    <tr>\n",
       "      <th>1</th>\n",
       "      <td>Bob</td>\n",
       "      <td>58</td>\n",
       "      <td>India</td>\n",
       "      <td>86235.00</td>\n",
       "      <td>2023-01-02</td>\n",
       "      <td>B</td>\n",
       "      <td>Senior</td>\n",
       "    </tr>\n",
       "    <tr>\n",
       "      <th>2</th>\n",
       "      <td>Ash</td>\n",
       "      <td>60</td>\n",
       "      <td>Tokyo</td>\n",
       "      <td>62330.00</td>\n",
       "      <td>2023-01-03</td>\n",
       "      <td>C</td>\n",
       "      <td>Senior</td>\n",
       "    </tr>\n",
       "    <tr>\n",
       "      <th>4</th>\n",
       "      <td>Eva</td>\n",
       "      <td>49</td>\n",
       "      <td>Berlin</td>\n",
       "      <td>65999.00</td>\n",
       "      <td>2023-01-05</td>\n",
       "      <td>B</td>\n",
       "      <td>Middle Age</td>\n",
       "    </tr>\n",
       "    <tr>\n",
       "      <th>6</th>\n",
       "      <td>Grace</td>\n",
       "      <td>45</td>\n",
       "      <td>Berlin</td>\n",
       "      <td>57141.00</td>\n",
       "      <td>2023-01-07</td>\n",
       "      <td>C</td>\n",
       "      <td>Middle Age</td>\n",
       "    </tr>\n",
       "    <tr>\n",
       "      <th>7</th>\n",
       "      <td>Hannah</td>\n",
       "      <td>60</td>\n",
       "      <td>London</td>\n",
       "      <td>65413.00</td>\n",
       "      <td>2023-01-08</td>\n",
       "      <td>B</td>\n",
       "      <td>Senior</td>\n",
       "    </tr>\n",
       "    <tr>\n",
       "      <th>8</th>\n",
       "      <td>Ivan</td>\n",
       "      <td>37</td>\n",
       "      <td>Tokyo</td>\n",
       "      <td>87016.00</td>\n",
       "      <td>2023-01-09</td>\n",
       "      <td>A</td>\n",
       "      <td>Middle Age</td>\n",
       "    </tr>\n",
       "    <tr>\n",
       "      <th>11</th>\n",
       "      <td>Hannah</td>\n",
       "      <td>60</td>\n",
       "      <td>London</td>\n",
       "      <td>70425.23</td>\n",
       "      <td>2023-01-08</td>\n",
       "      <td>B</td>\n",
       "      <td>Senior</td>\n",
       "    </tr>\n",
       "  </tbody>\n",
       "</table>\n",
       "</div>"
      ],
      "text/plain": [
       "   Full Name  Age    City    Salary        Date Category Age Category\n",
       "0      Alice   45  London  95445.00  2023-01-01        A   Middle Age\n",
       "1        Bob   58   India  86235.00  2023-01-02        B       Senior\n",
       "2        Ash   60   Tokyo  62330.00  2023-01-03        C       Senior\n",
       "4        Eva   49  Berlin  65999.00  2023-01-05        B   Middle Age\n",
       "6      Grace   45  Berlin  57141.00  2023-01-07        C   Middle Age\n",
       "7     Hannah   60  London  65413.00  2023-01-08        B       Senior\n",
       "8       Ivan   37   Tokyo  87016.00  2023-01-09        A   Middle Age\n",
       "11    Hannah   60  London  70425.23  2023-01-08        B       Senior"
      ]
     },
     "execution_count": 373,
     "metadata": {},
     "output_type": "execute_result"
    }
   ],
   "source": [
    "df[df['Age'].between(35,60)]"
   ]
  },
  {
   "cell_type": "code",
   "execution_count": 374,
   "id": "9124dec4-9d65-4a1b-941b-bb9f2aa5a026",
   "metadata": {},
   "outputs": [],
   "source": [
    "df['Category'] = df['Category'].map({'A':'X', 'B':'Y', 'C':'Z'})"
   ]
  },
  {
   "cell_type": "code",
   "execution_count": 375,
   "id": "01fe4eef-96c4-4f93-8fe4-98c28dde08bb",
   "metadata": {},
   "outputs": [
    {
     "data": {
      "text/plain": [
       "0     46\n",
       "1     59\n",
       "2     61\n",
       "3     29\n",
       "4     50\n",
       "5     68\n",
       "6     46\n",
       "7     61\n",
       "8     38\n",
       "9     32\n",
       "10    30\n",
       "11    61\n",
       "12    26\n",
       "Name: Age, dtype: int64"
      ]
     },
     "execution_count": 375,
     "metadata": {},
     "output_type": "execute_result"
    }
   ],
   "source": [
    "df['Age'].add(1)"
   ]
  },
  {
   "cell_type": "code",
   "execution_count": 376,
   "id": "9792f320-6bad-4a86-8caf-2b02f5b1c8fe",
   "metadata": {},
   "outputs": [
    {
     "data": {
      "text/plain": [
       "0     44\n",
       "1     57\n",
       "2     59\n",
       "3     27\n",
       "4     48\n",
       "5     66\n",
       "6     44\n",
       "7     59\n",
       "8     36\n",
       "9     30\n",
       "10    28\n",
       "11    59\n",
       "12    24\n",
       "Name: Age, dtype: int64"
      ]
     },
     "execution_count": 376,
     "metadata": {},
     "output_type": "execute_result"
    }
   ],
   "source": [
    "df['Age'].subtract(1)"
   ]
  },
  {
   "cell_type": "code",
   "execution_count": 377,
   "id": "10782126-5f51-4f60-b4f6-d95d8c243eed",
   "metadata": {},
   "outputs": [
    {
     "data": {
      "text/plain": [
       "0      90\n",
       "1     116\n",
       "2     120\n",
       "3      56\n",
       "4      98\n",
       "5     134\n",
       "6      90\n",
       "7     120\n",
       "8      74\n",
       "9      62\n",
       "10     58\n",
       "11    120\n",
       "12     50\n",
       "Name: Age, dtype: int64"
      ]
     },
     "execution_count": 377,
     "metadata": {},
     "output_type": "execute_result"
    }
   ],
   "source": [
    "df['Age'].multiply(2)"
   ]
  },
  {
   "cell_type": "code",
   "execution_count": 378,
   "id": "8563d743-7afe-449f-9d11-c7847a11ce83",
   "metadata": {},
   "outputs": [
    {
     "data": {
      "text/plain": [
       "0     22.5\n",
       "1     29.0\n",
       "2     30.0\n",
       "3     14.0\n",
       "4     24.5\n",
       "5     33.5\n",
       "6     22.5\n",
       "7     30.0\n",
       "8     18.5\n",
       "9     15.5\n",
       "10    14.5\n",
       "11    30.0\n",
       "12    12.5\n",
       "Name: Age, dtype: float64"
      ]
     },
     "execution_count": 378,
     "metadata": {},
     "output_type": "execute_result"
    }
   ],
   "source": [
    "df['Age'].div(2)"
   ]
  },
  {
   "cell_type": "code",
   "execution_count": 379,
   "id": "ec40911f-d970-4f78-8b16-8b676b4d741c",
   "metadata": {},
   "outputs": [
    {
     "data": {
      "text/plain": [
       "0     1\n",
       "1     0\n",
       "2     0\n",
       "3     0\n",
       "4     1\n",
       "5     1\n",
       "6     1\n",
       "7     0\n",
       "8     1\n",
       "9     1\n",
       "10    1\n",
       "11    0\n",
       "12    1\n",
       "Name: Age, dtype: int64"
      ]
     },
     "execution_count": 379,
     "metadata": {},
     "output_type": "execute_result"
    }
   ],
   "source": [
    "df['Age'].mod(2)"
   ]
  },
  {
   "cell_type": "code",
   "execution_count": 380,
   "id": "9617ff4e-0838-4289-aa95-899ea5b2d1bc",
   "metadata": {
    "scrolled": true
   },
   "outputs": [
    {
     "data": {
      "text/html": [
       "<div>\n",
       "<style scoped>\n",
       "    .dataframe tbody tr th:only-of-type {\n",
       "        vertical-align: middle;\n",
       "    }\n",
       "\n",
       "    .dataframe tbody tr th {\n",
       "        vertical-align: top;\n",
       "    }\n",
       "\n",
       "    .dataframe thead th {\n",
       "        text-align: right;\n",
       "    }\n",
       "</style>\n",
       "<table border=\"1\" class=\"dataframe\">\n",
       "  <thead>\n",
       "    <tr style=\"text-align: right;\">\n",
       "      <th></th>\n",
       "      <th>Full Name</th>\n",
       "      <th>Age</th>\n",
       "      <th>City</th>\n",
       "      <th>Salary</th>\n",
       "      <th>Date</th>\n",
       "      <th>Category</th>\n",
       "      <th>Age Category</th>\n",
       "    </tr>\n",
       "  </thead>\n",
       "  <tbody>\n",
       "    <tr>\n",
       "      <th>0</th>\n",
       "      <td>Alice</td>\n",
       "      <td>45</td>\n",
       "      <td>London</td>\n",
       "      <td>95445.00</td>\n",
       "      <td>2023-01-01</td>\n",
       "      <td>X</td>\n",
       "      <td>Middle Age</td>\n",
       "    </tr>\n",
       "    <tr>\n",
       "      <th>1</th>\n",
       "      <td>Bob</td>\n",
       "      <td>58</td>\n",
       "      <td>India</td>\n",
       "      <td>86235.00</td>\n",
       "      <td>2023-01-02</td>\n",
       "      <td>Y</td>\n",
       "      <td>Senior</td>\n",
       "    </tr>\n",
       "    <tr>\n",
       "      <th>2</th>\n",
       "      <td>Ash</td>\n",
       "      <td>60</td>\n",
       "      <td>Tokyo</td>\n",
       "      <td>62330.00</td>\n",
       "      <td>2023-01-03</td>\n",
       "      <td>Z</td>\n",
       "      <td>Senior</td>\n",
       "    </tr>\n",
       "    <tr>\n",
       "      <th>4</th>\n",
       "      <td>Eva</td>\n",
       "      <td>49</td>\n",
       "      <td>Berlin</td>\n",
       "      <td>65999.00</td>\n",
       "      <td>2023-01-05</td>\n",
       "      <td>Y</td>\n",
       "      <td>Middle Age</td>\n",
       "    </tr>\n",
       "    <tr>\n",
       "      <th>5</th>\n",
       "      <td>Frank</td>\n",
       "      <td>67</td>\n",
       "      <td>Paris</td>\n",
       "      <td>88320.00</td>\n",
       "      <td>2023-01-06</td>\n",
       "      <td>X</td>\n",
       "      <td>Senior</td>\n",
       "    </tr>\n",
       "    <tr>\n",
       "      <th>6</th>\n",
       "      <td>Grace</td>\n",
       "      <td>45</td>\n",
       "      <td>Berlin</td>\n",
       "      <td>57141.00</td>\n",
       "      <td>2023-01-07</td>\n",
       "      <td>Z</td>\n",
       "      <td>Middle Age</td>\n",
       "    </tr>\n",
       "    <tr>\n",
       "      <th>7</th>\n",
       "      <td>Hannah</td>\n",
       "      <td>60</td>\n",
       "      <td>London</td>\n",
       "      <td>65413.00</td>\n",
       "      <td>2023-01-08</td>\n",
       "      <td>Y</td>\n",
       "      <td>Senior</td>\n",
       "    </tr>\n",
       "    <tr>\n",
       "      <th>8</th>\n",
       "      <td>Ivan</td>\n",
       "      <td>37</td>\n",
       "      <td>Tokyo</td>\n",
       "      <td>87016.00</td>\n",
       "      <td>2023-01-09</td>\n",
       "      <td>X</td>\n",
       "      <td>Middle Age</td>\n",
       "    </tr>\n",
       "    <tr>\n",
       "      <th>11</th>\n",
       "      <td>Hannah</td>\n",
       "      <td>60</td>\n",
       "      <td>London</td>\n",
       "      <td>70425.23</td>\n",
       "      <td>2023-01-08</td>\n",
       "      <td>Y</td>\n",
       "      <td>Senior</td>\n",
       "    </tr>\n",
       "  </tbody>\n",
       "</table>\n",
       "</div>"
      ],
      "text/plain": [
       "   Full Name  Age    City    Salary        Date Category Age Category\n",
       "0      Alice   45  London  95445.00  2023-01-01        X   Middle Age\n",
       "1        Bob   58   India  86235.00  2023-01-02        Y       Senior\n",
       "2        Ash   60   Tokyo  62330.00  2023-01-03        Z       Senior\n",
       "4        Eva   49  Berlin  65999.00  2023-01-05        Y   Middle Age\n",
       "5      Frank   67   Paris  88320.00  2023-01-06        X       Senior\n",
       "6      Grace   45  Berlin  57141.00  2023-01-07        Z   Middle Age\n",
       "7     Hannah   60  London  65413.00  2023-01-08        Y       Senior\n",
       "8       Ivan   37   Tokyo  87016.00  2023-01-09        X   Middle Age\n",
       "11    Hannah   60  London  70425.23  2023-01-08        Y       Senior"
      ]
     },
     "execution_count": 380,
     "metadata": {},
     "output_type": "execute_result"
    }
   ],
   "source": [
    "df[df['Age'].ge(35)]"
   ]
  },
  {
   "cell_type": "code",
   "execution_count": 381,
   "id": "a9bd48a1-c65b-4c43-89ff-66ba01789b14",
   "metadata": {},
   "outputs": [
    {
     "data": {
      "text/plain": [
       "Index(['Y', 'X', 'Z'], dtype='object', name='Category')"
      ]
     },
     "execution_count": 381,
     "metadata": {},
     "output_type": "execute_result"
    }
   ],
   "source": [
    "df['Category'].value_counts().index"
   ]
  },
  {
   "cell_type": "code",
   "execution_count": 382,
   "id": "cc8e1b5c-fdf1-499f-a7ea-cd3c54be438e",
   "metadata": {},
   "outputs": [
    {
     "data": {
      "text/plain": [
       "array([6, 5, 2])"
      ]
     },
     "execution_count": 382,
     "metadata": {},
     "output_type": "execute_result"
    }
   ],
   "source": [
    "df['Category'].value_counts().values"
   ]
  },
  {
   "cell_type": "code",
   "execution_count": 383,
   "id": "c3b18d92-e474-4cff-8964-a5553aed4ac9",
   "metadata": {},
   "outputs": [
    {
     "data": {
      "text/html": [
       "<div>\n",
       "<style scoped>\n",
       "    .dataframe tbody tr th:only-of-type {\n",
       "        vertical-align: middle;\n",
       "    }\n",
       "\n",
       "    .dataframe tbody tr th {\n",
       "        vertical-align: top;\n",
       "    }\n",
       "\n",
       "    .dataframe thead th {\n",
       "        text-align: right;\n",
       "    }\n",
       "</style>\n",
       "<table border=\"1\" class=\"dataframe\">\n",
       "  <thead>\n",
       "    <tr style=\"text-align: right;\">\n",
       "      <th></th>\n",
       "      <th>Full Name</th>\n",
       "      <th>Age</th>\n",
       "      <th>City</th>\n",
       "      <th>Salary</th>\n",
       "      <th>Date</th>\n",
       "      <th>Category</th>\n",
       "      <th>Age Category</th>\n",
       "    </tr>\n",
       "  </thead>\n",
       "  <tbody>\n",
       "    <tr>\n",
       "      <th>0</th>\n",
       "      <td>Alice</td>\n",
       "      <td>45</td>\n",
       "      <td>London</td>\n",
       "      <td>95445.0</td>\n",
       "      <td>2023-01-01</td>\n",
       "      <td>X</td>\n",
       "      <td>Middle Age</td>\n",
       "    </tr>\n",
       "    <tr>\n",
       "      <th>3</th>\n",
       "      <td>David</td>\n",
       "      <td>28</td>\n",
       "      <td>Paris</td>\n",
       "      <td>46022.0</td>\n",
       "      <td>2023-01-04</td>\n",
       "      <td>X</td>\n",
       "      <td>Adult</td>\n",
       "    </tr>\n",
       "    <tr>\n",
       "      <th>5</th>\n",
       "      <td>Frank</td>\n",
       "      <td>67</td>\n",
       "      <td>Paris</td>\n",
       "      <td>88320.0</td>\n",
       "      <td>2023-01-06</td>\n",
       "      <td>X</td>\n",
       "      <td>Senior</td>\n",
       "    </tr>\n",
       "    <tr>\n",
       "      <th>8</th>\n",
       "      <td>Ivan</td>\n",
       "      <td>37</td>\n",
       "      <td>Tokyo</td>\n",
       "      <td>87016.0</td>\n",
       "      <td>2023-01-09</td>\n",
       "      <td>X</td>\n",
       "      <td>Middle Age</td>\n",
       "    </tr>\n",
       "    <tr>\n",
       "      <th>12</th>\n",
       "      <td>Deepak</td>\n",
       "      <td>25</td>\n",
       "      <td>Bengalore</td>\n",
       "      <td>60000.0</td>\n",
       "      <td>2025-07-30</td>\n",
       "      <td>X</td>\n",
       "      <td>Adult</td>\n",
       "    </tr>\n",
       "  </tbody>\n",
       "</table>\n",
       "</div>"
      ],
      "text/plain": [
       "   Full Name  Age       City   Salary        Date Category Age Category\n",
       "0      Alice   45     London  95445.0  2023-01-01        X   Middle Age\n",
       "3      David   28      Paris  46022.0  2023-01-04        X        Adult\n",
       "5      Frank   67      Paris  88320.0  2023-01-06        X       Senior\n",
       "8       Ivan   37      Tokyo  87016.0  2023-01-09        X   Middle Age\n",
       "12    Deepak   25  Bengalore  60000.0  2025-07-30        X        Adult"
      ]
     },
     "execution_count": 383,
     "metadata": {},
     "output_type": "execute_result"
    }
   ],
   "source": [
    "df[df['Category'] == \"X\"]"
   ]
  },
  {
   "cell_type": "code",
   "execution_count": 429,
   "id": "5ad5b232-5500-4617-b2d6-caa28f124900",
   "metadata": {},
   "outputs": [],
   "source": [
    "# Set pandas to display float values in decimal format\n",
    "#pd.set_option('display.float_format', '{:.2f}'.format)"
   ]
  },
  {
   "cell_type": "code",
   "execution_count": 384,
   "id": "9c1a4dac-c418-47ad-bfa3-d76dc4568bb4",
   "metadata": {},
   "outputs": [
    {
     "data": {
      "text/plain": [
       "Category\n",
       "X    95445.0\n",
       "Y    86235.0\n",
       "Z    62330.0\n",
       "Name: Salary, dtype: float64"
      ]
     },
     "execution_count": 384,
     "metadata": {},
     "output_type": "execute_result"
    }
   ],
   "source": [
    "df.groupby('Category')['Salary'].max()"
   ]
  },
  {
   "cell_type": "code",
   "execution_count": 385,
   "id": "b7b8a157-d1b9-49a6-8264-bd874e7d54de",
   "metadata": {},
   "outputs": [
    {
     "data": {
      "text/plain": [
       "City\n",
       "Bengalore     60000.00\n",
       "Berlin       180281.00\n",
       "India        144960.00\n",
       "London       231283.23\n",
       "Paris        134342.00\n",
       "Tokyo        149346.00\n",
       "Name: Salary, dtype: float64"
      ]
     },
     "execution_count": 385,
     "metadata": {},
     "output_type": "execute_result"
    }
   ],
   "source": [
    "city_salary = df.groupby('City')['Salary'].sum()\n",
    "city_salary"
   ]
  },
  {
   "cell_type": "code",
   "execution_count": 386,
   "id": "af04944d-5291-44d4-9033-11a011d1753f",
   "metadata": {},
   "outputs": [
    {
     "data": {
      "text/plain": [
       "Index(['Bengalore', 'Berlin', 'India', 'London', 'Paris', 'Tokyo'], dtype='object', name='City')"
      ]
     },
     "execution_count": 386,
     "metadata": {},
     "output_type": "execute_result"
    }
   ],
   "source": [
    "city_salary.index"
   ]
  },
  {
   "cell_type": "code",
   "execution_count": 387,
   "id": "e7a38004-f24f-4f9a-bfc7-2ded4ba3bb41",
   "metadata": {},
   "outputs": [
    {
     "data": {
      "text/plain": [
       "array([ 60000.  , 180281.  , 144960.  , 231283.23, 134342.  , 149346.  ])"
      ]
     },
     "execution_count": 387,
     "metadata": {},
     "output_type": "execute_result"
    }
   ],
   "source": [
    "city_salary.values"
   ]
  },
  {
   "cell_type": "code",
   "execution_count": 388,
   "id": "f0c92875-7633-4399-95f8-88c3e9af5406",
   "metadata": {},
   "outputs": [
    {
     "data": {
      "text/html": [
       "<div>\n",
       "<style scoped>\n",
       "    .dataframe tbody tr th:only-of-type {\n",
       "        vertical-align: middle;\n",
       "    }\n",
       "\n",
       "    .dataframe tbody tr th {\n",
       "        vertical-align: top;\n",
       "    }\n",
       "\n",
       "    .dataframe thead th {\n",
       "        text-align: right;\n",
       "    }\n",
       "</style>\n",
       "<table border=\"1\" class=\"dataframe\">\n",
       "  <thead>\n",
       "    <tr style=\"text-align: right;\">\n",
       "      <th></th>\n",
       "      <th>Age</th>\n",
       "    </tr>\n",
       "    <tr>\n",
       "      <th>City</th>\n",
       "      <th></th>\n",
       "    </tr>\n",
       "  </thead>\n",
       "  <tbody>\n",
       "    <tr>\n",
       "      <th>Bengalore</th>\n",
       "      <td>25.0</td>\n",
       "    </tr>\n",
       "    <tr>\n",
       "      <th>Berlin</th>\n",
       "      <td>41.0</td>\n",
       "    </tr>\n",
       "    <tr>\n",
       "      <th>India</th>\n",
       "      <td>44.5</td>\n",
       "    </tr>\n",
       "    <tr>\n",
       "      <th>London</th>\n",
       "      <td>55.0</td>\n",
       "    </tr>\n",
       "    <tr>\n",
       "      <th>Paris</th>\n",
       "      <td>47.5</td>\n",
       "    </tr>\n",
       "    <tr>\n",
       "      <th>Tokyo</th>\n",
       "      <td>48.5</td>\n",
       "    </tr>\n",
       "  </tbody>\n",
       "</table>\n",
       "</div>"
      ],
      "text/plain": [
       "            Age\n",
       "City           \n",
       "Bengalore  25.0\n",
       "Berlin     41.0\n",
       "India      44.5\n",
       "London     55.0\n",
       "Paris      47.5\n",
       "Tokyo      48.5"
      ]
     },
     "execution_count": 388,
     "metadata": {},
     "output_type": "execute_result"
    }
   ],
   "source": [
    "df.groupby('City').agg({'Age':'mean'})"
   ]
  },
  {
   "cell_type": "code",
   "execution_count": 389,
   "id": "1304a3ea-51dc-4cd7-893f-c8e21d991403",
   "metadata": {},
   "outputs": [
    {
     "data": {
      "text/html": [
       "<div>\n",
       "<style scoped>\n",
       "    .dataframe tbody tr th:only-of-type {\n",
       "        vertical-align: middle;\n",
       "    }\n",
       "\n",
       "    .dataframe tbody tr th {\n",
       "        vertical-align: top;\n",
       "    }\n",
       "\n",
       "    .dataframe thead th {\n",
       "        text-align: right;\n",
       "    }\n",
       "</style>\n",
       "<table border=\"1\" class=\"dataframe\">\n",
       "  <thead>\n",
       "    <tr style=\"text-align: right;\">\n",
       "      <th></th>\n",
       "      <th>Category</th>\n",
       "      <th>Age Category</th>\n",
       "      <th>Salary</th>\n",
       "    </tr>\n",
       "  </thead>\n",
       "  <tbody>\n",
       "    <tr>\n",
       "      <th>0</th>\n",
       "      <td>Y</td>\n",
       "      <td>Senior</td>\n",
       "      <td>222073.23</td>\n",
       "    </tr>\n",
       "    <tr>\n",
       "      <th>1</th>\n",
       "      <td>X</td>\n",
       "      <td>Middle Age</td>\n",
       "      <td>182461.00</td>\n",
       "    </tr>\n",
       "    <tr>\n",
       "      <th>2</th>\n",
       "      <td>Y</td>\n",
       "      <td>Adult</td>\n",
       "      <td>115866.00</td>\n",
       "    </tr>\n",
       "    <tr>\n",
       "      <th>3</th>\n",
       "      <td>X</td>\n",
       "      <td>Adult</td>\n",
       "      <td>106022.00</td>\n",
       "    </tr>\n",
       "    <tr>\n",
       "      <th>4</th>\n",
       "      <td>X</td>\n",
       "      <td>Senior</td>\n",
       "      <td>88320.00</td>\n",
       "    </tr>\n",
       "    <tr>\n",
       "      <th>5</th>\n",
       "      <td>Y</td>\n",
       "      <td>Middle Age</td>\n",
       "      <td>65999.00</td>\n",
       "    </tr>\n",
       "    <tr>\n",
       "      <th>6</th>\n",
       "      <td>Z</td>\n",
       "      <td>Senior</td>\n",
       "      <td>62330.00</td>\n",
       "    </tr>\n",
       "    <tr>\n",
       "      <th>7</th>\n",
       "      <td>Z</td>\n",
       "      <td>Middle Age</td>\n",
       "      <td>57141.00</td>\n",
       "    </tr>\n",
       "  </tbody>\n",
       "</table>\n",
       "</div>"
      ],
      "text/plain": [
       "  Category Age Category     Salary\n",
       "0        Y       Senior  222073.23\n",
       "1        X   Middle Age  182461.00\n",
       "2        Y        Adult  115866.00\n",
       "3        X        Adult  106022.00\n",
       "4        X       Senior   88320.00\n",
       "5        Y   Middle Age   65999.00\n",
       "6        Z       Senior   62330.00\n",
       "7        Z   Middle Age   57141.00"
      ]
     },
     "execution_count": 389,
     "metadata": {},
     "output_type": "execute_result"
    }
   ],
   "source": [
    "df.groupby(['Category','Age Category']).agg({\"Salary\":\"sum\"}).sort_values(by='Salary', ascending=False).reset_index()"
   ]
  },
  {
   "cell_type": "code",
   "execution_count": 390,
   "id": "bb0ba659-fcb7-4916-9330-f72711ce55bf",
   "metadata": {},
   "outputs": [
    {
     "data": {
      "text/html": [
       "<div>\n",
       "<style scoped>\n",
       "    .dataframe tbody tr th:only-of-type {\n",
       "        vertical-align: middle;\n",
       "    }\n",
       "\n",
       "    .dataframe tbody tr th {\n",
       "        vertical-align: top;\n",
       "    }\n",
       "\n",
       "    .dataframe thead th {\n",
       "        text-align: right;\n",
       "    }\n",
       "</style>\n",
       "<table border=\"1\" class=\"dataframe\">\n",
       "  <thead>\n",
       "    <tr style=\"text-align: right;\">\n",
       "      <th></th>\n",
       "      <th>Category</th>\n",
       "      <th>Age Category</th>\n",
       "      <th>Salary</th>\n",
       "      <th>Age</th>\n",
       "    </tr>\n",
       "  </thead>\n",
       "  <tbody>\n",
       "    <tr>\n",
       "      <th>0</th>\n",
       "      <td>X</td>\n",
       "      <td>Adult</td>\n",
       "      <td>106022.00</td>\n",
       "      <td>26.500000</td>\n",
       "    </tr>\n",
       "    <tr>\n",
       "      <th>1</th>\n",
       "      <td>X</td>\n",
       "      <td>Middle Age</td>\n",
       "      <td>182461.00</td>\n",
       "      <td>41.000000</td>\n",
       "    </tr>\n",
       "    <tr>\n",
       "      <th>2</th>\n",
       "      <td>X</td>\n",
       "      <td>Senior</td>\n",
       "      <td>88320.00</td>\n",
       "      <td>67.000000</td>\n",
       "    </tr>\n",
       "    <tr>\n",
       "      <th>3</th>\n",
       "      <td>Y</td>\n",
       "      <td>Adult</td>\n",
       "      <td>115866.00</td>\n",
       "      <td>30.000000</td>\n",
       "    </tr>\n",
       "    <tr>\n",
       "      <th>4</th>\n",
       "      <td>Y</td>\n",
       "      <td>Middle Age</td>\n",
       "      <td>65999.00</td>\n",
       "      <td>49.000000</td>\n",
       "    </tr>\n",
       "    <tr>\n",
       "      <th>5</th>\n",
       "      <td>Y</td>\n",
       "      <td>Senior</td>\n",
       "      <td>222073.23</td>\n",
       "      <td>59.333333</td>\n",
       "    </tr>\n",
       "    <tr>\n",
       "      <th>6</th>\n",
       "      <td>Z</td>\n",
       "      <td>Middle Age</td>\n",
       "      <td>57141.00</td>\n",
       "      <td>45.000000</td>\n",
       "    </tr>\n",
       "    <tr>\n",
       "      <th>7</th>\n",
       "      <td>Z</td>\n",
       "      <td>Senior</td>\n",
       "      <td>62330.00</td>\n",
       "      <td>60.000000</td>\n",
       "    </tr>\n",
       "  </tbody>\n",
       "</table>\n",
       "</div>"
      ],
      "text/plain": [
       "  Category Age Category     Salary        Age\n",
       "0        X        Adult  106022.00  26.500000\n",
       "1        X   Middle Age  182461.00  41.000000\n",
       "2        X       Senior   88320.00  67.000000\n",
       "3        Y        Adult  115866.00  30.000000\n",
       "4        Y   Middle Age   65999.00  49.000000\n",
       "5        Y       Senior  222073.23  59.333333\n",
       "6        Z   Middle Age   57141.00  45.000000\n",
       "7        Z       Senior   62330.00  60.000000"
      ]
     },
     "execution_count": 390,
     "metadata": {},
     "output_type": "execute_result"
    }
   ],
   "source": [
    "df.groupby(['Category','Age Category']).agg({\"Salary\":\"sum\", \"Age\":'mean'}).reset_index()"
   ]
  },
  {
   "cell_type": "code",
   "execution_count": 391,
   "id": "4f887b76-88bb-4d16-9d26-079f3ee61fbb",
   "metadata": {},
   "outputs": [
    {
     "data": {
      "text/html": [
       "<div>\n",
       "<style scoped>\n",
       "    .dataframe tbody tr th:only-of-type {\n",
       "        vertical-align: middle;\n",
       "    }\n",
       "\n",
       "    .dataframe tbody tr th {\n",
       "        vertical-align: top;\n",
       "    }\n",
       "\n",
       "    .dataframe thead tr th {\n",
       "        text-align: left;\n",
       "    }\n",
       "\n",
       "    .dataframe thead tr:last-of-type th {\n",
       "        text-align: right;\n",
       "    }\n",
       "</style>\n",
       "<table border=\"1\" class=\"dataframe\">\n",
       "  <thead>\n",
       "    <tr>\n",
       "      <th></th>\n",
       "      <th colspan=\"2\" halign=\"left\">Salary</th>\n",
       "      <th colspan=\"2\" halign=\"left\">Age</th>\n",
       "    </tr>\n",
       "    <tr>\n",
       "      <th></th>\n",
       "      <th>min</th>\n",
       "      <th>max</th>\n",
       "      <th>min</th>\n",
       "      <th>max</th>\n",
       "    </tr>\n",
       "    <tr>\n",
       "      <th>Age Category</th>\n",
       "      <th></th>\n",
       "      <th></th>\n",
       "      <th></th>\n",
       "      <th></th>\n",
       "    </tr>\n",
       "  </thead>\n",
       "  <tbody>\n",
       "    <tr>\n",
       "      <th>Adult</th>\n",
       "      <td>46022.0</td>\n",
       "      <td>60000.0</td>\n",
       "      <td>25</td>\n",
       "      <td>31</td>\n",
       "    </tr>\n",
       "    <tr>\n",
       "      <th>Middle Age</th>\n",
       "      <td>57141.0</td>\n",
       "      <td>95445.0</td>\n",
       "      <td>37</td>\n",
       "      <td>49</td>\n",
       "    </tr>\n",
       "    <tr>\n",
       "      <th>Senior</th>\n",
       "      <td>62330.0</td>\n",
       "      <td>88320.0</td>\n",
       "      <td>58</td>\n",
       "      <td>67</td>\n",
       "    </tr>\n",
       "  </tbody>\n",
       "</table>\n",
       "</div>"
      ],
      "text/plain": [
       "               Salary          Age    \n",
       "                  min      max min max\n",
       "Age Category                          \n",
       "Adult         46022.0  60000.0  25  31\n",
       "Middle Age    57141.0  95445.0  37  49\n",
       "Senior        62330.0  88320.0  58  67"
      ]
     },
     "execution_count": 391,
     "metadata": {},
     "output_type": "execute_result"
    }
   ],
   "source": [
    "category_salary_age = df.groupby('Age Category').agg({\"Salary\":[\"min\", \"max\"], \"Age\":[\"min\", \"max\"]})\n",
    "category_salary_age"
   ]
  },
  {
   "cell_type": "code",
   "execution_count": 392,
   "id": "f69ad95e-dc7a-460f-bb22-467bb45fff53",
   "metadata": {},
   "outputs": [
    {
     "data": {
      "text/plain": [
       "             Age Category\n",
       "Salary  min  Adult           46022.0\n",
       "             Middle Age      57141.0\n",
       "             Senior          62330.0\n",
       "        max  Adult           60000.0\n",
       "             Middle Age      95445.0\n",
       "             Senior          88320.0\n",
       "Age     min  Adult              25.0\n",
       "             Middle Age         37.0\n",
       "             Senior             58.0\n",
       "        max  Adult              31.0\n",
       "             Middle Age         49.0\n",
       "             Senior             67.0\n",
       "dtype: float64"
      ]
     },
     "execution_count": 392,
     "metadata": {},
     "output_type": "execute_result"
    }
   ],
   "source": [
    "category_salary_age.unstack()"
   ]
  },
  {
   "cell_type": "code",
   "execution_count": null,
   "id": "aea947b8-aa47-4cfd-93ed-d35352d82d64",
   "metadata": {},
   "outputs": [],
   "source": [
    "Numarical = df.select_dtypes(include=['int', 'float']).columns.tolist()\n",
    "Categorical = df.select_dtypes(exclude=['int', 'float']).columns.tolist()\n",
    "print(\"Numerical Columns: \", Numarical)\n",
    "print(\"Categorical Columns: \", Categorical)"
   ]
  },
  {
   "cell_type": "markdown",
   "id": "029400e6-0765-402d-aef1-79f27eae50e7",
   "metadata": {},
   "source": [
    "### **Merging and Joining**"
   ]
  },
  {
   "cell_type": "code",
   "execution_count": 393,
   "id": "e848cb7c-fd1d-4bb4-aa22-ee4d178b2ed5",
   "metadata": {},
   "outputs": [],
   "source": [
    "left_data = {\n",
    "    'ID': [1, 2, 3, 4, 5],\n",
    "    'Name': ['Alice', 'Bob', 'Charlie', 'David', 'Eva'],\n",
    "    'Age': [25, 30, 35, 28, 24],\n",
    "}\n",
    "\n",
    "left_df = pd.DataFrame(left_data)\n",
    "\n",
    "# Sample data for right DataFrame\n",
    "right_data = {\n",
    "    'ID': [1, 2, 4, 5, 6],\n",
    "    'City': ['New York', 'London', 'Paris', 'Berlin', 'Tokyo'],\n",
    "    'Salary': [60000, 75000, 62000, 57000, 80000],\n",
    "}\n",
    "\n",
    "right_df = pd.DataFrame(right_data)"
   ]
  },
  {
   "cell_type": "code",
   "execution_count": 394,
   "id": "b4dd54f0-316f-4865-a74a-44c0b76b61a9",
   "metadata": {},
   "outputs": [
    {
     "data": {
      "text/html": [
       "<div>\n",
       "<style scoped>\n",
       "    .dataframe tbody tr th:only-of-type {\n",
       "        vertical-align: middle;\n",
       "    }\n",
       "\n",
       "    .dataframe tbody tr th {\n",
       "        vertical-align: top;\n",
       "    }\n",
       "\n",
       "    .dataframe thead th {\n",
       "        text-align: right;\n",
       "    }\n",
       "</style>\n",
       "<table border=\"1\" class=\"dataframe\">\n",
       "  <thead>\n",
       "    <tr style=\"text-align: right;\">\n",
       "      <th></th>\n",
       "      <th>ID</th>\n",
       "      <th>Name</th>\n",
       "      <th>Age</th>\n",
       "    </tr>\n",
       "  </thead>\n",
       "  <tbody>\n",
       "    <tr>\n",
       "      <th>0</th>\n",
       "      <td>1</td>\n",
       "      <td>Alice</td>\n",
       "      <td>25</td>\n",
       "    </tr>\n",
       "    <tr>\n",
       "      <th>1</th>\n",
       "      <td>2</td>\n",
       "      <td>Bob</td>\n",
       "      <td>30</td>\n",
       "    </tr>\n",
       "    <tr>\n",
       "      <th>2</th>\n",
       "      <td>3</td>\n",
       "      <td>Charlie</td>\n",
       "      <td>35</td>\n",
       "    </tr>\n",
       "    <tr>\n",
       "      <th>3</th>\n",
       "      <td>4</td>\n",
       "      <td>David</td>\n",
       "      <td>28</td>\n",
       "    </tr>\n",
       "    <tr>\n",
       "      <th>4</th>\n",
       "      <td>5</td>\n",
       "      <td>Eva</td>\n",
       "      <td>24</td>\n",
       "    </tr>\n",
       "  </tbody>\n",
       "</table>\n",
       "</div>"
      ],
      "text/plain": [
       "   ID     Name  Age\n",
       "0   1    Alice   25\n",
       "1   2      Bob   30\n",
       "2   3  Charlie   35\n",
       "3   4    David   28\n",
       "4   5      Eva   24"
      ]
     },
     "execution_count": 394,
     "metadata": {},
     "output_type": "execute_result"
    }
   ],
   "source": [
    "left_df"
   ]
  },
  {
   "cell_type": "code",
   "execution_count": 395,
   "id": "d283acc7-9c89-44cc-b1d9-a80486f2a6e4",
   "metadata": {},
   "outputs": [
    {
     "data": {
      "text/html": [
       "<div>\n",
       "<style scoped>\n",
       "    .dataframe tbody tr th:only-of-type {\n",
       "        vertical-align: middle;\n",
       "    }\n",
       "\n",
       "    .dataframe tbody tr th {\n",
       "        vertical-align: top;\n",
       "    }\n",
       "\n",
       "    .dataframe thead th {\n",
       "        text-align: right;\n",
       "    }\n",
       "</style>\n",
       "<table border=\"1\" class=\"dataframe\">\n",
       "  <thead>\n",
       "    <tr style=\"text-align: right;\">\n",
       "      <th></th>\n",
       "      <th>ID</th>\n",
       "      <th>City</th>\n",
       "      <th>Salary</th>\n",
       "    </tr>\n",
       "  </thead>\n",
       "  <tbody>\n",
       "    <tr>\n",
       "      <th>0</th>\n",
       "      <td>1</td>\n",
       "      <td>New York</td>\n",
       "      <td>60000</td>\n",
       "    </tr>\n",
       "    <tr>\n",
       "      <th>1</th>\n",
       "      <td>2</td>\n",
       "      <td>London</td>\n",
       "      <td>75000</td>\n",
       "    </tr>\n",
       "    <tr>\n",
       "      <th>2</th>\n",
       "      <td>4</td>\n",
       "      <td>Paris</td>\n",
       "      <td>62000</td>\n",
       "    </tr>\n",
       "    <tr>\n",
       "      <th>3</th>\n",
       "      <td>5</td>\n",
       "      <td>Berlin</td>\n",
       "      <td>57000</td>\n",
       "    </tr>\n",
       "    <tr>\n",
       "      <th>4</th>\n",
       "      <td>6</td>\n",
       "      <td>Tokyo</td>\n",
       "      <td>80000</td>\n",
       "    </tr>\n",
       "  </tbody>\n",
       "</table>\n",
       "</div>"
      ],
      "text/plain": [
       "   ID      City  Salary\n",
       "0   1  New York   60000\n",
       "1   2    London   75000\n",
       "2   4     Paris   62000\n",
       "3   5    Berlin   57000\n",
       "4   6     Tokyo   80000"
      ]
     },
     "execution_count": 395,
     "metadata": {},
     "output_type": "execute_result"
    }
   ],
   "source": [
    "right_df"
   ]
  },
  {
   "cell_type": "code",
   "execution_count": 396,
   "id": "77406c34-8cfe-42f7-8f89-d401721a0589",
   "metadata": {},
   "outputs": [
    {
     "data": {
      "text/html": [
       "<div>\n",
       "<style scoped>\n",
       "    .dataframe tbody tr th:only-of-type {\n",
       "        vertical-align: middle;\n",
       "    }\n",
       "\n",
       "    .dataframe tbody tr th {\n",
       "        vertical-align: top;\n",
       "    }\n",
       "\n",
       "    .dataframe thead th {\n",
       "        text-align: right;\n",
       "    }\n",
       "</style>\n",
       "<table border=\"1\" class=\"dataframe\">\n",
       "  <thead>\n",
       "    <tr style=\"text-align: right;\">\n",
       "      <th></th>\n",
       "      <th>ID</th>\n",
       "      <th>Name</th>\n",
       "      <th>Age</th>\n",
       "      <th>City</th>\n",
       "      <th>Salary</th>\n",
       "    </tr>\n",
       "  </thead>\n",
       "  <tbody>\n",
       "    <tr>\n",
       "      <th>0</th>\n",
       "      <td>1</td>\n",
       "      <td>Alice</td>\n",
       "      <td>25</td>\n",
       "      <td>New York</td>\n",
       "      <td>60000</td>\n",
       "    </tr>\n",
       "    <tr>\n",
       "      <th>1</th>\n",
       "      <td>2</td>\n",
       "      <td>Bob</td>\n",
       "      <td>30</td>\n",
       "      <td>London</td>\n",
       "      <td>75000</td>\n",
       "    </tr>\n",
       "    <tr>\n",
       "      <th>2</th>\n",
       "      <td>4</td>\n",
       "      <td>David</td>\n",
       "      <td>28</td>\n",
       "      <td>Paris</td>\n",
       "      <td>62000</td>\n",
       "    </tr>\n",
       "    <tr>\n",
       "      <th>3</th>\n",
       "      <td>5</td>\n",
       "      <td>Eva</td>\n",
       "      <td>24</td>\n",
       "      <td>Berlin</td>\n",
       "      <td>57000</td>\n",
       "    </tr>\n",
       "  </tbody>\n",
       "</table>\n",
       "</div>"
      ],
      "text/plain": [
       "   ID   Name  Age      City  Salary\n",
       "0   1  Alice   25  New York   60000\n",
       "1   2    Bob   30    London   75000\n",
       "2   4  David   28     Paris   62000\n",
       "3   5    Eva   24    Berlin   57000"
      ]
     },
     "execution_count": 396,
     "metadata": {},
     "output_type": "execute_result"
    }
   ],
   "source": [
    "data3 = pd.merge(left_df, right_df, on='ID') ## defult inner join\n",
    "data3"
   ]
  },
  {
   "cell_type": "code",
   "execution_count": 397,
   "id": "cd09053e-7730-431b-874f-4125719a291a",
   "metadata": {},
   "outputs": [
    {
     "data": {
      "text/html": [
       "<div>\n",
       "<style scoped>\n",
       "    .dataframe tbody tr th:only-of-type {\n",
       "        vertical-align: middle;\n",
       "    }\n",
       "\n",
       "    .dataframe tbody tr th {\n",
       "        vertical-align: top;\n",
       "    }\n",
       "\n",
       "    .dataframe thead th {\n",
       "        text-align: right;\n",
       "    }\n",
       "</style>\n",
       "<table border=\"1\" class=\"dataframe\">\n",
       "  <thead>\n",
       "    <tr style=\"text-align: right;\">\n",
       "      <th></th>\n",
       "      <th>ID</th>\n",
       "      <th>Name</th>\n",
       "      <th>Age</th>\n",
       "      <th>City</th>\n",
       "      <th>Salary</th>\n",
       "    </tr>\n",
       "  </thead>\n",
       "  <tbody>\n",
       "    <tr>\n",
       "      <th>0</th>\n",
       "      <td>1</td>\n",
       "      <td>Alice</td>\n",
       "      <td>25</td>\n",
       "      <td>New York</td>\n",
       "      <td>60000</td>\n",
       "    </tr>\n",
       "    <tr>\n",
       "      <th>1</th>\n",
       "      <td>2</td>\n",
       "      <td>Bob</td>\n",
       "      <td>30</td>\n",
       "      <td>London</td>\n",
       "      <td>75000</td>\n",
       "    </tr>\n",
       "    <tr>\n",
       "      <th>2</th>\n",
       "      <td>4</td>\n",
       "      <td>David</td>\n",
       "      <td>28</td>\n",
       "      <td>Paris</td>\n",
       "      <td>62000</td>\n",
       "    </tr>\n",
       "    <tr>\n",
       "      <th>3</th>\n",
       "      <td>5</td>\n",
       "      <td>Eva</td>\n",
       "      <td>24</td>\n",
       "      <td>Berlin</td>\n",
       "      <td>57000</td>\n",
       "    </tr>\n",
       "  </tbody>\n",
       "</table>\n",
       "</div>"
      ],
      "text/plain": [
       "   ID   Name  Age      City  Salary\n",
       "0   1  Alice   25  New York   60000\n",
       "1   2    Bob   30    London   75000\n",
       "2   4  David   28     Paris   62000\n",
       "3   5    Eva   24    Berlin   57000"
      ]
     },
     "execution_count": 397,
     "metadata": {},
     "output_type": "execute_result"
    }
   ],
   "source": [
    "inner_join = pd.merge(left_df, right_df, on='ID', how='inner')\n",
    "inner_join"
   ]
  },
  {
   "cell_type": "code",
   "execution_count": 398,
   "id": "f101b222-fdfa-4b83-813f-50d14f79702c",
   "metadata": {},
   "outputs": [
    {
     "data": {
      "text/html": [
       "<div>\n",
       "<style scoped>\n",
       "    .dataframe tbody tr th:only-of-type {\n",
       "        vertical-align: middle;\n",
       "    }\n",
       "\n",
       "    .dataframe tbody tr th {\n",
       "        vertical-align: top;\n",
       "    }\n",
       "\n",
       "    .dataframe thead th {\n",
       "        text-align: right;\n",
       "    }\n",
       "</style>\n",
       "<table border=\"1\" class=\"dataframe\">\n",
       "  <thead>\n",
       "    <tr style=\"text-align: right;\">\n",
       "      <th></th>\n",
       "      <th>ID</th>\n",
       "      <th>Name</th>\n",
       "      <th>Age</th>\n",
       "      <th>City</th>\n",
       "      <th>Salary</th>\n",
       "    </tr>\n",
       "  </thead>\n",
       "  <tbody>\n",
       "    <tr>\n",
       "      <th>0</th>\n",
       "      <td>1</td>\n",
       "      <td>Alice</td>\n",
       "      <td>25.0</td>\n",
       "      <td>New York</td>\n",
       "      <td>60000.0</td>\n",
       "    </tr>\n",
       "    <tr>\n",
       "      <th>1</th>\n",
       "      <td>2</td>\n",
       "      <td>Bob</td>\n",
       "      <td>30.0</td>\n",
       "      <td>London</td>\n",
       "      <td>75000.0</td>\n",
       "    </tr>\n",
       "    <tr>\n",
       "      <th>2</th>\n",
       "      <td>3</td>\n",
       "      <td>Charlie</td>\n",
       "      <td>35.0</td>\n",
       "      <td>NaN</td>\n",
       "      <td>NaN</td>\n",
       "    </tr>\n",
       "    <tr>\n",
       "      <th>3</th>\n",
       "      <td>4</td>\n",
       "      <td>David</td>\n",
       "      <td>28.0</td>\n",
       "      <td>Paris</td>\n",
       "      <td>62000.0</td>\n",
       "    </tr>\n",
       "    <tr>\n",
       "      <th>4</th>\n",
       "      <td>5</td>\n",
       "      <td>Eva</td>\n",
       "      <td>24.0</td>\n",
       "      <td>Berlin</td>\n",
       "      <td>57000.0</td>\n",
       "    </tr>\n",
       "    <tr>\n",
       "      <th>5</th>\n",
       "      <td>6</td>\n",
       "      <td>NaN</td>\n",
       "      <td>NaN</td>\n",
       "      <td>Tokyo</td>\n",
       "      <td>80000.0</td>\n",
       "    </tr>\n",
       "  </tbody>\n",
       "</table>\n",
       "</div>"
      ],
      "text/plain": [
       "   ID     Name   Age      City   Salary\n",
       "0   1    Alice  25.0  New York  60000.0\n",
       "1   2      Bob  30.0    London  75000.0\n",
       "2   3  Charlie  35.0       NaN      NaN\n",
       "3   4    David  28.0     Paris  62000.0\n",
       "4   5      Eva  24.0    Berlin  57000.0\n",
       "5   6      NaN   NaN     Tokyo  80000.0"
      ]
     },
     "execution_count": 398,
     "metadata": {},
     "output_type": "execute_result"
    }
   ],
   "source": [
    "outer_join = pd.merge(left_df, right_df, on='ID', how ='outer') \n",
    "outer_join"
   ]
  },
  {
   "cell_type": "code",
   "execution_count": 399,
   "id": "878fa44f-cc2b-469e-b75a-3e9b556b72d0",
   "metadata": {},
   "outputs": [
    {
     "data": {
      "text/html": [
       "<div>\n",
       "<style scoped>\n",
       "    .dataframe tbody tr th:only-of-type {\n",
       "        vertical-align: middle;\n",
       "    }\n",
       "\n",
       "    .dataframe tbody tr th {\n",
       "        vertical-align: top;\n",
       "    }\n",
       "\n",
       "    .dataframe thead th {\n",
       "        text-align: right;\n",
       "    }\n",
       "</style>\n",
       "<table border=\"1\" class=\"dataframe\">\n",
       "  <thead>\n",
       "    <tr style=\"text-align: right;\">\n",
       "      <th></th>\n",
       "      <th>ID</th>\n",
       "      <th>Name</th>\n",
       "      <th>Age</th>\n",
       "      <th>City</th>\n",
       "      <th>Salary</th>\n",
       "    </tr>\n",
       "  </thead>\n",
       "  <tbody>\n",
       "    <tr>\n",
       "      <th>0</th>\n",
       "      <td>1</td>\n",
       "      <td>Alice</td>\n",
       "      <td>25</td>\n",
       "      <td>New York</td>\n",
       "      <td>60000.0</td>\n",
       "    </tr>\n",
       "    <tr>\n",
       "      <th>1</th>\n",
       "      <td>2</td>\n",
       "      <td>Bob</td>\n",
       "      <td>30</td>\n",
       "      <td>London</td>\n",
       "      <td>75000.0</td>\n",
       "    </tr>\n",
       "    <tr>\n",
       "      <th>2</th>\n",
       "      <td>3</td>\n",
       "      <td>Charlie</td>\n",
       "      <td>35</td>\n",
       "      <td>NaN</td>\n",
       "      <td>NaN</td>\n",
       "    </tr>\n",
       "    <tr>\n",
       "      <th>3</th>\n",
       "      <td>4</td>\n",
       "      <td>David</td>\n",
       "      <td>28</td>\n",
       "      <td>Paris</td>\n",
       "      <td>62000.0</td>\n",
       "    </tr>\n",
       "    <tr>\n",
       "      <th>4</th>\n",
       "      <td>5</td>\n",
       "      <td>Eva</td>\n",
       "      <td>24</td>\n",
       "      <td>Berlin</td>\n",
       "      <td>57000.0</td>\n",
       "    </tr>\n",
       "  </tbody>\n",
       "</table>\n",
       "</div>"
      ],
      "text/plain": [
       "   ID     Name  Age      City   Salary\n",
       "0   1    Alice   25  New York  60000.0\n",
       "1   2      Bob   30    London  75000.0\n",
       "2   3  Charlie   35       NaN      NaN\n",
       "3   4    David   28     Paris  62000.0\n",
       "4   5      Eva   24    Berlin  57000.0"
      ]
     },
     "execution_count": 399,
     "metadata": {},
     "output_type": "execute_result"
    }
   ],
   "source": [
    "left_join = pd.merge(left_df, right_df, on='ID', how ='left') \n",
    "left_join"
   ]
  },
  {
   "cell_type": "code",
   "execution_count": 400,
   "id": "35372b4e-4c4c-4ede-be56-09857eb2d7d7",
   "metadata": {},
   "outputs": [
    {
     "data": {
      "text/html": [
       "<div>\n",
       "<style scoped>\n",
       "    .dataframe tbody tr th:only-of-type {\n",
       "        vertical-align: middle;\n",
       "    }\n",
       "\n",
       "    .dataframe tbody tr th {\n",
       "        vertical-align: top;\n",
       "    }\n",
       "\n",
       "    .dataframe thead th {\n",
       "        text-align: right;\n",
       "    }\n",
       "</style>\n",
       "<table border=\"1\" class=\"dataframe\">\n",
       "  <thead>\n",
       "    <tr style=\"text-align: right;\">\n",
       "      <th></th>\n",
       "      <th>ID</th>\n",
       "      <th>Name</th>\n",
       "      <th>Age</th>\n",
       "      <th>City</th>\n",
       "      <th>Salary</th>\n",
       "    </tr>\n",
       "  </thead>\n",
       "  <tbody>\n",
       "    <tr>\n",
       "      <th>0</th>\n",
       "      <td>1</td>\n",
       "      <td>Alice</td>\n",
       "      <td>25.0</td>\n",
       "      <td>New York</td>\n",
       "      <td>60000</td>\n",
       "    </tr>\n",
       "    <tr>\n",
       "      <th>1</th>\n",
       "      <td>2</td>\n",
       "      <td>Bob</td>\n",
       "      <td>30.0</td>\n",
       "      <td>London</td>\n",
       "      <td>75000</td>\n",
       "    </tr>\n",
       "    <tr>\n",
       "      <th>2</th>\n",
       "      <td>4</td>\n",
       "      <td>David</td>\n",
       "      <td>28.0</td>\n",
       "      <td>Paris</td>\n",
       "      <td>62000</td>\n",
       "    </tr>\n",
       "    <tr>\n",
       "      <th>3</th>\n",
       "      <td>5</td>\n",
       "      <td>Eva</td>\n",
       "      <td>24.0</td>\n",
       "      <td>Berlin</td>\n",
       "      <td>57000</td>\n",
       "    </tr>\n",
       "    <tr>\n",
       "      <th>4</th>\n",
       "      <td>6</td>\n",
       "      <td>NaN</td>\n",
       "      <td>NaN</td>\n",
       "      <td>Tokyo</td>\n",
       "      <td>80000</td>\n",
       "    </tr>\n",
       "  </tbody>\n",
       "</table>\n",
       "</div>"
      ],
      "text/plain": [
       "   ID   Name   Age      City  Salary\n",
       "0   1  Alice  25.0  New York   60000\n",
       "1   2    Bob  30.0    London   75000\n",
       "2   4  David  28.0     Paris   62000\n",
       "3   5    Eva  24.0    Berlin   57000\n",
       "4   6    NaN   NaN     Tokyo   80000"
      ]
     },
     "execution_count": 400,
     "metadata": {},
     "output_type": "execute_result"
    }
   ],
   "source": [
    "right_join = pd.merge(left_df, right_df, on='ID', how ='right') \n",
    "right_join"
   ]
  },
  {
   "cell_type": "markdown",
   "id": "3a4d8cd6-5ed5-4117-af4f-3c10c26d1a6d",
   "metadata": {},
   "source": [
    "### **Pivote Table**"
   ]
  },
  {
   "cell_type": "code",
   "execution_count": 401,
   "id": "89fa5aae-a9cb-48d7-95a6-23255f18e49e",
   "metadata": {},
   "outputs": [
    {
     "data": {
      "text/html": [
       "<div>\n",
       "<style scoped>\n",
       "    .dataframe tbody tr th:only-of-type {\n",
       "        vertical-align: middle;\n",
       "    }\n",
       "\n",
       "    .dataframe tbody tr th {\n",
       "        vertical-align: top;\n",
       "    }\n",
       "\n",
       "    .dataframe thead th {\n",
       "        text-align: right;\n",
       "    }\n",
       "</style>\n",
       "<table border=\"1\" class=\"dataframe\">\n",
       "  <thead>\n",
       "    <tr style=\"text-align: right;\">\n",
       "      <th>Age Category</th>\n",
       "      <th>Adult</th>\n",
       "      <th>Middle Age</th>\n",
       "      <th>Senior</th>\n",
       "    </tr>\n",
       "    <tr>\n",
       "      <th>City</th>\n",
       "      <th></th>\n",
       "      <th></th>\n",
       "      <th></th>\n",
       "    </tr>\n",
       "  </thead>\n",
       "  <tbody>\n",
       "    <tr>\n",
       "      <th>Bengalore</th>\n",
       "      <td>60000.0</td>\n",
       "      <td>NaN</td>\n",
       "      <td>NaN</td>\n",
       "    </tr>\n",
       "    <tr>\n",
       "      <th>Berlin</th>\n",
       "      <td>57141.0</td>\n",
       "      <td>123140.0</td>\n",
       "      <td>NaN</td>\n",
       "    </tr>\n",
       "    <tr>\n",
       "      <th>India</th>\n",
       "      <td>58725.0</td>\n",
       "      <td>NaN</td>\n",
       "      <td>86235.00</td>\n",
       "    </tr>\n",
       "    <tr>\n",
       "      <th>London</th>\n",
       "      <td>NaN</td>\n",
       "      <td>95445.0</td>\n",
       "      <td>135838.23</td>\n",
       "    </tr>\n",
       "    <tr>\n",
       "      <th>Paris</th>\n",
       "      <td>46022.0</td>\n",
       "      <td>NaN</td>\n",
       "      <td>88320.00</td>\n",
       "    </tr>\n",
       "    <tr>\n",
       "      <th>Tokyo</th>\n",
       "      <td>NaN</td>\n",
       "      <td>87016.0</td>\n",
       "      <td>62330.00</td>\n",
       "    </tr>\n",
       "  </tbody>\n",
       "</table>\n",
       "</div>"
      ],
      "text/plain": [
       "Age Category    Adult  Middle Age     Senior\n",
       "City                                        \n",
       "Bengalore     60000.0         NaN        NaN\n",
       "Berlin        57141.0    123140.0        NaN\n",
       "India         58725.0         NaN   86235.00\n",
       "London            NaN     95445.0  135838.23\n",
       "Paris         46022.0         NaN   88320.00\n",
       "Tokyo             NaN     87016.0   62330.00"
      ]
     },
     "execution_count": 401,
     "metadata": {},
     "output_type": "execute_result"
    }
   ],
   "source": [
    "df.pivot_table(index='City', columns='Age Category', values='Salary', aggfunc='sum')"
   ]
  },
  {
   "cell_type": "code",
   "execution_count": 402,
   "id": "d0c13819-6b40-465e-aa3c-3a961acbb009",
   "metadata": {},
   "outputs": [
    {
     "data": {
      "text/html": [
       "<div>\n",
       "<style scoped>\n",
       "    .dataframe tbody tr th:only-of-type {\n",
       "        vertical-align: middle;\n",
       "    }\n",
       "\n",
       "    .dataframe tbody tr th {\n",
       "        vertical-align: top;\n",
       "    }\n",
       "\n",
       "    .dataframe thead th {\n",
       "        text-align: right;\n",
       "    }\n",
       "</style>\n",
       "<table border=\"1\" class=\"dataframe\">\n",
       "  <thead>\n",
       "    <tr style=\"text-align: right;\">\n",
       "      <th>Category</th>\n",
       "      <th>X</th>\n",
       "      <th>Y</th>\n",
       "      <th>Z</th>\n",
       "    </tr>\n",
       "    <tr>\n",
       "      <th>Full Name</th>\n",
       "      <th></th>\n",
       "      <th></th>\n",
       "      <th></th>\n",
       "    </tr>\n",
       "  </thead>\n",
       "  <tbody>\n",
       "    <tr>\n",
       "      <th>Alice</th>\n",
       "      <td>45.0</td>\n",
       "      <td>NaN</td>\n",
       "      <td>NaN</td>\n",
       "    </tr>\n",
       "    <tr>\n",
       "      <th>Ash</th>\n",
       "      <td>NaN</td>\n",
       "      <td>NaN</td>\n",
       "      <td>60.0</td>\n",
       "    </tr>\n",
       "    <tr>\n",
       "      <th>Bob</th>\n",
       "      <td>NaN</td>\n",
       "      <td>58.0</td>\n",
       "      <td>NaN</td>\n",
       "    </tr>\n",
       "    <tr>\n",
       "      <th>David</th>\n",
       "      <td>28.0</td>\n",
       "      <td>NaN</td>\n",
       "      <td>NaN</td>\n",
       "    </tr>\n",
       "    <tr>\n",
       "      <th>Deepak</th>\n",
       "      <td>25.0</td>\n",
       "      <td>NaN</td>\n",
       "      <td>NaN</td>\n",
       "    </tr>\n",
       "    <tr>\n",
       "      <th>Eva</th>\n",
       "      <td>NaN</td>\n",
       "      <td>49.0</td>\n",
       "      <td>NaN</td>\n",
       "    </tr>\n",
       "    <tr>\n",
       "      <th>Frank</th>\n",
       "      <td>67.0</td>\n",
       "      <td>NaN</td>\n",
       "      <td>NaN</td>\n",
       "    </tr>\n",
       "    <tr>\n",
       "      <th>Grace</th>\n",
       "      <td>NaN</td>\n",
       "      <td>29.0</td>\n",
       "      <td>45.0</td>\n",
       "    </tr>\n",
       "    <tr>\n",
       "      <th>Hannah</th>\n",
       "      <td>NaN</td>\n",
       "      <td>60.0</td>\n",
       "      <td>NaN</td>\n",
       "    </tr>\n",
       "    <tr>\n",
       "      <th>Ivan</th>\n",
       "      <td>37.0</td>\n",
       "      <td>NaN</td>\n",
       "      <td>NaN</td>\n",
       "    </tr>\n",
       "    <tr>\n",
       "      <th>Jack</th>\n",
       "      <td>NaN</td>\n",
       "      <td>31.0</td>\n",
       "      <td>NaN</td>\n",
       "    </tr>\n",
       "  </tbody>\n",
       "</table>\n",
       "</div>"
      ],
      "text/plain": [
       "Category      X     Y     Z\n",
       "Full Name                  \n",
       "Alice      45.0   NaN   NaN\n",
       "Ash         NaN   NaN  60.0\n",
       "Bob         NaN  58.0   NaN\n",
       "David      28.0   NaN   NaN\n",
       "Deepak     25.0   NaN   NaN\n",
       "Eva         NaN  49.0   NaN\n",
       "Frank      67.0   NaN   NaN\n",
       "Grace       NaN  29.0  45.0\n",
       "Hannah      NaN  60.0   NaN\n",
       "Ivan       37.0   NaN   NaN\n",
       "Jack        NaN  31.0   NaN"
      ]
     },
     "execution_count": 402,
     "metadata": {},
     "output_type": "execute_result"
    }
   ],
   "source": [
    "df.pivot_table(index='Full Name', columns='Category', values='Age', aggfunc='mean')"
   ]
  },
  {
   "cell_type": "code",
   "execution_count": 403,
   "id": "27297a12-af6c-4ae2-908b-4ac23abdbac0",
   "metadata": {},
   "outputs": [
    {
     "data": {
      "text/html": [
       "<div>\n",
       "<style scoped>\n",
       "    .dataframe tbody tr th:only-of-type {\n",
       "        vertical-align: middle;\n",
       "    }\n",
       "\n",
       "    .dataframe tbody tr th {\n",
       "        vertical-align: top;\n",
       "    }\n",
       "\n",
       "    .dataframe thead th {\n",
       "        text-align: right;\n",
       "    }\n",
       "</style>\n",
       "<table border=\"1\" class=\"dataframe\">\n",
       "  <thead>\n",
       "    <tr style=\"text-align: right;\">\n",
       "      <th>Category</th>\n",
       "      <th>X</th>\n",
       "      <th>Y</th>\n",
       "      <th>Z</th>\n",
       "    </tr>\n",
       "    <tr>\n",
       "      <th>Full Name</th>\n",
       "      <th></th>\n",
       "      <th></th>\n",
       "      <th></th>\n",
       "    </tr>\n",
       "  </thead>\n",
       "  <tbody>\n",
       "    <tr>\n",
       "      <th>Alice</th>\n",
       "      <td>95445.0</td>\n",
       "      <td>NaN</td>\n",
       "      <td>NaN</td>\n",
       "    </tr>\n",
       "    <tr>\n",
       "      <th>Ash</th>\n",
       "      <td>NaN</td>\n",
       "      <td>NaN</td>\n",
       "      <td>62330.0</td>\n",
       "    </tr>\n",
       "    <tr>\n",
       "      <th>Bob</th>\n",
       "      <td>NaN</td>\n",
       "      <td>86235.00</td>\n",
       "      <td>NaN</td>\n",
       "    </tr>\n",
       "    <tr>\n",
       "      <th>David</th>\n",
       "      <td>46022.0</td>\n",
       "      <td>NaN</td>\n",
       "      <td>NaN</td>\n",
       "    </tr>\n",
       "    <tr>\n",
       "      <th>Deepak</th>\n",
       "      <td>60000.0</td>\n",
       "      <td>NaN</td>\n",
       "      <td>NaN</td>\n",
       "    </tr>\n",
       "    <tr>\n",
       "      <th>Eva</th>\n",
       "      <td>NaN</td>\n",
       "      <td>65999.00</td>\n",
       "      <td>NaN</td>\n",
       "    </tr>\n",
       "    <tr>\n",
       "      <th>Frank</th>\n",
       "      <td>88320.0</td>\n",
       "      <td>NaN</td>\n",
       "      <td>NaN</td>\n",
       "    </tr>\n",
       "    <tr>\n",
       "      <th>Grace</th>\n",
       "      <td>NaN</td>\n",
       "      <td>57141.00</td>\n",
       "      <td>57141.0</td>\n",
       "    </tr>\n",
       "    <tr>\n",
       "      <th>Hannah</th>\n",
       "      <td>NaN</td>\n",
       "      <td>135838.23</td>\n",
       "      <td>NaN</td>\n",
       "    </tr>\n",
       "    <tr>\n",
       "      <th>Ivan</th>\n",
       "      <td>87016.0</td>\n",
       "      <td>NaN</td>\n",
       "      <td>NaN</td>\n",
       "    </tr>\n",
       "    <tr>\n",
       "      <th>Jack</th>\n",
       "      <td>NaN</td>\n",
       "      <td>58725.00</td>\n",
       "      <td>NaN</td>\n",
       "    </tr>\n",
       "  </tbody>\n",
       "</table>\n",
       "</div>"
      ],
      "text/plain": [
       "Category         X          Y        Z\n",
       "Full Name                             \n",
       "Alice      95445.0        NaN      NaN\n",
       "Ash            NaN        NaN  62330.0\n",
       "Bob            NaN   86235.00      NaN\n",
       "David      46022.0        NaN      NaN\n",
       "Deepak     60000.0        NaN      NaN\n",
       "Eva            NaN   65999.00      NaN\n",
       "Frank      88320.0        NaN      NaN\n",
       "Grace          NaN   57141.00  57141.0\n",
       "Hannah         NaN  135838.23      NaN\n",
       "Ivan       87016.0        NaN      NaN\n",
       "Jack           NaN   58725.00      NaN"
      ]
     },
     "execution_count": 403,
     "metadata": {},
     "output_type": "execute_result"
    }
   ],
   "source": [
    "cross_tab = pd.crosstab(index=df['Full Name'], columns=df['Category'], values=df['Salary'], aggfunc='sum')\n",
    "cross_tab"
   ]
  },
  {
   "cell_type": "markdown",
   "id": "b51b4935-0551-4265-9f05-557122cb6a8c",
   "metadata": {},
   "source": [
    "### **Time Series Analysis**"
   ]
  },
  {
   "cell_type": "code",
   "execution_count": 404,
   "id": "e77fd4f7-c68b-4dc5-8354-24dbc426f18c",
   "metadata": {},
   "outputs": [],
   "source": [
    "from datetime import datetime"
   ]
  },
  {
   "cell_type": "code",
   "execution_count": 405,
   "id": "9ba3566f-73ef-4fed-838d-d41b5a61dc47",
   "metadata": {},
   "outputs": [
    {
     "data": {
      "text/plain": [
       "datetime.datetime(2025, 7, 31, 12, 48, 58, 521328)"
      ]
     },
     "execution_count": 405,
     "metadata": {},
     "output_type": "execute_result"
    }
   ],
   "source": [
    "today = datetime.now()\n",
    "today"
   ]
  },
  {
   "cell_type": "code",
   "execution_count": 406,
   "id": "a858a859-fa3a-4d16-b4e7-9895392fa12f",
   "metadata": {},
   "outputs": [
    {
     "data": {
      "text/plain": [
       "2025"
      ]
     },
     "execution_count": 406,
     "metadata": {},
     "output_type": "execute_result"
    }
   ],
   "source": [
    "today.year"
   ]
  },
  {
   "cell_type": "code",
   "execution_count": 407,
   "id": "fd2f06d8-b753-45a8-adf5-1891c3c2d80e",
   "metadata": {},
   "outputs": [
    {
     "data": {
      "text/plain": [
       "7"
      ]
     },
     "execution_count": 407,
     "metadata": {},
     "output_type": "execute_result"
    }
   ],
   "source": [
    "today.month"
   ]
  },
  {
   "cell_type": "code",
   "execution_count": 408,
   "id": "72951cf5-e946-4f5b-90ae-0cd72beac6e5",
   "metadata": {},
   "outputs": [
    {
     "data": {
      "text/plain": [
       "31"
      ]
     },
     "execution_count": 408,
     "metadata": {},
     "output_type": "execute_result"
    }
   ],
   "source": [
    "today.day"
   ]
  },
  {
   "cell_type": "code",
   "execution_count": 409,
   "id": "8fd73f17-59f4-4e42-bda0-81d29b97381c",
   "metadata": {},
   "outputs": [
    {
     "data": {
      "text/plain": [
       "12"
      ]
     },
     "execution_count": 409,
     "metadata": {},
     "output_type": "execute_result"
    }
   ],
   "source": [
    "today.hour"
   ]
  },
  {
   "cell_type": "code",
   "execution_count": 410,
   "id": "f75fa789-4f8e-4db8-a62d-bd1ed95eb257",
   "metadata": {},
   "outputs": [
    {
     "data": {
      "text/plain": [
       "'2025-07-31'"
      ]
     },
     "execution_count": 410,
     "metadata": {},
     "output_type": "execute_result"
    }
   ],
   "source": [
    "date = today.strftime('%Y-%m-%d')\n",
    "date"
   ]
  },
  {
   "cell_type": "code",
   "execution_count": 411,
   "id": "12ad13b9-fd3a-47a9-b81a-740f70d1dbaf",
   "metadata": {},
   "outputs": [
    {
     "data": {
      "text/plain": [
       "'Thursday 31-07-2025'"
      ]
     },
     "execution_count": 411,
     "metadata": {},
     "output_type": "execute_result"
    }
   ],
   "source": [
    "date = today.strftime('%A %d-%m-%Y')\n",
    "date"
   ]
  },
  {
   "cell_type": "code",
   "execution_count": 412,
   "id": "7c04cb8a-52e7-4aa1-84dc-468b0bf1f746",
   "metadata": {},
   "outputs": [
    {
     "data": {
      "text/plain": [
       "'Thu 31-07-2025'"
      ]
     },
     "execution_count": 412,
     "metadata": {},
     "output_type": "execute_result"
    }
   ],
   "source": [
    "date = today.strftime('%a %d-%m-%Y')\n",
    "date"
   ]
  },
  {
   "cell_type": "code",
   "execution_count": 413,
   "id": "a971f10f-40b9-49a2-96d2-2a3522a61bd4",
   "metadata": {},
   "outputs": [
    {
     "data": {
      "text/plain": [
       "'Thu 31-July-2025'"
      ]
     },
     "execution_count": 413,
     "metadata": {},
     "output_type": "execute_result"
    }
   ],
   "source": [
    "date = today.strftime('%a %d-%B-%Y')\n",
    "date"
   ]
  },
  {
   "cell_type": "code",
   "execution_count": 414,
   "id": "44473eae-7504-4d76-b353-89fe2e046117",
   "metadata": {},
   "outputs": [
    {
     "data": {
      "text/plain": [
       "'Thu 31-Jul-2025'"
      ]
     },
     "execution_count": 414,
     "metadata": {},
     "output_type": "execute_result"
    }
   ],
   "source": [
    "date = today.strftime('%a %d-%b-%Y')\n",
    "date"
   ]
  },
  {
   "cell_type": "code",
   "execution_count": 415,
   "id": "5417c6c9-0874-4cbb-a990-c277f09aaee6",
   "metadata": {},
   "outputs": [
    {
     "data": {
      "text/plain": [
       "Index(['Full Name', 'Age', 'City', 'Salary', 'Date', 'Category',\n",
       "       'Age Category'],\n",
       "      dtype='object')"
      ]
     },
     "execution_count": 415,
     "metadata": {},
     "output_type": "execute_result"
    }
   ],
   "source": [
    "df.columns"
   ]
  },
  {
   "cell_type": "code",
   "execution_count": 416,
   "id": "47dc29c1-29f7-4ef2-b1a6-009f9c73b7ea",
   "metadata": {},
   "outputs": [
    {
     "data": {
      "text/plain": [
       "dtype('O')"
      ]
     },
     "execution_count": 416,
     "metadata": {},
     "output_type": "execute_result"
    }
   ],
   "source": [
    "df.Date.dtype"
   ]
  },
  {
   "cell_type": "code",
   "execution_count": 417,
   "id": "8679465c-2b16-4b28-9ffd-c84bc605d0bf",
   "metadata": {},
   "outputs": [
    {
     "data": {
      "text/plain": [
       "0     2023\n",
       "1     2023\n",
       "2     2023\n",
       "3     2023\n",
       "4     2023\n",
       "5     2023\n",
       "6     2023\n",
       "7     2023\n",
       "8     2023\n",
       "9     2023\n",
       "10    2023\n",
       "11    2023\n",
       "12    2025\n",
       "Name: Date, dtype: int32"
      ]
     },
     "execution_count": 417,
     "metadata": {},
     "output_type": "execute_result"
    }
   ],
   "source": [
    "pd.to_datetime(df['Date']).dt.year"
   ]
  },
  {
   "cell_type": "code",
   "execution_count": 418,
   "id": "df1da14e-f6ba-4699-a84a-c5748bc216ed",
   "metadata": {},
   "outputs": [
    {
     "data": {
      "text/plain": [
       "0    2023-01-01\n",
       "1    2023-01-02\n",
       "2    2023-01-03\n",
       "3    2023-01-04\n",
       "4    2023-01-05\n",
       "5    2023-01-06\n",
       "6    2023-01-07\n",
       "7    2023-01-08\n",
       "8    2023-01-09\n",
       "9    2023-01-10\n",
       "10   2023-01-07\n",
       "11   2023-01-08\n",
       "12   2025-07-30\n",
       "Name: Date, dtype: datetime64[ns]"
      ]
     },
     "execution_count": 418,
     "metadata": {},
     "output_type": "execute_result"
    }
   ],
   "source": [
    "df['Date'] = pd.to_datetime(df['Date'], format='%Y-%m-%d')\n",
    "df['Date'] = pd.DatetimeIndex(df['Date'])\n",
    "df['Date']"
   ]
  },
  {
   "cell_type": "code",
   "execution_count": 419,
   "id": "bfb62f3f-361c-47f6-9e5d-4afa49c5a50a",
   "metadata": {},
   "outputs": [
    {
     "data": {
      "text/plain": [
       "0     2023\n",
       "1     2023\n",
       "2     2023\n",
       "3     2023\n",
       "4     2023\n",
       "5     2023\n",
       "6     2023\n",
       "7     2023\n",
       "8     2023\n",
       "9     2023\n",
       "10    2023\n",
       "11    2023\n",
       "12    2025\n",
       "Name: Date, dtype: int32"
      ]
     },
     "execution_count": 419,
     "metadata": {},
     "output_type": "execute_result"
    }
   ],
   "source": [
    "df['Date'].dt.year"
   ]
  },
  {
   "cell_type": "code",
   "execution_count": 420,
   "id": "8a4891ff-6b64-4b7e-ba3a-dc46772586e3",
   "metadata": {},
   "outputs": [
    {
     "data": {
      "text/plain": [
       "0     1\n",
       "1     1\n",
       "2     1\n",
       "3     1\n",
       "4     1\n",
       "5     1\n",
       "6     1\n",
       "7     1\n",
       "8     1\n",
       "9     1\n",
       "10    1\n",
       "11    1\n",
       "12    7\n",
       "Name: Date, dtype: int32"
      ]
     },
     "execution_count": 420,
     "metadata": {},
     "output_type": "execute_result"
    }
   ],
   "source": [
    "df['Date'].dt.month"
   ]
  },
  {
   "cell_type": "code",
   "execution_count": 421,
   "id": "bbcdadee-3980-4e27-aa51-3629336d8c26",
   "metadata": {},
   "outputs": [
    {
     "data": {
      "text/plain": [
       "0      1\n",
       "1      2\n",
       "2      3\n",
       "3      4\n",
       "4      5\n",
       "5      6\n",
       "6      7\n",
       "7      8\n",
       "8      9\n",
       "9     10\n",
       "10     7\n",
       "11     8\n",
       "12    30\n",
       "Name: Date, dtype: int32"
      ]
     },
     "execution_count": 421,
     "metadata": {},
     "output_type": "execute_result"
    }
   ],
   "source": [
    "df['Date'].dt.day"
   ]
  },
  {
   "cell_type": "code",
   "execution_count": 422,
   "id": "1b135379-3e7c-4454-bba3-cb0ee4d9e3aa",
   "metadata": {},
   "outputs": [],
   "source": [
    "df['Year_Gap'] = today.year - df['Date'].dt.year"
   ]
  },
  {
   "cell_type": "code",
   "execution_count": 423,
   "id": "6d84dcfe-4caf-47b5-b07a-026ac26b80a1",
   "metadata": {},
   "outputs": [
    {
     "data": {
      "text/html": [
       "<div>\n",
       "<style scoped>\n",
       "    .dataframe tbody tr th:only-of-type {\n",
       "        vertical-align: middle;\n",
       "    }\n",
       "\n",
       "    .dataframe tbody tr th {\n",
       "        vertical-align: top;\n",
       "    }\n",
       "\n",
       "    .dataframe thead th {\n",
       "        text-align: right;\n",
       "    }\n",
       "</style>\n",
       "<table border=\"1\" class=\"dataframe\">\n",
       "  <thead>\n",
       "    <tr style=\"text-align: right;\">\n",
       "      <th></th>\n",
       "      <th>Full Name</th>\n",
       "      <th>Age</th>\n",
       "      <th>City</th>\n",
       "      <th>Salary</th>\n",
       "      <th>Date</th>\n",
       "      <th>Category</th>\n",
       "      <th>Age Category</th>\n",
       "      <th>Year_Gap</th>\n",
       "    </tr>\n",
       "  </thead>\n",
       "  <tbody>\n",
       "    <tr>\n",
       "      <th>0</th>\n",
       "      <td>Alice</td>\n",
       "      <td>45</td>\n",
       "      <td>London</td>\n",
       "      <td>95445.00</td>\n",
       "      <td>2023-01-01</td>\n",
       "      <td>X</td>\n",
       "      <td>Middle Age</td>\n",
       "      <td>2</td>\n",
       "    </tr>\n",
       "    <tr>\n",
       "      <th>1</th>\n",
       "      <td>Bob</td>\n",
       "      <td>58</td>\n",
       "      <td>India</td>\n",
       "      <td>86235.00</td>\n",
       "      <td>2023-01-02</td>\n",
       "      <td>Y</td>\n",
       "      <td>Senior</td>\n",
       "      <td>2</td>\n",
       "    </tr>\n",
       "    <tr>\n",
       "      <th>2</th>\n",
       "      <td>Ash</td>\n",
       "      <td>60</td>\n",
       "      <td>Tokyo</td>\n",
       "      <td>62330.00</td>\n",
       "      <td>2023-01-03</td>\n",
       "      <td>Z</td>\n",
       "      <td>Senior</td>\n",
       "      <td>2</td>\n",
       "    </tr>\n",
       "    <tr>\n",
       "      <th>3</th>\n",
       "      <td>David</td>\n",
       "      <td>28</td>\n",
       "      <td>Paris</td>\n",
       "      <td>46022.00</td>\n",
       "      <td>2023-01-04</td>\n",
       "      <td>X</td>\n",
       "      <td>Adult</td>\n",
       "      <td>2</td>\n",
       "    </tr>\n",
       "    <tr>\n",
       "      <th>4</th>\n",
       "      <td>Eva</td>\n",
       "      <td>49</td>\n",
       "      <td>Berlin</td>\n",
       "      <td>65999.00</td>\n",
       "      <td>2023-01-05</td>\n",
       "      <td>Y</td>\n",
       "      <td>Middle Age</td>\n",
       "      <td>2</td>\n",
       "    </tr>\n",
       "    <tr>\n",
       "      <th>5</th>\n",
       "      <td>Frank</td>\n",
       "      <td>67</td>\n",
       "      <td>Paris</td>\n",
       "      <td>88320.00</td>\n",
       "      <td>2023-01-06</td>\n",
       "      <td>X</td>\n",
       "      <td>Senior</td>\n",
       "      <td>2</td>\n",
       "    </tr>\n",
       "    <tr>\n",
       "      <th>6</th>\n",
       "      <td>Grace</td>\n",
       "      <td>45</td>\n",
       "      <td>Berlin</td>\n",
       "      <td>57141.00</td>\n",
       "      <td>2023-01-07</td>\n",
       "      <td>Z</td>\n",
       "      <td>Middle Age</td>\n",
       "      <td>2</td>\n",
       "    </tr>\n",
       "    <tr>\n",
       "      <th>7</th>\n",
       "      <td>Hannah</td>\n",
       "      <td>60</td>\n",
       "      <td>London</td>\n",
       "      <td>65413.00</td>\n",
       "      <td>2023-01-08</td>\n",
       "      <td>Y</td>\n",
       "      <td>Senior</td>\n",
       "      <td>2</td>\n",
       "    </tr>\n",
       "    <tr>\n",
       "      <th>8</th>\n",
       "      <td>Ivan</td>\n",
       "      <td>37</td>\n",
       "      <td>Tokyo</td>\n",
       "      <td>87016.00</td>\n",
       "      <td>2023-01-09</td>\n",
       "      <td>X</td>\n",
       "      <td>Middle Age</td>\n",
       "      <td>2</td>\n",
       "    </tr>\n",
       "    <tr>\n",
       "      <th>9</th>\n",
       "      <td>Jack</td>\n",
       "      <td>31</td>\n",
       "      <td>India</td>\n",
       "      <td>58725.00</td>\n",
       "      <td>2023-01-10</td>\n",
       "      <td>Y</td>\n",
       "      <td>Adult</td>\n",
       "      <td>2</td>\n",
       "    </tr>\n",
       "    <tr>\n",
       "      <th>10</th>\n",
       "      <td>Grace</td>\n",
       "      <td>29</td>\n",
       "      <td>Berlin</td>\n",
       "      <td>57141.00</td>\n",
       "      <td>2023-01-07</td>\n",
       "      <td>Y</td>\n",
       "      <td>Adult</td>\n",
       "      <td>2</td>\n",
       "    </tr>\n",
       "    <tr>\n",
       "      <th>11</th>\n",
       "      <td>Hannah</td>\n",
       "      <td>60</td>\n",
       "      <td>London</td>\n",
       "      <td>70425.23</td>\n",
       "      <td>2023-01-08</td>\n",
       "      <td>Y</td>\n",
       "      <td>Senior</td>\n",
       "      <td>2</td>\n",
       "    </tr>\n",
       "    <tr>\n",
       "      <th>12</th>\n",
       "      <td>Deepak</td>\n",
       "      <td>25</td>\n",
       "      <td>Bengalore</td>\n",
       "      <td>60000.00</td>\n",
       "      <td>2025-07-30</td>\n",
       "      <td>X</td>\n",
       "      <td>Adult</td>\n",
       "      <td>0</td>\n",
       "    </tr>\n",
       "  </tbody>\n",
       "</table>\n",
       "</div>"
      ],
      "text/plain": [
       "   Full Name  Age       City    Salary       Date Category Age Category  \\\n",
       "0      Alice   45     London  95445.00 2023-01-01        X   Middle Age   \n",
       "1        Bob   58      India  86235.00 2023-01-02        Y       Senior   \n",
       "2        Ash   60      Tokyo  62330.00 2023-01-03        Z       Senior   \n",
       "3      David   28      Paris  46022.00 2023-01-04        X        Adult   \n",
       "4        Eva   49     Berlin  65999.00 2023-01-05        Y   Middle Age   \n",
       "5      Frank   67      Paris  88320.00 2023-01-06        X       Senior   \n",
       "6      Grace   45     Berlin  57141.00 2023-01-07        Z   Middle Age   \n",
       "7     Hannah   60     London  65413.00 2023-01-08        Y       Senior   \n",
       "8       Ivan   37      Tokyo  87016.00 2023-01-09        X   Middle Age   \n",
       "9       Jack   31      India  58725.00 2023-01-10        Y        Adult   \n",
       "10     Grace   29     Berlin  57141.00 2023-01-07        Y        Adult   \n",
       "11    Hannah   60     London  70425.23 2023-01-08        Y       Senior   \n",
       "12    Deepak   25  Bengalore  60000.00 2025-07-30        X        Adult   \n",
       "\n",
       "    Year_Gap  \n",
       "0          2  \n",
       "1          2  \n",
       "2          2  \n",
       "3          2  \n",
       "4          2  \n",
       "5          2  \n",
       "6          2  \n",
       "7          2  \n",
       "8          2  \n",
       "9          2  \n",
       "10         2  \n",
       "11         2  \n",
       "12         0  "
      ]
     },
     "execution_count": 423,
     "metadata": {},
     "output_type": "execute_result"
    }
   ],
   "source": [
    "df"
   ]
  },
  {
   "cell_type": "code",
   "execution_count": 424,
   "id": "dc205ddc-97a9-4c12-b606-5246bb342f96",
   "metadata": {},
   "outputs": [
    {
     "data": {
      "text/plain": [
       "DatetimeIndex(['2025-07-31', '2025-08-31', '2025-09-30', '2025-10-31',\n",
       "               '2025-11-30', '2025-12-31', '2026-01-31', '2026-02-28',\n",
       "               '2026-03-31', '2026-04-30', '2026-05-31', '2026-06-30',\n",
       "               '2026-07-31'],\n",
       "              dtype='datetime64[ns]', freq='ME')"
      ]
     },
     "execution_count": 424,
     "metadata": {},
     "output_type": "execute_result"
    }
   ],
   "source": [
    "present_date = pd.date_range(start='31-07-2025', periods=13, freq='M')\n",
    "present_date"
   ]
  },
  {
   "cell_type": "code",
   "execution_count": 425,
   "id": "f40b99d3-1d91-4162-90a9-5edf9693bb9d",
   "metadata": {},
   "outputs": [
    {
     "data": {
      "text/plain": [
       "DatetimeIndex(['2025-12-31', '2026-12-31', '2027-12-31', '2028-12-31',\n",
       "               '2029-12-31', '2030-12-31', '2031-12-31', '2032-12-31',\n",
       "               '2033-12-31', '2034-12-31', '2035-12-31', '2036-12-31',\n",
       "               '2037-12-31'],\n",
       "              dtype='datetime64[ns]', freq='YE-DEC')"
      ]
     },
     "execution_count": 425,
     "metadata": {},
     "output_type": "execute_result"
    }
   ],
   "source": [
    "present_date = pd.date_range(start='31-07-2025', periods=13, freq='y')\n",
    "present_date"
   ]
  },
  {
   "cell_type": "code",
   "execution_count": 426,
   "id": "5516ff07-0f33-430a-9b4c-715a51d51a5d",
   "metadata": {},
   "outputs": [
    {
     "data": {
      "text/plain": [
       "DatetimeIndex(['2025-07-31', '2025-08-01', '2025-08-02', '2025-08-03',\n",
       "               '2025-08-04', '2025-08-05', '2025-08-06', '2025-08-07',\n",
       "               '2025-08-08', '2025-08-09', '2025-08-10', '2025-08-11',\n",
       "               '2025-08-12'],\n",
       "              dtype='datetime64[ns]', freq='D')"
      ]
     },
     "execution_count": 426,
     "metadata": {},
     "output_type": "execute_result"
    }
   ],
   "source": [
    "present_date = pd.date_range(start='31-07-2025', periods=13, freq='d')\n",
    "present_date"
   ]
  },
  {
   "cell_type": "code",
   "execution_count": 427,
   "id": "d28ab5f2-6e1e-40fb-b635-b190e8388315",
   "metadata": {},
   "outputs": [
    {
     "name": "stdout",
     "output_type": "stream",
     "text": [
      "    August 2025\n",
      "Mo Tu We Th Fr Sa Su\n",
      "             1  2  3\n",
      " 4  5  6  7  8  9 10\n",
      "11 12 13 14 15 16 17\n",
      "18 19 20 21 22 23 24\n",
      "25 26 27 28 29 30 31\n",
      "\n"
     ]
    }
   ],
   "source": [
    "import calendar\n",
    "print(calendar.month(2025,8))"
   ]
  },
  {
   "cell_type": "code",
   "execution_count": 428,
   "id": "8098ba06-742d-40f3-8d58-78c6b1fdc507",
   "metadata": {},
   "outputs": [
    {
     "name": "stdout",
     "output_type": "stream",
     "text": [
      "                                  2026\n",
      "\n",
      "      January                   February                   March\n",
      "Mo Tu We Th Fr Sa Su      Mo Tu We Th Fr Sa Su      Mo Tu We Th Fr Sa Su\n",
      "          1  2  3  4                         1                         1\n",
      " 5  6  7  8  9 10 11       2  3  4  5  6  7  8       2  3  4  5  6  7  8\n",
      "12 13 14 15 16 17 18       9 10 11 12 13 14 15       9 10 11 12 13 14 15\n",
      "19 20 21 22 23 24 25      16 17 18 19 20 21 22      16 17 18 19 20 21 22\n",
      "26 27 28 29 30 31         23 24 25 26 27 28         23 24 25 26 27 28 29\n",
      "                                                    30 31\n",
      "\n",
      "       April                      May                       June\n",
      "Mo Tu We Th Fr Sa Su      Mo Tu We Th Fr Sa Su      Mo Tu We Th Fr Sa Su\n",
      "       1  2  3  4  5                   1  2  3       1  2  3  4  5  6  7\n",
      " 6  7  8  9 10 11 12       4  5  6  7  8  9 10       8  9 10 11 12 13 14\n",
      "13 14 15 16 17 18 19      11 12 13 14 15 16 17      15 16 17 18 19 20 21\n",
      "20 21 22 23 24 25 26      18 19 20 21 22 23 24      22 23 24 25 26 27 28\n",
      "27 28 29 30               25 26 27 28 29 30 31      29 30\n",
      "\n",
      "        July                     August                  September\n",
      "Mo Tu We Th Fr Sa Su      Mo Tu We Th Fr Sa Su      Mo Tu We Th Fr Sa Su\n",
      "       1  2  3  4  5                      1  2          1  2  3  4  5  6\n",
      " 6  7  8  9 10 11 12       3  4  5  6  7  8  9       7  8  9 10 11 12 13\n",
      "13 14 15 16 17 18 19      10 11 12 13 14 15 16      14 15 16 17 18 19 20\n",
      "20 21 22 23 24 25 26      17 18 19 20 21 22 23      21 22 23 24 25 26 27\n",
      "27 28 29 30 31            24 25 26 27 28 29 30      28 29 30\n",
      "                          31\n",
      "\n",
      "      October                   November                  December\n",
      "Mo Tu We Th Fr Sa Su      Mo Tu We Th Fr Sa Su      Mo Tu We Th Fr Sa Su\n",
      "          1  2  3  4                         1          1  2  3  4  5  6\n",
      " 5  6  7  8  9 10 11       2  3  4  5  6  7  8       7  8  9 10 11 12 13\n",
      "12 13 14 15 16 17 18       9 10 11 12 13 14 15      14 15 16 17 18 19 20\n",
      "19 20 21 22 23 24 25      16 17 18 19 20 21 22      21 22 23 24 25 26 27\n",
      "26 27 28 29 30 31         23 24 25 26 27 28 29      28 29 30 31\n",
      "                          30\n"
     ]
    }
   ],
   "source": [
    "calendar.prcal(2026)"
   ]
  },
  {
   "cell_type": "code",
   "execution_count": null,
   "id": "e01aca98-1d24-4515-ac38-d15083650019",
   "metadata": {},
   "outputs": [],
   "source": []
  }
 ],
 "metadata": {
  "kernelspec": {
   "display_name": "Python 3",
   "language": "python",
   "name": "python3"
  },
  "language_info": {
   "codemirror_mode": {
    "name": "ipython",
    "version": 3
   },
   "file_extension": ".py",
   "mimetype": "text/x-python",
   "name": "python",
   "nbconvert_exporter": "python",
   "pygments_lexer": "ipython3",
   "version": "3.13.1"
  }
 },
 "nbformat": 4,
 "nbformat_minor": 5
}
